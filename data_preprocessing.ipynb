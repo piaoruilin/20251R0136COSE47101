{
  "nbformat": 4,
  "nbformat_minor": 0,
  "metadata": {
    "colab": {
      "provenance": [],
      "authorship_tag": "ABX9TyMsG/XUpyH/543wSg9SbMc5",
      "include_colab_link": true
    },
    "kernelspec": {
      "name": "python3",
      "display_name": "Python 3"
    },
    "language_info": {
      "name": "python"
    }
  },
  "cells": [
    {
      "cell_type": "markdown",
      "metadata": {
        "id": "view-in-github",
        "colab_type": "text"
      },
      "source": [
        "<a href=\"https://colab.research.google.com/github/piaoruilin/20251R0136COSE47101/blob/main/data_preprocessing.ipynb\" target=\"_parent\"><img src=\"https://colab.research.google.com/assets/colab-badge.svg\" alt=\"Open In Colab\"/></a>"
      ]
    },
    {
      "cell_type": "code",
      "source": [
        "!pip install python-dotenv"
      ],
      "metadata": {
        "colab": {
          "base_uri": "https://localhost:8080/"
        },
        "id": "GpSS_eoBeUB5",
        "outputId": "8375dabe-8cd2-43c2-dd38-3c65ff7276e2"
      },
      "execution_count": null,
      "outputs": [
        {
          "output_type": "stream",
          "name": "stdout",
          "text": [
            "Collecting python-dotenv\n",
            "  Downloading python_dotenv-1.1.0-py3-none-any.whl.metadata (24 kB)\n",
            "Downloading python_dotenv-1.1.0-py3-none-any.whl (20 kB)\n",
            "Installing collected packages: python-dotenv\n",
            "Successfully installed python-dotenv-1.1.0\n"
          ]
        }
      ]
    },
    {
      "cell_type": "markdown",
      "source": [
        "# 1. 데이터에서 원하는 열만 추출"
      ],
      "metadata": {
        "id": "Y4MApWVGdtkG"
      }
    },
    {
      "cell_type": "code",
      "execution_count": null,
      "metadata": {
        "colab": {
          "base_uri": "https://localhost:8080/"
        },
        "id": "2sTXU4WqiY6w",
        "outputId": "9b0651a6-74ca-4ba8-cd28-06665a1c2490"
      },
      "outputs": [
        {
          "output_type": "stream",
          "name": "stdout",
          "text": [
            "파일 '/content/2025-05-20_global_alltime.xlsx'에서 다음 열들을 성공적으로 추출했습니다:\n",
            "['week', 'category', 'show_title', 'weekly_hours_viewed', 'runtime', 'weekly_views', 'cumulative_weeks_in_top_10']\n",
            "\n",
            "추출된 DataFrame (df) 정보:\n",
            "<class 'pandas.core.frame.DataFrame'>\n",
            "RangeIndex: 8080 entries, 0 to 8079\n",
            "Data columns (total 7 columns):\n",
            " #   Column                      Non-Null Count  Dtype  \n",
            "---  ------                      --------------  -----  \n",
            " 0   week                        8080 non-null   object \n",
            " 1   category                    8080 non-null   object \n",
            " 2   show_title                  8080 non-null   object \n",
            " 3   weekly_hours_viewed         8080 non-null   int64  \n",
            " 4   runtime                     4000 non-null   float64\n",
            " 5   weekly_views                4000 non-null   float64\n",
            " 6   cumulative_weeks_in_top_10  8080 non-null   int64  \n",
            "dtypes: float64(2), int64(2), object(3)\n",
            "memory usage: 442.0+ KB\n",
            "\n",
            "DataFrame (df)의 처음 5행:\n",
            "         week         category                  show_title  \\\n",
            "0  2025-05-11  Films (English)                      Nonnas   \n",
            "1  2025-05-11  Films (English)     Inside Man: Most Wanted   \n",
            "2  2025-05-11  Films (English)  A Deadly American Marriage   \n",
            "3  2025-05-11  Films (English)                       Havoc   \n",
            "4  2025-05-11  Films (English)                    Twilight   \n",
            "\n",
            "   weekly_hours_viewed  runtime  weekly_views  cumulative_weeks_in_top_10  \n",
            "0             29000000   1.9000    15300000.0                           1  \n",
            "1             21800000   1.7667    12300000.0                           1  \n",
            "2             16900000   1.7167     9800000.0                           1  \n",
            "3             16300000   1.7833     9100000.0                           3  \n",
            "4              8700000   2.0333     4300000.0                           4  \n"
          ]
        }
      ],
      "source": [
        "import pandas as pd\n",
        "\n",
        "file_path = '/content/2025-05-20_global_alltime.xlsx' # tudum top-10 엑셀 파일 불러오기\n",
        "\n",
        "columns_to_extract = [\n",
        "    'week',\n",
        "    'category',\n",
        "    'show_title',\n",
        "    'weekly_hours_viewed',\n",
        "    'runtime',\n",
        "    'weekly_views',\n",
        "    'cumulative_weeks_in_top_10'\n",
        "]\n",
        "\n",
        "try:\n",
        "    df = pd.read_excel(file_path, usecols=columns_to_extract)\n",
        "\n",
        "    print(f\"파일 '{file_path}'에서 다음 열들을 성공적으로 추출했습니다:\")\n",
        "    print(columns_to_extract)\n",
        "\n",
        "    print(\"\\n추출된 DataFrame (df) 정보:\")\n",
        "    df.info()\n",
        "\n",
        "    print(\"\\nDataFrame (df)의 처음 5행:\")\n",
        "    print(df.head())\n",
        "\n",
        "except FileNotFoundError:\n",
        "    print(f\"오류: 파일 '{file_path}'을(를) 찾을 수 없습니다.\")\n",
        "    print(\"파일 경로가 올바른지, 파일 이름에 오타가 없는지 확인해주세요.\")\n",
        "    print(\"Google Drive를 사용하는 경우, Drive가 올바르게 마운트되었는지 확인해주세요.\")\n",
        "    print(\"Colab 왼쪽에 있는 '파일' 탭에서 파일 위치를 직접 확인할 수 있습니다.\")\n",
        "except ValueError as e:\n",
        "\n",
        "    print(f\"\\n오류 발생: {e}\")\n",
        "    print(\"엑셀 파일에 요청한 열들이 모두 존재하는지, 열 이름이 정확한지 확인해주세요.\")\n",
        "    print(f\"요청한 열: {columns_to_extract}\")\n",
        "\n",
        "except Exception as e:\n",
        "    print(f\"\\n엑셀 파일을 읽는 중 예상치 못한 오류가 발생했습니다: {e}\")"
      ]
    },
    {
      "cell_type": "markdown",
      "source": [
        "# 2. API를 통해 영화/프로그램 이름과 TMDB ID를 매칭"
      ],
      "metadata": {
        "id": "TN8aXB0Hd8qp"
      }
    },
    {
      "cell_type": "code",
      "source": [
        "import requests\n",
        "from tqdm import tqdm\n",
        "import os\n",
        "from dotenv import load_dotenv\n",
        "\n",
        "# .env 파일에서 api키 받아오기 (tmdb api 키 필요)\n",
        "load_dotenv()\n",
        "API_KEY = os.getenv('API_KEY')\n",
        "\n",
        "print(f\"API Key loaded: {API_KEY[:5]}...\" if API_KEY else \"No API key found\")\n",
        "\n",
        "df['id'] = pd.NA\n",
        "\n",
        "headers = {\n",
        "    \"accept\": \"application/json\",\n",
        "    \"Authorization\": f\"Bearer {API_KEY}\"\n",
        "}\n",
        "\n",
        "for index, row in tqdm(df.iterrows(), total=df.shape[0], desc=\"Fetching TMDB IDs\"):\n",
        "    title_from_df = str(row.show_title)\n",
        "    category = row.category\n",
        "    url = None\n",
        "    api_title_key = None\n",
        "\n",
        "    encoded_title = requests.utils.quote(title_from_df)\n",
        "\n",
        "    if category == \"Films (English)\" or category == \"Films (Non-English)\":\n",
        "        url = f\"https://api.themoviedb.org/3/search/movie?query={encoded_title}&include_adult=true&language=en-US&page=1\"\n",
        "        api_title_key = 'title'\n",
        "    elif category == \"TV (English)\" or category == \"TV (Non-English)\":\n",
        "        url = f\"https://api.themoviedb.org/3/search/tv?query={encoded_title}&include_adult=true&language=en-US&page=1\"\n",
        "        api_title_key = 'name'\n",
        "    else:\n",
        "        tqdm.write(f\"카테고리 오류. DF Title: '{title_from_df}', Category: {row.category}\")\n",
        "        continue\n",
        "\n",
        "    try:\n",
        "        response = requests.get(url, headers=headers, timeout=10)\n",
        "        response.raise_for_status()\n",
        "\n",
        "        response_data = response.json()\n",
        "        match_found_in_results = False\n",
        "\n",
        "        if response_data.get('results'):\n",
        "            for result_item in response_data['results']:\n",
        "                if api_title_key in result_item and 'id' in result_item:\n",
        "                    api_title = str(result_item[api_title_key])\n",
        "                    api_id = result_item['id']\n",
        "\n",
        "                    if title_from_df.lower() == api_title.lower():\n",
        "                        df.loc[index, 'id'] = api_id\n",
        "                        match_found_in_results = True\n",
        "                        break\n",
        "                else:\n",
        "                    tqdm.write(f\"  Malformed result for '{title_from_df}': Lacks '{api_title_key}' or 'id'. Item: {result_item}\")\n",
        "\n",
        "\n",
        "            if not match_found_in_results and response_data['results']:\n",
        "                first_api_title_candidate = str(response_data['results'][0].get(api_title_key, \"N/A\"))\n",
        "                tqdm.write(f\"  Title mismatch for '{title_from_df}'. Searched API, but no exact match. First API candidate: '{first_api_title_candidate}' (ID not added).\")\n",
        "            elif not response_data['results']:\n",
        "                 tqdm.write(f\"  No items in 'results' list from API for '{title_from_df}'\")\n",
        "\n",
        "\n",
        "        else:\n",
        "            tqdm.write(f\"  No 'results' key or empty results in API response for '{title_from_df}'\")\n",
        "\n",
        "        # time.sleep(0.1) # 100ms delay\n",
        "\n",
        "    except requests.exceptions.HTTPError as e:\n",
        "        tqdm.write(f\"  HTTP error for '{title_from_df}': {e.response.status_code} {e.response.reason}. URL: {url}\")\n",
        "    except requests.exceptions.RequestException as e:\n",
        "        tqdm.write(f\"  API request failed for '{title_from_df}': {e}. URL: {url}\")\n",
        "    except ValueError as e:\n",
        "        tqdm.write(f\"  Failed to decode JSON for '{title_from_df}': {e}. URL: {url}\")\n",
        "    except Exception as e:\n",
        "        tqdm.write(f\"  An unexpected error occurred for '{title_from_df}': {e}. URL: {url}\")\n",
        "\n",
        "\n",
        "print(\"\\nFinal DataFrame with 'id' column:\")\n",
        "print(df)\n",
        "print(\"\\nID column data type:\")\n",
        "print(df['id'].dtype)\n",
        "\n",
        "print(\"\\nValue counts for 'id' column (including NAs):\")\n",
        "print(df['id'].value_counts(dropna=False))"
      ],
      "metadata": {
        "colab": {
          "base_uri": "https://localhost:8080/"
        },
        "id": "1P_x7ptXk0Bi",
        "outputId": "dd577d38-16bb-41e4-d175-3e403079e4f4"
      },
      "execution_count": 3,
      "outputs": [
        {
          "metadata": {
            "tags": null
          },
          "name": "stdout",
          "output_type": "stream",
          "text": [
            "API Key loaded: eyJhb...\n"
          ]
        },
        {
          "metadata": {
            "tags": null
          },
          "name": "stderr",
          "output_type": "stream",
          "text": [
            "Fetching TMDB IDs:   1%|          | 96/8080 [00:09<14:48,  8.98it/s]"
          ]
        },
        {
          "metadata": {
            "tags": null
          },
          "name": "stdout",
          "output_type": "stream",
          "text": [
            "  Title mismatch for 'Court: State vs A Nobody'. Searched API, but no exact match. First API candidate: 'Court: State vs. A Nobody' (ID not added).\n"
          ]
        },
        {
          "metadata": {
            "tags": null
          },
          "name": "stderr",
          "output_type": "stream",
          "text": [
            "Fetching TMDB IDs:   1%|▏         | 101/8080 [00:09<14:00,  9.50it/s]"
          ]
        },
        {
          "metadata": {
            "tags": null
          },
          "name": "stdout",
          "output_type": "stream",
          "text": [
            "  Title mismatch for 'Sin instrucciones'. Searched API, but no exact match. First API candidate: 'Babies Don't Come with Instructions' (ID not added).\n"
          ]
        },
        {
          "metadata": {
            "tags": null
          },
          "name": "stderr",
          "output_type": "stream",
          "text": [
            "Fetching TMDB IDs:   1%|▏         | 108/8080 [00:10<10:12, 13.02it/s]"
          ]
        },
        {
          "metadata": {
            "tags": null
          },
          "name": "stdout",
          "output_type": "stream",
          "text": [
            "  Title mismatch for 'Special Ops: Lioness'. Searched API, but no exact match. First API candidate: 'Lioness' (ID not added).\n"
          ]
        },
        {
          "metadata": {
            "tags": null
          },
          "name": "stderr",
          "output_type": "stream",
          "text": [
            "Fetching TMDB IDs:   2%|▏         | 137/8080 [00:12<11:47, 11.23it/s]"
          ]
        },
        {
          "metadata": {
            "tags": null
          },
          "name": "stdout",
          "output_type": "stream",
          "text": [
            "  Title mismatch for 'Court: State vs A Nobody'. Searched API, but no exact match. First API candidate: 'Court: State vs. A Nobody' (ID not added).\n"
          ]
        },
        {
          "metadata": {
            "tags": null
          },
          "name": "stderr",
          "output_type": "stream",
          "text": [
            "Fetching TMDB IDs:   2%|▏         | 148/8080 [00:13<11:43, 11.28it/s]"
          ]
        },
        {
          "metadata": {
            "tags": null
          },
          "name": "stdout",
          "output_type": "stream",
          "text": [
            "  Title mismatch for 'Special Ops: Lioness'. Searched API, but no exact match. First API candidate: 'Lioness' (ID not added).\n"
          ]
        },
        {
          "metadata": {
            "tags": null
          },
          "name": "stderr",
          "output_type": "stream",
          "text": [
            "Fetching TMDB IDs:   2%|▏         | 159/8080 [00:14<10:43, 12.31it/s]"
          ]
        },
        {
          "metadata": {
            "tags": null
          },
          "name": "stdout",
          "output_type": "stream",
          "text": [
            "  Title mismatch for 'Kian’s Bizarre B&B'. Searched API, but no exact match. First API candidate: 'Kian's Bizarre B&B' (ID not added).\n"
          ]
        },
        {
          "metadata": {
            "tags": null
          },
          "name": "stderr",
          "output_type": "stream",
          "text": [
            "Fetching TMDB IDs:   2%|▏         | 177/8080 [00:15<11:23, 11.56it/s]"
          ]
        },
        {
          "metadata": {
            "tags": null
          },
          "name": "stdout",
          "output_type": "stream",
          "text": [
            "  Title mismatch for 'Court: State vs A Nobody'. Searched API, but no exact match. First API candidate: 'Court: State vs. A Nobody' (ID not added).\n"
          ]
        },
        {
          "metadata": {
            "tags": null
          },
          "name": "stderr",
          "output_type": "stream",
          "text": [
            "Fetching TMDB IDs:   2%|▏         | 198/8080 [00:17<09:19, 14.09it/s]"
          ]
        },
        {
          "metadata": {
            "tags": null
          },
          "name": "stdout",
          "output_type": "stream",
          "text": [
            "  Title mismatch for 'Kian’s Bizarre B&B'. Searched API, but no exact match. First API candidate: 'Kian's Bizarre B&B' (ID not added).\n"
          ]
        },
        {
          "metadata": {
            "tags": null
          },
          "name": "stderr",
          "output_type": "stream",
          "text": [
            "Fetching TMDB IDs:   3%|▎         | 258/8080 [00:21<10:41, 12.20it/s]"
          ]
        },
        {
          "metadata": {
            "tags": null
          },
          "name": "stdout",
          "output_type": "stream",
          "text": [
            "  Title mismatch for 'Nosso Sonho'. Searched API, but no exact match. First API candidate: 'Our Dream' (ID not added).\n"
          ]
        },
        {
          "metadata": {
            "tags": null
          },
          "name": "stderr",
          "output_type": "stream",
          "text": [
            "Fetching TMDB IDs:   3%|▎         | 274/8080 [00:23<09:54, 13.13it/s]"
          ]
        },
        {
          "metadata": {
            "tags": null
          },
          "name": "stdout",
          "output_type": "stream",
          "text": [
            "  No 'results' key or empty results in API response for 'Chelsea Handler: The Feeling'\n"
          ]
        },
        {
          "metadata": {
            "tags": null
          },
          "name": "stderr",
          "output_type": "stream",
          "text": [
            "Fetching TMDB IDs:   4%|▍         | 312/8080 [00:26<09:48, 13.20it/s]"
          ]
        },
        {
          "metadata": {
            "tags": null
          },
          "name": "stdout",
          "output_type": "stream",
          "text": [
            "  No 'results' key or empty results in API response for 'Bert Kreischer: Lucky'\n"
          ]
        },
        {
          "metadata": {
            "tags": null
          },
          "name": "stderr",
          "output_type": "stream",
          "text": [
            "Fetching TMDB IDs:   5%|▍         | 389/8080 [00:32<10:12, 12.56it/s]"
          ]
        },
        {
          "metadata": {
            "tags": null
          },
          "name": "stdout",
          "output_type": "stream",
          "text": [
            "  No 'results' key or empty results in API response for 'Andrew Schulz: LIFE'\n"
          ]
        },
        {
          "metadata": {
            "tags": null
          },
          "name": "stderr",
          "output_type": "stream",
          "text": [
            "Fetching TMDB IDs:   5%|▌         | 430/8080 [00:35<09:21, 13.62it/s]"
          ]
        },
        {
          "metadata": {
            "tags": null
          },
          "name": "stdout",
          "output_type": "stream",
          "text": [
            "  No 'results' key or empty results in API response for 'The 31st Annual Screen Actors Guild Awards'\n"
          ]
        },
        {
          "metadata": {
            "tags": null
          },
          "name": "stderr",
          "output_type": "stream",
          "text": [
            "Fetching TMDB IDs:   6%|▌         | 490/8080 [00:40<11:21, 11.13it/s]"
          ]
        },
        {
          "metadata": {
            "tags": null
          },
          "name": "stdout",
          "output_type": "stream",
          "text": [
            "  Title mismatch for 'Mission: Impossible - Dead Reckoning'. Searched API, but no exact match. First API candidate: 'Mission: Impossible - Dead Reckoning Part One' (ID not added).\n"
          ]
        },
        {
          "metadata": {
            "tags": null
          },
          "name": "stderr",
          "output_type": "stream",
          "text": [
            "Fetching TMDB IDs:   7%|▋         | 527/8080 [00:43<09:51, 12.78it/s]"
          ]
        },
        {
          "metadata": {
            "tags": null
          },
          "name": "stdout",
          "output_type": "stream",
          "text": [
            "  No 'results' key or empty results in API response for 'Spider-Man: No Way Home (Extended Version)'\n"
          ]
        },
        {
          "metadata": {
            "tags": null
          },
          "name": "stderr",
          "output_type": "stream",
          "text": [
            "Fetching TMDB IDs:   7%|▋         | 533/8080 [00:43<11:34, 10.86it/s]"
          ]
        },
        {
          "metadata": {
            "tags": null
          },
          "name": "stdout",
          "output_type": "stream",
          "text": [
            "  No 'results' key or empty results in API response for 'Pushpa 2: The Rule (Reloaded Version)'\n"
          ]
        },
        {
          "metadata": {
            "tags": null
          },
          "name": "stderr",
          "output_type": "stream",
          "text": [
            "Fetching TMDB IDs:   7%|▋         | 574/8080 [00:46<09:59, 12.51it/s]"
          ]
        },
        {
          "metadata": {
            "tags": null
          },
          "name": "stdout",
          "output_type": "stream",
          "text": [
            "  No 'results' key or empty results in API response for 'Pushpa 2: The Rule (Reloaded Version)'\n"
          ]
        },
        {
          "metadata": {
            "tags": null
          },
          "name": "stderr",
          "output_type": "stream",
          "text": [
            "Fetching TMDB IDs:   7%|▋         | 578/8080 [00:47<11:32, 10.84it/s]"
          ]
        },
        {
          "metadata": {
            "tags": null
          },
          "name": "stdout",
          "output_type": "stream",
          "text": [
            "  No 'results' key or empty results in API response for 'Tout le bleu du ciel'\n",
            "  Title mismatch for 'Chantal im Märchenland'. Searched API, but no exact match. First API candidate: 'Chantal in Fairyland' (ID not added).\n"
          ]
        },
        {
          "metadata": {
            "tags": null
          },
          "name": "stderr",
          "output_type": "stream",
          "text": [
            "Fetching TMDB IDs:   7%|▋         | 593/8080 [00:48<08:03, 15.48it/s]"
          ]
        },
        {
          "metadata": {
            "tags": null
          },
          "name": "stdout",
          "output_type": "stream",
          "text": [
            "  Title mismatch for 'Royal Rumble'. Searched API, but no exact match. First API candidate: 'WWE Royal Rumble' (ID not added).\n"
          ]
        },
        {
          "metadata": {
            "tags": null
          },
          "name": "stderr",
          "output_type": "stream",
          "text": [
            "Fetching TMDB IDs:   7%|▋         | 597/8080 [00:48<09:12, 13.54it/s]"
          ]
        },
        {
          "metadata": {
            "tags": null
          },
          "name": "stdout",
          "output_type": "stream",
          "text": [
            "  Title mismatch for 'Single’s Inferno'. Searched API, but no exact match. First API candidate: 'Single's Inferno' (ID not added).\n"
          ]
        },
        {
          "metadata": {
            "tags": null
          },
          "name": "stderr",
          "output_type": "stream",
          "text": [
            "Fetching TMDB IDs:   8%|▊         | 607/8080 [00:49<10:33, 11.79it/s]"
          ]
        },
        {
          "metadata": {
            "tags": null
          },
          "name": "stdout",
          "output_type": "stream",
          "text": [
            "  Title mismatch for 'To All the Boys I’ve Loved Before'. Searched API, but no exact match. First API candidate: 'To All the Boys I've Loved Before' (ID not added).\n"
          ]
        },
        {
          "metadata": {
            "tags": null
          },
          "name": "stderr",
          "output_type": "stream",
          "text": [
            "Fetching TMDB IDs:   8%|▊         | 615/8080 [00:50<11:39, 10.67it/s]"
          ]
        },
        {
          "metadata": {
            "tags": null
          },
          "name": "stdout",
          "output_type": "stream",
          "text": [
            "  Title mismatch for 'Kingdom: Return of The Great General'. Searched API, but no exact match. First API candidate: 'Kingdom 4: Return of the Great General' (ID not added).\n"
          ]
        },
        {
          "metadata": {
            "tags": null
          },
          "name": "stderr",
          "output_type": "stream",
          "text": [
            "Fetching TMDB IDs:   8%|▊         | 637/8080 [00:51<08:50, 14.03it/s]"
          ]
        },
        {
          "metadata": {
            "tags": null
          },
          "name": "stdout",
          "output_type": "stream",
          "text": [
            "  Title mismatch for 'Single’s Inferno'. Searched API, but no exact match. First API candidate: 'Single's Inferno' (ID not added).\n"
          ]
        },
        {
          "metadata": {
            "tags": null
          },
          "name": "stderr",
          "output_type": "stream",
          "text": [
            "Fetching TMDB IDs:   8%|▊         | 657/8080 [00:53<11:03, 11.19it/s]"
          ]
        },
        {
          "metadata": {
            "tags": null
          },
          "name": "stdout",
          "output_type": "stream",
          "text": [
            "  Title mismatch for 'Kingdom: Return of The Great General'. Searched API, but no exact match. First API candidate: 'Kingdom 4: Return of the Great General' (ID not added).\n"
          ]
        },
        {
          "metadata": {
            "tags": null
          },
          "name": "stderr",
          "output_type": "stream",
          "text": [
            "Fetching TMDB IDs:   8%|▊         | 678/8080 [00:54<07:34, 16.27it/s]"
          ]
        },
        {
          "metadata": {
            "tags": null
          },
          "name": "stdout",
          "output_type": "stream",
          "text": [
            "  Title mismatch for 'Single’s Inferno'. Searched API, but no exact match. First API candidate: 'Single's Inferno' (ID not added).\n"
          ]
        },
        {
          "metadata": {
            "tags": null
          },
          "name": "stderr",
          "output_type": "stream",
          "text": [
            "Fetching TMDB IDs:   9%|▉         | 709/8080 [00:57<09:31, 12.90it/s]"
          ]
        },
        {
          "metadata": {
            "tags": null
          },
          "name": "stdout",
          "output_type": "stream",
          "text": [
            "  No 'results' key or empty results in API response for 'Gabriel Iglesias: Legend of Fluffy'\n"
          ]
        },
        {
          "metadata": {
            "tags": null
          },
          "name": "stderr",
          "output_type": "stream",
          "text": [
            "Fetching TMDB IDs:   9%|▉         | 725/8080 [00:58<09:39, 12.69it/s]"
          ]
        },
        {
          "metadata": {
            "tags": null
          },
          "name": "stdout",
          "output_type": "stream",
          "text": [
            "  Title mismatch for 'Dr. Seuss' The Grinch'. Searched API, but no exact match. First API candidate: 'Dr. Seuss' The Grinch Musical' (ID not added).\n"
          ]
        },
        {
          "metadata": {
            "tags": null
          },
          "name": "stderr",
          "output_type": "stream",
          "text": [
            "Fetching TMDB IDs:   9%|▉         | 729/8080 [00:58<10:37, 11.53it/s]"
          ]
        },
        {
          "metadata": {
            "tags": null
          },
          "name": "stdout",
          "output_type": "stream",
          "text": [
            "  Title mismatch for 'Horizon: An American Saga: Chapter 1'. Searched API, but no exact match. First API candidate: 'Horizon: An American Saga - Chapter 1' (ID not added).\n"
          ]
        },
        {
          "metadata": {
            "tags": null
          },
          "name": "stderr",
          "output_type": "stream",
          "text": [
            "Fetching TMDB IDs:   9%|▉         | 737/8080 [00:59<09:58, 12.27it/s]"
          ]
        },
        {
          "metadata": {
            "tags": null
          },
          "name": "stdout",
          "output_type": "stream",
          "text": [
            "  Title mismatch for 'Kang Mak from Pee Mak'. Searched API, but no exact match. First API candidate: 'Kang Mak (From Pee Mak)' (ID not added).\n"
          ]
        },
        {
          "metadata": {
            "tags": null
          },
          "name": "stderr",
          "output_type": "stream",
          "text": [
            "Fetching TMDB IDs:   9%|▉         | 747/8080 [01:00<09:59, 12.24it/s]"
          ]
        },
        {
          "metadata": {
            "tags": null
          },
          "name": "stdout",
          "output_type": "stream",
          "text": [
            "  No 'results' key or empty results in API response for 'Your Friend, Nate Bargatze'\n",
            "  No 'results' key or empty results in API response for 'Torching 2024: A Roast of the Year'\n"
          ]
        },
        {
          "metadata": {
            "tags": null
          },
          "name": "stderr",
          "output_type": "stream",
          "text": [
            "Fetching TMDB IDs:   9%|▉         | 765/8080 [01:01<09:40, 12.61it/s]"
          ]
        },
        {
          "metadata": {
            "tags": null
          },
          "name": "stdout",
          "output_type": "stream",
          "text": [
            "  Title mismatch for 'Dr. Seuss' The Grinch'. Searched API, but no exact match. First API candidate: 'Dr. Seuss' The Grinch Musical' (ID not added).\n"
          ]
        },
        {
          "metadata": {
            "tags": null
          },
          "name": "stderr",
          "output_type": "stream",
          "text": [
            "Fetching TMDB IDs:  10%|▉         | 771/8080 [01:02<10:39, 11.43it/s]"
          ]
        },
        {
          "metadata": {
            "tags": null
          },
          "name": "stdout",
          "output_type": "stream",
          "text": [
            "  No 'results' key or empty results in API response for 'Beast (English)'\n"
          ]
        },
        {
          "metadata": {
            "tags": null
          },
          "name": "stderr",
          "output_type": "stream",
          "text": [
            "Fetching TMDB IDs:  10%|▉         | 782/8080 [01:03<11:12, 10.86it/s]"
          ]
        },
        {
          "metadata": {
            "tags": null
          },
          "name": "stdout",
          "output_type": "stream",
          "text": [
            "  No 'results' key or empty results in API response for 'Christmas Gameday: Ravens vs. Texans'\n",
            "  No 'results' key or empty results in API response for 'Christmas Gameday: Chiefs vs. Steelers'\n"
          ]
        },
        {
          "metadata": {
            "tags": null
          },
          "name": "stderr",
          "output_type": "stream",
          "text": [
            "Fetching TMDB IDs:  10%|▉         | 786/8080 [01:03<09:59, 12.17it/s]"
          ]
        },
        {
          "metadata": {
            "tags": null
          },
          "name": "stdout",
          "output_type": "stream",
          "text": [
            "  No 'results' key or empty results in API response for 'Your Friend, Nate Bargatze'\n",
            "  No 'results' key or empty results in API response for 'Fireplace for Your Home: Crackling Birchwood Fireplace'\n"
          ]
        },
        {
          "metadata": {
            "tags": null
          },
          "name": "stderr",
          "output_type": "stream",
          "text": [
            "Fetching TMDB IDs:  10%|▉         | 792/8080 [01:03<08:45, 13.88it/s]"
          ]
        },
        {
          "metadata": {
            "tags": null
          },
          "name": "stdout",
          "output_type": "stream",
          "text": [
            "  No 'results' key or empty results in API response for 'Fireplace for Your Home: Classic Crackling Fireplace'\n"
          ]
        },
        {
          "metadata": {
            "tags": null
          },
          "name": "stderr",
          "output_type": "stream",
          "text": [
            "Fetching TMDB IDs:  10%|▉         | 804/8080 [01:04<07:48, 15.54it/s]"
          ]
        },
        {
          "metadata": {
            "tags": null
          },
          "name": "stdout",
          "output_type": "stream",
          "text": [
            "  Title mismatch for 'Dr. Seuss' The Grinch'. Searched API, but no exact match. First API candidate: 'Dr. Seuss' The Grinch Musical' (ID not added).\n"
          ]
        },
        {
          "metadata": {
            "tags": null
          },
          "name": "stderr",
          "output_type": "stream",
          "text": [
            "Fetching TMDB IDs:  10%|█         | 808/8080 [01:05<10:35, 11.44it/s]"
          ]
        },
        {
          "metadata": {
            "tags": null
          },
          "name": "stdout",
          "output_type": "stream",
          "text": [
            "  Title mismatch for 'The Protege'. Searched API, but no exact match. First API candidate: 'The Protégé' (ID not added).\n"
          ]
        },
        {
          "metadata": {
            "tags": null
          },
          "name": "stderr",
          "output_type": "stream",
          "text": [
            "Fetching TMDB IDs:  10%|█         | 810/8080 [01:05<11:25, 10.60it/s]"
          ]
        },
        {
          "metadata": {
            "tags": null
          },
          "name": "stdout",
          "output_type": "stream",
          "text": [
            "  Title mismatch for 'Cold Blood Legacy'. Searched API, but no exact match. First API candidate: 'Cold Blood' (ID not added).\n"
          ]
        },
        {
          "metadata": {
            "tags": null
          },
          "name": "stderr",
          "output_type": "stream",
          "text": [
            "Fetching TMDB IDs:  10%|█         | 827/8080 [01:06<09:40, 12.50it/s]"
          ]
        },
        {
          "metadata": {
            "tags": null
          },
          "name": "stdout",
          "output_type": "stream",
          "text": [
            "  No 'results' key or empty results in API response for 'Jamie Foxx: What Had Happened Was...'\n"
          ]
        },
        {
          "metadata": {
            "tags": null
          },
          "name": "stderr",
          "output_type": "stream",
          "text": [
            "Fetching TMDB IDs:  10%|█         | 829/8080 [01:06<10:10, 11.87it/s]"
          ]
        },
        {
          "metadata": {
            "tags": null
          },
          "name": "stdout",
          "output_type": "stream",
          "text": [
            "  No 'results' key or empty results in API response for 'Ronny Chieng: Love to Hate It'\n"
          ]
        },
        {
          "metadata": {
            "tags": null
          },
          "name": "stderr",
          "output_type": "stream",
          "text": [
            "Fetching TMDB IDs:  10%|█         | 845/8080 [01:07<08:34, 14.05it/s]"
          ]
        },
        {
          "metadata": {
            "tags": null
          },
          "name": "stdout",
          "output_type": "stream",
          "text": [
            "  Title mismatch for 'Mary Mother of Jesus'. Searched API, but no exact match. First API candidate: 'Mary, Mother of Jesus' (ID not added).\n",
            "  Title mismatch for 'Dr. Seuss' The Grinch'. Searched API, but no exact match. First API candidate: 'Dr. Seuss' The Grinch Musical' (ID not added).\n"
          ]
        },
        {
          "metadata": {
            "tags": null
          },
          "name": "stderr",
          "output_type": "stream",
          "text": [
            "Fetching TMDB IDs:  11%|█         | 865/8080 [01:09<08:19, 14.44it/s]"
          ]
        },
        {
          "metadata": {
            "tags": null
          },
          "name": "stdout",
          "output_type": "stream",
          "text": [
            "  No 'results' key or empty results in API response for 'Jamie Foxx: What Had Happened Was...'\n"
          ]
        },
        {
          "metadata": {
            "tags": null
          },
          "name": "stderr",
          "output_type": "stream",
          "text": [
            "Fetching TMDB IDs:  11%|█         | 869/8080 [01:09<09:58, 12.05it/s]"
          ]
        },
        {
          "metadata": {
            "tags": null
          },
          "name": "stdout",
          "output_type": "stream",
          "text": [
            "  No 'results' key or empty results in API response for 'A Nonsense Christmas with Sabrina Carpenter'\n"
          ]
        },
        {
          "metadata": {
            "tags": null
          },
          "name": "stderr",
          "output_type": "stream",
          "text": [
            "Fetching TMDB IDs:  11%|█         | 881/8080 [01:10<08:49, 13.60it/s]"
          ]
        },
        {
          "metadata": {
            "tags": null
          },
          "name": "stdout",
          "output_type": "stream",
          "text": [
            "  Title mismatch for 'Nevertheless : The Shapes of Love'. Searched API, but no exact match. First API candidate: 'Nevertheless: The Shapes of Love' (ID not added).\n",
            "  Title mismatch for 'Dr. Seuss' The Grinch'. Searched API, but no exact match. First API candidate: 'Dr. Seuss' The Grinch Musical' (ID not added).\n"
          ]
        },
        {
          "metadata": {
            "tags": null
          },
          "name": "stderr",
          "output_type": "stream",
          "text": [
            "Fetching TMDB IDs:  11%|█         | 886/8080 [01:10<09:06, 13.16it/s]"
          ]
        },
        {
          "metadata": {
            "tags": null
          },
          "name": "stdout",
          "output_type": "stream",
          "text": [
            "  Title mismatch for 'Mary Mother of Jesus'. Searched API, but no exact match. First API candidate: 'Mary, Mother of Jesus' (ID not added).\n",
            "  Title mismatch for 'Twas the Text Before Christmas'. Searched API, but no exact match. First API candidate: ''Twas the Text Before Christmas' (ID not added).\n"
          ]
        },
        {
          "metadata": {
            "tags": null
          },
          "name": "stderr",
          "output_type": "stream",
          "text": [
            "Fetching TMDB IDs:  11%|█▏        | 909/8080 [01:12<10:25, 11.46it/s]"
          ]
        },
        {
          "metadata": {
            "tags": null
          },
          "name": "stdout",
          "output_type": "stream",
          "text": [
            "  No 'results' key or empty results in API response for 'A Nonsense Christmas with Sabrina Carpenter'\n"
          ]
        },
        {
          "metadata": {
            "tags": null
          },
          "name": "stderr",
          "output_type": "stream",
          "text": [
            "Fetching TMDB IDs:  12%|█▏        | 932/8080 [01:14<09:13, 12.91it/s]"
          ]
        },
        {
          "metadata": {
            "tags": null
          },
          "name": "stdout",
          "output_type": "stream",
          "text": [
            "  Title mismatch for 'Buy Now: The Shopping Conspiracy'. Searched API, but no exact match. First API candidate: 'Buy Now! The Shopping Conspiracy' (ID not added).\n"
          ]
        },
        {
          "metadata": {
            "tags": null
          },
          "name": "stderr",
          "output_type": "stream",
          "text": [
            "Fetching TMDB IDs:  12%|█▏        | 936/8080 [01:14<09:51, 12.08it/s]"
          ]
        },
        {
          "metadata": {
            "tags": null
          },
          "name": "stdout",
          "output_type": "stream",
          "text": [
            "  Title mismatch for 'Devara'. Searched API, but no exact match. First API candidate: 'Devara: Part 1' (ID not added).\n"
          ]
        },
        {
          "metadata": {
            "tags": null
          },
          "name": "stderr",
          "output_type": "stream",
          "text": [
            "Fetching TMDB IDs:  12%|█▏        | 949/8080 [01:15<08:27, 14.05it/s]"
          ]
        },
        {
          "metadata": {
            "tags": null
          },
          "name": "stdout",
          "output_type": "stream",
          "text": [
            "  No 'results' key or empty results in API response for 'Anthony Jeselnik: Bones and All'\n"
          ]
        },
        {
          "metadata": {
            "tags": null
          },
          "name": "stderr",
          "output_type": "stream",
          "text": [
            "Fetching TMDB IDs:  12%|█▏        | 967/8080 [01:16<08:40, 13.67it/s]"
          ]
        },
        {
          "metadata": {
            "tags": null
          },
          "name": "stdout",
          "output_type": "stream",
          "text": [
            "  Title mismatch for 'Buy Now: The Shopping Conspiracy'. Searched API, but no exact match. First API candidate: 'Buy Now! The Shopping Conspiracy' (ID not added).\n"
          ]
        },
        {
          "metadata": {
            "tags": null
          },
          "name": "stderr",
          "output_type": "stream",
          "text": [
            "Fetching TMDB IDs:  12%|█▏        | 975/8080 [01:17<09:22, 12.63it/s]"
          ]
        },
        {
          "metadata": {
            "tags": null
          },
          "name": "stdout",
          "output_type": "stream",
          "text": [
            "  Title mismatch for 'Devara'. Searched API, but no exact match. First API candidate: 'Devara: Part 1' (ID not added).\n"
          ]
        },
        {
          "metadata": {
            "tags": null
          },
          "name": "stderr",
          "output_type": "stream",
          "text": [
            "Fetching TMDB IDs:  12%|█▏        | 991/8080 [01:18<09:50, 12.00it/s]"
          ]
        },
        {
          "metadata": {
            "tags": null
          },
          "name": "stdout",
          "output_type": "stream",
          "text": [
            "  Title mismatch for 'Jake Paul vs. Mike Tyson'. Searched API, but no exact match. First API candidate: 'Countdown: Paul vs. Tyson' (ID not added).\n"
          ]
        },
        {
          "metadata": {
            "tags": null
          },
          "name": "stderr",
          "output_type": "stream",
          "text": [
            "Fetching TMDB IDs:  13%|█▎        | 1018/8080 [01:20<08:52, 13.26it/s]"
          ]
        },
        {
          "metadata": {
            "tags": null
          },
          "name": "stdout",
          "output_type": "stream",
          "text": [
            "  Title mismatch for 'Devara'. Searched API, but no exact match. First API candidate: 'Devara: Part 1' (ID not added).\n"
          ]
        },
        {
          "metadata": {
            "tags": null
          },
          "name": "stderr",
          "output_type": "stream",
          "text": [
            "Fetching TMDB IDs:  13%|█▎        | 1024/8080 [01:21<08:08, 14.45it/s]"
          ]
        },
        {
          "metadata": {
            "tags": null
          },
          "name": "stdout",
          "output_type": "stream",
          "text": [
            "  Title mismatch for 'Jake Paul vs. Mike Tyson'. Searched API, but no exact match. First API candidate: 'Countdown: Paul vs. Tyson' (ID not added).\n"
          ]
        },
        {
          "metadata": {
            "tags": null
          },
          "name": "stderr",
          "output_type": "stream",
          "text": [
            "Fetching TMDB IDs:  13%|█▎        | 1057/8080 [01:23<08:22, 13.97it/s]"
          ]
        },
        {
          "metadata": {
            "tags": null
          },
          "name": "stdout",
          "output_type": "stream",
          "text": [
            "  Title mismatch for 'Devara'. Searched API, but no exact match. First API candidate: 'Devara: Part 1' (ID not added).\n"
          ]
        },
        {
          "metadata": {
            "tags": null
          },
          "name": "stderr",
          "output_type": "stream",
          "text": [
            "Fetching TMDB IDs:  13%|█▎        | 1076/8080 [01:25<09:14, 12.64it/s]"
          ]
        },
        {
          "metadata": {
            "tags": null
          },
          "name": "stdout",
          "output_type": "stream",
          "text": [
            "  Title mismatch for 'Don’t Come Home'. Searched API, but no exact match. First API candidate: 'Don't Come Home' (ID not added).\n"
          ]
        },
        {
          "metadata": {
            "tags": null
          },
          "name": "stderr",
          "output_type": "stream",
          "text": [
            "Fetching TMDB IDs:  14%|█▍        | 1112/8080 [01:28<08:38, 13.45it/s]"
          ]
        },
        {
          "metadata": {
            "tags": null
          },
          "name": "stdout",
          "output_type": "stream",
          "text": [
            "  Title mismatch for 'My Wife My Abuser: Captured On Camera'. Searched API, but no exact match. First API candidate: 'My Wife, My Abuser: Captured on Camera' (ID not added).\n"
          ]
        },
        {
          "metadata": {
            "tags": null
          },
          "name": "stderr",
          "output_type": "stream",
          "text": [
            "Fetching TMDB IDs:  14%|█▍        | 1114/8080 [01:28<08:19, 13.93it/s]"
          ]
        },
        {
          "metadata": {
            "tags": null
          },
          "name": "stdout",
          "output_type": "stream",
          "text": [
            "  Title mismatch for 'Don’t Come Home'. Searched API, but no exact match. First API candidate: 'Don't Come Home' (ID not added).\n"
          ]
        },
        {
          "metadata": {
            "tags": null
          },
          "name": "stderr",
          "output_type": "stream",
          "text": [
            "Fetching TMDB IDs:  15%|█▍        | 1172/8080 [01:32<08:23, 13.71it/s]"
          ]
        },
        {
          "metadata": {
            "tags": null
          },
          "name": "stdout",
          "output_type": "stream",
          "text": [
            "  Title mismatch for 'Jurassic World: Dominion'. Searched API, but no exact match. First API candidate: 'Jurassic World Dominion' (ID not added).\n"
          ]
        },
        {
          "metadata": {
            "tags": null
          },
          "name": "stderr",
          "output_type": "stream",
          "text": [
            "Fetching TMDB IDs:  15%|█▌        | 1218/8080 [01:36<09:18, 12.29it/s]"
          ]
        },
        {
          "metadata": {
            "tags": null
          },
          "name": "stdout",
          "output_type": "stream",
          "text": [
            "  Title mismatch for 'GOAT - The Greatest of All Time'. Searched API, but no exact match. First API candidate: 'G.O.A.T ~Greatest Of All Time~' (ID not added).\n"
          ]
        },
        {
          "metadata": {
            "tags": null
          },
          "name": "stderr",
          "output_type": "stream",
          "text": [
            "Fetching TMDB IDs:  15%|█▌        | 1227/8080 [01:36<08:50, 12.92it/s]"
          ]
        },
        {
          "metadata": {
            "tags": null
          },
          "name": "stdout",
          "output_type": "stream",
          "text": [
            "  No 'results' key or empty results in API response for 'Ali Wong: Single Lady'\n"
          ]
        },
        {
          "metadata": {
            "tags": null
          },
          "name": "stderr",
          "output_type": "stream",
          "text": [
            "Fetching TMDB IDs:  16%|█▌        | 1255/8080 [01:39<09:04, 12.54it/s]"
          ]
        },
        {
          "metadata": {
            "tags": null
          },
          "name": "stdout",
          "output_type": "stream",
          "text": [
            "  Title mismatch for 'GOAT - The Greatest of All Time'. Searched API, but no exact match. First API candidate: 'G.O.A.T ~Greatest Of All Time~' (ID not added).\n"
          ]
        },
        {
          "metadata": {
            "tags": null
          },
          "name": "stderr",
          "output_type": "stream",
          "text": [
            "Fetching TMDB IDs:  16%|█▌        | 1312/8080 [01:43<07:50, 14.40it/s]"
          ]
        },
        {
          "metadata": {
            "tags": null
          },
          "name": "stdout",
          "output_type": "stream",
          "text": [
            "  No 'results' key or empty results in API response for 'Ellen DeGeneres: For Your Approval'\n"
          ]
        },
        {
          "metadata": {
            "tags": null
          },
          "name": "stderr",
          "output_type": "stream",
          "text": [
            "Fetching TMDB IDs:  16%|█▋        | 1325/8080 [01:44<08:38, 13.03it/s]"
          ]
        },
        {
          "metadata": {
            "tags": null
          },
          "name": "stdout",
          "output_type": "stream",
          "text": [
            "  No 'results' key or empty results in API response for 'Into the Fire: The Lost Daughter'\n"
          ]
        },
        {
          "metadata": {
            "tags": null
          },
          "name": "stderr",
          "output_type": "stream",
          "text": [
            "Fetching TMDB IDs:  17%|█▋        | 1365/8080 [01:47<08:14, 13.58it/s]"
          ]
        },
        {
          "metadata": {
            "tags": null
          },
          "name": "stdout",
          "output_type": "stream",
          "text": [
            "  No 'results' key or empty results in API response for 'Into the Fire: The Lost Daughter'\n"
          ]
        },
        {
          "metadata": {
            "tags": null
          },
          "name": "stderr",
          "output_type": "stream",
          "text": [
            "Fetching TMDB IDs:  17%|█▋        | 1381/8080 [01:48<09:13, 12.09it/s]"
          ]
        },
        {
          "metadata": {
            "tags": null
          },
          "name": "stdout",
          "output_type": "stream",
          "text": [
            "  Title mismatch for 'Mr. Bachchan'. Searched API, but no exact match. First API candidate: 'Mr Bachchan' (ID not added).\n"
          ]
        },
        {
          "metadata": {
            "tags": null
          },
          "name": "stderr",
          "output_type": "stream",
          "text": [
            "Fetching TMDB IDs:  17%|█▋        | 1413/8080 [01:51<09:43, 11.42it/s]"
          ]
        },
        {
          "metadata": {
            "tags": null
          },
          "name": "stdout",
          "output_type": "stream",
          "text": [
            "  Title mismatch for 'Sheriff: Narko Integriti'. Searched API, but no exact match. First API candidate: 'Sheriff' (ID not added).\n"
          ]
        },
        {
          "metadata": {
            "tags": null
          },
          "name": "stderr",
          "output_type": "stream",
          "text": [
            "Fetching TMDB IDs:  18%|█▊        | 1417/8080 [01:51<11:28,  9.67it/s]"
          ]
        },
        {
          "metadata": {
            "tags": null
          },
          "name": "stdout",
          "output_type": "stream",
          "text": [
            "  Title mismatch for 'Kalki 2898 AD (Hindi)'. Searched API, but no exact match. First API candidate: 'Kalki 2898-AD' (ID not added).\n",
            "  Title mismatch for '#LadyRancho'. Searched API, but no exact match. First API candidate: 'Lady Rancho' (ID not added).\n"
          ]
        },
        {
          "metadata": {
            "tags": null
          },
          "name": "stderr",
          "output_type": "stream",
          "text": [
            "Fetching TMDB IDs:  18%|█▊        | 1452/8080 [01:54<09:38, 11.45it/s]"
          ]
        },
        {
          "metadata": {
            "tags": null
          },
          "name": "stdout",
          "output_type": "stream",
          "text": [
            "  Title mismatch for 'Kalki 2898 AD (Hindi)'. Searched API, but no exact match. First API candidate: 'Kalki 2898-AD' (ID not added).\n"
          ]
        },
        {
          "metadata": {
            "tags": null
          },
          "name": "stderr",
          "output_type": "stream",
          "text": [
            "Fetching TMDB IDs:  18%|█▊        | 1458/8080 [01:55<09:43, 11.35it/s]"
          ]
        },
        {
          "metadata": {
            "tags": null
          },
          "name": "stdout",
          "output_type": "stream",
          "text": [
            "  Title mismatch for 'Sheriff: Narko Integriti'. Searched API, but no exact match. First API candidate: 'Sheriff' (ID not added).\n"
          ]
        },
        {
          "metadata": {
            "tags": null
          },
          "name": "stderr",
          "output_type": "stream",
          "text": [
            "Fetching TMDB IDs:  18%|█▊        | 1467/8080 [01:55<08:21, 13.19it/s]"
          ]
        },
        {
          "metadata": {
            "tags": null
          },
          "name": "stdout",
          "output_type": "stream",
          "text": [
            "  No 'results' key or empty results in API response for 'Adam Sandler: Love You'\n"
          ]
        },
        {
          "metadata": {
            "tags": null
          },
          "name": "stderr",
          "output_type": "stream",
          "text": [
            "Fetching TMDB IDs:  18%|█▊        | 1493/8080 [01:57<08:20, 13.15it/s]"
          ]
        },
        {
          "metadata": {
            "tags": null
          },
          "name": "stdout",
          "output_type": "stream",
          "text": [
            "  Title mismatch for 'Kalki 2898 AD (Hindi)'. Searched API, but no exact match. First API candidate: 'Kalki 2898-AD' (ID not added).\n"
          ]
        },
        {
          "metadata": {
            "tags": null
          },
          "name": "stderr",
          "output_type": "stream",
          "text": [
            "Fetching TMDB IDs:  19%|█▊        | 1501/8080 [01:58<08:38, 12.69it/s]"
          ]
        },
        {
          "metadata": {
            "tags": null
          },
          "name": "stdout",
          "output_type": "stream",
          "text": [
            "  Title mismatch for 'Indian 2'. Searched API, but no exact match. First API candidate: 'Indian 2: Zero Tolerance' (ID not added).\n",
            "  Title mismatch for 'Pretty Guardian Sailor Moon Cosmos The Movie'. Searched API, but no exact match. First API candidate: 'Pretty Guardian Sailor Moon Cosmos the Movie Part 2' (ID not added).\n"
          ]
        },
        {
          "metadata": {
            "tags": null
          },
          "name": "stderr",
          "output_type": "stream",
          "text": [
            "Fetching TMDB IDs:  19%|█▊        | 1513/8080 [01:59<08:14, 13.27it/s]"
          ]
        },
        {
          "metadata": {
            "tags": null
          },
          "name": "stdout",
          "output_type": "stream",
          "text": [
            "  No 'results' key or empty results in API response for 'Matt Rife: Lucid - A Crowd Work Special'\n"
          ]
        },
        {
          "metadata": {
            "tags": null
          },
          "name": "stderr",
          "output_type": "stream",
          "text": [
            "Fetching TMDB IDs:  19%|█▉        | 1536/8080 [02:00<08:52, 12.28it/s]"
          ]
        },
        {
          "metadata": {
            "tags": null
          },
          "name": "stdout",
          "output_type": "stream",
          "text": [
            "  Title mismatch for 'Indian 2'. Searched API, but no exact match. First API candidate: 'Indian 2: Zero Tolerance' (ID not added).\n"
          ]
        },
        {
          "metadata": {
            "tags": null
          },
          "name": "stderr",
          "output_type": "stream",
          "text": [
            "Fetching TMDB IDs:  19%|█▉        | 1540/8080 [02:01<09:16, 11.76it/s]"
          ]
        },
        {
          "metadata": {
            "tags": null
          },
          "name": "stdout",
          "output_type": "stream",
          "text": [
            "  Title mismatch for 'Dancing Village : The Curse Begins'. Searched API, but no exact match. First API candidate: 'Dancing Village: The Curse Begins' (ID not added).\n"
          ]
        },
        {
          "metadata": {
            "tags": null
          },
          "name": "stderr",
          "output_type": "stream",
          "text": [
            "Fetching TMDB IDs:  19%|█▉        | 1545/8080 [02:01<07:41, 14.15it/s]"
          ]
        },
        {
          "metadata": {
            "tags": null
          },
          "name": "stdout",
          "output_type": "stream",
          "text": [
            "  No 'results' key or empty results in API response for 'Matt Rife: Lucid - A Crowd Work Special'\n"
          ]
        },
        {
          "metadata": {
            "tags": null
          },
          "name": "stderr",
          "output_type": "stream",
          "text": [
            "Fetching TMDB IDs:  20%|█▉        | 1579/8080 [02:04<08:08, 13.31it/s]"
          ]
        },
        {
          "metadata": {
            "tags": null
          },
          "name": "stdout",
          "output_type": "stream",
          "text": [
            "  Title mismatch for 'Indian 2'. Searched API, but no exact match. First API candidate: 'Indian 2: Zero Tolerance' (ID not added).\n"
          ]
        },
        {
          "metadata": {
            "tags": null
          },
          "name": "stderr",
          "output_type": "stream",
          "text": [
            "Fetching TMDB IDs:  20%|█▉        | 1581/8080 [02:04<08:38, 12.53it/s]"
          ]
        },
        {
          "metadata": {
            "tags": null
          },
          "name": "stdout",
          "output_type": "stream",
          "text": [
            "  Title mismatch for 'Savi'. Searched API, but no exact match. First API candidate: 'Roberto Saviano: Writing Under Police Protection' (ID not added).\n"
          ]
        },
        {
          "metadata": {
            "tags": null
          },
          "name": "stderr",
          "output_type": "stream",
          "text": [
            "Fetching TMDB IDs:  20%|█▉        | 1589/8080 [02:04<07:32, 14.36it/s]"
          ]
        },
        {
          "metadata": {
            "tags": null
          },
          "name": "stdout",
          "output_type": "stream",
          "text": [
            "  No 'results' key or empty results in API response for 'Joe Rogan: Burn the Boats'\n"
          ]
        },
        {
          "metadata": {
            "tags": null
          },
          "name": "stderr",
          "output_type": "stream",
          "text": [
            "Fetching TMDB IDs:  20%|█▉        | 1613/8080 [02:06<08:33, 12.59it/s]"
          ]
        },
        {
          "metadata": {
            "tags": null
          },
          "name": "stdout",
          "output_type": "stream",
          "text": [
            "  Title mismatch for 'Savi'. Searched API, but no exact match. First API candidate: 'Roberto Saviano: Writing Under Police Protection' (ID not added).\n"
          ]
        },
        {
          "metadata": {
            "tags": null
          },
          "name": "stderr",
          "output_type": "stream",
          "text": [
            "Fetching TMDB IDs:  20%|██        | 1628/8080 [02:07<08:10, 13.16it/s]"
          ]
        },
        {
          "metadata": {
            "tags": null
          },
          "name": "stdout",
          "output_type": "stream",
          "text": [
            "  No 'results' key or empty results in API response for 'Joe Rogan: Burn the Boats'\n"
          ]
        },
        {
          "metadata": {
            "tags": null
          },
          "name": "stderr",
          "output_type": "stream",
          "text": [
            "Fetching TMDB IDs:  21%|██        | 1657/8080 [02:10<08:01, 13.33it/s]"
          ]
        },
        {
          "metadata": {
            "tags": null
          },
          "name": "stdout",
          "output_type": "stream",
          "text": [
            "  Title mismatch for 'Savi'. Searched API, but no exact match. First API candidate: 'Roberto Saviano: Writing Under Police Protection' (ID not added).\n"
          ]
        },
        {
          "metadata": {
            "tags": null
          },
          "name": "stderr",
          "output_type": "stream",
          "text": [
            "Fetching TMDB IDs:  22%|██▏       | 1748/8080 [02:17<09:28, 11.14it/s]"
          ]
        },
        {
          "metadata": {
            "tags": null
          },
          "name": "stdout",
          "output_type": "stream",
          "text": [
            "  No 'results' key or empty results in API response for 'Hannah Berner: We Ride at Dawn'\n"
          ]
        },
        {
          "metadata": {
            "tags": null
          },
          "name": "stderr",
          "output_type": "stream",
          "text": [
            "Fetching TMDB IDs:  22%|██▏       | 1758/8080 [02:17<08:56, 11.77it/s]"
          ]
        },
        {
          "metadata": {
            "tags": null
          },
          "name": "stdout",
          "output_type": "stream",
          "text": [
            "  Title mismatch for '【OSHI NO KO】'. Searched API, but no exact match. First API candidate: 'Oshi No Ko' (ID not added).\n"
          ]
        },
        {
          "metadata": {
            "tags": null
          },
          "name": "stderr",
          "output_type": "stream",
          "text": [
            "Fetching TMDB IDs:  22%|██▏       | 1768/8080 [02:18<08:26, 12.47it/s]"
          ]
        },
        {
          "metadata": {
            "tags": null
          },
          "name": "stdout",
          "output_type": "stream",
          "text": [
            "  Title mismatch for 'Miraculous World: Shanghai, The Legend of LadyDragon'. Searched API, but no exact match. First API candidate: 'Miraculous World: Shanghai - The Legend of Ladydragon' (ID not added).\n"
          ]
        },
        {
          "metadata": {
            "tags": null
          },
          "name": "stderr",
          "output_type": "stream",
          "text": [
            "Fetching TMDB IDs:  22%|██▏       | 1800/8080 [02:21<07:36, 13.76it/s]"
          ]
        },
        {
          "metadata": {
            "tags": null
          },
          "name": "stdout",
          "output_type": "stream",
          "text": [
            "  Title mismatch for 'The Turkish Passion'. Searched API, but no exact match. First API candidate: 'La Pasión Turca' (ID not added).\n"
          ]
        },
        {
          "metadata": {
            "tags": null
          },
          "name": "stderr",
          "output_type": "stream",
          "text": [
            "Fetching TMDB IDs:  23%|██▎       | 1846/8080 [02:24<07:55, 13.11it/s]"
          ]
        },
        {
          "metadata": {
            "tags": null
          },
          "name": "stdout",
          "output_type": "stream",
          "text": [
            "  Title mismatch for 'Mission: Impossible - Dead Reckoning'. Searched API, but no exact match. First API candidate: 'Mission: Impossible - Dead Reckoning Part One' (ID not added).\n"
          ]
        },
        {
          "metadata": {
            "tags": null
          },
          "name": "stderr",
          "output_type": "stream",
          "text": [
            "Fetching TMDB IDs:  23%|██▎       | 1855/8080 [02:25<08:26, 12.28it/s]"
          ]
        },
        {
          "metadata": {
            "tags": null
          },
          "name": "stdout",
          "output_type": "stream",
          "text": [
            "  Title mismatch for 'Cuando acecha la maldad'. Searched API, but no exact match. First API candidate: 'When Evil Lurks' (ID not added).\n"
          ]
        },
        {
          "metadata": {
            "tags": null
          },
          "name": "stderr",
          "output_type": "stream",
          "text": [
            "Fetching TMDB IDs:  23%|██▎       | 1885/8080 [02:27<09:12, 11.20it/s]"
          ]
        },
        {
          "metadata": {
            "tags": null
          },
          "name": "stdout",
          "output_type": "stream",
          "text": [
            "  Title mismatch for 'Mission: Impossible - Dead Reckoning'. Searched API, but no exact match. First API candidate: 'Mission: Impossible - Dead Reckoning Part One' (ID not added).\n"
          ]
        },
        {
          "metadata": {
            "tags": null
          },
          "name": "stderr",
          "output_type": "stream",
          "text": [
            "Fetching TMDB IDs:  24%|██▎       | 1899/8080 [02:28<08:27, 12.19it/s]"
          ]
        },
        {
          "metadata": {
            "tags": null
          },
          "name": "stdout",
          "output_type": "stream",
          "text": [
            "  Title mismatch for 'Cuando acecha la maldad'. Searched API, but no exact match. First API candidate: 'When Evil Lurks' (ID not added).\n"
          ]
        },
        {
          "metadata": {
            "tags": null
          },
          "name": "stderr",
          "output_type": "stream",
          "text": [
            "Fetching TMDB IDs:  24%|██▍       | 1952/8080 [02:32<06:27, 15.81it/s]"
          ]
        },
        {
          "metadata": {
            "tags": null
          },
          "name": "stdout",
          "output_type": "stream",
          "text": [
            "  No 'results' key or empty results in API response for 'Jo Koy: Live from Brooklyn'\n"
          ]
        },
        {
          "metadata": {
            "tags": null
          },
          "name": "stderr",
          "output_type": "stream",
          "text": [
            "Fetching TMDB IDs:  24%|██▍       | 1960/8080 [02:33<08:39, 11.79it/s]"
          ]
        },
        {
          "metadata": {
            "tags": null
          },
          "name": "stdout",
          "output_type": "stream",
          "text": [
            "  Title mismatch for 'Hell's Paradise: Jigokuraku'. Searched API, but no exact match. First API candidate: 'Hell's Paradise' (ID not added).\n"
          ]
        },
        {
          "metadata": {
            "tags": null
          },
          "name": "stderr",
          "output_type": "stream",
          "text": [
            "Fetching TMDB IDs:  25%|██▍       | 1982/8080 [02:35<07:32, 13.47it/s]"
          ]
        },
        {
          "metadata": {
            "tags": null
          },
          "name": "stdout",
          "output_type": "stream",
          "text": [
            "  Title mismatch for 'Laapataa Ladies'. Searched API, but no exact match. First API candidate: 'Lost Ladies' (ID not added).\n"
          ]
        },
        {
          "metadata": {
            "tags": null
          },
          "name": "stderr",
          "output_type": "stream",
          "text": [
            "Fetching TMDB IDs:  25%|██▍       | 1998/8080 [02:36<07:49, 12.94it/s]"
          ]
        },
        {
          "metadata": {
            "tags": null
          },
          "name": "stdout",
          "output_type": "stream",
          "text": [
            "  No 'results' key or empty results in API response for 'Franco Escamilla: Ladies' man'\n"
          ]
        },
        {
          "metadata": {
            "tags": null
          },
          "name": "stderr",
          "output_type": "stream",
          "text": [
            "Fetching TMDB IDs:  25%|██▍       | 2016/8080 [02:37<08:55, 11.32it/s]"
          ]
        },
        {
          "metadata": {
            "tags": null
          },
          "name": "stdout",
          "output_type": "stream",
          "text": [
            "  Title mismatch for 'Laapataa Ladies'. Searched API, but no exact match. First API candidate: 'Lost Ladies' (ID not added).\n"
          ]
        },
        {
          "metadata": {
            "tags": null
          },
          "name": "stderr",
          "output_type": "stream",
          "text": [
            "Fetching TMDB IDs:  25%|██▌       | 2020/8080 [02:38<10:15,  9.84it/s]"
          ]
        },
        {
          "metadata": {
            "tags": null
          },
          "name": "stdout",
          "output_type": "stream",
          "text": [
            "  Title mismatch for '4 Kings 2'. Searched API, but no exact match. First API candidate: '4 Kings II' (ID not added).\n"
          ]
        },
        {
          "metadata": {
            "tags": null
          },
          "name": "stderr",
          "output_type": "stream",
          "text": [
            "Fetching TMDB IDs:  25%|██▌       | 2036/8080 [02:39<06:52, 14.66it/s]"
          ]
        },
        {
          "metadata": {
            "tags": null
          },
          "name": "stdout",
          "output_type": "stream",
          "text": [
            "  No 'results' key or empty results in API response for 'Franco Escamilla: Ladies' man'\n"
          ]
        },
        {
          "metadata": {
            "tags": null
          },
          "name": "stderr",
          "output_type": "stream",
          "text": [
            "Fetching TMDB IDs:  25%|██▌       | 2038/8080 [02:39<07:06, 14.18it/s]"
          ]
        },
        {
          "metadata": {
            "tags": null
          },
          "name": "stdout",
          "output_type": "stream",
          "text": [
            "  Title mismatch for 'Heeramandi: The Diamond Bazaar'. Searched API, but no exact match. First API candidate: 'Heeramandi' (ID not added).\n"
          ]
        },
        {
          "metadata": {
            "tags": null
          },
          "name": "stderr",
          "output_type": "stream",
          "text": [
            "Fetching TMDB IDs:  25%|██▌       | 2057/8080 [02:40<08:07, 12.36it/s]"
          ]
        },
        {
          "metadata": {
            "tags": null
          },
          "name": "stdout",
          "output_type": "stream",
          "text": [
            "  Title mismatch for 'Laapataa Ladies'. Searched API, but no exact match. First API candidate: 'Lost Ladies' (ID not added).\n"
          ]
        },
        {
          "metadata": {
            "tags": null
          },
          "name": "stderr",
          "output_type": "stream",
          "text": [
            "Fetching TMDB IDs:  26%|██▌       | 2067/8080 [02:41<08:03, 12.43it/s]"
          ]
        },
        {
          "metadata": {
            "tags": null
          },
          "name": "stdout",
          "output_type": "stream",
          "text": [
            "  No 'results' key or empty results in API response for 'Kevin Hart: The Kennedy Center Mark Twain Prize for American Humor'\n",
            "  No 'results' key or empty results in API response for 'The Roast of Tom Brady'\n"
          ]
        },
        {
          "metadata": {
            "tags": null
          },
          "name": "stderr",
          "output_type": "stream",
          "text": [
            "Fetching TMDB IDs:  26%|██▌       | 2077/8080 [02:42<06:33, 15.27it/s]"
          ]
        },
        {
          "metadata": {
            "tags": null
          },
          "name": "stdout",
          "output_type": "stream",
          "text": [
            "  Title mismatch for 'Heeramandi: The Diamond Bazaar'. Searched API, but no exact match. First API candidate: 'Heeramandi' (ID not added).\n"
          ]
        },
        {
          "metadata": {
            "tags": null
          },
          "name": "stderr",
          "output_type": "stream",
          "text": [
            "Fetching TMDB IDs:  26%|██▌       | 2083/8080 [02:42<06:43, 14.85it/s]"
          ]
        },
        {
          "metadata": {
            "tags": null
          },
          "name": "stdout",
          "output_type": "stream",
          "text": [
            "  Title mismatch for 'Dr.STONE'. Searched API, but no exact match. First API candidate: 'Dr. STONE' (ID not added).\n"
          ]
        },
        {
          "metadata": {
            "tags": null
          },
          "name": "stderr",
          "output_type": "stream",
          "text": [
            "Fetching TMDB IDs:  26%|██▌       | 2095/8080 [02:43<07:53, 12.63it/s]"
          ]
        },
        {
          "metadata": {
            "tags": null
          },
          "name": "stdout",
          "output_type": "stream",
          "text": [
            "  Title mismatch for 'Laapataa Ladies'. Searched API, but no exact match. First API candidate: 'Lost Ladies' (ID not added).\n"
          ]
        },
        {
          "metadata": {
            "tags": null
          },
          "name": "stderr",
          "output_type": "stream",
          "text": [
            "Fetching TMDB IDs:  26%|██▌       | 2103/8080 [02:44<07:45, 12.85it/s]"
          ]
        },
        {
          "metadata": {
            "tags": null
          },
          "name": "stdout",
          "output_type": "stream",
          "text": [
            "  No 'results' key or empty results in API response for 'The Roast of Tom Brady'\n"
          ]
        },
        {
          "metadata": {
            "tags": null
          },
          "name": "stderr",
          "output_type": "stream",
          "text": [
            "Fetching TMDB IDs:  26%|██▌       | 2105/8080 [02:44<07:39, 13.00it/s]"
          ]
        },
        {
          "metadata": {
            "tags": null
          },
          "name": "stdout",
          "output_type": "stream",
          "text": [
            "  No 'results' key or empty results in API response for 'Katt Williams: Woke Foke'\n"
          ]
        },
        {
          "metadata": {
            "tags": null
          },
          "name": "stderr",
          "output_type": "stream",
          "text": [
            "Fetching TMDB IDs:  26%|██▌       | 2114/8080 [02:45<06:25, 15.48it/s]"
          ]
        },
        {
          "metadata": {
            "tags": null
          },
          "name": "stdout",
          "output_type": "stream",
          "text": [
            "  Title mismatch for 'Heeramandi: The Diamond Bazaar'. Searched API, but no exact match. First API candidate: 'Heeramandi' (ID not added).\n"
          ]
        },
        {
          "metadata": {
            "tags": null
          },
          "name": "stderr",
          "output_type": "stream",
          "text": [
            "Fetching TMDB IDs:  26%|██▋       | 2124/8080 [02:45<07:56, 12.50it/s]"
          ]
        },
        {
          "metadata": {
            "tags": null
          },
          "name": "stdout",
          "output_type": "stream",
          "text": [
            "  Title mismatch for 'Rebel Moon — Part Two: The Scargiver'. Searched API, but no exact match. First API candidate: 'Rebel Moon - Part Two: The Scargiver' (ID not added).\n"
          ]
        },
        {
          "metadata": {
            "tags": null
          },
          "name": "stderr",
          "output_type": "stream",
          "text": [
            "Fetching TMDB IDs:  26%|██▋       | 2134/8080 [02:46<06:56, 14.27it/s]"
          ]
        },
        {
          "metadata": {
            "tags": null
          },
          "name": "stdout",
          "output_type": "stream",
          "text": [
            "  Title mismatch for 'Laapataa Ladies'. Searched API, but no exact match. First API candidate: 'Lost Ladies' (ID not added).\n"
          ]
        },
        {
          "metadata": {
            "tags": null
          },
          "name": "stderr",
          "output_type": "stream",
          "text": [
            "Fetching TMDB IDs:  26%|██▋       | 2136/8080 [02:46<07:23, 13.40it/s]"
          ]
        },
        {
          "metadata": {
            "tags": null
          },
          "name": "stdout",
          "output_type": "stream",
          "text": [
            "  Title mismatch for 'Jujutsu Kaisen 0: The Movie'. Searched API, but no exact match. First API candidate: 'Jujutsu Kaisen 0' (ID not added).\n"
          ]
        },
        {
          "metadata": {
            "tags": null
          },
          "name": "stderr",
          "output_type": "stream",
          "text": [
            "Fetching TMDB IDs:  27%|██▋       | 2142/8080 [02:47<07:53, 12.55it/s]"
          ]
        },
        {
          "metadata": {
            "tags": null
          },
          "name": "stdout",
          "output_type": "stream",
          "text": [
            "  Title mismatch for 'Tillu Square'. Searched API, but no exact match. First API candidate: '(Tillu)²' (ID not added).\n"
          ]
        },
        {
          "metadata": {
            "tags": null
          },
          "name": "stderr",
          "output_type": "stream",
          "text": [
            "Fetching TMDB IDs:  27%|██▋       | 2146/8080 [02:47<07:33, 13.08it/s]"
          ]
        },
        {
          "metadata": {
            "tags": null
          },
          "name": "stdout",
          "output_type": "stream",
          "text": [
            "  No 'results' key or empty results in API response for 'Katt Williams: Woke Foke'\n",
            "  No 'results' key or empty results in API response for 'The Roast of Tom Brady'\n"
          ]
        },
        {
          "metadata": {
            "tags": null
          },
          "name": "stderr",
          "output_type": "stream",
          "text": [
            "Fetching TMDB IDs:  27%|██▋       | 2153/8080 [02:48<07:01, 14.07it/s]"
          ]
        },
        {
          "metadata": {
            "tags": null
          },
          "name": "stdout",
          "output_type": "stream",
          "text": [
            "  Title mismatch for 'Heeramandi: The Diamond Bazaar'. Searched API, but no exact match. First API candidate: 'Heeramandi' (ID not added).\n"
          ]
        },
        {
          "metadata": {
            "tags": null
          },
          "name": "stderr",
          "output_type": "stream",
          "text": [
            "Fetching TMDB IDs:  27%|██▋       | 2161/8080 [02:48<07:44, 12.73it/s]"
          ]
        },
        {
          "metadata": {
            "tags": null
          },
          "name": "stdout",
          "output_type": "stream",
          "text": [
            "  Title mismatch for 'Rebel Moon — Part Two: The Scargiver'. Searched API, but no exact match. First API candidate: 'Rebel Moon - Part Two: The Scargiver' (ID not added).\n"
          ]
        },
        {
          "metadata": {
            "tags": null
          },
          "name": "stderr",
          "output_type": "stream",
          "text": [
            "Fetching TMDB IDs:  27%|██▋       | 2166/8080 [02:49<07:41, 12.83it/s]"
          ]
        },
        {
          "metadata": {
            "tags": null
          },
          "name": "stdout",
          "output_type": "stream",
          "text": [
            "  Title mismatch for 'Rebel Moon — Part One: A Child of Fire'. Searched API, but no exact match. First API candidate: 'Rebel Moon - Part One: A Child of Fire' (ID not added).\n"
          ]
        },
        {
          "metadata": {
            "tags": null
          },
          "name": "stderr",
          "output_type": "stream",
          "text": [
            "Fetching TMDB IDs:  27%|██▋       | 2176/8080 [02:49<06:50, 14.38it/s]"
          ]
        },
        {
          "metadata": {
            "tags": null
          },
          "name": "stdout",
          "output_type": "stream",
          "text": [
            "  Title mismatch for 'Laapataa Ladies'. Searched API, but no exact match. First API candidate: 'Lost Ladies' (ID not added).\n"
          ]
        },
        {
          "metadata": {
            "tags": null
          },
          "name": "stderr",
          "output_type": "stream",
          "text": [
            "Fetching TMDB IDs:  27%|██▋       | 2203/8080 [02:52<07:16, 13.46it/s]"
          ]
        },
        {
          "metadata": {
            "tags": null
          },
          "name": "stdout",
          "output_type": "stream",
          "text": [
            "  Title mismatch for 'Rebel Moon — Part Two: The Scargiver'. Searched API, but no exact match. First API candidate: 'Rebel Moon - Part Two: The Scargiver' (ID not added).\n"
          ]
        },
        {
          "metadata": {
            "tags": null
          },
          "name": "stderr",
          "output_type": "stream",
          "text": [
            "Fetching TMDB IDs:  27%|██▋       | 2207/8080 [02:52<07:55, 12.34it/s]"
          ]
        },
        {
          "metadata": {
            "tags": null
          },
          "name": "stdout",
          "output_type": "stream",
          "text": [
            "  Title mismatch for 'Rebel Moon — Part One: A Child of Fire'. Searched API, but no exact match. First API candidate: 'Rebel Moon - Part One: A Child of Fire' (ID not added).\n"
          ]
        },
        {
          "metadata": {
            "tags": null
          },
          "name": "stderr",
          "output_type": "stream",
          "text": [
            "Fetching TMDB IDs:  28%|██▊       | 2230/8080 [02:54<07:04, 13.78it/s]"
          ]
        },
        {
          "metadata": {
            "tags": null
          },
          "name": "stdout",
          "output_type": "stream",
          "text": [
            "  No 'results' key or empty results in API response for 'Jimmy Carr: Natural Born Killer'\n"
          ]
        },
        {
          "metadata": {
            "tags": null
          },
          "name": "stderr",
          "output_type": "stream",
          "text": [
            "Fetching TMDB IDs:  28%|██▊       | 2302/8080 [02:59<09:08, 10.53it/s]"
          ]
        },
        {
          "metadata": {
            "tags": null
          },
          "name": "stdout",
          "output_type": "stream",
          "text": [
            "  No 'results' key or empty results in API response for 'A Dangerous Practice'\n"
          ]
        },
        {
          "metadata": {
            "tags": null
          },
          "name": "stderr",
          "output_type": "stream",
          "text": [
            "Fetching TMDB IDs:  29%|██▉       | 2330/8080 [03:02<08:51, 10.82it/s]"
          ]
        },
        {
          "metadata": {
            "tags": null
          },
          "name": "stdout",
          "output_type": "stream",
          "text": [
            "  Title mismatch for 'Peter Rabbit 2'. Searched API, but no exact match. First API candidate: 'Peter Rabbit 2: The Runaway' (ID not added).\n"
          ]
        },
        {
          "metadata": {
            "tags": null
          },
          "name": "stderr",
          "output_type": "stream",
          "text": [
            "Fetching TMDB IDs:  29%|██▉       | 2337/8080 [03:02<07:48, 12.26it/s]"
          ]
        },
        {
          "metadata": {
            "tags": null
          },
          "name": "stdout",
          "output_type": "stream",
          "text": [
            "  Title mismatch for 'Cat & Dog'. Searched API, but no exact match. First API candidate: 'Dog and Cat' (ID not added).\n"
          ]
        },
        {
          "metadata": {
            "tags": null
          },
          "name": "stderr",
          "output_type": "stream",
          "text": [
            "Fetching TMDB IDs:  29%|██▉       | 2341/8080 [03:02<07:41, 12.44it/s]"
          ]
        },
        {
          "metadata": {
            "tags": null
          },
          "name": "stdout",
          "output_type": "stream",
          "text": [
            "  Title mismatch for 'El paseo 7'. Searched API, but no exact match. First API candidate: 'The Trip 7' (ID not added).\n"
          ]
        },
        {
          "metadata": {
            "tags": null
          },
          "name": "stderr",
          "output_type": "stream",
          "text": [
            "Fetching TMDB IDs:  29%|██▉       | 2352/8080 [03:03<06:54, 13.83it/s]"
          ]
        },
        {
          "metadata": {
            "tags": null
          },
          "name": "stdout",
          "output_type": "stream",
          "text": [
            "  No 'results' key or empty results in API response for 'Dave Attell: Hot Cross Buns'\n"
          ]
        },
        {
          "metadata": {
            "tags": null
          },
          "name": "stderr",
          "output_type": "stream",
          "text": [
            "Fetching TMDB IDs:  29%|██▉       | 2366/8080 [03:04<08:16, 11.52it/s]"
          ]
        },
        {
          "metadata": {
            "tags": null
          },
          "name": "stdout",
          "output_type": "stream",
          "text": [
            "  Title mismatch for 'Ford v. Ferrari'. Searched API, but no exact match. First API candidate: 'Ford v Ferrari' (ID not added).\n"
          ]
        },
        {
          "metadata": {
            "tags": null
          },
          "name": "stderr",
          "output_type": "stream",
          "text": [
            "Fetching TMDB IDs:  29%|██▉       | 2372/8080 [03:05<08:04, 11.77it/s]"
          ]
        },
        {
          "metadata": {
            "tags": null
          },
          "name": "stdout",
          "output_type": "stream",
          "text": [
            "  Title mismatch for 'Cat & Dog'. Searched API, but no exact match. First API candidate: 'Dog and Cat' (ID not added).\n"
          ]
        },
        {
          "metadata": {
            "tags": null
          },
          "name": "stderr",
          "output_type": "stream",
          "text": [
            "Fetching TMDB IDs:  30%|██▉       | 2389/8080 [03:06<07:51, 12.07it/s]"
          ]
        },
        {
          "metadata": {
            "tags": null
          },
          "name": "stdout",
          "output_type": "stream",
          "text": [
            "  Title mismatch for 'The Program: Cons, Cults and Kidnapping'. Searched API, but no exact match. First API candidate: 'The Program: Cons, Cults, and Kidnapping' (ID not added).\n"
          ]
        },
        {
          "metadata": {
            "tags": null
          },
          "name": "stderr",
          "output_type": "stream",
          "text": [
            "Fetching TMDB IDs:  30%|██▉       | 2409/8080 [03:08<09:39,  9.78it/s]"
          ]
        },
        {
          "metadata": {
            "tags": null
          },
          "name": "stdout",
          "output_type": "stream",
          "text": [
            "  Title mismatch for 'Ford v. Ferrari'. Searched API, but no exact match. First API candidate: 'Ford v Ferrari' (ID not added).\n"
          ]
        },
        {
          "metadata": {
            "tags": null
          },
          "name": "stderr",
          "output_type": "stream",
          "text": [
            "Fetching TMDB IDs:  30%|██▉       | 2413/8080 [03:08<09:37,  9.81it/s]"
          ]
        },
        {
          "metadata": {
            "tags": null
          },
          "name": "stdout",
          "output_type": "stream",
          "text": [
            "  Title mismatch for 'Cat & Dog'. Searched API, but no exact match. First API candidate: 'Dog and Cat' (ID not added).\n"
          ]
        },
        {
          "metadata": {
            "tags": null
          },
          "name": "stderr",
          "output_type": "stream",
          "text": [
            "Fetching TMDB IDs:  30%|██▉       | 2417/8080 [03:09<09:03, 10.42it/s]"
          ]
        },
        {
          "metadata": {
            "tags": null
          },
          "name": "stdout",
          "output_type": "stream",
          "text": [
            "  No 'results' key or empty results in API response for 'Merry Christmas (Hindi)'\n"
          ]
        },
        {
          "metadata": {
            "tags": null
          },
          "name": "stderr",
          "output_type": "stream",
          "text": [
            "Fetching TMDB IDs:  30%|███       | 2426/8080 [03:09<07:04, 13.31it/s]"
          ]
        },
        {
          "metadata": {
            "tags": null
          },
          "name": "stdout",
          "output_type": "stream",
          "text": [
            "  Title mismatch for 'The Program: Cons, Cults and Kidnapping'. Searched API, but no exact match. First API candidate: 'The Program: Cons, Cults, and Kidnapping' (ID not added).\n"
          ]
        },
        {
          "metadata": {
            "tags": null
          },
          "name": "stderr",
          "output_type": "stream",
          "text": [
            "Fetching TMDB IDs:  30%|███       | 2430/8080 [03:10<07:44, 12.15it/s]"
          ]
        },
        {
          "metadata": {
            "tags": null
          },
          "name": "stdout",
          "output_type": "stream",
          "text": [
            "  No 'results' key or empty results in API response for 'Steve Treviño: Simple Man'\n"
          ]
        },
        {
          "metadata": {
            "tags": null
          },
          "name": "stderr",
          "output_type": "stream",
          "text": [
            "Fetching TMDB IDs:  30%|███       | 2451/8080 [03:11<06:39, 14.10it/s]"
          ]
        },
        {
          "metadata": {
            "tags": null
          },
          "name": "stdout",
          "output_type": "stream",
          "text": [
            "  Title mismatch for 'Dr. Seuss' The Grinch'. Searched API, but no exact match. First API candidate: 'Dr. Seuss' The Grinch Musical' (ID not added).\n"
          ]
        },
        {
          "metadata": {
            "tags": null
          },
          "name": "stderr",
          "output_type": "stream",
          "text": [
            "Fetching TMDB IDs:  30%|███       | 2461/8080 [03:12<07:18, 12.81it/s]"
          ]
        },
        {
          "metadata": {
            "tags": null
          },
          "name": "stdout",
          "output_type": "stream",
          "text": [
            "  No 'results' key or empty results in API response for 'Merry Christmas (Hindi)'\n"
          ]
        },
        {
          "metadata": {
            "tags": null
          },
          "name": "stderr",
          "output_type": "stream",
          "text": [
            "Fetching TMDB IDs:  31%|███       | 2465/8080 [03:12<06:05, 15.37it/s]"
          ]
        },
        {
          "metadata": {
            "tags": null
          },
          "name": "stdout",
          "output_type": "stream",
          "text": [
            "  Title mismatch for 'The Program: Cons, Cults and Kidnapping'. Searched API, but no exact match. First API candidate: 'The Program: Cons, Cults, and Kidnapping' (ID not added).\n"
          ]
        },
        {
          "metadata": {
            "tags": null
          },
          "name": "stderr",
          "output_type": "stream",
          "text": [
            "Fetching TMDB IDs:  31%|███       | 2495/8080 [03:14<07:55, 11.75it/s]"
          ]
        },
        {
          "metadata": {
            "tags": null
          },
          "name": "stdout",
          "output_type": "stream",
          "text": [
            "  Title mismatch for 'Through My Window 2: Across the Sea'. Searched API, but no exact match. First API candidate: 'Through My Window: Across the Sea' (ID not added).\n"
          ]
        },
        {
          "metadata": {
            "tags": null
          },
          "name": "stderr",
          "output_type": "stream",
          "text": [
            "Fetching TMDB IDs:  31%|███       | 2497/8080 [03:14<07:43, 12.04it/s]"
          ]
        },
        {
          "metadata": {
            "tags": null
          },
          "name": "stdout",
          "output_type": "stream",
          "text": [
            "  Title mismatch for 'There Is a What-If'. Searched API, but no exact match. First API candidate: 'What?' (ID not added).\n"
          ]
        },
        {
          "metadata": {
            "tags": null
          },
          "name": "stderr",
          "output_type": "stream",
          "text": [
            "Fetching TMDB IDs:  31%|███       | 2501/8080 [03:15<07:58, 11.66it/s]"
          ]
        },
        {
          "metadata": {
            "tags": null
          },
          "name": "stdout",
          "output_type": "stream",
          "text": [
            "  Title mismatch for 'Como si fuera la primera vez'. Searched API, but no exact match. First API candidate: 'As If It Were the First Time' (ID not added).\n"
          ]
        },
        {
          "metadata": {
            "tags": null
          },
          "name": "stderr",
          "output_type": "stream",
          "text": [
            "Fetching TMDB IDs:  31%|███▏      | 2539/8080 [03:18<07:30, 12.31it/s]"
          ]
        },
        {
          "metadata": {
            "tags": null
          },
          "name": "stdout",
          "output_type": "stream",
          "text": [
            "  Title mismatch for 'Through My Window 2: Across the Sea'. Searched API, but no exact match. First API candidate: 'Through My Window: Across the Sea' (ID not added).\n"
          ]
        },
        {
          "metadata": {
            "tags": null
          },
          "name": "stderr",
          "output_type": "stream",
          "text": [
            "Fetching TMDB IDs:  32%|███▏      | 2550/8080 [03:19<07:23, 12.46it/s]"
          ]
        },
        {
          "metadata": {
            "tags": null
          },
          "name": "stdout",
          "output_type": "stream",
          "text": [
            "  No 'results' key or empty results in API response for 'Mike Epps: Ready to Sell Out'\n"
          ]
        },
        {
          "metadata": {
            "tags": null
          },
          "name": "stderr",
          "output_type": "stream",
          "text": [
            "Fetching TMDB IDs:  32%|███▏      | 2579/8080 [03:21<07:20, 12.48it/s]"
          ]
        },
        {
          "metadata": {
            "tags": null
          },
          "name": "stdout",
          "output_type": "stream",
          "text": [
            "  No 'results' key or empty results in API response for 'Guntur Kaaram (Hindi)'\n"
          ]
        },
        {
          "metadata": {
            "tags": null
          },
          "name": "stderr",
          "output_type": "stream",
          "text": [
            "Fetching TMDB IDs:  32%|███▏      | 2588/8080 [03:21<06:41, 13.69it/s]"
          ]
        },
        {
          "metadata": {
            "tags": null
          },
          "name": "stdout",
          "output_type": "stream",
          "text": [
            "  No 'results' key or empty results in API response for 'Taylor Tomlinson: Have It All'\n"
          ]
        },
        {
          "metadata": {
            "tags": null
          },
          "name": "stderr",
          "output_type": "stream",
          "text": [
            "Fetching TMDB IDs:  32%|███▏      | 2593/8080 [03:22<05:44, 15.92it/s]"
          ]
        },
        {
          "metadata": {
            "tags": null
          },
          "name": "stdout",
          "output_type": "stream",
          "text": [
            "  Title mismatch for 'House, M.D.'. Searched API, but no exact match. First API candidate: 'House' (ID not added).\n"
          ]
        },
        {
          "metadata": {
            "tags": null
          },
          "name": "stderr",
          "output_type": "stream",
          "text": [
            "Fetching TMDB IDs:  32%|███▏      | 2618/8080 [03:23<07:05, 12.84it/s]"
          ]
        },
        {
          "metadata": {
            "tags": null
          },
          "name": "stdout",
          "output_type": "stream",
          "text": [
            "  No 'results' key or empty results in API response for 'Twenty-Something, Divorced and Fabulous'\n"
          ]
        },
        {
          "metadata": {
            "tags": null
          },
          "name": "stderr",
          "output_type": "stream",
          "text": [
            "Fetching TMDB IDs:  32%|███▏      | 2623/8080 [03:24<06:18, 14.40it/s]"
          ]
        },
        {
          "metadata": {
            "tags": null
          },
          "name": "stdout",
          "output_type": "stream",
          "text": [
            "  No 'results' key or empty results in API response for 'Guntur Kaaram (Hindi)'\n"
          ]
        },
        {
          "metadata": {
            "tags": null
          },
          "name": "stderr",
          "output_type": "stream",
          "text": [
            "Fetching TMDB IDs:  33%|███▎      | 2629/8080 [03:24<07:12, 12.62it/s]"
          ]
        },
        {
          "metadata": {
            "tags": null
          },
          "name": "stdout",
          "output_type": "stream",
          "text": [
            "  Title mismatch for 'House, M.D.'. Searched API, but no exact match. First API candidate: 'House' (ID not added).\n"
          ]
        },
        {
          "metadata": {
            "tags": null
          },
          "name": "stderr",
          "output_type": "stream",
          "text": [
            "Fetching TMDB IDs:  33%|███▎      | 2656/8080 [03:26<07:10, 12.61it/s]"
          ]
        },
        {
          "metadata": {
            "tags": null
          },
          "name": "stdout",
          "output_type": "stream",
          "text": [
            "  No 'results' key or empty results in API response for 'Twenty-Something, Divorced and Fabulous'\n"
          ]
        },
        {
          "metadata": {
            "tags": null
          },
          "name": "stderr",
          "output_type": "stream",
          "text": [
            "Fetching TMDB IDs:  33%|███▎      | 2697/8080 [03:30<07:52, 11.40it/s]"
          ]
        },
        {
          "metadata": {
            "tags": null
          },
          "name": "stdout",
          "output_type": "stream",
          "text": [
            "  Title mismatch for 'Salaar'. Searched API, but no exact match. First API candidate: 'Salaar: Part 2 - Shouryaanga Parvam' (ID not added).\n"
          ]
        },
        {
          "metadata": {
            "tags": null
          },
          "name": "stderr",
          "output_type": "stream",
          "text": [
            "Fetching TMDB IDs:  33%|███▎      | 2704/8080 [03:30<06:19, 14.18it/s]"
          ]
        },
        {
          "metadata": {
            "tags": null
          },
          "name": "stdout",
          "output_type": "stream",
          "text": [
            "  No 'results' key or empty results in API response for 'Pirate Dad'\n"
          ]
        },
        {
          "metadata": {
            "tags": null
          },
          "name": "stderr",
          "output_type": "stream",
          "text": [
            "Fetching TMDB IDs:  34%|███▍      | 2735/8080 [03:33<06:13, 14.30it/s]"
          ]
        },
        {
          "metadata": {
            "tags": null
          },
          "name": "stdout",
          "output_type": "stream",
          "text": [
            "  Title mismatch for 'Salaar'. Searched API, but no exact match. First API candidate: 'Salaar: Part 2 - Shouryaanga Parvam' (ID not added).\n"
          ]
        },
        {
          "metadata": {
            "tags": null
          },
          "name": "stderr",
          "output_type": "stream",
          "text": [
            "Fetching TMDB IDs:  34%|███▍      | 2739/8080 [03:33<07:10, 12.39it/s]"
          ]
        },
        {
          "metadata": {
            "tags": null
          },
          "name": "stdout",
          "output_type": "stream",
          "text": [
            "  Title mismatch for 'Kingdom 3: The Flame of Destiny'. Searched API, but no exact match. First API candidate: 'Kingdom III: The Flame of Destiny' (ID not added).\n"
          ]
        },
        {
          "metadata": {
            "tags": null
          },
          "name": "stderr",
          "output_type": "stream",
          "text": [
            "Fetching TMDB IDs:  34%|███▍      | 2768/8080 [03:35<05:42, 15.52it/s]"
          ]
        },
        {
          "metadata": {
            "tags": null
          },
          "name": "stdout",
          "output_type": "stream",
          "text": [
            "  Title mismatch for 'Tyler Perry's The Single Moms Club'. Searched API, but no exact match. First API candidate: 'The Single Moms Club' (ID not added).\n",
            "  Title mismatch for 'Rebel Moon — Part One: A Child of Fire'. Searched API, but no exact match. First API candidate: 'Rebel Moon - Part One: A Child of Fire' (ID not added).\n"
          ]
        },
        {
          "metadata": {
            "tags": null
          },
          "name": "stderr",
          "output_type": "stream",
          "text": [
            "Fetching TMDB IDs:  34%|███▍      | 2774/8080 [03:35<06:40, 13.26it/s]"
          ]
        },
        {
          "metadata": {
            "tags": null
          },
          "name": "stdout",
          "output_type": "stream",
          "text": [
            "  Title mismatch for 'Kingdom 3: The Flame of Destiny'. Searched API, but no exact match. First API candidate: 'Kingdom III: The Flame of Destiny' (ID not added).\n",
            "  No 'results' key or empty results in API response for 'Hi Papa (Hindi)'\n"
          ]
        },
        {
          "metadata": {
            "tags": null
          },
          "name": "stderr",
          "output_type": "stream",
          "text": [
            "Fetching TMDB IDs:  35%|███▍      | 2789/8080 [03:37<07:32, 11.68it/s]"
          ]
        },
        {
          "metadata": {
            "tags": null
          },
          "name": "stdout",
          "output_type": "stream",
          "text": [
            "  No 'results' key or empty results in API response for 'Dave Chappelle: The Dreamer'\n",
            "  No 'results' key or empty results in API response for 'Pete Davidson: Turbo Fonzarelli'\n"
          ]
        },
        {
          "metadata": {
            "tags": null
          },
          "name": "stderr",
          "output_type": "stream",
          "text": [
            "Fetching TMDB IDs:  35%|███▍      | 2799/8080 [03:37<05:35, 15.75it/s]"
          ]
        },
        {
          "metadata": {
            "tags": null
          },
          "name": "stdout",
          "output_type": "stream",
          "text": [
            "  Title mismatch for 'Single’s Inferno'. Searched API, but no exact match. First API candidate: 'Single's Inferno' (ID not added).\n"
          ]
        },
        {
          "metadata": {
            "tags": null
          },
          "name": "stderr",
          "output_type": "stream",
          "text": [
            "Fetching TMDB IDs:  35%|███▍      | 2803/8080 [03:38<05:53, 14.95it/s]"
          ]
        },
        {
          "metadata": {
            "tags": null
          },
          "name": "stdout",
          "output_type": "stream",
          "text": [
            "  Title mismatch for 'Rebel Moon — Part One: A Child of Fire'. Searched API, but no exact match. First API candidate: 'Rebel Moon - Part One: A Child of Fire' (ID not added).\n"
          ]
        },
        {
          "metadata": {
            "tags": null
          },
          "name": "stderr",
          "output_type": "stream",
          "text": [
            "Fetching TMDB IDs:  35%|███▍      | 2814/8080 [03:39<07:40, 11.43it/s]"
          ]
        },
        {
          "metadata": {
            "tags": null
          },
          "name": "stdout",
          "output_type": "stream",
          "text": [
            "  Title mismatch for 'Annapoorni'. Searched API, but no exact match. First API candidate: 'Gentlewoman' (ID not added).\n"
          ]
        },
        {
          "metadata": {
            "tags": null
          },
          "name": "stderr",
          "output_type": "stream",
          "text": [
            "Fetching TMDB IDs:  35%|███▍      | 2818/8080 [03:39<08:09, 10.75it/s]"
          ]
        },
        {
          "metadata": {
            "tags": null
          },
          "name": "stdout",
          "output_type": "stream",
          "text": [
            "  Title mismatch for 'Curry & Cyanide - The Jolly Joseph Case'. Searched API, but no exact match. First API candidate: 'Curry & Cyanide: The Jolly Joseph Case' (ID not added).\n"
          ]
        },
        {
          "metadata": {
            "tags": null
          },
          "name": "stderr",
          "output_type": "stream",
          "text": [
            "Fetching TMDB IDs:  35%|███▍      | 2824/8080 [03:39<06:45, 12.96it/s]"
          ]
        },
        {
          "metadata": {
            "tags": null
          },
          "name": "stdout",
          "output_type": "stream",
          "text": [
            "  No 'results' key or empty results in API response for 'Dave Chappelle: The Dreamer'\n"
          ]
        },
        {
          "metadata": {
            "tags": null
          },
          "name": "stderr",
          "output_type": "stream",
          "text": [
            "Fetching TMDB IDs:  35%|███▌      | 2830/8080 [03:40<07:15, 12.05it/s]"
          ]
        },
        {
          "metadata": {
            "tags": null
          },
          "name": "stdout",
          "output_type": "stream",
          "text": [
            "  No 'results' key or empty results in API response for 'Ricky Gervais: Armageddon'\n"
          ]
        },
        {
          "metadata": {
            "tags": null
          },
          "name": "stderr",
          "output_type": "stream",
          "text": [
            "Fetching TMDB IDs:  35%|███▌      | 2838/8080 [03:40<05:55, 14.73it/s]"
          ]
        },
        {
          "metadata": {
            "tags": null
          },
          "name": "stdout",
          "output_type": "stream",
          "text": [
            "  Title mismatch for 'Single’s Inferno'. Searched API, but no exact match. First API candidate: 'Single's Inferno' (ID not added).\n"
          ]
        },
        {
          "metadata": {
            "tags": null
          },
          "name": "stderr",
          "output_type": "stream",
          "text": [
            "Fetching TMDB IDs:  35%|███▌      | 2842/8080 [03:41<06:23, 13.67it/s]"
          ]
        },
        {
          "metadata": {
            "tags": null
          },
          "name": "stdout",
          "output_type": "stream",
          "text": [
            "  Title mismatch for 'Rebel Moon — Part One: A Child of Fire'. Searched API, but no exact match. First API candidate: 'Rebel Moon - Part One: A Child of Fire' (ID not added).\n"
          ]
        },
        {
          "metadata": {
            "tags": null
          },
          "name": "stderr",
          "output_type": "stream",
          "text": [
            "Fetching TMDB IDs:  35%|███▌      | 2854/8080 [03:42<07:16, 11.98it/s]"
          ]
        },
        {
          "metadata": {
            "tags": null
          },
          "name": "stdout",
          "output_type": "stream",
          "text": [
            "  Title mismatch for 'Curry & Cyanide - The Jolly Joseph Case'. Searched API, but no exact match. First API candidate: 'Curry & Cyanide: The Jolly Joseph Case' (ID not added).\n"
          ]
        },
        {
          "metadata": {
            "tags": null
          },
          "name": "stderr",
          "output_type": "stream",
          "text": [
            "Fetching TMDB IDs:  35%|███▌      | 2862/8080 [03:42<07:12, 12.06it/s]"
          ]
        },
        {
          "metadata": {
            "tags": null
          },
          "name": "stdout",
          "output_type": "stream",
          "text": [
            "  No 'results' key or empty results in API response for 'Ricky Gervais: Armageddon'\n"
          ]
        },
        {
          "metadata": {
            "tags": null
          },
          "name": "stderr",
          "output_type": "stream",
          "text": [
            "Fetching TMDB IDs:  35%|███▌      | 2866/8080 [03:43<06:51, 12.68it/s]"
          ]
        },
        {
          "metadata": {
            "tags": null
          },
          "name": "stdout",
          "output_type": "stream",
          "text": [
            "  No 'results' key or empty results in API response for 'Dave Chappelle: The Dreamer'\n",
            "  No 'results' key or empty results in API response for 'Fireplace for Your Home: Crackling Birchwood Fireplace'\n"
          ]
        },
        {
          "metadata": {
            "tags": null
          },
          "name": "stderr",
          "output_type": "stream",
          "text": [
            "Fetching TMDB IDs:  36%|███▌      | 2870/8080 [03:43<07:00, 12.40it/s]"
          ]
        },
        {
          "metadata": {
            "tags": null
          },
          "name": "stdout",
          "output_type": "stream",
          "text": [
            "  No 'results' key or empty results in API response for 'Trevor Noah: Where Was I'\n"
          ]
        },
        {
          "metadata": {
            "tags": null
          },
          "name": "stderr",
          "output_type": "stream",
          "text": [
            "Fetching TMDB IDs:  36%|███▌      | 2878/8080 [03:44<06:19, 13.70it/s]"
          ]
        },
        {
          "metadata": {
            "tags": null
          },
          "name": "stdout",
          "output_type": "stream",
          "text": [
            "  Title mismatch for 'Single’s Inferno'. Searched API, but no exact match. First API candidate: 'Single's Inferno' (ID not added).\n"
          ]
        },
        {
          "metadata": {
            "tags": null
          },
          "name": "stderr",
          "output_type": "stream",
          "text": [
            "Fetching TMDB IDs:  36%|███▌      | 2884/8080 [03:44<05:07, 16.92it/s]"
          ]
        },
        {
          "metadata": {
            "tags": null
          },
          "name": "stdout",
          "output_type": "stream",
          "text": [
            "  Title mismatch for 'Rebel Moon — Part One: A Child of Fire'. Searched API, but no exact match. First API candidate: 'Rebel Moon - Part One: A Child of Fire' (ID not added).\n"
          ]
        },
        {
          "metadata": {
            "tags": null
          },
          "name": "stderr",
          "output_type": "stream",
          "text": [
            "Fetching TMDB IDs:  36%|███▌      | 2890/8080 [03:44<06:13, 13.89it/s]"
          ]
        },
        {
          "metadata": {
            "tags": null
          },
          "name": "stdout",
          "output_type": "stream",
          "text": [
            "  Title mismatch for 'Dr. Seuss' The Grinch'. Searched API, but no exact match. First API candidate: 'Dr. Seuss' The Grinch Musical' (ID not added).\n"
          ]
        },
        {
          "metadata": {
            "tags": null
          },
          "name": "stderr",
          "output_type": "stream",
          "text": [
            "Fetching TMDB IDs:  36%|███▌      | 2896/8080 [03:45<06:45, 12.80it/s]"
          ]
        },
        {
          "metadata": {
            "tags": null
          },
          "name": "stdout",
          "output_type": "stream",
          "text": [
            "  Title mismatch for 'Curry & Cyanide - The Jolly Joseph Case'. Searched API, but no exact match. First API candidate: 'Curry & Cyanide: The Jolly Joseph Case' (ID not added).\n"
          ]
        },
        {
          "metadata": {
            "tags": null
          },
          "name": "stderr",
          "output_type": "stream",
          "text": [
            "Fetching TMDB IDs:  36%|███▌      | 2904/8080 [03:45<06:04, 14.20it/s]"
          ]
        },
        {
          "metadata": {
            "tags": null
          },
          "name": "stdout",
          "output_type": "stream",
          "text": [
            "  No 'results' key or empty results in API response for 'Trevor Noah: Where Was I'\n"
          ]
        },
        {
          "metadata": {
            "tags": null
          },
          "name": "stderr",
          "output_type": "stream",
          "text": [
            "Fetching TMDB IDs:  36%|███▌      | 2911/8080 [03:46<05:37, 15.33it/s]"
          ]
        },
        {
          "metadata": {
            "tags": null
          },
          "name": "stdout",
          "output_type": "stream",
          "text": [
            "  No 'results' key or empty results in API response for 'Fireplace for Your Home: Crackling Birchwood Fireplace'\n"
          ]
        },
        {
          "metadata": {
            "tags": null
          },
          "name": "stderr",
          "output_type": "stream",
          "text": [
            "Fetching TMDB IDs:  36%|███▌      | 2916/8080 [03:46<05:15, 16.39it/s]"
          ]
        },
        {
          "metadata": {
            "tags": null
          },
          "name": "stdout",
          "output_type": "stream",
          "text": [
            "  Title mismatch for 'Single’s Inferno'. Searched API, but no exact match. First API candidate: 'Single's Inferno' (ID not added).\n"
          ]
        },
        {
          "metadata": {
            "tags": null
          },
          "name": "stderr",
          "output_type": "stream",
          "text": [
            "Fetching TMDB IDs:  36%|███▌      | 2923/8080 [03:47<05:54, 14.55it/s]"
          ]
        },
        {
          "metadata": {
            "tags": null
          },
          "name": "stdout",
          "output_type": "stream",
          "text": [
            "  No 'results' key or empty results in API response for 'Love is Blind Brazil: After the Altar'\n"
          ]
        },
        {
          "metadata": {
            "tags": null
          },
          "name": "stderr",
          "output_type": "stream",
          "text": [
            "Fetching TMDB IDs:  36%|███▋      | 2931/8080 [03:47<07:07, 12.05it/s]"
          ]
        },
        {
          "metadata": {
            "tags": null
          },
          "name": "stdout",
          "output_type": "stream",
          "text": [
            "  Title mismatch for 'Dr. Seuss' The Grinch'. Searched API, but no exact match. First API candidate: 'Dr. Seuss' The Grinch Musical' (ID not added).\n"
          ]
        },
        {
          "metadata": {
            "tags": null
          },
          "name": "stderr",
          "output_type": "stream",
          "text": [
            "Fetching TMDB IDs:  36%|███▋      | 2939/8080 [03:48<07:13, 11.87it/s]"
          ]
        },
        {
          "metadata": {
            "tags": null
          },
          "name": "stdout",
          "output_type": "stream",
          "text": [
            "  Title mismatch for 'NAGA'. Searched API, but no exact match. First API candidate: 'Nagasaki 1945 ~ The Angelus Bells' (ID not added).\n"
          ]
        },
        {
          "metadata": {
            "tags": null
          },
          "name": "stderr",
          "output_type": "stream",
          "text": [
            "Fetching TMDB IDs:  37%|███▋      | 2957/8080 [03:49<05:39, 15.07it/s]"
          ]
        },
        {
          "metadata": {
            "tags": null
          },
          "name": "stdout",
          "output_type": "stream",
          "text": [
            "  Title mismatch for 'Single’s Inferno'. Searched API, but no exact match. First API candidate: 'Single's Inferno' (ID not added).\n"
          ]
        },
        {
          "metadata": {
            "tags": null
          },
          "name": "stderr",
          "output_type": "stream",
          "text": [
            "Fetching TMDB IDs:  37%|███▋      | 2973/8080 [03:50<06:31, 13.03it/s]"
          ]
        },
        {
          "metadata": {
            "tags": null
          },
          "name": "stdout",
          "output_type": "stream",
          "text": [
            "  Title mismatch for 'Mission Raniganj: The Great Bharat Rescue'. Searched API, but no exact match. First API candidate: 'Mission Raniganj' (ID not added).\n"
          ]
        },
        {
          "metadata": {
            "tags": null
          },
          "name": "stderr",
          "output_type": "stream",
          "text": [
            "Fetching TMDB IDs:  37%|███▋      | 3010/8080 [03:53<06:32, 12.92it/s]"
          ]
        },
        {
          "metadata": {
            "tags": null
          },
          "name": "stdout",
          "output_type": "stream",
          "text": [
            "  Title mismatch for 'Dr. Seuss' The Grinch'. Searched API, but no exact match. First API candidate: 'Dr. Seuss' The Grinch Musical' (ID not added).\n"
          ]
        },
        {
          "metadata": {
            "tags": null
          },
          "name": "stderr",
          "output_type": "stream",
          "text": [
            "Fetching TMDB IDs:  37%|███▋      | 3014/8080 [03:54<07:17, 11.58it/s]"
          ]
        },
        {
          "metadata": {
            "tags": null
          },
          "name": "stdout",
          "output_type": "stream",
          "text": [
            "  No 'results' key or empty results in API response for 'Leo (Hindi)'\n",
            "  Title mismatch for 'Mission Raniganj: The Great Bharat Rescue'. Searched API, but no exact match. First API candidate: 'Mission Raniganj' (ID not added).\n"
          ]
        },
        {
          "metadata": {
            "tags": null
          },
          "name": "stderr",
          "output_type": "stream",
          "text": [
            "Fetching TMDB IDs:  38%|███▊      | 3050/8080 [03:56<07:36, 11.02it/s]"
          ]
        },
        {
          "metadata": {
            "tags": null
          },
          "name": "stdout",
          "output_type": "stream",
          "text": [
            "  Title mismatch for 'Dr. Seuss' The Grinch'. Searched API, but no exact match. First API candidate: 'Dr. Seuss' The Grinch Musical' (ID not added).\n"
          ]
        },
        {
          "metadata": {
            "tags": null
          },
          "name": "stderr",
          "output_type": "stream",
          "text": [
            "Fetching TMDB IDs:  38%|███▊      | 3058/8080 [03:57<07:26, 11.26it/s]"
          ]
        },
        {
          "metadata": {
            "tags": null
          },
          "name": "stdout",
          "output_type": "stream",
          "text": [
            "  Title mismatch for 'Jawan: Extended Cut'. Searched API, but no exact match. First API candidate: 'Jawan' (ID not added).\n"
          ]
        },
        {
          "metadata": {
            "tags": null
          },
          "name": "stderr",
          "output_type": "stream",
          "text": [
            "Fetching TMDB IDs:  38%|███▊      | 3066/8080 [03:58<07:14, 11.55it/s]"
          ]
        },
        {
          "metadata": {
            "tags": null
          },
          "name": "stdout",
          "output_type": "stream",
          "text": [
            "  No 'results' key or empty results in API response for 'Matt Rife: Natural Selection'\n"
          ]
        },
        {
          "metadata": {
            "tags": null
          },
          "name": "stderr",
          "output_type": "stream",
          "text": [
            "Fetching TMDB IDs:  38%|███▊      | 3072/8080 [03:58<06:28, 12.90it/s]"
          ]
        },
        {
          "metadata": {
            "tags": null
          },
          "name": "stdout",
          "output_type": "stream",
          "text": [
            "  No 'results' key or empty results in API response for 'Mike Birbiglia: The Old Man and The Pool'\n"
          ]
        },
        {
          "metadata": {
            "tags": null
          },
          "name": "stderr",
          "output_type": "stream",
          "text": [
            "Fetching TMDB IDs:  38%|███▊      | 3087/8080 [03:59<07:24, 11.23it/s]"
          ]
        },
        {
          "metadata": {
            "tags": null
          },
          "name": "stdout",
          "output_type": "stream",
          "text": [
            "  Title mismatch for 'F9: The Fast Saga'. Searched API, but no exact match. First API candidate: 'F9' (ID not added).\n"
          ]
        },
        {
          "metadata": {
            "tags": null
          },
          "name": "stderr",
          "output_type": "stream",
          "text": [
            "Fetching TMDB IDs:  38%|███▊      | 3097/8080 [04:00<07:35, 10.94it/s]"
          ]
        },
        {
          "metadata": {
            "tags": null
          },
          "name": "stdout",
          "output_type": "stream",
          "text": [
            "  Title mismatch for 'Jawan: Extended Cut'. Searched API, but no exact match. First API candidate: 'Jawan' (ID not added).\n"
          ]
        },
        {
          "metadata": {
            "tags": null
          },
          "name": "stderr",
          "output_type": "stream",
          "text": [
            "Fetching TMDB IDs:  38%|███▊      | 3103/8080 [04:01<06:21, 13.04it/s]"
          ]
        },
        {
          "metadata": {
            "tags": null
          },
          "name": "stdout",
          "output_type": "stream",
          "text": [
            "  No 'results' key or empty results in API response for 'Matt Rife: Natural Selection'\n"
          ]
        },
        {
          "metadata": {
            "tags": null
          },
          "name": "stderr",
          "output_type": "stream",
          "text": [
            "Fetching TMDB IDs:  39%|███▊      | 3125/8080 [04:02<06:34, 12.55it/s]"
          ]
        },
        {
          "metadata": {
            "tags": null
          },
          "name": "stdout",
          "output_type": "stream",
          "text": [
            "  Title mismatch for 'F9: The Fast Saga'. Searched API, but no exact match. First API candidate: 'F9' (ID not added).\n"
          ]
        },
        {
          "metadata": {
            "tags": null
          },
          "name": "stderr",
          "output_type": "stream",
          "text": [
            "Fetching TMDB IDs:  39%|███▉      | 3135/8080 [04:03<06:13, 13.23it/s]"
          ]
        },
        {
          "metadata": {
            "tags": null
          },
          "name": "stdout",
          "output_type": "stream",
          "text": [
            "  Title mismatch for 'Jawan: Extended Cut'. Searched API, but no exact match. First API candidate: 'Jawan' (ID not added).\n"
          ]
        },
        {
          "metadata": {
            "tags": null
          },
          "name": "stderr",
          "output_type": "stream",
          "text": [
            "Fetching TMDB IDs:  39%|███▉      | 3175/8080 [04:06<05:27, 14.96it/s]"
          ]
        },
        {
          "metadata": {
            "tags": null
          },
          "name": "stdout",
          "output_type": "stream",
          "text": [
            "  Title mismatch for 'Jawan: Extended Cut'. Searched API, but no exact match. First API candidate: 'Jawan' (ID not added).\n"
          ]
        },
        {
          "metadata": {
            "tags": null
          },
          "name": "stderr",
          "output_type": "stream",
          "text": [
            "Fetching TMDB IDs:  40%|████      | 3241/8080 [04:11<05:55, 13.61it/s]"
          ]
        },
        {
          "metadata": {
            "tags": null
          },
          "name": "stdout",
          "output_type": "stream",
          "text": [
            "  No 'results' key or empty results in API response for 'Learning and fun with Jose Comelon'\n"
          ]
        },
        {
          "metadata": {
            "tags": null
          },
          "name": "stderr",
          "output_type": "stream",
          "text": [
            "Fetching TMDB IDs:  41%|████      | 3313/8080 [04:16<05:01, 15.80it/s]"
          ]
        },
        {
          "metadata": {
            "tags": null
          },
          "name": "stdout",
          "output_type": "stream",
          "text": [
            "  Title mismatch for 'The Great British Baking Show'. Searched API, but no exact match. First API candidate: 'The Great British Baking Show Holidays' (ID not added).\n"
          ]
        },
        {
          "metadata": {
            "tags": null
          },
          "name": "stderr",
          "output_type": "stream",
          "text": [
            "Fetching TMDB IDs:  41%|████▏     | 3353/8080 [04:19<05:08, 15.34it/s]"
          ]
        },
        {
          "metadata": {
            "tags": null
          },
          "name": "stdout",
          "output_type": "stream",
          "text": [
            "  Title mismatch for 'The Great British Baking Show'. Searched API, but no exact match. First API candidate: 'The Great British Baking Show Holidays' (ID not added).\n"
          ]
        },
        {
          "metadata": {
            "tags": null
          },
          "name": "stderr",
          "output_type": "stream",
          "text": [
            "Fetching TMDB IDs:  42%|████▏     | 3420/8080 [04:24<07:21, 10.55it/s]"
          ]
        },
        {
          "metadata": {
            "tags": null
          },
          "name": "stdout",
          "output_type": "stream",
          "text": [
            "  No 'results' key or empty results in API response for 'Bhola Shankar (Hindi)'\n"
          ]
        },
        {
          "metadata": {
            "tags": null
          },
          "name": "stderr",
          "output_type": "stream",
          "text": [
            "Fetching TMDB IDs:  42%|████▏     | 3426/8080 [04:25<06:11, 12.53it/s]"
          ]
        },
        {
          "metadata": {
            "tags": null
          },
          "name": "stdout",
          "output_type": "stream",
          "text": [
            "  Title mismatch for 'Inside the World’s Toughest Prisons'. Searched API, but no exact match. First API candidate: 'Inside the World's Toughest Prisons' (ID not added).\n"
          ]
        },
        {
          "metadata": {
            "tags": null
          },
          "name": "stderr",
          "output_type": "stream",
          "text": [
            "Fetching TMDB IDs:  42%|████▏     | 3430/8080 [04:25<05:49, 13.30it/s]"
          ]
        },
        {
          "metadata": {
            "tags": null
          },
          "name": "stdout",
          "output_type": "stream",
          "text": [
            "  No 'results' key or empty results in API response for 'Kountry Wayne: A Woman's Prayer'\n"
          ]
        },
        {
          "metadata": {
            "tags": null
          },
          "name": "stderr",
          "output_type": "stream",
          "text": [
            "Fetching TMDB IDs:  43%|████▎     | 3445/8080 [04:26<05:37, 13.73it/s]"
          ]
        },
        {
          "metadata": {
            "tags": null
          },
          "name": "stdout",
          "output_type": "stream",
          "text": [
            "  Title mismatch for 'Dr. Seuss' The Grinch'. Searched API, but no exact match. First API candidate: 'Dr. Seuss' The Grinch Musical' (ID not added).\n"
          ]
        },
        {
          "metadata": {
            "tags": null
          },
          "name": "stderr",
          "output_type": "stream",
          "text": [
            "Fetching TMDB IDs:  43%|████▎     | 3471/8080 [04:28<06:00, 12.77it/s]"
          ]
        },
        {
          "metadata": {
            "tags": null
          },
          "name": "stdout",
          "output_type": "stream",
          "text": [
            "  Title mismatch for 'Inside the World’s Toughest Prisons'. Searched API, but no exact match. First API candidate: 'Inside the World's Toughest Prisons' (ID not added).\n"
          ]
        },
        {
          "metadata": {
            "tags": null
          },
          "name": "stderr",
          "output_type": "stream",
          "text": [
            "Fetching TMDB IDs:  43%|████▎     | 3486/8080 [04:29<05:30, 13.92it/s]"
          ]
        },
        {
          "metadata": {
            "tags": null
          },
          "name": "stdout",
          "output_type": "stream",
          "text": [
            "  Title mismatch for 'Dr. Seuss' The Grinch'. Searched API, but no exact match. First API candidate: 'Dr. Seuss' The Grinch Musical' (ID not added).\n"
          ]
        },
        {
          "metadata": {
            "tags": null
          },
          "name": "stderr",
          "output_type": "stream",
          "text": [
            "Fetching TMDB IDs:  43%|████▎     | 3507/8080 [04:31<06:31, 11.67it/s]"
          ]
        },
        {
          "metadata": {
            "tags": null
          },
          "name": "stdout",
          "output_type": "stream",
          "text": [
            "  No 'results' key or empty results in API response for 'Shane Gillis: Beautiful Dogs'\n"
          ]
        },
        {
          "metadata": {
            "tags": null
          },
          "name": "stderr",
          "output_type": "stream",
          "text": [
            "Fetching TMDB IDs:  44%|████▎     | 3526/8080 [04:32<06:25, 11.81it/s]"
          ]
        },
        {
          "metadata": {
            "tags": null
          },
          "name": "stdout",
          "output_type": "stream",
          "text": [
            "  Title mismatch for 'Big George Foreman: The Miraculous Story of the Once and Future Heavyweight Champion of the World'. Searched API, but no exact match. First API candidate: 'Big George Foreman' (ID not added).\n"
          ]
        },
        {
          "metadata": {
            "tags": null
          },
          "name": "stderr",
          "output_type": "stream",
          "text": [
            "Fetching TMDB IDs:  44%|████▍     | 3540/8080 [04:34<05:54, 12.81it/s]"
          ]
        },
        {
          "metadata": {
            "tags": null
          },
          "name": "stdout",
          "output_type": "stream",
          "text": [
            "  No 'results' key or empty results in API response for 'Bro (Hindi)'\n"
          ]
        },
        {
          "metadata": {
            "tags": null
          },
          "name": "stderr",
          "output_type": "stream",
          "text": [
            "Fetching TMDB IDs:  45%|████▌     | 3661/8080 [04:43<05:49, 12.66it/s]"
          ]
        },
        {
          "metadata": {
            "tags": null
          },
          "name": "stdout",
          "output_type": "stream",
          "text": [
            "  Title mismatch for 'The Raid: Redemption'. Searched API, but no exact match. First API candidate: 'The Raid' (ID not added).\n"
          ]
        },
        {
          "metadata": {
            "tags": null
          },
          "name": "stderr",
          "output_type": "stream",
          "text": [
            "Fetching TMDB IDs:  46%|████▋     | 3739/8080 [04:48<06:29, 11.14it/s]"
          ]
        },
        {
          "metadata": {
            "tags": null
          },
          "name": "stdout",
          "output_type": "stream",
          "text": [
            "  No 'results' key or empty results in API response for 'Kingdom2: Far and Away'\n",
            "  No 'results' key or empty results in API response for 'Maamannan (Tamil)'\n"
          ]
        },
        {
          "metadata": {
            "tags": null
          },
          "name": "stderr",
          "output_type": "stream",
          "text": [
            "Fetching TMDB IDs:  46%|████▋     | 3748/8080 [04:49<05:46, 12.50it/s]"
          ]
        },
        {
          "metadata": {
            "tags": null
          },
          "name": "stdout",
          "output_type": "stream",
          "text": [
            "  Title mismatch for 'Barbie Life in the Dreamhouse'. Searched API, but no exact match. First API candidate: 'Barbie: Life in the Dreamhouse' (ID not added).\n"
          ]
        },
        {
          "metadata": {
            "tags": null
          },
          "name": "stderr",
          "output_type": "stream",
          "text": [
            "Fetching TMDB IDs:  46%|████▋     | 3753/8080 [04:49<04:49, 14.96it/s]"
          ]
        },
        {
          "metadata": {
            "tags": null
          },
          "name": "stdout",
          "output_type": "stream",
          "text": [
            "  No 'results' key or empty results in API response for 'Mark Normand: Soup to Nuts'\n"
          ]
        },
        {
          "metadata": {
            "tags": null
          },
          "name": "stderr",
          "output_type": "stream",
          "text": [
            "Fetching TMDB IDs:  47%|████▋     | 3778/8080 [04:51<06:18, 11.37it/s]"
          ]
        },
        {
          "metadata": {
            "tags": null
          },
          "name": "stdout",
          "output_type": "stream",
          "text": [
            "  No 'results' key or empty results in API response for 'Kingdom2: Far and Away'\n"
          ]
        },
        {
          "metadata": {
            "tags": null
          },
          "name": "stderr",
          "output_type": "stream",
          "text": [
            "Fetching TMDB IDs:  47%|████▋     | 3782/8080 [04:52<05:41, 12.57it/s]"
          ]
        },
        {
          "metadata": {
            "tags": null
          },
          "name": "stdout",
          "output_type": "stream",
          "text": [
            "  Title mismatch for 'Bear Man'. Searched API, but no exact match. First API candidate: 'The Bear Man' (ID not added).\n"
          ]
        },
        {
          "metadata": {
            "tags": null
          },
          "name": "stderr",
          "output_type": "stream",
          "text": [
            "Fetching TMDB IDs:  47%|████▋     | 3819/8080 [04:55<05:46, 12.30it/s]"
          ]
        },
        {
          "metadata": {
            "tags": null
          },
          "name": "stdout",
          "output_type": "stream",
          "text": [
            "  Title mismatch for 'Through My Window 2: Across the Sea'. Searched API, but no exact match. First API candidate: 'Through My Window: Across the Sea' (ID not added).\n"
          ]
        },
        {
          "metadata": {
            "tags": null
          },
          "name": "stderr",
          "output_type": "stream",
          "text": [
            "Fetching TMDB IDs:  48%|████▊     | 3855/8080 [04:57<04:57, 14.18it/s]"
          ]
        },
        {
          "metadata": {
            "tags": null
          },
          "name": "stdout",
          "output_type": "stream",
          "text": [
            "  Title mismatch for 'Through My Window 2: Across the Sea'. Searched API, but no exact match. First API candidate: 'Through My Window: Across the Sea' (ID not added).\n"
          ]
        },
        {
          "metadata": {
            "tags": null
          },
          "name": "stderr",
          "output_type": "stream",
          "text": [
            "Fetching TMDB IDs:  48%|████▊     | 3867/8080 [04:58<04:28, 15.72it/s]"
          ]
        },
        {
          "metadata": {
            "tags": null
          },
          "name": "stdout",
          "output_type": "stream",
          "text": [
            "  No 'results' key or empty results in API response for 'Tom Segura: Sledgehammer'\n"
          ]
        },
        {
          "metadata": {
            "tags": null
          },
          "name": "stderr",
          "output_type": "stream",
          "text": [
            "Fetching TMDB IDs:  48%|████▊     | 3894/8080 [05:00<04:49, 14.45it/s]"
          ]
        },
        {
          "metadata": {
            "tags": null
          },
          "name": "stdout",
          "output_type": "stream",
          "text": [
            "  Title mismatch for 'Through My Window 2: Across the Sea'. Searched API, but no exact match. First API candidate: 'Through My Window: Across the Sea' (ID not added).\n"
          ]
        },
        {
          "metadata": {
            "tags": null
          },
          "name": "stderr",
          "output_type": "stream",
          "text": [
            "Fetching TMDB IDs:  49%|████▊     | 3933/8080 [05:03<05:11, 13.30it/s]"
          ]
        },
        {
          "metadata": {
            "tags": null
          },
          "name": "stdout",
          "output_type": "stream",
          "text": [
            "  Title mismatch for 'Through My Window 2: Across the Sea'. Searched API, but no exact match. First API candidate: 'Through My Window: Across the Sea' (ID not added).\n"
          ]
        },
        {
          "metadata": {
            "tags": null
          },
          "name": "stderr",
          "output_type": "stream",
          "text": [
            "Fetching TMDB IDs:  49%|████▉     | 3948/8080 [05:04<05:23, 12.76it/s]"
          ]
        },
        {
          "metadata": {
            "tags": null
          },
          "name": "stdout",
          "output_type": "stream",
          "text": [
            "  No 'results' key or empty results in API response for '85 South: Ghetto Legends'\n"
          ]
        },
        {
          "metadata": {
            "tags": null
          },
          "name": "stderr",
          "output_type": "stream",
          "text": [
            "Fetching TMDB IDs:  49%|████▉     | 3991/8080 [05:07<04:44, 14.39it/s]"
          ]
        },
        {
          "metadata": {
            "tags": null
          },
          "name": "stdout",
          "output_type": "stream",
          "text": [
            "  No 'results' key or empty results in API response for 'Amy Schumer: Emergency Contact'\n"
          ]
        },
        {
          "metadata": {
            "tags": null
          },
          "name": "stderr",
          "output_type": "stream",
          "text": [
            "Fetching TMDB IDs:  50%|█████     | 4053/8080 [05:11<04:20, 15.43it/s]"
          ]
        },
        {
          "metadata": {
            "tags": null
          },
          "name": "stdout",
          "output_type": "stream",
          "text": [
            "  Title mismatch for 'F9: The Fast Saga'. Searched API, but no exact match. First API candidate: 'F9' (ID not added).\n"
          ]
        },
        {
          "metadata": {
            "tags": null
          },
          "name": "stderr",
          "output_type": "stream",
          "text": [
            "Fetching TMDB IDs:  50%|█████     | 4080/8080 [05:13<05:11, 12.83it/s]"
          ]
        },
        {
          "metadata": {
            "tags": null
          },
          "name": "stdout",
          "output_type": "stream",
          "text": [
            "  Title mismatch for 'Pablo Escobar, el patrón del mal'. Searched API, but no exact match. First API candidate: 'Pablo Escobar: The Drug Lord' (ID not added).\n"
          ]
        },
        {
          "metadata": {
            "tags": null
          },
          "name": "stderr",
          "output_type": "stream",
          "text": [
            "Fetching TMDB IDs:  51%|█████     | 4099/8080 [05:15<04:53, 13.58it/s]"
          ]
        },
        {
          "metadata": {
            "tags": null
          },
          "name": "stdout",
          "output_type": "stream",
          "text": [
            "  Title mismatch for 'Astérix & Obélix: The Middle Kingdom'. Searched API, but no exact match. First API candidate: 'Asterix & Obelix: The Middle Kingdom' (ID not added).\n",
            "  Title mismatch for 'Kathal - A Jackfruit Mystery'. Searched API, but no exact match. First API candidate: 'Kathal' (ID not added).\n"
          ]
        },
        {
          "metadata": {
            "tags": null
          },
          "name": "stderr",
          "output_type": "stream",
          "text": [
            "Fetching TMDB IDs:  51%|█████     | 4118/8080 [05:16<04:24, 14.96it/s]"
          ]
        },
        {
          "metadata": {
            "tags": null
          },
          "name": "stdout",
          "output_type": "stream",
          "text": [
            "  Title mismatch for 'Pablo Escobar, el patrón del mal'. Searched API, but no exact match. First API candidate: 'Pablo Escobar: The Drug Lord' (ID not added).\n"
          ]
        },
        {
          "metadata": {
            "tags": null
          },
          "name": "stderr",
          "output_type": "stream",
          "text": [
            "Fetching TMDB IDs:  51%|█████     | 4128/8080 [05:17<04:54, 13.42it/s]"
          ]
        },
        {
          "metadata": {
            "tags": null
          },
          "name": "stdout",
          "output_type": "stream",
          "text": [
            "  Title mismatch for 'Harry Potter and the Sorcerer's Stone'. Searched API, but no exact match. First API candidate: 'Harry Potter and the Philosopher's Stone' (ID not added).\n"
          ]
        },
        {
          "metadata": {
            "tags": null
          },
          "name": "stderr",
          "output_type": "stream",
          "text": [
            "Fetching TMDB IDs:  51%|█████     | 4135/8080 [05:17<04:45, 13.83it/s]"
          ]
        },
        {
          "metadata": {
            "tags": null
          },
          "name": "stdout",
          "output_type": "stream",
          "text": [
            "  Title mismatch for 'Astérix & Obélix: The Middle Kingdom'. Searched API, but no exact match. First API candidate: 'Asterix & Obelix: The Middle Kingdom' (ID not added).\n"
          ]
        },
        {
          "metadata": {
            "tags": null
          },
          "name": "stderr",
          "output_type": "stream",
          "text": [
            "Fetching TMDB IDs:  51%|█████     | 4139/8080 [05:18<05:34, 11.79it/s]"
          ]
        },
        {
          "metadata": {
            "tags": null
          },
          "name": "stdout",
          "output_type": "stream",
          "text": [
            "  Title mismatch for 'Kathal - A Jackfruit Mystery'. Searched API, but no exact match. First API candidate: 'Kathal' (ID not added).\n",
            "  No 'results' key or empty results in API response for 'Kingdom2: Far and Away'\n"
          ]
        },
        {
          "metadata": {
            "tags": null
          },
          "name": "stderr",
          "output_type": "stream",
          "text": [
            "Fetching TMDB IDs:  51%|█████▏    | 4160/8080 [05:19<04:01, 16.23it/s]"
          ]
        },
        {
          "metadata": {
            "tags": null
          },
          "name": "stdout",
          "output_type": "stream",
          "text": [
            "  Title mismatch for 'Pablo Escobar, el patrón del mal'. Searched API, but no exact match. First API candidate: 'Pablo Escobar: The Drug Lord' (ID not added).\n"
          ]
        },
        {
          "metadata": {
            "tags": null
          },
          "name": "stderr",
          "output_type": "stream",
          "text": [
            "Fetching TMDB IDs:  52%|█████▏    | 4179/8080 [05:21<05:56, 10.95it/s]"
          ]
        },
        {
          "metadata": {
            "tags": null
          },
          "name": "stdout",
          "output_type": "stream",
          "text": [
            "  Title mismatch for 'You & Me & Me'. Searched API, but no exact match. First API candidate: 'Ask Me What You Want' (ID not added).\n"
          ]
        },
        {
          "metadata": {
            "tags": null
          },
          "name": "stderr",
          "output_type": "stream",
          "text": [
            "Fetching TMDB IDs:  52%|█████▏    | 4200/8080 [05:22<04:19, 14.98it/s]"
          ]
        },
        {
          "metadata": {
            "tags": null
          },
          "name": "stdout",
          "output_type": "stream",
          "text": [
            "  Title mismatch for 'Pablo Escobar, el patrón del mal'. Searched API, but no exact match. First API candidate: 'Pablo Escobar: The Drug Lord' (ID not added).\n"
          ]
        },
        {
          "metadata": {
            "tags": null
          },
          "name": "stderr",
          "output_type": "stream",
          "text": [
            "Fetching TMDB IDs:  53%|█████▎    | 4250/8080 [05:26<05:07, 12.44it/s]"
          ]
        },
        {
          "metadata": {
            "tags": null
          },
          "name": "stdout",
          "output_type": "stream",
          "text": [
            "  Title mismatch for 'Dr. Seuss' The Lorax'. Searched API, but no exact match. First API candidate: 'The Lorax' (ID not added).\n"
          ]
        },
        {
          "metadata": {
            "tags": null
          },
          "name": "stderr",
          "output_type": "stream",
          "text": [
            "Fetching TMDB IDs:  53%|█████▎    | 4289/8080 [05:29<04:55, 12.82it/s]"
          ]
        },
        {
          "metadata": {
            "tags": null
          },
          "name": "stdout",
          "output_type": "stream",
          "text": [
            "  Title mismatch for 'F9: The Fast Saga'. Searched API, but no exact match. First API candidate: 'F9' (ID not added).\n",
            "  Title mismatch for 'Dr. Seuss' The Lorax'. Searched API, but no exact match. First API candidate: 'The Lorax' (ID not added).\n"
          ]
        },
        {
          "metadata": {
            "tags": null
          },
          "name": "stderr",
          "output_type": "stream",
          "text": [
            "Fetching TMDB IDs:  53%|█████▎    | 4320/8080 [05:31<04:37, 13.55it/s]"
          ]
        },
        {
          "metadata": {
            "tags": null
          },
          "name": "stdout",
          "output_type": "stream",
          "text": [
            "  Title mismatch for 'Pablo Escobar, el patrón del mal'. Searched API, but no exact match. First API candidate: 'Pablo Escobar: The Drug Lord' (ID not added).\n"
          ]
        },
        {
          "metadata": {
            "tags": null
          },
          "name": "stderr",
          "output_type": "stream",
          "text": [
            "Fetching TMDB IDs:  54%|█████▎    | 4334/8080 [05:32<03:47, 16.44it/s]"
          ]
        },
        {
          "metadata": {
            "tags": null
          },
          "name": "stdout",
          "output_type": "stream",
          "text": [
            "  Title mismatch for 'Dr. Seuss' The Lorax'. Searched API, but no exact match. First API candidate: 'The Lorax' (ID not added).\n"
          ]
        },
        {
          "metadata": {
            "tags": null
          },
          "name": "stderr",
          "output_type": "stream",
          "text": [
            "Fetching TMDB IDs:  54%|█████▍    | 4343/8080 [05:33<04:11, 14.89it/s]"
          ]
        },
        {
          "metadata": {
            "tags": null
          },
          "name": "stdout",
          "output_type": "stream",
          "text": [
            "  Title mismatch for '비상선언'. Searched API, but no exact match. First API candidate: 'Emergency Declaration' (ID not added).\n"
          ]
        },
        {
          "metadata": {
            "tags": null
          },
          "name": "stderr",
          "output_type": "stream",
          "text": [
            "Fetching TMDB IDs:  54%|█████▍    | 4359/8080 [05:34<05:06, 12.14it/s]"
          ]
        },
        {
          "metadata": {
            "tags": null
          },
          "name": "stdout",
          "output_type": "stream",
          "text": [
            "  Title mismatch for 'Pablo Escobar, el patrón del mal'. Searched API, but no exact match. First API candidate: 'Pablo Escobar: The Drug Lord' (ID not added).\n"
          ]
        },
        {
          "metadata": {
            "tags": null
          },
          "name": "stderr",
          "output_type": "stream",
          "text": [
            "Fetching TMDB IDs:  54%|█████▍    | 4374/8080 [05:35<04:38, 13.31it/s]"
          ]
        },
        {
          "metadata": {
            "tags": null
          },
          "name": "stdout",
          "output_type": "stream",
          "text": [
            "  Title mismatch for '비상선언'. Searched API, but no exact match. First API candidate: 'Emergency Declaration' (ID not added).\n"
          ]
        },
        {
          "metadata": {
            "tags": null
          },
          "name": "stderr",
          "output_type": "stream",
          "text": [
            "Fetching TMDB IDs:  54%|█████▍    | 4403/8080 [05:37<04:28, 13.70it/s]"
          ]
        },
        {
          "metadata": {
            "tags": null
          },
          "name": "stdout",
          "output_type": "stream",
          "text": [
            "  Title mismatch for 'Pablo Escobar, el patrón del mal'. Searched API, but no exact match. First API candidate: 'Pablo Escobar: The Drug Lord' (ID not added).\n"
          ]
        },
        {
          "output_type": "stream",
          "name": "stderr",
          "text": [
            "Fetching TMDB IDs:  55%|█████▍    | 4414/8080 [05:38<04:20, 14.07it/s]"
          ]
        },
        {
          "output_type": "stream",
          "name": "stdout",
          "text": [
            "  Title mismatch for '비상선언'. Searched API, but no exact match. First API candidate: 'Emergency Declaration' (ID not added).\n"
          ]
        },
        {
          "output_type": "stream",
          "name": "stderr",
          "text": [
            "Fetching TMDB IDs:  55%|█████▌    | 4459/8080 [05:42<05:41, 10.59it/s]"
          ]
        },
        {
          "output_type": "stream",
          "name": "stdout",
          "text": [
            "  No 'results' key or empty results in API response for 'Sir (Hindi)'\n"
          ]
        },
        {
          "output_type": "stream",
          "name": "stderr",
          "text": [
            "Fetching TMDB IDs:  56%|█████▌    | 4499/8080 [05:44<05:11, 11.50it/s]"
          ]
        },
        {
          "output_type": "stream",
          "name": "stdout",
          "text": [
            "  No 'results' key or empty results in API response for 'RRR (Hindi)'\n"
          ]
        },
        {
          "output_type": "stream",
          "name": "stderr",
          "text": [
            "Fetching TMDB IDs:  56%|█████▋    | 4550/8080 [05:48<04:39, 12.65it/s]"
          ]
        },
        {
          "output_type": "stream",
          "name": "stdout",
          "text": [
            "  No 'results' key or empty results in API response for 'Chris Rock: Selective Outrage'\n"
          ]
        },
        {
          "output_type": "stream",
          "name": "stderr",
          "text": [
            "Fetching TMDB IDs:  57%|█████▋    | 4571/8080 [05:50<04:52, 12.00it/s]"
          ]
        },
        {
          "output_type": "stream",
          "name": "stdout",
          "text": [
            "  Title mismatch for 'The Hangover: Part III'. Searched API, but no exact match. First API candidate: 'The Hangover Part III' (ID not added).\n"
          ]
        },
        {
          "output_type": "stream",
          "name": "stderr",
          "text": [
            "Fetching TMDB IDs:  58%|█████▊    | 4660/8080 [05:56<04:45, 11.97it/s]"
          ]
        },
        {
          "output_type": "stream",
          "name": "stdout",
          "text": [
            "  No 'results' key or empty results in API response for 'Thunivu (Hindi)'\n"
          ]
        },
        {
          "output_type": "stream",
          "name": "stderr",
          "text": [
            "Fetching TMDB IDs:  58%|█████▊    | 4696/8080 [05:59<04:34, 12.33it/s]"
          ]
        },
        {
          "output_type": "stream",
          "name": "stdout",
          "text": [
            "  No 'results' key or empty results in API response for 'Thunivu (Hindi)'\n"
          ]
        },
        {
          "output_type": "stream",
          "name": "stderr",
          "text": [
            "Fetching TMDB IDs:  58%|█████▊    | 4698/8080 [05:59<05:13, 10.77it/s]"
          ]
        },
        {
          "output_type": "stream",
          "name": "stdout",
          "text": [
            "  No 'results' key or empty results in API response for 'I Like It But It Scares Me'\n"
          ]
        },
        {
          "output_type": "stream",
          "name": "stderr",
          "text": [
            "Fetching TMDB IDs:  58%|█████▊    | 4723/8080 [06:01<03:36, 15.50it/s]"
          ]
        },
        {
          "output_type": "stream",
          "name": "stdout",
          "text": [
            "  No 'results' key or empty results in API response for 'Til Money Do Us Part'\n"
          ]
        },
        {
          "output_type": "stream",
          "name": "stderr",
          "text": [
            "Fetching TMDB IDs:  59%|█████▊    | 4739/8080 [06:02<04:12, 13.25it/s]"
          ]
        },
        {
          "output_type": "stream",
          "name": "stdout",
          "text": [
            "  No 'results' key or empty results in API response for 'I Like It But It Scares Me'\n"
          ]
        },
        {
          "output_type": "stream",
          "name": "stderr",
          "text": [
            "Fetching TMDB IDs:  60%|█████▉    | 4818/8080 [06:07<03:54, 13.89it/s]"
          ]
        },
        {
          "output_type": "stream",
          "name": "stdout",
          "text": [
            "  No 'results' key or empty results in API response for 'RRR (Hindi)'\n"
          ]
        },
        {
          "output_type": "stream",
          "name": "stderr",
          "text": [
            "Fetching TMDB IDs:  60%|██████    | 4863/8080 [06:10<03:27, 15.50it/s]"
          ]
        },
        {
          "output_type": "stream",
          "name": "stdout",
          "text": [
            "  No 'results' key or empty results in API response for 'RRR (Hindi)'\n"
          ]
        },
        {
          "output_type": "stream",
          "name": "stderr",
          "text": [
            "Fetching TMDB IDs:  60%|██████    | 4878/8080 [06:11<02:53, 18.41it/s]"
          ]
        },
        {
          "output_type": "stream",
          "name": "stdout",
          "text": [
            "  Title mismatch for 'Single’s Inferno'. Searched API, but no exact match. First API candidate: 'Single's Inferno' (ID not added).\n"
          ]
        },
        {
          "output_type": "stream",
          "name": "stderr",
          "text": [
            "Fetching TMDB IDs:  61%|██████    | 4922/8080 [06:14<02:49, 18.68it/s]"
          ]
        },
        {
          "output_type": "stream",
          "name": "stdout",
          "text": [
            "  Title mismatch for 'Single’s Inferno'. Searched API, but no exact match. First API candidate: 'Single's Inferno' (ID not added).\n"
          ]
        },
        {
          "output_type": "stream",
          "name": "stderr",
          "text": [
            "Fetching TMDB IDs:  61%|██████    | 4928/8080 [06:15<03:49, 13.75it/s]"
          ]
        },
        {
          "output_type": "stream",
          "name": "stdout",
          "text": [
            "  Title mismatch for 'Guillermo del Toro’s Pinocchio'. Searched API, but no exact match. First API candidate: 'Guillermo del Toro's Pinocchio' (ID not added).\n"
          ]
        },
        {
          "output_type": "stream",
          "name": "stderr",
          "text": [
            "Fetching TMDB IDs:  61%|██████    | 4943/8080 [06:16<03:33, 14.66it/s]"
          ]
        },
        {
          "output_type": "stream",
          "name": "stdout",
          "text": [
            "  Title mismatch for 'Tara VS. Bilal'. Searched API, but no exact match. First API candidate: 'Tara vs Bilal' (ID not added).\n"
          ]
        },
        {
          "output_type": "stream",
          "name": "stderr",
          "text": [
            "Fetching TMDB IDs:  61%|██████▏   | 4959/8080 [06:17<03:33, 14.61it/s]"
          ]
        },
        {
          "output_type": "stream",
          "name": "stdout",
          "text": [
            "  Title mismatch for 'Single’s Inferno'. Searched API, but no exact match. First API candidate: 'Single's Inferno' (ID not added).\n",
            "  No 'results' key or empty results in API response for 'Til Money Do Us Part'\n"
          ]
        },
        {
          "output_type": "stream",
          "name": "stderr",
          "text": [
            "Fetching TMDB IDs:  61%|██████▏   | 4963/8080 [06:17<03:56, 13.16it/s]"
          ]
        },
        {
          "output_type": "stream",
          "name": "stdout",
          "text": [
            "  Title mismatch for 'Guillermo del Toro’s Pinocchio'. Searched API, but no exact match. First API candidate: 'Guillermo del Toro's Pinocchio' (ID not added).\n"
          ]
        },
        {
          "output_type": "stream",
          "name": "stderr",
          "text": [
            "Fetching TMDB IDs:  62%|██████▏   | 4977/8080 [06:18<03:57, 13.09it/s]"
          ]
        },
        {
          "output_type": "stream",
          "name": "stdout",
          "text": [
            "  Title mismatch for 'Codename: Tiranga'. Searched API, but no exact match. First API candidate: 'Code Name: Tiranga' (ID not added).\n"
          ]
        },
        {
          "output_type": "stream",
          "name": "stderr",
          "text": [
            "Fetching TMDB IDs:  62%|██████▏   | 4983/8080 [06:19<03:50, 13.44it/s]"
          ]
        },
        {
          "output_type": "stream",
          "name": "stdout",
          "text": [
            "  Title mismatch for 'HELL DOGS - IN THE HOUSE OF BAMBOO -'. Searched API, but no exact match. First API candidate: 'Hell Dogs' (ID not added).\n"
          ]
        },
        {
          "output_type": "stream",
          "name": "stderr",
          "text": [
            "Fetching TMDB IDs:  62%|██████▏   | 4997/8080 [06:20<03:30, 14.67it/s]"
          ]
        },
        {
          "output_type": "stream",
          "name": "stdout",
          "text": [
            "  No 'results' key or empty results in API response for 'Til Money Do Us Part'\n"
          ]
        },
        {
          "output_type": "stream",
          "name": "stderr",
          "text": [
            "Fetching TMDB IDs:  62%|██████▏   | 5003/8080 [06:20<03:22, 15.19it/s]"
          ]
        },
        {
          "output_type": "stream",
          "name": "stdout",
          "text": [
            "  Title mismatch for 'Single’s Inferno'. Searched API, but no exact match. First API candidate: 'Single's Inferno' (ID not added).\n",
            "  Title mismatch for 'Guillermo del Toro’s Pinocchio'. Searched API, but no exact match. First API candidate: 'Guillermo del Toro's Pinocchio' (ID not added).\n"
          ]
        },
        {
          "output_type": "stream",
          "name": "stderr",
          "text": [
            "Fetching TMDB IDs:  62%|██████▏   | 5019/8080 [06:21<04:00, 12.72it/s]"
          ]
        },
        {
          "output_type": "stream",
          "name": "stdout",
          "text": [
            "  Title mismatch for 'Codename: Tiranga'. Searched API, but no exact match. First API candidate: 'Code Name: Tiranga' (ID not added).\n",
            "  No 'results' key or empty results in API response for 'Kantara (Hindi)'\n"
          ]
        },
        {
          "output_type": "stream",
          "name": "stderr",
          "text": [
            "Fetching TMDB IDs:  62%|██████▏   | 5032/8080 [06:22<03:29, 14.55it/s]"
          ]
        },
        {
          "output_type": "stream",
          "name": "stdout",
          "text": [
            "  Title mismatch for 'Don't Pick Up the Phone'. Searched API, but no exact match. First API candidate: 'Pervert: Hunting the Strip Search Caller' (ID not added).\n"
          ]
        },
        {
          "output_type": "stream",
          "name": "stderr",
          "text": [
            "Fetching TMDB IDs:  62%|██████▏   | 5034/8080 [06:22<03:15, 15.58it/s]"
          ]
        },
        {
          "output_type": "stream",
          "name": "stdout",
          "text": [
            "  No 'results' key or empty results in API response for 'Til Money Do Us Part'\n"
          ]
        },
        {
          "output_type": "stream",
          "name": "stderr",
          "text": [
            "Fetching TMDB IDs:  62%|██████▏   | 5043/8080 [06:23<03:31, 14.33it/s]"
          ]
        },
        {
          "output_type": "stream",
          "name": "stdout",
          "text": [
            "  Title mismatch for 'Guillermo del Toro’s Pinocchio'. Searched API, but no exact match. First API candidate: 'Guillermo del Toro's Pinocchio' (ID not added).\n"
          ]
        },
        {
          "output_type": "stream",
          "name": "stderr",
          "text": [
            "Fetching TMDB IDs:  63%|██████▎   | 5063/8080 [06:25<03:44, 13.42it/s]"
          ]
        },
        {
          "output_type": "stream",
          "name": "stdout",
          "text": [
            "  No 'results' key or empty results in API response for 'Kantara (Hindi)'\n"
          ]
        },
        {
          "output_type": "stream",
          "name": "stderr",
          "text": [
            "Fetching TMDB IDs:  63%|██████▎   | 5070/8080 [06:25<03:50, 13.04it/s]"
          ]
        },
        {
          "output_type": "stream",
          "name": "stdout",
          "text": [
            "  Title mismatch for 'Snack VS. Chef'. Searched API, but no exact match. First API candidate: 'Snack vs Chef' (ID not added).\n"
          ]
        },
        {
          "output_type": "stream",
          "name": "stderr",
          "text": [
            "Fetching TMDB IDs:  63%|██████▎   | 5074/8080 [06:25<03:25, 14.63it/s]"
          ]
        },
        {
          "output_type": "stream",
          "name": "stdout",
          "text": [
            "  No 'results' key or empty results in API response for 'Til Money Do Us Part'\n"
          ]
        },
        {
          "output_type": "stream",
          "name": "stderr",
          "text": [
            "Fetching TMDB IDs:  63%|██████▎   | 5104/8080 [06:27<03:18, 14.96it/s]"
          ]
        },
        {
          "output_type": "stream",
          "name": "stdout",
          "text": [
            "  Title mismatch for 'Love Destiny The Movie'. Searched API, but no exact match. First API candidate: 'Love Destiny: The Movie' (ID not added).\n"
          ]
        },
        {
          "output_type": "stream",
          "name": "stderr",
          "text": [
            "Fetching TMDB IDs:  63%|██████▎   | 5115/8080 [06:28<03:08, 15.76it/s]"
          ]
        },
        {
          "output_type": "stream",
          "name": "stdout",
          "text": [
            "  No 'results' key or empty results in API response for 'Til Money Do Us Part'\n"
          ]
        },
        {
          "output_type": "stream",
          "name": "stderr",
          "text": [
            "Fetching TMDB IDs:  64%|██████▎   | 5136/8080 [06:30<03:53, 12.59it/s]"
          ]
        },
        {
          "output_type": "stream",
          "name": "stdout",
          "text": [
            "  No 'results' key or empty results in API response for 'GodFather (Hindi)'\n",
            "  No 'results' key or empty results in API response for 'Deception - Round D Corner'\n"
          ]
        },
        {
          "output_type": "stream",
          "name": "stderr",
          "text": [
            "Fetching TMDB IDs:  64%|██████▍   | 5155/8080 [06:31<03:03, 15.93it/s]"
          ]
        },
        {
          "output_type": "stream",
          "name": "stdout",
          "text": [
            "  No 'results' key or empty results in API response for 'Til Money Do Us Part'\n"
          ]
        },
        {
          "output_type": "stream",
          "name": "stderr",
          "text": [
            "Fetching TMDB IDs:  64%|██████▍   | 5194/8080 [06:34<03:14, 14.83it/s]"
          ]
        },
        {
          "output_type": "stream",
          "name": "stdout",
          "text": [
            "  No 'results' key or empty results in API response for 'Til Money Do Us Part'\n"
          ]
        },
        {
          "output_type": "stream",
          "name": "stderr",
          "text": [
            "Fetching TMDB IDs:  64%|██████▍   | 5200/8080 [06:34<03:15, 14.75it/s]"
          ]
        },
        {
          "output_type": "stream",
          "name": "stdout",
          "text": [
            "  Title mismatch for 'Pablo Escobar, el patrón del mal'. Searched API, but no exact match. First API candidate: 'Pablo Escobar: The Drug Lord' (ID not added).\n"
          ]
        },
        {
          "output_type": "stream",
          "name": "stderr",
          "text": [
            "Fetching TMDB IDs:  65%|██████▍   | 5233/8080 [06:37<03:25, 13.86it/s]"
          ]
        },
        {
          "output_type": "stream",
          "name": "stdout",
          "text": [
            "  No 'results' key or empty results in API response for 'Til Money Do Us Part'\n"
          ]
        },
        {
          "output_type": "stream",
          "name": "stderr",
          "text": [
            "Fetching TMDB IDs:  65%|██████▌   | 5269/8080 [06:39<03:43, 12.56it/s]"
          ]
        },
        {
          "output_type": "stream",
          "name": "stdout",
          "text": [
            "  Title mismatch for 'Half Bad: The Bastard Son & The Devil Himself'. Searched API, but no exact match. First API candidate: 'The Bastard Son & the Devil Himself' (ID not added).\n",
            "  Title mismatch for 'DAHMER'. Searched API, but no exact match. First API candidate: 'DAHMER - Monster: The Jeffrey Dahmer Story' (ID not added).\n"
          ]
        },
        {
          "output_type": "stream",
          "name": "stderr",
          "text": [
            "Fetching TMDB IDs:  65%|██████▌   | 5274/8080 [06:39<03:06, 15.06it/s]"
          ]
        },
        {
          "output_type": "stream",
          "name": "stdout",
          "text": [
            "  No 'results' key or empty results in API response for 'Til Money Do Us Part'\n"
          ]
        },
        {
          "output_type": "stream",
          "name": "stderr",
          "text": [
            "Fetching TMDB IDs:  66%|██████▌   | 5307/8080 [06:42<03:06, 14.87it/s]"
          ]
        },
        {
          "output_type": "stream",
          "name": "stdout",
          "text": [
            "  Title mismatch for 'DAHMER'. Searched API, but no exact match. First API candidate: 'DAHMER - Monster: The Jeffrey Dahmer Story' (ID not added).\n",
            "  Title mismatch for 'Half Bad: The Bastard Son & The Devil Himself'. Searched API, but no exact match. First API candidate: 'The Bastard Son & the Devil Himself' (ID not added).\n"
          ]
        },
        {
          "output_type": "stream",
          "name": "stderr",
          "text": [
            "Fetching TMDB IDs:  66%|██████▌   | 5313/8080 [06:42<03:04, 14.96it/s]"
          ]
        },
        {
          "output_type": "stream",
          "name": "stdout",
          "text": [
            "  No 'results' key or empty results in API response for 'Til Money Do Us Part'\n"
          ]
        },
        {
          "output_type": "stream",
          "name": "stderr",
          "text": [
            "Fetching TMDB IDs:  66%|██████▌   | 5345/8080 [06:44<03:14, 14.03it/s]"
          ]
        },
        {
          "output_type": "stream",
          "name": "stdout",
          "text": [
            "  Title mismatch for 'DAHMER'. Searched API, but no exact match. First API candidate: 'DAHMER - Monster: The Jeffrey Dahmer Story' (ID not added).\n"
          ]
        },
        {
          "output_type": "stream",
          "name": "stderr",
          "text": [
            "Fetching TMDB IDs:  66%|██████▋   | 5353/8080 [06:45<03:13, 14.08it/s]"
          ]
        },
        {
          "output_type": "stream",
          "name": "stdout",
          "text": [
            "  Title mismatch for 'Wild Croc Territory'. Searched API, but no exact match. First API candidate: 'Matt Wright's Wild Territory' (ID not added).\n",
            "  No 'results' key or empty results in API response for 'Til Money Do Us Part'\n"
          ]
        },
        {
          "output_type": "stream",
          "name": "stderr",
          "text": [
            "Fetching TMDB IDs:  67%|██████▋   | 5383/8080 [06:47<03:28, 12.92it/s]"
          ]
        },
        {
          "output_type": "stream",
          "name": "stdout",
          "text": [
            "  Title mismatch for 'DAHMER'. Searched API, but no exact match. First API candidate: 'DAHMER - Monster: The Jeffrey Dahmer Story' (ID not added).\n"
          ]
        },
        {
          "output_type": "stream",
          "name": "stderr",
          "text": [
            "Fetching TMDB IDs:  67%|██████▋   | 5418/8080 [06:50<04:04, 10.90it/s]"
          ]
        },
        {
          "output_type": "stream",
          "name": "stdout",
          "text": [
            "  No 'results' key or empty results in API response for 'Brazil 2002 - Behind the Scenes of Brazil's Fifth FIFA World Cup Victory'\n"
          ]
        },
        {
          "output_type": "stream",
          "name": "stderr",
          "text": [
            "Fetching TMDB IDs:  67%|██████▋   | 5424/8080 [06:50<03:30, 12.60it/s]"
          ]
        },
        {
          "output_type": "stream",
          "name": "stdout",
          "text": [
            "  Title mismatch for 'DAHMER'. Searched API, but no exact match. First API candidate: 'DAHMER - Monster: The Jeffrey Dahmer Story' (ID not added).\n"
          ]
        },
        {
          "output_type": "stream",
          "name": "stderr",
          "text": [
            "Fetching TMDB IDs:  68%|██████▊   | 5456/8080 [06:53<03:25, 12.74it/s]"
          ]
        },
        {
          "output_type": "stream",
          "name": "stdout",
          "text": [
            "  Title mismatch for 'Fullmetal Alchemist The Final Alchemy'. Searched API, but no exact match. First API candidate: 'Fullmetal Alchemist: The Final Alchemy' (ID not added).\n"
          ]
        },
        {
          "output_type": "stream",
          "name": "stderr",
          "text": [
            "Fetching TMDB IDs:  68%|██████▊   | 5463/8080 [06:53<02:55, 14.89it/s]"
          ]
        },
        {
          "output_type": "stream",
          "name": "stdout",
          "text": [
            "  No 'results' key or empty results in API response for 'RRR (Hindi)'\n",
            "  Title mismatch for 'DAHMER'. Searched API, but no exact match. First API candidate: 'DAHMER - Monster: The Jeffrey Dahmer Story' (ID not added).\n"
          ]
        },
        {
          "output_type": "stream",
          "name": "stderr",
          "text": [
            "Fetching TMDB IDs:  68%|██████▊   | 5473/8080 [06:54<02:35, 16.75it/s]"
          ]
        },
        {
          "output_type": "stream",
          "name": "stdout",
          "text": [
            "  Title mismatch for 'Inside the World’s Toughest Prisons'. Searched API, but no exact match. First API candidate: 'Inside the World's Toughest Prisons' (ID not added).\n"
          ]
        },
        {
          "output_type": "stream",
          "name": "stderr",
          "text": [
            "Fetching TMDB IDs:  68%|██████▊   | 5500/8080 [06:56<04:16, 10.05it/s]"
          ]
        },
        {
          "output_type": "stream",
          "name": "stdout",
          "text": [
            "  Title mismatch for 'Fullmetal Alchemist The Final Alchemy'. Searched API, but no exact match. First API candidate: 'Fullmetal Alchemist: The Final Alchemy' (ID not added).\n",
            "  Title mismatch for 'DAHMER'. Searched API, but no exact match. First API candidate: 'DAHMER - Monster: The Jeffrey Dahmer Story' (ID not added).\n"
          ]
        },
        {
          "output_type": "stream",
          "name": "stderr",
          "text": [
            "Fetching TMDB IDs:  70%|██████▉   | 5650/8080 [07:07<03:03, 13.25it/s]"
          ]
        },
        {
          "output_type": "stream",
          "name": "stdout",
          "text": [
            "  No 'results' key or empty results in API response for 'Untold: The Girlfriend Who Didn't Exist'\n"
          ]
        },
        {
          "output_type": "stream",
          "name": "stderr",
          "text": [
            "Fetching TMDB IDs:  70%|██████▉   | 5654/8080 [07:07<02:56, 13.73it/s]"
          ]
        },
        {
          "output_type": "stream",
          "name": "stdout",
          "text": [
            "  Title mismatch for 'Fullmetal Alchemist The Revenge of Scar'. Searched API, but no exact match. First API candidate: 'Fullmetal Alchemist: The Revenge of Scar' (ID not added).\n"
          ]
        },
        {
          "output_type": "stream",
          "name": "stderr",
          "text": [
            "Fetching TMDB IDs:  70%|███████   | 5687/8080 [07:09<02:33, 15.60it/s]"
          ]
        },
        {
          "output_type": "stream",
          "name": "stdout",
          "text": [
            "  No 'results' key or empty results in API response for 'Untold: The Girlfriend Who Didn't Exist'\n"
          ]
        },
        {
          "output_type": "stream",
          "name": "stderr",
          "text": [
            "Fetching TMDB IDs:  70%|███████   | 5695/8080 [07:10<03:11, 12.44it/s]"
          ]
        },
        {
          "output_type": "stream",
          "name": "stdout",
          "text": [
            "  Title mismatch for 'Fullmetal Alchemist The Revenge of Scar'. Searched API, but no exact match. First API candidate: 'Fullmetal Alchemist: The Revenge of Scar' (ID not added).\n"
          ]
        },
        {
          "output_type": "stream",
          "name": "stderr",
          "text": [
            "Fetching TMDB IDs:  71%|███████   | 5699/8080 [07:10<03:23, 11.72it/s]"
          ]
        },
        {
          "output_type": "stream",
          "name": "stdout",
          "text": [
            "  No 'results' key or empty results in API response for 'Shabaash Mithu (Hindi)'\n",
            "  No 'results' key or empty results in API response for 'RRR (Hindi)'\n"
          ]
        },
        {
          "output_type": "stream",
          "name": "stderr",
          "text": [
            "Fetching TMDB IDs:  71%|███████   | 5736/8080 [07:13<02:44, 14.21it/s]"
          ]
        },
        {
          "output_type": "stream",
          "name": "stdout",
          "text": [
            "  Title mismatch for 'Don’t Blame Karma!'. Searched API, but no exact match. First API candidate: 'Don't Blame Karma on What Happens to You for Being an Asshole' (ID not added).\n",
            "  No 'results' key or empty results in API response for 'Shabaash Mithu (Hindi)'\n"
          ]
        },
        {
          "output_type": "stream",
          "name": "stderr",
          "text": [
            "Fetching TMDB IDs:  71%|███████   | 5743/8080 [07:13<02:31, 15.39it/s]"
          ]
        },
        {
          "output_type": "stream",
          "name": "stdout",
          "text": [
            "  No 'results' key or empty results in API response for 'RRR (Hindi)'\n"
          ]
        },
        {
          "output_type": "stream",
          "name": "stderr",
          "text": [
            "Fetching TMDB IDs:  71%|███████▏  | 5774/8080 [07:15<02:34, 14.88it/s]"
          ]
        },
        {
          "output_type": "stream",
          "name": "stdout",
          "text": [
            "  Title mismatch for 'Don’t Blame Karma!'. Searched API, but no exact match. First API candidate: 'Don't Blame Karma on What Happens to You for Being an Asshole' (ID not added).\n"
          ]
        },
        {
          "output_type": "stream",
          "name": "stderr",
          "text": [
            "Fetching TMDB IDs:  72%|███████▏  | 5780/8080 [07:16<02:57, 12.96it/s]"
          ]
        },
        {
          "output_type": "stream",
          "name": "stdout",
          "text": [
            "  No 'results' key or empty results in API response for 'RRR (Hindi)'\n"
          ]
        },
        {
          "output_type": "stream",
          "name": "stderr",
          "text": [
            "Fetching TMDB IDs:  72%|███████▏  | 5818/8080 [07:18<03:19, 11.32it/s]"
          ]
        },
        {
          "output_type": "stream",
          "name": "stdout",
          "text": [
            "  No 'results' key or empty results in API response for 'RRR (Hindi)'\n"
          ]
        },
        {
          "output_type": "stream",
          "name": "stderr",
          "text": [
            "Fetching TMDB IDs:  72%|███████▏  | 5820/8080 [07:18<03:28, 10.85it/s]"
          ]
        },
        {
          "output_type": "stream",
          "name": "stdout",
          "text": [
            "  No 'results' key or empty results in API response for 'Foot Fairy (Hindi)'\n"
          ]
        },
        {
          "output_type": "stream",
          "name": "stderr",
          "text": [
            "Fetching TMDB IDs:  73%|███████▎  | 5859/8080 [07:21<03:01, 12.21it/s]"
          ]
        },
        {
          "output_type": "stream",
          "name": "stdout",
          "text": [
            "  Title mismatch for 'My Daughter’s Killer'. Searched API, but no exact match. First API candidate: 'My Daughter's Killer' (ID not added).\n",
            "  No 'results' key or empty results in API response for 'RRR (Hindi)'\n"
          ]
        },
        {
          "output_type": "stream",
          "name": "stderr",
          "text": [
            "Fetching TMDB IDs:  73%|███████▎  | 5863/8080 [07:21<03:00, 12.30it/s]"
          ]
        },
        {
          "output_type": "stream",
          "name": "stdout",
          "text": [
            "  Title mismatch for 'Vaashi (Malayalam)'. Searched API, but no exact match. First API candidate: 'Vaashi' (ID not added).\n"
          ]
        },
        {
          "output_type": "stream",
          "name": "stderr",
          "text": [
            "Fetching TMDB IDs:  73%|███████▎  | 5896/8080 [07:24<02:50, 12.83it/s]"
          ]
        },
        {
          "output_type": "stream",
          "name": "stdout",
          "text": [
            "  Title mismatch for 'My Daughter’s Killer'. Searched API, but no exact match. First API candidate: 'My Daughter's Killer' (ID not added).\n",
            "  Title mismatch for 'Ante Sundaraniki'. Searched API, but no exact match. First API candidate: 'Ante... Sundaraniki!' (ID not added).\n"
          ]
        },
        {
          "output_type": "stream",
          "name": "stderr",
          "text": [
            "Fetching TMDB IDs:  73%|███████▎  | 5900/8080 [07:24<02:56, 12.36it/s]"
          ]
        },
        {
          "output_type": "stream",
          "name": "stdout",
          "text": [
            "  Title mismatch for 'Mirreyes vs Godinez'. Searched API, but no exact match. First API candidate: 'Mirreyes vs Godínez - La Colección' (ID not added).\n",
            "  No 'results' key or empty results in API response for 'RRR (Hindi)'\n",
            "  No 'results' key or empty results in API response for 'Major (Hindi)'\n"
          ]
        },
        {
          "output_type": "stream",
          "name": "stderr",
          "text": [
            "Fetching TMDB IDs:  73%|███████▎  | 5934/8080 [07:26<02:30, 14.30it/s]"
          ]
        },
        {
          "output_type": "stream",
          "name": "stdout",
          "text": [
            "  No 'results' key or empty results in API response for 'Major (Hindi)'\n",
            "  Title mismatch for 'Tadeo Jones 2: El secreto del Rey Midas'. Searched API, but no exact match. First API candidate: 'Tad, the Lost Explorer, and the Secret of King Midas' (ID not added).\n"
          ]
        },
        {
          "output_type": "stream",
          "name": "stderr",
          "text": [
            "Fetching TMDB IDs:  73%|███████▎  | 5936/8080 [07:26<02:46, 12.88it/s]"
          ]
        },
        {
          "output_type": "stream",
          "name": "stdout",
          "text": [
            "  No 'results' key or empty results in API response for 'RRR (Hindi)'\n",
            "  No 'results' key or empty results in API response for 'Leon's Heart'\n"
          ]
        },
        {
          "output_type": "stream",
          "name": "stderr",
          "text": [
            "Fetching TMDB IDs:  73%|███████▎  | 5938/8080 [07:27<03:00, 11.88it/s]"
          ]
        },
        {
          "output_type": "stream",
          "name": "stdout",
          "text": [
            "  No 'results' key or empty results in API response for 'Major (Telugu)'\n"
          ]
        },
        {
          "output_type": "stream",
          "name": "stderr",
          "text": [
            "Fetching TMDB IDs:  74%|███████▍  | 5961/8080 [07:28<02:35, 13.62it/s]"
          ]
        },
        {
          "output_type": "stream",
          "name": "stdout",
          "text": [
            "  Title mismatch for 'Malverde, el santo patrón'. Searched API, but no exact match. First API candidate: 'Malverde: El Santo Patrón' (ID not added).\n"
          ]
        },
        {
          "output_type": "stream",
          "name": "stderr",
          "text": [
            "Fetching TMDB IDs:  74%|███████▍  | 5977/8080 [07:30<03:22, 10.37it/s]"
          ]
        },
        {
          "output_type": "stream",
          "name": "stdout",
          "text": [
            "  No 'results' key or empty results in API response for 'RRR (Hindi)'\n",
            "  No 'results' key or empty results in API response for 'Leon's Heart'\n"
          ]
        },
        {
          "output_type": "stream",
          "name": "stderr",
          "text": [
            "Fetching TMDB IDs:  74%|███████▍  | 5981/8080 [07:30<03:07, 11.18it/s]"
          ]
        },
        {
          "output_type": "stream",
          "name": "stdout",
          "text": [
            "  Title mismatch for 'Tadeo Jones 2: El secreto del Rey Midas'. Searched API, but no exact match. First API candidate: 'Tad, the Lost Explorer, and the Secret of King Midas' (ID not added).\n"
          ]
        },
        {
          "output_type": "stream",
          "name": "stderr",
          "text": [
            "Fetching TMDB IDs:  74%|███████▍  | 5998/8080 [07:31<02:54, 11.94it/s]"
          ]
        },
        {
          "output_type": "stream",
          "name": "stdout",
          "text": [
            "  Title mismatch for 'Malverde, el santo patrón'. Searched API, but no exact match. First API candidate: 'Malverde: El Santo Patrón' (ID not added).\n"
          ]
        },
        {
          "output_type": "stream",
          "name": "stderr",
          "text": [
            "Fetching TMDB IDs:  74%|███████▍  | 6002/8080 [07:32<02:45, 12.55it/s]"
          ]
        },
        {
          "output_type": "stream",
          "name": "stdout",
          "text": [
            "  Title mismatch for 'Queen'. Searched API, but no exact match. First API candidate: 'The Queen of Flow' (ID not added).\n"
          ]
        },
        {
          "output_type": "stream",
          "name": "stderr",
          "text": [
            "Fetching TMDB IDs:  74%|███████▍  | 6018/8080 [07:33<02:52, 11.92it/s]"
          ]
        },
        {
          "output_type": "stream",
          "name": "stdout",
          "text": [
            "  Title mismatch for 'Loca por el trabajo'. Searched API, but no exact match. First API candidate: 'Crazy About Work' (ID not added).\n",
            "  No 'results' key or empty results in API response for 'RRR (Hindi)'\n"
          ]
        },
        {
          "output_type": "stream",
          "name": "stderr",
          "text": [
            "Fetching TMDB IDs:  75%|███████▍  | 6036/8080 [07:34<02:21, 14.42it/s]"
          ]
        },
        {
          "output_type": "stream",
          "name": "stdout",
          "text": [
            "  Title mismatch for 'Malverde, el santo patrón'. Searched API, but no exact match. First API candidate: 'Malverde: El Santo Patrón' (ID not added).\n"
          ]
        },
        {
          "output_type": "stream",
          "name": "stderr",
          "text": [
            "Fetching TMDB IDs:  75%|███████▍  | 6057/8080 [07:36<02:44, 12.29it/s]"
          ]
        },
        {
          "output_type": "stream",
          "name": "stdout",
          "text": [
            "  Title mismatch for 'Loca por el trabajo'. Searched API, but no exact match. First API candidate: 'Crazy About Work' (ID not added).\n",
            "  No 'results' key or empty results in API response for 'RRR (Hindi)'\n"
          ]
        },
        {
          "output_type": "stream",
          "name": "stderr",
          "text": [
            "Fetching TMDB IDs:  75%|███████▌  | 6075/8080 [07:37<02:10, 15.38it/s]"
          ]
        },
        {
          "output_type": "stream",
          "name": "stdout",
          "text": [
            "  Title mismatch for 'Malverde, el santo patrón'. Searched API, but no exact match. First API candidate: 'Malverde: El Santo Patrón' (ID not added).\n"
          ]
        },
        {
          "output_type": "stream",
          "name": "stderr",
          "text": [
            "Fetching TMDB IDs:  75%|███████▌  | 6093/8080 [07:38<02:31, 13.15it/s]"
          ]
        },
        {
          "output_type": "stream",
          "name": "stdout",
          "text": [
            "  No 'results' key or empty results in API response for 'RRR (Hindi)'\n",
            "  Title mismatch for 'El paseo 6'. Searched API, but no exact match. First API candidate: 'The Trip 6' (ID not added).\n"
          ]
        },
        {
          "output_type": "stream",
          "name": "stderr",
          "text": [
            "Fetching TMDB IDs:  76%|███████▌  | 6118/8080 [07:40<02:09, 15.19it/s]"
          ]
        },
        {
          "output_type": "stream",
          "name": "stdout",
          "text": [
            "  Title mismatch for 'Malverde, el santo patrón'. Searched API, but no exact match. First API candidate: 'Malverde: El Santo Patrón' (ID not added).\n"
          ]
        },
        {
          "output_type": "stream",
          "name": "stderr",
          "text": [
            "Fetching TMDB IDs:  76%|███████▌  | 6132/8080 [07:41<02:23, 13.56it/s]"
          ]
        },
        {
          "output_type": "stream",
          "name": "stdout",
          "text": [
            "  No 'results' key or empty results in API response for 'RRR (Hindi)'\n"
          ]
        },
        {
          "output_type": "stream",
          "name": "stderr",
          "text": [
            "Fetching TMDB IDs:  76%|███████▋  | 6173/8080 [07:44<02:08, 14.82it/s]"
          ]
        },
        {
          "output_type": "stream",
          "name": "stdout",
          "text": [
            "  No 'results' key or empty results in API response for 'RRR (Hindi)'\n"
          ]
        },
        {
          "output_type": "stream",
          "name": "stderr",
          "text": [
            "Fetching TMDB IDs:  77%|███████▋  | 6217/8080 [07:47<01:51, 16.70it/s]"
          ]
        },
        {
          "output_type": "stream",
          "name": "stdout",
          "text": [
            "  No 'results' key or empty results in API response for 'RRR (Hindi)'\n"
          ]
        },
        {
          "output_type": "stream",
          "name": "stderr",
          "text": [
            "Fetching TMDB IDs:  77%|███████▋  | 6224/8080 [07:47<01:58, 15.70it/s]"
          ]
        },
        {
          "output_type": "stream",
          "name": "stdout",
          "text": [
            "  No 'results' key or empty results in API response for 'Raw (Hindi)'\n"
          ]
        },
        {
          "output_type": "stream",
          "name": "stderr",
          "text": [
            "Fetching TMDB IDs:  77%|███████▋  | 6256/8080 [07:50<02:20, 12.95it/s]"
          ]
        },
        {
          "output_type": "stream",
          "name": "stdout",
          "text": [
            "  No 'results' key or empty results in API response for 'Raw (Hindi)'\n"
          ]
        },
        {
          "output_type": "stream",
          "name": "stderr",
          "text": [
            "Fetching TMDB IDs:  77%|███████▋  | 6258/8080 [07:50<02:31, 12.00it/s]"
          ]
        },
        {
          "output_type": "stream",
          "name": "stdout",
          "text": [
            "  Title mismatch for 'Beast (Tamil)'. Searched API, but no exact match. First API candidate: 'Beast' (ID not added).\n"
          ]
        },
        {
          "output_type": "stream",
          "name": "stderr",
          "text": [
            "Fetching TMDB IDs:  78%|███████▊  | 6263/8080 [07:50<02:11, 13.80it/s]"
          ]
        },
        {
          "output_type": "stream",
          "name": "stdout",
          "text": [
            "  No 'results' key or empty results in API response for 'Radhe Shyam (Hindi)'\n"
          ]
        },
        {
          "output_type": "stream",
          "name": "stderr",
          "text": [
            "Fetching TMDB IDs:  78%|███████▊  | 6296/8080 [07:53<02:21, 12.62it/s]"
          ]
        },
        {
          "output_type": "stream",
          "name": "stdout",
          "text": [
            "  Title mismatch for 'Rumspringa - An Amish in Berlin'. Searched API, but no exact match. First API candidate: 'Rumspringa' (ID not added).\n",
            "  No 'results' key or empty results in API response for 'Radhe Shyam (Hindi)'\n"
          ]
        },
        {
          "output_type": "stream",
          "name": "stderr",
          "text": [
            "Fetching TMDB IDs:  78%|███████▊  | 6300/8080 [07:53<02:31, 11.78it/s]"
          ]
        },
        {
          "output_type": "stream",
          "name": "stdout",
          "text": [
            "  No 'results' key or empty results in API response for 'I Swear It Wasn't Me'\n"
          ]
        },
        {
          "output_type": "stream",
          "name": "stderr",
          "text": [
            "Fetching TMDB IDs:  78%|███████▊  | 6341/8080 [07:56<02:15, 12.86it/s]"
          ]
        },
        {
          "output_type": "stream",
          "name": "stdout",
          "text": [
            "  No 'results' key or empty results in API response for 'I Swear It Wasn't Me'\n"
          ]
        },
        {
          "output_type": "stream",
          "name": "stderr",
          "text": [
            "Fetching TMDB IDs:  79%|███████▉  | 6377/8080 [07:59<02:21, 12.02it/s]"
          ]
        },
        {
          "output_type": "stream",
          "name": "stdout",
          "text": [
            "  Title mismatch for 'One Piece Film Z'. Searched API, but no exact match. First API candidate: 'One Piece Film: Z' (ID not added).\n"
          ]
        },
        {
          "output_type": "stream",
          "name": "stderr",
          "text": [
            "Fetching TMDB IDs:  80%|████████  | 6500/8080 [08:07<02:08, 12.28it/s]"
          ]
        },
        {
          "output_type": "stream",
          "name": "stdout",
          "text": [
            "  Title mismatch for ''83'. Searched API, but no exact match. First API candidate: '83' (ID not added).\n"
          ]
        },
        {
          "output_type": "stream",
          "name": "stderr",
          "text": [
            "Fetching TMDB IDs:  81%|████████  | 6535/8080 [08:10<02:01, 12.68it/s]"
          ]
        },
        {
          "output_type": "stream",
          "name": "stdout",
          "text": [
            "  Title mismatch for ''83'. Searched API, but no exact match. First API candidate: '83' (ID not added).\n",
            "  Title mismatch for 'The Bombardment'. Searched API, but no exact match. First API candidate: 'Bombardment of Taku Forts, by the Allied Fleets' (ID not added).\n"
          ]
        },
        {
          "output_type": "stream",
          "name": "stderr",
          "text": [
            "Fetching TMDB IDs:  81%|████████▏ | 6573/8080 [08:12<01:45, 14.33it/s]"
          ]
        },
        {
          "output_type": "stream",
          "name": "stdout",
          "text": [
            "  Title mismatch for 'A Madea Homecoming'. Searched API, but no exact match. First API candidate: 'Tyler Perry's A Madea Homecoming' (ID not added).\n",
            "  Title mismatch for 'The Bombardment'. Searched API, but no exact match. First API candidate: 'Bombardment of Taku Forts, by the Allied Fleets' (ID not added).\n"
          ]
        },
        {
          "output_type": "stream",
          "name": "stderr",
          "text": [
            "Fetching TMDB IDs:  81%|████████▏ | 6577/8080 [08:13<01:58, 12.67it/s]"
          ]
        },
        {
          "output_type": "stream",
          "name": "stdout",
          "text": [
            "  Title mismatch for 'Chernobyl 1986'. Searched API, but no exact match. First API candidate: 'Chernobyl: Abyss' (ID not added).\n"
          ]
        },
        {
          "output_type": "stream",
          "name": "stderr",
          "text": [
            "Fetching TMDB IDs:  82%|████████▏ | 6600/8080 [08:14<01:35, 15.58it/s]"
          ]
        },
        {
          "output_type": "stream",
          "name": "stdout",
          "text": [
            "  Title mismatch for 'The Great Robbery of Brazil's Central Bank'. Searched API, but no exact match. First API candidate: 'Hei$t: The Great Robbery of Brazil's Central Bank' (ID not added).\n"
          ]
        },
        {
          "output_type": "stream",
          "name": "stderr",
          "text": [
            "Fetching TMDB IDs:  82%|████████▏ | 6608/8080 [08:15<01:40, 14.67it/s]"
          ]
        },
        {
          "output_type": "stream",
          "name": "stdout",
          "text": [
            "  Title mismatch for 'A Madea Homecoming'. Searched API, but no exact match. First API candidate: 'Tyler Perry's A Madea Homecoming' (ID not added).\n"
          ]
        },
        {
          "output_type": "stream",
          "name": "stderr",
          "text": [
            "Fetching TMDB IDs:  82%|████████▏ | 6614/8080 [08:15<01:35, 15.34it/s]"
          ]
        },
        {
          "output_type": "stream",
          "name": "stdout",
          "text": [
            "  Title mismatch for 'The Bombardment'. Searched API, but no exact match. First API candidate: 'Bombardment of Taku Forts, by the Allied Fleets' (ID not added).\n"
          ]
        },
        {
          "output_type": "stream",
          "name": "stderr",
          "text": [
            "Fetching TMDB IDs:  82%|████████▏ | 6616/8080 [08:15<01:47, 13.67it/s]"
          ]
        },
        {
          "output_type": "stream",
          "name": "stdout",
          "text": [
            "  Title mismatch for 'Chernobyl 1986'. Searched API, but no exact match. First API candidate: 'Chernobyl: Abyss' (ID not added).\n"
          ]
        },
        {
          "output_type": "stream",
          "name": "stderr",
          "text": [
            "Fetching TMDB IDs:  82%|████████▏ | 6644/8080 [08:17<01:30, 15.80it/s]"
          ]
        },
        {
          "output_type": "stream",
          "name": "stdout",
          "text": [
            "  Title mismatch for 'A Madea Homecoming'. Searched API, but no exact match. First API candidate: 'Tyler Perry's A Madea Homecoming' (ID not added).\n"
          ]
        },
        {
          "output_type": "stream",
          "name": "stderr",
          "text": [
            "Fetching TMDB IDs:  82%|████████▏ | 6654/8080 [08:18<01:28, 16.14it/s]"
          ]
        },
        {
          "output_type": "stream",
          "name": "stdout",
          "text": [
            "  Title mismatch for 'Chernobyl 1986'. Searched API, but no exact match. First API candidate: 'Chernobyl: Abyss' (ID not added).\n"
          ]
        },
        {
          "output_type": "stream",
          "name": "stderr",
          "text": [
            "Fetching TMDB IDs:  83%|████████▎ | 6683/8080 [08:20<01:39, 14.10it/s]"
          ]
        },
        {
          "output_type": "stream",
          "name": "stdout",
          "text": [
            "  Title mismatch for 'A Madea Homecoming'. Searched API, but no exact match. First API candidate: 'Tyler Perry's A Madea Homecoming' (ID not added).\n"
          ]
        },
        {
          "output_type": "stream",
          "name": "stderr",
          "text": [
            "Fetching TMDB IDs:  83%|████████▎ | 6699/8080 [08:21<01:53, 12.13it/s]"
          ]
        },
        {
          "output_type": "stream",
          "name": "stdout",
          "text": [
            "  Title mismatch for 'Todos queremos a alguien'. Searched API, but no exact match. First API candidate: 'Everybody Loves Somebody' (ID not added).\n"
          ]
        },
        {
          "output_type": "stream",
          "name": "stderr",
          "text": [
            "Fetching TMDB IDs:  83%|████████▎ | 6739/8080 [08:24<01:59, 11.18it/s]"
          ]
        },
        {
          "output_type": "stream",
          "name": "stdout",
          "text": [
            "  No 'results' key or empty results in API response for 'Parallel Roads'\n"
          ]
        },
        {
          "output_type": "stream",
          "name": "stderr",
          "text": [
            "Fetching TMDB IDs:  84%|████████▍ | 6783/8080 [08:27<01:36, 13.41it/s]"
          ]
        },
        {
          "output_type": "stream",
          "name": "stdout",
          "text": [
            "  Title mismatch for 'Luccas Neto in: The Magical Hotel 2'. Searched API, but no exact match. First API candidate: 'Luccas Neto in: Magic Hotel 2' (ID not added).\n"
          ]
        },
        {
          "output_type": "stream",
          "name": "stderr",
          "text": [
            "Fetching TMDB IDs:  84%|████████▍ | 6817/8080 [08:29<01:44, 12.08it/s]"
          ]
        },
        {
          "output_type": "stream",
          "name": "stdout",
          "text": [
            "  Title mismatch for 'أصحاب ...ولا أعزّ'. Searched API, but no exact match. First API candidate: 'Perfect Strangers' (ID not added).\n"
          ]
        },
        {
          "output_type": "stream",
          "name": "stderr",
          "text": [
            "Fetching TMDB IDs:  85%|████████▍ | 6854/8080 [08:32<01:42, 11.91it/s]"
          ]
        },
        {
          "output_type": "stream",
          "name": "stdout",
          "text": [
            "  Title mismatch for 'أصحاب ...ولا أعزّ'. Searched API, but no exact match. First API candidate: 'Perfect Strangers' (ID not added).\n"
          ]
        },
        {
          "output_type": "stream",
          "name": "stderr",
          "text": [
            "Fetching TMDB IDs:  85%|████████▌ | 6896/8080 [08:35<01:24, 14.00it/s]"
          ]
        },
        {
          "output_type": "stream",
          "name": "stdout",
          "text": [
            "  Title mismatch for 'أصحاب ...ولا أعزّ'. Searched API, but no exact match. First API candidate: 'Perfect Strangers' (ID not added).\n"
          ]
        },
        {
          "output_type": "stream",
          "name": "stderr",
          "text": [
            "Fetching TMDB IDs:  86%|████████▌ | 6956/8080 [08:39<01:07, 16.70it/s]"
          ]
        },
        {
          "output_type": "stream",
          "name": "stdout",
          "text": [
            "  Title mismatch for 'Single’s Inferno'. Searched API, but no exact match. First API candidate: 'Single's Inferno' (ID not added).\n"
          ]
        },
        {
          "output_type": "stream",
          "name": "stderr",
          "text": [
            "Fetching TMDB IDs:  87%|████████▋ | 6996/8080 [08:41<01:03, 16.98it/s]"
          ]
        },
        {
          "output_type": "stream",
          "name": "stdout",
          "text": [
            "  Title mismatch for 'Single’s Inferno'. Searched API, but no exact match. First API candidate: 'Single's Inferno' (ID not added).\n"
          ]
        },
        {
          "output_type": "stream",
          "name": "stderr",
          "text": [
            "Fetching TMDB IDs:  87%|████████▋ | 7040/8080 [08:45<01:04, 16.03it/s]"
          ]
        },
        {
          "output_type": "stream",
          "name": "stdout",
          "text": [
            "  Title mismatch for 'Single’s Inferno'. Searched API, but no exact match. First API candidate: 'Single's Inferno' (ID not added).\n"
          ]
        },
        {
          "output_type": "stream",
          "name": "stderr",
          "text": [
            "Fetching TMDB IDs:  88%|████████▊ | 7098/8080 [08:48<01:08, 14.24it/s]"
          ]
        },
        {
          "output_type": "stream",
          "name": "stdout",
          "text": [
            "  Title mismatch for 'Bordertown: Mural Murders'. Searched API, but no exact match. First API candidate: 'Bordertown: The Mural Murders' (ID not added).\n"
          ]
        },
        {
          "output_type": "stream",
          "name": "stderr",
          "text": [
            "Fetching TMDB IDs:  88%|████████▊ | 7139/8080 [08:51<01:13, 12.80it/s]"
          ]
        },
        {
          "output_type": "stream",
          "name": "stdout",
          "text": [
            "  Title mismatch for 'Bordertown: Mural Murders'. Searched API, but no exact match. First API candidate: 'Bordertown: The Mural Murders' (ID not added).\n"
          ]
        },
        {
          "output_type": "stream",
          "name": "stderr",
          "text": [
            "Fetching TMDB IDs:  89%|████████▉ | 7183/8080 [08:54<01:00, 14.75it/s]"
          ]
        },
        {
          "output_type": "stream",
          "name": "stdout",
          "text": [
            "  Title mismatch for 'Bordertown: Mural Murders'. Searched API, but no exact match. First API candidate: 'Bordertown: The Mural Murders' (ID not added).\n"
          ]
        },
        {
          "output_type": "stream",
          "name": "stderr",
          "text": [
            "Fetching TMDB IDs:  90%|█████████ | 7304/8080 [09:03<00:55, 13.91it/s]"
          ]
        },
        {
          "output_type": "stream",
          "name": "stdout",
          "text": [
            "  No 'results' key or empty results in API response for 'Doctor (Tamil)'\n"
          ]
        },
        {
          "output_type": "stream",
          "name": "stderr",
          "text": [
            "Fetching TMDB IDs:  91%|█████████ | 7344/8080 [09:05<00:47, 15.58it/s]"
          ]
        },
        {
          "output_type": "stream",
          "name": "stdout",
          "text": [
            "  No 'results' key or empty results in API response for 'Doctor (Tamil)'\n"
          ]
        },
        {
          "output_type": "stream",
          "name": "stderr",
          "text": [
            "Fetching TMDB IDs:  91%|█████████ | 7361/8080 [09:06<00:41, 17.49it/s]"
          ]
        },
        {
          "output_type": "stream",
          "name": "stdout",
          "text": [
            "  Title mismatch for 'Luis Miguel - The Series'. Searched API, but no exact match. First API candidate: 'Luis Miguel: The Series' (ID not added).\n"
          ]
        },
        {
          "output_type": "stream",
          "name": "stderr",
          "text": [
            "Fetching TMDB IDs:  92%|█████████▏| 7400/8080 [09:09<00:40, 16.97it/s]"
          ]
        },
        {
          "output_type": "stream",
          "name": "stdout",
          "text": [
            "  Title mismatch for 'Luis Miguel - The Series'. Searched API, but no exact match. First API candidate: 'Luis Miguel: The Series' (ID not added).\n"
          ]
        },
        {
          "output_type": "stream",
          "name": "stderr",
          "text": [
            "Fetching TMDB IDs:  92%|█████████▏| 7460/8080 [09:13<00:49, 12.40it/s]"
          ]
        },
        {
          "output_type": "stream",
          "name": "stdout",
          "text": [
            "  Title mismatch for 'Anything for a Pop Star'. Searched API, but no exact match. First API candidate: 'Anything for a Pop Star 2' (ID not added).\n",
            "  Title mismatch for 'Violet Evergarden the Movie'. Searched API, but no exact match. First API candidate: 'Violet Evergarden: The Movie' (ID not added).\n"
          ]
        },
        {
          "output_type": "stream",
          "name": "stderr",
          "text": [
            "Fetching TMDB IDs:  92%|█████████▏| 7466/8080 [09:14<00:44, 13.67it/s]"
          ]
        },
        {
          "output_type": "stream",
          "name": "stdout",
          "text": [
            "  No 'results' key or empty results in API response for 'Shameless (U.S.)'\n"
          ]
        },
        {
          "output_type": "stream",
          "name": "stderr",
          "text": [
            "Fetching TMDB IDs:  93%|█████████▎| 7510/8080 [09:17<00:44, 12.92it/s]"
          ]
        },
        {
          "output_type": "stream",
          "name": "stdout",
          "text": [
            "  No 'results' key or empty results in API response for 'Dave Chappelle: The Closer'\n"
          ]
        },
        {
          "output_type": "stream",
          "name": "stderr",
          "text": [
            "Fetching TMDB IDs:  93%|█████████▎| 7527/8080 [09:18<00:42, 12.97it/s]"
          ]
        },
        {
          "output_type": "stream",
          "name": "stdout",
          "text": [
            "  Title mismatch for 'Britney Vs Spears'. Searched API, but no exact match. First API candidate: 'Britney vs. Spears' (ID not added).\n"
          ]
        },
        {
          "output_type": "stream",
          "name": "stderr",
          "text": [
            "Fetching TMDB IDs:  93%|█████████▎| 7541/8080 [09:19<00:42, 12.59it/s]"
          ]
        },
        {
          "output_type": "stream",
          "name": "stdout",
          "text": [
            "  Title mismatch for 'Freaks – You're One of Us'. Searched API, but no exact match. First API candidate: 'Freaks - You're One of Us' (ID not added).\n"
          ]
        },
        {
          "output_type": "stream",
          "name": "stderr",
          "text": [
            "Fetching TMDB IDs:  94%|█████████▍| 7576/8080 [09:21<00:40, 12.40it/s]"
          ]
        },
        {
          "output_type": "stream",
          "name": "stdout",
          "text": [
            "  Title mismatch for 'Forgotten We'll Be'. Searched API, but no exact match. First API candidate: 'We'll Have Already Forgotten' (ID not added).\n"
          ]
        },
        {
          "output_type": "stream",
          "name": "stderr",
          "text": [
            "Fetching TMDB IDs:  94%|█████████▍| 7609/8080 [09:24<00:34, 13.77it/s]"
          ]
        },
        {
          "output_type": "stream",
          "name": "stdout",
          "text": [
            "  Title mismatch for 'Firedrake the Silver Dragon'. Searched API, but no exact match. First API candidate: 'Dragon Rider' (ID not added).\n"
          ]
        },
        {
          "output_type": "stream",
          "name": "stderr",
          "text": [
            "Fetching TMDB IDs:  94%|█████████▍| 7615/8080 [09:24<00:37, 12.30it/s]"
          ]
        },
        {
          "output_type": "stream",
          "name": "stdout",
          "text": [
            "  Title mismatch for 'O Candidato Honesto 2'. Searched API, but no exact match. First API candidate: 'The Honest Candidate 2' (ID not added).\n",
            "  Title mismatch for 'Ilhados'. Searched API, but no exact match. First API candidate: 'Stranded' (ID not added).\n"
          ]
        },
        {
          "output_type": "stream",
          "name": "stderr",
          "text": [
            "Fetching TMDB IDs:  95%|█████████▍| 7648/8080 [09:26<00:31, 13.91it/s]"
          ]
        },
        {
          "output_type": "stream",
          "name": "stdout",
          "text": [
            "  Title mismatch for 'SAS: Rise of the Black Swan'. Searched API, but no exact match. First API candidate: 'SAS: Red Notice' (ID not added).\n"
          ]
        },
        {
          "output_type": "stream",
          "name": "stderr",
          "text": [
            "Fetching TMDB IDs:  95%|█████████▌| 7684/8080 [09:29<00:30, 13.13it/s]"
          ]
        },
        {
          "output_type": "stream",
          "name": "stdout",
          "text": [
            "  Title mismatch for 'SAS: Rise of the Black Swan'. Searched API, but no exact match. First API candidate: 'SAS: Red Notice' (ID not added).\n"
          ]
        },
        {
          "output_type": "stream",
          "name": "stderr",
          "text": [
            "Fetching TMDB IDs:  95%|█████████▌| 7700/8080 [09:30<00:30, 12.39it/s]"
          ]
        },
        {
          "output_type": "stream",
          "name": "stdout",
          "text": [
            "  Title mismatch for 'Thimmarusu'. Searched API, but no exact match. First API candidate: 'Mahamantri Thimmarusu' (ID not added).\n"
          ]
        },
        {
          "output_type": "stream",
          "name": "stderr",
          "text": [
            "Fetching TMDB IDs:  96%|█████████▌| 7724/8080 [09:32<00:21, 16.49it/s]"
          ]
        },
        {
          "output_type": "stream",
          "name": "stdout",
          "text": [
            "  Title mismatch for 'SAS: Rise of the Black Swan'. Searched API, but no exact match. First API candidate: 'SAS: Red Notice' (ID not added).\n"
          ]
        },
        {
          "output_type": "stream",
          "name": "stderr",
          "text": [
            "Fetching TMDB IDs:  97%|█████████▋| 7869/8080 [09:42<00:13, 15.88it/s]"
          ]
        },
        {
          "output_type": "stream",
          "name": "stdout",
          "text": [
            "  Title mismatch for 'Top Secret UFO Projects: Declassified'. Searched API, but no exact match. First API candidate: 'Top Secret UFO Projects Declassified' (ID not added).\n"
          ]
        },
        {
          "output_type": "stream",
          "name": "stderr",
          "text": [
            "Fetching TMDB IDs:  98%|█████████▊| 7879/8080 [09:42<00:11, 17.41it/s]"
          ]
        },
        {
          "output_type": "stream",
          "name": "stdout",
          "text": [
            "  Title mismatch for 'Hunter X Hunter (2011)'. Searched API, but no exact match. First API candidate: 'Hunter x Hunter' (ID not added).\n"
          ]
        },
        {
          "output_type": "stream",
          "name": "stderr",
          "text": [
            "Fetching TMDB IDs:  98%|█████████▊| 7885/8080 [09:43<00:15, 12.60it/s]"
          ]
        },
        {
          "output_type": "stream",
          "name": "stdout",
          "text": [
            "  Title mismatch for 'Fear Street Part 1: 1994'. Searched API, but no exact match. First API candidate: 'Fear Street: 1994' (ID not added).\n",
            "  Title mismatch for 'Fear Street Part 3: 1666'. Searched API, but no exact match. First API candidate: 'Fear Street: 1666' (ID not added).\n"
          ]
        },
        {
          "output_type": "stream",
          "name": "stderr",
          "text": [
            "Fetching TMDB IDs:  98%|█████████▊| 7889/8080 [09:43<00:17, 11.13it/s]"
          ]
        },
        {
          "output_type": "stream",
          "name": "stdout",
          "text": [
            "  Title mismatch for 'Fear Street Part 2: 1978'. Searched API, but no exact match. First API candidate: 'Fear Street: 1978' (ID not added).\n",
            "  Title mismatch for 'The Twilight Saga: Breaking Dawn: Part 2'. Searched API, but no exact match. First API candidate: 'The Twilight Saga: Breaking Dawn - Part 2' (ID not added).\n"
          ]
        },
        {
          "output_type": "stream",
          "name": "stderr",
          "text": [
            "Fetching TMDB IDs:  98%|█████████▊| 7899/8080 [09:44<00:12, 14.22it/s]"
          ]
        },
        {
          "output_type": "stream",
          "name": "stdout",
          "text": [
            "  Title mismatch for 'Chernobyl 1986'. Searched API, but no exact match. First API candidate: 'Chernobyl: Abyss' (ID not added).\n"
          ]
        },
        {
          "output_type": "stream",
          "name": "stderr",
          "text": [
            "Fetching TMDB IDs:  98%|█████████▊| 7924/8080 [09:45<00:09, 16.67it/s]"
          ]
        },
        {
          "output_type": "stream",
          "name": "stdout",
          "text": [
            "  Title mismatch for 'Fear Street Part 3: 1666'. Searched API, but no exact match. First API candidate: 'Fear Street: 1666' (ID not added).\n"
          ]
        },
        {
          "output_type": "stream",
          "name": "stderr",
          "text": [
            "Fetching TMDB IDs:  98%|█████████▊| 7928/8080 [09:46<00:12, 12.53it/s]"
          ]
        },
        {
          "output_type": "stream",
          "name": "stdout",
          "text": [
            "  Title mismatch for 'Fear Street Part 1: 1994'. Searched API, but no exact match. First API candidate: 'Fear Street: 1994' (ID not added).\n",
            "  Title mismatch for 'The Twilight Saga: Breaking Dawn: Part 2'. Searched API, but no exact match. First API candidate: 'The Twilight Saga: Breaking Dawn - Part 2' (ID not added).\n"
          ]
        },
        {
          "output_type": "stream",
          "name": "stderr",
          "text": [
            "Fetching TMDB IDs:  98%|█████████▊| 7930/8080 [09:46<00:12, 11.84it/s]"
          ]
        },
        {
          "output_type": "stream",
          "name": "stdout",
          "text": [
            "  Title mismatch for 'Fear Street Part 2: 1978'. Searched API, but no exact match. First API candidate: 'Fear Street: 1978' (ID not added).\n",
            "  Title mismatch for 'The Twilight Saga: Breaking Dawn: Part 1'. Searched API, but no exact match. First API candidate: 'The Twilight Saga: Breaking Dawn - Part 1' (ID not added).\n"
          ]
        },
        {
          "output_type": "stream",
          "name": "stderr",
          "text": [
            "Fetching TMDB IDs:  98%|█████████▊| 7934/8080 [09:46<00:10, 13.63it/s]"
          ]
        },
        {
          "output_type": "stream",
          "name": "stdout",
          "text": [
            "  Title mismatch for 'Chernobyl 1986'. Searched API, but no exact match. First API candidate: 'Chernobyl: Abyss' (ID not added).\n"
          ]
        },
        {
          "output_type": "stream",
          "name": "stderr",
          "text": [
            "Fetching TMDB IDs:  98%|█████████▊| 7940/8080 [09:47<00:12, 11.46it/s]"
          ]
        },
        {
          "output_type": "stream",
          "name": "stdout",
          "text": [
            "  Title mismatch for 'Tô Ryca'. Searched API, but no exact match. First API candidate: 'Tô Ryca!' (ID not added).\n"
          ]
        },
        {
          "output_type": "stream",
          "name": "stderr",
          "text": [
            "Fetching TMDB IDs:  99%|█████████▊| 7963/8080 [09:48<00:06, 19.18it/s]"
          ]
        },
        {
          "output_type": "stream",
          "name": "stdout",
          "text": [
            "  Title mismatch for 'Fear Street Part 3: 1666'. Searched API, but no exact match. First API candidate: 'Fear Street: 1666' (ID not added).\n",
            "  Title mismatch for 'Fear Street Part 2: 1978'. Searched API, but no exact match. First API candidate: 'Fear Street: 1978' (ID not added).\n",
            "  Title mismatch for 'Fear Street Part 1: 1994'. Searched API, but no exact match. First API candidate: 'Fear Street: 1994' (ID not added).\n"
          ]
        },
        {
          "output_type": "stream",
          "name": "stderr",
          "text": [
            "Fetching TMDB IDs:  99%|█████████▉| 7979/8080 [09:49<00:08, 12.49it/s]"
          ]
        },
        {
          "output_type": "stream",
          "name": "stdout",
          "text": [
            "  Title mismatch for 'Tô Ryca'. Searched API, but no exact match. First API candidate: 'Tô Ryca!' (ID not added).\n"
          ]
        },
        {
          "output_type": "stream",
          "name": "stderr",
          "text": [
            "Fetching TMDB IDs:  99%|█████████▉| 8002/8080 [09:50<00:04, 17.49it/s]"
          ]
        },
        {
          "output_type": "stream",
          "name": "stdout",
          "text": [
            "  Title mismatch for 'Fear Street Part 1: 1994'. Searched API, but no exact match. First API candidate: 'Fear Street: 1994' (ID not added).\n",
            "  Title mismatch for 'Fear Street Part 2: 1978'. Searched API, but no exact match. First API candidate: 'Fear Street: 1978' (ID not added).\n"
          ]
        },
        {
          "output_type": "stream",
          "name": "stderr",
          "text": [
            "Fetching TMDB IDs:  99%|█████████▉| 8021/8080 [09:52<00:04, 12.37it/s]"
          ]
        },
        {
          "output_type": "stream",
          "name": "stdout",
          "text": [
            "  Title mismatch for 'O Candidato Honesto'. Searched API, but no exact match. First API candidate: 'The Honest Candidate' (ID not added).\n"
          ]
        },
        {
          "output_type": "stream",
          "name": "stderr",
          "text": [
            "Fetching TMDB IDs:  99%|█████████▉| 8029/8080 [09:52<00:03, 16.05it/s]"
          ]
        },
        {
          "output_type": "stream",
          "name": "stdout",
          "text": [
            "  Title mismatch for 'Pokémon Journeys: The Series'. Searched API, but no exact match. First API candidate: 'Pokémon' (ID not added).\n"
          ]
        },
        {
          "output_type": "stream",
          "name": "stderr",
          "text": [
            "Fetching TMDB IDs: 100%|█████████▉| 8044/8080 [09:53<00:02, 16.53it/s]"
          ]
        },
        {
          "output_type": "stream",
          "name": "stdout",
          "text": [
            "  Title mismatch for 'Fear Street Part 1: 1994'. Searched API, but no exact match. First API candidate: 'Fear Street: 1994' (ID not added).\n"
          ]
        },
        {
          "output_type": "stream",
          "name": "stderr",
          "text": [
            "Fetching TMDB IDs: 100%|█████████▉| 8060/8080 [09:54<00:01, 13.07it/s]"
          ]
        },
        {
          "output_type": "stream",
          "name": "stdout",
          "text": [
            "  Title mismatch for 'Rurouni Kenshin: Origins'. Searched API, but no exact match. First API candidate: 'Rurouni Kenshin Part I: Origins' (ID not added).\n"
          ]
        },
        {
          "output_type": "stream",
          "name": "stderr",
          "text": [
            "Fetching TMDB IDs: 100%|█████████▉| 8068/8080 [09:55<00:00, 15.04it/s]"
          ]
        },
        {
          "output_type": "stream",
          "name": "stdout",
          "text": [
            "  Title mismatch for 'Pokémon Journeys: The Series'. Searched API, but no exact match. First API candidate: 'Pokémon' (ID not added).\n"
          ]
        },
        {
          "output_type": "stream",
          "name": "stderr",
          "text": [
            "Fetching TMDB IDs: 100%|██████████| 8080/8080 [09:55<00:00, 13.56it/s]"
          ]
        },
        {
          "output_type": "stream",
          "name": "stdout",
          "text": [
            "\n",
            "Final DataFrame with 'id' column:\n",
            "            week          category                  show_title  \\\n",
            "0     2025-05-11   Films (English)                      Nonnas   \n",
            "1     2025-05-11   Films (English)     Inside Man: Most Wanted   \n",
            "2     2025-05-11   Films (English)  A Deadly American Marriage   \n",
            "3     2025-05-11   Films (English)                       Havoc   \n",
            "4     2025-05-11   Films (English)                    Twilight   \n",
            "...          ...               ...                         ...   \n",
            "8075  2021-07-04  TV (Non-English)                       Elite   \n",
            "8076  2021-07-04  TV (Non-English)                       Elite   \n",
            "8077  2021-07-04  TV (Non-English)                       Elite   \n",
            "8078  2021-07-04  TV (Non-English)                       Katla   \n",
            "8079  2021-07-04  TV (Non-English)          Record of Ragnarok   \n",
            "\n",
            "      weekly_hours_viewed  runtime  weekly_views  cumulative_weeks_in_top_10  \\\n",
            "0                29000000   1.9000    15300000.0                           1   \n",
            "1                21800000   1.7667    12300000.0                           1   \n",
            "2                16900000   1.7167     9800000.0                           1   \n",
            "3                16300000   1.7833     9100000.0                           3   \n",
            "4                 8700000   2.0333     4300000.0                           4   \n",
            "...                   ...      ...           ...                         ...   \n",
            "8075             10530000      NaN           NaN                           1   \n",
            "8076             10200000      NaN           NaN                           1   \n",
            "8077             10140000      NaN           NaN                           1   \n",
            "8078              9190000      NaN           NaN                           1   \n",
            "8079              9140000      NaN           NaN                           1   \n",
            "\n",
            "           id  \n",
            "0     1151039  \n",
            "1      619278  \n",
            "2     1466938  \n",
            "3      668489  \n",
            "4        8966  \n",
            "...       ...  \n",
            "8075    76669  \n",
            "8076    76669  \n",
            "8077    76669  \n",
            "8078   104157  \n",
            "8079   114868  \n",
            "\n",
            "[8080 rows x 8 columns]\n",
            "\n",
            "ID column data type:\n",
            "object\n",
            "\n",
            "Value counts for 'id' column (including NAs):\n",
            "id\n",
            "<NA>       432\n",
            "79696       51\n",
            "66732       50\n",
            "91239       49\n",
            "93405       39\n",
            "          ... \n",
            "1469239      1\n",
            "1144430      1\n",
            "24249        1\n",
            "917496       1\n",
            "1462776      1\n",
            "Name: count, Length: 2395, dtype: int64\n"
          ]
        },
        {
          "output_type": "stream",
          "name": "stderr",
          "text": [
            "\n"
          ]
        }
      ]
    },
    {
      "cell_type": "code",
      "source": [
        "# id가 매칭되지 않은 작품 확인\n",
        "print(\"\\nValue counts for 'id' column (including NAs):\")\n",
        "print(df['id'].value_counts(dropna=False))\n",
        "df[df['id'].isna()].sort_values(by='cumulative_weeks_in_top_10', ascending=False)"
      ],
      "metadata": {
        "id": "YeqkCg2QvKxV",
        "colab": {
          "base_uri": "https://localhost:8080/",
          "height": 699
        },
        "outputId": "2efa5efc-8f08-4363-956f-73106ee9aa69"
      },
      "execution_count": 30,
      "outputs": [
        {
          "output_type": "stream",
          "name": "stdout",
          "text": [
            "\n",
            "Value counts for 'id' column (including NAs):\n",
            "id\n",
            "<NA>       327\n",
            "79696       51\n",
            "66732       50\n",
            "91239       49\n",
            "93405       39\n",
            "          ... \n",
            "1852         1\n",
            "41160        1\n",
            "1469239      1\n",
            "1144430      1\n",
            "24249        1\n",
            "Name: count, Length: 2407, dtype: int64\n"
          ]
        },
        {
          "output_type": "execute_result",
          "data": {
            "text/plain": [
              "            week             category                      show_title  \\\n",
              "6569  2022-03-20      Films (English)              A Madea Homecoming   \n",
              "4925  2023-01-01      Films (English)  Guillermo del Toro’s Pinocchio   \n",
              "935   2024-12-01  Films (Non-English)                          Devara   \n",
              "3057  2023-11-26  Films (Non-English)             Jawan: Extended Cut   \n",
              "7887  2021-08-01      Films (English)        Fear Street Part 2: 1978   \n",
              "...          ...                  ...                             ...   \n",
              "387   2025-03-09         TV (English)             Andrew Schulz: LIFE   \n",
              "308   2025-03-23         TV (English)           Bert Kreischer: Lucky   \n",
              "269   2025-03-30         TV (English)    Chelsea Handler: The Feeling   \n",
              "257   2025-03-30  Films (Non-English)                     Nosso Sonho   \n",
              "8066  2021-07-04         TV (English)    Pokémon Journeys: The Series   \n",
              "\n",
              "      weekly_hours_viewed  runtime  weekly_views  cumulative_weeks_in_top_10  \\\n",
              "6569              5790000      NaN           NaN                           4   \n",
              "4925             10910000      NaN           NaN                           4   \n",
              "935               8100000   2.8667     2800000.0                           4   \n",
              "3057              4800000   2.8500     1700000.0                           4   \n",
              "7887              5840000      NaN           NaN                           4   \n",
              "...                   ...      ...           ...                         ...   \n",
              "387               2900000   0.9833     2900000.0                           1   \n",
              "308               2900000   1.1333     2600000.0                           1   \n",
              "269               1600000   0.9833     1600000.0                           1   \n",
              "257               2700000   2.0167     1300000.0                           1   \n",
              "8066             15350000      NaN           NaN                           1   \n",
              "\n",
              "        id  \n",
              "6569  <NA>  \n",
              "4925  <NA>  \n",
              "935   <NA>  \n",
              "3057  <NA>  \n",
              "7887  <NA>  \n",
              "...    ...  \n",
              "387   <NA>  \n",
              "308   <NA>  \n",
              "269   <NA>  \n",
              "257   <NA>  \n",
              "8066  <NA>  \n",
              "\n",
              "[327 rows x 8 columns]"
            ],
            "text/html": [
              "\n",
              "  <div id=\"df-39eeb924-1b8b-4394-916a-03250f349261\" class=\"colab-df-container\">\n",
              "    <div>\n",
              "<style scoped>\n",
              "    .dataframe tbody tr th:only-of-type {\n",
              "        vertical-align: middle;\n",
              "    }\n",
              "\n",
              "    .dataframe tbody tr th {\n",
              "        vertical-align: top;\n",
              "    }\n",
              "\n",
              "    .dataframe thead th {\n",
              "        text-align: right;\n",
              "    }\n",
              "</style>\n",
              "<table border=\"1\" class=\"dataframe\">\n",
              "  <thead>\n",
              "    <tr style=\"text-align: right;\">\n",
              "      <th></th>\n",
              "      <th>week</th>\n",
              "      <th>category</th>\n",
              "      <th>show_title</th>\n",
              "      <th>weekly_hours_viewed</th>\n",
              "      <th>runtime</th>\n",
              "      <th>weekly_views</th>\n",
              "      <th>cumulative_weeks_in_top_10</th>\n",
              "      <th>id</th>\n",
              "    </tr>\n",
              "  </thead>\n",
              "  <tbody>\n",
              "    <tr>\n",
              "      <th>6569</th>\n",
              "      <td>2022-03-20</td>\n",
              "      <td>Films (English)</td>\n",
              "      <td>A Madea Homecoming</td>\n",
              "      <td>5790000</td>\n",
              "      <td>NaN</td>\n",
              "      <td>NaN</td>\n",
              "      <td>4</td>\n",
              "      <td>&lt;NA&gt;</td>\n",
              "    </tr>\n",
              "    <tr>\n",
              "      <th>4925</th>\n",
              "      <td>2023-01-01</td>\n",
              "      <td>Films (English)</td>\n",
              "      <td>Guillermo del Toro’s Pinocchio</td>\n",
              "      <td>10910000</td>\n",
              "      <td>NaN</td>\n",
              "      <td>NaN</td>\n",
              "      <td>4</td>\n",
              "      <td>&lt;NA&gt;</td>\n",
              "    </tr>\n",
              "    <tr>\n",
              "      <th>935</th>\n",
              "      <td>2024-12-01</td>\n",
              "      <td>Films (Non-English)</td>\n",
              "      <td>Devara</td>\n",
              "      <td>8100000</td>\n",
              "      <td>2.8667</td>\n",
              "      <td>2800000.0</td>\n",
              "      <td>4</td>\n",
              "      <td>&lt;NA&gt;</td>\n",
              "    </tr>\n",
              "    <tr>\n",
              "      <th>3057</th>\n",
              "      <td>2023-11-26</td>\n",
              "      <td>Films (Non-English)</td>\n",
              "      <td>Jawan: Extended Cut</td>\n",
              "      <td>4800000</td>\n",
              "      <td>2.8500</td>\n",
              "      <td>1700000.0</td>\n",
              "      <td>4</td>\n",
              "      <td>&lt;NA&gt;</td>\n",
              "    </tr>\n",
              "    <tr>\n",
              "      <th>7887</th>\n",
              "      <td>2021-08-01</td>\n",
              "      <td>Films (English)</td>\n",
              "      <td>Fear Street Part 2: 1978</td>\n",
              "      <td>5840000</td>\n",
              "      <td>NaN</td>\n",
              "      <td>NaN</td>\n",
              "      <td>4</td>\n",
              "      <td>&lt;NA&gt;</td>\n",
              "    </tr>\n",
              "    <tr>\n",
              "      <th>...</th>\n",
              "      <td>...</td>\n",
              "      <td>...</td>\n",
              "      <td>...</td>\n",
              "      <td>...</td>\n",
              "      <td>...</td>\n",
              "      <td>...</td>\n",
              "      <td>...</td>\n",
              "      <td>...</td>\n",
              "    </tr>\n",
              "    <tr>\n",
              "      <th>387</th>\n",
              "      <td>2025-03-09</td>\n",
              "      <td>TV (English)</td>\n",
              "      <td>Andrew Schulz: LIFE</td>\n",
              "      <td>2900000</td>\n",
              "      <td>0.9833</td>\n",
              "      <td>2900000.0</td>\n",
              "      <td>1</td>\n",
              "      <td>&lt;NA&gt;</td>\n",
              "    </tr>\n",
              "    <tr>\n",
              "      <th>308</th>\n",
              "      <td>2025-03-23</td>\n",
              "      <td>TV (English)</td>\n",
              "      <td>Bert Kreischer: Lucky</td>\n",
              "      <td>2900000</td>\n",
              "      <td>1.1333</td>\n",
              "      <td>2600000.0</td>\n",
              "      <td>1</td>\n",
              "      <td>&lt;NA&gt;</td>\n",
              "    </tr>\n",
              "    <tr>\n",
              "      <th>269</th>\n",
              "      <td>2025-03-30</td>\n",
              "      <td>TV (English)</td>\n",
              "      <td>Chelsea Handler: The Feeling</td>\n",
              "      <td>1600000</td>\n",
              "      <td>0.9833</td>\n",
              "      <td>1600000.0</td>\n",
              "      <td>1</td>\n",
              "      <td>&lt;NA&gt;</td>\n",
              "    </tr>\n",
              "    <tr>\n",
              "      <th>257</th>\n",
              "      <td>2025-03-30</td>\n",
              "      <td>Films (Non-English)</td>\n",
              "      <td>Nosso Sonho</td>\n",
              "      <td>2700000</td>\n",
              "      <td>2.0167</td>\n",
              "      <td>1300000.0</td>\n",
              "      <td>1</td>\n",
              "      <td>&lt;NA&gt;</td>\n",
              "    </tr>\n",
              "    <tr>\n",
              "      <th>8066</th>\n",
              "      <td>2021-07-04</td>\n",
              "      <td>TV (English)</td>\n",
              "      <td>Pokémon Journeys: The Series</td>\n",
              "      <td>15350000</td>\n",
              "      <td>NaN</td>\n",
              "      <td>NaN</td>\n",
              "      <td>1</td>\n",
              "      <td>&lt;NA&gt;</td>\n",
              "    </tr>\n",
              "  </tbody>\n",
              "</table>\n",
              "<p>327 rows × 8 columns</p>\n",
              "</div>\n",
              "    <div class=\"colab-df-buttons\">\n",
              "\n",
              "  <div class=\"colab-df-container\">\n",
              "    <button class=\"colab-df-convert\" onclick=\"convertToInteractive('df-39eeb924-1b8b-4394-916a-03250f349261')\"\n",
              "            title=\"Convert this dataframe to an interactive table.\"\n",
              "            style=\"display:none;\">\n",
              "\n",
              "  <svg xmlns=\"http://www.w3.org/2000/svg\" height=\"24px\" viewBox=\"0 -960 960 960\">\n",
              "    <path d=\"M120-120v-720h720v720H120Zm60-500h600v-160H180v160Zm220 220h160v-160H400v160Zm0 220h160v-160H400v160ZM180-400h160v-160H180v160Zm440 0h160v-160H620v160ZM180-180h160v-160H180v160Zm440 0h160v-160H620v160Z\"/>\n",
              "  </svg>\n",
              "    </button>\n",
              "\n",
              "  <style>\n",
              "    .colab-df-container {\n",
              "      display:flex;\n",
              "      gap: 12px;\n",
              "    }\n",
              "\n",
              "    .colab-df-convert {\n",
              "      background-color: #E8F0FE;\n",
              "      border: none;\n",
              "      border-radius: 50%;\n",
              "      cursor: pointer;\n",
              "      display: none;\n",
              "      fill: #1967D2;\n",
              "      height: 32px;\n",
              "      padding: 0 0 0 0;\n",
              "      width: 32px;\n",
              "    }\n",
              "\n",
              "    .colab-df-convert:hover {\n",
              "      background-color: #E2EBFA;\n",
              "      box-shadow: 0px 1px 2px rgba(60, 64, 67, 0.3), 0px 1px 3px 1px rgba(60, 64, 67, 0.15);\n",
              "      fill: #174EA6;\n",
              "    }\n",
              "\n",
              "    .colab-df-buttons div {\n",
              "      margin-bottom: 4px;\n",
              "    }\n",
              "\n",
              "    [theme=dark] .colab-df-convert {\n",
              "      background-color: #3B4455;\n",
              "      fill: #D2E3FC;\n",
              "    }\n",
              "\n",
              "    [theme=dark] .colab-df-convert:hover {\n",
              "      background-color: #434B5C;\n",
              "      box-shadow: 0px 1px 3px 1px rgba(0, 0, 0, 0.15);\n",
              "      filter: drop-shadow(0px 1px 2px rgba(0, 0, 0, 0.3));\n",
              "      fill: #FFFFFF;\n",
              "    }\n",
              "  </style>\n",
              "\n",
              "    <script>\n",
              "      const buttonEl =\n",
              "        document.querySelector('#df-39eeb924-1b8b-4394-916a-03250f349261 button.colab-df-convert');\n",
              "      buttonEl.style.display =\n",
              "        google.colab.kernel.accessAllowed ? 'block' : 'none';\n",
              "\n",
              "      async function convertToInteractive(key) {\n",
              "        const element = document.querySelector('#df-39eeb924-1b8b-4394-916a-03250f349261');\n",
              "        const dataTable =\n",
              "          await google.colab.kernel.invokeFunction('convertToInteractive',\n",
              "                                                    [key], {});\n",
              "        if (!dataTable) return;\n",
              "\n",
              "        const docLinkHtml = 'Like what you see? Visit the ' +\n",
              "          '<a target=\"_blank\" href=https://colab.research.google.com/notebooks/data_table.ipynb>data table notebook</a>'\n",
              "          + ' to learn more about interactive tables.';\n",
              "        element.innerHTML = '';\n",
              "        dataTable['output_type'] = 'display_data';\n",
              "        await google.colab.output.renderOutput(dataTable, element);\n",
              "        const docLink = document.createElement('div');\n",
              "        docLink.innerHTML = docLinkHtml;\n",
              "        element.appendChild(docLink);\n",
              "      }\n",
              "    </script>\n",
              "  </div>\n",
              "\n",
              "\n",
              "    <div id=\"df-48c54273-f416-4b02-a1ac-f276777a4f0d\">\n",
              "      <button class=\"colab-df-quickchart\" onclick=\"quickchart('df-48c54273-f416-4b02-a1ac-f276777a4f0d')\"\n",
              "                title=\"Suggest charts\"\n",
              "                style=\"display:none;\">\n",
              "\n",
              "<svg xmlns=\"http://www.w3.org/2000/svg\" height=\"24px\"viewBox=\"0 0 24 24\"\n",
              "     width=\"24px\">\n",
              "    <g>\n",
              "        <path d=\"M19 3H5c-1.1 0-2 .9-2 2v14c0 1.1.9 2 2 2h14c1.1 0 2-.9 2-2V5c0-1.1-.9-2-2-2zM9 17H7v-7h2v7zm4 0h-2V7h2v10zm4 0h-2v-4h2v4z\"/>\n",
              "    </g>\n",
              "</svg>\n",
              "      </button>\n",
              "\n",
              "<style>\n",
              "  .colab-df-quickchart {\n",
              "      --bg-color: #E8F0FE;\n",
              "      --fill-color: #1967D2;\n",
              "      --hover-bg-color: #E2EBFA;\n",
              "      --hover-fill-color: #174EA6;\n",
              "      --disabled-fill-color: #AAA;\n",
              "      --disabled-bg-color: #DDD;\n",
              "  }\n",
              "\n",
              "  [theme=dark] .colab-df-quickchart {\n",
              "      --bg-color: #3B4455;\n",
              "      --fill-color: #D2E3FC;\n",
              "      --hover-bg-color: #434B5C;\n",
              "      --hover-fill-color: #FFFFFF;\n",
              "      --disabled-bg-color: #3B4455;\n",
              "      --disabled-fill-color: #666;\n",
              "  }\n",
              "\n",
              "  .colab-df-quickchart {\n",
              "    background-color: var(--bg-color);\n",
              "    border: none;\n",
              "    border-radius: 50%;\n",
              "    cursor: pointer;\n",
              "    display: none;\n",
              "    fill: var(--fill-color);\n",
              "    height: 32px;\n",
              "    padding: 0;\n",
              "    width: 32px;\n",
              "  }\n",
              "\n",
              "  .colab-df-quickchart:hover {\n",
              "    background-color: var(--hover-bg-color);\n",
              "    box-shadow: 0 1px 2px rgba(60, 64, 67, 0.3), 0 1px 3px 1px rgba(60, 64, 67, 0.15);\n",
              "    fill: var(--button-hover-fill-color);\n",
              "  }\n",
              "\n",
              "  .colab-df-quickchart-complete:disabled,\n",
              "  .colab-df-quickchart-complete:disabled:hover {\n",
              "    background-color: var(--disabled-bg-color);\n",
              "    fill: var(--disabled-fill-color);\n",
              "    box-shadow: none;\n",
              "  }\n",
              "\n",
              "  .colab-df-spinner {\n",
              "    border: 2px solid var(--fill-color);\n",
              "    border-color: transparent;\n",
              "    border-bottom-color: var(--fill-color);\n",
              "    animation:\n",
              "      spin 1s steps(1) infinite;\n",
              "  }\n",
              "\n",
              "  @keyframes spin {\n",
              "    0% {\n",
              "      border-color: transparent;\n",
              "      border-bottom-color: var(--fill-color);\n",
              "      border-left-color: var(--fill-color);\n",
              "    }\n",
              "    20% {\n",
              "      border-color: transparent;\n",
              "      border-left-color: var(--fill-color);\n",
              "      border-top-color: var(--fill-color);\n",
              "    }\n",
              "    30% {\n",
              "      border-color: transparent;\n",
              "      border-left-color: var(--fill-color);\n",
              "      border-top-color: var(--fill-color);\n",
              "      border-right-color: var(--fill-color);\n",
              "    }\n",
              "    40% {\n",
              "      border-color: transparent;\n",
              "      border-right-color: var(--fill-color);\n",
              "      border-top-color: var(--fill-color);\n",
              "    }\n",
              "    60% {\n",
              "      border-color: transparent;\n",
              "      border-right-color: var(--fill-color);\n",
              "    }\n",
              "    80% {\n",
              "      border-color: transparent;\n",
              "      border-right-color: var(--fill-color);\n",
              "      border-bottom-color: var(--fill-color);\n",
              "    }\n",
              "    90% {\n",
              "      border-color: transparent;\n",
              "      border-bottom-color: var(--fill-color);\n",
              "    }\n",
              "  }\n",
              "</style>\n",
              "\n",
              "      <script>\n",
              "        async function quickchart(key) {\n",
              "          const quickchartButtonEl =\n",
              "            document.querySelector('#' + key + ' button');\n",
              "          quickchartButtonEl.disabled = true;  // To prevent multiple clicks.\n",
              "          quickchartButtonEl.classList.add('colab-df-spinner');\n",
              "          try {\n",
              "            const charts = await google.colab.kernel.invokeFunction(\n",
              "                'suggestCharts', [key], {});\n",
              "          } catch (error) {\n",
              "            console.error('Error during call to suggestCharts:', error);\n",
              "          }\n",
              "          quickchartButtonEl.classList.remove('colab-df-spinner');\n",
              "          quickchartButtonEl.classList.add('colab-df-quickchart-complete');\n",
              "        }\n",
              "        (() => {\n",
              "          let quickchartButtonEl =\n",
              "            document.querySelector('#df-48c54273-f416-4b02-a1ac-f276777a4f0d button');\n",
              "          quickchartButtonEl.style.display =\n",
              "            google.colab.kernel.accessAllowed ? 'block' : 'none';\n",
              "        })();\n",
              "      </script>\n",
              "    </div>\n",
              "\n",
              "    </div>\n",
              "  </div>\n"
            ],
            "application/vnd.google.colaboratory.intrinsic+json": {
              "type": "dataframe",
              "repr_error": "0"
            }
          },
          "metadata": {},
          "execution_count": 30
        }
      ]
    },
    {
      "cell_type": "code",
      "source": [
        "# 매칭되지 않은 id 수동 설정\n",
        "df.loc[df['show_title'] == 'Devara', 'id'] = 811941"
      ],
      "metadata": {
        "id": "JumthM13yzr2"
      },
      "execution_count": 36,
      "outputs": []
    },
    {
      "cell_type": "code",
      "source": [
        "df.dropna(subset=['id'])"
      ],
      "metadata": {
        "colab": {
          "base_uri": "https://localhost:8080/",
          "height": 424
        },
        "id": "glCW3P7XBVCb",
        "outputId": "baff9059-7503-4d15-dfe0-b4740e8a0964"
      },
      "execution_count": 37,
      "outputs": [
        {
          "output_type": "execute_result",
          "data": {
            "text/plain": [
              "            week          category                  show_title  \\\n",
              "0     2025-05-11   Films (English)                      Nonnas   \n",
              "1     2025-05-11   Films (English)     Inside Man: Most Wanted   \n",
              "2     2025-05-11   Films (English)  A Deadly American Marriage   \n",
              "3     2025-05-11   Films (English)                       Havoc   \n",
              "4     2025-05-11   Films (English)                    Twilight   \n",
              "...          ...               ...                         ...   \n",
              "8075  2021-07-04  TV (Non-English)                       Elite   \n",
              "8076  2021-07-04  TV (Non-English)                       Elite   \n",
              "8077  2021-07-04  TV (Non-English)                       Elite   \n",
              "8078  2021-07-04  TV (Non-English)                       Katla   \n",
              "8079  2021-07-04  TV (Non-English)          Record of Ragnarok   \n",
              "\n",
              "      weekly_hours_viewed  runtime  weekly_views  cumulative_weeks_in_top_10  \\\n",
              "0                29000000   1.9000    15300000.0                           1   \n",
              "1                21800000   1.7667    12300000.0                           1   \n",
              "2                16900000   1.7167     9800000.0                           1   \n",
              "3                16300000   1.7833     9100000.0                           3   \n",
              "4                 8700000   2.0333     4300000.0                           4   \n",
              "...                   ...      ...           ...                         ...   \n",
              "8075             10530000      NaN           NaN                           1   \n",
              "8076             10200000      NaN           NaN                           1   \n",
              "8077             10140000      NaN           NaN                           1   \n",
              "8078              9190000      NaN           NaN                           1   \n",
              "8079              9140000      NaN           NaN                           1   \n",
              "\n",
              "           id  \n",
              "0     1151039  \n",
              "1      619278  \n",
              "2     1466938  \n",
              "3      668489  \n",
              "4        8966  \n",
              "...       ...  \n",
              "8075    76669  \n",
              "8076    76669  \n",
              "8077    76669  \n",
              "8078   104157  \n",
              "8079   114868  \n",
              "\n",
              "[7765 rows x 8 columns]"
            ],
            "text/html": [
              "\n",
              "  <div id=\"df-8411f84b-835a-4325-8cd1-0a57e0c65b1d\" class=\"colab-df-container\">\n",
              "    <div>\n",
              "<style scoped>\n",
              "    .dataframe tbody tr th:only-of-type {\n",
              "        vertical-align: middle;\n",
              "    }\n",
              "\n",
              "    .dataframe tbody tr th {\n",
              "        vertical-align: top;\n",
              "    }\n",
              "\n",
              "    .dataframe thead th {\n",
              "        text-align: right;\n",
              "    }\n",
              "</style>\n",
              "<table border=\"1\" class=\"dataframe\">\n",
              "  <thead>\n",
              "    <tr style=\"text-align: right;\">\n",
              "      <th></th>\n",
              "      <th>week</th>\n",
              "      <th>category</th>\n",
              "      <th>show_title</th>\n",
              "      <th>weekly_hours_viewed</th>\n",
              "      <th>runtime</th>\n",
              "      <th>weekly_views</th>\n",
              "      <th>cumulative_weeks_in_top_10</th>\n",
              "      <th>id</th>\n",
              "    </tr>\n",
              "  </thead>\n",
              "  <tbody>\n",
              "    <tr>\n",
              "      <th>0</th>\n",
              "      <td>2025-05-11</td>\n",
              "      <td>Films (English)</td>\n",
              "      <td>Nonnas</td>\n",
              "      <td>29000000</td>\n",
              "      <td>1.9000</td>\n",
              "      <td>15300000.0</td>\n",
              "      <td>1</td>\n",
              "      <td>1151039</td>\n",
              "    </tr>\n",
              "    <tr>\n",
              "      <th>1</th>\n",
              "      <td>2025-05-11</td>\n",
              "      <td>Films (English)</td>\n",
              "      <td>Inside Man: Most Wanted</td>\n",
              "      <td>21800000</td>\n",
              "      <td>1.7667</td>\n",
              "      <td>12300000.0</td>\n",
              "      <td>1</td>\n",
              "      <td>619278</td>\n",
              "    </tr>\n",
              "    <tr>\n",
              "      <th>2</th>\n",
              "      <td>2025-05-11</td>\n",
              "      <td>Films (English)</td>\n",
              "      <td>A Deadly American Marriage</td>\n",
              "      <td>16900000</td>\n",
              "      <td>1.7167</td>\n",
              "      <td>9800000.0</td>\n",
              "      <td>1</td>\n",
              "      <td>1466938</td>\n",
              "    </tr>\n",
              "    <tr>\n",
              "      <th>3</th>\n",
              "      <td>2025-05-11</td>\n",
              "      <td>Films (English)</td>\n",
              "      <td>Havoc</td>\n",
              "      <td>16300000</td>\n",
              "      <td>1.7833</td>\n",
              "      <td>9100000.0</td>\n",
              "      <td>3</td>\n",
              "      <td>668489</td>\n",
              "    </tr>\n",
              "    <tr>\n",
              "      <th>4</th>\n",
              "      <td>2025-05-11</td>\n",
              "      <td>Films (English)</td>\n",
              "      <td>Twilight</td>\n",
              "      <td>8700000</td>\n",
              "      <td>2.0333</td>\n",
              "      <td>4300000.0</td>\n",
              "      <td>4</td>\n",
              "      <td>8966</td>\n",
              "    </tr>\n",
              "    <tr>\n",
              "      <th>...</th>\n",
              "      <td>...</td>\n",
              "      <td>...</td>\n",
              "      <td>...</td>\n",
              "      <td>...</td>\n",
              "      <td>...</td>\n",
              "      <td>...</td>\n",
              "      <td>...</td>\n",
              "      <td>...</td>\n",
              "    </tr>\n",
              "    <tr>\n",
              "      <th>8075</th>\n",
              "      <td>2021-07-04</td>\n",
              "      <td>TV (Non-English)</td>\n",
              "      <td>Elite</td>\n",
              "      <td>10530000</td>\n",
              "      <td>NaN</td>\n",
              "      <td>NaN</td>\n",
              "      <td>1</td>\n",
              "      <td>76669</td>\n",
              "    </tr>\n",
              "    <tr>\n",
              "      <th>8076</th>\n",
              "      <td>2021-07-04</td>\n",
              "      <td>TV (Non-English)</td>\n",
              "      <td>Elite</td>\n",
              "      <td>10200000</td>\n",
              "      <td>NaN</td>\n",
              "      <td>NaN</td>\n",
              "      <td>1</td>\n",
              "      <td>76669</td>\n",
              "    </tr>\n",
              "    <tr>\n",
              "      <th>8077</th>\n",
              "      <td>2021-07-04</td>\n",
              "      <td>TV (Non-English)</td>\n",
              "      <td>Elite</td>\n",
              "      <td>10140000</td>\n",
              "      <td>NaN</td>\n",
              "      <td>NaN</td>\n",
              "      <td>1</td>\n",
              "      <td>76669</td>\n",
              "    </tr>\n",
              "    <tr>\n",
              "      <th>8078</th>\n",
              "      <td>2021-07-04</td>\n",
              "      <td>TV (Non-English)</td>\n",
              "      <td>Katla</td>\n",
              "      <td>9190000</td>\n",
              "      <td>NaN</td>\n",
              "      <td>NaN</td>\n",
              "      <td>1</td>\n",
              "      <td>104157</td>\n",
              "    </tr>\n",
              "    <tr>\n",
              "      <th>8079</th>\n",
              "      <td>2021-07-04</td>\n",
              "      <td>TV (Non-English)</td>\n",
              "      <td>Record of Ragnarok</td>\n",
              "      <td>9140000</td>\n",
              "      <td>NaN</td>\n",
              "      <td>NaN</td>\n",
              "      <td>1</td>\n",
              "      <td>114868</td>\n",
              "    </tr>\n",
              "  </tbody>\n",
              "</table>\n",
              "<p>7765 rows × 8 columns</p>\n",
              "</div>\n",
              "    <div class=\"colab-df-buttons\">\n",
              "\n",
              "  <div class=\"colab-df-container\">\n",
              "    <button class=\"colab-df-convert\" onclick=\"convertToInteractive('df-8411f84b-835a-4325-8cd1-0a57e0c65b1d')\"\n",
              "            title=\"Convert this dataframe to an interactive table.\"\n",
              "            style=\"display:none;\">\n",
              "\n",
              "  <svg xmlns=\"http://www.w3.org/2000/svg\" height=\"24px\" viewBox=\"0 -960 960 960\">\n",
              "    <path d=\"M120-120v-720h720v720H120Zm60-500h600v-160H180v160Zm220 220h160v-160H400v160Zm0 220h160v-160H400v160ZM180-400h160v-160H180v160Zm440 0h160v-160H620v160ZM180-180h160v-160H180v160Zm440 0h160v-160H620v160Z\"/>\n",
              "  </svg>\n",
              "    </button>\n",
              "\n",
              "  <style>\n",
              "    .colab-df-container {\n",
              "      display:flex;\n",
              "      gap: 12px;\n",
              "    }\n",
              "\n",
              "    .colab-df-convert {\n",
              "      background-color: #E8F0FE;\n",
              "      border: none;\n",
              "      border-radius: 50%;\n",
              "      cursor: pointer;\n",
              "      display: none;\n",
              "      fill: #1967D2;\n",
              "      height: 32px;\n",
              "      padding: 0 0 0 0;\n",
              "      width: 32px;\n",
              "    }\n",
              "\n",
              "    .colab-df-convert:hover {\n",
              "      background-color: #E2EBFA;\n",
              "      box-shadow: 0px 1px 2px rgba(60, 64, 67, 0.3), 0px 1px 3px 1px rgba(60, 64, 67, 0.15);\n",
              "      fill: #174EA6;\n",
              "    }\n",
              "\n",
              "    .colab-df-buttons div {\n",
              "      margin-bottom: 4px;\n",
              "    }\n",
              "\n",
              "    [theme=dark] .colab-df-convert {\n",
              "      background-color: #3B4455;\n",
              "      fill: #D2E3FC;\n",
              "    }\n",
              "\n",
              "    [theme=dark] .colab-df-convert:hover {\n",
              "      background-color: #434B5C;\n",
              "      box-shadow: 0px 1px 3px 1px rgba(0, 0, 0, 0.15);\n",
              "      filter: drop-shadow(0px 1px 2px rgba(0, 0, 0, 0.3));\n",
              "      fill: #FFFFFF;\n",
              "    }\n",
              "  </style>\n",
              "\n",
              "    <script>\n",
              "      const buttonEl =\n",
              "        document.querySelector('#df-8411f84b-835a-4325-8cd1-0a57e0c65b1d button.colab-df-convert');\n",
              "      buttonEl.style.display =\n",
              "        google.colab.kernel.accessAllowed ? 'block' : 'none';\n",
              "\n",
              "      async function convertToInteractive(key) {\n",
              "        const element = document.querySelector('#df-8411f84b-835a-4325-8cd1-0a57e0c65b1d');\n",
              "        const dataTable =\n",
              "          await google.colab.kernel.invokeFunction('convertToInteractive',\n",
              "                                                    [key], {});\n",
              "        if (!dataTable) return;\n",
              "\n",
              "        const docLinkHtml = 'Like what you see? Visit the ' +\n",
              "          '<a target=\"_blank\" href=https://colab.research.google.com/notebooks/data_table.ipynb>data table notebook</a>'\n",
              "          + ' to learn more about interactive tables.';\n",
              "        element.innerHTML = '';\n",
              "        dataTable['output_type'] = 'display_data';\n",
              "        await google.colab.output.renderOutput(dataTable, element);\n",
              "        const docLink = document.createElement('div');\n",
              "        docLink.innerHTML = docLinkHtml;\n",
              "        element.appendChild(docLink);\n",
              "      }\n",
              "    </script>\n",
              "  </div>\n",
              "\n",
              "\n",
              "    <div id=\"df-1a004dfb-6b78-4a21-8406-3c5226c138a0\">\n",
              "      <button class=\"colab-df-quickchart\" onclick=\"quickchart('df-1a004dfb-6b78-4a21-8406-3c5226c138a0')\"\n",
              "                title=\"Suggest charts\"\n",
              "                style=\"display:none;\">\n",
              "\n",
              "<svg xmlns=\"http://www.w3.org/2000/svg\" height=\"24px\"viewBox=\"0 0 24 24\"\n",
              "     width=\"24px\">\n",
              "    <g>\n",
              "        <path d=\"M19 3H5c-1.1 0-2 .9-2 2v14c0 1.1.9 2 2 2h14c1.1 0 2-.9 2-2V5c0-1.1-.9-2-2-2zM9 17H7v-7h2v7zm4 0h-2V7h2v10zm4 0h-2v-4h2v4z\"/>\n",
              "    </g>\n",
              "</svg>\n",
              "      </button>\n",
              "\n",
              "<style>\n",
              "  .colab-df-quickchart {\n",
              "      --bg-color: #E8F0FE;\n",
              "      --fill-color: #1967D2;\n",
              "      --hover-bg-color: #E2EBFA;\n",
              "      --hover-fill-color: #174EA6;\n",
              "      --disabled-fill-color: #AAA;\n",
              "      --disabled-bg-color: #DDD;\n",
              "  }\n",
              "\n",
              "  [theme=dark] .colab-df-quickchart {\n",
              "      --bg-color: #3B4455;\n",
              "      --fill-color: #D2E3FC;\n",
              "      --hover-bg-color: #434B5C;\n",
              "      --hover-fill-color: #FFFFFF;\n",
              "      --disabled-bg-color: #3B4455;\n",
              "      --disabled-fill-color: #666;\n",
              "  }\n",
              "\n",
              "  .colab-df-quickchart {\n",
              "    background-color: var(--bg-color);\n",
              "    border: none;\n",
              "    border-radius: 50%;\n",
              "    cursor: pointer;\n",
              "    display: none;\n",
              "    fill: var(--fill-color);\n",
              "    height: 32px;\n",
              "    padding: 0;\n",
              "    width: 32px;\n",
              "  }\n",
              "\n",
              "  .colab-df-quickchart:hover {\n",
              "    background-color: var(--hover-bg-color);\n",
              "    box-shadow: 0 1px 2px rgba(60, 64, 67, 0.3), 0 1px 3px 1px rgba(60, 64, 67, 0.15);\n",
              "    fill: var(--button-hover-fill-color);\n",
              "  }\n",
              "\n",
              "  .colab-df-quickchart-complete:disabled,\n",
              "  .colab-df-quickchart-complete:disabled:hover {\n",
              "    background-color: var(--disabled-bg-color);\n",
              "    fill: var(--disabled-fill-color);\n",
              "    box-shadow: none;\n",
              "  }\n",
              "\n",
              "  .colab-df-spinner {\n",
              "    border: 2px solid var(--fill-color);\n",
              "    border-color: transparent;\n",
              "    border-bottom-color: var(--fill-color);\n",
              "    animation:\n",
              "      spin 1s steps(1) infinite;\n",
              "  }\n",
              "\n",
              "  @keyframes spin {\n",
              "    0% {\n",
              "      border-color: transparent;\n",
              "      border-bottom-color: var(--fill-color);\n",
              "      border-left-color: var(--fill-color);\n",
              "    }\n",
              "    20% {\n",
              "      border-color: transparent;\n",
              "      border-left-color: var(--fill-color);\n",
              "      border-top-color: var(--fill-color);\n",
              "    }\n",
              "    30% {\n",
              "      border-color: transparent;\n",
              "      border-left-color: var(--fill-color);\n",
              "      border-top-color: var(--fill-color);\n",
              "      border-right-color: var(--fill-color);\n",
              "    }\n",
              "    40% {\n",
              "      border-color: transparent;\n",
              "      border-right-color: var(--fill-color);\n",
              "      border-top-color: var(--fill-color);\n",
              "    }\n",
              "    60% {\n",
              "      border-color: transparent;\n",
              "      border-right-color: var(--fill-color);\n",
              "    }\n",
              "    80% {\n",
              "      border-color: transparent;\n",
              "      border-right-color: var(--fill-color);\n",
              "      border-bottom-color: var(--fill-color);\n",
              "    }\n",
              "    90% {\n",
              "      border-color: transparent;\n",
              "      border-bottom-color: var(--fill-color);\n",
              "    }\n",
              "  }\n",
              "</style>\n",
              "\n",
              "      <script>\n",
              "        async function quickchart(key) {\n",
              "          const quickchartButtonEl =\n",
              "            document.querySelector('#' + key + ' button');\n",
              "          quickchartButtonEl.disabled = true;  // To prevent multiple clicks.\n",
              "          quickchartButtonEl.classList.add('colab-df-spinner');\n",
              "          try {\n",
              "            const charts = await google.colab.kernel.invokeFunction(\n",
              "                'suggestCharts', [key], {});\n",
              "          } catch (error) {\n",
              "            console.error('Error during call to suggestCharts:', error);\n",
              "          }\n",
              "          quickchartButtonEl.classList.remove('colab-df-spinner');\n",
              "          quickchartButtonEl.classList.add('colab-df-quickchart-complete');\n",
              "        }\n",
              "        (() => {\n",
              "          let quickchartButtonEl =\n",
              "            document.querySelector('#df-1a004dfb-6b78-4a21-8406-3c5226c138a0 button');\n",
              "          quickchartButtonEl.style.display =\n",
              "            google.colab.kernel.accessAllowed ? 'block' : 'none';\n",
              "        })();\n",
              "      </script>\n",
              "    </div>\n",
              "\n",
              "    </div>\n",
              "  </div>\n"
            ],
            "application/vnd.google.colaboratory.intrinsic+json": {
              "type": "dataframe",
              "summary": "{\n  \"name\": \"df\",\n  \"rows\": 7765,\n  \"fields\": [\n    {\n      \"column\": \"week\",\n      \"properties\": {\n        \"dtype\": \"object\",\n        \"num_unique_values\": 202,\n        \"samples\": [\n          \"2023-07-16\",\n          \"2025-01-26\",\n          \"2024-10-13\"\n        ],\n        \"semantic_type\": \"\",\n        \"description\": \"\"\n      }\n    },\n    {\n      \"column\": \"category\",\n      \"properties\": {\n        \"dtype\": \"category\",\n        \"num_unique_values\": 4,\n        \"samples\": [\n          \"Films (Non-English)\",\n          \"TV (Non-English)\",\n          \"Films (English)\"\n        ],\n        \"semantic_type\": \"\",\n        \"description\": \"\"\n      }\n    },\n    {\n      \"column\": \"show_title\",\n      \"properties\": {\n        \"dtype\": \"category\",\n        \"num_unique_values\": 2404,\n        \"samples\": [\n          \"Lucky Baskhar\",\n          \"The Five Juanas\",\n          \"Hotel Transylvania 2\"\n        ],\n        \"semantic_type\": \"\",\n        \"description\": \"\"\n      }\n    },\n    {\n      \"column\": \"weekly_hours_viewed\",\n      \"properties\": {\n        \"dtype\": \"number\",\n        \"std\": 25863720,\n        \"min\": 700000,\n        \"max\": 571760000,\n        \"num_unique_values\": 2838,\n        \"samples\": [\n          45100000,\n          30040000,\n          16760000\n        ],\n        \"semantic_type\": \"\",\n        \"description\": \"\"\n      }\n    },\n    {\n      \"column\": \"runtime\",\n      \"properties\": {\n        \"dtype\": \"number\",\n        \"std\": 3.1454587738045166,\n        \"min\": 0.0,\n        \"max\": 47.5833,\n        \"num_unique_values\": 473,\n        \"samples\": [\n          1.6,\n          1.6167,\n          6.0167\n        ],\n        \"semantic_type\": \"\",\n        \"description\": \"\"\n      }\n    },\n    {\n      \"column\": \"weekly_views\",\n      \"properties\": {\n        \"dtype\": \"number\",\n        \"std\": 5413477.916476889,\n        \"min\": 600000.0,\n        \"max\": 68000000.0,\n        \"num_unique_values\": 264,\n        \"samples\": [\n          3300000.0,\n          33100000.0,\n          4000000.0\n        ],\n        \"semantic_type\": \"\",\n        \"description\": \"\"\n      }\n    },\n    {\n      \"column\": \"cumulative_weeks_in_top_10\",\n      \"properties\": {\n        \"dtype\": \"number\",\n        \"std\": 3,\n        \"min\": 1,\n        \"max\": 30,\n        \"num_unique_values\": 30,\n        \"samples\": [\n          23,\n          13,\n          27\n        ],\n        \"semantic_type\": \"\",\n        \"description\": \"\"\n      }\n    },\n    {\n      \"column\": \"id\",\n      \"properties\": {\n        \"dtype\": \"date\",\n        \"min\": 55,\n        \"max\": 1481983,\n        \"num_unique_values\": 2409,\n        \"samples\": [\n          195930,\n          923632,\n          1030323\n        ],\n        \"semantic_type\": \"\",\n        \"description\": \"\"\n      }\n    }\n  ]\n}"
            }
          },
          "metadata": {},
          "execution_count": 37
        }
      ]
    },
    {
      "cell_type": "code",
      "source": [
        "# csv 파일 저장\n",
        "df.to_csv('top-10_with_id.csv', index=False)"
      ],
      "metadata": {
        "id": "aRTEWAiR2NCp"
      },
      "execution_count": 38,
      "outputs": []
    },
    {
      "cell_type": "code",
      "source": [
        "# csv 파일 불러오기\n",
        "csv_path = \"top-10_with_id.csv\"\n",
        "\n",
        "df = pd.read_csv(csv_path)\n",
        "df['weekly_views'] = df['weekly_views'].astype('Int64')\n",
        "df['id'] = df['id'].astype('Int64')\n",
        "\n",
        "df = df.dropna(subset=['id'])\n",
        "\n",
        "df"
      ],
      "metadata": {
        "colab": {
          "base_uri": "https://localhost:8080/",
          "height": 424
        },
        "id": "fKw5dq-opbCh",
        "outputId": "5c1fc8d9-086e-4118-f47b-f4825d96054a"
      },
      "execution_count": 39,
      "outputs": [
        {
          "output_type": "execute_result",
          "data": {
            "text/plain": [
              "            week          category                  show_title  \\\n",
              "0     2025-05-11   Films (English)                      Nonnas   \n",
              "1     2025-05-11   Films (English)     Inside Man: Most Wanted   \n",
              "2     2025-05-11   Films (English)  A Deadly American Marriage   \n",
              "3     2025-05-11   Films (English)                       Havoc   \n",
              "4     2025-05-11   Films (English)                    Twilight   \n",
              "...          ...               ...                         ...   \n",
              "8075  2021-07-04  TV (Non-English)                       Elite   \n",
              "8076  2021-07-04  TV (Non-English)                       Elite   \n",
              "8077  2021-07-04  TV (Non-English)                       Elite   \n",
              "8078  2021-07-04  TV (Non-English)                       Katla   \n",
              "8079  2021-07-04  TV (Non-English)          Record of Ragnarok   \n",
              "\n",
              "      weekly_hours_viewed  runtime  weekly_views  cumulative_weeks_in_top_10  \\\n",
              "0                29000000   1.9000      15300000                           1   \n",
              "1                21800000   1.7667      12300000                           1   \n",
              "2                16900000   1.7167       9800000                           1   \n",
              "3                16300000   1.7833       9100000                           3   \n",
              "4                 8700000   2.0333       4300000                           4   \n",
              "...                   ...      ...           ...                         ...   \n",
              "8075             10530000      NaN          <NA>                           1   \n",
              "8076             10200000      NaN          <NA>                           1   \n",
              "8077             10140000      NaN          <NA>                           1   \n",
              "8078              9190000      NaN          <NA>                           1   \n",
              "8079              9140000      NaN          <NA>                           1   \n",
              "\n",
              "           id  \n",
              "0     1151039  \n",
              "1      619278  \n",
              "2     1466938  \n",
              "3      668489  \n",
              "4        8966  \n",
              "...       ...  \n",
              "8075    76669  \n",
              "8076    76669  \n",
              "8077    76669  \n",
              "8078   104157  \n",
              "8079   114868  \n",
              "\n",
              "[7765 rows x 8 columns]"
            ],
            "text/html": [
              "\n",
              "  <div id=\"df-ae7d0b8c-03ac-453b-a4b8-bc882305d58e\" class=\"colab-df-container\">\n",
              "    <div>\n",
              "<style scoped>\n",
              "    .dataframe tbody tr th:only-of-type {\n",
              "        vertical-align: middle;\n",
              "    }\n",
              "\n",
              "    .dataframe tbody tr th {\n",
              "        vertical-align: top;\n",
              "    }\n",
              "\n",
              "    .dataframe thead th {\n",
              "        text-align: right;\n",
              "    }\n",
              "</style>\n",
              "<table border=\"1\" class=\"dataframe\">\n",
              "  <thead>\n",
              "    <tr style=\"text-align: right;\">\n",
              "      <th></th>\n",
              "      <th>week</th>\n",
              "      <th>category</th>\n",
              "      <th>show_title</th>\n",
              "      <th>weekly_hours_viewed</th>\n",
              "      <th>runtime</th>\n",
              "      <th>weekly_views</th>\n",
              "      <th>cumulative_weeks_in_top_10</th>\n",
              "      <th>id</th>\n",
              "    </tr>\n",
              "  </thead>\n",
              "  <tbody>\n",
              "    <tr>\n",
              "      <th>0</th>\n",
              "      <td>2025-05-11</td>\n",
              "      <td>Films (English)</td>\n",
              "      <td>Nonnas</td>\n",
              "      <td>29000000</td>\n",
              "      <td>1.9000</td>\n",
              "      <td>15300000</td>\n",
              "      <td>1</td>\n",
              "      <td>1151039</td>\n",
              "    </tr>\n",
              "    <tr>\n",
              "      <th>1</th>\n",
              "      <td>2025-05-11</td>\n",
              "      <td>Films (English)</td>\n",
              "      <td>Inside Man: Most Wanted</td>\n",
              "      <td>21800000</td>\n",
              "      <td>1.7667</td>\n",
              "      <td>12300000</td>\n",
              "      <td>1</td>\n",
              "      <td>619278</td>\n",
              "    </tr>\n",
              "    <tr>\n",
              "      <th>2</th>\n",
              "      <td>2025-05-11</td>\n",
              "      <td>Films (English)</td>\n",
              "      <td>A Deadly American Marriage</td>\n",
              "      <td>16900000</td>\n",
              "      <td>1.7167</td>\n",
              "      <td>9800000</td>\n",
              "      <td>1</td>\n",
              "      <td>1466938</td>\n",
              "    </tr>\n",
              "    <tr>\n",
              "      <th>3</th>\n",
              "      <td>2025-05-11</td>\n",
              "      <td>Films (English)</td>\n",
              "      <td>Havoc</td>\n",
              "      <td>16300000</td>\n",
              "      <td>1.7833</td>\n",
              "      <td>9100000</td>\n",
              "      <td>3</td>\n",
              "      <td>668489</td>\n",
              "    </tr>\n",
              "    <tr>\n",
              "      <th>4</th>\n",
              "      <td>2025-05-11</td>\n",
              "      <td>Films (English)</td>\n",
              "      <td>Twilight</td>\n",
              "      <td>8700000</td>\n",
              "      <td>2.0333</td>\n",
              "      <td>4300000</td>\n",
              "      <td>4</td>\n",
              "      <td>8966</td>\n",
              "    </tr>\n",
              "    <tr>\n",
              "      <th>...</th>\n",
              "      <td>...</td>\n",
              "      <td>...</td>\n",
              "      <td>...</td>\n",
              "      <td>...</td>\n",
              "      <td>...</td>\n",
              "      <td>...</td>\n",
              "      <td>...</td>\n",
              "      <td>...</td>\n",
              "    </tr>\n",
              "    <tr>\n",
              "      <th>8075</th>\n",
              "      <td>2021-07-04</td>\n",
              "      <td>TV (Non-English)</td>\n",
              "      <td>Elite</td>\n",
              "      <td>10530000</td>\n",
              "      <td>NaN</td>\n",
              "      <td>&lt;NA&gt;</td>\n",
              "      <td>1</td>\n",
              "      <td>76669</td>\n",
              "    </tr>\n",
              "    <tr>\n",
              "      <th>8076</th>\n",
              "      <td>2021-07-04</td>\n",
              "      <td>TV (Non-English)</td>\n",
              "      <td>Elite</td>\n",
              "      <td>10200000</td>\n",
              "      <td>NaN</td>\n",
              "      <td>&lt;NA&gt;</td>\n",
              "      <td>1</td>\n",
              "      <td>76669</td>\n",
              "    </tr>\n",
              "    <tr>\n",
              "      <th>8077</th>\n",
              "      <td>2021-07-04</td>\n",
              "      <td>TV (Non-English)</td>\n",
              "      <td>Elite</td>\n",
              "      <td>10140000</td>\n",
              "      <td>NaN</td>\n",
              "      <td>&lt;NA&gt;</td>\n",
              "      <td>1</td>\n",
              "      <td>76669</td>\n",
              "    </tr>\n",
              "    <tr>\n",
              "      <th>8078</th>\n",
              "      <td>2021-07-04</td>\n",
              "      <td>TV (Non-English)</td>\n",
              "      <td>Katla</td>\n",
              "      <td>9190000</td>\n",
              "      <td>NaN</td>\n",
              "      <td>&lt;NA&gt;</td>\n",
              "      <td>1</td>\n",
              "      <td>104157</td>\n",
              "    </tr>\n",
              "    <tr>\n",
              "      <th>8079</th>\n",
              "      <td>2021-07-04</td>\n",
              "      <td>TV (Non-English)</td>\n",
              "      <td>Record of Ragnarok</td>\n",
              "      <td>9140000</td>\n",
              "      <td>NaN</td>\n",
              "      <td>&lt;NA&gt;</td>\n",
              "      <td>1</td>\n",
              "      <td>114868</td>\n",
              "    </tr>\n",
              "  </tbody>\n",
              "</table>\n",
              "<p>7765 rows × 8 columns</p>\n",
              "</div>\n",
              "    <div class=\"colab-df-buttons\">\n",
              "\n",
              "  <div class=\"colab-df-container\">\n",
              "    <button class=\"colab-df-convert\" onclick=\"convertToInteractive('df-ae7d0b8c-03ac-453b-a4b8-bc882305d58e')\"\n",
              "            title=\"Convert this dataframe to an interactive table.\"\n",
              "            style=\"display:none;\">\n",
              "\n",
              "  <svg xmlns=\"http://www.w3.org/2000/svg\" height=\"24px\" viewBox=\"0 -960 960 960\">\n",
              "    <path d=\"M120-120v-720h720v720H120Zm60-500h600v-160H180v160Zm220 220h160v-160H400v160Zm0 220h160v-160H400v160ZM180-400h160v-160H180v160Zm440 0h160v-160H620v160ZM180-180h160v-160H180v160Zm440 0h160v-160H620v160Z\"/>\n",
              "  </svg>\n",
              "    </button>\n",
              "\n",
              "  <style>\n",
              "    .colab-df-container {\n",
              "      display:flex;\n",
              "      gap: 12px;\n",
              "    }\n",
              "\n",
              "    .colab-df-convert {\n",
              "      background-color: #E8F0FE;\n",
              "      border: none;\n",
              "      border-radius: 50%;\n",
              "      cursor: pointer;\n",
              "      display: none;\n",
              "      fill: #1967D2;\n",
              "      height: 32px;\n",
              "      padding: 0 0 0 0;\n",
              "      width: 32px;\n",
              "    }\n",
              "\n",
              "    .colab-df-convert:hover {\n",
              "      background-color: #E2EBFA;\n",
              "      box-shadow: 0px 1px 2px rgba(60, 64, 67, 0.3), 0px 1px 3px 1px rgba(60, 64, 67, 0.15);\n",
              "      fill: #174EA6;\n",
              "    }\n",
              "\n",
              "    .colab-df-buttons div {\n",
              "      margin-bottom: 4px;\n",
              "    }\n",
              "\n",
              "    [theme=dark] .colab-df-convert {\n",
              "      background-color: #3B4455;\n",
              "      fill: #D2E3FC;\n",
              "    }\n",
              "\n",
              "    [theme=dark] .colab-df-convert:hover {\n",
              "      background-color: #434B5C;\n",
              "      box-shadow: 0px 1px 3px 1px rgba(0, 0, 0, 0.15);\n",
              "      filter: drop-shadow(0px 1px 2px rgba(0, 0, 0, 0.3));\n",
              "      fill: #FFFFFF;\n",
              "    }\n",
              "  </style>\n",
              "\n",
              "    <script>\n",
              "      const buttonEl =\n",
              "        document.querySelector('#df-ae7d0b8c-03ac-453b-a4b8-bc882305d58e button.colab-df-convert');\n",
              "      buttonEl.style.display =\n",
              "        google.colab.kernel.accessAllowed ? 'block' : 'none';\n",
              "\n",
              "      async function convertToInteractive(key) {\n",
              "        const element = document.querySelector('#df-ae7d0b8c-03ac-453b-a4b8-bc882305d58e');\n",
              "        const dataTable =\n",
              "          await google.colab.kernel.invokeFunction('convertToInteractive',\n",
              "                                                    [key], {});\n",
              "        if (!dataTable) return;\n",
              "\n",
              "        const docLinkHtml = 'Like what you see? Visit the ' +\n",
              "          '<a target=\"_blank\" href=https://colab.research.google.com/notebooks/data_table.ipynb>data table notebook</a>'\n",
              "          + ' to learn more about interactive tables.';\n",
              "        element.innerHTML = '';\n",
              "        dataTable['output_type'] = 'display_data';\n",
              "        await google.colab.output.renderOutput(dataTable, element);\n",
              "        const docLink = document.createElement('div');\n",
              "        docLink.innerHTML = docLinkHtml;\n",
              "        element.appendChild(docLink);\n",
              "      }\n",
              "    </script>\n",
              "  </div>\n",
              "\n",
              "\n",
              "    <div id=\"df-8a2043c5-e407-494e-b80e-6ee7dba2815c\">\n",
              "      <button class=\"colab-df-quickchart\" onclick=\"quickchart('df-8a2043c5-e407-494e-b80e-6ee7dba2815c')\"\n",
              "                title=\"Suggest charts\"\n",
              "                style=\"display:none;\">\n",
              "\n",
              "<svg xmlns=\"http://www.w3.org/2000/svg\" height=\"24px\"viewBox=\"0 0 24 24\"\n",
              "     width=\"24px\">\n",
              "    <g>\n",
              "        <path d=\"M19 3H5c-1.1 0-2 .9-2 2v14c0 1.1.9 2 2 2h14c1.1 0 2-.9 2-2V5c0-1.1-.9-2-2-2zM9 17H7v-7h2v7zm4 0h-2V7h2v10zm4 0h-2v-4h2v4z\"/>\n",
              "    </g>\n",
              "</svg>\n",
              "      </button>\n",
              "\n",
              "<style>\n",
              "  .colab-df-quickchart {\n",
              "      --bg-color: #E8F0FE;\n",
              "      --fill-color: #1967D2;\n",
              "      --hover-bg-color: #E2EBFA;\n",
              "      --hover-fill-color: #174EA6;\n",
              "      --disabled-fill-color: #AAA;\n",
              "      --disabled-bg-color: #DDD;\n",
              "  }\n",
              "\n",
              "  [theme=dark] .colab-df-quickchart {\n",
              "      --bg-color: #3B4455;\n",
              "      --fill-color: #D2E3FC;\n",
              "      --hover-bg-color: #434B5C;\n",
              "      --hover-fill-color: #FFFFFF;\n",
              "      --disabled-bg-color: #3B4455;\n",
              "      --disabled-fill-color: #666;\n",
              "  }\n",
              "\n",
              "  .colab-df-quickchart {\n",
              "    background-color: var(--bg-color);\n",
              "    border: none;\n",
              "    border-radius: 50%;\n",
              "    cursor: pointer;\n",
              "    display: none;\n",
              "    fill: var(--fill-color);\n",
              "    height: 32px;\n",
              "    padding: 0;\n",
              "    width: 32px;\n",
              "  }\n",
              "\n",
              "  .colab-df-quickchart:hover {\n",
              "    background-color: var(--hover-bg-color);\n",
              "    box-shadow: 0 1px 2px rgba(60, 64, 67, 0.3), 0 1px 3px 1px rgba(60, 64, 67, 0.15);\n",
              "    fill: var(--button-hover-fill-color);\n",
              "  }\n",
              "\n",
              "  .colab-df-quickchart-complete:disabled,\n",
              "  .colab-df-quickchart-complete:disabled:hover {\n",
              "    background-color: var(--disabled-bg-color);\n",
              "    fill: var(--disabled-fill-color);\n",
              "    box-shadow: none;\n",
              "  }\n",
              "\n",
              "  .colab-df-spinner {\n",
              "    border: 2px solid var(--fill-color);\n",
              "    border-color: transparent;\n",
              "    border-bottom-color: var(--fill-color);\n",
              "    animation:\n",
              "      spin 1s steps(1) infinite;\n",
              "  }\n",
              "\n",
              "  @keyframes spin {\n",
              "    0% {\n",
              "      border-color: transparent;\n",
              "      border-bottom-color: var(--fill-color);\n",
              "      border-left-color: var(--fill-color);\n",
              "    }\n",
              "    20% {\n",
              "      border-color: transparent;\n",
              "      border-left-color: var(--fill-color);\n",
              "      border-top-color: var(--fill-color);\n",
              "    }\n",
              "    30% {\n",
              "      border-color: transparent;\n",
              "      border-left-color: var(--fill-color);\n",
              "      border-top-color: var(--fill-color);\n",
              "      border-right-color: var(--fill-color);\n",
              "    }\n",
              "    40% {\n",
              "      border-color: transparent;\n",
              "      border-right-color: var(--fill-color);\n",
              "      border-top-color: var(--fill-color);\n",
              "    }\n",
              "    60% {\n",
              "      border-color: transparent;\n",
              "      border-right-color: var(--fill-color);\n",
              "    }\n",
              "    80% {\n",
              "      border-color: transparent;\n",
              "      border-right-color: var(--fill-color);\n",
              "      border-bottom-color: var(--fill-color);\n",
              "    }\n",
              "    90% {\n",
              "      border-color: transparent;\n",
              "      border-bottom-color: var(--fill-color);\n",
              "    }\n",
              "  }\n",
              "</style>\n",
              "\n",
              "      <script>\n",
              "        async function quickchart(key) {\n",
              "          const quickchartButtonEl =\n",
              "            document.querySelector('#' + key + ' button');\n",
              "          quickchartButtonEl.disabled = true;  // To prevent multiple clicks.\n",
              "          quickchartButtonEl.classList.add('colab-df-spinner');\n",
              "          try {\n",
              "            const charts = await google.colab.kernel.invokeFunction(\n",
              "                'suggestCharts', [key], {});\n",
              "          } catch (error) {\n",
              "            console.error('Error during call to suggestCharts:', error);\n",
              "          }\n",
              "          quickchartButtonEl.classList.remove('colab-df-spinner');\n",
              "          quickchartButtonEl.classList.add('colab-df-quickchart-complete');\n",
              "        }\n",
              "        (() => {\n",
              "          let quickchartButtonEl =\n",
              "            document.querySelector('#df-8a2043c5-e407-494e-b80e-6ee7dba2815c button');\n",
              "          quickchartButtonEl.style.display =\n",
              "            google.colab.kernel.accessAllowed ? 'block' : 'none';\n",
              "        })();\n",
              "      </script>\n",
              "    </div>\n",
              "\n",
              "  <div id=\"id_cd3375eb-a35f-49de-b451-0f9446fc6376\">\n",
              "    <style>\n",
              "      .colab-df-generate {\n",
              "        background-color: #E8F0FE;\n",
              "        border: none;\n",
              "        border-radius: 50%;\n",
              "        cursor: pointer;\n",
              "        display: none;\n",
              "        fill: #1967D2;\n",
              "        height: 32px;\n",
              "        padding: 0 0 0 0;\n",
              "        width: 32px;\n",
              "      }\n",
              "\n",
              "      .colab-df-generate:hover {\n",
              "        background-color: #E2EBFA;\n",
              "        box-shadow: 0px 1px 2px rgba(60, 64, 67, 0.3), 0px 1px 3px 1px rgba(60, 64, 67, 0.15);\n",
              "        fill: #174EA6;\n",
              "      }\n",
              "\n",
              "      [theme=dark] .colab-df-generate {\n",
              "        background-color: #3B4455;\n",
              "        fill: #D2E3FC;\n",
              "      }\n",
              "\n",
              "      [theme=dark] .colab-df-generate:hover {\n",
              "        background-color: #434B5C;\n",
              "        box-shadow: 0px 1px 3px 1px rgba(0, 0, 0, 0.15);\n",
              "        filter: drop-shadow(0px 1px 2px rgba(0, 0, 0, 0.3));\n",
              "        fill: #FFFFFF;\n",
              "      }\n",
              "    </style>\n",
              "    <button class=\"colab-df-generate\" onclick=\"generateWithVariable('df')\"\n",
              "            title=\"Generate code using this dataframe.\"\n",
              "            style=\"display:none;\">\n",
              "\n",
              "  <svg xmlns=\"http://www.w3.org/2000/svg\" height=\"24px\"viewBox=\"0 0 24 24\"\n",
              "       width=\"24px\">\n",
              "    <path d=\"M7,19H8.4L18.45,9,17,7.55,7,17.6ZM5,21V16.75L18.45,3.32a2,2,0,0,1,2.83,0l1.4,1.43a1.91,1.91,0,0,1,.58,1.4,1.91,1.91,0,0,1-.58,1.4L9.25,21ZM18.45,9,17,7.55Zm-12,3A5.31,5.31,0,0,0,4.9,8.1,5.31,5.31,0,0,0,1,6.5,5.31,5.31,0,0,0,4.9,4.9,5.31,5.31,0,0,0,6.5,1,5.31,5.31,0,0,0,8.1,4.9,5.31,5.31,0,0,0,12,6.5,5.46,5.46,0,0,0,6.5,12Z\"/>\n",
              "  </svg>\n",
              "    </button>\n",
              "    <script>\n",
              "      (() => {\n",
              "      const buttonEl =\n",
              "        document.querySelector('#id_cd3375eb-a35f-49de-b451-0f9446fc6376 button.colab-df-generate');\n",
              "      buttonEl.style.display =\n",
              "        google.colab.kernel.accessAllowed ? 'block' : 'none';\n",
              "\n",
              "      buttonEl.onclick = () => {\n",
              "        google.colab.notebook.generateWithVariable('df');\n",
              "      }\n",
              "      })();\n",
              "    </script>\n",
              "  </div>\n",
              "\n",
              "    </div>\n",
              "  </div>\n"
            ],
            "application/vnd.google.colaboratory.intrinsic+json": {
              "type": "dataframe",
              "variable_name": "df",
              "summary": "{\n  \"name\": \"df\",\n  \"rows\": 7765,\n  \"fields\": [\n    {\n      \"column\": \"week\",\n      \"properties\": {\n        \"dtype\": \"object\",\n        \"num_unique_values\": 202,\n        \"samples\": [\n          \"2023-07-16\",\n          \"2025-01-26\",\n          \"2024-10-13\"\n        ],\n        \"semantic_type\": \"\",\n        \"description\": \"\"\n      }\n    },\n    {\n      \"column\": \"category\",\n      \"properties\": {\n        \"dtype\": \"category\",\n        \"num_unique_values\": 4,\n        \"samples\": [\n          \"Films (Non-English)\",\n          \"TV (Non-English)\",\n          \"Films (English)\"\n        ],\n        \"semantic_type\": \"\",\n        \"description\": \"\"\n      }\n    },\n    {\n      \"column\": \"show_title\",\n      \"properties\": {\n        \"dtype\": \"category\",\n        \"num_unique_values\": 2404,\n        \"samples\": [\n          \"Lucky Baskhar\",\n          \"The Five Juanas\",\n          \"Hotel Transylvania 2\"\n        ],\n        \"semantic_type\": \"\",\n        \"description\": \"\"\n      }\n    },\n    {\n      \"column\": \"weekly_hours_viewed\",\n      \"properties\": {\n        \"dtype\": \"number\",\n        \"std\": 25863720,\n        \"min\": 700000,\n        \"max\": 571760000,\n        \"num_unique_values\": 2838,\n        \"samples\": [\n          45100000,\n          30040000,\n          16760000\n        ],\n        \"semantic_type\": \"\",\n        \"description\": \"\"\n      }\n    },\n    {\n      \"column\": \"runtime\",\n      \"properties\": {\n        \"dtype\": \"number\",\n        \"std\": 3.1454587738045166,\n        \"min\": 0.0,\n        \"max\": 47.5833,\n        \"num_unique_values\": 473,\n        \"samples\": [\n          1.6,\n          1.6167,\n          6.0167\n        ],\n        \"semantic_type\": \"\",\n        \"description\": \"\"\n      }\n    },\n    {\n      \"column\": \"weekly_views\",\n      \"properties\": {\n        \"dtype\": \"Int64\",\n        \"num_unique_values\": 264,\n        \"samples\": [\n          3300000,\n          33100000,\n          4000000\n        ],\n        \"semantic_type\": \"\",\n        \"description\": \"\"\n      }\n    },\n    {\n      \"column\": \"cumulative_weeks_in_top_10\",\n      \"properties\": {\n        \"dtype\": \"number\",\n        \"std\": 3,\n        \"min\": 1,\n        \"max\": 30,\n        \"num_unique_values\": 30,\n        \"samples\": [\n          23,\n          13,\n          27\n        ],\n        \"semantic_type\": \"\",\n        \"description\": \"\"\n      }\n    },\n    {\n      \"column\": \"id\",\n      \"properties\": {\n        \"dtype\": \"Int64\",\n        \"num_unique_values\": 2409,\n        \"samples\": [\n          195930,\n          923632,\n          1030323\n        ],\n        \"semantic_type\": \"\",\n        \"description\": \"\"\n      }\n    }\n  ]\n}"
            }
          },
          "metadata": {},
          "execution_count": 39
        }
      ]
    },
    {
      "cell_type": "markdown",
      "source": [
        "# 3. 작품 id를 이용해 tmdb에서 장르와 키워드 불러오기"
      ],
      "metadata": {
        "id": "Ml0SgCHzhaRS"
      }
    },
    {
      "cell_type": "markdown",
      "source": [
        "## 3.1. 장르 불러오기"
      ],
      "metadata": {
        "id": "pWMmVP2NhjrB"
      }
    },
    {
      "cell_type": "code",
      "source": [
        "import pandas as pd\n",
        "import requests\n",
        "from tqdm import tqdm\n",
        "import time\n",
        "from dotenv import load_dotenv\n",
        "\n",
        "# .env 파일에서 api키 받아오기\n",
        "load_dotenv()\n",
        "API_KEY = os.getenv('API_KEY')\n",
        "\n",
        "print(f\"API Key loaded: {API_KEY[:5]}...\" if API_KEY else \"No API key found\")\n",
        "\n",
        "\n",
        "if 'df' not in locals() or not isinstance(df, pd.DataFrame):\n",
        "    print(\"!!! 'df' DataFrame이 정의되지 않았습니다. 스크립트 상단에서 로드해주세요. !!!\")\n",
        "    exit()\n",
        "\n",
        "\n",
        "if 'genres' not in df.columns:\n",
        "    print(\"Initializing 'genres' column.\")\n",
        "    df['genres'] = pd.Series([None for _ in range(len(df))], index=df.index, dtype=object)\n",
        "    for i in df.index:\n",
        "        df.at[i, 'genres'] = []\n",
        "else:\n",
        "    print(\"Re-initializing existing 'genres' column.\")\n",
        "\n",
        "    for i in df.index:\n",
        "        df.at[i, 'genres'] = []\n",
        "\n",
        "\n",
        "print(\"\\n--- DEBUGGING INFORMATION (AFTER 'genres' INIT with .at) ---\")\n",
        "if 'genres' in df.columns:\n",
        "    print(f\"df['genres'].dtype: {df['genres'].dtype}\")\n",
        "    print(f\"First 3 values of df['genres']:\\n{df['genres'].head(3).tolist()}\")\n",
        "    try:\n",
        "        if len(df) > 0:\n",
        "            temp_list = [\"Test Assignment\"]\n",
        "            df.at[df.index[0], 'genres'] = temp_list\n",
        "            print(f\"Test assignment to df.at[df.index[0], 'genres'] successful. Value: {df.at[df.index[0], 'genres']}\")\n",
        "            df.at[df.index[0], 'genres'] = []\n",
        "            print(f\"Test reset to df.at[df.index[0], 'genres'] with [] successful. Value: {df.at[df.index[0], 'genres']}\")\n",
        "        else:\n",
        "            print(\"DataFrame is empty, skipping test assignment.\")\n",
        "    except Exception as e:\n",
        "        print(f\"!!! ERROR during test assignment to df.at['genres']: {e}\")\n",
        "else:\n",
        "    print(\"'genres' column not found after initialization attempt.\")\n",
        "print(\"-----------------------------------------------------\")\n",
        "\n",
        "\n",
        "headers = {\n",
        "    \"accept\": \"application/json\",\n",
        "    \"Authorization\": f\"Bearer {API_KEY}\"\n",
        "}\n",
        "\n",
        "print(\"\\nStarting API calls...\\n\")\n",
        "\n",
        "for index, row in tqdm(df.iterrows(), total=df.shape[0], desc=\"Fetching TMDB Genres\"):\n",
        "    tmdb_id_from_df = None\n",
        "    try:\n",
        "        tmdb_id_from_df = int(row['id'])\n",
        "    except (ValueError, TypeError, KeyError) as e:\n",
        "        tqdm.write(f\"Skipping row {index} (Original ID: {row.get('id', 'N/A')}): Invalid or missing TMDB ID. Error: {e}\")\n",
        "        try:\n",
        "            df.at[index, 'genres'] = [\"Error: Invalid TMDB ID in source\"]\n",
        "        except Exception as assign_e:\n",
        "            print(f\"!!!!! CRITICAL ERROR during assignment in (ValueError/TypeError/KeyError) except block for index {index}: {assign_e}\")\n",
        "        continue\n",
        "\n",
        "    category = row.get('category')\n",
        "    url = None\n",
        "\n",
        "    if category == \"Films (English)\" or category == \"Films (Non-English)\":\n",
        "        url = f\"https://api.themoviedb.org/3/movie/{tmdb_id_from_df}?language=en-US\"\n",
        "    elif category == \"TV (English)\" or category == \"TV (Non-English)\":\n",
        "        url = f\"https://api.themoviedb.org/3/tv/{tmdb_id_from_df}?language=en-US\"\n",
        "    else:\n",
        "        tqdm.write(f\"카테고리 오류. TMDB ID: {tmdb_id_from_df}, Category: {category}\")\n",
        "        try:\n",
        "            df.at[index, 'genres'] = [f\"Error: Invalid Category '{category}'\"]\n",
        "        except Exception as assign_e:\n",
        "            print(f\"!!!!! CRITICAL ERROR during assignment in category 'else' block for index {index}: {assign_e}\")\n",
        "        continue\n",
        "\n",
        "    if url:\n",
        "        response_text_snippet = \"Response not captured yet\"\n",
        "        try:\n",
        "            response = requests.get(url, headers=headers)\n",
        "            response_text_snippet = response.text[:200] if response and hasattr(response, 'text') else \"Response has no text or is None\"\n",
        "            response.raise_for_status()\n",
        "            data = response.json()\n",
        "\n",
        "            genres_data_list = data.get('genres', [])\n",
        "\n",
        "            if genres_data_list:\n",
        "                genre_names = [genre_info['name'] for genre_info in genres_data_list if 'name' in genre_info]\n",
        "                df.at[index, 'genres'] = genre_names\n",
        "            else:\n",
        "                df.at[index, 'genres'] = []\n",
        "\n",
        "            # time.sleep(0.05)\n",
        "\n",
        "        except requests.exceptions.HTTPError as e:\n",
        "            error_msg_list = []\n",
        "            if e.response.status_code == 404:\n",
        "                tqdm.write(f\"API 요청 실패 (404 Not Found). TMDB ID: {tmdb_id_from_df}. URL: {url}\")\n",
        "                error_msg_list = [\"Error: Item Not Found (404)\"]\n",
        "            else:\n",
        "                tqdm.write(f\"API 요청 실패. TMDB ID: {tmdb_id_from_df}. Status: {e.response.status_code}. URL: {url}. Error: {e}\")\n",
        "                error_msg_list = [f\"Error: API HTTP {e.response.status_code}\"]\n",
        "            try:\n",
        "                df.at[index, 'genres'] = error_msg_list\n",
        "            except Exception as assign_e:\n",
        "                print(f\"!!!!! CRITICAL ERROR during assignment in HTTPError except block for index {index}: {assign_e}\")\n",
        "\n",
        "        except requests.exceptions.RequestException as e:\n",
        "            tqdm.write(f\"API 연결 오류. TMDB ID: {tmdb_id_from_df}. URL: {url}. Error: {e}\")\n",
        "            try:\n",
        "                df.at[index, 'genres'] = [\"Error: API Connection Failed\"]\n",
        "            except Exception as assign_e:\n",
        "                print(f\"!!!!! CRITICAL ERROR during assignment in RequestException except block for index {index}: {assign_e}\")\n",
        "\n",
        "        except ValueError as e:\n",
        "            tqdm.write(f\"JSON 파싱 실패. TMDB ID: {tmdb_id_from_df}. URL: {url}. Error: {e}. Response text: {response_text_snippet}\")\n",
        "            try:\n",
        "                df.at[index, 'genres'] = [\"Error: JSON Parse Failed\"]\n",
        "            except Exception as assign_e:\n",
        "                print(f\"!!!!! CRITICAL ERROR during assignment in ValueError except block for index {index}: {assign_e}\")\n",
        "                print(f\"Attempted to assign: {['Error: JSON Parse Failed']}\")\n",
        "\n",
        "\n",
        "        except Exception as e:\n",
        "            tqdm.write(f\"처리 중 알 수 없는 오류 발생. TMDB ID: {tmdb_id_from_df}. URL: {url}. Error: {e}\")\n",
        "            try:\n",
        "                df.at[index, 'genres'] = [\"Error: Unknown Processing Error\"]\n",
        "            except Exception as assign_e:\n",
        "                print(f\"!!!!! CRITICAL ERROR during assignment in Generic Exception except block for index {index}: {assign_e}\")\n",
        "\n",
        "\n",
        "print(\"\\n--- FINAL DataFrame ---\")\n",
        "print(df[['id', 'category', 'genres']].head(10))\n",
        "print(\"\\n--- FINAL df.info() ---\")\n",
        "df.info()"
      ],
      "metadata": {
        "colab": {
          "base_uri": "https://localhost:8080/"
        },
        "id": "_W7Cttydp9v_",
        "outputId": "ca2c3797-8924-4fe6-dfe0-22a7e8042c7e"
      },
      "execution_count": 40,
      "outputs": [
        {
          "output_type": "stream",
          "name": "stdout",
          "text": [
            "API Key loaded: eyJhb...\n",
            "Initializing 'genres' column.\n",
            "\n",
            "--- DEBUGGING INFORMATION (AFTER 'genres' INIT with .at) ---\n",
            "df['genres'].dtype: object\n",
            "First 3 values of df['genres']:\n",
            "[[], [], []]\n",
            "Test assignment to df.at[df.index[0], 'genres'] successful. Value: ['Test Assignment']\n",
            "Test reset to df.at[df.index[0], 'genres'] with [] successful. Value: []\n",
            "-----------------------------------------------------\n",
            "\n",
            "Starting API calls...\n",
            "\n"
          ]
        },
        {
          "output_type": "stream",
          "name": "stderr",
          "text": [
            "Fetching TMDB Genres: 100%|██████████| 7765/7765 [09:00<00:00, 14.37it/s]\n"
          ]
        },
        {
          "output_type": "stream",
          "name": "stdout",
          "text": [
            "\n",
            "--- FINAL DataFrame ---\n",
            "        id         category                     genres\n",
            "0  1151039  Films (English)                   [Comedy]\n",
            "1   619278  Films (English)  [Action, Crime, Thriller]\n",
            "2  1466938  Films (English)       [Documentary, Crime]\n",
            "3   668489  Films (English)  [Action, Crime, Thriller]\n",
            "4     8966  Films (English)  [Fantasy, Drama, Romance]\n",
            "5   682507  Films (English)  [Drama, Mystery, Romance]\n",
            "6   110538  Films (English)          [Comedy, Romance]\n",
            "7   381507  Films (English)    [Horror, Drama, Family]\n",
            "8  1462776  Films (English)              [Documentary]\n",
            "9   917496  Films (English)  [Horror, Comedy, Fantasy]\n",
            "\n",
            "--- FINAL df.info() ---\n",
            "<class 'pandas.core.frame.DataFrame'>\n",
            "Index: 7765 entries, 0 to 8079\n",
            "Data columns (total 9 columns):\n",
            " #   Column                      Non-Null Count  Dtype  \n",
            "---  ------                      --------------  -----  \n",
            " 0   week                        7765 non-null   object \n",
            " 1   category                    7765 non-null   object \n",
            " 2   show_title                  7765 non-null   object \n",
            " 3   weekly_hours_viewed         7765 non-null   int64  \n",
            " 4   runtime                     3810 non-null   float64\n",
            " 5   weekly_views                3810 non-null   Int64  \n",
            " 6   cumulative_weeks_in_top_10  7765 non-null   int64  \n",
            " 7   id                          7765 non-null   Int64  \n",
            " 8   genres                      7765 non-null   object \n",
            "dtypes: Int64(2), float64(1), int64(2), object(4)\n",
            "memory usage: 879.8+ KB\n"
          ]
        }
      ]
    },
    {
      "cell_type": "markdown",
      "source": [
        "# 3.2. 키워드 불러오기"
      ],
      "metadata": {
        "id": "6-seJDPoht2_"
      }
    },
    {
      "cell_type": "code",
      "source": [
        "import pandas as pd\n",
        "import requests\n",
        "from tqdm import tqdm\n",
        "import time\n",
        "from dotenv import load_dotenv\n",
        "\n",
        "# .env 파일에서 api키 받아오기\n",
        "load_dotenv()\n",
        "API_KEY = os.getenv('API_KEY')\n",
        "\n",
        "print(f\"API Key loaded: {API_KEY[:5]}...\" if API_KEY else \"No API key found\")\n",
        "\n",
        "\n",
        "if 'df' not in locals() or not isinstance(df, pd.DataFrame):\n",
        "    print(\"!!! 'df' DataFrame이 정의되지 않았습니다. 스크립트 상단에서 로드해주세요. !!!\")\n",
        "    exit()\n",
        "\n",
        "if 'keywords' not in df.columns:\n",
        "    print(\"Initializing 'keywords' column.\")\n",
        "    df['keywords'] = pd.Series([None for _ in range(len(df))], index=df.index, dtype=object)\n",
        "    for i in df.index:\n",
        "        df.at[i, 'keywords'] = []\n",
        "else:\n",
        "    print(\"Re-initializing existing 'keywords' column.\")\n",
        "    for i in df.index:\n",
        "        df.at[i, 'keywords'] = []\n",
        "\n",
        "\n",
        "print(\"\\n--- DEBUGGING INFORMATION (AFTER 'keywords' INIT with .at) ---\")\n",
        "if 'keywords' in df.columns:\n",
        "    print(f\"df['keywords'].dtype: {df['keywords'].dtype}\")\n",
        "    print(f\"First 3 values of df['keywords']:\\n{df['keywords'].head(3).tolist()}\")\n",
        "    try:\n",
        "        if len(df) > 0:\n",
        "            temp_list = [\"Test Assignment\"]\n",
        "            df.at[df.index[0], 'keywords'] = temp_list\n",
        "            print(f\"Test assignment to df.at[df.index[0], 'keywords'] successful. Value: {df.at[df.index[0], 'keywords']}\")\n",
        "            df.at[df.index[0], 'keywords'] = []\n",
        "            print(f\"Test reset to df.at[df.index[0], 'keywords'] with [] successful. Value: {df.at[df.index[0], 'keywords']}\")\n",
        "        else:\n",
        "            print(\"DataFrame is empty, skipping test assignment.\")\n",
        "    except Exception as e:\n",
        "        print(f\"!!! ERROR during test assignment to df.at['keywords']: {e}\")\n",
        "else:\n",
        "    print(\"'keywords' column not found after initialization attempt.\")\n",
        "print(\"-----------------------------------------------------\")\n",
        "\n",
        "\n",
        "headers = {\n",
        "    \"accept\": \"application/json\",\n",
        "    \"Authorization\": f\"Bearer {API_KEY}\"\n",
        "}\n",
        "\n",
        "print(\"\\nStarting API calls...\\n\")\n",
        "\n",
        "for index, row in tqdm(df.iterrows(), total=df.shape[0], desc=\"Fetching TMDB Keywords\"):\n",
        "    tmdb_id_from_df = None\n",
        "    try:\n",
        "        tmdb_id_from_df = int(row['id'])\n",
        "    except (ValueError, TypeError, KeyError) as e:\n",
        "        tqdm.write(f\"Skipping row {index} (Original ID: {row.get('id', 'N/A')}): Invalid or missing TMDB ID. Error: {e}\")\n",
        "        try:\n",
        "            df.at[index, 'keywords'] = [\"Error: Invalid TMDB ID in source\"]\n",
        "        except Exception as assign_e:\n",
        "            print(f\"!!!!! CRITICAL ERROR during assignment in (ValueError/TypeError/KeyError) except block for index {index}: {assign_e}\")\n",
        "        continue\n",
        "\n",
        "    category = row.get('category')\n",
        "    url = None\n",
        "\n",
        "    if category == \"Films (English)\" or category == \"Films (Non-English)\":\n",
        "        url = f\"https://api.themoviedb.org/3/movie/{tmdb_id_from_df}/keywords\"\n",
        "    elif category == \"TV (English)\" or category == \"TV (Non-English)\":\n",
        "        url = f\"https://api.themoviedb.org/3/tv/{tmdb_id_from_df}/keywords\"\n",
        "    else:\n",
        "        tqdm.write(f\"카테고리 오류. TMDB ID: {tmdb_id_from_df}, Category: {category}\")\n",
        "        try:\n",
        "            df.at[index, 'keywords'] = [f\"Error: Invalid Category '{category}'\"]\n",
        "        except Exception as assign_e:\n",
        "            print(f\"!!!!! CRITICAL ERROR during assignment in category 'else' block for index {index}: {assign_e}\")\n",
        "        continue\n",
        "\n",
        "    if url:\n",
        "        response_text_snippet = \"Response not captured yet\"\n",
        "        try:\n",
        "            response = requests.get(url, headers=headers)\n",
        "            response_text_snippet = response.text[:200] if response and hasattr(response, 'text') else \"Response has no text or is None\"\n",
        "            response.raise_for_status()\n",
        "            data = response.json()\n",
        "\n",
        "            keywords_data_list = []\n",
        "            if category == \"Films (English)\" or category == \"Films (Non-English)\":\n",
        "                keywords_data_list = data.get('keywords', [])\n",
        "            elif category == \"TV (English)\" or category == \"TV (Non-English)\":\n",
        "                keywords_data_list = data.get('results', [])\n",
        "\n",
        "            if keywords_data_list:\n",
        "                keyword_names = [kw_info['name'] for kw_info in keywords_data_list if 'name' in kw_info]\n",
        "                df.at[index, 'keywords'] = keyword_names\n",
        "            else:\n",
        "                df.at[index, 'keywords'] = []\n",
        "\n",
        "            # time.sleep(0.05)\n",
        "\n",
        "        except requests.exceptions.HTTPError as e:\n",
        "            error_msg_list = []\n",
        "            if e.response.status_code == 404:\n",
        "                tqdm.write(f\"API 요청 실패 (404 Not Found). TMDB ID: {tmdb_id_from_df}. URL: {url}\")\n",
        "                error_msg_list = [\"Error: Item Not Found (404)\"]\n",
        "            else:\n",
        "                tqdm.write(f\"API 요청 실패. TMDB ID: {tmdb_id_from_df}. Status: {e.response.status_code}. URL: {url}. Error: {e}\")\n",
        "                error_msg_list = [f\"Error: API HTTP {e.response.status_code}\"]\n",
        "            try:\n",
        "                df.at[index, 'keywords'] = error_msg_list\n",
        "            except Exception as assign_e:\n",
        "                print(f\"!!!!! CRITICAL ERROR during assignment in HTTPError except block for index {index}: {assign_e}\")\n",
        "\n",
        "        except requests.exceptions.RequestException as e:\n",
        "            tqdm.write(f\"API 연결 오류. TMDB ID: {tmdb_id_from_df}. URL: {url}. Error: {e}\")\n",
        "            try:\n",
        "                df.at[index, 'keywords'] = [\"Error: API Connection Failed\"]\n",
        "            except Exception as assign_e:\n",
        "                print(f\"!!!!! CRITICAL ERROR during assignment in RequestException except block for index {index}: {assign_e}\")\n",
        "\n",
        "        except ValueError as e:\n",
        "            tqdm.write(f\"JSON 파싱 실패. TMDB ID: {tmdb_id_from_df}. URL: {url}. Error: {e}. Response text: {response_text_snippet}\")\n",
        "            try:\n",
        "                df.at[index, 'keywords'] = [\"Error: JSON Parse Failed\"]\n",
        "            except Exception as assign_e:\n",
        "                print(f\"!!!!! CRITICAL ERROR during assignment in ValueError except block for index {index}: {assign_e}\")\n",
        "                print(f\"Attempted to assign: {['Error: JSON Parse Failed']}\")\n",
        "\n",
        "\n",
        "        except Exception as e:\n",
        "            tqdm.write(f\"처리 중 알 수 없는 오류 발생. TMDB ID: {tmdb_id_from_df}. URL: {url}. Error: {e}\")\n",
        "            try:\n",
        "                df.at[index, 'keywords'] = [\"Error: Unknown Processing Error\"]\n",
        "            except Exception as assign_e:\n",
        "                print(f\"!!!!! CRITICAL ERROR during assignment in Generic Exception except block for index {index}: {assign_e}\")\n",
        "\n",
        "\n",
        "print(\"\\n--- FINAL DataFrame ---\")\n",
        "print(df[['id', 'category', 'keywords']].head(10))\n",
        "print(\"\\n--- FINAL df.info() ---\")\n",
        "df.info()"
      ],
      "metadata": {
        "colab": {
          "base_uri": "https://localhost:8080/"
        },
        "id": "JvrYhbgFwvJX",
        "outputId": "cf27259b-5396-4211-e09b-2421436f0f0f"
      },
      "execution_count": 45,
      "outputs": [
        {
          "output_type": "stream",
          "name": "stdout",
          "text": [
            "API Key loaded: eyJhb...\n",
            "Re-initializing existing 'keywords' column.\n",
            "\n",
            "--- DEBUGGING INFORMATION (AFTER 'keywords' INIT with .at) ---\n",
            "df['keywords'].dtype: object\n",
            "First 3 values of df['keywords']:\n",
            "[[], [], []]\n",
            "Test assignment to df.at[df.index[0], 'keywords'] successful. Value: ['Test Assignment']\n",
            "Test reset to df.at[df.index[0], 'keywords'] with [] successful. Value: []\n",
            "-----------------------------------------------------\n",
            "\n",
            "Starting API calls...\n",
            "\n"
          ]
        },
        {
          "output_type": "stream",
          "name": "stderr",
          "text": [
            "Fetching TMDB Keywords: 100%|██████████| 7765/7765 [06:48<00:00, 19.00it/s]"
          ]
        },
        {
          "output_type": "stream",
          "name": "stdout",
          "text": [
            "\n",
            "--- FINAL DataFrame ---\n",
            "        id         category                                           keywords\n",
            "0  1151039  Films (English)  [restaurant, revitalization, based on true sto...\n",
            "1   619278  Films (English)  [neo-nazism, hostage-taking, bank robbery, hos...\n",
            "2  1466938  Films (English)                                       [true crime]\n",
            "3   668489  Films (English)  [winter, detective, rescue mission, shootout, ...\n",
            "4     8966  Films (English)  [high school, soulmates, based on novel or boo...\n",
            "5   682507  Films (English)  [based on novel or book, artist, bullying, alc...\n",
            "6   110538  Films (English)                                                 []\n",
            "7   381507  Films (English)                                                 []\n",
            "8  1462776  Films (English)  [london, england, britain, bombing, united kin...\n",
            "9   917496  Films (English)  [afterlife, haunted house, sequel, paranormal,...\n",
            "\n",
            "--- FINAL df.info() ---\n",
            "<class 'pandas.core.frame.DataFrame'>\n",
            "RangeIndex: 7765 entries, 0 to 7764\n",
            "Data columns (total 10 columns):\n",
            " #   Column                      Non-Null Count  Dtype  \n",
            "---  ------                      --------------  -----  \n",
            " 0   week                        7765 non-null   object \n",
            " 1   category                    7765 non-null   object \n",
            " 2   show_title                  7765 non-null   object \n",
            " 3   weekly_hours_viewed         7765 non-null   int64  \n",
            " 4   runtime                     7765 non-null   float64\n",
            " 5   weekly_views                7765 non-null   int64  \n",
            " 6   cumulative_weeks_in_top_10  7765 non-null   int64  \n",
            " 7   id                          7765 non-null   int64  \n",
            " 8   genres                      7765 non-null   object \n",
            " 9   keywords                    7765 non-null   object \n",
            "dtypes: float64(1), int64(4), object(5)\n",
            "memory usage: 606.8+ KB\n"
          ]
        },
        {
          "output_type": "stream",
          "name": "stderr",
          "text": [
            "\n"
          ]
        }
      ]
    },
    {
      "cell_type": "code",
      "source": [
        "# NA 값은 0으로 처리 (0으로 처리하지 않으면 불러올 때 float로 불러옴)\n",
        "df = df.fillna(0)\n",
        "df"
      ],
      "metadata": {
        "colab": {
          "base_uri": "https://localhost:8080/",
          "height": 424
        },
        "id": "ipJtA4l8_z3D",
        "outputId": "57171b2d-d7e2-477c-92ce-e4a3e32eb058"
      },
      "execution_count": 46,
      "outputs": [
        {
          "output_type": "execute_result",
          "data": {
            "text/plain": [
              "            week          category                  show_title  \\\n",
              "0     2025-05-11   Films (English)                      Nonnas   \n",
              "1     2025-05-11   Films (English)     Inside Man: Most Wanted   \n",
              "2     2025-05-11   Films (English)  A Deadly American Marriage   \n",
              "3     2025-05-11   Films (English)                       Havoc   \n",
              "4     2025-05-11   Films (English)                    Twilight   \n",
              "...          ...               ...                         ...   \n",
              "7760  2021-07-04  TV (Non-English)                       Elite   \n",
              "7761  2021-07-04  TV (Non-English)                       Elite   \n",
              "7762  2021-07-04  TV (Non-English)                       Elite   \n",
              "7763  2021-07-04  TV (Non-English)                       Katla   \n",
              "7764  2021-07-04  TV (Non-English)          Record of Ragnarok   \n",
              "\n",
              "      weekly_hours_viewed  runtime  weekly_views  cumulative_weeks_in_top_10  \\\n",
              "0                29000000   1.9000      15300000                           1   \n",
              "1                21800000   1.7667      12300000                           1   \n",
              "2                16900000   1.7167       9800000                           1   \n",
              "3                16300000   1.7833       9100000                           3   \n",
              "4                 8700000   2.0333       4300000                           4   \n",
              "...                   ...      ...           ...                         ...   \n",
              "7760             10530000   0.0000             0                           1   \n",
              "7761             10200000   0.0000             0                           1   \n",
              "7762             10140000   0.0000             0                           1   \n",
              "7763              9190000   0.0000             0                           1   \n",
              "7764              9140000   0.0000             0                           1   \n",
              "\n",
              "           id                                             genres  \\\n",
              "0     1151039                                         ['Comedy']   \n",
              "1      619278                    ['Action', 'Crime', 'Thriller']   \n",
              "2     1466938                           ['Documentary', 'Crime']   \n",
              "3      668489                    ['Action', 'Crime', 'Thriller']   \n",
              "4        8966                    ['Fantasy', 'Drama', 'Romance']   \n",
              "...       ...                                                ...   \n",
              "7760    76669                      ['Crime', 'Mystery', 'Drama']   \n",
              "7761    76669                      ['Crime', 'Mystery', 'Drama']   \n",
              "7762    76669                      ['Crime', 'Mystery', 'Drama']   \n",
              "7763   104157           ['Drama', 'Mystery', 'Sci-Fi & Fantasy']   \n",
              "7764   114868  ['Action & Adventure', 'Animation', 'Sci-Fi & ...   \n",
              "\n",
              "                                               keywords  \n",
              "0     [restaurant, revitalization, based on true sto...  \n",
              "1     [neo-nazism, hostage-taking, bank robbery, hos...  \n",
              "2                                          [true crime]  \n",
              "3     [winter, detective, rescue mission, shootout, ...  \n",
              "4     [high school, soulmates, based on novel or boo...  \n",
              "...                                                 ...  \n",
              "7760  [love triangle, jealousy, infidelity, seductio...  \n",
              "7761  [love triangle, jealousy, infidelity, seductio...  \n",
              "7762  [love triangle, jealousy, infidelity, seductio...  \n",
              "7763  [small town, volcano, outbreak, volcanic erupt...  \n",
              "7764  [fight, mythology, god, survival, tournament, ...  \n",
              "\n",
              "[7765 rows x 10 columns]"
            ],
            "text/html": [
              "\n",
              "  <div id=\"df-6428b75c-a03e-4fd0-a25a-11dc44d28255\" class=\"colab-df-container\">\n",
              "    <div>\n",
              "<style scoped>\n",
              "    .dataframe tbody tr th:only-of-type {\n",
              "        vertical-align: middle;\n",
              "    }\n",
              "\n",
              "    .dataframe tbody tr th {\n",
              "        vertical-align: top;\n",
              "    }\n",
              "\n",
              "    .dataframe thead th {\n",
              "        text-align: right;\n",
              "    }\n",
              "</style>\n",
              "<table border=\"1\" class=\"dataframe\">\n",
              "  <thead>\n",
              "    <tr style=\"text-align: right;\">\n",
              "      <th></th>\n",
              "      <th>week</th>\n",
              "      <th>category</th>\n",
              "      <th>show_title</th>\n",
              "      <th>weekly_hours_viewed</th>\n",
              "      <th>runtime</th>\n",
              "      <th>weekly_views</th>\n",
              "      <th>cumulative_weeks_in_top_10</th>\n",
              "      <th>id</th>\n",
              "      <th>genres</th>\n",
              "      <th>keywords</th>\n",
              "    </tr>\n",
              "  </thead>\n",
              "  <tbody>\n",
              "    <tr>\n",
              "      <th>0</th>\n",
              "      <td>2025-05-11</td>\n",
              "      <td>Films (English)</td>\n",
              "      <td>Nonnas</td>\n",
              "      <td>29000000</td>\n",
              "      <td>1.9000</td>\n",
              "      <td>15300000</td>\n",
              "      <td>1</td>\n",
              "      <td>1151039</td>\n",
              "      <td>['Comedy']</td>\n",
              "      <td>[restaurant, revitalization, based on true sto...</td>\n",
              "    </tr>\n",
              "    <tr>\n",
              "      <th>1</th>\n",
              "      <td>2025-05-11</td>\n",
              "      <td>Films (English)</td>\n",
              "      <td>Inside Man: Most Wanted</td>\n",
              "      <td>21800000</td>\n",
              "      <td>1.7667</td>\n",
              "      <td>12300000</td>\n",
              "      <td>1</td>\n",
              "      <td>619278</td>\n",
              "      <td>['Action', 'Crime', 'Thriller']</td>\n",
              "      <td>[neo-nazism, hostage-taking, bank robbery, hos...</td>\n",
              "    </tr>\n",
              "    <tr>\n",
              "      <th>2</th>\n",
              "      <td>2025-05-11</td>\n",
              "      <td>Films (English)</td>\n",
              "      <td>A Deadly American Marriage</td>\n",
              "      <td>16900000</td>\n",
              "      <td>1.7167</td>\n",
              "      <td>9800000</td>\n",
              "      <td>1</td>\n",
              "      <td>1466938</td>\n",
              "      <td>['Documentary', 'Crime']</td>\n",
              "      <td>[true crime]</td>\n",
              "    </tr>\n",
              "    <tr>\n",
              "      <th>3</th>\n",
              "      <td>2025-05-11</td>\n",
              "      <td>Films (English)</td>\n",
              "      <td>Havoc</td>\n",
              "      <td>16300000</td>\n",
              "      <td>1.7833</td>\n",
              "      <td>9100000</td>\n",
              "      <td>3</td>\n",
              "      <td>668489</td>\n",
              "      <td>['Action', 'Crime', 'Thriller']</td>\n",
              "      <td>[winter, detective, rescue mission, shootout, ...</td>\n",
              "    </tr>\n",
              "    <tr>\n",
              "      <th>4</th>\n",
              "      <td>2025-05-11</td>\n",
              "      <td>Films (English)</td>\n",
              "      <td>Twilight</td>\n",
              "      <td>8700000</td>\n",
              "      <td>2.0333</td>\n",
              "      <td>4300000</td>\n",
              "      <td>4</td>\n",
              "      <td>8966</td>\n",
              "      <td>['Fantasy', 'Drama', 'Romance']</td>\n",
              "      <td>[high school, soulmates, based on novel or boo...</td>\n",
              "    </tr>\n",
              "    <tr>\n",
              "      <th>...</th>\n",
              "      <td>...</td>\n",
              "      <td>...</td>\n",
              "      <td>...</td>\n",
              "      <td>...</td>\n",
              "      <td>...</td>\n",
              "      <td>...</td>\n",
              "      <td>...</td>\n",
              "      <td>...</td>\n",
              "      <td>...</td>\n",
              "      <td>...</td>\n",
              "    </tr>\n",
              "    <tr>\n",
              "      <th>7760</th>\n",
              "      <td>2021-07-04</td>\n",
              "      <td>TV (Non-English)</td>\n",
              "      <td>Elite</td>\n",
              "      <td>10530000</td>\n",
              "      <td>0.0000</td>\n",
              "      <td>0</td>\n",
              "      <td>1</td>\n",
              "      <td>76669</td>\n",
              "      <td>['Crime', 'Mystery', 'Drama']</td>\n",
              "      <td>[love triangle, jealousy, infidelity, seductio...</td>\n",
              "    </tr>\n",
              "    <tr>\n",
              "      <th>7761</th>\n",
              "      <td>2021-07-04</td>\n",
              "      <td>TV (Non-English)</td>\n",
              "      <td>Elite</td>\n",
              "      <td>10200000</td>\n",
              "      <td>0.0000</td>\n",
              "      <td>0</td>\n",
              "      <td>1</td>\n",
              "      <td>76669</td>\n",
              "      <td>['Crime', 'Mystery', 'Drama']</td>\n",
              "      <td>[love triangle, jealousy, infidelity, seductio...</td>\n",
              "    </tr>\n",
              "    <tr>\n",
              "      <th>7762</th>\n",
              "      <td>2021-07-04</td>\n",
              "      <td>TV (Non-English)</td>\n",
              "      <td>Elite</td>\n",
              "      <td>10140000</td>\n",
              "      <td>0.0000</td>\n",
              "      <td>0</td>\n",
              "      <td>1</td>\n",
              "      <td>76669</td>\n",
              "      <td>['Crime', 'Mystery', 'Drama']</td>\n",
              "      <td>[love triangle, jealousy, infidelity, seductio...</td>\n",
              "    </tr>\n",
              "    <tr>\n",
              "      <th>7763</th>\n",
              "      <td>2021-07-04</td>\n",
              "      <td>TV (Non-English)</td>\n",
              "      <td>Katla</td>\n",
              "      <td>9190000</td>\n",
              "      <td>0.0000</td>\n",
              "      <td>0</td>\n",
              "      <td>1</td>\n",
              "      <td>104157</td>\n",
              "      <td>['Drama', 'Mystery', 'Sci-Fi &amp; Fantasy']</td>\n",
              "      <td>[small town, volcano, outbreak, volcanic erupt...</td>\n",
              "    </tr>\n",
              "    <tr>\n",
              "      <th>7764</th>\n",
              "      <td>2021-07-04</td>\n",
              "      <td>TV (Non-English)</td>\n",
              "      <td>Record of Ragnarok</td>\n",
              "      <td>9140000</td>\n",
              "      <td>0.0000</td>\n",
              "      <td>0</td>\n",
              "      <td>1</td>\n",
              "      <td>114868</td>\n",
              "      <td>['Action &amp; Adventure', 'Animation', 'Sci-Fi &amp; ...</td>\n",
              "      <td>[fight, mythology, god, survival, tournament, ...</td>\n",
              "    </tr>\n",
              "  </tbody>\n",
              "</table>\n",
              "<p>7765 rows × 10 columns</p>\n",
              "</div>\n",
              "    <div class=\"colab-df-buttons\">\n",
              "\n",
              "  <div class=\"colab-df-container\">\n",
              "    <button class=\"colab-df-convert\" onclick=\"convertToInteractive('df-6428b75c-a03e-4fd0-a25a-11dc44d28255')\"\n",
              "            title=\"Convert this dataframe to an interactive table.\"\n",
              "            style=\"display:none;\">\n",
              "\n",
              "  <svg xmlns=\"http://www.w3.org/2000/svg\" height=\"24px\" viewBox=\"0 -960 960 960\">\n",
              "    <path d=\"M120-120v-720h720v720H120Zm60-500h600v-160H180v160Zm220 220h160v-160H400v160Zm0 220h160v-160H400v160ZM180-400h160v-160H180v160Zm440 0h160v-160H620v160ZM180-180h160v-160H180v160Zm440 0h160v-160H620v160Z\"/>\n",
              "  </svg>\n",
              "    </button>\n",
              "\n",
              "  <style>\n",
              "    .colab-df-container {\n",
              "      display:flex;\n",
              "      gap: 12px;\n",
              "    }\n",
              "\n",
              "    .colab-df-convert {\n",
              "      background-color: #E8F0FE;\n",
              "      border: none;\n",
              "      border-radius: 50%;\n",
              "      cursor: pointer;\n",
              "      display: none;\n",
              "      fill: #1967D2;\n",
              "      height: 32px;\n",
              "      padding: 0 0 0 0;\n",
              "      width: 32px;\n",
              "    }\n",
              "\n",
              "    .colab-df-convert:hover {\n",
              "      background-color: #E2EBFA;\n",
              "      box-shadow: 0px 1px 2px rgba(60, 64, 67, 0.3), 0px 1px 3px 1px rgba(60, 64, 67, 0.15);\n",
              "      fill: #174EA6;\n",
              "    }\n",
              "\n",
              "    .colab-df-buttons div {\n",
              "      margin-bottom: 4px;\n",
              "    }\n",
              "\n",
              "    [theme=dark] .colab-df-convert {\n",
              "      background-color: #3B4455;\n",
              "      fill: #D2E3FC;\n",
              "    }\n",
              "\n",
              "    [theme=dark] .colab-df-convert:hover {\n",
              "      background-color: #434B5C;\n",
              "      box-shadow: 0px 1px 3px 1px rgba(0, 0, 0, 0.15);\n",
              "      filter: drop-shadow(0px 1px 2px rgba(0, 0, 0, 0.3));\n",
              "      fill: #FFFFFF;\n",
              "    }\n",
              "  </style>\n",
              "\n",
              "    <script>\n",
              "      const buttonEl =\n",
              "        document.querySelector('#df-6428b75c-a03e-4fd0-a25a-11dc44d28255 button.colab-df-convert');\n",
              "      buttonEl.style.display =\n",
              "        google.colab.kernel.accessAllowed ? 'block' : 'none';\n",
              "\n",
              "      async function convertToInteractive(key) {\n",
              "        const element = document.querySelector('#df-6428b75c-a03e-4fd0-a25a-11dc44d28255');\n",
              "        const dataTable =\n",
              "          await google.colab.kernel.invokeFunction('convertToInteractive',\n",
              "                                                    [key], {});\n",
              "        if (!dataTable) return;\n",
              "\n",
              "        const docLinkHtml = 'Like what you see? Visit the ' +\n",
              "          '<a target=\"_blank\" href=https://colab.research.google.com/notebooks/data_table.ipynb>data table notebook</a>'\n",
              "          + ' to learn more about interactive tables.';\n",
              "        element.innerHTML = '';\n",
              "        dataTable['output_type'] = 'display_data';\n",
              "        await google.colab.output.renderOutput(dataTable, element);\n",
              "        const docLink = document.createElement('div');\n",
              "        docLink.innerHTML = docLinkHtml;\n",
              "        element.appendChild(docLink);\n",
              "      }\n",
              "    </script>\n",
              "  </div>\n",
              "\n",
              "\n",
              "    <div id=\"df-2203029b-ad1f-4819-a4cd-9240d08701e3\">\n",
              "      <button class=\"colab-df-quickchart\" onclick=\"quickchart('df-2203029b-ad1f-4819-a4cd-9240d08701e3')\"\n",
              "                title=\"Suggest charts\"\n",
              "                style=\"display:none;\">\n",
              "\n",
              "<svg xmlns=\"http://www.w3.org/2000/svg\" height=\"24px\"viewBox=\"0 0 24 24\"\n",
              "     width=\"24px\">\n",
              "    <g>\n",
              "        <path d=\"M19 3H5c-1.1 0-2 .9-2 2v14c0 1.1.9 2 2 2h14c1.1 0 2-.9 2-2V5c0-1.1-.9-2-2-2zM9 17H7v-7h2v7zm4 0h-2V7h2v10zm4 0h-2v-4h2v4z\"/>\n",
              "    </g>\n",
              "</svg>\n",
              "      </button>\n",
              "\n",
              "<style>\n",
              "  .colab-df-quickchart {\n",
              "      --bg-color: #E8F0FE;\n",
              "      --fill-color: #1967D2;\n",
              "      --hover-bg-color: #E2EBFA;\n",
              "      --hover-fill-color: #174EA6;\n",
              "      --disabled-fill-color: #AAA;\n",
              "      --disabled-bg-color: #DDD;\n",
              "  }\n",
              "\n",
              "  [theme=dark] .colab-df-quickchart {\n",
              "      --bg-color: #3B4455;\n",
              "      --fill-color: #D2E3FC;\n",
              "      --hover-bg-color: #434B5C;\n",
              "      --hover-fill-color: #FFFFFF;\n",
              "      --disabled-bg-color: #3B4455;\n",
              "      --disabled-fill-color: #666;\n",
              "  }\n",
              "\n",
              "  .colab-df-quickchart {\n",
              "    background-color: var(--bg-color);\n",
              "    border: none;\n",
              "    border-radius: 50%;\n",
              "    cursor: pointer;\n",
              "    display: none;\n",
              "    fill: var(--fill-color);\n",
              "    height: 32px;\n",
              "    padding: 0;\n",
              "    width: 32px;\n",
              "  }\n",
              "\n",
              "  .colab-df-quickchart:hover {\n",
              "    background-color: var(--hover-bg-color);\n",
              "    box-shadow: 0 1px 2px rgba(60, 64, 67, 0.3), 0 1px 3px 1px rgba(60, 64, 67, 0.15);\n",
              "    fill: var(--button-hover-fill-color);\n",
              "  }\n",
              "\n",
              "  .colab-df-quickchart-complete:disabled,\n",
              "  .colab-df-quickchart-complete:disabled:hover {\n",
              "    background-color: var(--disabled-bg-color);\n",
              "    fill: var(--disabled-fill-color);\n",
              "    box-shadow: none;\n",
              "  }\n",
              "\n",
              "  .colab-df-spinner {\n",
              "    border: 2px solid var(--fill-color);\n",
              "    border-color: transparent;\n",
              "    border-bottom-color: var(--fill-color);\n",
              "    animation:\n",
              "      spin 1s steps(1) infinite;\n",
              "  }\n",
              "\n",
              "  @keyframes spin {\n",
              "    0% {\n",
              "      border-color: transparent;\n",
              "      border-bottom-color: var(--fill-color);\n",
              "      border-left-color: var(--fill-color);\n",
              "    }\n",
              "    20% {\n",
              "      border-color: transparent;\n",
              "      border-left-color: var(--fill-color);\n",
              "      border-top-color: var(--fill-color);\n",
              "    }\n",
              "    30% {\n",
              "      border-color: transparent;\n",
              "      border-left-color: var(--fill-color);\n",
              "      border-top-color: var(--fill-color);\n",
              "      border-right-color: var(--fill-color);\n",
              "    }\n",
              "    40% {\n",
              "      border-color: transparent;\n",
              "      border-right-color: var(--fill-color);\n",
              "      border-top-color: var(--fill-color);\n",
              "    }\n",
              "    60% {\n",
              "      border-color: transparent;\n",
              "      border-right-color: var(--fill-color);\n",
              "    }\n",
              "    80% {\n",
              "      border-color: transparent;\n",
              "      border-right-color: var(--fill-color);\n",
              "      border-bottom-color: var(--fill-color);\n",
              "    }\n",
              "    90% {\n",
              "      border-color: transparent;\n",
              "      border-bottom-color: var(--fill-color);\n",
              "    }\n",
              "  }\n",
              "</style>\n",
              "\n",
              "      <script>\n",
              "        async function quickchart(key) {\n",
              "          const quickchartButtonEl =\n",
              "            document.querySelector('#' + key + ' button');\n",
              "          quickchartButtonEl.disabled = true;  // To prevent multiple clicks.\n",
              "          quickchartButtonEl.classList.add('colab-df-spinner');\n",
              "          try {\n",
              "            const charts = await google.colab.kernel.invokeFunction(\n",
              "                'suggestCharts', [key], {});\n",
              "          } catch (error) {\n",
              "            console.error('Error during call to suggestCharts:', error);\n",
              "          }\n",
              "          quickchartButtonEl.classList.remove('colab-df-spinner');\n",
              "          quickchartButtonEl.classList.add('colab-df-quickchart-complete');\n",
              "        }\n",
              "        (() => {\n",
              "          let quickchartButtonEl =\n",
              "            document.querySelector('#df-2203029b-ad1f-4819-a4cd-9240d08701e3 button');\n",
              "          quickchartButtonEl.style.display =\n",
              "            google.colab.kernel.accessAllowed ? 'block' : 'none';\n",
              "        })();\n",
              "      </script>\n",
              "    </div>\n",
              "\n",
              "  <div id=\"id_c0c41380-3afd-41a4-a5e0-7ce7cd453284\">\n",
              "    <style>\n",
              "      .colab-df-generate {\n",
              "        background-color: #E8F0FE;\n",
              "        border: none;\n",
              "        border-radius: 50%;\n",
              "        cursor: pointer;\n",
              "        display: none;\n",
              "        fill: #1967D2;\n",
              "        height: 32px;\n",
              "        padding: 0 0 0 0;\n",
              "        width: 32px;\n",
              "      }\n",
              "\n",
              "      .colab-df-generate:hover {\n",
              "        background-color: #E2EBFA;\n",
              "        box-shadow: 0px 1px 2px rgba(60, 64, 67, 0.3), 0px 1px 3px 1px rgba(60, 64, 67, 0.15);\n",
              "        fill: #174EA6;\n",
              "      }\n",
              "\n",
              "      [theme=dark] .colab-df-generate {\n",
              "        background-color: #3B4455;\n",
              "        fill: #D2E3FC;\n",
              "      }\n",
              "\n",
              "      [theme=dark] .colab-df-generate:hover {\n",
              "        background-color: #434B5C;\n",
              "        box-shadow: 0px 1px 3px 1px rgba(0, 0, 0, 0.15);\n",
              "        filter: drop-shadow(0px 1px 2px rgba(0, 0, 0, 0.3));\n",
              "        fill: #FFFFFF;\n",
              "      }\n",
              "    </style>\n",
              "    <button class=\"colab-df-generate\" onclick=\"generateWithVariable('df')\"\n",
              "            title=\"Generate code using this dataframe.\"\n",
              "            style=\"display:none;\">\n",
              "\n",
              "  <svg xmlns=\"http://www.w3.org/2000/svg\" height=\"24px\"viewBox=\"0 0 24 24\"\n",
              "       width=\"24px\">\n",
              "    <path d=\"M7,19H8.4L18.45,9,17,7.55,7,17.6ZM5,21V16.75L18.45,3.32a2,2,0,0,1,2.83,0l1.4,1.43a1.91,1.91,0,0,1,.58,1.4,1.91,1.91,0,0,1-.58,1.4L9.25,21ZM18.45,9,17,7.55Zm-12,3A5.31,5.31,0,0,0,4.9,8.1,5.31,5.31,0,0,0,1,6.5,5.31,5.31,0,0,0,4.9,4.9,5.31,5.31,0,0,0,6.5,1,5.31,5.31,0,0,0,8.1,4.9,5.31,5.31,0,0,0,12,6.5,5.46,5.46,0,0,0,6.5,12Z\"/>\n",
              "  </svg>\n",
              "    </button>\n",
              "    <script>\n",
              "      (() => {\n",
              "      const buttonEl =\n",
              "        document.querySelector('#id_c0c41380-3afd-41a4-a5e0-7ce7cd453284 button.colab-df-generate');\n",
              "      buttonEl.style.display =\n",
              "        google.colab.kernel.accessAllowed ? 'block' : 'none';\n",
              "\n",
              "      buttonEl.onclick = () => {\n",
              "        google.colab.notebook.generateWithVariable('df');\n",
              "      }\n",
              "      })();\n",
              "    </script>\n",
              "  </div>\n",
              "\n",
              "    </div>\n",
              "  </div>\n"
            ],
            "application/vnd.google.colaboratory.intrinsic+json": {
              "type": "dataframe",
              "variable_name": "df",
              "summary": "{\n  \"name\": \"df\",\n  \"rows\": 7765,\n  \"fields\": [\n    {\n      \"column\": \"week\",\n      \"properties\": {\n        \"dtype\": \"object\",\n        \"num_unique_values\": 202,\n        \"samples\": [\n          \"2023-07-16\",\n          \"2025-01-26\",\n          \"2024-10-13\"\n        ],\n        \"semantic_type\": \"\",\n        \"description\": \"\"\n      }\n    },\n    {\n      \"column\": \"category\",\n      \"properties\": {\n        \"dtype\": \"category\",\n        \"num_unique_values\": 4,\n        \"samples\": [\n          \"Films (Non-English)\",\n          \"TV (Non-English)\",\n          \"Films (English)\"\n        ],\n        \"semantic_type\": \"\",\n        \"description\": \"\"\n      }\n    },\n    {\n      \"column\": \"show_title\",\n      \"properties\": {\n        \"dtype\": \"category\",\n        \"num_unique_values\": 2404,\n        \"samples\": [\n          \"Lucky Baskhar\",\n          \"The Five Juanas\",\n          \"Hotel Transylvania 2\"\n        ],\n        \"semantic_type\": \"\",\n        \"description\": \"\"\n      }\n    },\n    {\n      \"column\": \"weekly_hours_viewed\",\n      \"properties\": {\n        \"dtype\": \"number\",\n        \"std\": 25863720,\n        \"min\": 700000,\n        \"max\": 571760000,\n        \"num_unique_values\": 2838,\n        \"samples\": [\n          45100000,\n          30040000,\n          16760000\n        ],\n        \"semantic_type\": \"\",\n        \"description\": \"\"\n      }\n    },\n    {\n      \"column\": \"runtime\",\n      \"properties\": {\n        \"dtype\": \"number\",\n        \"std\": 2.878040309304472,\n        \"min\": 0.0,\n        \"max\": 47.5833,\n        \"num_unique_values\": 473,\n        \"samples\": [\n          1.6,\n          1.6167,\n          6.0167\n        ],\n        \"semantic_type\": \"\",\n        \"description\": \"\"\n      }\n    },\n    {\n      \"column\": \"weekly_views\",\n      \"properties\": {\n        \"dtype\": \"number\",\n        \"std\": 4481094,\n        \"min\": 0,\n        \"max\": 68000000,\n        \"num_unique_values\": 265,\n        \"samples\": [\n          15500000,\n          11300000,\n          17000000\n        ],\n        \"semantic_type\": \"\",\n        \"description\": \"\"\n      }\n    },\n    {\n      \"column\": \"cumulative_weeks_in_top_10\",\n      \"properties\": {\n        \"dtype\": \"number\",\n        \"std\": 3,\n        \"min\": 1,\n        \"max\": 30,\n        \"num_unique_values\": 30,\n        \"samples\": [\n          23,\n          13,\n          27\n        ],\n        \"semantic_type\": \"\",\n        \"description\": \"\"\n      }\n    },\n    {\n      \"column\": \"id\",\n      \"properties\": {\n        \"dtype\": \"number\",\n        \"std\": 393638,\n        \"min\": 55,\n        \"max\": 1481983,\n        \"num_unique_values\": 2409,\n        \"samples\": [\n          195930,\n          923632,\n          1030323\n        ],\n        \"semantic_type\": \"\",\n        \"description\": \"\"\n      }\n    },\n    {\n      \"column\": \"genres\",\n      \"properties\": {\n        \"dtype\": \"category\",\n        \"num_unique_values\": 710,\n        \"samples\": [\n          \"['Animation', 'Action', 'Fantasy']\",\n          \"['Thriller', 'Crime', 'Mystery', 'Drama']\",\n          \"['Animation', 'Romance', 'Drama']\"\n        ],\n        \"semantic_type\": \"\",\n        \"description\": \"\"\n      }\n    },\n    {\n      \"column\": \"keywords\",\n      \"properties\": {\n        \"dtype\": \"object\",\n        \"semantic_type\": \"\",\n        \"description\": \"\"\n      }\n    }\n  ]\n}"
            }
          },
          "metadata": {},
          "execution_count": 46
        }
      ]
    },
    {
      "cell_type": "code",
      "source": [
        "# csv 파일 저장하기\n",
        "df.to_csv('top-10_with_genres_keywords.csv', index=False)"
      ],
      "metadata": {
        "id": "3oGmm6AG5Mat"
      },
      "execution_count": 47,
      "outputs": []
    },
    {
      "cell_type": "code",
      "source": [
        "# 저장한 csv 파일 확인\n",
        "df = pd.read_csv('top-10_with_genres_keywords.csv')\n",
        "df"
      ],
      "metadata": {
        "colab": {
          "base_uri": "https://localhost:8080/",
          "height": 424
        },
        "id": "qjZ8BvzWABBP",
        "outputId": "8eaf178b-2528-45b8-b4bb-42ccba866525"
      },
      "execution_count": 48,
      "outputs": [
        {
          "output_type": "execute_result",
          "data": {
            "text/plain": [
              "            week          category                  show_title  \\\n",
              "0     2025-05-11   Films (English)                      Nonnas   \n",
              "1     2025-05-11   Films (English)     Inside Man: Most Wanted   \n",
              "2     2025-05-11   Films (English)  A Deadly American Marriage   \n",
              "3     2025-05-11   Films (English)                       Havoc   \n",
              "4     2025-05-11   Films (English)                    Twilight   \n",
              "...          ...               ...                         ...   \n",
              "7760  2021-07-04  TV (Non-English)                       Elite   \n",
              "7761  2021-07-04  TV (Non-English)                       Elite   \n",
              "7762  2021-07-04  TV (Non-English)                       Elite   \n",
              "7763  2021-07-04  TV (Non-English)                       Katla   \n",
              "7764  2021-07-04  TV (Non-English)          Record of Ragnarok   \n",
              "\n",
              "      weekly_hours_viewed  runtime  weekly_views  cumulative_weeks_in_top_10  \\\n",
              "0                29000000   1.9000      15300000                           1   \n",
              "1                21800000   1.7667      12300000                           1   \n",
              "2                16900000   1.7167       9800000                           1   \n",
              "3                16300000   1.7833       9100000                           3   \n",
              "4                 8700000   2.0333       4300000                           4   \n",
              "...                   ...      ...           ...                         ...   \n",
              "7760             10530000   0.0000             0                           1   \n",
              "7761             10200000   0.0000             0                           1   \n",
              "7762             10140000   0.0000             0                           1   \n",
              "7763              9190000   0.0000             0                           1   \n",
              "7764              9140000   0.0000             0                           1   \n",
              "\n",
              "           id                                             genres  \\\n",
              "0     1151039                                         ['Comedy']   \n",
              "1      619278                    ['Action', 'Crime', 'Thriller']   \n",
              "2     1466938                           ['Documentary', 'Crime']   \n",
              "3      668489                    ['Action', 'Crime', 'Thriller']   \n",
              "4        8966                    ['Fantasy', 'Drama', 'Romance']   \n",
              "...       ...                                                ...   \n",
              "7760    76669                      ['Crime', 'Mystery', 'Drama']   \n",
              "7761    76669                      ['Crime', 'Mystery', 'Drama']   \n",
              "7762    76669                      ['Crime', 'Mystery', 'Drama']   \n",
              "7763   104157           ['Drama', 'Mystery', 'Sci-Fi & Fantasy']   \n",
              "7764   114868  ['Action & Adventure', 'Animation', 'Sci-Fi & ...   \n",
              "\n",
              "                                               keywords  \n",
              "0     ['restaurant', 'revitalization', 'based on tru...  \n",
              "1     ['neo-nazism', 'hostage-taking', 'bank robbery...  \n",
              "2                                        ['true crime']  \n",
              "3     ['winter', 'detective', 'rescue mission', 'sho...  \n",
              "4     ['high school', 'soulmates', 'based on novel o...  \n",
              "...                                                 ...  \n",
              "7760  ['love triangle', 'jealousy', 'infidelity', 's...  \n",
              "7761  ['love triangle', 'jealousy', 'infidelity', 's...  \n",
              "7762  ['love triangle', 'jealousy', 'infidelity', 's...  \n",
              "7763  ['small town', 'volcano', 'outbreak', 'volcani...  \n",
              "7764  ['fight', 'mythology', 'god', 'survival', 'tou...  \n",
              "\n",
              "[7765 rows x 10 columns]"
            ],
            "text/html": [
              "\n",
              "  <div id=\"df-2035171b-7d39-43fc-bd8b-f228f3233261\" class=\"colab-df-container\">\n",
              "    <div>\n",
              "<style scoped>\n",
              "    .dataframe tbody tr th:only-of-type {\n",
              "        vertical-align: middle;\n",
              "    }\n",
              "\n",
              "    .dataframe tbody tr th {\n",
              "        vertical-align: top;\n",
              "    }\n",
              "\n",
              "    .dataframe thead th {\n",
              "        text-align: right;\n",
              "    }\n",
              "</style>\n",
              "<table border=\"1\" class=\"dataframe\">\n",
              "  <thead>\n",
              "    <tr style=\"text-align: right;\">\n",
              "      <th></th>\n",
              "      <th>week</th>\n",
              "      <th>category</th>\n",
              "      <th>show_title</th>\n",
              "      <th>weekly_hours_viewed</th>\n",
              "      <th>runtime</th>\n",
              "      <th>weekly_views</th>\n",
              "      <th>cumulative_weeks_in_top_10</th>\n",
              "      <th>id</th>\n",
              "      <th>genres</th>\n",
              "      <th>keywords</th>\n",
              "    </tr>\n",
              "  </thead>\n",
              "  <tbody>\n",
              "    <tr>\n",
              "      <th>0</th>\n",
              "      <td>2025-05-11</td>\n",
              "      <td>Films (English)</td>\n",
              "      <td>Nonnas</td>\n",
              "      <td>29000000</td>\n",
              "      <td>1.9000</td>\n",
              "      <td>15300000</td>\n",
              "      <td>1</td>\n",
              "      <td>1151039</td>\n",
              "      <td>['Comedy']</td>\n",
              "      <td>['restaurant', 'revitalization', 'based on tru...</td>\n",
              "    </tr>\n",
              "    <tr>\n",
              "      <th>1</th>\n",
              "      <td>2025-05-11</td>\n",
              "      <td>Films (English)</td>\n",
              "      <td>Inside Man: Most Wanted</td>\n",
              "      <td>21800000</td>\n",
              "      <td>1.7667</td>\n",
              "      <td>12300000</td>\n",
              "      <td>1</td>\n",
              "      <td>619278</td>\n",
              "      <td>['Action', 'Crime', 'Thriller']</td>\n",
              "      <td>['neo-nazism', 'hostage-taking', 'bank robbery...</td>\n",
              "    </tr>\n",
              "    <tr>\n",
              "      <th>2</th>\n",
              "      <td>2025-05-11</td>\n",
              "      <td>Films (English)</td>\n",
              "      <td>A Deadly American Marriage</td>\n",
              "      <td>16900000</td>\n",
              "      <td>1.7167</td>\n",
              "      <td>9800000</td>\n",
              "      <td>1</td>\n",
              "      <td>1466938</td>\n",
              "      <td>['Documentary', 'Crime']</td>\n",
              "      <td>['true crime']</td>\n",
              "    </tr>\n",
              "    <tr>\n",
              "      <th>3</th>\n",
              "      <td>2025-05-11</td>\n",
              "      <td>Films (English)</td>\n",
              "      <td>Havoc</td>\n",
              "      <td>16300000</td>\n",
              "      <td>1.7833</td>\n",
              "      <td>9100000</td>\n",
              "      <td>3</td>\n",
              "      <td>668489</td>\n",
              "      <td>['Action', 'Crime', 'Thriller']</td>\n",
              "      <td>['winter', 'detective', 'rescue mission', 'sho...</td>\n",
              "    </tr>\n",
              "    <tr>\n",
              "      <th>4</th>\n",
              "      <td>2025-05-11</td>\n",
              "      <td>Films (English)</td>\n",
              "      <td>Twilight</td>\n",
              "      <td>8700000</td>\n",
              "      <td>2.0333</td>\n",
              "      <td>4300000</td>\n",
              "      <td>4</td>\n",
              "      <td>8966</td>\n",
              "      <td>['Fantasy', 'Drama', 'Romance']</td>\n",
              "      <td>['high school', 'soulmates', 'based on novel o...</td>\n",
              "    </tr>\n",
              "    <tr>\n",
              "      <th>...</th>\n",
              "      <td>...</td>\n",
              "      <td>...</td>\n",
              "      <td>...</td>\n",
              "      <td>...</td>\n",
              "      <td>...</td>\n",
              "      <td>...</td>\n",
              "      <td>...</td>\n",
              "      <td>...</td>\n",
              "      <td>...</td>\n",
              "      <td>...</td>\n",
              "    </tr>\n",
              "    <tr>\n",
              "      <th>7760</th>\n",
              "      <td>2021-07-04</td>\n",
              "      <td>TV (Non-English)</td>\n",
              "      <td>Elite</td>\n",
              "      <td>10530000</td>\n",
              "      <td>0.0000</td>\n",
              "      <td>0</td>\n",
              "      <td>1</td>\n",
              "      <td>76669</td>\n",
              "      <td>['Crime', 'Mystery', 'Drama']</td>\n",
              "      <td>['love triangle', 'jealousy', 'infidelity', 's...</td>\n",
              "    </tr>\n",
              "    <tr>\n",
              "      <th>7761</th>\n",
              "      <td>2021-07-04</td>\n",
              "      <td>TV (Non-English)</td>\n",
              "      <td>Elite</td>\n",
              "      <td>10200000</td>\n",
              "      <td>0.0000</td>\n",
              "      <td>0</td>\n",
              "      <td>1</td>\n",
              "      <td>76669</td>\n",
              "      <td>['Crime', 'Mystery', 'Drama']</td>\n",
              "      <td>['love triangle', 'jealousy', 'infidelity', 's...</td>\n",
              "    </tr>\n",
              "    <tr>\n",
              "      <th>7762</th>\n",
              "      <td>2021-07-04</td>\n",
              "      <td>TV (Non-English)</td>\n",
              "      <td>Elite</td>\n",
              "      <td>10140000</td>\n",
              "      <td>0.0000</td>\n",
              "      <td>0</td>\n",
              "      <td>1</td>\n",
              "      <td>76669</td>\n",
              "      <td>['Crime', 'Mystery', 'Drama']</td>\n",
              "      <td>['love triangle', 'jealousy', 'infidelity', 's...</td>\n",
              "    </tr>\n",
              "    <tr>\n",
              "      <th>7763</th>\n",
              "      <td>2021-07-04</td>\n",
              "      <td>TV (Non-English)</td>\n",
              "      <td>Katla</td>\n",
              "      <td>9190000</td>\n",
              "      <td>0.0000</td>\n",
              "      <td>0</td>\n",
              "      <td>1</td>\n",
              "      <td>104157</td>\n",
              "      <td>['Drama', 'Mystery', 'Sci-Fi &amp; Fantasy']</td>\n",
              "      <td>['small town', 'volcano', 'outbreak', 'volcani...</td>\n",
              "    </tr>\n",
              "    <tr>\n",
              "      <th>7764</th>\n",
              "      <td>2021-07-04</td>\n",
              "      <td>TV (Non-English)</td>\n",
              "      <td>Record of Ragnarok</td>\n",
              "      <td>9140000</td>\n",
              "      <td>0.0000</td>\n",
              "      <td>0</td>\n",
              "      <td>1</td>\n",
              "      <td>114868</td>\n",
              "      <td>['Action &amp; Adventure', 'Animation', 'Sci-Fi &amp; ...</td>\n",
              "      <td>['fight', 'mythology', 'god', 'survival', 'tou...</td>\n",
              "    </tr>\n",
              "  </tbody>\n",
              "</table>\n",
              "<p>7765 rows × 10 columns</p>\n",
              "</div>\n",
              "    <div class=\"colab-df-buttons\">\n",
              "\n",
              "  <div class=\"colab-df-container\">\n",
              "    <button class=\"colab-df-convert\" onclick=\"convertToInteractive('df-2035171b-7d39-43fc-bd8b-f228f3233261')\"\n",
              "            title=\"Convert this dataframe to an interactive table.\"\n",
              "            style=\"display:none;\">\n",
              "\n",
              "  <svg xmlns=\"http://www.w3.org/2000/svg\" height=\"24px\" viewBox=\"0 -960 960 960\">\n",
              "    <path d=\"M120-120v-720h720v720H120Zm60-500h600v-160H180v160Zm220 220h160v-160H400v160Zm0 220h160v-160H400v160ZM180-400h160v-160H180v160Zm440 0h160v-160H620v160ZM180-180h160v-160H180v160Zm440 0h160v-160H620v160Z\"/>\n",
              "  </svg>\n",
              "    </button>\n",
              "\n",
              "  <style>\n",
              "    .colab-df-container {\n",
              "      display:flex;\n",
              "      gap: 12px;\n",
              "    }\n",
              "\n",
              "    .colab-df-convert {\n",
              "      background-color: #E8F0FE;\n",
              "      border: none;\n",
              "      border-radius: 50%;\n",
              "      cursor: pointer;\n",
              "      display: none;\n",
              "      fill: #1967D2;\n",
              "      height: 32px;\n",
              "      padding: 0 0 0 0;\n",
              "      width: 32px;\n",
              "    }\n",
              "\n",
              "    .colab-df-convert:hover {\n",
              "      background-color: #E2EBFA;\n",
              "      box-shadow: 0px 1px 2px rgba(60, 64, 67, 0.3), 0px 1px 3px 1px rgba(60, 64, 67, 0.15);\n",
              "      fill: #174EA6;\n",
              "    }\n",
              "\n",
              "    .colab-df-buttons div {\n",
              "      margin-bottom: 4px;\n",
              "    }\n",
              "\n",
              "    [theme=dark] .colab-df-convert {\n",
              "      background-color: #3B4455;\n",
              "      fill: #D2E3FC;\n",
              "    }\n",
              "\n",
              "    [theme=dark] .colab-df-convert:hover {\n",
              "      background-color: #434B5C;\n",
              "      box-shadow: 0px 1px 3px 1px rgba(0, 0, 0, 0.15);\n",
              "      filter: drop-shadow(0px 1px 2px rgba(0, 0, 0, 0.3));\n",
              "      fill: #FFFFFF;\n",
              "    }\n",
              "  </style>\n",
              "\n",
              "    <script>\n",
              "      const buttonEl =\n",
              "        document.querySelector('#df-2035171b-7d39-43fc-bd8b-f228f3233261 button.colab-df-convert');\n",
              "      buttonEl.style.display =\n",
              "        google.colab.kernel.accessAllowed ? 'block' : 'none';\n",
              "\n",
              "      async function convertToInteractive(key) {\n",
              "        const element = document.querySelector('#df-2035171b-7d39-43fc-bd8b-f228f3233261');\n",
              "        const dataTable =\n",
              "          await google.colab.kernel.invokeFunction('convertToInteractive',\n",
              "                                                    [key], {});\n",
              "        if (!dataTable) return;\n",
              "\n",
              "        const docLinkHtml = 'Like what you see? Visit the ' +\n",
              "          '<a target=\"_blank\" href=https://colab.research.google.com/notebooks/data_table.ipynb>data table notebook</a>'\n",
              "          + ' to learn more about interactive tables.';\n",
              "        element.innerHTML = '';\n",
              "        dataTable['output_type'] = 'display_data';\n",
              "        await google.colab.output.renderOutput(dataTable, element);\n",
              "        const docLink = document.createElement('div');\n",
              "        docLink.innerHTML = docLinkHtml;\n",
              "        element.appendChild(docLink);\n",
              "      }\n",
              "    </script>\n",
              "  </div>\n",
              "\n",
              "\n",
              "    <div id=\"df-698c6361-2b5f-419a-b211-010eec41a608\">\n",
              "      <button class=\"colab-df-quickchart\" onclick=\"quickchart('df-698c6361-2b5f-419a-b211-010eec41a608')\"\n",
              "                title=\"Suggest charts\"\n",
              "                style=\"display:none;\">\n",
              "\n",
              "<svg xmlns=\"http://www.w3.org/2000/svg\" height=\"24px\"viewBox=\"0 0 24 24\"\n",
              "     width=\"24px\">\n",
              "    <g>\n",
              "        <path d=\"M19 3H5c-1.1 0-2 .9-2 2v14c0 1.1.9 2 2 2h14c1.1 0 2-.9 2-2V5c0-1.1-.9-2-2-2zM9 17H7v-7h2v7zm4 0h-2V7h2v10zm4 0h-2v-4h2v4z\"/>\n",
              "    </g>\n",
              "</svg>\n",
              "      </button>\n",
              "\n",
              "<style>\n",
              "  .colab-df-quickchart {\n",
              "      --bg-color: #E8F0FE;\n",
              "      --fill-color: #1967D2;\n",
              "      --hover-bg-color: #E2EBFA;\n",
              "      --hover-fill-color: #174EA6;\n",
              "      --disabled-fill-color: #AAA;\n",
              "      --disabled-bg-color: #DDD;\n",
              "  }\n",
              "\n",
              "  [theme=dark] .colab-df-quickchart {\n",
              "      --bg-color: #3B4455;\n",
              "      --fill-color: #D2E3FC;\n",
              "      --hover-bg-color: #434B5C;\n",
              "      --hover-fill-color: #FFFFFF;\n",
              "      --disabled-bg-color: #3B4455;\n",
              "      --disabled-fill-color: #666;\n",
              "  }\n",
              "\n",
              "  .colab-df-quickchart {\n",
              "    background-color: var(--bg-color);\n",
              "    border: none;\n",
              "    border-radius: 50%;\n",
              "    cursor: pointer;\n",
              "    display: none;\n",
              "    fill: var(--fill-color);\n",
              "    height: 32px;\n",
              "    padding: 0;\n",
              "    width: 32px;\n",
              "  }\n",
              "\n",
              "  .colab-df-quickchart:hover {\n",
              "    background-color: var(--hover-bg-color);\n",
              "    box-shadow: 0 1px 2px rgba(60, 64, 67, 0.3), 0 1px 3px 1px rgba(60, 64, 67, 0.15);\n",
              "    fill: var(--button-hover-fill-color);\n",
              "  }\n",
              "\n",
              "  .colab-df-quickchart-complete:disabled,\n",
              "  .colab-df-quickchart-complete:disabled:hover {\n",
              "    background-color: var(--disabled-bg-color);\n",
              "    fill: var(--disabled-fill-color);\n",
              "    box-shadow: none;\n",
              "  }\n",
              "\n",
              "  .colab-df-spinner {\n",
              "    border: 2px solid var(--fill-color);\n",
              "    border-color: transparent;\n",
              "    border-bottom-color: var(--fill-color);\n",
              "    animation:\n",
              "      spin 1s steps(1) infinite;\n",
              "  }\n",
              "\n",
              "  @keyframes spin {\n",
              "    0% {\n",
              "      border-color: transparent;\n",
              "      border-bottom-color: var(--fill-color);\n",
              "      border-left-color: var(--fill-color);\n",
              "    }\n",
              "    20% {\n",
              "      border-color: transparent;\n",
              "      border-left-color: var(--fill-color);\n",
              "      border-top-color: var(--fill-color);\n",
              "    }\n",
              "    30% {\n",
              "      border-color: transparent;\n",
              "      border-left-color: var(--fill-color);\n",
              "      border-top-color: var(--fill-color);\n",
              "      border-right-color: var(--fill-color);\n",
              "    }\n",
              "    40% {\n",
              "      border-color: transparent;\n",
              "      border-right-color: var(--fill-color);\n",
              "      border-top-color: var(--fill-color);\n",
              "    }\n",
              "    60% {\n",
              "      border-color: transparent;\n",
              "      border-right-color: var(--fill-color);\n",
              "    }\n",
              "    80% {\n",
              "      border-color: transparent;\n",
              "      border-right-color: var(--fill-color);\n",
              "      border-bottom-color: var(--fill-color);\n",
              "    }\n",
              "    90% {\n",
              "      border-color: transparent;\n",
              "      border-bottom-color: var(--fill-color);\n",
              "    }\n",
              "  }\n",
              "</style>\n",
              "\n",
              "      <script>\n",
              "        async function quickchart(key) {\n",
              "          const quickchartButtonEl =\n",
              "            document.querySelector('#' + key + ' button');\n",
              "          quickchartButtonEl.disabled = true;  // To prevent multiple clicks.\n",
              "          quickchartButtonEl.classList.add('colab-df-spinner');\n",
              "          try {\n",
              "            const charts = await google.colab.kernel.invokeFunction(\n",
              "                'suggestCharts', [key], {});\n",
              "          } catch (error) {\n",
              "            console.error('Error during call to suggestCharts:', error);\n",
              "          }\n",
              "          quickchartButtonEl.classList.remove('colab-df-spinner');\n",
              "          quickchartButtonEl.classList.add('colab-df-quickchart-complete');\n",
              "        }\n",
              "        (() => {\n",
              "          let quickchartButtonEl =\n",
              "            document.querySelector('#df-698c6361-2b5f-419a-b211-010eec41a608 button');\n",
              "          quickchartButtonEl.style.display =\n",
              "            google.colab.kernel.accessAllowed ? 'block' : 'none';\n",
              "        })();\n",
              "      </script>\n",
              "    </div>\n",
              "\n",
              "  <div id=\"id_94e34580-06df-467a-968e-1a227a85d1c4\">\n",
              "    <style>\n",
              "      .colab-df-generate {\n",
              "        background-color: #E8F0FE;\n",
              "        border: none;\n",
              "        border-radius: 50%;\n",
              "        cursor: pointer;\n",
              "        display: none;\n",
              "        fill: #1967D2;\n",
              "        height: 32px;\n",
              "        padding: 0 0 0 0;\n",
              "        width: 32px;\n",
              "      }\n",
              "\n",
              "      .colab-df-generate:hover {\n",
              "        background-color: #E2EBFA;\n",
              "        box-shadow: 0px 1px 2px rgba(60, 64, 67, 0.3), 0px 1px 3px 1px rgba(60, 64, 67, 0.15);\n",
              "        fill: #174EA6;\n",
              "      }\n",
              "\n",
              "      [theme=dark] .colab-df-generate {\n",
              "        background-color: #3B4455;\n",
              "        fill: #D2E3FC;\n",
              "      }\n",
              "\n",
              "      [theme=dark] .colab-df-generate:hover {\n",
              "        background-color: #434B5C;\n",
              "        box-shadow: 0px 1px 3px 1px rgba(0, 0, 0, 0.15);\n",
              "        filter: drop-shadow(0px 1px 2px rgba(0, 0, 0, 0.3));\n",
              "        fill: #FFFFFF;\n",
              "      }\n",
              "    </style>\n",
              "    <button class=\"colab-df-generate\" onclick=\"generateWithVariable('df')\"\n",
              "            title=\"Generate code using this dataframe.\"\n",
              "            style=\"display:none;\">\n",
              "\n",
              "  <svg xmlns=\"http://www.w3.org/2000/svg\" height=\"24px\"viewBox=\"0 0 24 24\"\n",
              "       width=\"24px\">\n",
              "    <path d=\"M7,19H8.4L18.45,9,17,7.55,7,17.6ZM5,21V16.75L18.45,3.32a2,2,0,0,1,2.83,0l1.4,1.43a1.91,1.91,0,0,1,.58,1.4,1.91,1.91,0,0,1-.58,1.4L9.25,21ZM18.45,9,17,7.55Zm-12,3A5.31,5.31,0,0,0,4.9,8.1,5.31,5.31,0,0,0,1,6.5,5.31,5.31,0,0,0,4.9,4.9,5.31,5.31,0,0,0,6.5,1,5.31,5.31,0,0,0,8.1,4.9,5.31,5.31,0,0,0,12,6.5,5.46,5.46,0,0,0,6.5,12Z\"/>\n",
              "  </svg>\n",
              "    </button>\n",
              "    <script>\n",
              "      (() => {\n",
              "      const buttonEl =\n",
              "        document.querySelector('#id_94e34580-06df-467a-968e-1a227a85d1c4 button.colab-df-generate');\n",
              "      buttonEl.style.display =\n",
              "        google.colab.kernel.accessAllowed ? 'block' : 'none';\n",
              "\n",
              "      buttonEl.onclick = () => {\n",
              "        google.colab.notebook.generateWithVariable('df');\n",
              "      }\n",
              "      })();\n",
              "    </script>\n",
              "  </div>\n",
              "\n",
              "    </div>\n",
              "  </div>\n"
            ],
            "application/vnd.google.colaboratory.intrinsic+json": {
              "type": "dataframe",
              "variable_name": "df",
              "summary": "{\n  \"name\": \"df\",\n  \"rows\": 7765,\n  \"fields\": [\n    {\n      \"column\": \"week\",\n      \"properties\": {\n        \"dtype\": \"object\",\n        \"num_unique_values\": 202,\n        \"samples\": [\n          \"2023-07-16\",\n          \"2025-01-26\",\n          \"2024-10-13\"\n        ],\n        \"semantic_type\": \"\",\n        \"description\": \"\"\n      }\n    },\n    {\n      \"column\": \"category\",\n      \"properties\": {\n        \"dtype\": \"category\",\n        \"num_unique_values\": 4,\n        \"samples\": [\n          \"Films (Non-English)\",\n          \"TV (Non-English)\",\n          \"Films (English)\"\n        ],\n        \"semantic_type\": \"\",\n        \"description\": \"\"\n      }\n    },\n    {\n      \"column\": \"show_title\",\n      \"properties\": {\n        \"dtype\": \"category\",\n        \"num_unique_values\": 2404,\n        \"samples\": [\n          \"Lucky Baskhar\",\n          \"The Five Juanas\",\n          \"Hotel Transylvania 2\"\n        ],\n        \"semantic_type\": \"\",\n        \"description\": \"\"\n      }\n    },\n    {\n      \"column\": \"weekly_hours_viewed\",\n      \"properties\": {\n        \"dtype\": \"number\",\n        \"std\": 25863720,\n        \"min\": 700000,\n        \"max\": 571760000,\n        \"num_unique_values\": 2838,\n        \"samples\": [\n          45100000,\n          30040000,\n          16760000\n        ],\n        \"semantic_type\": \"\",\n        \"description\": \"\"\n      }\n    },\n    {\n      \"column\": \"runtime\",\n      \"properties\": {\n        \"dtype\": \"number\",\n        \"std\": 2.878040309304472,\n        \"min\": 0.0,\n        \"max\": 47.5833,\n        \"num_unique_values\": 473,\n        \"samples\": [\n          1.6,\n          1.6167,\n          6.0167\n        ],\n        \"semantic_type\": \"\",\n        \"description\": \"\"\n      }\n    },\n    {\n      \"column\": \"weekly_views\",\n      \"properties\": {\n        \"dtype\": \"number\",\n        \"std\": 4481094,\n        \"min\": 0,\n        \"max\": 68000000,\n        \"num_unique_values\": 265,\n        \"samples\": [\n          15500000,\n          11300000,\n          17000000\n        ],\n        \"semantic_type\": \"\",\n        \"description\": \"\"\n      }\n    },\n    {\n      \"column\": \"cumulative_weeks_in_top_10\",\n      \"properties\": {\n        \"dtype\": \"number\",\n        \"std\": 3,\n        \"min\": 1,\n        \"max\": 30,\n        \"num_unique_values\": 30,\n        \"samples\": [\n          23,\n          13,\n          27\n        ],\n        \"semantic_type\": \"\",\n        \"description\": \"\"\n      }\n    },\n    {\n      \"column\": \"id\",\n      \"properties\": {\n        \"dtype\": \"number\",\n        \"std\": 393638,\n        \"min\": 55,\n        \"max\": 1481983,\n        \"num_unique_values\": 2409,\n        \"samples\": [\n          195930,\n          923632,\n          1030323\n        ],\n        \"semantic_type\": \"\",\n        \"description\": \"\"\n      }\n    },\n    {\n      \"column\": \"genres\",\n      \"properties\": {\n        \"dtype\": \"category\",\n        \"num_unique_values\": 710,\n        \"samples\": [\n          \"['Animation', 'Action', 'Fantasy']\",\n          \"['Thriller', 'Crime', 'Mystery', 'Drama']\",\n          \"['Animation', 'Romance', 'Drama']\"\n        ],\n        \"semantic_type\": \"\",\n        \"description\": \"\"\n      }\n    },\n    {\n      \"column\": \"keywords\",\n      \"properties\": {\n        \"dtype\": \"category\",\n        \"num_unique_values\": 1924,\n        \"samples\": [\n          \"['crocodile', 'musical', \\\"based on children's book\\\", 'outsider', 'live action and animation', 'talking animal']\",\n          \"['friendship', 'terminal illness', 'romance', 'teacher', 'doctor', 'sismance', 'fast paced romance']\",\n          \"['sitcom']\"\n        ],\n        \"semantic_type\": \"\",\n        \"description\": \"\"\n      }\n    }\n  ]\n}"
            }
          },
          "metadata": {},
          "execution_count": 48
        }
      ]
    }
  ]
}