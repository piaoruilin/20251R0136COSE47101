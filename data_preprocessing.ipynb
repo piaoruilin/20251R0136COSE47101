{
  "nbformat": 4,
  "nbformat_minor": 0,
  "metadata": {
    "colab": {
      "provenance": [],
      "authorship_tag": "ABX9TyNL6WFurMQigIkEthrWzdci",
      "include_colab_link": true
    },
    "kernelspec": {
      "name": "python3",
      "display_name": "Python 3"
    },
    "language_info": {
      "name": "python"
    }
  },
  "cells": [
    {
      "cell_type": "markdown",
      "metadata": {
        "id": "view-in-github",
        "colab_type": "text"
      },
      "source": [
        "<a href=\"https://colab.research.google.com/github/piaoruilin/20251R0136COSE47101/blob/main/data_preprocessing.ipynb\" target=\"_parent\"><img src=\"https://colab.research.google.com/assets/colab-badge.svg\" alt=\"Open In Colab\"/></a>"
      ]
    },
    {
      "cell_type": "code",
      "source": [
        "!pip install python-dotenv"
      ],
      "metadata": {
        "colab": {
          "base_uri": "https://localhost:8080/"
        },
        "id": "GpSS_eoBeUB5",
        "outputId": "af5c0236-6fa2-4435-d1f5-1bd8b894c157"
      },
      "execution_count": null,
      "outputs": [
        {
          "output_type": "stream",
          "name": "stdout",
          "text": [
            "Collecting python-dotenv\n",
            "  Downloading python_dotenv-1.1.0-py3-none-any.whl.metadata (24 kB)\n",
            "Downloading python_dotenv-1.1.0-py3-none-any.whl (20 kB)\n",
            "Installing collected packages: python-dotenv\n",
            "Successfully installed python-dotenv-1.1.0\n"
          ]
        }
      ]
    },
    {
      "cell_type": "markdown",
      "source": [
        "# 1. 데이터에서 원하는 열만 추출"
      ],
      "metadata": {
        "id": "Y4MApWVGdtkG"
      }
    },
    {
      "cell_type": "code",
      "execution_count": null,
      "metadata": {
        "colab": {
          "base_uri": "https://localhost:8080/"
        },
        "id": "2sTXU4WqiY6w",
        "outputId": "0208a940-c4d6-4b85-c555-84fd90ecf1fd"
      },
      "outputs": [
        {
          "output_type": "stream",
          "name": "stderr",
          "text": [
            "/usr/local/lib/python3.11/dist-packages/openpyxl/styles/stylesheet.py:237: UserWarning: Workbook contains no default style, apply openpyxl's default\n",
            "  warn(\"Workbook contains no default style, apply openpyxl's default\")\n"
          ]
        },
        {
          "output_type": "stream",
          "name": "stdout",
          "text": [
            "파일 '/content/2025-05-20_global_alltime.xlsx'에서 다음 열들을 성공적으로 추출했습니다:\n",
            "['week', 'category', 'show_title', 'weekly_hours_viewed', 'runtime', 'weekly_views', 'cumulative_weeks_in_top_10']\n",
            "\n",
            "추출된 DataFrame (df) 정보:\n",
            "<class 'pandas.core.frame.DataFrame'>\n",
            "RangeIndex: 8080 entries, 0 to 8079\n",
            "Data columns (total 7 columns):\n",
            " #   Column                      Non-Null Count  Dtype  \n",
            "---  ------                      --------------  -----  \n",
            " 0   week                        8080 non-null   object \n",
            " 1   category                    8080 non-null   object \n",
            " 2   show_title                  8080 non-null   object \n",
            " 3   weekly_hours_viewed         8080 non-null   int64  \n",
            " 4   runtime                     4000 non-null   float64\n",
            " 5   weekly_views                4000 non-null   float64\n",
            " 6   cumulative_weeks_in_top_10  8080 non-null   int64  \n",
            "dtypes: float64(2), int64(2), object(3)\n",
            "memory usage: 442.0+ KB\n",
            "\n",
            "DataFrame (df)의 처음 5행:\n",
            "         week         category                  show_title  \\\n",
            "0  2025-05-11  Films (English)                      Nonnas   \n",
            "1  2025-05-11  Films (English)     Inside Man: Most Wanted   \n",
            "2  2025-05-11  Films (English)  A Deadly American Marriage   \n",
            "3  2025-05-11  Films (English)                       Havoc   \n",
            "4  2025-05-11  Films (English)                    Twilight   \n",
            "\n",
            "   weekly_hours_viewed  runtime  weekly_views  cumulative_weeks_in_top_10  \n",
            "0             29000000   1.9000    15300000.0                           1  \n",
            "1             21800000   1.7667    12300000.0                           1  \n",
            "2             16900000   1.7167     9800000.0                           1  \n",
            "3             16300000   1.7833     9100000.0                           3  \n",
            "4              8700000   2.0333     4300000.0                           4  \n"
          ]
        }
      ],
      "source": [
        "import pandas as pd\n",
        "\n",
        "file_path = '/content/2025-05-20_global_alltime.xlsx' # tudum top-10 엑셀 파일 불러오기\n",
        "\n",
        "columns_to_extract = [\n",
        "    'week',\n",
        "    'category',\n",
        "    'show_title',\n",
        "    'weekly_hours_viewed',\n",
        "    'runtime',\n",
        "    'weekly_views',\n",
        "    'cumulative_weeks_in_top_10'\n",
        "]\n",
        "\n",
        "try:\n",
        "    df = pd.read_excel(file_path, usecols=columns_to_extract)\n",
        "\n",
        "    print(f\"파일 '{file_path}'에서 다음 열들을 성공적으로 추출했습니다:\")\n",
        "    print(columns_to_extract)\n",
        "\n",
        "    print(\"\\n추출된 DataFrame (df) 정보:\")\n",
        "    df.info()\n",
        "\n",
        "    print(\"\\nDataFrame (df)의 처음 5행:\")\n",
        "    print(df.head())\n",
        "\n",
        "except FileNotFoundError:\n",
        "    print(f\"오류: 파일 '{file_path}'을(를) 찾을 수 없습니다.\")\n",
        "    print(\"파일 경로가 올바른지, 파일 이름에 오타가 없는지 확인해주세요.\")\n",
        "    print(\"Google Drive를 사용하는 경우, Drive가 올바르게 마운트되었는지 확인해주세요.\")\n",
        "    print(\"Colab 왼쪽에 있는 '파일' 탭에서 파일 위치를 직접 확인할 수 있습니다.\")\n",
        "except ValueError as e:\n",
        "\n",
        "    print(f\"\\n오류 발생: {e}\")\n",
        "    print(\"엑셀 파일에 요청한 열들이 모두 존재하는지, 열 이름이 정확한지 확인해주세요.\")\n",
        "    print(f\"요청한 열: {columns_to_extract}\")\n",
        "\n",
        "except Exception as e:\n",
        "    print(f\"\\n엑셀 파일을 읽는 중 예상치 못한 오류가 발생했습니다: {e}\")"
      ]
    },
    {
      "cell_type": "markdown",
      "source": [
        "# 2. API를 통해 영화/프로그램 이름과 TMDB ID를 매칭"
      ],
      "metadata": {
        "id": "TN8aXB0Hd8qp"
      }
    },
    {
      "cell_type": "code",
      "source": [
        "import requests\n",
        "from tqdm import tqdm\n",
        "import os\n",
        "from dotenv import load_dotenv\n",
        "\n",
        "# .env 파일에서 api키 받아오기 (tmdb api 키 필요)\n",
        "load_dotenv()\n",
        "API_KEY = os.getenv('API_KEY')\n",
        "\n",
        "print(f\"API Key loaded: {API_KEY[:5]}...\" if API_KEY else \"No API key found\")\n",
        "\n",
        "df['id'] = pd.NA\n",
        "\n",
        "headers = {\n",
        "    \"accept\": \"application/json\",\n",
        "    \"Authorization\": f\"Bearer {API_KEY}\"\n",
        "}\n",
        "\n",
        "for index, row in tqdm(df.iterrows(), total=df.shape[0], desc=\"Fetching TMDB IDs\"):\n",
        "    title_from_df = str(row.show_title)\n",
        "    category = row.category\n",
        "    url = None\n",
        "    api_title_key = None\n",
        "\n",
        "    encoded_title = requests.utils.quote(title_from_df)\n",
        "\n",
        "    if category == \"Films (English)\" or category == \"Films (Non-English)\":\n",
        "        url = f\"https://api.themoviedb.org/3/search/movie?query={encoded_title}&include_adult=true&language=en-US&page=1\"\n",
        "        api_title_key = 'title'\n",
        "    elif category == \"TV (English)\" or category == \"TV (Non-English)\":\n",
        "        url = f\"https://api.themoviedb.org/3/search/tv?query={encoded_title}&include_adult=true&language=en-US&page=1\"\n",
        "        api_title_key = 'name'\n",
        "    else:\n",
        "        tqdm.write(f\"카테고리 오류. DF Title: '{title_from_df}', Category: {row.category}\")\n",
        "        continue\n",
        "\n",
        "    try:\n",
        "        response = requests.get(url, headers=headers, timeout=10)\n",
        "        response.raise_for_status()\n",
        "\n",
        "        response_data = response.json()\n",
        "        match_found_in_results = False\n",
        "\n",
        "        if response_data.get('results'):\n",
        "            for result_item in response_data['results']:\n",
        "                if api_title_key in result_item and 'id' in result_item:\n",
        "                    api_title = str(result_item[api_title_key])\n",
        "                    api_id = result_item['id']\n",
        "\n",
        "                    if title_from_df.lower() == api_title.lower():\n",
        "                        df.loc[index, 'id'] = api_id\n",
        "                        match_found_in_results = True\n",
        "                        break\n",
        "                else:\n",
        "                    tqdm.write(f\"  Malformed result for '{title_from_df}': Lacks '{api_title_key}' or 'id'. Item: {result_item}\")\n",
        "\n",
        "\n",
        "            if not match_found_in_results and response_data['results']:\n",
        "                first_api_title_candidate = str(response_data['results'][0].get(api_title_key, \"N/A\"))\n",
        "                tqdm.write(f\"  Title mismatch for '{title_from_df}'. Searched API, but no exact match. First API candidate: '{first_api_title_candidate}' (ID not added).\")\n",
        "            elif not response_data['results']:\n",
        "                 tqdm.write(f\"  No items in 'results' list from API for '{title_from_df}'\")\n",
        "\n",
        "\n",
        "        else:\n",
        "            tqdm.write(f\"  No 'results' key or empty results in API response for '{title_from_df}'\")\n",
        "\n",
        "        # time.sleep(0.1) # 100ms delay\n",
        "\n",
        "    except requests.exceptions.HTTPError as e:\n",
        "        tqdm.write(f\"  HTTP error for '{title_from_df}': {e.response.status_code} {e.response.reason}. URL: {url}\")\n",
        "    except requests.exceptions.RequestException as e:\n",
        "        tqdm.write(f\"  API request failed for '{title_from_df}': {e}. URL: {url}\")\n",
        "    except ValueError as e:\n",
        "        tqdm.write(f\"  Failed to decode JSON for '{title_from_df}': {e}. URL: {url}\")\n",
        "    except Exception as e:\n",
        "        tqdm.write(f\"  An unexpected error occurred for '{title_from_df}': {e}. URL: {url}\")\n",
        "\n",
        "\n",
        "print(\"\\nFinal DataFrame with 'id' column:\")\n",
        "print(df)\n",
        "print(\"\\nID column data type:\")\n",
        "print(df['id'].dtype)\n",
        "\n",
        "print(\"\\nValue counts for 'id' column (including NAs):\")\n",
        "print(df['id'].value_counts(dropna=False))"
      ],
      "metadata": {
        "colab": {
          "base_uri": "https://localhost:8080/"
        },
        "id": "1P_x7ptXk0Bi",
        "outputId": "59c513ef-09e6-4918-9dc7-6dfe7bd9d5b3",
        "collapsed": true
      },
      "execution_count": null,
      "outputs": [
        {
          "output_type": "stream",
          "name": "stdout",
          "text": [
            "API Key loaded: eyJhb...\n"
          ]
        },
        {
          "output_type": "stream",
          "name": "stderr",
          "text": [
            "Fetching TMDB IDs:   1%|          | 98/8080 [00:08<11:13, 11.84it/s]"
          ]
        },
        {
          "output_type": "stream",
          "name": "stdout",
          "text": [
            "  Title mismatch for 'Court: State vs A Nobody'. Searched API, but no exact match. First API candidate: 'Court: State vs. A Nobody' (ID not added).\n"
          ]
        },
        {
          "output_type": "stream",
          "name": "stderr",
          "text": [
            "Fetching TMDB IDs:   1%|          | 100/8080 [00:08<12:05, 11.00it/s]"
          ]
        },
        {
          "output_type": "stream",
          "name": "stdout",
          "text": [
            "  Title mismatch for 'Sin instrucciones'. Searched API, but no exact match. First API candidate: 'Babies Don't Come with Instructions' (ID not added).\n"
          ]
        },
        {
          "output_type": "stream",
          "name": "stderr",
          "text": [
            "Fetching TMDB IDs:   1%|▏         | 107/8080 [00:09<10:15, 12.96it/s]"
          ]
        },
        {
          "output_type": "stream",
          "name": "stdout",
          "text": [
            "  Title mismatch for 'Special Ops: Lioness'. Searched API, but no exact match. First API candidate: 'Lioness' (ID not added).\n"
          ]
        },
        {
          "output_type": "stream",
          "name": "stderr",
          "text": [
            "Fetching TMDB IDs:   2%|▏         | 137/8080 [00:11<10:43, 12.34it/s]"
          ]
        },
        {
          "output_type": "stream",
          "name": "stdout",
          "text": [
            "  Title mismatch for 'Court: State vs A Nobody'. Searched API, but no exact match. First API candidate: 'Court: State vs. A Nobody' (ID not added).\n"
          ]
        },
        {
          "output_type": "stream",
          "name": "stderr",
          "text": [
            "Fetching TMDB IDs:   2%|▏         | 147/8080 [00:11<09:56, 13.30it/s]"
          ]
        },
        {
          "output_type": "stream",
          "name": "stdout",
          "text": [
            "  Title mismatch for 'Special Ops: Lioness'. Searched API, but no exact match. First API candidate: 'Lioness' (ID not added).\n"
          ]
        },
        {
          "output_type": "stream",
          "name": "stderr",
          "text": [
            "Fetching TMDB IDs:   2%|▏         | 160/8080 [00:12<09:53, 13.35it/s]"
          ]
        },
        {
          "output_type": "stream",
          "name": "stdout",
          "text": [
            "  Title mismatch for 'Kian’s Bizarre B&B'. Searched API, but no exact match. First API candidate: 'Kian's Bizarre B&B' (ID not added).\n"
          ]
        },
        {
          "output_type": "stream",
          "name": "stderr",
          "text": [
            "Fetching TMDB IDs:   2%|▏         | 176/8080 [00:14<11:06, 11.86it/s]"
          ]
        },
        {
          "output_type": "stream",
          "name": "stdout",
          "text": [
            "  Title mismatch for 'Court: State vs A Nobody'. Searched API, but no exact match. First API candidate: 'Court: State vs. A Nobody' (ID not added).\n"
          ]
        },
        {
          "output_type": "stream",
          "name": "stderr",
          "text": [
            "Fetching TMDB IDs:   2%|▏         | 198/8080 [00:15<09:33, 13.74it/s]"
          ]
        },
        {
          "output_type": "stream",
          "name": "stdout",
          "text": [
            "  Title mismatch for 'Kian’s Bizarre B&B'. Searched API, but no exact match. First API candidate: 'Kian's Bizarre B&B' (ID not added).\n"
          ]
        },
        {
          "output_type": "stream",
          "name": "stderr",
          "text": [
            "Fetching TMDB IDs:   3%|▎         | 260/8080 [00:21<14:09,  9.21it/s]"
          ]
        },
        {
          "output_type": "stream",
          "name": "stdout",
          "text": [
            "  Title mismatch for 'Nosso Sonho'. Searched API, but no exact match. First API candidate: 'Our Dream' (ID not added).\n"
          ]
        },
        {
          "output_type": "stream",
          "name": "stderr",
          "text": [
            "Fetching TMDB IDs:   3%|▎         | 272/8080 [00:22<09:48, 13.26it/s]"
          ]
        },
        {
          "output_type": "stream",
          "name": "stdout",
          "text": [
            "  No 'results' key or empty results in API response for 'Chelsea Handler: The Feeling'\n"
          ]
        },
        {
          "output_type": "stream",
          "name": "stderr",
          "text": [
            "Fetching TMDB IDs:   4%|▍         | 312/8080 [00:24<09:10, 14.11it/s]"
          ]
        },
        {
          "output_type": "stream",
          "name": "stdout",
          "text": [
            "  No 'results' key or empty results in API response for 'Bert Kreischer: Lucky'\n"
          ]
        },
        {
          "output_type": "stream",
          "name": "stderr",
          "text": [
            "Fetching TMDB IDs:   5%|▍         | 389/8080 [00:30<09:33, 13.42it/s]"
          ]
        },
        {
          "output_type": "stream",
          "name": "stdout",
          "text": [
            "  No 'results' key or empty results in API response for 'Andrew Schulz: LIFE'\n"
          ]
        },
        {
          "output_type": "stream",
          "name": "stderr",
          "text": [
            "Fetching TMDB IDs:   5%|▌         | 429/8080 [00:33<08:26, 15.10it/s]"
          ]
        },
        {
          "output_type": "stream",
          "name": "stdout",
          "text": [
            "  No 'results' key or empty results in API response for 'The 31st Annual Screen Actors Guild Awards'\n"
          ]
        },
        {
          "output_type": "stream",
          "name": "stderr",
          "text": [
            "Fetching TMDB IDs:   6%|▌         | 490/8080 [00:38<10:34, 11.96it/s]"
          ]
        },
        {
          "output_type": "stream",
          "name": "stdout",
          "text": [
            "  Title mismatch for 'Mission: Impossible - Dead Reckoning'. Searched API, but no exact match. First API candidate: 'Mission: Impossible - Dead Reckoning Part One' (ID not added).\n"
          ]
        },
        {
          "output_type": "stream",
          "name": "stderr",
          "text": [
            "Fetching TMDB IDs:   7%|▋         | 529/8080 [00:41<10:07, 12.43it/s]"
          ]
        },
        {
          "output_type": "stream",
          "name": "stdout",
          "text": [
            "  No 'results' key or empty results in API response for 'Spider-Man: No Way Home (Extended Version)'\n"
          ]
        },
        {
          "output_type": "stream",
          "name": "stderr",
          "text": [
            "Fetching TMDB IDs:   7%|▋         | 533/8080 [00:41<09:38, 13.05it/s]"
          ]
        },
        {
          "output_type": "stream",
          "name": "stdout",
          "text": [
            "  No 'results' key or empty results in API response for 'Pushpa 2: The Rule (Reloaded Version)'\n"
          ]
        },
        {
          "output_type": "stream",
          "name": "stderr",
          "text": [
            "Fetching TMDB IDs:   7%|▋         | 572/8080 [00:44<09:39, 12.97it/s]"
          ]
        },
        {
          "output_type": "stream",
          "name": "stdout",
          "text": [
            "  No 'results' key or empty results in API response for 'Pushpa 2: The Rule (Reloaded Version)'\n"
          ]
        },
        {
          "output_type": "stream",
          "name": "stderr",
          "text": [
            "Fetching TMDB IDs:   7%|▋         | 578/8080 [00:45<11:34, 10.81it/s]"
          ]
        },
        {
          "output_type": "stream",
          "name": "stdout",
          "text": [
            "  No 'results' key or empty results in API response for 'Tout le bleu du ciel'\n",
            "  Title mismatch for 'Chantal im Märchenland'. Searched API, but no exact match. First API candidate: 'Chantal in Fairyland' (ID not added).\n"
          ]
        },
        {
          "output_type": "stream",
          "name": "stderr",
          "text": [
            "Fetching TMDB IDs:   7%|▋         | 593/8080 [00:45<07:55, 15.76it/s]"
          ]
        },
        {
          "output_type": "stream",
          "name": "stdout",
          "text": [
            "  Title mismatch for 'Royal Rumble'. Searched API, but no exact match. First API candidate: 'WWE Royal Rumble' (ID not added).\n"
          ]
        },
        {
          "output_type": "stream",
          "name": "stderr",
          "text": [
            "Fetching TMDB IDs:   7%|▋         | 597/8080 [00:46<08:59, 13.88it/s]"
          ]
        },
        {
          "output_type": "stream",
          "name": "stdout",
          "text": [
            "  Title mismatch for 'Single’s Inferno'. Searched API, but no exact match. First API candidate: 'Single's Inferno' (ID not added).\n"
          ]
        },
        {
          "output_type": "stream",
          "name": "stderr",
          "text": [
            "Fetching TMDB IDs:   8%|▊         | 607/8080 [00:47<10:58, 11.34it/s]"
          ]
        },
        {
          "output_type": "stream",
          "name": "stdout",
          "text": [
            "  Title mismatch for 'To All the Boys I’ve Loved Before'. Searched API, but no exact match. First API candidate: 'To All the Boys I've Loved Before' (ID not added).\n"
          ]
        },
        {
          "output_type": "stream",
          "name": "stderr",
          "text": [
            "Fetching TMDB IDs:   8%|▊         | 615/8080 [00:47<11:22, 10.94it/s]"
          ]
        },
        {
          "output_type": "stream",
          "name": "stdout",
          "text": [
            "  Title mismatch for 'Kingdom: Return of The Great General'. Searched API, but no exact match. First API candidate: 'Kingdom 4: Return of the Great General' (ID not added).\n"
          ]
        },
        {
          "output_type": "stream",
          "name": "stderr",
          "text": [
            "Fetching TMDB IDs:   8%|▊         | 638/8080 [00:49<08:12, 15.11it/s]"
          ]
        },
        {
          "output_type": "stream",
          "name": "stdout",
          "text": [
            "  Title mismatch for 'Single’s Inferno'. Searched API, but no exact match. First API candidate: 'Single's Inferno' (ID not added).\n"
          ]
        },
        {
          "output_type": "stream",
          "name": "stderr",
          "text": [
            "Fetching TMDB IDs:   8%|▊         | 657/8080 [00:50<09:32, 12.98it/s]"
          ]
        },
        {
          "output_type": "stream",
          "name": "stdout",
          "text": [
            "  Title mismatch for 'Kingdom: Return of The Great General'. Searched API, but no exact match. First API candidate: 'Kingdom 4: Return of the Great General' (ID not added).\n"
          ]
        },
        {
          "output_type": "stream",
          "name": "stderr",
          "text": [
            "Fetching TMDB IDs:   8%|▊         | 678/8080 [00:52<07:12, 17.10it/s]"
          ]
        },
        {
          "output_type": "stream",
          "name": "stdout",
          "text": [
            "  Title mismatch for 'Single’s Inferno'. Searched API, but no exact match. First API candidate: 'Single's Inferno' (ID not added).\n"
          ]
        },
        {
          "output_type": "stream",
          "name": "stderr",
          "text": [
            "Fetching TMDB IDs:   9%|▉         | 709/8080 [00:54<09:47, 12.54it/s]"
          ]
        },
        {
          "output_type": "stream",
          "name": "stdout",
          "text": [
            "  No 'results' key or empty results in API response for 'Gabriel Iglesias: Legend of Fluffy'\n"
          ]
        },
        {
          "output_type": "stream",
          "name": "stderr",
          "text": [
            "Fetching TMDB IDs:   9%|▉         | 725/8080 [00:55<09:34, 12.81it/s]"
          ]
        },
        {
          "output_type": "stream",
          "name": "stdout",
          "text": [
            "  Title mismatch for 'Dr. Seuss' The Grinch'. Searched API, but no exact match. First API candidate: 'Dr. Seuss' The Grinch Musical' (ID not added).\n"
          ]
        },
        {
          "output_type": "stream",
          "name": "stderr",
          "text": [
            "Fetching TMDB IDs:   9%|▉         | 729/8080 [00:55<11:00, 11.13it/s]"
          ]
        },
        {
          "output_type": "stream",
          "name": "stdout",
          "text": [
            "  Title mismatch for 'Horizon: An American Saga: Chapter 1'. Searched API, but no exact match. First API candidate: 'Horizon: An American Saga - Chapter 1' (ID not added).\n"
          ]
        },
        {
          "output_type": "stream",
          "name": "stderr",
          "text": [
            "Fetching TMDB IDs:   9%|▉         | 737/8080 [00:56<09:03, 13.50it/s]"
          ]
        },
        {
          "output_type": "stream",
          "name": "stdout",
          "text": [
            "  Title mismatch for 'Kang Mak from Pee Mak'. Searched API, but no exact match. First API candidate: 'Kang Mak (From Pee Mak)' (ID not added).\n"
          ]
        },
        {
          "output_type": "stream",
          "name": "stderr",
          "text": [
            "Fetching TMDB IDs:   9%|▉         | 747/8080 [00:57<09:28, 12.91it/s]"
          ]
        },
        {
          "output_type": "stream",
          "name": "stdout",
          "text": [
            "  No 'results' key or empty results in API response for 'Your Friend, Nate Bargatze'\n",
            "  No 'results' key or empty results in API response for 'Torching 2024: A Roast of the Year'\n"
          ]
        },
        {
          "output_type": "stream",
          "name": "stderr",
          "text": [
            "Fetching TMDB IDs:   9%|▉         | 765/8080 [00:58<09:20, 13.04it/s]"
          ]
        },
        {
          "output_type": "stream",
          "name": "stdout",
          "text": [
            "  Title mismatch for 'Dr. Seuss' The Grinch'. Searched API, but no exact match. First API candidate: 'Dr. Seuss' The Grinch Musical' (ID not added).\n"
          ]
        },
        {
          "output_type": "stream",
          "name": "stderr",
          "text": [
            "Fetching TMDB IDs:  10%|▉         | 771/8080 [00:59<10:45, 11.32it/s]"
          ]
        },
        {
          "output_type": "stream",
          "name": "stdout",
          "text": [
            "  No 'results' key or empty results in API response for 'Beast (English)'\n"
          ]
        },
        {
          "output_type": "stream",
          "name": "stderr",
          "text": [
            "Fetching TMDB IDs:  10%|▉         | 782/8080 [00:59<10:32, 11.53it/s]"
          ]
        },
        {
          "output_type": "stream",
          "name": "stdout",
          "text": [
            "  No 'results' key or empty results in API response for 'Christmas Gameday: Ravens vs. Texans'\n",
            "  No 'results' key or empty results in API response for 'Christmas Gameday: Chiefs vs. Steelers'\n"
          ]
        },
        {
          "output_type": "stream",
          "name": "stderr",
          "text": [
            "Fetching TMDB IDs:  10%|▉         | 786/8080 [01:00<10:09, 11.96it/s]"
          ]
        },
        {
          "output_type": "stream",
          "name": "stdout",
          "text": [
            "  No 'results' key or empty results in API response for 'Your Friend, Nate Bargatze'\n",
            "  No 'results' key or empty results in API response for 'Fireplace for Your Home: Crackling Birchwood Fireplace'\n"
          ]
        },
        {
          "output_type": "stream",
          "name": "stderr",
          "text": [
            "Fetching TMDB IDs:  10%|▉         | 793/8080 [01:00<08:36, 14.11it/s]"
          ]
        },
        {
          "output_type": "stream",
          "name": "stdout",
          "text": [
            "  No 'results' key or empty results in API response for 'Fireplace for Your Home: Classic Crackling Fireplace'\n"
          ]
        },
        {
          "output_type": "stream",
          "name": "stderr",
          "text": [
            "Fetching TMDB IDs:  10%|▉         | 805/8080 [01:01<08:03, 15.04it/s]"
          ]
        },
        {
          "output_type": "stream",
          "name": "stdout",
          "text": [
            "  Title mismatch for 'Dr. Seuss' The Grinch'. Searched API, but no exact match. First API candidate: 'Dr. Seuss' The Grinch Musical' (ID not added).\n"
          ]
        },
        {
          "output_type": "stream",
          "name": "stderr",
          "text": [
            "Fetching TMDB IDs:  10%|█         | 809/8080 [01:01<09:43, 12.47it/s]"
          ]
        },
        {
          "output_type": "stream",
          "name": "stdout",
          "text": [
            "  Title mismatch for 'The Protege'. Searched API, but no exact match. First API candidate: 'The Protégé' (ID not added).\n",
            "  Title mismatch for 'Cold Blood Legacy'. Searched API, but no exact match. First API candidate: 'Cold Blood' (ID not added).\n"
          ]
        },
        {
          "output_type": "stream",
          "name": "stderr",
          "text": [
            "Fetching TMDB IDs:  10%|█         | 827/8080 [01:03<09:18, 12.98it/s]"
          ]
        },
        {
          "output_type": "stream",
          "name": "stdout",
          "text": [
            "  No 'results' key or empty results in API response for 'Jamie Foxx: What Had Happened Was...'\n"
          ]
        },
        {
          "output_type": "stream",
          "name": "stderr",
          "text": [
            "Fetching TMDB IDs:  10%|█         | 829/8080 [01:03<09:55, 12.17it/s]"
          ]
        },
        {
          "output_type": "stream",
          "name": "stdout",
          "text": [
            "  No 'results' key or empty results in API response for 'Ronny Chieng: Love to Hate It'\n"
          ]
        },
        {
          "output_type": "stream",
          "name": "stderr",
          "text": [
            "Fetching TMDB IDs:  10%|█         | 846/8080 [01:04<08:26, 14.29it/s]"
          ]
        },
        {
          "output_type": "stream",
          "name": "stdout",
          "text": [
            "  Title mismatch for 'Mary Mother of Jesus'. Searched API, but no exact match. First API candidate: 'Mary, Mother of Jesus' (ID not added).\n",
            "  Title mismatch for 'Dr. Seuss' The Grinch'. Searched API, but no exact match. First API candidate: 'Dr. Seuss' The Grinch Musical' (ID not added).\n"
          ]
        },
        {
          "output_type": "stream",
          "name": "stderr",
          "text": [
            "Fetching TMDB IDs:  11%|█         | 865/8080 [01:06<08:20, 14.43it/s]"
          ]
        },
        {
          "output_type": "stream",
          "name": "stdout",
          "text": [
            "  No 'results' key or empty results in API response for 'Jamie Foxx: What Had Happened Was...'\n"
          ]
        },
        {
          "output_type": "stream",
          "name": "stderr",
          "text": [
            "Fetching TMDB IDs:  11%|█         | 869/8080 [01:06<09:22, 12.82it/s]"
          ]
        },
        {
          "output_type": "stream",
          "name": "stdout",
          "text": [
            "  No 'results' key or empty results in API response for 'A Nonsense Christmas with Sabrina Carpenter'\n"
          ]
        },
        {
          "output_type": "stream",
          "name": "stderr",
          "text": [
            "Fetching TMDB IDs:  11%|█         | 883/8080 [01:07<07:47, 15.40it/s]"
          ]
        },
        {
          "output_type": "stream",
          "name": "stdout",
          "text": [
            "  Title mismatch for 'Nevertheless : The Shapes of Love'. Searched API, but no exact match. First API candidate: 'Nevertheless: The Shapes of Love' (ID not added).\n",
            "  Title mismatch for 'Dr. Seuss' The Grinch'. Searched API, but no exact match. First API candidate: 'Dr. Seuss' The Grinch Musical' (ID not added).\n"
          ]
        },
        {
          "output_type": "stream",
          "name": "stderr",
          "text": [
            "Fetching TMDB IDs:  11%|█         | 885/8080 [01:07<08:25, 14.24it/s]"
          ]
        },
        {
          "output_type": "stream",
          "name": "stdout",
          "text": [
            "  Title mismatch for 'Mary Mother of Jesus'. Searched API, but no exact match. First API candidate: 'Mary, Mother of Jesus' (ID not added).\n",
            "  Title mismatch for 'Twas the Text Before Christmas'. Searched API, but no exact match. First API candidate: ''Twas the Text Before Christmas' (ID not added).\n"
          ]
        },
        {
          "output_type": "stream",
          "name": "stderr",
          "text": [
            "Fetching TMDB IDs:  11%|█▏        | 909/8080 [01:09<08:21, 14.29it/s]"
          ]
        },
        {
          "output_type": "stream",
          "name": "stdout",
          "text": [
            "  No 'results' key or empty results in API response for 'A Nonsense Christmas with Sabrina Carpenter'\n"
          ]
        },
        {
          "output_type": "stream",
          "name": "stderr",
          "text": [
            "Fetching TMDB IDs:  12%|█▏        | 933/8080 [01:10<08:56, 13.31it/s]"
          ]
        },
        {
          "output_type": "stream",
          "name": "stdout",
          "text": [
            "  Title mismatch for 'Buy Now: The Shopping Conspiracy'. Searched API, but no exact match. First API candidate: 'Buy Now! The Shopping Conspiracy' (ID not added).\n"
          ]
        },
        {
          "output_type": "stream",
          "name": "stderr",
          "text": [
            "Fetching TMDB IDs:  12%|█▏        | 937/8080 [01:11<09:29, 12.55it/s]"
          ]
        },
        {
          "output_type": "stream",
          "name": "stdout",
          "text": [
            "  Title mismatch for 'Devara'. Searched API, but no exact match. First API candidate: 'Devara: Part 1' (ID not added).\n"
          ]
        },
        {
          "output_type": "stream",
          "name": "stderr",
          "text": [
            "Fetching TMDB IDs:  12%|█▏        | 948/8080 [01:12<11:11, 10.62it/s]"
          ]
        },
        {
          "output_type": "stream",
          "name": "stdout",
          "text": [
            "  No 'results' key or empty results in API response for 'Anthony Jeselnik: Bones and All'\n"
          ]
        },
        {
          "output_type": "stream",
          "name": "stderr",
          "text": [
            "Fetching TMDB IDs:  12%|█▏        | 967/8080 [01:13<08:47, 13.48it/s]"
          ]
        },
        {
          "output_type": "stream",
          "name": "stdout",
          "text": [
            "  Title mismatch for 'Buy Now: The Shopping Conspiracy'. Searched API, but no exact match. First API candidate: 'Buy Now! The Shopping Conspiracy' (ID not added).\n"
          ]
        },
        {
          "output_type": "stream",
          "name": "stderr",
          "text": [
            "Fetching TMDB IDs:  12%|█▏        | 975/8080 [01:14<09:02, 13.09it/s]"
          ]
        },
        {
          "output_type": "stream",
          "name": "stdout",
          "text": [
            "  Title mismatch for 'Devara'. Searched API, but no exact match. First API candidate: 'Devara: Part 1' (ID not added).\n"
          ]
        },
        {
          "output_type": "stream",
          "name": "stderr",
          "text": [
            "Fetching TMDB IDs:  12%|█▏        | 991/8080 [01:15<09:49, 12.02it/s]"
          ]
        },
        {
          "output_type": "stream",
          "name": "stdout",
          "text": [
            "  Title mismatch for 'Jake Paul vs. Mike Tyson'. Searched API, but no exact match. First API candidate: 'Countdown: Paul vs. Tyson' (ID not added).\n"
          ]
        },
        {
          "output_type": "stream",
          "name": "stderr",
          "text": [
            "Fetching TMDB IDs:  13%|█▎        | 1019/8080 [01:17<09:23, 12.52it/s]"
          ]
        },
        {
          "output_type": "stream",
          "name": "stdout",
          "text": [
            "  Title mismatch for 'Devara'. Searched API, but no exact match. First API candidate: 'Devara: Part 1' (ID not added).\n"
          ]
        },
        {
          "output_type": "stream",
          "name": "stderr",
          "text": [
            "Fetching TMDB IDs:  13%|█▎        | 1024/8080 [01:17<08:05, 14.53it/s]"
          ]
        },
        {
          "output_type": "stream",
          "name": "stdout",
          "text": [
            "  Title mismatch for 'Jake Paul vs. Mike Tyson'. Searched API, but no exact match. First API candidate: 'Countdown: Paul vs. Tyson' (ID not added).\n"
          ]
        },
        {
          "output_type": "stream",
          "name": "stderr",
          "text": [
            "Fetching TMDB IDs:  13%|█▎        | 1057/8080 [01:20<07:52, 14.87it/s]"
          ]
        },
        {
          "output_type": "stream",
          "name": "stdout",
          "text": [
            "  Title mismatch for 'Devara'. Searched API, but no exact match. First API candidate: 'Devara: Part 1' (ID not added).\n"
          ]
        },
        {
          "output_type": "stream",
          "name": "stderr",
          "text": [
            "Fetching TMDB IDs:  13%|█▎        | 1076/8080 [01:21<08:14, 14.16it/s]"
          ]
        },
        {
          "output_type": "stream",
          "name": "stdout",
          "text": [
            "  Title mismatch for 'Don’t Come Home'. Searched API, but no exact match. First API candidate: 'Don't Come Home' (ID not added).\n"
          ]
        },
        {
          "output_type": "stream",
          "name": "stderr",
          "text": [
            "Fetching TMDB IDs:  14%|█▍        | 1112/8080 [01:24<08:28, 13.71it/s]"
          ]
        },
        {
          "output_type": "stream",
          "name": "stdout",
          "text": [
            "  Title mismatch for 'My Wife My Abuser: Captured On Camera'. Searched API, but no exact match. First API candidate: 'My Wife, My Abuser: Captured on Camera' (ID not added).\n"
          ]
        },
        {
          "output_type": "stream",
          "name": "stderr",
          "text": [
            "Fetching TMDB IDs:  14%|█▍        | 1114/8080 [01:24<09:05, 12.76it/s]"
          ]
        },
        {
          "output_type": "stream",
          "name": "stdout",
          "text": [
            "  Title mismatch for 'Don’t Come Home'. Searched API, but no exact match. First API candidate: 'Don't Come Home' (ID not added).\n"
          ]
        },
        {
          "output_type": "stream",
          "name": "stderr",
          "text": [
            "Fetching TMDB IDs:  15%|█▍        | 1172/8080 [01:28<08:04, 14.26it/s]"
          ]
        },
        {
          "output_type": "stream",
          "name": "stdout",
          "text": [
            "  Title mismatch for 'Jurassic World: Dominion'. Searched API, but no exact match. First API candidate: 'Jurassic World Dominion' (ID not added).\n"
          ]
        },
        {
          "output_type": "stream",
          "name": "stderr",
          "text": [
            "Fetching TMDB IDs:  15%|█▌        | 1219/8080 [01:32<08:58, 12.73it/s]"
          ]
        },
        {
          "output_type": "stream",
          "name": "stdout",
          "text": [
            "  Title mismatch for 'GOAT - The Greatest of All Time'. Searched API, but no exact match. First API candidate: 'G.O.A.T ~Greatest Of All Time~' (ID not added).\n"
          ]
        },
        {
          "output_type": "stream",
          "name": "stderr",
          "text": [
            "Fetching TMDB IDs:  15%|█▌        | 1228/8080 [01:32<08:28, 13.48it/s]"
          ]
        },
        {
          "output_type": "stream",
          "name": "stdout",
          "text": [
            "  No 'results' key or empty results in API response for 'Ali Wong: Single Lady'\n"
          ]
        },
        {
          "output_type": "stream",
          "name": "stderr",
          "text": [
            "Fetching TMDB IDs:  16%|█▌        | 1255/8080 [01:34<08:17, 13.73it/s]"
          ]
        },
        {
          "output_type": "stream",
          "name": "stdout",
          "text": [
            "  Title mismatch for 'GOAT - The Greatest of All Time'. Searched API, but no exact match. First API candidate: 'G.O.A.T ~Greatest Of All Time~' (ID not added).\n"
          ]
        },
        {
          "output_type": "stream",
          "name": "stderr",
          "text": [
            "Fetching TMDB IDs:  16%|█▌        | 1312/8080 [01:39<07:23, 15.25it/s]"
          ]
        },
        {
          "output_type": "stream",
          "name": "stdout",
          "text": [
            "  No 'results' key or empty results in API response for 'Ellen DeGeneres: For Your Approval'\n"
          ]
        },
        {
          "output_type": "stream",
          "name": "stderr",
          "text": [
            "Fetching TMDB IDs:  16%|█▋        | 1325/8080 [01:39<08:14, 13.65it/s]"
          ]
        },
        {
          "output_type": "stream",
          "name": "stdout",
          "text": [
            "  No 'results' key or empty results in API response for 'Into the Fire: The Lost Daughter'\n"
          ]
        },
        {
          "output_type": "stream",
          "name": "stderr",
          "text": [
            "Fetching TMDB IDs:  17%|█▋        | 1365/8080 [01:42<08:15, 13.54it/s]"
          ]
        },
        {
          "output_type": "stream",
          "name": "stdout",
          "text": [
            "  No 'results' key or empty results in API response for 'Into the Fire: The Lost Daughter'\n"
          ]
        },
        {
          "output_type": "stream",
          "name": "stderr",
          "text": [
            "Fetching TMDB IDs:  17%|█▋        | 1381/8080 [01:44<08:52, 12.59it/s]"
          ]
        },
        {
          "output_type": "stream",
          "name": "stdout",
          "text": [
            "  Title mismatch for 'Mr. Bachchan'. Searched API, but no exact match. First API candidate: 'Mr Bachchan' (ID not added).\n"
          ]
        },
        {
          "output_type": "stream",
          "name": "stderr",
          "text": [
            "Fetching TMDB IDs:  17%|█▋        | 1413/8080 [01:46<08:47, 12.63it/s]"
          ]
        },
        {
          "output_type": "stream",
          "name": "stdout",
          "text": [
            "  Title mismatch for 'Sheriff: Narko Integriti'. Searched API, but no exact match. First API candidate: 'Sheriff' (ID not added).\n"
          ]
        },
        {
          "output_type": "stream",
          "name": "stderr",
          "text": [
            "Fetching TMDB IDs:  18%|█▊        | 1417/8080 [01:46<09:21, 11.87it/s]"
          ]
        },
        {
          "output_type": "stream",
          "name": "stdout",
          "text": [
            "  Title mismatch for 'Kalki 2898 AD (Hindi)'. Searched API, but no exact match. First API candidate: 'Kalki 2898-AD' (ID not added).\n",
            "  Title mismatch for '#LadyRancho'. Searched API, but no exact match. First API candidate: 'Lady Rancho' (ID not added).\n"
          ]
        },
        {
          "output_type": "stream",
          "name": "stderr",
          "text": [
            "Fetching TMDB IDs:  18%|█▊        | 1452/8080 [01:49<09:01, 12.24it/s]"
          ]
        },
        {
          "output_type": "stream",
          "name": "stdout",
          "text": [
            "  Title mismatch for 'Kalki 2898 AD (Hindi)'. Searched API, but no exact match. First API candidate: 'Kalki 2898-AD' (ID not added).\n"
          ]
        },
        {
          "output_type": "stream",
          "name": "stderr",
          "text": [
            "Fetching TMDB IDs:  18%|█▊        | 1458/8080 [01:49<08:23, 13.16it/s]"
          ]
        },
        {
          "output_type": "stream",
          "name": "stdout",
          "text": [
            "  Title mismatch for 'Sheriff: Narko Integriti'. Searched API, but no exact match. First API candidate: 'Sheriff' (ID not added).\n"
          ]
        },
        {
          "output_type": "stream",
          "name": "stderr",
          "text": [
            "Fetching TMDB IDs:  18%|█▊        | 1467/8080 [01:50<07:46, 14.19it/s]"
          ]
        },
        {
          "output_type": "stream",
          "name": "stdout",
          "text": [
            "  No 'results' key or empty results in API response for 'Adam Sandler: Love You'\n"
          ]
        },
        {
          "output_type": "stream",
          "name": "stderr",
          "text": [
            "Fetching TMDB IDs:  18%|█▊        | 1493/8080 [01:52<09:13, 11.90it/s]"
          ]
        },
        {
          "output_type": "stream",
          "name": "stdout",
          "text": [
            "  Title mismatch for 'Kalki 2898 AD (Hindi)'. Searched API, but no exact match. First API candidate: 'Kalki 2898-AD' (ID not added).\n"
          ]
        },
        {
          "output_type": "stream",
          "name": "stderr",
          "text": [
            "Fetching TMDB IDs:  19%|█▊        | 1501/8080 [01:53<08:48, 12.44it/s]"
          ]
        },
        {
          "output_type": "stream",
          "name": "stdout",
          "text": [
            "  Title mismatch for 'Indian 2'. Searched API, but no exact match. First API candidate: 'Indian 2: Zero Tolerance' (ID not added).\n",
            "  Title mismatch for 'Pretty Guardian Sailor Moon Cosmos The Movie'. Searched API, but no exact match. First API candidate: 'Pretty Guardian Sailor Moon Cosmos the Movie Part 1' (ID not added).\n"
          ]
        },
        {
          "output_type": "stream",
          "name": "stderr",
          "text": [
            "Fetching TMDB IDs:  19%|█▊        | 1513/8080 [01:53<07:44, 14.12it/s]"
          ]
        },
        {
          "output_type": "stream",
          "name": "stdout",
          "text": [
            "  No 'results' key or empty results in API response for 'Matt Rife: Lucid - A Crowd Work Special'\n"
          ]
        },
        {
          "output_type": "stream",
          "name": "stderr",
          "text": [
            "Fetching TMDB IDs:  19%|█▉        | 1537/8080 [01:55<07:41, 14.17it/s]"
          ]
        },
        {
          "output_type": "stream",
          "name": "stdout",
          "text": [
            "  Title mismatch for 'Indian 2'. Searched API, but no exact match. First API candidate: 'Indian 2: Zero Tolerance' (ID not added).\n"
          ]
        },
        {
          "output_type": "stream",
          "name": "stderr",
          "text": [
            "Fetching TMDB IDs:  19%|█▉        | 1541/8080 [01:56<08:01, 13.57it/s]"
          ]
        },
        {
          "output_type": "stream",
          "name": "stdout",
          "text": [
            "  Title mismatch for 'Dancing Village : The Curse Begins'. Searched API, but no exact match. First API candidate: 'Dancing Village: The Curse Begins' (ID not added).\n"
          ]
        },
        {
          "output_type": "stream",
          "name": "stderr",
          "text": [
            "Fetching TMDB IDs:  19%|█▉        | 1546/8080 [01:56<07:26, 14.65it/s]"
          ]
        },
        {
          "output_type": "stream",
          "name": "stdout",
          "text": [
            "  No 'results' key or empty results in API response for 'Matt Rife: Lucid - A Crowd Work Special'\n"
          ]
        },
        {
          "output_type": "stream",
          "name": "stderr",
          "text": [
            "Fetching TMDB IDs:  20%|█▉        | 1579/8080 [01:58<07:18, 14.83it/s]"
          ]
        },
        {
          "output_type": "stream",
          "name": "stdout",
          "text": [
            "  Title mismatch for 'Indian 2'. Searched API, but no exact match. First API candidate: 'Indian 2: Zero Tolerance' (ID not added).\n"
          ]
        },
        {
          "output_type": "stream",
          "name": "stderr",
          "text": [
            "Fetching TMDB IDs:  20%|█▉        | 1581/8080 [01:58<08:05, 13.37it/s]"
          ]
        },
        {
          "output_type": "stream",
          "name": "stdout",
          "text": [
            "  Title mismatch for 'Savi'. Searched API, but no exact match. First API candidate: 'Roberto Saviano: Writing Under Police Protection' (ID not added).\n"
          ]
        },
        {
          "output_type": "stream",
          "name": "stderr",
          "text": [
            "Fetching TMDB IDs:  20%|█▉        | 1587/8080 [01:59<07:15, 14.92it/s]"
          ]
        },
        {
          "output_type": "stream",
          "name": "stdout",
          "text": [
            "  No 'results' key or empty results in API response for 'Joe Rogan: Burn the Boats'\n"
          ]
        },
        {
          "output_type": "stream",
          "name": "stderr",
          "text": [
            "Fetching TMDB IDs:  20%|█▉        | 1615/8080 [02:01<08:06, 13.30it/s]"
          ]
        },
        {
          "output_type": "stream",
          "name": "stdout",
          "text": [
            "  Title mismatch for 'Savi'. Searched API, but no exact match. First API candidate: 'Roberto Saviano: Writing Under Police Protection' (ID not added).\n"
          ]
        },
        {
          "output_type": "stream",
          "name": "stderr",
          "text": [
            "Fetching TMDB IDs:  20%|██        | 1628/8080 [02:02<07:49, 13.74it/s]"
          ]
        },
        {
          "output_type": "stream",
          "name": "stdout",
          "text": [
            "  No 'results' key or empty results in API response for 'Joe Rogan: Burn the Boats'\n"
          ]
        },
        {
          "output_type": "stream",
          "name": "stderr",
          "text": [
            "Fetching TMDB IDs:  21%|██        | 1658/8080 [02:04<07:35, 14.09it/s]"
          ]
        },
        {
          "output_type": "stream",
          "name": "stdout",
          "text": [
            "  Title mismatch for 'Savi'. Searched API, but no exact match. First API candidate: 'Roberto Saviano: Writing Under Police Protection' (ID not added).\n"
          ]
        },
        {
          "output_type": "stream",
          "name": "stderr",
          "text": [
            "Fetching TMDB IDs:  22%|██▏       | 1748/8080 [02:10<08:14, 12.80it/s]"
          ]
        },
        {
          "output_type": "stream",
          "name": "stdout",
          "text": [
            "  No 'results' key or empty results in API response for 'Hannah Berner: We Ride at Dawn'\n"
          ]
        },
        {
          "output_type": "stream",
          "name": "stderr",
          "text": [
            "Fetching TMDB IDs:  22%|██▏       | 1758/8080 [02:11<08:46, 12.01it/s]"
          ]
        },
        {
          "output_type": "stream",
          "name": "stdout",
          "text": [
            "  Title mismatch for '【OSHI NO KO】'. Searched API, but no exact match. First API candidate: 'Oshi No Ko' (ID not added).\n"
          ]
        },
        {
          "output_type": "stream",
          "name": "stderr",
          "text": [
            "Fetching TMDB IDs:  22%|██▏       | 1768/8080 [02:12<08:05, 13.00it/s]"
          ]
        },
        {
          "output_type": "stream",
          "name": "stdout",
          "text": [
            "  Title mismatch for 'Miraculous World: Shanghai, The Legend of LadyDragon'. Searched API, but no exact match. First API candidate: 'Miraculous World: Shanghai - The Legend of Ladydragon' (ID not added).\n"
          ]
        },
        {
          "output_type": "stream",
          "name": "stderr",
          "text": [
            "Fetching TMDB IDs:  22%|██▏       | 1800/8080 [02:14<07:09, 14.61it/s]"
          ]
        },
        {
          "output_type": "stream",
          "name": "stdout",
          "text": [
            "  Title mismatch for 'The Turkish Passion'. Searched API, but no exact match. First API candidate: 'La Pasión Turca' (ID not added).\n"
          ]
        },
        {
          "output_type": "stream",
          "name": "stderr",
          "text": [
            "Fetching TMDB IDs:  23%|██▎       | 1846/8080 [02:17<07:33, 13.75it/s]"
          ]
        },
        {
          "output_type": "stream",
          "name": "stdout",
          "text": [
            "  Title mismatch for 'Mission: Impossible - Dead Reckoning'. Searched API, but no exact match. First API candidate: 'Mission: Impossible - Dead Reckoning Part One' (ID not added).\n"
          ]
        },
        {
          "output_type": "stream",
          "name": "stderr",
          "text": [
            "Fetching TMDB IDs:  23%|██▎       | 1855/8080 [02:18<08:12, 12.64it/s]"
          ]
        },
        {
          "output_type": "stream",
          "name": "stdout",
          "text": [
            "  Title mismatch for 'Cuando acecha la maldad'. Searched API, but no exact match. First API candidate: 'When Evil Lurks' (ID not added).\n"
          ]
        },
        {
          "output_type": "stream",
          "name": "stderr",
          "text": [
            "Fetching TMDB IDs:  23%|██▎       | 1883/8080 [02:20<07:33, 13.66it/s]"
          ]
        },
        {
          "output_type": "stream",
          "name": "stdout",
          "text": [
            "  Title mismatch for 'Mission: Impossible - Dead Reckoning'. Searched API, but no exact match. First API candidate: 'Mission: Impossible - Dead Reckoning Part One' (ID not added).\n"
          ]
        },
        {
          "output_type": "stream",
          "name": "stderr",
          "text": [
            "Fetching TMDB IDs:  23%|██▎       | 1897/8080 [02:21<07:38, 13.49it/s]"
          ]
        },
        {
          "output_type": "stream",
          "name": "stdout",
          "text": [
            "  Title mismatch for 'Cuando acecha la maldad'. Searched API, but no exact match. First API candidate: 'When Evil Lurks' (ID not added).\n"
          ]
        },
        {
          "output_type": "stream",
          "name": "stderr",
          "text": [
            "Fetching TMDB IDs:  24%|██▍       | 1951/8080 [02:25<06:28, 15.77it/s]"
          ]
        },
        {
          "output_type": "stream",
          "name": "stdout",
          "text": [
            "  No 'results' key or empty results in API response for 'Jo Koy: Live from Brooklyn'\n"
          ]
        },
        {
          "output_type": "stream",
          "name": "stderr",
          "text": [
            "Fetching TMDB IDs:  24%|██▍       | 1959/8080 [02:26<08:10, 12.47it/s]"
          ]
        },
        {
          "output_type": "stream",
          "name": "stdout",
          "text": [
            "  Title mismatch for 'Hell's Paradise: Jigokuraku'. Searched API, but no exact match. First API candidate: 'Hell's Paradise' (ID not added).\n"
          ]
        },
        {
          "output_type": "stream",
          "name": "stderr",
          "text": [
            "Fetching TMDB IDs:  25%|██▍       | 1981/8080 [02:28<07:32, 13.48it/s]"
          ]
        },
        {
          "output_type": "stream",
          "name": "stdout",
          "text": [
            "  Title mismatch for 'Laapataa Ladies'. Searched API, but no exact match. First API candidate: 'Lost Ladies' (ID not added).\n"
          ]
        },
        {
          "output_type": "stream",
          "name": "stderr",
          "text": [
            "Fetching TMDB IDs:  25%|██▍       | 1998/8080 [02:29<06:48, 14.88it/s]"
          ]
        },
        {
          "output_type": "stream",
          "name": "stdout",
          "text": [
            "  No 'results' key or empty results in API response for 'Franco Escamilla: Ladies' man'\n"
          ]
        },
        {
          "output_type": "stream",
          "name": "stderr",
          "text": [
            "Fetching TMDB IDs:  25%|██▍       | 2018/8080 [02:30<07:55, 12.74it/s]"
          ]
        },
        {
          "output_type": "stream",
          "name": "stdout",
          "text": [
            "  Title mismatch for 'Laapataa Ladies'. Searched API, but no exact match. First API candidate: 'Lost Ladies' (ID not added).\n"
          ]
        },
        {
          "output_type": "stream",
          "name": "stderr",
          "text": [
            "Fetching TMDB IDs:  25%|██▌       | 2020/8080 [02:30<08:26, 11.96it/s]"
          ]
        },
        {
          "output_type": "stream",
          "name": "stdout",
          "text": [
            "  Title mismatch for '4 Kings 2'. Searched API, but no exact match. First API candidate: '4 Kings II' (ID not added).\n"
          ]
        },
        {
          "output_type": "stream",
          "name": "stderr",
          "text": [
            "Fetching TMDB IDs:  25%|██▌       | 2036/8080 [02:31<06:29, 15.52it/s]"
          ]
        },
        {
          "output_type": "stream",
          "name": "stdout",
          "text": [
            "  No 'results' key or empty results in API response for 'Franco Escamilla: Ladies' man'\n"
          ]
        },
        {
          "output_type": "stream",
          "name": "stderr",
          "text": [
            "Fetching TMDB IDs:  25%|██▌       | 2038/8080 [02:31<06:42, 15.01it/s]"
          ]
        },
        {
          "output_type": "stream",
          "name": "stdout",
          "text": [
            "  Title mismatch for 'Heeramandi: The Diamond Bazaar'. Searched API, but no exact match. First API candidate: 'Heeramandi' (ID not added).\n"
          ]
        },
        {
          "output_type": "stream",
          "name": "stderr",
          "text": [
            "Fetching TMDB IDs:  25%|██▌       | 2057/8080 [02:33<08:31, 11.77it/s]"
          ]
        },
        {
          "output_type": "stream",
          "name": "stdout",
          "text": [
            "  Title mismatch for 'Laapataa Ladies'. Searched API, but no exact match. First API candidate: 'Lost Ladies' (ID not added).\n"
          ]
        },
        {
          "output_type": "stream",
          "name": "stderr",
          "text": []
        },
        {
          "output_type": "stream",
          "name": "stdout",
          "text": [
            "  No 'results' key or empty results in API response for 'Kevin Hart: The Kennedy Center Mark Twain Prize for American Humor'\n"
          ]
        },
        {
          "output_type": "stream",
          "name": "stderr",
          "text": [
            "Fetching TMDB IDs:  26%|██▌       | 2069/8080 [02:34<08:08, 12.31it/s]"
          ]
        },
        {
          "output_type": "stream",
          "name": "stdout",
          "text": [
            "  No 'results' key or empty results in API response for 'The Roast of Tom Brady'\n"
          ]
        },
        {
          "output_type": "stream",
          "name": "stderr",
          "text": [
            "Fetching TMDB IDs:  26%|██▌       | 2078/8080 [02:35<06:16, 15.95it/s]"
          ]
        },
        {
          "output_type": "stream",
          "name": "stdout",
          "text": [
            "  Title mismatch for 'Heeramandi: The Diamond Bazaar'. Searched API, but no exact match. First API candidate: 'Heeramandi' (ID not added).\n"
          ]
        },
        {
          "output_type": "stream",
          "name": "stderr",
          "text": [
            "Fetching TMDB IDs:  26%|██▌       | 2082/8080 [02:35<06:41, 14.93it/s]"
          ]
        },
        {
          "output_type": "stream",
          "name": "stdout",
          "text": [
            "  Title mismatch for 'Dr.STONE'. Searched API, but no exact match. First API candidate: 'Dr. STONE' (ID not added).\n"
          ]
        },
        {
          "output_type": "stream",
          "name": "stderr",
          "text": [
            "Fetching TMDB IDs:  26%|██▌       | 2095/8080 [02:36<07:17, 13.69it/s]"
          ]
        },
        {
          "output_type": "stream",
          "name": "stdout",
          "text": [
            "  Title mismatch for 'Laapataa Ladies'. Searched API, but no exact match. First API candidate: 'Lost Ladies' (ID not added).\n"
          ]
        },
        {
          "output_type": "stream",
          "name": "stderr",
          "text": [
            "Fetching TMDB IDs:  26%|██▌       | 2103/8080 [02:36<07:27, 13.36it/s]"
          ]
        },
        {
          "output_type": "stream",
          "name": "stdout",
          "text": [
            "  No 'results' key or empty results in API response for 'The Roast of Tom Brady'\n"
          ]
        },
        {
          "output_type": "stream",
          "name": "stderr",
          "text": [
            "Fetching TMDB IDs:  26%|██▌       | 2105/8080 [02:37<07:23, 13.48it/s]"
          ]
        },
        {
          "output_type": "stream",
          "name": "stdout",
          "text": [
            "  No 'results' key or empty results in API response for 'Katt Williams: Woke Foke'\n"
          ]
        },
        {
          "output_type": "stream",
          "name": "stderr",
          "text": [
            "Fetching TMDB IDs:  26%|██▌       | 2115/8080 [02:37<06:09, 16.12it/s]"
          ]
        },
        {
          "output_type": "stream",
          "name": "stdout",
          "text": [
            "  Title mismatch for 'Heeramandi: The Diamond Bazaar'. Searched API, but no exact match. First API candidate: 'Heeramandi' (ID not added).\n"
          ]
        },
        {
          "output_type": "stream",
          "name": "stderr",
          "text": [
            "Fetching TMDB IDs:  26%|██▋       | 2125/8080 [02:38<07:43, 12.84it/s]"
          ]
        },
        {
          "output_type": "stream",
          "name": "stdout",
          "text": [
            "  Title mismatch for 'Rebel Moon — Part Two: The Scargiver'. Searched API, but no exact match. First API candidate: 'Rebel Moon - Part Two: The Scargiver' (ID not added).\n"
          ]
        },
        {
          "output_type": "stream",
          "name": "stderr",
          "text": [
            "Fetching TMDB IDs:  26%|██▋       | 2135/8080 [02:39<06:32, 15.16it/s]"
          ]
        },
        {
          "output_type": "stream",
          "name": "stdout",
          "text": [
            "  Title mismatch for 'Laapataa Ladies'. Searched API, but no exact match. First API candidate: 'Lost Ladies' (ID not added).\n"
          ]
        },
        {
          "output_type": "stream",
          "name": "stderr",
          "text": [
            "Fetching TMDB IDs:  26%|██▋       | 2137/8080 [02:39<07:26, 13.31it/s]"
          ]
        },
        {
          "output_type": "stream",
          "name": "stdout",
          "text": [
            "  Title mismatch for 'Jujutsu Kaisen 0: The Movie'. Searched API, but no exact match. First API candidate: 'Jujutsu Kaisen 0' (ID not added).\n"
          ]
        },
        {
          "output_type": "stream",
          "name": "stderr",
          "text": [
            "Fetching TMDB IDs:  27%|██▋       | 2143/8080 [02:39<07:16, 13.59it/s]"
          ]
        },
        {
          "output_type": "stream",
          "name": "stdout",
          "text": [
            "  Title mismatch for 'Tillu Square'. Searched API, but no exact match. First API candidate: '(Tillu)²' (ID not added).\n"
          ]
        },
        {
          "output_type": "stream",
          "name": "stderr",
          "text": [
            "Fetching TMDB IDs:  27%|██▋       | 2145/8080 [02:40<08:15, 11.98it/s]"
          ]
        },
        {
          "output_type": "stream",
          "name": "stdout",
          "text": [
            "  No 'results' key or empty results in API response for 'Katt Williams: Woke Foke'\n",
            "  No 'results' key or empty results in API response for 'The Roast of Tom Brady'\n"
          ]
        },
        {
          "output_type": "stream",
          "name": "stderr",
          "text": [
            "Fetching TMDB IDs:  27%|██▋       | 2153/8080 [02:40<07:13, 13.68it/s]"
          ]
        },
        {
          "output_type": "stream",
          "name": "stdout",
          "text": [
            "  Title mismatch for 'Heeramandi: The Diamond Bazaar'. Searched API, but no exact match. First API candidate: 'Heeramandi' (ID not added).\n"
          ]
        },
        {
          "output_type": "stream",
          "name": "stderr",
          "text": [
            "Fetching TMDB IDs:  27%|██▋       | 2163/8080 [02:41<06:56, 14.20it/s]"
          ]
        },
        {
          "output_type": "stream",
          "name": "stdout",
          "text": [
            "  Title mismatch for 'Rebel Moon — Part Two: The Scargiver'. Searched API, but no exact match. First API candidate: 'Rebel Moon - Part Two: The Scargiver' (ID not added).\n"
          ]
        },
        {
          "output_type": "stream",
          "name": "stderr",
          "text": [
            "Fetching TMDB IDs:  27%|██▋       | 2165/8080 [02:41<07:50, 12.58it/s]"
          ]
        },
        {
          "output_type": "stream",
          "name": "stdout",
          "text": [
            "  Title mismatch for 'Rebel Moon — Part One: A Child of Fire'. Searched API, but no exact match. First API candidate: 'Rebel Moon - Part One: A Child of Fire' (ID not added).\n"
          ]
        },
        {
          "output_type": "stream",
          "name": "stderr",
          "text": [
            "Fetching TMDB IDs:  27%|██▋       | 2177/8080 [02:42<07:17, 13.51it/s]"
          ]
        },
        {
          "output_type": "stream",
          "name": "stdout",
          "text": [
            "  Title mismatch for 'Laapataa Ladies'. Searched API, but no exact match. First API candidate: 'Lost Ladies' (ID not added).\n"
          ]
        },
        {
          "output_type": "stream",
          "name": "stderr",
          "text": [
            "Fetching TMDB IDs:  27%|██▋       | 2203/8080 [02:44<07:11, 13.62it/s]"
          ]
        },
        {
          "output_type": "stream",
          "name": "stdout",
          "text": [
            "  Title mismatch for 'Rebel Moon — Part Two: The Scargiver'. Searched API, but no exact match. First API candidate: 'Rebel Moon - Part Two: The Scargiver' (ID not added).\n"
          ]
        },
        {
          "output_type": "stream",
          "name": "stderr",
          "text": [
            "Fetching TMDB IDs:  27%|██▋       | 2207/8080 [02:44<07:45, 12.62it/s]"
          ]
        },
        {
          "output_type": "stream",
          "name": "stdout",
          "text": [
            "  Title mismatch for 'Rebel Moon — Part One: A Child of Fire'. Searched API, but no exact match. First API candidate: 'Rebel Moon - Part One: A Child of Fire' (ID not added).\n"
          ]
        },
        {
          "output_type": "stream",
          "name": "stderr",
          "text": [
            "Fetching TMDB IDs:  28%|██▊       | 2229/8080 [02:46<07:05, 13.77it/s]"
          ]
        },
        {
          "output_type": "stream",
          "name": "stdout",
          "text": [
            "  No 'results' key or empty results in API response for 'Jimmy Carr: Natural Born Killer'\n"
          ]
        },
        {
          "output_type": "stream",
          "name": "stderr",
          "text": [
            "Fetching TMDB IDs:  29%|██▊       | 2303/8080 [02:52<07:05, 13.58it/s]"
          ]
        },
        {
          "output_type": "stream",
          "name": "stdout",
          "text": [
            "  No 'results' key or empty results in API response for 'A Dangerous Practice'\n"
          ]
        },
        {
          "output_type": "stream",
          "name": "stderr",
          "text": [
            "Fetching TMDB IDs:  29%|██▉       | 2329/8080 [02:54<08:31, 11.25it/s]"
          ]
        },
        {
          "output_type": "stream",
          "name": "stdout",
          "text": [
            "  Title mismatch for 'Peter Rabbit 2'. Searched API, but no exact match. First API candidate: 'Peter Rabbit 2: The Runaway' (ID not added).\n"
          ]
        },
        {
          "output_type": "stream",
          "name": "stderr",
          "text": [
            "Fetching TMDB IDs:  29%|██▉       | 2337/8080 [02:54<08:10, 11.71it/s]"
          ]
        },
        {
          "output_type": "stream",
          "name": "stdout",
          "text": [
            "  Title mismatch for 'Cat & Dog'. Searched API, but no exact match. First API candidate: 'Dog and Cat' (ID not added).\n"
          ]
        },
        {
          "output_type": "stream",
          "name": "stderr",
          "text": [
            "Fetching TMDB IDs:  29%|██▉       | 2341/8080 [02:55<07:57, 12.02it/s]"
          ]
        },
        {
          "output_type": "stream",
          "name": "stdout",
          "text": [
            "  Title mismatch for 'El paseo 7'. Searched API, but no exact match. First API candidate: 'The Trip 7' (ID not added).\n"
          ]
        },
        {
          "output_type": "stream",
          "name": "stderr",
          "text": [
            "Fetching TMDB IDs:  29%|██▉       | 2351/8080 [02:55<07:50, 12.17it/s]"
          ]
        },
        {
          "output_type": "stream",
          "name": "stdout",
          "text": [
            "  No 'results' key or empty results in API response for 'Dave Attell: Hot Cross Buns'\n"
          ]
        },
        {
          "output_type": "stream",
          "name": "stderr",
          "text": [
            "Fetching TMDB IDs:  29%|██▉       | 2366/8080 [02:57<07:36, 12.51it/s]"
          ]
        },
        {
          "output_type": "stream",
          "name": "stdout",
          "text": [
            "  Title mismatch for 'Ford v. Ferrari'. Searched API, but no exact match. First API candidate: 'Ford v Ferrari' (ID not added).\n"
          ]
        },
        {
          "output_type": "stream",
          "name": "stderr",
          "text": [
            "Fetching TMDB IDs:  29%|██▉       | 2372/8080 [02:57<08:14, 11.54it/s]"
          ]
        },
        {
          "output_type": "stream",
          "name": "stdout",
          "text": [
            "  Title mismatch for 'Cat & Dog'. Searched API, but no exact match. First API candidate: 'Dog and Cat' (ID not added).\n"
          ]
        },
        {
          "output_type": "stream",
          "name": "stderr",
          "text": [
            "Fetching TMDB IDs:  30%|██▉       | 2389/8080 [02:58<07:19, 12.95it/s]"
          ]
        },
        {
          "output_type": "stream",
          "name": "stdout",
          "text": [
            "  Title mismatch for 'The Program: Cons, Cults and Kidnapping'. Searched API, but no exact match. First API candidate: 'The Program: Cons, Cults, and Kidnapping' (ID not added).\n"
          ]
        },
        {
          "output_type": "stream",
          "name": "stderr",
          "text": [
            "Fetching TMDB IDs:  30%|██▉       | 2409/8080 [03:00<08:43, 10.83it/s]"
          ]
        },
        {
          "output_type": "stream",
          "name": "stdout",
          "text": [
            "  Title mismatch for 'Ford v. Ferrari'. Searched API, but no exact match. First API candidate: 'Ford v Ferrari' (ID not added).\n"
          ]
        },
        {
          "output_type": "stream",
          "name": "stderr",
          "text": [
            "Fetching TMDB IDs:  30%|██▉       | 2413/8080 [03:00<08:11, 11.54it/s]"
          ]
        },
        {
          "output_type": "stream",
          "name": "stdout",
          "text": [
            "  Title mismatch for 'Cat & Dog'. Searched API, but no exact match. First API candidate: 'Dog and Cat' (ID not added).\n"
          ]
        },
        {
          "output_type": "stream",
          "name": "stderr",
          "text": [
            "Fetching TMDB IDs:  30%|██▉       | 2417/8080 [03:01<10:13,  9.24it/s]"
          ]
        },
        {
          "output_type": "stream",
          "name": "stdout",
          "text": [
            "  No 'results' key or empty results in API response for 'Merry Christmas (Hindi)'\n"
          ]
        },
        {
          "output_type": "stream",
          "name": "stderr",
          "text": [
            "Fetching TMDB IDs:  30%|███       | 2426/8080 [03:01<06:53, 13.69it/s]"
          ]
        },
        {
          "output_type": "stream",
          "name": "stdout",
          "text": [
            "  Title mismatch for 'The Program: Cons, Cults and Kidnapping'. Searched API, but no exact match. First API candidate: 'The Program: Cons, Cults, and Kidnapping' (ID not added).\n"
          ]
        },
        {
          "output_type": "stream",
          "name": "stderr",
          "text": [
            "Fetching TMDB IDs:  30%|███       | 2430/8080 [03:02<08:02, 11.71it/s]"
          ]
        },
        {
          "output_type": "stream",
          "name": "stdout",
          "text": [
            "  No 'results' key or empty results in API response for 'Steve Treviño: Simple Man'\n"
          ]
        },
        {
          "output_type": "stream",
          "name": "stderr",
          "text": [
            "Fetching TMDB IDs:  30%|███       | 2449/8080 [03:03<05:49, 16.12it/s]"
          ]
        },
        {
          "output_type": "stream",
          "name": "stdout",
          "text": [
            "  Title mismatch for 'Dr. Seuss' The Grinch'. Searched API, but no exact match. First API candidate: 'Dr. Seuss' The Grinch Musical' (ID not added).\n"
          ]
        },
        {
          "output_type": "stream",
          "name": "stderr",
          "text": [
            "Fetching TMDB IDs:  30%|███       | 2461/8080 [03:04<06:51, 13.67it/s]"
          ]
        },
        {
          "output_type": "stream",
          "name": "stdout",
          "text": [
            "  No 'results' key or empty results in API response for 'Merry Christmas (Hindi)'\n"
          ]
        },
        {
          "output_type": "stream",
          "name": "stderr",
          "text": [
            "Fetching TMDB IDs:  30%|███       | 2464/8080 [03:04<05:59, 15.61it/s]"
          ]
        },
        {
          "output_type": "stream",
          "name": "stdout",
          "text": [
            "  Title mismatch for 'The Program: Cons, Cults and Kidnapping'. Searched API, but no exact match. First API candidate: 'The Program: Cons, Cults, and Kidnapping' (ID not added).\n"
          ]
        },
        {
          "output_type": "stream",
          "name": "stderr",
          "text": [
            "Fetching TMDB IDs:  31%|███       | 2496/8080 [03:06<07:07, 13.05it/s]"
          ]
        },
        {
          "output_type": "stream",
          "name": "stdout",
          "text": [
            "  Title mismatch for 'Through My Window 2: Across the Sea'. Searched API, but no exact match. First API candidate: 'Through My Window: Across the Sea' (ID not added).\n",
            "  Title mismatch for 'There Is a What-If'. Searched API, but no exact match. First API candidate: 'What?' (ID not added).\n"
          ]
        },
        {
          "output_type": "stream",
          "name": "stderr",
          "text": [
            "Fetching TMDB IDs:  31%|███       | 2502/8080 [03:07<06:37, 14.03it/s]"
          ]
        },
        {
          "output_type": "stream",
          "name": "stdout",
          "text": [
            "  Title mismatch for 'Como si fuera la primera vez'. Searched API, but no exact match. First API candidate: 'As If It Were the First Time' (ID not added).\n"
          ]
        },
        {
          "output_type": "stream",
          "name": "stderr",
          "text": [
            "Fetching TMDB IDs:  31%|███▏      | 2540/8080 [03:10<09:19,  9.90it/s]"
          ]
        },
        {
          "output_type": "stream",
          "name": "stdout",
          "text": [
            "  Title mismatch for 'Through My Window 2: Across the Sea'. Searched API, but no exact match. First API candidate: 'Through My Window: Across the Sea' (ID not added).\n"
          ]
        },
        {
          "output_type": "stream",
          "name": "stderr",
          "text": [
            "Fetching TMDB IDs:  32%|███▏      | 2550/8080 [03:10<06:36, 13.95it/s]"
          ]
        },
        {
          "output_type": "stream",
          "name": "stdout",
          "text": [
            "  No 'results' key or empty results in API response for 'Mike Epps: Ready to Sell Out'\n"
          ]
        },
        {
          "output_type": "stream",
          "name": "stderr",
          "text": [
            "Fetching TMDB IDs:  32%|███▏      | 2579/8080 [03:13<07:12, 12.71it/s]"
          ]
        },
        {
          "output_type": "stream",
          "name": "stdout",
          "text": [
            "  No 'results' key or empty results in API response for 'Guntur Kaaram (Hindi)'\n"
          ]
        },
        {
          "output_type": "stream",
          "name": "stderr",
          "text": [
            "Fetching TMDB IDs:  32%|███▏      | 2588/8080 [03:13<06:29, 14.10it/s]"
          ]
        },
        {
          "output_type": "stream",
          "name": "stdout",
          "text": [
            "  No 'results' key or empty results in API response for 'Taylor Tomlinson: Have It All'\n"
          ]
        },
        {
          "output_type": "stream",
          "name": "stderr",
          "text": [
            "Fetching TMDB IDs:  32%|███▏      | 2593/8080 [03:13<05:36, 16.30it/s]"
          ]
        },
        {
          "output_type": "stream",
          "name": "stdout",
          "text": [
            "  Title mismatch for 'House, M.D.'. Searched API, but no exact match. First API candidate: 'House' (ID not added).\n"
          ]
        },
        {
          "output_type": "stream",
          "name": "stderr",
          "text": [
            "Fetching TMDB IDs:  32%|███▏      | 2618/8080 [03:15<06:51, 13.28it/s]"
          ]
        },
        {
          "output_type": "stream",
          "name": "stdout",
          "text": [
            "  No 'results' key or empty results in API response for 'Twenty-Something, Divorced and Fabulous'\n"
          ]
        },
        {
          "output_type": "stream",
          "name": "stderr",
          "text": [
            "Fetching TMDB IDs:  32%|███▏      | 2623/8080 [03:15<06:01, 15.10it/s]"
          ]
        },
        {
          "output_type": "stream",
          "name": "stdout",
          "text": [
            "  No 'results' key or empty results in API response for 'Guntur Kaaram (Hindi)'\n"
          ]
        },
        {
          "output_type": "stream",
          "name": "stderr",
          "text": [
            "Fetching TMDB IDs:  33%|███▎      | 2629/8080 [03:16<06:49, 13.31it/s]"
          ]
        },
        {
          "output_type": "stream",
          "name": "stdout",
          "text": [
            "  Title mismatch for 'House, M.D.'. Searched API, but no exact match. First API candidate: 'House' (ID not added).\n"
          ]
        },
        {
          "output_type": "stream",
          "name": "stderr",
          "text": [
            "Fetching TMDB IDs:  33%|███▎      | 2657/8080 [03:18<06:52, 13.14it/s]"
          ]
        },
        {
          "output_type": "stream",
          "name": "stdout",
          "text": [
            "  No 'results' key or empty results in API response for 'Twenty-Something, Divorced and Fabulous'\n"
          ]
        },
        {
          "output_type": "stream",
          "name": "stderr",
          "text": [
            "Fetching TMDB IDs:  33%|███▎      | 2696/8080 [03:21<06:37, 13.55it/s]"
          ]
        },
        {
          "output_type": "stream",
          "name": "stdout",
          "text": [
            "  Title mismatch for 'Salaar'. Searched API, but no exact match. First API candidate: 'Salaar: Part 2 - Shouryaanga Parvam' (ID not added).\n"
          ]
        },
        {
          "output_type": "stream",
          "name": "stderr",
          "text": [
            "Fetching TMDB IDs:  33%|███▎      | 2702/8080 [03:21<06:59, 12.81it/s]"
          ]
        },
        {
          "output_type": "stream",
          "name": "stdout",
          "text": [
            "  No 'results' key or empty results in API response for 'Pirate Dad'\n"
          ]
        },
        {
          "output_type": "stream",
          "name": "stderr",
          "text": [
            "Fetching TMDB IDs:  34%|███▍      | 2735/8080 [03:24<06:22, 13.96it/s]"
          ]
        },
        {
          "output_type": "stream",
          "name": "stdout",
          "text": [
            "  Title mismatch for 'Salaar'. Searched API, but no exact match. First API candidate: 'Salaar: Part 2 - Shouryaanga Parvam' (ID not added).\n"
          ]
        },
        {
          "output_type": "stream",
          "name": "stderr",
          "text": [
            "Fetching TMDB IDs:  34%|███▍      | 2739/8080 [03:24<07:19, 12.17it/s]"
          ]
        },
        {
          "output_type": "stream",
          "name": "stdout",
          "text": [
            "  Title mismatch for 'Kingdom 3: The Flame of Destiny'. Searched API, but no exact match. First API candidate: 'Kingdom III: The Flame of Destiny' (ID not added).\n"
          ]
        },
        {
          "output_type": "stream",
          "name": "stderr",
          "text": [
            "Fetching TMDB IDs:  34%|███▍      | 2769/8080 [03:26<05:16, 16.76it/s]"
          ]
        },
        {
          "output_type": "stream",
          "name": "stdout",
          "text": [
            "  Title mismatch for 'Tyler Perry's The Single Moms Club'. Searched API, but no exact match. First API candidate: 'The Single Moms Club' (ID not added).\n",
            "  Title mismatch for 'Rebel Moon — Part One: A Child of Fire'. Searched API, but no exact match. First API candidate: 'Rebel Moon - Part One: A Child of Fire' (ID not added).\n"
          ]
        },
        {
          "output_type": "stream",
          "name": "stderr",
          "text": [
            "Fetching TMDB IDs:  34%|███▍      | 2773/8080 [03:26<05:56, 14.90it/s]"
          ]
        },
        {
          "output_type": "stream",
          "name": "stdout",
          "text": [
            "  Title mismatch for 'Kingdom 3: The Flame of Destiny'. Searched API, but no exact match. First API candidate: 'Kingdom III: The Flame of Destiny' (ID not added).\n",
            "  No 'results' key or empty results in API response for 'Hi Papa (Hindi)'\n"
          ]
        },
        {
          "output_type": "stream",
          "name": "stderr",
          "text": [
            "Fetching TMDB IDs:  35%|███▍      | 2789/8080 [03:28<07:15, 12.16it/s]"
          ]
        },
        {
          "output_type": "stream",
          "name": "stdout",
          "text": [
            "  No 'results' key or empty results in API response for 'Dave Chappelle: The Dreamer'\n",
            "  No 'results' key or empty results in API response for 'Pete Davidson: Turbo Fonzarelli'\n"
          ]
        },
        {
          "output_type": "stream",
          "name": "stderr",
          "text": [
            "Fetching TMDB IDs:  35%|███▍      | 2799/8080 [03:28<05:24, 16.28it/s]"
          ]
        },
        {
          "output_type": "stream",
          "name": "stdout",
          "text": [
            "  Title mismatch for 'Single’s Inferno'. Searched API, but no exact match. First API candidate: 'Single's Inferno' (ID not added).\n"
          ]
        },
        {
          "output_type": "stream",
          "name": "stderr",
          "text": [
            "Fetching TMDB IDs:  35%|███▍      | 2803/8080 [03:28<05:40, 15.50it/s]"
          ]
        },
        {
          "output_type": "stream",
          "name": "stdout",
          "text": [
            "  Title mismatch for 'Rebel Moon — Part One: A Child of Fire'. Searched API, but no exact match. First API candidate: 'Rebel Moon - Part One: A Child of Fire' (ID not added).\n"
          ]
        },
        {
          "output_type": "stream",
          "name": "stderr",
          "text": [
            "Fetching TMDB IDs:  35%|███▍      | 2815/8080 [03:29<07:06, 12.34it/s]"
          ]
        },
        {
          "output_type": "stream",
          "name": "stdout",
          "text": [
            "  Title mismatch for 'Annapoorni'. Searched API, but no exact match. First API candidate: 'Gentlewoman' (ID not added).\n"
          ]
        },
        {
          "output_type": "stream",
          "name": "stderr",
          "text": [
            "Fetching TMDB IDs:  35%|███▍      | 2819/8080 [03:30<08:25, 10.41it/s]"
          ]
        },
        {
          "output_type": "stream",
          "name": "stdout",
          "text": [
            "  Title mismatch for 'Curry & Cyanide - The Jolly Joseph Case'. Searched API, but no exact match. First API candidate: 'Curry & Cyanide: The Jolly Joseph Case' (ID not added).\n"
          ]
        },
        {
          "output_type": "stream",
          "name": "stderr",
          "text": [
            "Fetching TMDB IDs:  35%|███▍      | 2824/8080 [03:30<07:07, 12.31it/s]"
          ]
        },
        {
          "output_type": "stream",
          "name": "stdout",
          "text": [
            "  No 'results' key or empty results in API response for 'Dave Chappelle: The Dreamer'\n"
          ]
        },
        {
          "output_type": "stream",
          "name": "stderr",
          "text": [
            "Fetching TMDB IDs:  35%|███▌      | 2830/8080 [03:31<07:13, 12.10it/s]"
          ]
        },
        {
          "output_type": "stream",
          "name": "stdout",
          "text": [
            "  No 'results' key or empty results in API response for 'Ricky Gervais: Armageddon'\n"
          ]
        },
        {
          "output_type": "stream",
          "name": "stderr",
          "text": [
            "Fetching TMDB IDs:  35%|███▌      | 2839/8080 [03:31<06:02, 14.45it/s]"
          ]
        },
        {
          "output_type": "stream",
          "name": "stdout",
          "text": [
            "  Title mismatch for 'Single’s Inferno'. Searched API, but no exact match. First API candidate: 'Single's Inferno' (ID not added).\n"
          ]
        },
        {
          "output_type": "stream",
          "name": "stderr",
          "text": [
            "Fetching TMDB IDs:  35%|███▌      | 2843/8080 [03:32<06:13, 14.03it/s]"
          ]
        },
        {
          "output_type": "stream",
          "name": "stdout",
          "text": [
            "  Title mismatch for 'Rebel Moon — Part One: A Child of Fire'. Searched API, but no exact match. First API candidate: 'Rebel Moon - Part One: A Child of Fire' (ID not added).\n"
          ]
        },
        {
          "output_type": "stream",
          "name": "stderr",
          "text": [
            "Fetching TMDB IDs:  35%|███▌      | 2853/8080 [03:32<06:09, 14.15it/s]"
          ]
        },
        {
          "output_type": "stream",
          "name": "stdout",
          "text": [
            "  Title mismatch for 'Curry & Cyanide - The Jolly Joseph Case'. Searched API, but no exact match. First API candidate: 'Curry & Cyanide: The Jolly Joseph Case' (ID not added).\n"
          ]
        },
        {
          "output_type": "stream",
          "name": "stderr",
          "text": [
            "Fetching TMDB IDs:  35%|███▌      | 2863/8080 [03:33<06:24, 13.56it/s]"
          ]
        },
        {
          "output_type": "stream",
          "name": "stdout",
          "text": [
            "  No 'results' key or empty results in API response for 'Ricky Gervais: Armageddon'\n"
          ]
        },
        {
          "output_type": "stream",
          "name": "stderr",
          "text": [
            "Fetching TMDB IDs:  35%|███▌      | 2867/8080 [03:33<06:28, 13.42it/s]"
          ]
        },
        {
          "output_type": "stream",
          "name": "stdout",
          "text": [
            "  No 'results' key or empty results in API response for 'Dave Chappelle: The Dreamer'\n",
            "  No 'results' key or empty results in API response for 'Fireplace for Your Home: Crackling Birchwood Fireplace'\n"
          ]
        },
        {
          "output_type": "stream",
          "name": "stderr",
          "text": [
            "Fetching TMDB IDs:  36%|███▌      | 2869/8080 [03:34<06:36, 13.15it/s]"
          ]
        },
        {
          "output_type": "stream",
          "name": "stdout",
          "text": [
            "  No 'results' key or empty results in API response for 'Trevor Noah: Where Was I'\n"
          ]
        },
        {
          "output_type": "stream",
          "name": "stderr",
          "text": [
            "Fetching TMDB IDs:  36%|███▌      | 2878/8080 [03:34<06:47, 12.77it/s]"
          ]
        },
        {
          "output_type": "stream",
          "name": "stdout",
          "text": [
            "  Title mismatch for 'Single’s Inferno'. Searched API, but no exact match. First API candidate: 'Single's Inferno' (ID not added).\n"
          ]
        },
        {
          "output_type": "stream",
          "name": "stderr",
          "text": [
            "Fetching TMDB IDs:  36%|███▌      | 2884/8080 [03:34<05:18, 16.33it/s]"
          ]
        },
        {
          "output_type": "stream",
          "name": "stdout",
          "text": [
            "  Title mismatch for 'Rebel Moon — Part One: A Child of Fire'. Searched API, but no exact match. First API candidate: 'Rebel Moon - Part One: A Child of Fire' (ID not added).\n"
          ]
        },
        {
          "output_type": "stream",
          "name": "stderr",
          "text": [
            "Fetching TMDB IDs:  36%|███▌      | 2890/8080 [03:35<05:59, 14.43it/s]"
          ]
        },
        {
          "output_type": "stream",
          "name": "stdout",
          "text": [
            "  Title mismatch for 'Dr. Seuss' The Grinch'. Searched API, but no exact match. First API candidate: 'Dr. Seuss' The Grinch Musical' (ID not added).\n"
          ]
        },
        {
          "output_type": "stream",
          "name": "stderr",
          "text": [
            "Fetching TMDB IDs:  36%|███▌      | 2896/8080 [03:36<07:52, 10.96it/s]"
          ]
        },
        {
          "output_type": "stream",
          "name": "stdout",
          "text": [
            "  Title mismatch for 'Curry & Cyanide - The Jolly Joseph Case'. Searched API, but no exact match. First API candidate: 'Curry & Cyanide: The Jolly Joseph Case' (ID not added).\n"
          ]
        },
        {
          "output_type": "stream",
          "name": "stderr",
          "text": [
            "Fetching TMDB IDs:  36%|███▌      | 2905/8080 [03:36<06:21, 13.55it/s]"
          ]
        },
        {
          "output_type": "stream",
          "name": "stdout",
          "text": [
            "  No 'results' key or empty results in API response for 'Trevor Noah: Where Was I'\n"
          ]
        },
        {
          "output_type": "stream",
          "name": "stderr",
          "text": [
            "Fetching TMDB IDs:  36%|███▌      | 2909/8080 [03:37<06:08, 14.03it/s]"
          ]
        },
        {
          "output_type": "stream",
          "name": "stdout",
          "text": [
            "  No 'results' key or empty results in API response for 'Fireplace for Your Home: Crackling Birchwood Fireplace'\n"
          ]
        },
        {
          "output_type": "stream",
          "name": "stderr",
          "text": [
            "Fetching TMDB IDs:  36%|███▌      | 2916/8080 [03:37<05:33, 15.48it/s]"
          ]
        },
        {
          "output_type": "stream",
          "name": "stdout",
          "text": [
            "  Title mismatch for 'Single’s Inferno'. Searched API, but no exact match. First API candidate: 'Single's Inferno' (ID not added).\n"
          ]
        },
        {
          "output_type": "stream",
          "name": "stderr",
          "text": [
            "Fetching TMDB IDs:  36%|███▌      | 2922/8080 [03:37<06:08, 14.01it/s]"
          ]
        },
        {
          "output_type": "stream",
          "name": "stdout",
          "text": [
            "  No 'results' key or empty results in API response for 'Love is Blind Brazil: After the Altar'\n"
          ]
        },
        {
          "output_type": "stream",
          "name": "stderr",
          "text": [
            "Fetching TMDB IDs:  36%|███▋      | 2930/8080 [03:38<06:42, 12.78it/s]"
          ]
        },
        {
          "output_type": "stream",
          "name": "stdout",
          "text": [
            "  Title mismatch for 'Dr. Seuss' The Grinch'. Searched API, but no exact match. First API candidate: 'Dr. Seuss' The Grinch Musical' (ID not added).\n"
          ]
        },
        {
          "output_type": "stream",
          "name": "stderr",
          "text": [
            "Fetching TMDB IDs:  36%|███▋      | 2938/8080 [03:39<07:37, 11.25it/s]"
          ]
        },
        {
          "output_type": "stream",
          "name": "stdout",
          "text": [
            "  Title mismatch for 'NAGA'. Searched API, but no exact match. First API candidate: 'Nagasaki 1945 ~ The Angelus Bells' (ID not added).\n"
          ]
        },
        {
          "output_type": "stream",
          "name": "stderr",
          "text": [
            "Fetching TMDB IDs:  37%|███▋      | 2956/8080 [03:40<04:59, 17.14it/s]"
          ]
        },
        {
          "output_type": "stream",
          "name": "stdout",
          "text": [
            "  Title mismatch for 'Single’s Inferno'. Searched API, but no exact match. First API candidate: 'Single's Inferno' (ID not added).\n"
          ]
        },
        {
          "output_type": "stream",
          "name": "stderr",
          "text": [
            "Fetching TMDB IDs:  37%|███▋      | 2972/8080 [03:41<07:02, 12.08it/s]"
          ]
        },
        {
          "output_type": "stream",
          "name": "stdout",
          "text": [
            "  Title mismatch for 'Mission Raniganj: The Great Bharat Rescue'. Searched API, but no exact match. First API candidate: 'Mission Raniganj' (ID not added).\n"
          ]
        },
        {
          "output_type": "stream",
          "name": "stderr",
          "text": [
            "Fetching TMDB IDs:  37%|███▋      | 3009/8080 [03:44<05:37, 15.01it/s]"
          ]
        },
        {
          "output_type": "stream",
          "name": "stdout",
          "text": [
            "  Title mismatch for 'Dr. Seuss' The Grinch'. Searched API, but no exact match. First API candidate: 'Dr. Seuss' The Grinch Musical' (ID not added).\n"
          ]
        },
        {
          "output_type": "stream",
          "name": "stderr",
          "text": [
            "Fetching TMDB IDs:  37%|███▋      | 3015/8080 [03:44<06:57, 12.13it/s]"
          ]
        },
        {
          "output_type": "stream",
          "name": "stdout",
          "text": [
            "  No 'results' key or empty results in API response for 'Leo (Hindi)'\n",
            "  Title mismatch for 'Mission Raniganj: The Great Bharat Rescue'. Searched API, but no exact match. First API candidate: 'Mission Raniganj' (ID not added).\n"
          ]
        },
        {
          "output_type": "stream",
          "name": "stderr",
          "text": [
            "Fetching TMDB IDs:  38%|███▊      | 3049/8080 [03:47<06:43, 12.47it/s]"
          ]
        },
        {
          "output_type": "stream",
          "name": "stdout",
          "text": [
            "  Title mismatch for 'Dr. Seuss' The Grinch'. Searched API, but no exact match. First API candidate: 'Dr. Seuss' The Grinch Musical' (ID not added).\n"
          ]
        },
        {
          "output_type": "stream",
          "name": "stderr",
          "text": [
            "Fetching TMDB IDs:  38%|███▊      | 3059/8080 [03:47<06:58, 12.01it/s]"
          ]
        },
        {
          "output_type": "stream",
          "name": "stdout",
          "text": [
            "  Title mismatch for 'Jawan: Extended Cut'. Searched API, but no exact match. First API candidate: 'Jawan' (ID not added).\n"
          ]
        },
        {
          "output_type": "stream",
          "name": "stderr",
          "text": [
            "Fetching TMDB IDs:  38%|███▊      | 3066/8080 [03:48<06:21, 13.16it/s]"
          ]
        },
        {
          "output_type": "stream",
          "name": "stdout",
          "text": [
            "  No 'results' key or empty results in API response for 'Matt Rife: Natural Selection'\n"
          ]
        },
        {
          "output_type": "stream",
          "name": "stderr",
          "text": [
            "Fetching TMDB IDs:  38%|███▊      | 3073/8080 [03:48<06:11, 13.47it/s]"
          ]
        },
        {
          "output_type": "stream",
          "name": "stdout",
          "text": [
            "  No 'results' key or empty results in API response for 'Mike Birbiglia: The Old Man and The Pool'\n"
          ]
        },
        {
          "output_type": "stream",
          "name": "stderr",
          "text": [
            "Fetching TMDB IDs:  38%|███▊      | 3087/8080 [03:50<06:51, 12.14it/s]"
          ]
        },
        {
          "output_type": "stream",
          "name": "stdout",
          "text": [
            "  Title mismatch for 'F9: The Fast Saga'. Searched API, but no exact match. First API candidate: 'F9' (ID not added).\n"
          ]
        },
        {
          "output_type": "stream",
          "name": "stderr",
          "text": [
            "Fetching TMDB IDs:  38%|███▊      | 3097/8080 [03:50<06:47, 12.23it/s]"
          ]
        },
        {
          "output_type": "stream",
          "name": "stdout",
          "text": [
            "  Title mismatch for 'Jawan: Extended Cut'. Searched API, but no exact match. First API candidate: 'Jawan' (ID not added).\n"
          ]
        },
        {
          "output_type": "stream",
          "name": "stderr",
          "text": [
            "Fetching TMDB IDs:  38%|███▊      | 3103/8080 [03:51<06:19, 13.13it/s]"
          ]
        },
        {
          "output_type": "stream",
          "name": "stdout",
          "text": [
            "  No 'results' key or empty results in API response for 'Matt Rife: Natural Selection'\n"
          ]
        },
        {
          "output_type": "stream",
          "name": "stderr",
          "text": [
            "Fetching TMDB IDs:  39%|███▊      | 3123/8080 [03:52<06:15, 13.22it/s]"
          ]
        },
        {
          "output_type": "stream",
          "name": "stdout",
          "text": [
            "  Title mismatch for 'F9: The Fast Saga'. Searched API, but no exact match. First API candidate: 'F9' (ID not added).\n"
          ]
        },
        {
          "output_type": "stream",
          "name": "stderr",
          "text": [
            "Fetching TMDB IDs:  39%|███▉      | 3135/8080 [03:53<06:26, 12.78it/s]"
          ]
        },
        {
          "output_type": "stream",
          "name": "stdout",
          "text": [
            "  Title mismatch for 'Jawan: Extended Cut'. Searched API, but no exact match. First API candidate: 'Jawan' (ID not added).\n"
          ]
        },
        {
          "output_type": "stream",
          "name": "stderr",
          "text": [
            "Fetching TMDB IDs:  39%|███▉      | 3177/8080 [03:56<05:18, 15.38it/s]"
          ]
        },
        {
          "output_type": "stream",
          "name": "stdout",
          "text": [
            "  Title mismatch for 'Jawan: Extended Cut'. Searched API, but no exact match. First API candidate: 'Jawan' (ID not added).\n"
          ]
        },
        {
          "output_type": "stream",
          "name": "stderr",
          "text": [
            "Fetching TMDB IDs:  40%|████      | 3242/8080 [04:01<05:38, 14.28it/s]"
          ]
        },
        {
          "output_type": "stream",
          "name": "stdout",
          "text": [
            "  No 'results' key or empty results in API response for 'Learning and fun with Jose Comelon'\n"
          ]
        },
        {
          "output_type": "stream",
          "name": "stderr",
          "text": [
            "Fetching TMDB IDs:  41%|████      | 3312/8080 [04:06<05:08, 15.45it/s]"
          ]
        },
        {
          "output_type": "stream",
          "name": "stdout",
          "text": [
            "  Title mismatch for 'The Great British Baking Show'. Searched API, but no exact match. First API candidate: 'The Great British Baking Show Holidays' (ID not added).\n"
          ]
        },
        {
          "output_type": "stream",
          "name": "stderr",
          "text": [
            "Fetching TMDB IDs:  41%|████▏     | 3353/8080 [04:09<04:56, 15.96it/s]"
          ]
        },
        {
          "output_type": "stream",
          "name": "stdout",
          "text": [
            "  Title mismatch for 'The Great British Baking Show'. Searched API, but no exact match. First API candidate: 'The Great British Baking Show Holidays' (ID not added).\n"
          ]
        },
        {
          "output_type": "stream",
          "name": "stderr",
          "text": [
            "Fetching TMDB IDs:  42%|████▏     | 3418/8080 [04:14<07:09, 10.86it/s]"
          ]
        },
        {
          "output_type": "stream",
          "name": "stdout",
          "text": [
            "  No 'results' key or empty results in API response for 'Bhola Shankar (Hindi)'\n"
          ]
        },
        {
          "output_type": "stream",
          "name": "stderr",
          "text": [
            "Fetching TMDB IDs:  42%|████▏     | 3427/8080 [04:14<05:51, 13.23it/s]"
          ]
        },
        {
          "output_type": "stream",
          "name": "stdout",
          "text": [
            "  Title mismatch for 'Inside the World’s Toughest Prisons'. Searched API, but no exact match. First API candidate: 'Inside the World's Toughest Prisons' (ID not added).\n"
          ]
        },
        {
          "output_type": "stream",
          "name": "stderr",
          "text": [
            "Fetching TMDB IDs:  42%|████▏     | 3429/8080 [04:14<06:02, 12.84it/s]"
          ]
        },
        {
          "output_type": "stream",
          "name": "stdout",
          "text": [
            "  No 'results' key or empty results in API response for 'Kountry Wayne: A Woman's Prayer'\n"
          ]
        },
        {
          "output_type": "stream",
          "name": "stderr",
          "text": [
            "Fetching TMDB IDs:  43%|████▎     | 3445/8080 [04:15<05:17, 14.60it/s]"
          ]
        },
        {
          "output_type": "stream",
          "name": "stdout",
          "text": [
            "  Title mismatch for 'Dr. Seuss' The Grinch'. Searched API, but no exact match. First API candidate: 'Dr. Seuss' The Grinch Musical' (ID not added).\n"
          ]
        },
        {
          "output_type": "stream",
          "name": "stderr",
          "text": [
            "Fetching TMDB IDs:  43%|████▎     | 3470/8080 [04:17<06:25, 11.96it/s]"
          ]
        },
        {
          "output_type": "stream",
          "name": "stdout",
          "text": [
            "  Title mismatch for 'Inside the World’s Toughest Prisons'. Searched API, but no exact match. First API candidate: 'Inside the World's Toughest Prisons' (ID not added).\n"
          ]
        },
        {
          "output_type": "stream",
          "name": "stderr",
          "text": [
            "Fetching TMDB IDs:  43%|████▎     | 3486/8080 [04:18<05:22, 14.23it/s]"
          ]
        },
        {
          "output_type": "stream",
          "name": "stdout",
          "text": [
            "  Title mismatch for 'Dr. Seuss' The Grinch'. Searched API, but no exact match. First API candidate: 'Dr. Seuss' The Grinch Musical' (ID not added).\n"
          ]
        },
        {
          "output_type": "stream",
          "name": "stderr",
          "text": [
            "Fetching TMDB IDs:  43%|████▎     | 3508/8080 [04:20<06:15, 12.19it/s]"
          ]
        },
        {
          "output_type": "stream",
          "name": "stdout",
          "text": [
            "  No 'results' key or empty results in API response for 'Shane Gillis: Beautiful Dogs'\n"
          ]
        },
        {
          "output_type": "stream",
          "name": "stderr",
          "text": [
            "Fetching TMDB IDs:  44%|████▎     | 3527/8080 [04:21<05:57, 12.72it/s]"
          ]
        },
        {
          "output_type": "stream",
          "name": "stdout",
          "text": [
            "  Title mismatch for 'Big George Foreman: The Miraculous Story of the Once and Future Heavyweight Champion of the World'. Searched API, but no exact match. First API candidate: 'Big George Foreman' (ID not added).\n"
          ]
        },
        {
          "output_type": "stream",
          "name": "stderr",
          "text": [
            "Fetching TMDB IDs:  44%|████▍     | 3539/8080 [04:22<06:44, 11.23it/s]"
          ]
        },
        {
          "output_type": "stream",
          "name": "stdout",
          "text": [
            "  No 'results' key or empty results in API response for 'Bro (Hindi)'\n"
          ]
        },
        {
          "output_type": "stream",
          "name": "stderr",
          "text": [
            "Fetching TMDB IDs:  45%|████▌     | 3661/8080 [04:31<05:44, 12.84it/s]"
          ]
        },
        {
          "output_type": "stream",
          "name": "stdout",
          "text": [
            "  Title mismatch for 'The Raid: Redemption'. Searched API, but no exact match. First API candidate: 'The Raid' (ID not added).\n"
          ]
        },
        {
          "output_type": "stream",
          "name": "stderr",
          "text": [
            "Fetching TMDB IDs:  46%|████▋     | 3737/8080 [04:36<05:58, 12.12it/s]"
          ]
        },
        {
          "output_type": "stream",
          "name": "stdout",
          "text": [
            "  No 'results' key or empty results in API response for 'Kingdom2: Far and Away'\n"
          ]
        },
        {
          "output_type": "stream",
          "name": "stderr",
          "text": [
            "Fetching TMDB IDs:  46%|████▋     | 3741/8080 [04:37<06:19, 11.42it/s]"
          ]
        },
        {
          "output_type": "stream",
          "name": "stdout",
          "text": [
            "  No 'results' key or empty results in API response for 'Maamannan (Tamil)'\n"
          ]
        },
        {
          "output_type": "stream",
          "name": "stderr",
          "text": [
            "Fetching TMDB IDs:  46%|████▋     | 3748/8080 [04:37<05:16, 13.69it/s]"
          ]
        },
        {
          "output_type": "stream",
          "name": "stdout",
          "text": [
            "  Title mismatch for 'Barbie Life in the Dreamhouse'. Searched API, but no exact match. First API candidate: 'Barbie: Life in the Dreamhouse' (ID not added).\n"
          ]
        },
        {
          "output_type": "stream",
          "name": "stderr",
          "text": [
            "Fetching TMDB IDs:  46%|████▋     | 3752/8080 [04:38<04:45, 15.15it/s]"
          ]
        },
        {
          "output_type": "stream",
          "name": "stdout",
          "text": [
            "  No 'results' key or empty results in API response for 'Mark Normand: Soup to Nuts'\n"
          ]
        },
        {
          "output_type": "stream",
          "name": "stderr",
          "text": [
            "Fetching TMDB IDs:  47%|████▋     | 3778/8080 [04:40<06:24, 11.19it/s]"
          ]
        },
        {
          "output_type": "stream",
          "name": "stdout",
          "text": [
            "  No 'results' key or empty results in API response for 'Kingdom2: Far and Away'\n"
          ]
        },
        {
          "output_type": "stream",
          "name": "stderr",
          "text": [
            "Fetching TMDB IDs:  47%|████▋     | 3783/8080 [04:40<05:20, 13.42it/s]"
          ]
        },
        {
          "output_type": "stream",
          "name": "stdout",
          "text": [
            "  Title mismatch for 'Bear Man'. Searched API, but no exact match. First API candidate: 'The Bear Man' (ID not added).\n"
          ]
        },
        {
          "output_type": "stream",
          "name": "stderr",
          "text": [
            "Fetching TMDB IDs:  47%|████▋     | 3817/8080 [04:42<04:58, 14.28it/s]"
          ]
        },
        {
          "output_type": "stream",
          "name": "stdout",
          "text": [
            "  Title mismatch for 'Through My Window 2: Across the Sea'. Searched API, but no exact match. First API candidate: 'Through My Window: Across the Sea' (ID not added).\n"
          ]
        },
        {
          "output_type": "stream",
          "name": "stderr",
          "text": [
            "Fetching TMDB IDs:  48%|████▊     | 3855/8080 [04:45<04:49, 14.61it/s]"
          ]
        },
        {
          "output_type": "stream",
          "name": "stdout",
          "text": [
            "  Title mismatch for 'Through My Window 2: Across the Sea'. Searched API, but no exact match. First API candidate: 'Through My Window: Across the Sea' (ID not added).\n"
          ]
        },
        {
          "output_type": "stream",
          "name": "stderr",
          "text": [
            "Fetching TMDB IDs:  48%|████▊     | 3867/8080 [04:46<04:23, 15.97it/s]"
          ]
        },
        {
          "output_type": "stream",
          "name": "stdout",
          "text": [
            "  No 'results' key or empty results in API response for 'Tom Segura: Sledgehammer'\n"
          ]
        },
        {
          "output_type": "stream",
          "name": "stderr",
          "text": [
            "Fetching TMDB IDs:  48%|████▊     | 3893/8080 [04:47<05:00, 13.95it/s]"
          ]
        },
        {
          "output_type": "stream",
          "name": "stdout",
          "text": [
            "  Title mismatch for 'Through My Window 2: Across the Sea'. Searched API, but no exact match. First API candidate: 'Through My Window: Across the Sea' (ID not added).\n"
          ]
        },
        {
          "output_type": "stream",
          "name": "stderr",
          "text": [
            "Fetching TMDB IDs:  49%|████▊     | 3933/8080 [04:50<04:44, 14.57it/s]"
          ]
        },
        {
          "output_type": "stream",
          "name": "stdout",
          "text": [
            "  Title mismatch for 'Through My Window 2: Across the Sea'. Searched API, but no exact match. First API candidate: 'Through My Window: Across the Sea' (ID not added).\n"
          ]
        },
        {
          "output_type": "stream",
          "name": "stderr",
          "text": [
            "Fetching TMDB IDs:  49%|████▉     | 3948/8080 [04:51<05:16, 13.06it/s]"
          ]
        },
        {
          "output_type": "stream",
          "name": "stdout",
          "text": [
            "  No 'results' key or empty results in API response for '85 South: Ghetto Legends'\n"
          ]
        },
        {
          "output_type": "stream",
          "name": "stderr",
          "text": [
            "Fetching TMDB IDs:  49%|████▉     | 3992/8080 [04:54<04:19, 15.78it/s]"
          ]
        },
        {
          "output_type": "stream",
          "name": "stdout",
          "text": [
            "  No 'results' key or empty results in API response for 'Amy Schumer: Emergency Contact'\n"
          ]
        },
        {
          "output_type": "stream",
          "name": "stderr",
          "text": [
            "Fetching TMDB IDs:  50%|████▉     | 4039/8080 [04:57<04:55, 13.69it/s]"
          ]
        },
        {
          "output_type": "stream",
          "name": "stdout",
          "text": [
            "  Title mismatch for 'Agency'. Searched API, but no exact match. First API candidate: 'River's Edge Investigative Agency Okawabata' (ID not added).\n"
          ]
        },
        {
          "output_type": "stream",
          "name": "stderr",
          "text": [
            "Fetching TMDB IDs:  50%|█████     | 4053/8080 [04:58<04:12, 15.96it/s]"
          ]
        },
        {
          "output_type": "stream",
          "name": "stdout",
          "text": [
            "  Title mismatch for 'F9: The Fast Saga'. Searched API, but no exact match. First API candidate: 'F9' (ID not added).\n"
          ]
        },
        {
          "output_type": "stream",
          "name": "stderr",
          "text": [
            "Fetching TMDB IDs:  50%|█████     | 4080/8080 [05:00<05:01, 13.26it/s]"
          ]
        },
        {
          "output_type": "stream",
          "name": "stdout",
          "text": [
            "  Title mismatch for 'Pablo Escobar, el patrón del mal'. Searched API, but no exact match. First API candidate: 'Pablo Escobar: The Drug Lord' (ID not added).\n",
            "  Title mismatch for 'Agency'. Searched API, but no exact match. First API candidate: 'River's Edge Investigative Agency Okawabata' (ID not added).\n"
          ]
        },
        {
          "output_type": "stream",
          "name": "stderr",
          "text": [
            "Fetching TMDB IDs:  51%|█████     | 4100/8080 [05:02<05:09, 12.85it/s]"
          ]
        },
        {
          "output_type": "stream",
          "name": "stdout",
          "text": [
            "  Title mismatch for 'Astérix & Obélix: The Middle Kingdom'. Searched API, but no exact match. First API candidate: 'Asterix & Obelix: The Middle Kingdom' (ID not added).\n",
            "  Title mismatch for 'Kathal - A Jackfruit Mystery'. Searched API, but no exact match. First API candidate: 'Kathal' (ID not added).\n"
          ]
        },
        {
          "output_type": "stream",
          "name": "stderr",
          "text": [
            "Fetching TMDB IDs:  51%|█████     | 4118/8080 [05:03<04:28, 14.75it/s]"
          ]
        },
        {
          "output_type": "stream",
          "name": "stdout",
          "text": [
            "  Title mismatch for 'Pablo Escobar, el patrón del mal'. Searched API, but no exact match. First API candidate: 'Pablo Escobar: The Drug Lord' (ID not added).\n"
          ]
        },
        {
          "output_type": "stream",
          "name": "stderr",
          "text": [
            "Fetching TMDB IDs:  51%|█████     | 4128/8080 [05:04<04:55, 13.37it/s]"
          ]
        },
        {
          "output_type": "stream",
          "name": "stdout",
          "text": [
            "  Title mismatch for 'Harry Potter and the Sorcerer's Stone'. Searched API, but no exact match. First API candidate: 'Harry Potter and the Philosopher's Stone' (ID not added).\n"
          ]
        },
        {
          "output_type": "stream",
          "name": "stderr",
          "text": [
            "Fetching TMDB IDs:  51%|█████     | 4137/8080 [05:04<04:51, 13.54it/s]"
          ]
        },
        {
          "output_type": "stream",
          "name": "stdout",
          "text": [
            "  Title mismatch for 'Astérix & Obélix: The Middle Kingdom'. Searched API, but no exact match. First API candidate: 'Asterix & Obelix: The Middle Kingdom' (ID not added).\n",
            "  Title mismatch for 'Kathal - A Jackfruit Mystery'. Searched API, but no exact match. First API candidate: 'Kathal' (ID not added).\n"
          ]
        },
        {
          "output_type": "stream",
          "name": "stderr",
          "text": [
            "Fetching TMDB IDs:  51%|█████▏    | 4141/8080 [05:05<04:44, 13.84it/s]"
          ]
        },
        {
          "output_type": "stream",
          "name": "stdout",
          "text": [
            "  No 'results' key or empty results in API response for 'Kingdom2: Far and Away'\n"
          ]
        },
        {
          "output_type": "stream",
          "name": "stderr",
          "text": [
            "Fetching TMDB IDs:  51%|█████▏    | 4160/8080 [05:06<03:44, 17.44it/s]"
          ]
        },
        {
          "output_type": "stream",
          "name": "stdout",
          "text": [
            "  Title mismatch for 'Pablo Escobar, el patrón del mal'. Searched API, but no exact match. First API candidate: 'Pablo Escobar: The Drug Lord' (ID not added).\n"
          ]
        },
        {
          "output_type": "stream",
          "name": "stderr",
          "text": [
            "Fetching TMDB IDs:  52%|█████▏    | 4179/8080 [05:07<05:30, 11.82it/s]"
          ]
        },
        {
          "output_type": "stream",
          "name": "stdout",
          "text": [
            "  Title mismatch for 'You & Me & Me'. Searched API, but no exact match. First API candidate: 'Ask Me What You Want' (ID not added).\n"
          ]
        },
        {
          "output_type": "stream",
          "name": "stderr",
          "text": [
            "Fetching TMDB IDs:  52%|█████▏    | 4201/8080 [05:08<04:17, 15.08it/s]"
          ]
        },
        {
          "output_type": "stream",
          "name": "stdout",
          "text": [
            "  Title mismatch for 'Pablo Escobar, el patrón del mal'. Searched API, but no exact match. First API candidate: 'Pablo Escobar: The Drug Lord' (ID not added).\n"
          ]
        },
        {
          "output_type": "stream",
          "name": "stderr",
          "text": [
            "Fetching TMDB IDs:  53%|█████▎    | 4250/8080 [05:12<05:01, 12.72it/s]"
          ]
        },
        {
          "output_type": "stream",
          "name": "stdout",
          "text": [
            "  Title mismatch for 'Dr. Seuss' The Lorax'. Searched API, but no exact match. First API candidate: 'The Lorax' (ID not added).\n"
          ]
        },
        {
          "output_type": "stream",
          "name": "stderr",
          "text": [
            "Fetching TMDB IDs:  53%|█████▎    | 4291/8080 [05:15<04:36, 13.70it/s]"
          ]
        },
        {
          "output_type": "stream",
          "name": "stdout",
          "text": [
            "  Title mismatch for 'F9: The Fast Saga'. Searched API, but no exact match. First API candidate: 'F9' (ID not added).\n",
            "  Title mismatch for 'Dr. Seuss' The Lorax'. Searched API, but no exact match. First API candidate: 'The Lorax' (ID not added).\n"
          ]
        },
        {
          "output_type": "stream",
          "name": "stderr",
          "text": [
            "Fetching TMDB IDs:  53%|█████▎    | 4319/8080 [05:17<04:13, 14.85it/s]"
          ]
        },
        {
          "output_type": "stream",
          "name": "stdout",
          "text": [
            "  Title mismatch for 'Pablo Escobar, el patrón del mal'. Searched API, but no exact match. First API candidate: 'Pablo Escobar: The Drug Lord' (ID not added).\n"
          ]
        },
        {
          "output_type": "stream",
          "name": "stderr",
          "text": [
            "Fetching TMDB IDs:  54%|█████▎    | 4334/8080 [05:18<03:57, 15.77it/s]"
          ]
        },
        {
          "output_type": "stream",
          "name": "stdout",
          "text": [
            "  Title mismatch for 'Dr. Seuss' The Lorax'. Searched API, but no exact match. First API candidate: 'The Lorax' (ID not added).\n"
          ]
        },
        {
          "output_type": "stream",
          "name": "stderr",
          "text": [
            "Fetching TMDB IDs:  54%|█████▎    | 4342/8080 [05:19<04:11, 14.85it/s]"
          ]
        },
        {
          "output_type": "stream",
          "name": "stdout",
          "text": [
            "  Title mismatch for '비상선언'. Searched API, but no exact match. First API candidate: 'Emergency Declaration' (ID not added).\n"
          ]
        },
        {
          "output_type": "stream",
          "name": "stderr",
          "text": [
            "Fetching TMDB IDs:  54%|█████▍    | 4360/8080 [05:20<04:47, 12.95it/s]"
          ]
        },
        {
          "output_type": "stream",
          "name": "stdout",
          "text": [
            "  Title mismatch for 'Pablo Escobar, el patrón del mal'. Searched API, but no exact match. First API candidate: 'Pablo Escobar: The Drug Lord' (ID not added).\n"
          ]
        },
        {
          "output_type": "stream",
          "name": "stderr",
          "text": [
            "Fetching TMDB IDs:  54%|█████▍    | 4375/8080 [05:21<04:23, 14.06it/s]"
          ]
        },
        {
          "output_type": "stream",
          "name": "stdout",
          "text": [
            "  Title mismatch for '비상선언'. Searched API, but no exact match. First API candidate: 'Emergency Declaration' (ID not added).\n"
          ]
        },
        {
          "output_type": "stream",
          "name": "stderr",
          "text": [
            "Fetching TMDB IDs:  54%|█████▍    | 4403/8080 [05:23<04:01, 15.25it/s]"
          ]
        },
        {
          "output_type": "stream",
          "name": "stdout",
          "text": [
            "  Title mismatch for 'Pablo Escobar, el patrón del mal'. Searched API, but no exact match. First API candidate: 'Pablo Escobar: The Drug Lord' (ID not added).\n"
          ]
        },
        {
          "output_type": "stream",
          "name": "stderr",
          "text": [
            "Fetching TMDB IDs:  55%|█████▍    | 4415/8080 [05:24<04:16, 14.28it/s]"
          ]
        },
        {
          "output_type": "stream",
          "name": "stdout",
          "text": [
            "  Title mismatch for '비상선언'. Searched API, but no exact match. First API candidate: 'Emergency Declaration' (ID not added).\n"
          ]
        },
        {
          "output_type": "stream",
          "name": "stderr",
          "text": [
            "Fetching TMDB IDs:  55%|█████▌    | 4459/8080 [05:27<04:32, 13.30it/s]"
          ]
        },
        {
          "output_type": "stream",
          "name": "stdout",
          "text": [
            "  No 'results' key or empty results in API response for 'Sir (Hindi)'\n"
          ]
        },
        {
          "output_type": "stream",
          "name": "stderr",
          "text": [
            "Fetching TMDB IDs:  56%|█████▌    | 4499/8080 [05:30<05:21, 11.15it/s]"
          ]
        },
        {
          "output_type": "stream",
          "name": "stdout",
          "text": [
            "  No 'results' key or empty results in API response for 'RRR (Hindi)'\n"
          ]
        },
        {
          "output_type": "stream",
          "name": "stderr",
          "text": [
            "Fetching TMDB IDs:  56%|█████▋    | 4551/8080 [05:33<03:34, 16.44it/s]"
          ]
        },
        {
          "output_type": "stream",
          "name": "stdout",
          "text": [
            "  No 'results' key or empty results in API response for 'Chris Rock: Selective Outrage'\n"
          ]
        },
        {
          "output_type": "stream",
          "name": "stderr",
          "text": [
            "Fetching TMDB IDs:  57%|█████▋    | 4572/8080 [05:35<04:18, 13.59it/s]"
          ]
        },
        {
          "output_type": "stream",
          "name": "stdout",
          "text": [
            "  Title mismatch for 'The Hangover: Part III'. Searched API, but no exact match. First API candidate: 'The Hangover Part III' (ID not added).\n"
          ]
        },
        {
          "output_type": "stream",
          "name": "stderr",
          "text": [
            "Fetching TMDB IDs:  58%|█████▊    | 4660/8080 [05:41<04:33, 12.51it/s]"
          ]
        },
        {
          "output_type": "stream",
          "name": "stdout",
          "text": [
            "  No 'results' key or empty results in API response for 'Thunivu (Hindi)'\n"
          ]
        },
        {
          "output_type": "stream",
          "name": "stderr",
          "text": [
            "Fetching TMDB IDs:  58%|█████▊    | 4696/8080 [05:44<04:20, 12.98it/s]"
          ]
        },
        {
          "output_type": "stream",
          "name": "stdout",
          "text": [
            "  No 'results' key or empty results in API response for 'Thunivu (Hindi)'\n"
          ]
        },
        {
          "output_type": "stream",
          "name": "stderr",
          "text": [
            "Fetching TMDB IDs:  58%|█████▊    | 4698/8080 [05:44<04:34, 12.34it/s]"
          ]
        },
        {
          "output_type": "stream",
          "name": "stdout",
          "text": [
            "  No 'results' key or empty results in API response for 'I Like It But It Scares Me'\n"
          ]
        },
        {
          "output_type": "stream",
          "name": "stderr",
          "text": [
            "Fetching TMDB IDs:  58%|█████▊    | 4723/8080 [05:46<03:48, 14.72it/s]"
          ]
        },
        {
          "output_type": "stream",
          "name": "stdout",
          "text": [
            "  No 'results' key or empty results in API response for 'Til Money Do Us Part'\n"
          ]
        },
        {
          "output_type": "stream",
          "name": "stderr",
          "text": [
            "Fetching TMDB IDs:  59%|█████▊    | 4739/8080 [05:47<04:20, 12.84it/s]"
          ]
        },
        {
          "output_type": "stream",
          "name": "stdout",
          "text": [
            "  No 'results' key or empty results in API response for 'I Like It But It Scares Me'\n"
          ]
        },
        {
          "output_type": "stream",
          "name": "stderr",
          "text": [
            "Fetching TMDB IDs:  60%|█████▉    | 4818/8080 [05:52<03:46, 14.38it/s]"
          ]
        },
        {
          "output_type": "stream",
          "name": "stdout",
          "text": [
            "  No 'results' key or empty results in API response for 'RRR (Hindi)'\n"
          ]
        },
        {
          "output_type": "stream",
          "name": "stderr",
          "text": [
            "Fetching TMDB IDs:  60%|██████    | 4863/8080 [05:55<03:27, 15.52it/s]"
          ]
        },
        {
          "output_type": "stream",
          "name": "stdout",
          "text": [
            "  No 'results' key or empty results in API response for 'RRR (Hindi)'\n"
          ]
        },
        {
          "output_type": "stream",
          "name": "stderr",
          "text": [
            "Fetching TMDB IDs:  60%|██████    | 4877/8080 [05:56<02:45, 19.38it/s]"
          ]
        },
        {
          "output_type": "stream",
          "name": "stdout",
          "text": [
            "  Title mismatch for 'Single’s Inferno'. Searched API, but no exact match. First API candidate: 'Single's Inferno' (ID not added).\n"
          ]
        },
        {
          "output_type": "stream",
          "name": "stderr",
          "text": [
            "Fetching TMDB IDs:  61%|██████    | 4922/8080 [05:59<02:50, 18.48it/s]"
          ]
        },
        {
          "output_type": "stream",
          "name": "stdout",
          "text": [
            "  Title mismatch for 'Single’s Inferno'. Searched API, but no exact match. First API candidate: 'Single's Inferno' (ID not added).\n"
          ]
        },
        {
          "output_type": "stream",
          "name": "stderr",
          "text": [
            "Fetching TMDB IDs:  61%|██████    | 4928/8080 [05:59<03:54, 13.42it/s]"
          ]
        },
        {
          "output_type": "stream",
          "name": "stdout",
          "text": [
            "  Title mismatch for 'Guillermo del Toro’s Pinocchio'. Searched API, but no exact match. First API candidate: 'Guillermo del Toro's Pinocchio' (ID not added).\n"
          ]
        },
        {
          "output_type": "stream",
          "name": "stderr",
          "text": [
            "Fetching TMDB IDs:  61%|██████    | 4942/8080 [06:00<03:37, 14.43it/s]"
          ]
        },
        {
          "output_type": "stream",
          "name": "stdout",
          "text": [
            "  Title mismatch for 'Tara VS. Bilal'. Searched API, but no exact match. First API candidate: 'Tara vs Bilal' (ID not added).\n"
          ]
        },
        {
          "output_type": "stream",
          "name": "stderr",
          "text": [
            "Fetching TMDB IDs:  61%|██████▏   | 4959/8080 [06:01<03:23, 15.34it/s]"
          ]
        },
        {
          "output_type": "stream",
          "name": "stdout",
          "text": [
            "  Title mismatch for 'Single’s Inferno'. Searched API, but no exact match. First API candidate: 'Single's Inferno' (ID not added).\n",
            "  No 'results' key or empty results in API response for 'Til Money Do Us Part'\n"
          ]
        },
        {
          "output_type": "stream",
          "name": "stderr",
          "text": [
            "Fetching TMDB IDs:  61%|██████▏   | 4965/8080 [06:02<03:39, 14.18it/s]"
          ]
        },
        {
          "output_type": "stream",
          "name": "stdout",
          "text": [
            "  Title mismatch for 'Guillermo del Toro’s Pinocchio'. Searched API, but no exact match. First API candidate: 'Guillermo del Toro's Pinocchio' (ID not added).\n"
          ]
        },
        {
          "output_type": "stream",
          "name": "stderr",
          "text": [
            "Fetching TMDB IDs:  62%|██████▏   | 4978/8080 [06:03<03:44, 13.81it/s]"
          ]
        },
        {
          "output_type": "stream",
          "name": "stdout",
          "text": [
            "  Title mismatch for 'Codename: Tiranga'. Searched API, but no exact match. First API candidate: 'Code Name: Tiranga' (ID not added).\n"
          ]
        },
        {
          "output_type": "stream",
          "name": "stderr",
          "text": [
            "Fetching TMDB IDs:  62%|██████▏   | 4983/8080 [06:03<03:31, 14.63it/s]"
          ]
        },
        {
          "output_type": "stream",
          "name": "stdout",
          "text": [
            "  Title mismatch for 'HELL DOGS - IN THE HOUSE OF BAMBOO -'. Searched API, but no exact match. First API candidate: 'Hell Dogs' (ID not added).\n"
          ]
        },
        {
          "output_type": "stream",
          "name": "stderr",
          "text": [
            "Fetching TMDB IDs:  62%|██████▏   | 4997/8080 [06:04<03:23, 15.12it/s]"
          ]
        },
        {
          "output_type": "stream",
          "name": "stdout",
          "text": [
            "  No 'results' key or empty results in API response for 'Til Money Do Us Part'\n"
          ]
        },
        {
          "output_type": "stream",
          "name": "stderr",
          "text": [
            "Fetching TMDB IDs:  62%|██████▏   | 5003/8080 [06:04<03:11, 16.11it/s]"
          ]
        },
        {
          "output_type": "stream",
          "name": "stdout",
          "text": [
            "  Title mismatch for 'Single’s Inferno'. Searched API, but no exact match. First API candidate: 'Single's Inferno' (ID not added).\n",
            "  Title mismatch for 'Guillermo del Toro’s Pinocchio'. Searched API, but no exact match. First API candidate: 'Guillermo del Toro's Pinocchio' (ID not added).\n"
          ]
        },
        {
          "output_type": "stream",
          "name": "stderr",
          "text": [
            "Fetching TMDB IDs:  62%|██████▏   | 5020/8080 [06:05<03:56, 12.91it/s]"
          ]
        },
        {
          "output_type": "stream",
          "name": "stdout",
          "text": [
            "  Title mismatch for 'Codename: Tiranga'. Searched API, but no exact match. First API candidate: 'Code Name: Tiranga' (ID not added).\n",
            "  No 'results' key or empty results in API response for 'Kantara (Hindi)'\n"
          ]
        },
        {
          "output_type": "stream",
          "name": "stderr",
          "text": [
            "Fetching TMDB IDs:  62%|██████▏   | 5032/8080 [06:06<03:28, 14.59it/s]"
          ]
        },
        {
          "output_type": "stream",
          "name": "stdout",
          "text": [
            "  Title mismatch for 'Don't Pick Up the Phone'. Searched API, but no exact match. First API candidate: 'Pervert: Hunting the Strip Search Caller' (ID not added).\n"
          ]
        },
        {
          "output_type": "stream",
          "name": "stderr",
          "text": [
            "Fetching TMDB IDs:  62%|██████▏   | 5037/8080 [06:06<03:06, 16.28it/s]"
          ]
        },
        {
          "output_type": "stream",
          "name": "stdout",
          "text": [
            "  No 'results' key or empty results in API response for 'Til Money Do Us Part'\n"
          ]
        },
        {
          "output_type": "stream",
          "name": "stderr",
          "text": [
            "Fetching TMDB IDs:  62%|██████▏   | 5043/8080 [06:07<03:23, 14.94it/s]"
          ]
        },
        {
          "output_type": "stream",
          "name": "stdout",
          "text": [
            "  Title mismatch for 'Guillermo del Toro’s Pinocchio'. Searched API, but no exact match. First API candidate: 'Guillermo del Toro's Pinocchio' (ID not added).\n"
          ]
        },
        {
          "output_type": "stream",
          "name": "stderr",
          "text": [
            "Fetching TMDB IDs:  63%|██████▎   | 5063/8080 [06:08<03:23, 14.79it/s]"
          ]
        },
        {
          "output_type": "stream",
          "name": "stdout",
          "text": [
            "  No 'results' key or empty results in API response for 'Kantara (Hindi)'\n"
          ]
        },
        {
          "output_type": "stream",
          "name": "stderr",
          "text": [
            "Fetching TMDB IDs:  63%|██████▎   | 5070/8080 [06:09<03:14, 15.48it/s]"
          ]
        },
        {
          "output_type": "stream",
          "name": "stdout",
          "text": [
            "  Title mismatch for 'Snack VS. Chef'. Searched API, but no exact match. First API candidate: 'Snack vs Chef' (ID not added).\n"
          ]
        },
        {
          "output_type": "stream",
          "name": "stderr",
          "text": [
            "Fetching TMDB IDs:  63%|██████▎   | 5073/8080 [06:09<03:07, 16.01it/s]"
          ]
        },
        {
          "output_type": "stream",
          "name": "stdout",
          "text": [
            "  No 'results' key or empty results in API response for 'Til Money Do Us Part'\n"
          ]
        },
        {
          "output_type": "stream",
          "name": "stderr",
          "text": [
            "Fetching TMDB IDs:  63%|██████▎   | 5103/8080 [06:11<03:23, 14.61it/s]"
          ]
        },
        {
          "output_type": "stream",
          "name": "stdout",
          "text": [
            "  Title mismatch for 'Love Destiny The Movie'. Searched API, but no exact match. First API candidate: 'Love Destiny: The Movie' (ID not added).\n"
          ]
        },
        {
          "output_type": "stream",
          "name": "stderr",
          "text": [
            "Fetching TMDB IDs:  63%|██████▎   | 5115/8080 [06:12<03:13, 15.34it/s]"
          ]
        },
        {
          "output_type": "stream",
          "name": "stdout",
          "text": [
            "  No 'results' key or empty results in API response for 'Til Money Do Us Part'\n"
          ]
        },
        {
          "output_type": "stream",
          "name": "stderr",
          "text": [
            "Fetching TMDB IDs:  64%|██████▎   | 5137/8080 [06:13<03:49, 12.83it/s]"
          ]
        },
        {
          "output_type": "stream",
          "name": "stdout",
          "text": [
            "  No 'results' key or empty results in API response for 'GodFather (Hindi)'\n",
            "  No 'results' key or empty results in API response for 'Deception - Round D Corner'\n"
          ]
        },
        {
          "output_type": "stream",
          "name": "stderr",
          "text": [
            "Fetching TMDB IDs:  64%|██████▍   | 5155/8080 [06:15<03:05, 15.75it/s]"
          ]
        },
        {
          "output_type": "stream",
          "name": "stdout",
          "text": [
            "  No 'results' key or empty results in API response for 'Til Money Do Us Part'\n"
          ]
        },
        {
          "output_type": "stream",
          "name": "stderr",
          "text": [
            "Fetching TMDB IDs:  64%|██████▍   | 5194/8080 [06:17<02:58, 16.16it/s]"
          ]
        },
        {
          "output_type": "stream",
          "name": "stdout",
          "text": [
            "  No 'results' key or empty results in API response for 'Til Money Do Us Part'\n"
          ]
        },
        {
          "output_type": "stream",
          "name": "stderr",
          "text": [
            "Fetching TMDB IDs:  64%|██████▍   | 5200/8080 [06:18<03:08, 15.30it/s]"
          ]
        },
        {
          "output_type": "stream",
          "name": "stdout",
          "text": [
            "  Title mismatch for 'Pablo Escobar, el patrón del mal'. Searched API, but no exact match. First API candidate: 'Pablo Escobar: The Drug Lord' (ID not added).\n"
          ]
        },
        {
          "output_type": "stream",
          "name": "stderr",
          "text": [
            "Fetching TMDB IDs:  65%|██████▍   | 5233/8080 [06:20<03:16, 14.51it/s]"
          ]
        },
        {
          "output_type": "stream",
          "name": "stdout",
          "text": [
            "  No 'results' key or empty results in API response for 'Til Money Do Us Part'\n"
          ]
        },
        {
          "output_type": "stream",
          "name": "stderr",
          "text": [
            "Fetching TMDB IDs:  65%|██████▌   | 5269/8080 [06:22<03:33, 13.18it/s]"
          ]
        },
        {
          "output_type": "stream",
          "name": "stdout",
          "text": [
            "  Title mismatch for 'Half Bad: The Bastard Son & The Devil Himself'. Searched API, but no exact match. First API candidate: 'The Bastard Son & the Devil Himself' (ID not added).\n",
            "  Title mismatch for 'DAHMER'. Searched API, but no exact match. First API candidate: 'DAHMER - Monster: The Jeffrey Dahmer Story' (ID not added).\n"
          ]
        },
        {
          "output_type": "stream",
          "name": "stderr",
          "text": [
            "Fetching TMDB IDs:  65%|██████▌   | 5274/8080 [06:23<02:59, 15.60it/s]"
          ]
        },
        {
          "output_type": "stream",
          "name": "stdout",
          "text": [
            "  No 'results' key or empty results in API response for 'Til Money Do Us Part'\n"
          ]
        },
        {
          "output_type": "stream",
          "name": "stderr",
          "text": [
            "Fetching TMDB IDs:  66%|██████▌   | 5307/8080 [06:25<03:00, 15.36it/s]"
          ]
        },
        {
          "output_type": "stream",
          "name": "stdout",
          "text": [
            "  Title mismatch for 'DAHMER'. Searched API, but no exact match. First API candidate: 'DAHMER - Monster: The Jeffrey Dahmer Story' (ID not added).\n",
            "  Title mismatch for 'Half Bad: The Bastard Son & The Devil Himself'. Searched API, but no exact match. First API candidate: 'The Bastard Son & the Devil Himself' (ID not added).\n"
          ]
        },
        {
          "output_type": "stream",
          "name": "stderr",
          "text": [
            "Fetching TMDB IDs:  66%|██████▌   | 5313/8080 [06:25<02:57, 15.56it/s]"
          ]
        },
        {
          "output_type": "stream",
          "name": "stdout",
          "text": [
            "  No 'results' key or empty results in API response for 'Til Money Do Us Part'\n"
          ]
        },
        {
          "output_type": "stream",
          "name": "stderr",
          "text": [
            "Fetching TMDB IDs:  66%|██████▌   | 5343/8080 [06:27<03:24, 13.37it/s]"
          ]
        },
        {
          "output_type": "stream",
          "name": "stdout",
          "text": [
            "  Title mismatch for 'DAHMER'. Searched API, but no exact match. First API candidate: 'DAHMER - Monster: The Jeffrey Dahmer Story' (ID not added).\n"
          ]
        },
        {
          "output_type": "stream",
          "name": "stderr",
          "text": [
            "Fetching TMDB IDs:  66%|██████▋   | 5353/8080 [06:28<03:21, 13.51it/s]"
          ]
        },
        {
          "output_type": "stream",
          "name": "stdout",
          "text": [
            "  Title mismatch for 'Wild Croc Territory'. Searched API, but no exact match. First API candidate: 'Matt Wright's Wild Territory' (ID not added).\n",
            "  No 'results' key or empty results in API response for 'Til Money Do Us Part'\n"
          ]
        },
        {
          "output_type": "stream",
          "name": "stderr",
          "text": [
            "Fetching TMDB IDs:  67%|██████▋   | 5383/8080 [06:31<03:22, 13.34it/s]"
          ]
        },
        {
          "output_type": "stream",
          "name": "stdout",
          "text": [
            "  Title mismatch for 'DAHMER'. Searched API, but no exact match. First API candidate: 'DAHMER - Monster: The Jeffrey Dahmer Story' (ID not added).\n"
          ]
        },
        {
          "output_type": "stream",
          "name": "stderr",
          "text": [
            "Fetching TMDB IDs:  67%|██████▋   | 5420/8080 [06:33<03:40, 12.05it/s]"
          ]
        },
        {
          "output_type": "stream",
          "name": "stdout",
          "text": [
            "  No 'results' key or empty results in API response for 'Brazil 2002 - Behind the Scenes of Brazil's Fifth FIFA World Cup Victory'\n"
          ]
        },
        {
          "output_type": "stream",
          "name": "stderr",
          "text": [
            "Fetching TMDB IDs:  67%|██████▋   | 5422/8080 [06:33<03:25, 12.91it/s]"
          ]
        },
        {
          "output_type": "stream",
          "name": "stdout",
          "text": [
            "  Title mismatch for 'DAHMER'. Searched API, but no exact match. First API candidate: 'DAHMER - Monster: The Jeffrey Dahmer Story' (ID not added).\n"
          ]
        },
        {
          "output_type": "stream",
          "name": "stderr",
          "text": [
            "Fetching TMDB IDs:  68%|██████▊   | 5456/8080 [06:36<03:08, 13.91it/s]"
          ]
        },
        {
          "output_type": "stream",
          "name": "stdout",
          "text": [
            "  Title mismatch for 'Fullmetal Alchemist The Final Alchemy'. Searched API, but no exact match. First API candidate: 'Fullmetal Alchemist: The Final Alchemy' (ID not added).\n"
          ]
        },
        {
          "output_type": "stream",
          "name": "stderr",
          "text": [
            "Fetching TMDB IDs:  68%|██████▊   | 5462/8080 [06:36<02:54, 14.98it/s]"
          ]
        },
        {
          "output_type": "stream",
          "name": "stdout",
          "text": [
            "  No 'results' key or empty results in API response for 'RRR (Hindi)'\n",
            "  Title mismatch for 'DAHMER'. Searched API, but no exact match. First API candidate: 'DAHMER - Monster: The Jeffrey Dahmer Story' (ID not added).\n"
          ]
        },
        {
          "output_type": "stream",
          "name": "stderr",
          "text": [
            "Fetching TMDB IDs:  68%|██████▊   | 5472/8080 [06:37<02:37, 16.51it/s]"
          ]
        },
        {
          "output_type": "stream",
          "name": "stdout",
          "text": [
            "  Title mismatch for 'Inside the World’s Toughest Prisons'. Searched API, but no exact match. First API candidate: 'Inside the World's Toughest Prisons' (ID not added).\n"
          ]
        },
        {
          "output_type": "stream",
          "name": "stderr",
          "text": [
            "Fetching TMDB IDs:  68%|██████▊   | 5502/8080 [06:39<02:57, 14.51it/s]"
          ]
        },
        {
          "output_type": "stream",
          "name": "stdout",
          "text": [
            "  Title mismatch for 'Fullmetal Alchemist The Final Alchemy'. Searched API, but no exact match. First API candidate: 'Fullmetal Alchemist: The Final Alchemy' (ID not added).\n",
            "  Title mismatch for 'DAHMER'. Searched API, but no exact match. First API candidate: 'DAHMER - Monster: The Jeffrey Dahmer Story' (ID not added).\n"
          ]
        },
        {
          "output_type": "stream",
          "name": "stderr",
          "text": [
            "Fetching TMDB IDs:  70%|██████▉   | 5650/8080 [06:50<03:03, 13.23it/s]"
          ]
        },
        {
          "output_type": "stream",
          "name": "stdout",
          "text": [
            "  No 'results' key or empty results in API response for 'Untold: The Girlfriend Who Didn't Exist'\n"
          ]
        },
        {
          "output_type": "stream",
          "name": "stderr",
          "text": [
            "Fetching TMDB IDs:  70%|██████▉   | 5654/8080 [06:50<02:53, 13.96it/s]"
          ]
        },
        {
          "output_type": "stream",
          "name": "stdout",
          "text": [
            "  Title mismatch for 'Fullmetal Alchemist The Revenge of Scar'. Searched API, but no exact match. First API candidate: 'Fullmetal Alchemist: The Revenge of Scar' (ID not added).\n"
          ]
        },
        {
          "output_type": "stream",
          "name": "stderr",
          "text": [
            "Fetching TMDB IDs:  70%|███████   | 5687/8080 [06:52<02:40, 14.93it/s]"
          ]
        },
        {
          "output_type": "stream",
          "name": "stdout",
          "text": [
            "  No 'results' key or empty results in API response for 'Untold: The Girlfriend Who Didn't Exist'\n"
          ]
        },
        {
          "output_type": "stream",
          "name": "stderr",
          "text": [
            "Fetching TMDB IDs:  70%|███████   | 5695/8080 [06:53<03:03, 13.03it/s]"
          ]
        },
        {
          "output_type": "stream",
          "name": "stdout",
          "text": [
            "  Title mismatch for 'Fullmetal Alchemist The Revenge of Scar'. Searched API, but no exact match. First API candidate: 'Fullmetal Alchemist: The Revenge of Scar' (ID not added).\n"
          ]
        },
        {
          "output_type": "stream",
          "name": "stderr",
          "text": [
            "Fetching TMDB IDs:  71%|███████   | 5701/8080 [06:53<02:56, 13.48it/s]"
          ]
        },
        {
          "output_type": "stream",
          "name": "stdout",
          "text": [
            "  No 'results' key or empty results in API response for 'Shabaash Mithu (Hindi)'\n",
            "  No 'results' key or empty results in API response for 'RRR (Hindi)'\n"
          ]
        },
        {
          "output_type": "stream",
          "name": "stderr",
          "text": [
            "Fetching TMDB IDs:  71%|███████   | 5737/8080 [06:55<02:47, 14.02it/s]"
          ]
        },
        {
          "output_type": "stream",
          "name": "stdout",
          "text": [
            "  Title mismatch for 'Don’t Blame Karma!'. Searched API, but no exact match. First API candidate: 'Don't Blame Karma!' (ID not added).\n",
            "  No 'results' key or empty results in API response for 'Shabaash Mithu (Hindi)'\n"
          ]
        },
        {
          "output_type": "stream",
          "name": "stderr",
          "text": [
            "Fetching TMDB IDs:  71%|███████   | 5743/8080 [06:56<02:33, 15.25it/s]"
          ]
        },
        {
          "output_type": "stream",
          "name": "stdout",
          "text": [
            "  No 'results' key or empty results in API response for 'RRR (Hindi)'\n"
          ]
        },
        {
          "output_type": "stream",
          "name": "stderr",
          "text": [
            "Fetching TMDB IDs:  71%|███████▏  | 5774/8080 [06:58<02:38, 14.54it/s]"
          ]
        },
        {
          "output_type": "stream",
          "name": "stdout",
          "text": [
            "  Title mismatch for 'Don’t Blame Karma!'. Searched API, but no exact match. First API candidate: 'Don't Blame Karma!' (ID not added).\n"
          ]
        },
        {
          "output_type": "stream",
          "name": "stderr",
          "text": [
            "Fetching TMDB IDs:  72%|███████▏  | 5780/8080 [06:58<02:52, 13.31it/s]"
          ]
        },
        {
          "output_type": "stream",
          "name": "stdout",
          "text": [
            "  No 'results' key or empty results in API response for 'RRR (Hindi)'\n"
          ]
        },
        {
          "output_type": "stream",
          "name": "stderr",
          "text": [
            "Fetching TMDB IDs:  72%|███████▏  | 5818/8080 [07:01<03:04, 12.27it/s]"
          ]
        },
        {
          "output_type": "stream",
          "name": "stdout",
          "text": [
            "  No 'results' key or empty results in API response for 'RRR (Hindi)'\n"
          ]
        },
        {
          "output_type": "stream",
          "name": "stderr",
          "text": [
            "Fetching TMDB IDs:  72%|███████▏  | 5820/8080 [07:01<03:26, 10.97it/s]"
          ]
        },
        {
          "output_type": "stream",
          "name": "stdout",
          "text": [
            "  No 'results' key or empty results in API response for 'Foot Fairy (Hindi)'\n"
          ]
        },
        {
          "output_type": "stream",
          "name": "stderr",
          "text": [
            "Fetching TMDB IDs:  73%|███████▎  | 5859/8080 [07:04<02:54, 12.76it/s]"
          ]
        },
        {
          "output_type": "stream",
          "name": "stdout",
          "text": [
            "  Title mismatch for 'My Daughter’s Killer'. Searched API, but no exact match. First API candidate: 'My Daughter's Killer' (ID not added).\n",
            "  No 'results' key or empty results in API response for 'RRR (Hindi)'\n",
            "  Title mismatch for 'Vaashi (Malayalam)'. Searched API, but no exact match. First API candidate: 'Vaashi' (ID not added).\n"
          ]
        },
        {
          "output_type": "stream",
          "name": "stderr",
          "text": [
            "Fetching TMDB IDs:  73%|███████▎  | 5896/8080 [07:06<02:43, 13.39it/s]"
          ]
        },
        {
          "output_type": "stream",
          "name": "stdout",
          "text": [
            "  Title mismatch for 'My Daughter’s Killer'. Searched API, but no exact match. First API candidate: 'My Daughter's Killer' (ID not added).\n",
            "  Title mismatch for 'Ante Sundaraniki'. Searched API, but no exact match. First API candidate: 'Ante... Sundaraniki!' (ID not added).\n"
          ]
        },
        {
          "output_type": "stream",
          "name": "stderr",
          "text": [
            "Fetching TMDB IDs:  73%|███████▎  | 5900/8080 [07:06<02:46, 13.08it/s]"
          ]
        },
        {
          "output_type": "stream",
          "name": "stdout",
          "text": [
            "  Title mismatch for 'Mirreyes vs Godinez'. Searched API, but no exact match. First API candidate: 'Mirreyes vs Godínez - La Colección' (ID not added).\n",
            "  No 'results' key or empty results in API response for 'RRR (Hindi)'\n",
            "  No 'results' key or empty results in API response for 'Major (Hindi)'\n"
          ]
        },
        {
          "output_type": "stream",
          "name": "stderr",
          "text": [
            "Fetching TMDB IDs:  73%|███████▎  | 5934/8080 [07:08<02:20, 15.23it/s]"
          ]
        },
        {
          "output_type": "stream",
          "name": "stdout",
          "text": [
            "  No 'results' key or empty results in API response for 'Major (Hindi)'\n",
            "  Title mismatch for 'Tadeo Jones 2: El secreto del Rey Midas'. Searched API, but no exact match. First API candidate: 'Tad, the Lost Explorer, and the Secret of King Midas' (ID not added).\n",
            "  No 'results' key or empty results in API response for 'RRR (Hindi)'\n"
          ]
        },
        {
          "output_type": "stream",
          "name": "stderr",
          "text": [
            "Fetching TMDB IDs:  73%|███████▎  | 5938/8080 [07:09<02:43, 13.07it/s]"
          ]
        },
        {
          "output_type": "stream",
          "name": "stdout",
          "text": [
            "  No 'results' key or empty results in API response for 'Leon's Heart'\n",
            "  No 'results' key or empty results in API response for 'Major (Telugu)'\n"
          ]
        },
        {
          "output_type": "stream",
          "name": "stderr",
          "text": [
            "Fetching TMDB IDs:  74%|███████▍  | 5962/8080 [07:10<02:25, 14.56it/s]"
          ]
        },
        {
          "output_type": "stream",
          "name": "stdout",
          "text": [
            "  Title mismatch for 'Malverde, el santo patrón'. Searched API, but no exact match. First API candidate: 'Malverde: El Santo Patrón' (ID not added).\n"
          ]
        },
        {
          "output_type": "stream",
          "name": "stderr",
          "text": [
            "Fetching TMDB IDs:  74%|███████▍  | 5978/8080 [07:12<03:12, 10.95it/s]"
          ]
        },
        {
          "output_type": "stream",
          "name": "stdout",
          "text": [
            "  No 'results' key or empty results in API response for 'RRR (Hindi)'\n",
            "  No 'results' key or empty results in API response for 'Leon's Heart'\n"
          ]
        },
        {
          "output_type": "stream",
          "name": "stderr",
          "text": [
            "Fetching TMDB IDs:  74%|███████▍  | 5980/8080 [07:12<03:20, 10.46it/s]"
          ]
        },
        {
          "output_type": "stream",
          "name": "stdout",
          "text": [
            "  Title mismatch for 'Tadeo Jones 2: El secreto del Rey Midas'. Searched API, but no exact match. First API candidate: 'Tad, the Lost Explorer, and the Secret of King Midas' (ID not added).\n"
          ]
        },
        {
          "output_type": "stream",
          "name": "stderr",
          "text": [
            "Fetching TMDB IDs:  74%|███████▍  | 5999/8080 [07:13<02:45, 12.59it/s]"
          ]
        },
        {
          "output_type": "stream",
          "name": "stdout",
          "text": [
            "  Title mismatch for 'Malverde, el santo patrón'. Searched API, but no exact match. First API candidate: 'Malverde: El Santo Patrón' (ID not added).\n"
          ]
        },
        {
          "output_type": "stream",
          "name": "stderr",
          "text": [
            "Fetching TMDB IDs:  74%|███████▍  | 6003/8080 [07:13<02:29, 13.93it/s]"
          ]
        },
        {
          "output_type": "stream",
          "name": "stdout",
          "text": [
            "  Title mismatch for 'Queen'. Searched API, but no exact match. First API candidate: 'The Queen of Flow' (ID not added).\n"
          ]
        },
        {
          "output_type": "stream",
          "name": "stderr",
          "text": [
            "Fetching TMDB IDs:  74%|███████▍  | 6017/8080 [07:15<02:45, 12.47it/s]"
          ]
        },
        {
          "output_type": "stream",
          "name": "stdout",
          "text": [
            "  Title mismatch for 'Loca por el trabajo'. Searched API, but no exact match. First API candidate: 'Crazy About Work' (ID not added).\n",
            "  No 'results' key or empty results in API response for 'RRR (Hindi)'\n"
          ]
        },
        {
          "output_type": "stream",
          "name": "stderr",
          "text": [
            "Fetching TMDB IDs:  75%|███████▍  | 6036/8080 [07:16<02:11, 15.56it/s]"
          ]
        },
        {
          "output_type": "stream",
          "name": "stdout",
          "text": [
            "  Title mismatch for 'Malverde, el santo patrón'. Searched API, but no exact match. First API candidate: 'Malverde: El Santo Patrón' (ID not added).\n"
          ]
        },
        {
          "output_type": "stream",
          "name": "stderr",
          "text": [
            "Fetching TMDB IDs:  75%|███████▍  | 6057/8080 [07:17<02:18, 14.56it/s]"
          ]
        },
        {
          "output_type": "stream",
          "name": "stdout",
          "text": [
            "  Title mismatch for 'Loca por el trabajo'. Searched API, but no exact match. First API candidate: 'Crazy About Work' (ID not added).\n",
            "  No 'results' key or empty results in API response for 'RRR (Hindi)'\n"
          ]
        },
        {
          "output_type": "stream",
          "name": "stderr",
          "text": [
            "Fetching TMDB IDs:  75%|███████▌  | 6075/8080 [07:19<02:05, 16.02it/s]"
          ]
        },
        {
          "output_type": "stream",
          "name": "stdout",
          "text": [
            "  Title mismatch for 'Malverde, el santo patrón'. Searched API, but no exact match. First API candidate: 'Malverde: El Santo Patrón' (ID not added).\n"
          ]
        },
        {
          "output_type": "stream",
          "name": "stderr",
          "text": [
            "Fetching TMDB IDs:  75%|███████▌  | 6092/8080 [07:20<02:34, 12.90it/s]"
          ]
        },
        {
          "output_type": "stream",
          "name": "stdout",
          "text": [
            "  No 'results' key or empty results in API response for 'RRR (Hindi)'\n",
            "  Title mismatch for 'El paseo 6'. Searched API, but no exact match. First API candidate: 'The Trip 6' (ID not added).\n"
          ]
        },
        {
          "output_type": "stream",
          "name": "stderr",
          "text": [
            "Fetching TMDB IDs:  76%|███████▌  | 6117/8080 [07:21<01:57, 16.71it/s]"
          ]
        },
        {
          "output_type": "stream",
          "name": "stdout",
          "text": [
            "  Title mismatch for 'Malverde, el santo patrón'. Searched API, but no exact match. First API candidate: 'Malverde: El Santo Patrón' (ID not added).\n"
          ]
        },
        {
          "output_type": "stream",
          "name": "stderr",
          "text": [
            "Fetching TMDB IDs:  76%|███████▌  | 6132/8080 [07:23<02:28, 13.08it/s]"
          ]
        },
        {
          "output_type": "stream",
          "name": "stdout",
          "text": [
            "  No 'results' key or empty results in API response for 'RRR (Hindi)'\n"
          ]
        },
        {
          "output_type": "stream",
          "name": "stderr",
          "text": [
            "Fetching TMDB IDs:  76%|███████▋  | 6174/8080 [07:26<02:06, 15.02it/s]"
          ]
        },
        {
          "output_type": "stream",
          "name": "stdout",
          "text": [
            "  No 'results' key or empty results in API response for 'RRR (Hindi)'\n"
          ]
        },
        {
          "output_type": "stream",
          "name": "stderr",
          "text": [
            "Fetching TMDB IDs:  77%|███████▋  | 6218/8080 [07:29<01:57, 15.83it/s]"
          ]
        },
        {
          "output_type": "stream",
          "name": "stdout",
          "text": [
            "  No 'results' key or empty results in API response for 'RRR (Hindi)'\n"
          ]
        },
        {
          "output_type": "stream",
          "name": "stderr",
          "text": [
            "Fetching TMDB IDs:  77%|███████▋  | 6223/8080 [07:29<01:56, 16.00it/s]"
          ]
        },
        {
          "output_type": "stream",
          "name": "stdout",
          "text": [
            "  No 'results' key or empty results in API response for 'Raw (Hindi)'\n"
          ]
        },
        {
          "output_type": "stream",
          "name": "stderr",
          "text": [
            "Fetching TMDB IDs:  77%|███████▋  | 6256/8080 [07:31<02:07, 14.30it/s]"
          ]
        },
        {
          "output_type": "stream",
          "name": "stdout",
          "text": [
            "  No 'results' key or empty results in API response for 'Raw (Hindi)'\n",
            "  Title mismatch for 'Beast (Tamil)'. Searched API, but no exact match. First API candidate: 'Beast' (ID not added).\n"
          ]
        },
        {
          "output_type": "stream",
          "name": "stderr",
          "text": [
            "Fetching TMDB IDs:  78%|███████▊  | 6263/8080 [07:31<02:04, 14.62it/s]"
          ]
        },
        {
          "output_type": "stream",
          "name": "stdout",
          "text": [
            "  No 'results' key or empty results in API response for 'Radhe Shyam (Hindi)'\n"
          ]
        },
        {
          "output_type": "stream",
          "name": "stderr",
          "text": [
            "Fetching TMDB IDs:  78%|███████▊  | 6296/8080 [07:34<02:21, 12.62it/s]"
          ]
        },
        {
          "output_type": "stream",
          "name": "stdout",
          "text": [
            "  Title mismatch for 'Rumspringa - An Amish in Berlin'. Searched API, but no exact match. First API candidate: 'Rumspringa' (ID not added).\n",
            "  No 'results' key or empty results in API response for 'Radhe Shyam (Hindi)'\n"
          ]
        },
        {
          "output_type": "stream",
          "name": "stderr",
          "text": [
            "Fetching TMDB IDs:  78%|███████▊  | 6298/8080 [07:34<02:33, 11.59it/s]"
          ]
        },
        {
          "output_type": "stream",
          "name": "stdout",
          "text": [
            "  No 'results' key or empty results in API response for 'I Swear It Wasn't Me'\n"
          ]
        },
        {
          "output_type": "stream",
          "name": "stderr",
          "text": [
            "Fetching TMDB IDs:  78%|███████▊  | 6341/8080 [07:37<02:11, 13.22it/s]"
          ]
        },
        {
          "output_type": "stream",
          "name": "stdout",
          "text": [
            "  No 'results' key or empty results in API response for 'I Swear It Wasn't Me'\n"
          ]
        },
        {
          "output_type": "stream",
          "name": "stderr",
          "text": [
            "Fetching TMDB IDs:  79%|███████▉  | 6377/8080 [07:40<02:16, 12.49it/s]"
          ]
        },
        {
          "output_type": "stream",
          "name": "stdout",
          "text": [
            "  Title mismatch for 'One Piece Film Z'. Searched API, but no exact match. First API candidate: 'One Piece Film: Z' (ID not added).\n"
          ]
        },
        {
          "output_type": "stream",
          "name": "stderr",
          "text": [
            "Fetching TMDB IDs:  80%|████████  | 6499/8080 [07:48<02:51,  9.22it/s]"
          ]
        },
        {
          "output_type": "stream",
          "name": "stdout",
          "text": [
            "  Title mismatch for ''83'. Searched API, but no exact match. First API candidate: '83' (ID not added).\n"
          ]
        },
        {
          "output_type": "stream",
          "name": "stderr",
          "text": [
            "Fetching TMDB IDs:  81%|████████  | 6535/8080 [07:51<01:50, 14.02it/s]"
          ]
        },
        {
          "output_type": "stream",
          "name": "stdout",
          "text": [
            "  Title mismatch for ''83'. Searched API, but no exact match. First API candidate: '83' (ID not added).\n",
            "  Title mismatch for 'The Bombardment'. Searched API, but no exact match. First API candidate: 'Bombardment of Taku Forts, by the Allied Fleets' (ID not added).\n"
          ]
        },
        {
          "output_type": "stream",
          "name": "stderr",
          "text": [
            "Fetching TMDB IDs:  81%|████████▏ | 6573/8080 [07:53<01:39, 15.19it/s]"
          ]
        },
        {
          "output_type": "stream",
          "name": "stdout",
          "text": [
            "  Title mismatch for 'A Madea Homecoming'. Searched API, but no exact match. First API candidate: 'Tyler Perry's A Madea Homecoming' (ID not added).\n",
            "  Title mismatch for 'The Bombardment'. Searched API, but no exact match. First API candidate: 'Bombardment of Taku Forts, by the Allied Fleets' (ID not added).\n"
          ]
        },
        {
          "output_type": "stream",
          "name": "stderr",
          "text": [
            "Fetching TMDB IDs:  81%|████████▏ | 6577/8080 [07:53<01:53, 13.23it/s]"
          ]
        },
        {
          "output_type": "stream",
          "name": "stdout",
          "text": [
            "  Title mismatch for 'Chernobyl 1986'. Searched API, but no exact match. First API candidate: 'Chernobyl: Abyss' (ID not added).\n"
          ]
        },
        {
          "output_type": "stream",
          "name": "stderr",
          "text": [
            "Fetching TMDB IDs:  82%|████████▏ | 6599/8080 [07:55<01:48, 13.60it/s]"
          ]
        },
        {
          "output_type": "stream",
          "name": "stdout",
          "text": [
            "  Title mismatch for 'The Great Robbery of Brazil's Central Bank'. Searched API, but no exact match. First API candidate: 'Hei$t: The Great Robbery of Brazil's Central Bank' (ID not added).\n"
          ]
        },
        {
          "output_type": "stream",
          "name": "stderr",
          "text": [
            "Fetching TMDB IDs:  82%|████████▏ | 6609/8080 [07:55<01:40, 14.69it/s]"
          ]
        },
        {
          "output_type": "stream",
          "name": "stdout",
          "text": [
            "  Title mismatch for 'A Madea Homecoming'. Searched API, but no exact match. First API candidate: 'Tyler Perry's A Madea Homecoming' (ID not added).\n"
          ]
        },
        {
          "output_type": "stream",
          "name": "stderr",
          "text": [
            "Fetching TMDB IDs:  82%|████████▏ | 6613/8080 [07:56<01:35, 15.41it/s]"
          ]
        },
        {
          "output_type": "stream",
          "name": "stdout",
          "text": [
            "  Title mismatch for 'The Bombardment'. Searched API, but no exact match. First API candidate: 'Bombardment of Taku Forts, by the Allied Fleets' (ID not added).\n"
          ]
        },
        {
          "output_type": "stream",
          "name": "stderr",
          "text": [
            "Fetching TMDB IDs:  82%|████████▏ | 6617/8080 [07:56<01:45, 13.84it/s]"
          ]
        },
        {
          "output_type": "stream",
          "name": "stdout",
          "text": [
            "  Title mismatch for 'Chernobyl 1986'. Searched API, but no exact match. First API candidate: 'Chernobyl: Abyss' (ID not added).\n"
          ]
        },
        {
          "output_type": "stream",
          "name": "stderr",
          "text": [
            "Fetching TMDB IDs:  82%|████████▏ | 6645/8080 [07:58<01:24, 16.99it/s]"
          ]
        },
        {
          "output_type": "stream",
          "name": "stdout",
          "text": [
            "  Title mismatch for 'A Madea Homecoming'. Searched API, but no exact match. First API candidate: 'Tyler Perry's A Madea Homecoming' (ID not added).\n"
          ]
        },
        {
          "output_type": "stream",
          "name": "stderr",
          "text": [
            "Fetching TMDB IDs:  82%|████████▏ | 6654/8080 [07:58<01:28, 16.20it/s]"
          ]
        },
        {
          "output_type": "stream",
          "name": "stdout",
          "text": [
            "  Title mismatch for 'Chernobyl 1986'. Searched API, but no exact match. First API candidate: 'Chernobyl: Abyss' (ID not added).\n"
          ]
        },
        {
          "output_type": "stream",
          "name": "stderr",
          "text": [
            "Fetching TMDB IDs:  83%|████████▎ | 6681/8080 [08:00<01:26, 16.11it/s]"
          ]
        },
        {
          "output_type": "stream",
          "name": "stdout",
          "text": [
            "  Title mismatch for 'A Madea Homecoming'. Searched API, but no exact match. First API candidate: 'Tyler Perry's A Madea Homecoming' (ID not added).\n"
          ]
        },
        {
          "output_type": "stream",
          "name": "stderr",
          "text": [
            "Fetching TMDB IDs:  83%|████████▎ | 6699/8080 [08:02<01:51, 12.43it/s]"
          ]
        },
        {
          "output_type": "stream",
          "name": "stdout",
          "text": [
            "  Title mismatch for 'Todos queremos a alguien'. Searched API, but no exact match. First API candidate: 'Everybody Loves Somebody' (ID not added).\n"
          ]
        },
        {
          "output_type": "stream",
          "name": "stderr",
          "text": [
            "Fetching TMDB IDs:  83%|████████▎ | 6739/8080 [08:05<01:59, 11.19it/s]"
          ]
        },
        {
          "output_type": "stream",
          "name": "stdout",
          "text": [
            "  No 'results' key or empty results in API response for 'Parallel Roads'\n"
          ]
        },
        {
          "output_type": "stream",
          "name": "stderr",
          "text": [
            "Fetching TMDB IDs:  84%|████████▍ | 6783/8080 [08:08<01:30, 14.30it/s]"
          ]
        },
        {
          "output_type": "stream",
          "name": "stdout",
          "text": [
            "  Title mismatch for 'Luccas Neto in: The Magical Hotel 2'. Searched API, but no exact match. First API candidate: 'Luccas Neto in: Magic Hotel 2' (ID not added).\n"
          ]
        },
        {
          "output_type": "stream",
          "name": "stderr",
          "text": [
            "Fetching TMDB IDs:  84%|████████▍ | 6817/8080 [08:10<01:37, 12.94it/s]"
          ]
        },
        {
          "output_type": "stream",
          "name": "stdout",
          "text": [
            "  Title mismatch for 'أصحاب ...ولا أعزّ'. Searched API, but no exact match. First API candidate: 'Perfect Strangers' (ID not added).\n"
          ]
        },
        {
          "output_type": "stream",
          "name": "stderr",
          "text": [
            "Fetching TMDB IDs:  85%|████████▍ | 6855/8080 [08:13<01:42, 11.91it/s]"
          ]
        },
        {
          "output_type": "stream",
          "name": "stdout",
          "text": [
            "  Title mismatch for 'أصحاب ...ولا أعزّ'. Searched API, but no exact match. First API candidate: 'Perfect Strangers' (ID not added).\n"
          ]
        },
        {
          "output_type": "stream",
          "name": "stderr",
          "text": [
            "Fetching TMDB IDs:  85%|████████▌ | 6896/8080 [08:15<01:19, 14.98it/s]"
          ]
        },
        {
          "output_type": "stream",
          "name": "stdout",
          "text": [
            "  Title mismatch for 'أصحاب ...ولا أعزّ'. Searched API, but no exact match. First API candidate: 'Perfect Strangers' (ID not added).\n"
          ]
        },
        {
          "output_type": "stream",
          "name": "stderr",
          "text": [
            "Fetching TMDB IDs:  86%|████████▌ | 6956/8080 [08:19<01:04, 17.48it/s]"
          ]
        },
        {
          "output_type": "stream",
          "name": "stdout",
          "text": [
            "  Title mismatch for 'Single’s Inferno'. Searched API, but no exact match. First API candidate: 'Single's Inferno' (ID not added).\n"
          ]
        },
        {
          "output_type": "stream",
          "name": "stderr",
          "text": [
            "Fetching TMDB IDs:  87%|████████▋ | 6996/8080 [08:22<01:07, 16.02it/s]"
          ]
        },
        {
          "output_type": "stream",
          "name": "stdout",
          "text": [
            "  Title mismatch for 'Single’s Inferno'. Searched API, but no exact match. First API candidate: 'Single's Inferno' (ID not added).\n"
          ]
        },
        {
          "output_type": "stream",
          "name": "stderr",
          "text": [
            "Fetching TMDB IDs:  87%|████████▋ | 7041/8080 [08:25<01:03, 16.28it/s]"
          ]
        },
        {
          "output_type": "stream",
          "name": "stdout",
          "text": [
            "  Title mismatch for 'Single’s Inferno'. Searched API, but no exact match. First API candidate: 'Single's Inferno' (ID not added).\n"
          ]
        },
        {
          "output_type": "stream",
          "name": "stderr",
          "text": [
            "Fetching TMDB IDs:  88%|████████▊ | 7098/8080 [08:29<01:03, 15.55it/s]"
          ]
        },
        {
          "output_type": "stream",
          "name": "stdout",
          "text": [
            "  Title mismatch for 'Bordertown: Mural Murders'. Searched API, but no exact match. First API candidate: 'Bordertown: The Mural Murders' (ID not added).\n"
          ]
        },
        {
          "output_type": "stream",
          "name": "stderr",
          "text": [
            "Fetching TMDB IDs:  88%|████████▊ | 7139/8080 [08:31<01:04, 14.60it/s]"
          ]
        },
        {
          "output_type": "stream",
          "name": "stdout",
          "text": [
            "  Title mismatch for 'Bordertown: Mural Murders'. Searched API, but no exact match. First API candidate: 'Bordertown: The Mural Murders' (ID not added).\n"
          ]
        },
        {
          "output_type": "stream",
          "name": "stderr",
          "text": [
            "Fetching TMDB IDs:  89%|████████▉ | 7183/8080 [08:34<00:58, 15.46it/s]"
          ]
        },
        {
          "output_type": "stream",
          "name": "stdout",
          "text": [
            "  Title mismatch for 'Bordertown: Mural Murders'. Searched API, but no exact match. First API candidate: 'Bordertown: The Mural Murders' (ID not added).\n"
          ]
        },
        {
          "output_type": "stream",
          "name": "stderr",
          "text": [
            "Fetching TMDB IDs:  90%|█████████ | 7302/8080 [08:42<00:55, 13.90it/s]"
          ]
        },
        {
          "output_type": "stream",
          "name": "stdout",
          "text": [
            "  No 'results' key or empty results in API response for 'Doctor (Tamil)'\n"
          ]
        },
        {
          "output_type": "stream",
          "name": "stderr",
          "text": [
            "Fetching TMDB IDs:  91%|█████████ | 7343/8080 [08:45<00:48, 15.09it/s]"
          ]
        },
        {
          "output_type": "stream",
          "name": "stdout",
          "text": [
            "  No 'results' key or empty results in API response for 'Doctor (Tamil)'\n"
          ]
        },
        {
          "output_type": "stream",
          "name": "stderr",
          "text": [
            "Fetching TMDB IDs:  91%|█████████ | 7361/8080 [08:46<00:40, 17.59it/s]"
          ]
        },
        {
          "output_type": "stream",
          "name": "stdout",
          "text": [
            "  Title mismatch for 'Luis Miguel - The Series'. Searched API, but no exact match. First API candidate: 'Luis Miguel: The Series' (ID not added).\n"
          ]
        },
        {
          "output_type": "stream",
          "name": "stderr",
          "text": [
            "Fetching TMDB IDs:  92%|█████████▏| 7400/8080 [08:48<00:39, 17.18it/s]"
          ]
        },
        {
          "output_type": "stream",
          "name": "stdout",
          "text": [
            "  Title mismatch for 'Luis Miguel - The Series'. Searched API, but no exact match. First API candidate: 'Luis Miguel: The Series' (ID not added).\n"
          ]
        },
        {
          "output_type": "stream",
          "name": "stderr",
          "text": [
            "Fetching TMDB IDs:  92%|█████████▏| 7459/8080 [08:53<00:51, 12.09it/s]"
          ]
        },
        {
          "output_type": "stream",
          "name": "stdout",
          "text": [
            "  No 'results' key or empty results in API response for 'Anything for a Pop Star'\n",
            "  Title mismatch for 'Violet Evergarden the Movie'. Searched API, but no exact match. First API candidate: 'Violet Evergarden: The Movie' (ID not added).\n"
          ]
        },
        {
          "output_type": "stream",
          "name": "stderr",
          "text": [
            "Fetching TMDB IDs:  92%|█████████▏| 7465/8080 [08:53<00:43, 13.99it/s]"
          ]
        },
        {
          "output_type": "stream",
          "name": "stdout",
          "text": [
            "  No 'results' key or empty results in API response for 'Shameless (U.S.)'\n"
          ]
        },
        {
          "output_type": "stream",
          "name": "stderr",
          "text": [
            "Fetching TMDB IDs:  93%|█████████▎| 7511/8080 [08:56<00:41, 13.68it/s]"
          ]
        },
        {
          "output_type": "stream",
          "name": "stdout",
          "text": [
            "  No 'results' key or empty results in API response for 'Dave Chappelle: The Closer'\n"
          ]
        },
        {
          "output_type": "stream",
          "name": "stderr",
          "text": [
            "Fetching TMDB IDs:  93%|█████████▎| 7525/8080 [08:57<00:38, 14.33it/s]"
          ]
        },
        {
          "output_type": "stream",
          "name": "stdout",
          "text": [
            "  Title mismatch for 'Britney Vs Spears'. Searched API, but no exact match. First API candidate: 'Britney vs. Spears' (ID not added).\n"
          ]
        },
        {
          "output_type": "stream",
          "name": "stderr",
          "text": [
            "Fetching TMDB IDs:  93%|█████████▎| 7541/8080 [08:58<00:42, 12.74it/s]"
          ]
        },
        {
          "output_type": "stream",
          "name": "stdout",
          "text": [
            "  Title mismatch for 'Freaks – You're One of Us'. Searched API, but no exact match. First API candidate: 'Freaks - You're One of Us' (ID not added).\n"
          ]
        },
        {
          "output_type": "stream",
          "name": "stderr",
          "text": [
            "Fetching TMDB IDs:  94%|█████████▍| 7576/8080 [09:01<00:41, 12.15it/s]"
          ]
        },
        {
          "output_type": "stream",
          "name": "stdout",
          "text": [
            "  Title mismatch for 'Forgotten We'll Be'. Searched API, but no exact match. First API candidate: 'We'll Have Already Forgotten' (ID not added).\n"
          ]
        },
        {
          "output_type": "stream",
          "name": "stderr",
          "text": [
            "Fetching TMDB IDs:  94%|█████████▍| 7608/8080 [09:03<00:33, 13.92it/s]"
          ]
        },
        {
          "output_type": "stream",
          "name": "stdout",
          "text": [
            "  Title mismatch for 'Firedrake the Silver Dragon'. Searched API, but no exact match. First API candidate: 'Dragon Rider' (ID not added).\n"
          ]
        },
        {
          "output_type": "stream",
          "name": "stderr",
          "text": [
            "Fetching TMDB IDs:  94%|█████████▍| 7616/8080 [09:03<00:38, 12.03it/s]"
          ]
        },
        {
          "output_type": "stream",
          "name": "stdout",
          "text": [
            "  Title mismatch for 'O Candidato Honesto 2'. Searched API, but no exact match. First API candidate: 'The Honest Candidate 2' (ID not added).\n",
            "  Title mismatch for 'Ilhados'. Searched API, but no exact match. First API candidate: 'Stranded' (ID not added).\n"
          ]
        },
        {
          "output_type": "stream",
          "name": "stderr",
          "text": [
            "Fetching TMDB IDs:  95%|█████████▍| 7647/8080 [09:06<00:31, 13.66it/s]"
          ]
        },
        {
          "output_type": "stream",
          "name": "stdout",
          "text": [
            "  Title mismatch for 'SAS: Rise of the Black Swan'. Searched API, but no exact match. First API candidate: 'SAS: Red Notice' (ID not added).\n"
          ]
        },
        {
          "output_type": "stream",
          "name": "stderr",
          "text": [
            "Fetching TMDB IDs:  95%|█████████▌| 7685/8080 [09:08<00:26, 15.18it/s]"
          ]
        },
        {
          "output_type": "stream",
          "name": "stdout",
          "text": [
            "  Title mismatch for 'SAS: Rise of the Black Swan'. Searched API, but no exact match. First API candidate: 'SAS: Red Notice' (ID not added).\n"
          ]
        },
        {
          "output_type": "stream",
          "name": "stderr",
          "text": [
            "Fetching TMDB IDs:  95%|█████████▌| 7699/8080 [09:10<00:34, 11.07it/s]"
          ]
        },
        {
          "output_type": "stream",
          "name": "stdout",
          "text": [
            "  Title mismatch for 'Thimmarusu'. Searched API, but no exact match. First API candidate: 'Mahamantri Thimmarusu' (ID not added).\n"
          ]
        },
        {
          "output_type": "stream",
          "name": "stderr",
          "text": [
            "Fetching TMDB IDs:  96%|█████████▌| 7725/8080 [09:11<00:22, 15.79it/s]"
          ]
        },
        {
          "output_type": "stream",
          "name": "stdout",
          "text": [
            "  Title mismatch for 'SAS: Rise of the Black Swan'. Searched API, but no exact match. First API candidate: 'SAS: Red Notice' (ID not added).\n"
          ]
        },
        {
          "output_type": "stream",
          "name": "stderr",
          "text": [
            "Fetching TMDB IDs:  97%|█████████▋| 7870/8080 [09:21<00:13, 15.33it/s]"
          ]
        },
        {
          "output_type": "stream",
          "name": "stdout",
          "text": [
            "  Title mismatch for 'Top Secret UFO Projects: Declassified'. Searched API, but no exact match. First API candidate: 'Top Secret UFO Projects Declassified' (ID not added).\n"
          ]
        },
        {
          "output_type": "stream",
          "name": "stderr",
          "text": [
            "Fetching TMDB IDs:  98%|█████████▊| 7878/8080 [09:21<00:12, 16.83it/s]"
          ]
        },
        {
          "output_type": "stream",
          "name": "stdout",
          "text": [
            "  Title mismatch for 'Hunter X Hunter (2011)'. Searched API, but no exact match. First API candidate: 'Hunter x Hunter' (ID not added).\n"
          ]
        },
        {
          "output_type": "stream",
          "name": "stderr",
          "text": [
            "Fetching TMDB IDs:  98%|█████████▊| 7886/8080 [09:22<00:14, 12.96it/s]"
          ]
        },
        {
          "output_type": "stream",
          "name": "stdout",
          "text": [
            "  Title mismatch for 'Fear Street Part 1: 1994'. Searched API, but no exact match. First API candidate: 'Fear Street: 1994' (ID not added).\n",
            "  Title mismatch for 'Fear Street Part 3: 1666'. Searched API, but no exact match. First API candidate: 'Fear Street: 1666' (ID not added).\n"
          ]
        },
        {
          "output_type": "stream",
          "name": "stderr",
          "text": [
            "Fetching TMDB IDs:  98%|█████████▊| 7890/8080 [09:22<00:16, 11.84it/s]"
          ]
        },
        {
          "output_type": "stream",
          "name": "stdout",
          "text": [
            "  Title mismatch for 'Fear Street Part 2: 1978'. Searched API, but no exact match. First API candidate: 'Fear Street: 1978' (ID not added).\n",
            "  Title mismatch for 'The Twilight Saga: Breaking Dawn: Part 2'. Searched API, but no exact match. First API candidate: 'The Twilight Saga: Breaking Dawn - Part 2' (ID not added).\n"
          ]
        },
        {
          "output_type": "stream",
          "name": "stderr",
          "text": [
            "Fetching TMDB IDs:  98%|█████████▊| 7898/8080 [09:23<00:12, 14.79it/s]"
          ]
        },
        {
          "output_type": "stream",
          "name": "stdout",
          "text": [
            "  Title mismatch for 'Chernobyl 1986'. Searched API, but no exact match. First API candidate: 'Chernobyl: Abyss' (ID not added).\n"
          ]
        },
        {
          "output_type": "stream",
          "name": "stderr",
          "text": [
            "Fetching TMDB IDs:  98%|█████████▊| 7926/8080 [09:24<00:09, 16.05it/s]"
          ]
        },
        {
          "output_type": "stream",
          "name": "stdout",
          "text": [
            "  Title mismatch for 'Fear Street Part 3: 1666'. Searched API, but no exact match. First API candidate: 'Fear Street: 1666' (ID not added).\n",
            "  Title mismatch for 'Fear Street Part 1: 1994'. Searched API, but no exact match. First API candidate: 'Fear Street: 1994' (ID not added).\n"
          ]
        },
        {
          "output_type": "stream",
          "name": "stderr",
          "text": [
            "Fetching TMDB IDs:  98%|█████████▊| 7928/8080 [09:24<00:10, 14.80it/s]"
          ]
        },
        {
          "output_type": "stream",
          "name": "stdout",
          "text": [
            "  Title mismatch for 'The Twilight Saga: Breaking Dawn: Part 2'. Searched API, but no exact match. First API candidate: 'The Twilight Saga: Breaking Dawn - Part 2' (ID not added).\n",
            "  Title mismatch for 'Fear Street Part 2: 1978'. Searched API, but no exact match. First API candidate: 'Fear Street: 1978' (ID not added).\n"
          ]
        },
        {
          "output_type": "stream",
          "name": "stderr",
          "text": [
            "Fetching TMDB IDs:  98%|█████████▊| 7933/8080 [09:25<00:09, 15.30it/s]"
          ]
        },
        {
          "output_type": "stream",
          "name": "stdout",
          "text": [
            "  Title mismatch for 'The Twilight Saga: Breaking Dawn: Part 1'. Searched API, but no exact match. First API candidate: 'The Twilight Saga: Breaking Dawn - Part 1' (ID not added).\n",
            "  Title mismatch for 'Chernobyl 1986'. Searched API, but no exact match. First API candidate: 'Chernobyl: Abyss' (ID not added).\n"
          ]
        },
        {
          "output_type": "stream",
          "name": "stderr",
          "text": [
            "Fetching TMDB IDs:  98%|█████████▊| 7941/8080 [09:25<00:12, 11.53it/s]"
          ]
        },
        {
          "output_type": "stream",
          "name": "stdout",
          "text": [
            "  Title mismatch for 'Tô Ryca'. Searched API, but no exact match. First API candidate: 'Tô Ryca!' (ID not added).\n"
          ]
        },
        {
          "output_type": "stream",
          "name": "stderr",
          "text": [
            "Fetching TMDB IDs:  99%|█████████▊| 7964/8080 [09:27<00:06, 17.26it/s]"
          ]
        },
        {
          "output_type": "stream",
          "name": "stdout",
          "text": [
            "  Title mismatch for 'Fear Street Part 3: 1666'. Searched API, but no exact match. First API candidate: 'Fear Street: 1666' (ID not added).\n",
            "  Title mismatch for 'Fear Street Part 2: 1978'. Searched API, but no exact match. First API candidate: 'Fear Street: 1978' (ID not added).\n",
            "  Title mismatch for 'Fear Street Part 1: 1994'. Searched API, but no exact match. First API candidate: 'Fear Street: 1994' (ID not added).\n"
          ]
        },
        {
          "output_type": "stream",
          "name": "stderr",
          "text": [
            "Fetching TMDB IDs:  99%|█████████▉| 7980/8080 [09:28<00:07, 12.61it/s]"
          ]
        },
        {
          "output_type": "stream",
          "name": "stdout",
          "text": [
            "  Title mismatch for 'Tô Ryca'. Searched API, but no exact match. First API candidate: 'Tô Ryca!' (ID not added).\n"
          ]
        },
        {
          "output_type": "stream",
          "name": "stderr",
          "text": [
            "Fetching TMDB IDs:  99%|█████████▉| 8002/8080 [09:29<00:04, 17.13it/s]"
          ]
        },
        {
          "output_type": "stream",
          "name": "stdout",
          "text": [
            "  Title mismatch for 'Fear Street Part 1: 1994'. Searched API, but no exact match. First API candidate: 'Fear Street: 1994' (ID not added).\n",
            "  Title mismatch for 'Fear Street Part 2: 1978'. Searched API, but no exact match. First API candidate: 'Fear Street: 1978' (ID not added).\n"
          ]
        },
        {
          "output_type": "stream",
          "name": "stderr",
          "text": [
            "Fetching TMDB IDs:  99%|█████████▉| 8021/8080 [09:31<00:04, 13.72it/s]"
          ]
        },
        {
          "output_type": "stream",
          "name": "stdout",
          "text": [
            "  Title mismatch for 'O Candidato Honesto'. Searched API, but no exact match. First API candidate: 'The Honest Candidate' (ID not added).\n"
          ]
        },
        {
          "output_type": "stream",
          "name": "stderr",
          "text": [
            "Fetching TMDB IDs:  99%|█████████▉| 8029/8080 [09:31<00:03, 16.39it/s]"
          ]
        },
        {
          "output_type": "stream",
          "name": "stdout",
          "text": [
            "  Title mismatch for 'Pokémon Journeys: The Series'. Searched API, but no exact match. First API candidate: 'Pokémon' (ID not added).\n"
          ]
        },
        {
          "output_type": "stream",
          "name": "stderr",
          "text": [
            "Fetching TMDB IDs: 100%|█████████▉| 8043/8080 [09:32<00:02, 17.85it/s]"
          ]
        },
        {
          "output_type": "stream",
          "name": "stdout",
          "text": [
            "  Title mismatch for 'Fear Street Part 1: 1994'. Searched API, but no exact match. First API candidate: 'Fear Street: 1994' (ID not added).\n"
          ]
        },
        {
          "output_type": "stream",
          "name": "stderr",
          "text": [
            "Fetching TMDB IDs: 100%|█████████▉| 8061/8080 [09:33<00:01, 14.48it/s]"
          ]
        },
        {
          "output_type": "stream",
          "name": "stdout",
          "text": [
            "  Title mismatch for 'Rurouni Kenshin: Origins'. Searched API, but no exact match. First API candidate: 'Rurouni Kenshin Part I: Origins' (ID not added).\n"
          ]
        },
        {
          "output_type": "stream",
          "name": "stderr",
          "text": [
            "Fetching TMDB IDs: 100%|█████████▉| 8069/8080 [09:34<00:00, 15.21it/s]"
          ]
        },
        {
          "output_type": "stream",
          "name": "stdout",
          "text": [
            "  Title mismatch for 'Pokémon Journeys: The Series'. Searched API, but no exact match. First API candidate: 'Pokémon' (ID not added).\n"
          ]
        },
        {
          "output_type": "stream",
          "name": "stderr",
          "text": [
            "Fetching TMDB IDs: 100%|██████████| 8080/8080 [09:34<00:00, 14.06it/s]"
          ]
        },
        {
          "output_type": "stream",
          "name": "stdout",
          "text": [
            "\n",
            "Final DataFrame with 'id' column:\n",
            "            week          category                  show_title  \\\n",
            "0     2025-05-11   Films (English)                      Nonnas   \n",
            "1     2025-05-11   Films (English)     Inside Man: Most Wanted   \n",
            "2     2025-05-11   Films (English)  A Deadly American Marriage   \n",
            "3     2025-05-11   Films (English)                       Havoc   \n",
            "4     2025-05-11   Films (English)                    Twilight   \n",
            "...          ...               ...                         ...   \n",
            "8075  2021-07-04  TV (Non-English)                       Elite   \n",
            "8076  2021-07-04  TV (Non-English)                       Elite   \n",
            "8077  2021-07-04  TV (Non-English)                       Elite   \n",
            "8078  2021-07-04  TV (Non-English)                       Katla   \n",
            "8079  2021-07-04  TV (Non-English)          Record of Ragnarok   \n",
            "\n",
            "      weekly_hours_viewed  runtime  weekly_views  cumulative_weeks_in_top_10  \\\n",
            "0                29000000   1.9000    15300000.0                           1   \n",
            "1                21800000   1.7667    12300000.0                           1   \n",
            "2                16900000   1.7167     9800000.0                           1   \n",
            "3                16300000   1.7833     9100000.0                           3   \n",
            "4                 8700000   2.0333     4300000.0                           4   \n",
            "...                   ...      ...           ...                         ...   \n",
            "8075             10530000      NaN           NaN                           1   \n",
            "8076             10200000      NaN           NaN                           1   \n",
            "8077             10140000      NaN           NaN                           1   \n",
            "8078              9190000      NaN           NaN                           1   \n",
            "8079              9140000      NaN           NaN                           1   \n",
            "\n",
            "           id  \n",
            "0     1151039  \n",
            "1      619278  \n",
            "2     1466938  \n",
            "3      668489  \n",
            "4        8966  \n",
            "...       ...  \n",
            "8075    76669  \n",
            "8076    76669  \n",
            "8077    76669  \n",
            "8078   104157  \n",
            "8079   114868  \n",
            "\n",
            "[8080 rows x 8 columns]\n",
            "\n",
            "ID column data type:\n",
            "object\n",
            "\n",
            "Value counts for 'id' column (including NAs):\n",
            "id\n",
            "<NA>       434\n",
            "79696       51\n",
            "66732       50\n",
            "91239       49\n",
            "93405       39\n",
            "          ... \n",
            "41160        1\n",
            "1469239      1\n",
            "1144430      1\n",
            "24249        1\n",
            "917496       1\n",
            "Name: count, Length: 2394, dtype: int64\n"
          ]
        },
        {
          "output_type": "stream",
          "name": "stderr",
          "text": [
            "\n"
          ]
        }
      ]
    },
    {
      "cell_type": "code",
      "source": [
        "# id가 매칭되지 않은 작품 확인\n",
        "print(\"\\nValue counts for 'id' column (including NAs):\")\n",
        "print(df['id'].value_counts(dropna=False))\n",
        "df[df['id'].isna()].sort_values(by='cumulative_weeks_in_top_10', ascending=False)"
      ],
      "metadata": {
        "id": "YeqkCg2QvKxV",
        "colab": {
          "base_uri": "https://localhost:8080/",
          "height": 873
        },
        "outputId": "90cdfaa2-fe17-41d5-e3c8-4afa7a581104"
      },
      "execution_count": null,
      "outputs": [
        {
          "output_type": "stream",
          "name": "stdout",
          "text": [
            "\n",
            "Value counts for 'id' column (including NAs):\n",
            "id\n",
            "<NA>       354\n",
            "79696       51\n",
            "66732       50\n",
            "91239       49\n",
            "93405       39\n",
            "          ... \n",
            "100074       1\n",
            "41160        1\n",
            "1469239      1\n",
            "1144430      1\n",
            "24249        1\n",
            "Name: count, Length: 2403, dtype: Int64\n"
          ]
        },
        {
          "output_type": "execute_result",
          "data": {
            "text/plain": [
              "            week             category                              show_title  \\\n",
              "6575  2022-03-20  Films (Non-English)                          Chernobyl 1986   \n",
              "5959  2022-07-10     TV (Non-English)               Malverde, el santo patrón   \n",
              "2796  2024-01-14     TV (Non-English)                        Single’s Inferno   \n",
              "6614  2022-03-13  Films (Non-English)                          Chernobyl 1986   \n",
              "5996  2022-07-03     TV (Non-English)               Malverde, el santo patrón   \n",
              "...          ...                  ...                                     ...   \n",
              "780   2024-12-29         TV (English)    Christmas Gameday: Ravens vs. Texans   \n",
              "781   2024-12-29         TV (English)  Christmas Gameday: Chiefs vs. Steelers   \n",
              "8058  2021-07-04  Films (Non-English)                Rurouni Kenshin: Origins   \n",
              "98    2025-04-27  Films (Non-English)                       Sin instrucciones   \n",
              "6779  2022-02-13  Films (Non-English)     Luccas Neto in: The Magical Hotel 2   \n",
              "\n",
              "      weekly_hours_viewed  runtime  weekly_views  cumulative_weeks_in_top_10  \\\n",
              "6575              4490000      NaN          <NA>                           5   \n",
              "5959              7580000      NaN          <NA>                           5   \n",
              "2796             24500000    13.95       1800000                           5   \n",
              "6614              5330000      NaN          <NA>                           4   \n",
              "5996              9630000      NaN          <NA>                           4   \n",
              "...                   ...      ...           ...                         ...   \n",
              "780              42800000     0.00      14400000                           1   \n",
              "781              41200000     0.00      14300000                           1   \n",
              "8058              2150000      NaN          <NA>                           1   \n",
              "98                2100000     1.65       1300000                           1   \n",
              "6779              2060000      NaN          <NA>                           1   \n",
              "\n",
              "        id  \n",
              "6575  <NA>  \n",
              "5959  <NA>  \n",
              "2796  <NA>  \n",
              "6614  <NA>  \n",
              "5996  <NA>  \n",
              "...    ...  \n",
              "780   <NA>  \n",
              "781   <NA>  \n",
              "8058  <NA>  \n",
              "98    <NA>  \n",
              "6779  <NA>  \n",
              "\n",
              "[354 rows x 8 columns]"
            ],
            "text/html": [
              "\n",
              "  <div id=\"df-d04f81f9-9fcb-4502-8e77-5803208789d7\" class=\"colab-df-container\">\n",
              "    <div>\n",
              "<style scoped>\n",
              "    .dataframe tbody tr th:only-of-type {\n",
              "        vertical-align: middle;\n",
              "    }\n",
              "\n",
              "    .dataframe tbody tr th {\n",
              "        vertical-align: top;\n",
              "    }\n",
              "\n",
              "    .dataframe thead th {\n",
              "        text-align: right;\n",
              "    }\n",
              "</style>\n",
              "<table border=\"1\" class=\"dataframe\">\n",
              "  <thead>\n",
              "    <tr style=\"text-align: right;\">\n",
              "      <th></th>\n",
              "      <th>week</th>\n",
              "      <th>category</th>\n",
              "      <th>show_title</th>\n",
              "      <th>weekly_hours_viewed</th>\n",
              "      <th>runtime</th>\n",
              "      <th>weekly_views</th>\n",
              "      <th>cumulative_weeks_in_top_10</th>\n",
              "      <th>id</th>\n",
              "    </tr>\n",
              "  </thead>\n",
              "  <tbody>\n",
              "    <tr>\n",
              "      <th>6575</th>\n",
              "      <td>2022-03-20</td>\n",
              "      <td>Films (Non-English)</td>\n",
              "      <td>Chernobyl 1986</td>\n",
              "      <td>4490000</td>\n",
              "      <td>NaN</td>\n",
              "      <td>&lt;NA&gt;</td>\n",
              "      <td>5</td>\n",
              "      <td>&lt;NA&gt;</td>\n",
              "    </tr>\n",
              "    <tr>\n",
              "      <th>5959</th>\n",
              "      <td>2022-07-10</td>\n",
              "      <td>TV (Non-English)</td>\n",
              "      <td>Malverde, el santo patrón</td>\n",
              "      <td>7580000</td>\n",
              "      <td>NaN</td>\n",
              "      <td>&lt;NA&gt;</td>\n",
              "      <td>5</td>\n",
              "      <td>&lt;NA&gt;</td>\n",
              "    </tr>\n",
              "    <tr>\n",
              "      <th>2796</th>\n",
              "      <td>2024-01-14</td>\n",
              "      <td>TV (Non-English)</td>\n",
              "      <td>Single’s Inferno</td>\n",
              "      <td>24500000</td>\n",
              "      <td>13.95</td>\n",
              "      <td>1800000</td>\n",
              "      <td>5</td>\n",
              "      <td>&lt;NA&gt;</td>\n",
              "    </tr>\n",
              "    <tr>\n",
              "      <th>6614</th>\n",
              "      <td>2022-03-13</td>\n",
              "      <td>Films (Non-English)</td>\n",
              "      <td>Chernobyl 1986</td>\n",
              "      <td>5330000</td>\n",
              "      <td>NaN</td>\n",
              "      <td>&lt;NA&gt;</td>\n",
              "      <td>4</td>\n",
              "      <td>&lt;NA&gt;</td>\n",
              "    </tr>\n",
              "    <tr>\n",
              "      <th>5996</th>\n",
              "      <td>2022-07-03</td>\n",
              "      <td>TV (Non-English)</td>\n",
              "      <td>Malverde, el santo patrón</td>\n",
              "      <td>9630000</td>\n",
              "      <td>NaN</td>\n",
              "      <td>&lt;NA&gt;</td>\n",
              "      <td>4</td>\n",
              "      <td>&lt;NA&gt;</td>\n",
              "    </tr>\n",
              "    <tr>\n",
              "      <th>...</th>\n",
              "      <td>...</td>\n",
              "      <td>...</td>\n",
              "      <td>...</td>\n",
              "      <td>...</td>\n",
              "      <td>...</td>\n",
              "      <td>...</td>\n",
              "      <td>...</td>\n",
              "      <td>...</td>\n",
              "    </tr>\n",
              "    <tr>\n",
              "      <th>780</th>\n",
              "      <td>2024-12-29</td>\n",
              "      <td>TV (English)</td>\n",
              "      <td>Christmas Gameday: Ravens vs. Texans</td>\n",
              "      <td>42800000</td>\n",
              "      <td>0.00</td>\n",
              "      <td>14400000</td>\n",
              "      <td>1</td>\n",
              "      <td>&lt;NA&gt;</td>\n",
              "    </tr>\n",
              "    <tr>\n",
              "      <th>781</th>\n",
              "      <td>2024-12-29</td>\n",
              "      <td>TV (English)</td>\n",
              "      <td>Christmas Gameday: Chiefs vs. Steelers</td>\n",
              "      <td>41200000</td>\n",
              "      <td>0.00</td>\n",
              "      <td>14300000</td>\n",
              "      <td>1</td>\n",
              "      <td>&lt;NA&gt;</td>\n",
              "    </tr>\n",
              "    <tr>\n",
              "      <th>8058</th>\n",
              "      <td>2021-07-04</td>\n",
              "      <td>Films (Non-English)</td>\n",
              "      <td>Rurouni Kenshin: Origins</td>\n",
              "      <td>2150000</td>\n",
              "      <td>NaN</td>\n",
              "      <td>&lt;NA&gt;</td>\n",
              "      <td>1</td>\n",
              "      <td>&lt;NA&gt;</td>\n",
              "    </tr>\n",
              "    <tr>\n",
              "      <th>98</th>\n",
              "      <td>2025-04-27</td>\n",
              "      <td>Films (Non-English)</td>\n",
              "      <td>Sin instrucciones</td>\n",
              "      <td>2100000</td>\n",
              "      <td>1.65</td>\n",
              "      <td>1300000</td>\n",
              "      <td>1</td>\n",
              "      <td>&lt;NA&gt;</td>\n",
              "    </tr>\n",
              "    <tr>\n",
              "      <th>6779</th>\n",
              "      <td>2022-02-13</td>\n",
              "      <td>Films (Non-English)</td>\n",
              "      <td>Luccas Neto in: The Magical Hotel 2</td>\n",
              "      <td>2060000</td>\n",
              "      <td>NaN</td>\n",
              "      <td>&lt;NA&gt;</td>\n",
              "      <td>1</td>\n",
              "      <td>&lt;NA&gt;</td>\n",
              "    </tr>\n",
              "  </tbody>\n",
              "</table>\n",
              "<p>354 rows × 8 columns</p>\n",
              "</div>\n",
              "    <div class=\"colab-df-buttons\">\n",
              "\n",
              "  <div class=\"colab-df-container\">\n",
              "    <button class=\"colab-df-convert\" onclick=\"convertToInteractive('df-d04f81f9-9fcb-4502-8e77-5803208789d7')\"\n",
              "            title=\"Convert this dataframe to an interactive table.\"\n",
              "            style=\"display:none;\">\n",
              "\n",
              "  <svg xmlns=\"http://www.w3.org/2000/svg\" height=\"24px\" viewBox=\"0 -960 960 960\">\n",
              "    <path d=\"M120-120v-720h720v720H120Zm60-500h600v-160H180v160Zm220 220h160v-160H400v160Zm0 220h160v-160H400v160ZM180-400h160v-160H180v160Zm440 0h160v-160H620v160ZM180-180h160v-160H180v160Zm440 0h160v-160H620v160Z\"/>\n",
              "  </svg>\n",
              "    </button>\n",
              "\n",
              "  <style>\n",
              "    .colab-df-container {\n",
              "      display:flex;\n",
              "      gap: 12px;\n",
              "    }\n",
              "\n",
              "    .colab-df-convert {\n",
              "      background-color: #E8F0FE;\n",
              "      border: none;\n",
              "      border-radius: 50%;\n",
              "      cursor: pointer;\n",
              "      display: none;\n",
              "      fill: #1967D2;\n",
              "      height: 32px;\n",
              "      padding: 0 0 0 0;\n",
              "      width: 32px;\n",
              "    }\n",
              "\n",
              "    .colab-df-convert:hover {\n",
              "      background-color: #E2EBFA;\n",
              "      box-shadow: 0px 1px 2px rgba(60, 64, 67, 0.3), 0px 1px 3px 1px rgba(60, 64, 67, 0.15);\n",
              "      fill: #174EA6;\n",
              "    }\n",
              "\n",
              "    .colab-df-buttons div {\n",
              "      margin-bottom: 4px;\n",
              "    }\n",
              "\n",
              "    [theme=dark] .colab-df-convert {\n",
              "      background-color: #3B4455;\n",
              "      fill: #D2E3FC;\n",
              "    }\n",
              "\n",
              "    [theme=dark] .colab-df-convert:hover {\n",
              "      background-color: #434B5C;\n",
              "      box-shadow: 0px 1px 3px 1px rgba(0, 0, 0, 0.15);\n",
              "      filter: drop-shadow(0px 1px 2px rgba(0, 0, 0, 0.3));\n",
              "      fill: #FFFFFF;\n",
              "    }\n",
              "  </style>\n",
              "\n",
              "    <script>\n",
              "      const buttonEl =\n",
              "        document.querySelector('#df-d04f81f9-9fcb-4502-8e77-5803208789d7 button.colab-df-convert');\n",
              "      buttonEl.style.display =\n",
              "        google.colab.kernel.accessAllowed ? 'block' : 'none';\n",
              "\n",
              "      async function convertToInteractive(key) {\n",
              "        const element = document.querySelector('#df-d04f81f9-9fcb-4502-8e77-5803208789d7');\n",
              "        const dataTable =\n",
              "          await google.colab.kernel.invokeFunction('convertToInteractive',\n",
              "                                                    [key], {});\n",
              "        if (!dataTable) return;\n",
              "\n",
              "        const docLinkHtml = 'Like what you see? Visit the ' +\n",
              "          '<a target=\"_blank\" href=https://colab.research.google.com/notebooks/data_table.ipynb>data table notebook</a>'\n",
              "          + ' to learn more about interactive tables.';\n",
              "        element.innerHTML = '';\n",
              "        dataTable['output_type'] = 'display_data';\n",
              "        await google.colab.output.renderOutput(dataTable, element);\n",
              "        const docLink = document.createElement('div');\n",
              "        docLink.innerHTML = docLinkHtml;\n",
              "        element.appendChild(docLink);\n",
              "      }\n",
              "    </script>\n",
              "  </div>\n",
              "\n",
              "\n",
              "    <div id=\"df-dd303dc7-bec0-4a7c-bf5d-57a4c805cd3b\">\n",
              "      <button class=\"colab-df-quickchart\" onclick=\"quickchart('df-dd303dc7-bec0-4a7c-bf5d-57a4c805cd3b')\"\n",
              "                title=\"Suggest charts\"\n",
              "                style=\"display:none;\">\n",
              "\n",
              "<svg xmlns=\"http://www.w3.org/2000/svg\" height=\"24px\"viewBox=\"0 0 24 24\"\n",
              "     width=\"24px\">\n",
              "    <g>\n",
              "        <path d=\"M19 3H5c-1.1 0-2 .9-2 2v14c0 1.1.9 2 2 2h14c1.1 0 2-.9 2-2V5c0-1.1-.9-2-2-2zM9 17H7v-7h2v7zm4 0h-2V7h2v10zm4 0h-2v-4h2v4z\"/>\n",
              "    </g>\n",
              "</svg>\n",
              "      </button>\n",
              "\n",
              "<style>\n",
              "  .colab-df-quickchart {\n",
              "      --bg-color: #E8F0FE;\n",
              "      --fill-color: #1967D2;\n",
              "      --hover-bg-color: #E2EBFA;\n",
              "      --hover-fill-color: #174EA6;\n",
              "      --disabled-fill-color: #AAA;\n",
              "      --disabled-bg-color: #DDD;\n",
              "  }\n",
              "\n",
              "  [theme=dark] .colab-df-quickchart {\n",
              "      --bg-color: #3B4455;\n",
              "      --fill-color: #D2E3FC;\n",
              "      --hover-bg-color: #434B5C;\n",
              "      --hover-fill-color: #FFFFFF;\n",
              "      --disabled-bg-color: #3B4455;\n",
              "      --disabled-fill-color: #666;\n",
              "  }\n",
              "\n",
              "  .colab-df-quickchart {\n",
              "    background-color: var(--bg-color);\n",
              "    border: none;\n",
              "    border-radius: 50%;\n",
              "    cursor: pointer;\n",
              "    display: none;\n",
              "    fill: var(--fill-color);\n",
              "    height: 32px;\n",
              "    padding: 0;\n",
              "    width: 32px;\n",
              "  }\n",
              "\n",
              "  .colab-df-quickchart:hover {\n",
              "    background-color: var(--hover-bg-color);\n",
              "    box-shadow: 0 1px 2px rgba(60, 64, 67, 0.3), 0 1px 3px 1px rgba(60, 64, 67, 0.15);\n",
              "    fill: var(--button-hover-fill-color);\n",
              "  }\n",
              "\n",
              "  .colab-df-quickchart-complete:disabled,\n",
              "  .colab-df-quickchart-complete:disabled:hover {\n",
              "    background-color: var(--disabled-bg-color);\n",
              "    fill: var(--disabled-fill-color);\n",
              "    box-shadow: none;\n",
              "  }\n",
              "\n",
              "  .colab-df-spinner {\n",
              "    border: 2px solid var(--fill-color);\n",
              "    border-color: transparent;\n",
              "    border-bottom-color: var(--fill-color);\n",
              "    animation:\n",
              "      spin 1s steps(1) infinite;\n",
              "  }\n",
              "\n",
              "  @keyframes spin {\n",
              "    0% {\n",
              "      border-color: transparent;\n",
              "      border-bottom-color: var(--fill-color);\n",
              "      border-left-color: var(--fill-color);\n",
              "    }\n",
              "    20% {\n",
              "      border-color: transparent;\n",
              "      border-left-color: var(--fill-color);\n",
              "      border-top-color: var(--fill-color);\n",
              "    }\n",
              "    30% {\n",
              "      border-color: transparent;\n",
              "      border-left-color: var(--fill-color);\n",
              "      border-top-color: var(--fill-color);\n",
              "      border-right-color: var(--fill-color);\n",
              "    }\n",
              "    40% {\n",
              "      border-color: transparent;\n",
              "      border-right-color: var(--fill-color);\n",
              "      border-top-color: var(--fill-color);\n",
              "    }\n",
              "    60% {\n",
              "      border-color: transparent;\n",
              "      border-right-color: var(--fill-color);\n",
              "    }\n",
              "    80% {\n",
              "      border-color: transparent;\n",
              "      border-right-color: var(--fill-color);\n",
              "      border-bottom-color: var(--fill-color);\n",
              "    }\n",
              "    90% {\n",
              "      border-color: transparent;\n",
              "      border-bottom-color: var(--fill-color);\n",
              "    }\n",
              "  }\n",
              "</style>\n",
              "\n",
              "      <script>\n",
              "        async function quickchart(key) {\n",
              "          const quickchartButtonEl =\n",
              "            document.querySelector('#' + key + ' button');\n",
              "          quickchartButtonEl.disabled = true;  // To prevent multiple clicks.\n",
              "          quickchartButtonEl.classList.add('colab-df-spinner');\n",
              "          try {\n",
              "            const charts = await google.colab.kernel.invokeFunction(\n",
              "                'suggestCharts', [key], {});\n",
              "          } catch (error) {\n",
              "            console.error('Error during call to suggestCharts:', error);\n",
              "          }\n",
              "          quickchartButtonEl.classList.remove('colab-df-spinner');\n",
              "          quickchartButtonEl.classList.add('colab-df-quickchart-complete');\n",
              "        }\n",
              "        (() => {\n",
              "          let quickchartButtonEl =\n",
              "            document.querySelector('#df-dd303dc7-bec0-4a7c-bf5d-57a4c805cd3b button');\n",
              "          quickchartButtonEl.style.display =\n",
              "            google.colab.kernel.accessAllowed ? 'block' : 'none';\n",
              "        })();\n",
              "      </script>\n",
              "    </div>\n",
              "\n",
              "    </div>\n",
              "  </div>\n"
            ],
            "application/vnd.google.colaboratory.intrinsic+json": {
              "type": "dataframe",
              "repr_error": "0"
            }
          },
          "metadata": {},
          "execution_count": 50
        }
      ]
    },
    {
      "cell_type": "code",
      "source": [
        "# 매칭되지 않은 id 수동 설정\n",
        "df.loc[df['show_title'] == 'Fear Street Part 1: 1994', 'id'] = 591273"
      ],
      "metadata": {
        "id": "JumthM13yzr2"
      },
      "execution_count": null,
      "outputs": []
    },
    {
      "cell_type": "code",
      "source": [
        "# csv 파일 저장\n",
        "df.to_csv('top-10_with_id.csv', index=False)"
      ],
      "metadata": {
        "id": "aRTEWAiR2NCp"
      },
      "execution_count": null,
      "outputs": []
    },
    {
      "cell_type": "code",
      "source": [
        "# csv 파일 불러오기\n",
        "csv_path = \"top-10_with_id.csv\"\n",
        "\n",
        "df = pd.read_csv(csv_path)\n",
        "df['weekly_views'] = df['weekly_views'].astype('Int64')\n",
        "df['id'] = df['id'].astype('Int64')\n",
        "\n",
        "df = df.dropna(subset=['id'])\n",
        "\n",
        "df"
      ],
      "metadata": {
        "colab": {
          "base_uri": "https://localhost:8080/",
          "height": 597
        },
        "id": "fKw5dq-opbCh",
        "outputId": "5b8535fb-90a7-421c-efcc-939677ea61a7"
      },
      "execution_count": null,
      "outputs": [
        {
          "output_type": "execute_result",
          "data": {
            "text/plain": [
              "            week          category                  show_title  \\\n",
              "0     2025-05-11   Films (English)                      Nonnas   \n",
              "1     2025-05-11   Films (English)     Inside Man: Most Wanted   \n",
              "2     2025-05-11   Films (English)  A Deadly American Marriage   \n",
              "3     2025-05-11   Films (English)                       Havoc   \n",
              "4     2025-05-11   Films (English)                    Twilight   \n",
              "...          ...               ...                         ...   \n",
              "8075  2021-07-04  TV (Non-English)                       Elite   \n",
              "8076  2021-07-04  TV (Non-English)                       Elite   \n",
              "8077  2021-07-04  TV (Non-English)                       Elite   \n",
              "8078  2021-07-04  TV (Non-English)                       Katla   \n",
              "8079  2021-07-04  TV (Non-English)          Record of Ragnarok   \n",
              "\n",
              "      weekly_hours_viewed  runtime  weekly_views  cumulative_weeks_in_top_10  \\\n",
              "0                29000000   1.9000      15300000                           1   \n",
              "1                21800000   1.7667      12300000                           1   \n",
              "2                16900000   1.7167       9800000                           1   \n",
              "3                16300000   1.7833       9100000                           3   \n",
              "4                 8700000   2.0333       4300000                           4   \n",
              "...                   ...      ...           ...                         ...   \n",
              "8075             10530000      NaN          <NA>                           1   \n",
              "8076             10200000      NaN          <NA>                           1   \n",
              "8077             10140000      NaN          <NA>                           1   \n",
              "8078              9190000      NaN          <NA>                           1   \n",
              "8079              9140000      NaN          <NA>                           1   \n",
              "\n",
              "           id  \n",
              "0     1151039  \n",
              "1      619278  \n",
              "2     1466938  \n",
              "3      668489  \n",
              "4        8966  \n",
              "...       ...  \n",
              "8075    76669  \n",
              "8076    76669  \n",
              "8077    76669  \n",
              "8078   104157  \n",
              "8079   114868  \n",
              "\n",
              "[7726 rows x 8 columns]"
            ],
            "text/html": [
              "\n",
              "  <div id=\"df-52203470-a82f-42bd-be1d-6015e465a9c8\" class=\"colab-df-container\">\n",
              "    <div>\n",
              "<style scoped>\n",
              "    .dataframe tbody tr th:only-of-type {\n",
              "        vertical-align: middle;\n",
              "    }\n",
              "\n",
              "    .dataframe tbody tr th {\n",
              "        vertical-align: top;\n",
              "    }\n",
              "\n",
              "    .dataframe thead th {\n",
              "        text-align: right;\n",
              "    }\n",
              "</style>\n",
              "<table border=\"1\" class=\"dataframe\">\n",
              "  <thead>\n",
              "    <tr style=\"text-align: right;\">\n",
              "      <th></th>\n",
              "      <th>week</th>\n",
              "      <th>category</th>\n",
              "      <th>show_title</th>\n",
              "      <th>weekly_hours_viewed</th>\n",
              "      <th>runtime</th>\n",
              "      <th>weekly_views</th>\n",
              "      <th>cumulative_weeks_in_top_10</th>\n",
              "      <th>id</th>\n",
              "    </tr>\n",
              "  </thead>\n",
              "  <tbody>\n",
              "    <tr>\n",
              "      <th>0</th>\n",
              "      <td>2025-05-11</td>\n",
              "      <td>Films (English)</td>\n",
              "      <td>Nonnas</td>\n",
              "      <td>29000000</td>\n",
              "      <td>1.9000</td>\n",
              "      <td>15300000</td>\n",
              "      <td>1</td>\n",
              "      <td>1151039</td>\n",
              "    </tr>\n",
              "    <tr>\n",
              "      <th>1</th>\n",
              "      <td>2025-05-11</td>\n",
              "      <td>Films (English)</td>\n",
              "      <td>Inside Man: Most Wanted</td>\n",
              "      <td>21800000</td>\n",
              "      <td>1.7667</td>\n",
              "      <td>12300000</td>\n",
              "      <td>1</td>\n",
              "      <td>619278</td>\n",
              "    </tr>\n",
              "    <tr>\n",
              "      <th>2</th>\n",
              "      <td>2025-05-11</td>\n",
              "      <td>Films (English)</td>\n",
              "      <td>A Deadly American Marriage</td>\n",
              "      <td>16900000</td>\n",
              "      <td>1.7167</td>\n",
              "      <td>9800000</td>\n",
              "      <td>1</td>\n",
              "      <td>1466938</td>\n",
              "    </tr>\n",
              "    <tr>\n",
              "      <th>3</th>\n",
              "      <td>2025-05-11</td>\n",
              "      <td>Films (English)</td>\n",
              "      <td>Havoc</td>\n",
              "      <td>16300000</td>\n",
              "      <td>1.7833</td>\n",
              "      <td>9100000</td>\n",
              "      <td>3</td>\n",
              "      <td>668489</td>\n",
              "    </tr>\n",
              "    <tr>\n",
              "      <th>4</th>\n",
              "      <td>2025-05-11</td>\n",
              "      <td>Films (English)</td>\n",
              "      <td>Twilight</td>\n",
              "      <td>8700000</td>\n",
              "      <td>2.0333</td>\n",
              "      <td>4300000</td>\n",
              "      <td>4</td>\n",
              "      <td>8966</td>\n",
              "    </tr>\n",
              "    <tr>\n",
              "      <th>...</th>\n",
              "      <td>...</td>\n",
              "      <td>...</td>\n",
              "      <td>...</td>\n",
              "      <td>...</td>\n",
              "      <td>...</td>\n",
              "      <td>...</td>\n",
              "      <td>...</td>\n",
              "      <td>...</td>\n",
              "    </tr>\n",
              "    <tr>\n",
              "      <th>8075</th>\n",
              "      <td>2021-07-04</td>\n",
              "      <td>TV (Non-English)</td>\n",
              "      <td>Elite</td>\n",
              "      <td>10530000</td>\n",
              "      <td>NaN</td>\n",
              "      <td>&lt;NA&gt;</td>\n",
              "      <td>1</td>\n",
              "      <td>76669</td>\n",
              "    </tr>\n",
              "    <tr>\n",
              "      <th>8076</th>\n",
              "      <td>2021-07-04</td>\n",
              "      <td>TV (Non-English)</td>\n",
              "      <td>Elite</td>\n",
              "      <td>10200000</td>\n",
              "      <td>NaN</td>\n",
              "      <td>&lt;NA&gt;</td>\n",
              "      <td>1</td>\n",
              "      <td>76669</td>\n",
              "    </tr>\n",
              "    <tr>\n",
              "      <th>8077</th>\n",
              "      <td>2021-07-04</td>\n",
              "      <td>TV (Non-English)</td>\n",
              "      <td>Elite</td>\n",
              "      <td>10140000</td>\n",
              "      <td>NaN</td>\n",
              "      <td>&lt;NA&gt;</td>\n",
              "      <td>1</td>\n",
              "      <td>76669</td>\n",
              "    </tr>\n",
              "    <tr>\n",
              "      <th>8078</th>\n",
              "      <td>2021-07-04</td>\n",
              "      <td>TV (Non-English)</td>\n",
              "      <td>Katla</td>\n",
              "      <td>9190000</td>\n",
              "      <td>NaN</td>\n",
              "      <td>&lt;NA&gt;</td>\n",
              "      <td>1</td>\n",
              "      <td>104157</td>\n",
              "    </tr>\n",
              "    <tr>\n",
              "      <th>8079</th>\n",
              "      <td>2021-07-04</td>\n",
              "      <td>TV (Non-English)</td>\n",
              "      <td>Record of Ragnarok</td>\n",
              "      <td>9140000</td>\n",
              "      <td>NaN</td>\n",
              "      <td>&lt;NA&gt;</td>\n",
              "      <td>1</td>\n",
              "      <td>114868</td>\n",
              "    </tr>\n",
              "  </tbody>\n",
              "</table>\n",
              "<p>7726 rows × 8 columns</p>\n",
              "</div>\n",
              "    <div class=\"colab-df-buttons\">\n",
              "\n",
              "  <div class=\"colab-df-container\">\n",
              "    <button class=\"colab-df-convert\" onclick=\"convertToInteractive('df-52203470-a82f-42bd-be1d-6015e465a9c8')\"\n",
              "            title=\"Convert this dataframe to an interactive table.\"\n",
              "            style=\"display:none;\">\n",
              "\n",
              "  <svg xmlns=\"http://www.w3.org/2000/svg\" height=\"24px\" viewBox=\"0 -960 960 960\">\n",
              "    <path d=\"M120-120v-720h720v720H120Zm60-500h600v-160H180v160Zm220 220h160v-160H400v160Zm0 220h160v-160H400v160ZM180-400h160v-160H180v160Zm440 0h160v-160H620v160ZM180-180h160v-160H180v160Zm440 0h160v-160H620v160Z\"/>\n",
              "  </svg>\n",
              "    </button>\n",
              "\n",
              "  <style>\n",
              "    .colab-df-container {\n",
              "      display:flex;\n",
              "      gap: 12px;\n",
              "    }\n",
              "\n",
              "    .colab-df-convert {\n",
              "      background-color: #E8F0FE;\n",
              "      border: none;\n",
              "      border-radius: 50%;\n",
              "      cursor: pointer;\n",
              "      display: none;\n",
              "      fill: #1967D2;\n",
              "      height: 32px;\n",
              "      padding: 0 0 0 0;\n",
              "      width: 32px;\n",
              "    }\n",
              "\n",
              "    .colab-df-convert:hover {\n",
              "      background-color: #E2EBFA;\n",
              "      box-shadow: 0px 1px 2px rgba(60, 64, 67, 0.3), 0px 1px 3px 1px rgba(60, 64, 67, 0.15);\n",
              "      fill: #174EA6;\n",
              "    }\n",
              "\n",
              "    .colab-df-buttons div {\n",
              "      margin-bottom: 4px;\n",
              "    }\n",
              "\n",
              "    [theme=dark] .colab-df-convert {\n",
              "      background-color: #3B4455;\n",
              "      fill: #D2E3FC;\n",
              "    }\n",
              "\n",
              "    [theme=dark] .colab-df-convert:hover {\n",
              "      background-color: #434B5C;\n",
              "      box-shadow: 0px 1px 3px 1px rgba(0, 0, 0, 0.15);\n",
              "      filter: drop-shadow(0px 1px 2px rgba(0, 0, 0, 0.3));\n",
              "      fill: #FFFFFF;\n",
              "    }\n",
              "  </style>\n",
              "\n",
              "    <script>\n",
              "      const buttonEl =\n",
              "        document.querySelector('#df-52203470-a82f-42bd-be1d-6015e465a9c8 button.colab-df-convert');\n",
              "      buttonEl.style.display =\n",
              "        google.colab.kernel.accessAllowed ? 'block' : 'none';\n",
              "\n",
              "      async function convertToInteractive(key) {\n",
              "        const element = document.querySelector('#df-52203470-a82f-42bd-be1d-6015e465a9c8');\n",
              "        const dataTable =\n",
              "          await google.colab.kernel.invokeFunction('convertToInteractive',\n",
              "                                                    [key], {});\n",
              "        if (!dataTable) return;\n",
              "\n",
              "        const docLinkHtml = 'Like what you see? Visit the ' +\n",
              "          '<a target=\"_blank\" href=https://colab.research.google.com/notebooks/data_table.ipynb>data table notebook</a>'\n",
              "          + ' to learn more about interactive tables.';\n",
              "        element.innerHTML = '';\n",
              "        dataTable['output_type'] = 'display_data';\n",
              "        await google.colab.output.renderOutput(dataTable, element);\n",
              "        const docLink = document.createElement('div');\n",
              "        docLink.innerHTML = docLinkHtml;\n",
              "        element.appendChild(docLink);\n",
              "      }\n",
              "    </script>\n",
              "  </div>\n",
              "\n",
              "\n",
              "    <div id=\"df-14b0fec7-e583-45d9-9ee0-068d24c45da3\">\n",
              "      <button class=\"colab-df-quickchart\" onclick=\"quickchart('df-14b0fec7-e583-45d9-9ee0-068d24c45da3')\"\n",
              "                title=\"Suggest charts\"\n",
              "                style=\"display:none;\">\n",
              "\n",
              "<svg xmlns=\"http://www.w3.org/2000/svg\" height=\"24px\"viewBox=\"0 0 24 24\"\n",
              "     width=\"24px\">\n",
              "    <g>\n",
              "        <path d=\"M19 3H5c-1.1 0-2 .9-2 2v14c0 1.1.9 2 2 2h14c1.1 0 2-.9 2-2V5c0-1.1-.9-2-2-2zM9 17H7v-7h2v7zm4 0h-2V7h2v10zm4 0h-2v-4h2v4z\"/>\n",
              "    </g>\n",
              "</svg>\n",
              "      </button>\n",
              "\n",
              "<style>\n",
              "  .colab-df-quickchart {\n",
              "      --bg-color: #E8F0FE;\n",
              "      --fill-color: #1967D2;\n",
              "      --hover-bg-color: #E2EBFA;\n",
              "      --hover-fill-color: #174EA6;\n",
              "      --disabled-fill-color: #AAA;\n",
              "      --disabled-bg-color: #DDD;\n",
              "  }\n",
              "\n",
              "  [theme=dark] .colab-df-quickchart {\n",
              "      --bg-color: #3B4455;\n",
              "      --fill-color: #D2E3FC;\n",
              "      --hover-bg-color: #434B5C;\n",
              "      --hover-fill-color: #FFFFFF;\n",
              "      --disabled-bg-color: #3B4455;\n",
              "      --disabled-fill-color: #666;\n",
              "  }\n",
              "\n",
              "  .colab-df-quickchart {\n",
              "    background-color: var(--bg-color);\n",
              "    border: none;\n",
              "    border-radius: 50%;\n",
              "    cursor: pointer;\n",
              "    display: none;\n",
              "    fill: var(--fill-color);\n",
              "    height: 32px;\n",
              "    padding: 0;\n",
              "    width: 32px;\n",
              "  }\n",
              "\n",
              "  .colab-df-quickchart:hover {\n",
              "    background-color: var(--hover-bg-color);\n",
              "    box-shadow: 0 1px 2px rgba(60, 64, 67, 0.3), 0 1px 3px 1px rgba(60, 64, 67, 0.15);\n",
              "    fill: var(--button-hover-fill-color);\n",
              "  }\n",
              "\n",
              "  .colab-df-quickchart-complete:disabled,\n",
              "  .colab-df-quickchart-complete:disabled:hover {\n",
              "    background-color: var(--disabled-bg-color);\n",
              "    fill: var(--disabled-fill-color);\n",
              "    box-shadow: none;\n",
              "  }\n",
              "\n",
              "  .colab-df-spinner {\n",
              "    border: 2px solid var(--fill-color);\n",
              "    border-color: transparent;\n",
              "    border-bottom-color: var(--fill-color);\n",
              "    animation:\n",
              "      spin 1s steps(1) infinite;\n",
              "  }\n",
              "\n",
              "  @keyframes spin {\n",
              "    0% {\n",
              "      border-color: transparent;\n",
              "      border-bottom-color: var(--fill-color);\n",
              "      border-left-color: var(--fill-color);\n",
              "    }\n",
              "    20% {\n",
              "      border-color: transparent;\n",
              "      border-left-color: var(--fill-color);\n",
              "      border-top-color: var(--fill-color);\n",
              "    }\n",
              "    30% {\n",
              "      border-color: transparent;\n",
              "      border-left-color: var(--fill-color);\n",
              "      border-top-color: var(--fill-color);\n",
              "      border-right-color: var(--fill-color);\n",
              "    }\n",
              "    40% {\n",
              "      border-color: transparent;\n",
              "      border-right-color: var(--fill-color);\n",
              "      border-top-color: var(--fill-color);\n",
              "    }\n",
              "    60% {\n",
              "      border-color: transparent;\n",
              "      border-right-color: var(--fill-color);\n",
              "    }\n",
              "    80% {\n",
              "      border-color: transparent;\n",
              "      border-right-color: var(--fill-color);\n",
              "      border-bottom-color: var(--fill-color);\n",
              "    }\n",
              "    90% {\n",
              "      border-color: transparent;\n",
              "      border-bottom-color: var(--fill-color);\n",
              "    }\n",
              "  }\n",
              "</style>\n",
              "\n",
              "      <script>\n",
              "        async function quickchart(key) {\n",
              "          const quickchartButtonEl =\n",
              "            document.querySelector('#' + key + ' button');\n",
              "          quickchartButtonEl.disabled = true;  // To prevent multiple clicks.\n",
              "          quickchartButtonEl.classList.add('colab-df-spinner');\n",
              "          try {\n",
              "            const charts = await google.colab.kernel.invokeFunction(\n",
              "                'suggestCharts', [key], {});\n",
              "          } catch (error) {\n",
              "            console.error('Error during call to suggestCharts:', error);\n",
              "          }\n",
              "          quickchartButtonEl.classList.remove('colab-df-spinner');\n",
              "          quickchartButtonEl.classList.add('colab-df-quickchart-complete');\n",
              "        }\n",
              "        (() => {\n",
              "          let quickchartButtonEl =\n",
              "            document.querySelector('#df-14b0fec7-e583-45d9-9ee0-068d24c45da3 button');\n",
              "          quickchartButtonEl.style.display =\n",
              "            google.colab.kernel.accessAllowed ? 'block' : 'none';\n",
              "        })();\n",
              "      </script>\n",
              "    </div>\n",
              "\n",
              "  <div id=\"id_ab405555-9ba5-4728-b61d-188336d69cb6\">\n",
              "    <style>\n",
              "      .colab-df-generate {\n",
              "        background-color: #E8F0FE;\n",
              "        border: none;\n",
              "        border-radius: 50%;\n",
              "        cursor: pointer;\n",
              "        display: none;\n",
              "        fill: #1967D2;\n",
              "        height: 32px;\n",
              "        padding: 0 0 0 0;\n",
              "        width: 32px;\n",
              "      }\n",
              "\n",
              "      .colab-df-generate:hover {\n",
              "        background-color: #E2EBFA;\n",
              "        box-shadow: 0px 1px 2px rgba(60, 64, 67, 0.3), 0px 1px 3px 1px rgba(60, 64, 67, 0.15);\n",
              "        fill: #174EA6;\n",
              "      }\n",
              "\n",
              "      [theme=dark] .colab-df-generate {\n",
              "        background-color: #3B4455;\n",
              "        fill: #D2E3FC;\n",
              "      }\n",
              "\n",
              "      [theme=dark] .colab-df-generate:hover {\n",
              "        background-color: #434B5C;\n",
              "        box-shadow: 0px 1px 3px 1px rgba(0, 0, 0, 0.15);\n",
              "        filter: drop-shadow(0px 1px 2px rgba(0, 0, 0, 0.3));\n",
              "        fill: #FFFFFF;\n",
              "      }\n",
              "    </style>\n",
              "    <button class=\"colab-df-generate\" onclick=\"generateWithVariable('df')\"\n",
              "            title=\"Generate code using this dataframe.\"\n",
              "            style=\"display:none;\">\n",
              "\n",
              "  <svg xmlns=\"http://www.w3.org/2000/svg\" height=\"24px\"viewBox=\"0 0 24 24\"\n",
              "       width=\"24px\">\n",
              "    <path d=\"M7,19H8.4L18.45,9,17,7.55,7,17.6ZM5,21V16.75L18.45,3.32a2,2,0,0,1,2.83,0l1.4,1.43a1.91,1.91,0,0,1,.58,1.4,1.91,1.91,0,0,1-.58,1.4L9.25,21ZM18.45,9,17,7.55Zm-12,3A5.31,5.31,0,0,0,4.9,8.1,5.31,5.31,0,0,0,1,6.5,5.31,5.31,0,0,0,4.9,4.9,5.31,5.31,0,0,0,6.5,1,5.31,5.31,0,0,0,8.1,4.9,5.31,5.31,0,0,0,12,6.5,5.46,5.46,0,0,0,6.5,12Z\"/>\n",
              "  </svg>\n",
              "    </button>\n",
              "    <script>\n",
              "      (() => {\n",
              "      const buttonEl =\n",
              "        document.querySelector('#id_ab405555-9ba5-4728-b61d-188336d69cb6 button.colab-df-generate');\n",
              "      buttonEl.style.display =\n",
              "        google.colab.kernel.accessAllowed ? 'block' : 'none';\n",
              "\n",
              "      buttonEl.onclick = () => {\n",
              "        google.colab.notebook.generateWithVariable('df');\n",
              "      }\n",
              "      })();\n",
              "    </script>\n",
              "  </div>\n",
              "\n",
              "    </div>\n",
              "  </div>\n"
            ],
            "application/vnd.google.colaboratory.intrinsic+json": {
              "type": "dataframe",
              "variable_name": "df",
              "summary": "{\n  \"name\": \"df\",\n  \"rows\": 7726,\n  \"fields\": [\n    {\n      \"column\": \"week\",\n      \"properties\": {\n        \"dtype\": \"object\",\n        \"num_unique_values\": 202,\n        \"samples\": [\n          \"2023-07-16\",\n          \"2025-01-26\",\n          \"2024-10-13\"\n        ],\n        \"semantic_type\": \"\",\n        \"description\": \"\"\n      }\n    },\n    {\n      \"column\": \"category\",\n      \"properties\": {\n        \"dtype\": \"category\",\n        \"num_unique_values\": 4,\n        \"samples\": [\n          \"Films (Non-English)\",\n          \"TV (Non-English)\",\n          \"Films (English)\"\n        ],\n        \"semantic_type\": \"\",\n        \"description\": \"\"\n      }\n    },\n    {\n      \"column\": \"show_title\",\n      \"properties\": {\n        \"dtype\": \"category\",\n        \"num_unique_values\": 2397,\n        \"samples\": [\n          \"Breaking the Silence: The Maria Soledad Case\",\n          \"Despicable Me\",\n          \"Rana Naidu\"\n        ],\n        \"semantic_type\": \"\",\n        \"description\": \"\"\n      }\n    },\n    {\n      \"column\": \"weekly_hours_viewed\",\n      \"properties\": {\n        \"dtype\": \"number\",\n        \"std\": 25920926,\n        \"min\": 700000,\n        \"max\": 571760000,\n        \"num_unique_values\": 2831,\n        \"samples\": [\n          9650000,\n          5780000,\n          51230000\n        ],\n        \"semantic_type\": \"\",\n        \"description\": \"\"\n      }\n    },\n    {\n      \"column\": \"runtime\",\n      \"properties\": {\n        \"dtype\": \"number\",\n        \"std\": 3.139345324922046,\n        \"min\": 0.0,\n        \"max\": 47.5833,\n        \"num_unique_values\": 469,\n        \"samples\": [\n          1.6,\n          1.6167,\n          6.0167\n        ],\n        \"semantic_type\": \"\",\n        \"description\": \"\"\n      }\n    },\n    {\n      \"column\": \"weekly_views\",\n      \"properties\": {\n        \"dtype\": \"Int64\",\n        \"num_unique_values\": 264,\n        \"samples\": [\n          3300000,\n          33100000,\n          4000000\n        ],\n        \"semantic_type\": \"\",\n        \"description\": \"\"\n      }\n    },\n    {\n      \"column\": \"cumulative_weeks_in_top_10\",\n      \"properties\": {\n        \"dtype\": \"number\",\n        \"std\": 3,\n        \"min\": 1,\n        \"max\": 30,\n        \"num_unique_values\": 30,\n        \"samples\": [\n          23,\n          13,\n          27\n        ],\n        \"semantic_type\": \"\",\n        \"description\": \"\"\n      }\n    },\n    {\n      \"column\": \"id\",\n      \"properties\": {\n        \"dtype\": \"Int64\",\n        \"num_unique_values\": 2402,\n        \"samples\": [\n          783675,\n          38310,\n          216811\n        ],\n        \"semantic_type\": \"\",\n        \"description\": \"\"\n      }\n    }\n  ]\n}"
            }
          },
          "metadata": {},
          "execution_count": 60
        }
      ]
    },
    {
      "cell_type": "markdown",
      "source": [
        "# 3. 작품 id를 이용해 tmdb에서 장르와 키워드 불러오기"
      ],
      "metadata": {
        "id": "Ml0SgCHzhaRS"
      }
    },
    {
      "cell_type": "markdown",
      "source": [
        "## 3.1. 장르 불러오기"
      ],
      "metadata": {
        "id": "pWMmVP2NhjrB"
      }
    },
    {
      "cell_type": "code",
      "source": [
        "import pandas as pd\n",
        "import requests\n",
        "from tqdm import tqdm\n",
        "import time\n",
        "from dotenv import load_dotenv\n",
        "\n",
        "# .env 파일에서 api키 받아오기\n",
        "load_dotenv()\n",
        "API_KEY = os.getenv('API_KEY')\n",
        "\n",
        "print(f\"API Key loaded: {API_KEY[:5]}...\" if API_KEY else \"No API key found\")\n",
        "\n",
        "\n",
        "if 'df' not in locals() or not isinstance(df, pd.DataFrame):\n",
        "    print(\"!!! 'df' DataFrame이 정의되지 않았습니다. 스크립트 상단에서 로드해주세요. !!!\")\n",
        "    exit()\n",
        "\n",
        "\n",
        "if 'genres' not in df.columns:\n",
        "    print(\"Initializing 'genres' column.\")\n",
        "    df['genres'] = pd.Series([None for _ in range(len(df))], index=df.index, dtype=object)\n",
        "    for i in df.index:\n",
        "        df.at[i, 'genres'] = []\n",
        "else:\n",
        "    print(\"Re-initializing existing 'genres' column.\")\n",
        "\n",
        "    for i in df.index:\n",
        "        df.at[i, 'genres'] = []\n",
        "\n",
        "\n",
        "print(\"\\n--- DEBUGGING INFORMATION (AFTER 'genres' INIT with .at) ---\")\n",
        "if 'genres' in df.columns:\n",
        "    print(f\"df['genres'].dtype: {df['genres'].dtype}\")\n",
        "    print(f\"First 3 values of df['genres']:\\n{df['genres'].head(3).tolist()}\")\n",
        "    try:\n",
        "        if len(df) > 0:\n",
        "            temp_list = [\"Test Assignment\"]\n",
        "            df.at[df.index[0], 'genres'] = temp_list\n",
        "            print(f\"Test assignment to df.at[df.index[0], 'genres'] successful. Value: {df.at[df.index[0], 'genres']}\")\n",
        "            df.at[df.index[0], 'genres'] = []\n",
        "            print(f\"Test reset to df.at[df.index[0], 'genres'] with [] successful. Value: {df.at[df.index[0], 'genres']}\")\n",
        "        else:\n",
        "            print(\"DataFrame is empty, skipping test assignment.\")\n",
        "    except Exception as e:\n",
        "        print(f\"!!! ERROR during test assignment to df.at['genres']: {e}\")\n",
        "else:\n",
        "    print(\"'genres' column not found after initialization attempt.\")\n",
        "print(\"-----------------------------------------------------\")\n",
        "\n",
        "\n",
        "headers = {\n",
        "    \"accept\": \"application/json\",\n",
        "    \"Authorization\": f\"Bearer {API_KEY}\"\n",
        "}\n",
        "\n",
        "print(\"\\nStarting API calls...\\n\")\n",
        "\n",
        "for index, row in tqdm(df.iterrows(), total=df.shape[0], desc=\"Fetching TMDB Genres\"):\n",
        "    tmdb_id_from_df = None\n",
        "    try:\n",
        "        tmdb_id_from_df = int(row['id'])\n",
        "    except (ValueError, TypeError, KeyError) as e:\n",
        "        tqdm.write(f\"Skipping row {index} (Original ID: {row.get('id', 'N/A')}): Invalid or missing TMDB ID. Error: {e}\")\n",
        "        try:\n",
        "            df.at[index, 'genres'] = [\"Error: Invalid TMDB ID in source\"]\n",
        "        except Exception as assign_e:\n",
        "            print(f\"!!!!! CRITICAL ERROR during assignment in (ValueError/TypeError/KeyError) except block for index {index}: {assign_e}\")\n",
        "        continue\n",
        "\n",
        "    category = row.get('category')\n",
        "    url = None\n",
        "\n",
        "    if category == \"Films (English)\" or category == \"Films (Non-English)\":\n",
        "        url = f\"https://api.themoviedb.org/3/movie/{tmdb_id_from_df}?language=en-US\"\n",
        "    elif category == \"TV (English)\" or category == \"TV (Non-English)\":\n",
        "        url = f\"https://api.themoviedb.org/3/tv/{tmdb_id_from_df}?language=en-US\"\n",
        "    else:\n",
        "        tqdm.write(f\"카테고리 오류. TMDB ID: {tmdb_id_from_df}, Category: {category}\")\n",
        "        try:\n",
        "            df.at[index, 'genres'] = [f\"Error: Invalid Category '{category}'\"]\n",
        "        except Exception as assign_e:\n",
        "            print(f\"!!!!! CRITICAL ERROR during assignment in category 'else' block for index {index}: {assign_e}\")\n",
        "        continue\n",
        "\n",
        "    if url:\n",
        "        response_text_snippet = \"Response not captured yet\"\n",
        "        try:\n",
        "            response = requests.get(url, headers=headers)\n",
        "            response_text_snippet = response.text[:200] if response and hasattr(response, 'text') else \"Response has no text or is None\"\n",
        "            response.raise_for_status()\n",
        "            data = response.json()\n",
        "\n",
        "            genres_data_list = data.get('genres', [])\n",
        "\n",
        "            if genres_data_list:\n",
        "                genre_names = [genre_info['name'] for genre_info in genres_data_list if 'name' in genre_info]\n",
        "                df.at[index, 'genres'] = genre_names\n",
        "            else:\n",
        "                df.at[index, 'genres'] = []\n",
        "\n",
        "            # time.sleep(0.05)\n",
        "\n",
        "        except requests.exceptions.HTTPError as e:\n",
        "            error_msg_list = []\n",
        "            if e.response.status_code == 404:\n",
        "                tqdm.write(f\"API 요청 실패 (404 Not Found). TMDB ID: {tmdb_id_from_df}. URL: {url}\")\n",
        "                error_msg_list = [\"Error: Item Not Found (404)\"]\n",
        "            else:\n",
        "                tqdm.write(f\"API 요청 실패. TMDB ID: {tmdb_id_from_df}. Status: {e.response.status_code}. URL: {url}. Error: {e}\")\n",
        "                error_msg_list = [f\"Error: API HTTP {e.response.status_code}\"]\n",
        "            try:\n",
        "                df.at[index, 'genres'] = error_msg_list\n",
        "            except Exception as assign_e:\n",
        "                print(f\"!!!!! CRITICAL ERROR during assignment in HTTPError except block for index {index}: {assign_e}\")\n",
        "\n",
        "        except requests.exceptions.RequestException as e:\n",
        "            tqdm.write(f\"API 연결 오류. TMDB ID: {tmdb_id_from_df}. URL: {url}. Error: {e}\")\n",
        "            try:\n",
        "                df.at[index, 'genres'] = [\"Error: API Connection Failed\"]\n",
        "            except Exception as assign_e:\n",
        "                print(f\"!!!!! CRITICAL ERROR during assignment in RequestException except block for index {index}: {assign_e}\")\n",
        "\n",
        "        except ValueError as e:\n",
        "            tqdm.write(f\"JSON 파싱 실패. TMDB ID: {tmdb_id_from_df}. URL: {url}. Error: {e}. Response text: {response_text_snippet}\")\n",
        "            try:\n",
        "                df.at[index, 'genres'] = [\"Error: JSON Parse Failed\"]\n",
        "            except Exception as assign_e:\n",
        "                print(f\"!!!!! CRITICAL ERROR during assignment in ValueError except block for index {index}: {assign_e}\")\n",
        "                print(f\"Attempted to assign: {['Error: JSON Parse Failed']}\")\n",
        "\n",
        "\n",
        "        except Exception as e:\n",
        "            tqdm.write(f\"처리 중 알 수 없는 오류 발생. TMDB ID: {tmdb_id_from_df}. URL: {url}. Error: {e}\")\n",
        "            try:\n",
        "                df.at[index, 'genres'] = [\"Error: Unknown Processing Error\"]\n",
        "            except Exception as assign_e:\n",
        "                print(f\"!!!!! CRITICAL ERROR during assignment in Generic Exception except block for index {index}: {assign_e}\")\n",
        "\n",
        "\n",
        "print(\"\\n--- FINAL DataFrame ---\")\n",
        "print(df[['id', 'category', 'genres']].head(10))\n",
        "print(\"\\n--- FINAL df.info() ---\")\n",
        "df.info()"
      ],
      "metadata": {
        "colab": {
          "base_uri": "https://localhost:8080/"
        },
        "id": "_W7Cttydp9v_",
        "outputId": "eea5d996-0dbf-4221-9a8b-0a9bdbc0b117"
      },
      "execution_count": null,
      "outputs": [
        {
          "output_type": "stream",
          "name": "stdout",
          "text": [
            "API Key loaded: eyJhb...\n",
            "Initializing 'genres' column.\n",
            "\n",
            "--- DEBUGGING INFORMATION (AFTER 'genres' INIT with .at) ---\n",
            "df['genres'].dtype: object\n",
            "First 3 values of df['genres']:\n",
            "[[], [], []]\n",
            "Test assignment to df.at[df.index[0], 'genres'] successful. Value: ['Test Assignment']\n",
            "Test reset to df.at[df.index[0], 'genres'] with [] successful. Value: []\n",
            "-----------------------------------------------------\n",
            "\n",
            "Starting API calls...\n",
            "\n"
          ]
        },
        {
          "output_type": "stream",
          "name": "stderr",
          "text": [
            "Fetching TMDB Genres: 100%|██████████| 7726/7726 [07:54<00:00, 16.28it/s]"
          ]
        },
        {
          "output_type": "stream",
          "name": "stdout",
          "text": [
            "\n",
            "--- FINAL DataFrame ---\n",
            "        id         category                     genres\n",
            "0  1151039  Films (English)                   [Comedy]\n",
            "1   619278  Films (English)  [Action, Crime, Thriller]\n",
            "2  1466938  Films (English)       [Documentary, Crime]\n",
            "3   668489  Films (English)  [Action, Crime, Thriller]\n",
            "4     8966  Films (English)  [Fantasy, Drama, Romance]\n",
            "5   682507  Films (English)  [Drama, Mystery, Romance]\n",
            "6   110538  Films (English)          [Comedy, Romance]\n",
            "7    61222  Films (English)                    [Drama]\n",
            "8  1462776  Films (English)              [Documentary]\n",
            "9   917496  Films (English)  [Horror, Comedy, Fantasy]\n",
            "\n",
            "--- FINAL df.info() ---\n",
            "<class 'pandas.core.frame.DataFrame'>\n",
            "Index: 7726 entries, 0 to 8079\n",
            "Data columns (total 9 columns):\n",
            " #   Column                      Non-Null Count  Dtype  \n",
            "---  ------                      --------------  -----  \n",
            " 0   week                        7726 non-null   object \n",
            " 1   category                    7726 non-null   object \n",
            " 2   show_title                  7726 non-null   object \n",
            " 3   weekly_hours_viewed         7726 non-null   int64  \n",
            " 4   runtime                     3798 non-null   float64\n",
            " 5   weekly_views                3798 non-null   Int64  \n",
            " 6   cumulative_weeks_in_top_10  7726 non-null   int64  \n",
            " 7   id                          7726 non-null   Int64  \n",
            " 8   genres                      7726 non-null   object \n",
            "dtypes: Int64(2), float64(1), int64(2), object(4)\n",
            "memory usage: 876.7+ KB\n"
          ]
        },
        {
          "output_type": "stream",
          "name": "stderr",
          "text": [
            "\n"
          ]
        }
      ]
    },
    {
      "cell_type": "markdown",
      "source": [
        "# 3.2. 키워드 불러오기"
      ],
      "metadata": {
        "id": "6-seJDPoht2_"
      }
    },
    {
      "cell_type": "code",
      "source": [
        "import pandas as pd\n",
        "import requests\n",
        "from tqdm import tqdm\n",
        "import time\n",
        "from dotenv import load_dotenv\n",
        "\n",
        "# .env 파일에서 api키 받아오기\n",
        "load_dotenv()\n",
        "API_KEY = os.getenv('API_KEY')\n",
        "\n",
        "print(f\"API Key loaded: {API_KEY[:5]}...\" if API_KEY else \"No API key found\")\n",
        "\n",
        "\n",
        "if 'df' not in locals() or not isinstance(df, pd.DataFrame):\n",
        "    print(\"!!! 'df' DataFrame이 정의되지 않았습니다. 스크립트 상단에서 로드해주세요. !!!\")\n",
        "    exit()\n",
        "\n",
        "if 'keywords' not in df.columns:\n",
        "    print(\"Initializing 'keywords' column.\")\n",
        "    df['keywords'] = pd.Series([None for _ in range(len(df))], index=df.index, dtype=object)\n",
        "    for i in df.index:\n",
        "        df.at[i, 'keywords'] = []\n",
        "else:\n",
        "    print(\"Re-initializing existing 'keywords' column.\")\n",
        "    for i in df.index:\n",
        "        df.at[i, 'keywords'] = []\n",
        "\n",
        "\n",
        "print(\"\\n--- DEBUGGING INFORMATION (AFTER 'keywords' INIT with .at) ---\")\n",
        "if 'keywords' in df.columns:\n",
        "    print(f\"df['keywords'].dtype: {df['keywords'].dtype}\")\n",
        "    print(f\"First 3 values of df['keywords']:\\n{df['keywords'].head(3).tolist()}\")\n",
        "    try:\n",
        "        if len(df) > 0:\n",
        "            temp_list = [\"Test Assignment\"]\n",
        "            df.at[df.index[0], 'keywords'] = temp_list\n",
        "            print(f\"Test assignment to df.at[df.index[0], 'keywords'] successful. Value: {df.at[df.index[0], 'keywords']}\")\n",
        "            df.at[df.index[0], 'keywords'] = []\n",
        "            print(f\"Test reset to df.at[df.index[0], 'keywords'] with [] successful. Value: {df.at[df.index[0], 'keywords']}\")\n",
        "        else:\n",
        "            print(\"DataFrame is empty, skipping test assignment.\")\n",
        "    except Exception as e:\n",
        "        print(f\"!!! ERROR during test assignment to df.at['keywords']: {e}\")\n",
        "else:\n",
        "    print(\"'keywords' column not found after initialization attempt.\")\n",
        "print(\"-----------------------------------------------------\")\n",
        "\n",
        "\n",
        "headers = {\n",
        "    \"accept\": \"application/json\",\n",
        "    \"Authorization\": f\"Bearer {API_KEY}\"\n",
        "}\n",
        "\n",
        "print(\"\\nStarting API calls...\\n\")\n",
        "\n",
        "for index, row in tqdm(df.iterrows(), total=df.shape[0], desc=\"Fetching TMDB Keywords\"):\n",
        "    tmdb_id_from_df = None\n",
        "    try:\n",
        "        tmdb_id_from_df = int(row['id'])\n",
        "    except (ValueError, TypeError, KeyError) as e:\n",
        "        tqdm.write(f\"Skipping row {index} (Original ID: {row.get('id', 'N/A')}): Invalid or missing TMDB ID. Error: {e}\")\n",
        "        try:\n",
        "            df.at[index, 'keywords'] = [\"Error: Invalid TMDB ID in source\"]\n",
        "        except Exception as assign_e:\n",
        "            print(f\"!!!!! CRITICAL ERROR during assignment in (ValueError/TypeError/KeyError) except block for index {index}: {assign_e}\")\n",
        "        continue\n",
        "\n",
        "    category = row.get('category')\n",
        "    url = None\n",
        "\n",
        "    if category == \"Films (English)\" or category == \"Films (Non-English)\":\n",
        "        url = f\"https://api.themoviedb.org/3/movie/{tmdb_id_from_df}/keywords\"\n",
        "    elif category == \"TV (English)\" or category == \"TV (Non-English)\":\n",
        "        url = f\"https://api.themoviedb.org/3/tv/{tmdb_id_from_df}/keywords\"\n",
        "    else:\n",
        "        tqdm.write(f\"카테고리 오류. TMDB ID: {tmdb_id_from_df}, Category: {category}\")\n",
        "        try:\n",
        "            df.at[index, 'keywords'] = [f\"Error: Invalid Category '{category}'\"]\n",
        "        except Exception as assign_e:\n",
        "            print(f\"!!!!! CRITICAL ERROR during assignment in category 'else' block for index {index}: {assign_e}\")\n",
        "        continue\n",
        "\n",
        "    if url:\n",
        "        response_text_snippet = \"Response not captured yet\"\n",
        "        try:\n",
        "            response = requests.get(url, headers=headers)\n",
        "            response_text_snippet = response.text[:200] if response and hasattr(response, 'text') else \"Response has no text or is None\"\n",
        "            response.raise_for_status()\n",
        "            data = response.json()\n",
        "\n",
        "            keywords_data_list = []\n",
        "            if category == \"Films (English)\" or category == \"Films (Non-English)\":\n",
        "                keywords_data_list = data.get('keywords', [])\n",
        "            elif category == \"TV (English)\" or category == \"TV (Non-English)\":\n",
        "                keywords_data_list = data.get('results', [])\n",
        "\n",
        "            if keywords_data_list:\n",
        "                keyword_names = [kw_info['name'] for kw_info in keywords_data_list if 'name' in kw_info]\n",
        "                df.at[index, 'keywords'] = keyword_names\n",
        "            else:\n",
        "                df.at[index, 'keywords'] = []\n",
        "\n",
        "            # time.sleep(0.05)\n",
        "\n",
        "        except requests.exceptions.HTTPError as e:\n",
        "            error_msg_list = []\n",
        "            if e.response.status_code == 404:\n",
        "                tqdm.write(f\"API 요청 실패 (404 Not Found). TMDB ID: {tmdb_id_from_df}. URL: {url}\")\n",
        "                error_msg_list = [\"Error: Item Not Found (404)\"]\n",
        "            else:\n",
        "                tqdm.write(f\"API 요청 실패. TMDB ID: {tmdb_id_from_df}. Status: {e.response.status_code}. URL: {url}. Error: {e}\")\n",
        "                error_msg_list = [f\"Error: API HTTP {e.response.status_code}\"]\n",
        "            try:\n",
        "                df.at[index, 'keywords'] = error_msg_list\n",
        "            except Exception as assign_e:\n",
        "                print(f\"!!!!! CRITICAL ERROR during assignment in HTTPError except block for index {index}: {assign_e}\")\n",
        "\n",
        "        except requests.exceptions.RequestException as e:\n",
        "            tqdm.write(f\"API 연결 오류. TMDB ID: {tmdb_id_from_df}. URL: {url}. Error: {e}\")\n",
        "            try:\n",
        "                df.at[index, 'keywords'] = [\"Error: API Connection Failed\"]\n",
        "            except Exception as assign_e:\n",
        "                print(f\"!!!!! CRITICAL ERROR during assignment in RequestException except block for index {index}: {assign_e}\")\n",
        "\n",
        "        except ValueError as e:\n",
        "            tqdm.write(f\"JSON 파싱 실패. TMDB ID: {tmdb_id_from_df}. URL: {url}. Error: {e}. Response text: {response_text_snippet}\")\n",
        "            try:\n",
        "                df.at[index, 'keywords'] = [\"Error: JSON Parse Failed\"]\n",
        "            except Exception as assign_e:\n",
        "                print(f\"!!!!! CRITICAL ERROR during assignment in ValueError except block for index {index}: {assign_e}\")\n",
        "                print(f\"Attempted to assign: {['Error: JSON Parse Failed']}\")\n",
        "\n",
        "\n",
        "        except Exception as e:\n",
        "            tqdm.write(f\"처리 중 알 수 없는 오류 발생. TMDB ID: {tmdb_id_from_df}. URL: {url}. Error: {e}\")\n",
        "            try:\n",
        "                df.at[index, 'keywords'] = [\"Error: Unknown Processing Error\"]\n",
        "            except Exception as assign_e:\n",
        "                print(f\"!!!!! CRITICAL ERROR during assignment in Generic Exception except block for index {index}: {assign_e}\")\n",
        "\n",
        "\n",
        "print(\"\\n--- FINAL DataFrame ---\")\n",
        "print(df[['id', 'category', 'keywords']].head(10))\n",
        "print(\"\\n--- FINAL df.info() ---\")\n",
        "df.info()"
      ],
      "metadata": {
        "colab": {
          "base_uri": "https://localhost:8080/"
        },
        "id": "JvrYhbgFwvJX",
        "outputId": "9a07b923-a597-41d0-8d68-9e852b6313d2"
      },
      "execution_count": null,
      "outputs": [
        {
          "output_type": "stream",
          "name": "stdout",
          "text": [
            "API Key loaded: eyJhb...\n",
            "Initializing 'keywords' column.\n",
            "\n",
            "--- DEBUGGING INFORMATION (AFTER 'keywords' INIT with .at) ---\n",
            "df['keywords'].dtype: object\n",
            "First 3 values of df['keywords']:\n",
            "[[], [], []]\n",
            "Test assignment to df.at[df.index[0], 'keywords'] successful. Value: ['Test Assignment']\n",
            "Test reset to df.at[df.index[0], 'keywords'] with [] successful. Value: []\n",
            "-----------------------------------------------------\n",
            "\n",
            "Starting API calls...\n",
            "\n"
          ]
        },
        {
          "output_type": "stream",
          "name": "stderr",
          "text": [
            "Fetching TMDB Keywords: 100%|██████████| 7726/7726 [07:43<00:00, 16.67it/s]"
          ]
        },
        {
          "output_type": "stream",
          "name": "stdout",
          "text": [
            "\n",
            "--- FINAL DataFrame ---\n",
            "        id         category                                           keywords\n",
            "0  1151039  Films (English)  [restaurant, revitalization, based on true sto...\n",
            "1   619278  Films (English)  [neo-nazism, hostage-taking, bank robbery, hos...\n",
            "2  1466938  Films (English)                                       [true crime]\n",
            "3   668489  Films (English)  [winter, detective, rescue mission, shootout, ...\n",
            "4     8966  Films (English)  [high school, soulmates, based on novel or boo...\n",
            "5   682507  Films (English)  [based on novel or book, artist, bullying, alc...\n",
            "6   110538  Films (English)                                                 []\n",
            "7    61222  Films (English)  [highway, sunscreen, sound proofing, ventilati...\n",
            "8  1462776  Films (English)  [britain, bombing, united kingdom, london blit...\n",
            "9   917496  Films (English)  [afterlife, haunted house, sequel, paranormal,...\n",
            "\n",
            "--- FINAL df.info() ---\n",
            "<class 'pandas.core.frame.DataFrame'>\n",
            "Index: 7726 entries, 0 to 8079\n",
            "Data columns (total 10 columns):\n",
            " #   Column                      Non-Null Count  Dtype  \n",
            "---  ------                      --------------  -----  \n",
            " 0   week                        7726 non-null   object \n",
            " 1   category                    7726 non-null   object \n",
            " 2   show_title                  7726 non-null   object \n",
            " 3   weekly_hours_viewed         7726 non-null   int64  \n",
            " 4   runtime                     3798 non-null   float64\n",
            " 5   weekly_views                3798 non-null   Int64  \n",
            " 6   cumulative_weeks_in_top_10  7726 non-null   int64  \n",
            " 7   id                          7726 non-null   Int64  \n",
            " 8   genres                      7726 non-null   object \n",
            " 9   keywords                    7726 non-null   object \n",
            "dtypes: Int64(2), float64(1), int64(2), object(5)\n",
            "memory usage: 937.1+ KB\n"
          ]
        },
        {
          "output_type": "stream",
          "name": "stderr",
          "text": [
            "\n"
          ]
        }
      ]
    },
    {
      "cell_type": "code",
      "source": [
        "# NA 값은 0으로 처리 (0으로 처리하지 않으면 불러올 때 float로 불러옴)\n",
        "df = df.fillna(0)\n",
        "df"
      ],
      "metadata": {
        "colab": {
          "base_uri": "https://localhost:8080/",
          "height": 1000
        },
        "id": "ipJtA4l8_z3D",
        "outputId": "3d4318ff-f968-4500-ce93-771fba57321e"
      },
      "execution_count": null,
      "outputs": [
        {
          "output_type": "execute_result",
          "data": {
            "text/plain": [
              "            week          category                  show_title  \\\n",
              "0     2025-05-11   Films (English)                      Nonnas   \n",
              "1     2025-05-11   Films (English)     Inside Man: Most Wanted   \n",
              "2     2025-05-11   Films (English)  A Deadly American Marriage   \n",
              "3     2025-05-11   Films (English)                       Havoc   \n",
              "4     2025-05-11   Films (English)                    Twilight   \n",
              "...          ...               ...                         ...   \n",
              "8075  2021-07-04  TV (Non-English)                       Elite   \n",
              "8076  2021-07-04  TV (Non-English)                       Elite   \n",
              "8077  2021-07-04  TV (Non-English)                       Elite   \n",
              "8078  2021-07-04  TV (Non-English)                       Katla   \n",
              "8079  2021-07-04  TV (Non-English)          Record of Ragnarok   \n",
              "\n",
              "      weekly_hours_viewed  runtime  weekly_views  cumulative_weeks_in_top_10  \\\n",
              "0                29000000   1.9000      15300000                           1   \n",
              "1                21800000   1.7667      12300000                           1   \n",
              "2                16900000   1.7167       9800000                           1   \n",
              "3                16300000   1.7833       9100000                           3   \n",
              "4                 8700000   2.0333       4300000                           4   \n",
              "...                   ...      ...           ...                         ...   \n",
              "8075             10530000   0.0000             0                           1   \n",
              "8076             10200000   0.0000             0                           1   \n",
              "8077             10140000   0.0000             0                           1   \n",
              "8078              9190000   0.0000             0                           1   \n",
              "8079              9140000   0.0000             0                           1   \n",
              "\n",
              "           id                                             genres  \\\n",
              "0     1151039                                           [Comedy]   \n",
              "1      619278                          [Action, Crime, Thriller]   \n",
              "2     1466938                               [Documentary, Crime]   \n",
              "3      668489                          [Action, Crime, Thriller]   \n",
              "4        8966                          [Fantasy, Drama, Romance]   \n",
              "...       ...                                                ...   \n",
              "8075    76669                            [Crime, Mystery, Drama]   \n",
              "8076    76669                            [Crime, Mystery, Drama]   \n",
              "8077    76669                            [Crime, Mystery, Drama]   \n",
              "8078   104157                 [Drama, Mystery, Sci-Fi & Fantasy]   \n",
              "8079   114868  [Action & Adventure, Animation, Sci-Fi & Fantasy]   \n",
              "\n",
              "                                               keywords  \n",
              "0     [restaurant, revitalization, based on true sto...  \n",
              "1     [neo-nazism, hostage-taking, bank robbery, hos...  \n",
              "2                                          [true crime]  \n",
              "3     [winter, detective, rescue mission, shootout, ...  \n",
              "4     [high school, soulmates, based on novel or boo...  \n",
              "...                                                 ...  \n",
              "8075  [love triangle, jealousy, infidelity, seductio...  \n",
              "8076  [love triangle, jealousy, infidelity, seductio...  \n",
              "8077  [love triangle, jealousy, infidelity, seductio...  \n",
              "8078  [small town, volcano, outbreak, volcanic erupt...  \n",
              "8079  [fight, mythology, god, survival, tournament, ...  \n",
              "\n",
              "[7726 rows x 10 columns]"
            ],
            "text/html": [
              "\n",
              "  <div id=\"df-3b0fdcc9-9be4-4737-8a0d-f71e7941d9d4\" class=\"colab-df-container\">\n",
              "    <div>\n",
              "<style scoped>\n",
              "    .dataframe tbody tr th:only-of-type {\n",
              "        vertical-align: middle;\n",
              "    }\n",
              "\n",
              "    .dataframe tbody tr th {\n",
              "        vertical-align: top;\n",
              "    }\n",
              "\n",
              "    .dataframe thead th {\n",
              "        text-align: right;\n",
              "    }\n",
              "</style>\n",
              "<table border=\"1\" class=\"dataframe\">\n",
              "  <thead>\n",
              "    <tr style=\"text-align: right;\">\n",
              "      <th></th>\n",
              "      <th>week</th>\n",
              "      <th>category</th>\n",
              "      <th>show_title</th>\n",
              "      <th>weekly_hours_viewed</th>\n",
              "      <th>runtime</th>\n",
              "      <th>weekly_views</th>\n",
              "      <th>cumulative_weeks_in_top_10</th>\n",
              "      <th>id</th>\n",
              "      <th>genres</th>\n",
              "      <th>keywords</th>\n",
              "    </tr>\n",
              "  </thead>\n",
              "  <tbody>\n",
              "    <tr>\n",
              "      <th>0</th>\n",
              "      <td>2025-05-11</td>\n",
              "      <td>Films (English)</td>\n",
              "      <td>Nonnas</td>\n",
              "      <td>29000000</td>\n",
              "      <td>1.9000</td>\n",
              "      <td>15300000</td>\n",
              "      <td>1</td>\n",
              "      <td>1151039</td>\n",
              "      <td>[Comedy]</td>\n",
              "      <td>[restaurant, revitalization, based on true sto...</td>\n",
              "    </tr>\n",
              "    <tr>\n",
              "      <th>1</th>\n",
              "      <td>2025-05-11</td>\n",
              "      <td>Films (English)</td>\n",
              "      <td>Inside Man: Most Wanted</td>\n",
              "      <td>21800000</td>\n",
              "      <td>1.7667</td>\n",
              "      <td>12300000</td>\n",
              "      <td>1</td>\n",
              "      <td>619278</td>\n",
              "      <td>[Action, Crime, Thriller]</td>\n",
              "      <td>[neo-nazism, hostage-taking, bank robbery, hos...</td>\n",
              "    </tr>\n",
              "    <tr>\n",
              "      <th>2</th>\n",
              "      <td>2025-05-11</td>\n",
              "      <td>Films (English)</td>\n",
              "      <td>A Deadly American Marriage</td>\n",
              "      <td>16900000</td>\n",
              "      <td>1.7167</td>\n",
              "      <td>9800000</td>\n",
              "      <td>1</td>\n",
              "      <td>1466938</td>\n",
              "      <td>[Documentary, Crime]</td>\n",
              "      <td>[true crime]</td>\n",
              "    </tr>\n",
              "    <tr>\n",
              "      <th>3</th>\n",
              "      <td>2025-05-11</td>\n",
              "      <td>Films (English)</td>\n",
              "      <td>Havoc</td>\n",
              "      <td>16300000</td>\n",
              "      <td>1.7833</td>\n",
              "      <td>9100000</td>\n",
              "      <td>3</td>\n",
              "      <td>668489</td>\n",
              "      <td>[Action, Crime, Thriller]</td>\n",
              "      <td>[winter, detective, rescue mission, shootout, ...</td>\n",
              "    </tr>\n",
              "    <tr>\n",
              "      <th>4</th>\n",
              "      <td>2025-05-11</td>\n",
              "      <td>Films (English)</td>\n",
              "      <td>Twilight</td>\n",
              "      <td>8700000</td>\n",
              "      <td>2.0333</td>\n",
              "      <td>4300000</td>\n",
              "      <td>4</td>\n",
              "      <td>8966</td>\n",
              "      <td>[Fantasy, Drama, Romance]</td>\n",
              "      <td>[high school, soulmates, based on novel or boo...</td>\n",
              "    </tr>\n",
              "    <tr>\n",
              "      <th>...</th>\n",
              "      <td>...</td>\n",
              "      <td>...</td>\n",
              "      <td>...</td>\n",
              "      <td>...</td>\n",
              "      <td>...</td>\n",
              "      <td>...</td>\n",
              "      <td>...</td>\n",
              "      <td>...</td>\n",
              "      <td>...</td>\n",
              "      <td>...</td>\n",
              "    </tr>\n",
              "    <tr>\n",
              "      <th>8075</th>\n",
              "      <td>2021-07-04</td>\n",
              "      <td>TV (Non-English)</td>\n",
              "      <td>Elite</td>\n",
              "      <td>10530000</td>\n",
              "      <td>0.0000</td>\n",
              "      <td>0</td>\n",
              "      <td>1</td>\n",
              "      <td>76669</td>\n",
              "      <td>[Crime, Mystery, Drama]</td>\n",
              "      <td>[love triangle, jealousy, infidelity, seductio...</td>\n",
              "    </tr>\n",
              "    <tr>\n",
              "      <th>8076</th>\n",
              "      <td>2021-07-04</td>\n",
              "      <td>TV (Non-English)</td>\n",
              "      <td>Elite</td>\n",
              "      <td>10200000</td>\n",
              "      <td>0.0000</td>\n",
              "      <td>0</td>\n",
              "      <td>1</td>\n",
              "      <td>76669</td>\n",
              "      <td>[Crime, Mystery, Drama]</td>\n",
              "      <td>[love triangle, jealousy, infidelity, seductio...</td>\n",
              "    </tr>\n",
              "    <tr>\n",
              "      <th>8077</th>\n",
              "      <td>2021-07-04</td>\n",
              "      <td>TV (Non-English)</td>\n",
              "      <td>Elite</td>\n",
              "      <td>10140000</td>\n",
              "      <td>0.0000</td>\n",
              "      <td>0</td>\n",
              "      <td>1</td>\n",
              "      <td>76669</td>\n",
              "      <td>[Crime, Mystery, Drama]</td>\n",
              "      <td>[love triangle, jealousy, infidelity, seductio...</td>\n",
              "    </tr>\n",
              "    <tr>\n",
              "      <th>8078</th>\n",
              "      <td>2021-07-04</td>\n",
              "      <td>TV (Non-English)</td>\n",
              "      <td>Katla</td>\n",
              "      <td>9190000</td>\n",
              "      <td>0.0000</td>\n",
              "      <td>0</td>\n",
              "      <td>1</td>\n",
              "      <td>104157</td>\n",
              "      <td>[Drama, Mystery, Sci-Fi &amp; Fantasy]</td>\n",
              "      <td>[small town, volcano, outbreak, volcanic erupt...</td>\n",
              "    </tr>\n",
              "    <tr>\n",
              "      <th>8079</th>\n",
              "      <td>2021-07-04</td>\n",
              "      <td>TV (Non-English)</td>\n",
              "      <td>Record of Ragnarok</td>\n",
              "      <td>9140000</td>\n",
              "      <td>0.0000</td>\n",
              "      <td>0</td>\n",
              "      <td>1</td>\n",
              "      <td>114868</td>\n",
              "      <td>[Action &amp; Adventure, Animation, Sci-Fi &amp; Fantasy]</td>\n",
              "      <td>[fight, mythology, god, survival, tournament, ...</td>\n",
              "    </tr>\n",
              "  </tbody>\n",
              "</table>\n",
              "<p>7726 rows × 10 columns</p>\n",
              "</div>\n",
              "    <div class=\"colab-df-buttons\">\n",
              "\n",
              "  <div class=\"colab-df-container\">\n",
              "    <button class=\"colab-df-convert\" onclick=\"convertToInteractive('df-3b0fdcc9-9be4-4737-8a0d-f71e7941d9d4')\"\n",
              "            title=\"Convert this dataframe to an interactive table.\"\n",
              "            style=\"display:none;\">\n",
              "\n",
              "  <svg xmlns=\"http://www.w3.org/2000/svg\" height=\"24px\" viewBox=\"0 -960 960 960\">\n",
              "    <path d=\"M120-120v-720h720v720H120Zm60-500h600v-160H180v160Zm220 220h160v-160H400v160Zm0 220h160v-160H400v160ZM180-400h160v-160H180v160Zm440 0h160v-160H620v160ZM180-180h160v-160H180v160Zm440 0h160v-160H620v160Z\"/>\n",
              "  </svg>\n",
              "    </button>\n",
              "\n",
              "  <style>\n",
              "    .colab-df-container {\n",
              "      display:flex;\n",
              "      gap: 12px;\n",
              "    }\n",
              "\n",
              "    .colab-df-convert {\n",
              "      background-color: #E8F0FE;\n",
              "      border: none;\n",
              "      border-radius: 50%;\n",
              "      cursor: pointer;\n",
              "      display: none;\n",
              "      fill: #1967D2;\n",
              "      height: 32px;\n",
              "      padding: 0 0 0 0;\n",
              "      width: 32px;\n",
              "    }\n",
              "\n",
              "    .colab-df-convert:hover {\n",
              "      background-color: #E2EBFA;\n",
              "      box-shadow: 0px 1px 2px rgba(60, 64, 67, 0.3), 0px 1px 3px 1px rgba(60, 64, 67, 0.15);\n",
              "      fill: #174EA6;\n",
              "    }\n",
              "\n",
              "    .colab-df-buttons div {\n",
              "      margin-bottom: 4px;\n",
              "    }\n",
              "\n",
              "    [theme=dark] .colab-df-convert {\n",
              "      background-color: #3B4455;\n",
              "      fill: #D2E3FC;\n",
              "    }\n",
              "\n",
              "    [theme=dark] .colab-df-convert:hover {\n",
              "      background-color: #434B5C;\n",
              "      box-shadow: 0px 1px 3px 1px rgba(0, 0, 0, 0.15);\n",
              "      filter: drop-shadow(0px 1px 2px rgba(0, 0, 0, 0.3));\n",
              "      fill: #FFFFFF;\n",
              "    }\n",
              "  </style>\n",
              "\n",
              "    <script>\n",
              "      const buttonEl =\n",
              "        document.querySelector('#df-3b0fdcc9-9be4-4737-8a0d-f71e7941d9d4 button.colab-df-convert');\n",
              "      buttonEl.style.display =\n",
              "        google.colab.kernel.accessAllowed ? 'block' : 'none';\n",
              "\n",
              "      async function convertToInteractive(key) {\n",
              "        const element = document.querySelector('#df-3b0fdcc9-9be4-4737-8a0d-f71e7941d9d4');\n",
              "        const dataTable =\n",
              "          await google.colab.kernel.invokeFunction('convertToInteractive',\n",
              "                                                    [key], {});\n",
              "        if (!dataTable) return;\n",
              "\n",
              "        const docLinkHtml = 'Like what you see? Visit the ' +\n",
              "          '<a target=\"_blank\" href=https://colab.research.google.com/notebooks/data_table.ipynb>data table notebook</a>'\n",
              "          + ' to learn more about interactive tables.';\n",
              "        element.innerHTML = '';\n",
              "        dataTable['output_type'] = 'display_data';\n",
              "        await google.colab.output.renderOutput(dataTable, element);\n",
              "        const docLink = document.createElement('div');\n",
              "        docLink.innerHTML = docLinkHtml;\n",
              "        element.appendChild(docLink);\n",
              "      }\n",
              "    </script>\n",
              "  </div>\n",
              "\n",
              "\n",
              "    <div id=\"df-7fdfd518-b8a1-4715-9631-30a56252060b\">\n",
              "      <button class=\"colab-df-quickchart\" onclick=\"quickchart('df-7fdfd518-b8a1-4715-9631-30a56252060b')\"\n",
              "                title=\"Suggest charts\"\n",
              "                style=\"display:none;\">\n",
              "\n",
              "<svg xmlns=\"http://www.w3.org/2000/svg\" height=\"24px\"viewBox=\"0 0 24 24\"\n",
              "     width=\"24px\">\n",
              "    <g>\n",
              "        <path d=\"M19 3H5c-1.1 0-2 .9-2 2v14c0 1.1.9 2 2 2h14c1.1 0 2-.9 2-2V5c0-1.1-.9-2-2-2zM9 17H7v-7h2v7zm4 0h-2V7h2v10zm4 0h-2v-4h2v4z\"/>\n",
              "    </g>\n",
              "</svg>\n",
              "      </button>\n",
              "\n",
              "<style>\n",
              "  .colab-df-quickchart {\n",
              "      --bg-color: #E8F0FE;\n",
              "      --fill-color: #1967D2;\n",
              "      --hover-bg-color: #E2EBFA;\n",
              "      --hover-fill-color: #174EA6;\n",
              "      --disabled-fill-color: #AAA;\n",
              "      --disabled-bg-color: #DDD;\n",
              "  }\n",
              "\n",
              "  [theme=dark] .colab-df-quickchart {\n",
              "      --bg-color: #3B4455;\n",
              "      --fill-color: #D2E3FC;\n",
              "      --hover-bg-color: #434B5C;\n",
              "      --hover-fill-color: #FFFFFF;\n",
              "      --disabled-bg-color: #3B4455;\n",
              "      --disabled-fill-color: #666;\n",
              "  }\n",
              "\n",
              "  .colab-df-quickchart {\n",
              "    background-color: var(--bg-color);\n",
              "    border: none;\n",
              "    border-radius: 50%;\n",
              "    cursor: pointer;\n",
              "    display: none;\n",
              "    fill: var(--fill-color);\n",
              "    height: 32px;\n",
              "    padding: 0;\n",
              "    width: 32px;\n",
              "  }\n",
              "\n",
              "  .colab-df-quickchart:hover {\n",
              "    background-color: var(--hover-bg-color);\n",
              "    box-shadow: 0 1px 2px rgba(60, 64, 67, 0.3), 0 1px 3px 1px rgba(60, 64, 67, 0.15);\n",
              "    fill: var(--button-hover-fill-color);\n",
              "  }\n",
              "\n",
              "  .colab-df-quickchart-complete:disabled,\n",
              "  .colab-df-quickchart-complete:disabled:hover {\n",
              "    background-color: var(--disabled-bg-color);\n",
              "    fill: var(--disabled-fill-color);\n",
              "    box-shadow: none;\n",
              "  }\n",
              "\n",
              "  .colab-df-spinner {\n",
              "    border: 2px solid var(--fill-color);\n",
              "    border-color: transparent;\n",
              "    border-bottom-color: var(--fill-color);\n",
              "    animation:\n",
              "      spin 1s steps(1) infinite;\n",
              "  }\n",
              "\n",
              "  @keyframes spin {\n",
              "    0% {\n",
              "      border-color: transparent;\n",
              "      border-bottom-color: var(--fill-color);\n",
              "      border-left-color: var(--fill-color);\n",
              "    }\n",
              "    20% {\n",
              "      border-color: transparent;\n",
              "      border-left-color: var(--fill-color);\n",
              "      border-top-color: var(--fill-color);\n",
              "    }\n",
              "    30% {\n",
              "      border-color: transparent;\n",
              "      border-left-color: var(--fill-color);\n",
              "      border-top-color: var(--fill-color);\n",
              "      border-right-color: var(--fill-color);\n",
              "    }\n",
              "    40% {\n",
              "      border-color: transparent;\n",
              "      border-right-color: var(--fill-color);\n",
              "      border-top-color: var(--fill-color);\n",
              "    }\n",
              "    60% {\n",
              "      border-color: transparent;\n",
              "      border-right-color: var(--fill-color);\n",
              "    }\n",
              "    80% {\n",
              "      border-color: transparent;\n",
              "      border-right-color: var(--fill-color);\n",
              "      border-bottom-color: var(--fill-color);\n",
              "    }\n",
              "    90% {\n",
              "      border-color: transparent;\n",
              "      border-bottom-color: var(--fill-color);\n",
              "    }\n",
              "  }\n",
              "</style>\n",
              "\n",
              "      <script>\n",
              "        async function quickchart(key) {\n",
              "          const quickchartButtonEl =\n",
              "            document.querySelector('#' + key + ' button');\n",
              "          quickchartButtonEl.disabled = true;  // To prevent multiple clicks.\n",
              "          quickchartButtonEl.classList.add('colab-df-spinner');\n",
              "          try {\n",
              "            const charts = await google.colab.kernel.invokeFunction(\n",
              "                'suggestCharts', [key], {});\n",
              "          } catch (error) {\n",
              "            console.error('Error during call to suggestCharts:', error);\n",
              "          }\n",
              "          quickchartButtonEl.classList.remove('colab-df-spinner');\n",
              "          quickchartButtonEl.classList.add('colab-df-quickchart-complete');\n",
              "        }\n",
              "        (() => {\n",
              "          let quickchartButtonEl =\n",
              "            document.querySelector('#df-7fdfd518-b8a1-4715-9631-30a56252060b button');\n",
              "          quickchartButtonEl.style.display =\n",
              "            google.colab.kernel.accessAllowed ? 'block' : 'none';\n",
              "        })();\n",
              "      </script>\n",
              "    </div>\n",
              "\n",
              "  <div id=\"id_09243917-bf7a-4cdc-b3ec-46e53393f254\">\n",
              "    <style>\n",
              "      .colab-df-generate {\n",
              "        background-color: #E8F0FE;\n",
              "        border: none;\n",
              "        border-radius: 50%;\n",
              "        cursor: pointer;\n",
              "        display: none;\n",
              "        fill: #1967D2;\n",
              "        height: 32px;\n",
              "        padding: 0 0 0 0;\n",
              "        width: 32px;\n",
              "      }\n",
              "\n",
              "      .colab-df-generate:hover {\n",
              "        background-color: #E2EBFA;\n",
              "        box-shadow: 0px 1px 2px rgba(60, 64, 67, 0.3), 0px 1px 3px 1px rgba(60, 64, 67, 0.15);\n",
              "        fill: #174EA6;\n",
              "      }\n",
              "\n",
              "      [theme=dark] .colab-df-generate {\n",
              "        background-color: #3B4455;\n",
              "        fill: #D2E3FC;\n",
              "      }\n",
              "\n",
              "      [theme=dark] .colab-df-generate:hover {\n",
              "        background-color: #434B5C;\n",
              "        box-shadow: 0px 1px 3px 1px rgba(0, 0, 0, 0.15);\n",
              "        filter: drop-shadow(0px 1px 2px rgba(0, 0, 0, 0.3));\n",
              "        fill: #FFFFFF;\n",
              "      }\n",
              "    </style>\n",
              "    <button class=\"colab-df-generate\" onclick=\"generateWithVariable('df')\"\n",
              "            title=\"Generate code using this dataframe.\"\n",
              "            style=\"display:none;\">\n",
              "\n",
              "  <svg xmlns=\"http://www.w3.org/2000/svg\" height=\"24px\"viewBox=\"0 0 24 24\"\n",
              "       width=\"24px\">\n",
              "    <path d=\"M7,19H8.4L18.45,9,17,7.55,7,17.6ZM5,21V16.75L18.45,3.32a2,2,0,0,1,2.83,0l1.4,1.43a1.91,1.91,0,0,1,.58,1.4,1.91,1.91,0,0,1-.58,1.4L9.25,21ZM18.45,9,17,7.55Zm-12,3A5.31,5.31,0,0,0,4.9,8.1,5.31,5.31,0,0,0,1,6.5,5.31,5.31,0,0,0,4.9,4.9,5.31,5.31,0,0,0,6.5,1,5.31,5.31,0,0,0,8.1,4.9,5.31,5.31,0,0,0,12,6.5,5.46,5.46,0,0,0,6.5,12Z\"/>\n",
              "  </svg>\n",
              "    </button>\n",
              "    <script>\n",
              "      (() => {\n",
              "      const buttonEl =\n",
              "        document.querySelector('#id_09243917-bf7a-4cdc-b3ec-46e53393f254 button.colab-df-generate');\n",
              "      buttonEl.style.display =\n",
              "        google.colab.kernel.accessAllowed ? 'block' : 'none';\n",
              "\n",
              "      buttonEl.onclick = () => {\n",
              "        google.colab.notebook.generateWithVariable('df');\n",
              "      }\n",
              "      })();\n",
              "    </script>\n",
              "  </div>\n",
              "\n",
              "    </div>\n",
              "  </div>\n"
            ],
            "application/vnd.google.colaboratory.intrinsic+json": {
              "type": "dataframe",
              "variable_name": "df",
              "summary": "{\n  \"name\": \"df\",\n  \"rows\": 7726,\n  \"fields\": [\n    {\n      \"column\": \"week\",\n      \"properties\": {\n        \"dtype\": \"object\",\n        \"num_unique_values\": 202,\n        \"samples\": [\n          \"2023-07-16\",\n          \"2025-01-26\",\n          \"2024-10-13\"\n        ],\n        \"semantic_type\": \"\",\n        \"description\": \"\"\n      }\n    },\n    {\n      \"column\": \"category\",\n      \"properties\": {\n        \"dtype\": \"category\",\n        \"num_unique_values\": 4,\n        \"samples\": [\n          \"Films (Non-English)\",\n          \"TV (Non-English)\",\n          \"Films (English)\"\n        ],\n        \"semantic_type\": \"\",\n        \"description\": \"\"\n      }\n    },\n    {\n      \"column\": \"show_title\",\n      \"properties\": {\n        \"dtype\": \"category\",\n        \"num_unique_values\": 2397,\n        \"samples\": [\n          \"Breaking the Silence: The Maria Soledad Case\",\n          \"Despicable Me\",\n          \"Rana Naidu\"\n        ],\n        \"semantic_type\": \"\",\n        \"description\": \"\"\n      }\n    },\n    {\n      \"column\": \"weekly_hours_viewed\",\n      \"properties\": {\n        \"dtype\": \"number\",\n        \"std\": 25920926,\n        \"min\": 700000,\n        \"max\": 571760000,\n        \"num_unique_values\": 2831,\n        \"samples\": [\n          9650000,\n          5780000,\n          51230000\n        ],\n        \"semantic_type\": \"\",\n        \"description\": \"\"\n      }\n    },\n    {\n      \"column\": \"runtime\",\n      \"properties\": {\n        \"dtype\": \"number\",\n        \"std\": 2.87351159484039,\n        \"min\": 0.0,\n        \"max\": 47.5833,\n        \"num_unique_values\": 469,\n        \"samples\": [\n          1.6,\n          1.6167,\n          6.0167\n        ],\n        \"semantic_type\": \"\",\n        \"description\": \"\"\n      }\n    },\n    {\n      \"column\": \"weekly_views\",\n      \"properties\": {\n        \"dtype\": \"Int64\",\n        \"num_unique_values\": 265,\n        \"samples\": [\n          15500000,\n          11300000,\n          17000000\n        ],\n        \"semantic_type\": \"\",\n        \"description\": \"\"\n      }\n    },\n    {\n      \"column\": \"cumulative_weeks_in_top_10\",\n      \"properties\": {\n        \"dtype\": \"number\",\n        \"std\": 3,\n        \"min\": 1,\n        \"max\": 30,\n        \"num_unique_values\": 30,\n        \"samples\": [\n          23,\n          13,\n          27\n        ],\n        \"semantic_type\": \"\",\n        \"description\": \"\"\n      }\n    },\n    {\n      \"column\": \"id\",\n      \"properties\": {\n        \"dtype\": \"Int64\",\n        \"num_unique_values\": 2402,\n        \"samples\": [\n          783675,\n          38310,\n          216811\n        ],\n        \"semantic_type\": \"\",\n        \"description\": \"\"\n      }\n    },\n    {\n      \"column\": \"genres\",\n      \"properties\": {\n        \"dtype\": \"object\",\n        \"semantic_type\": \"\",\n        \"description\": \"\"\n      }\n    },\n    {\n      \"column\": \"keywords\",\n      \"properties\": {\n        \"dtype\": \"object\",\n        \"semantic_type\": \"\",\n        \"description\": \"\"\n      }\n    }\n  ]\n}"
            }
          },
          "metadata": {},
          "execution_count": 63
        }
      ]
    },
    {
      "cell_type": "code",
      "source": [
        "# csv 파일 저장하기\n",
        "df.to_csv('top-10_with_genres_keywords.csv', index=False)"
      ],
      "metadata": {
        "id": "3oGmm6AG5Mat"
      },
      "execution_count": null,
      "outputs": []
    },
    {
      "cell_type": "code",
      "source": [
        "# 저장한 csv 파일 확인\n",
        "df = pd.read_csv('top-10_with_genres_keywords.csv')\n",
        "df"
      ],
      "metadata": {
        "colab": {
          "base_uri": "https://localhost:8080/",
          "height": 982
        },
        "id": "qjZ8BvzWABBP",
        "outputId": "82d34848-a41a-421b-fa13-f9356b88b2f1"
      },
      "execution_count": null,
      "outputs": [
        {
          "output_type": "execute_result",
          "data": {
            "text/plain": [
              "            week          category                  show_title  \\\n",
              "0     2025-05-11   Films (English)                      Nonnas   \n",
              "1     2025-05-11   Films (English)     Inside Man: Most Wanted   \n",
              "2     2025-05-11   Films (English)  A Deadly American Marriage   \n",
              "3     2025-05-11   Films (English)                       Havoc   \n",
              "4     2025-05-11   Films (English)                    Twilight   \n",
              "...          ...               ...                         ...   \n",
              "7721  2021-07-04  TV (Non-English)                       Elite   \n",
              "7722  2021-07-04  TV (Non-English)                       Elite   \n",
              "7723  2021-07-04  TV (Non-English)                       Elite   \n",
              "7724  2021-07-04  TV (Non-English)                       Katla   \n",
              "7725  2021-07-04  TV (Non-English)          Record of Ragnarok   \n",
              "\n",
              "      weekly_hours_viewed  runtime  weekly_views  cumulative_weeks_in_top_10  \\\n",
              "0                29000000   1.9000      15300000                           1   \n",
              "1                21800000   1.7667      12300000                           1   \n",
              "2                16900000   1.7167       9800000                           1   \n",
              "3                16300000   1.7833       9100000                           3   \n",
              "4                 8700000   2.0333       4300000                           4   \n",
              "...                   ...      ...           ...                         ...   \n",
              "7721             10530000   0.0000             0                           1   \n",
              "7722             10200000   0.0000             0                           1   \n",
              "7723             10140000   0.0000             0                           1   \n",
              "7724              9190000   0.0000             0                           1   \n",
              "7725              9140000   0.0000             0                           1   \n",
              "\n",
              "           id                                             genres  \\\n",
              "0     1151039                                         ['Comedy']   \n",
              "1      619278                    ['Action', 'Crime', 'Thriller']   \n",
              "2     1466938                           ['Documentary', 'Crime']   \n",
              "3      668489                    ['Action', 'Crime', 'Thriller']   \n",
              "4        8966                    ['Fantasy', 'Drama', 'Romance']   \n",
              "...       ...                                                ...   \n",
              "7721    76669                      ['Crime', 'Mystery', 'Drama']   \n",
              "7722    76669                      ['Crime', 'Mystery', 'Drama']   \n",
              "7723    76669                      ['Crime', 'Mystery', 'Drama']   \n",
              "7724   104157           ['Drama', 'Mystery', 'Sci-Fi & Fantasy']   \n",
              "7725   114868  ['Action & Adventure', 'Animation', 'Sci-Fi & ...   \n",
              "\n",
              "                                               keywords  \n",
              "0     ['restaurant', 'revitalization', 'based on tru...  \n",
              "1     ['neo-nazism', 'hostage-taking', 'bank robbery...  \n",
              "2                                        ['true crime']  \n",
              "3     ['winter', 'detective', 'rescue mission', 'sho...  \n",
              "4     ['high school', 'soulmates', 'based on novel o...  \n",
              "...                                                 ...  \n",
              "7721  ['love triangle', 'jealousy', 'infidelity', 's...  \n",
              "7722  ['love triangle', 'jealousy', 'infidelity', 's...  \n",
              "7723  ['love triangle', 'jealousy', 'infidelity', 's...  \n",
              "7724  ['small town', 'volcano', 'outbreak', 'volcani...  \n",
              "7725  ['fight', 'mythology', 'god', 'survival', 'tou...  \n",
              "\n",
              "[7726 rows x 10 columns]"
            ],
            "text/html": [
              "\n",
              "  <div id=\"df-b61998d1-7e9d-4b33-af68-e853b901f4bb\" class=\"colab-df-container\">\n",
              "    <div>\n",
              "<style scoped>\n",
              "    .dataframe tbody tr th:only-of-type {\n",
              "        vertical-align: middle;\n",
              "    }\n",
              "\n",
              "    .dataframe tbody tr th {\n",
              "        vertical-align: top;\n",
              "    }\n",
              "\n",
              "    .dataframe thead th {\n",
              "        text-align: right;\n",
              "    }\n",
              "</style>\n",
              "<table border=\"1\" class=\"dataframe\">\n",
              "  <thead>\n",
              "    <tr style=\"text-align: right;\">\n",
              "      <th></th>\n",
              "      <th>week</th>\n",
              "      <th>category</th>\n",
              "      <th>show_title</th>\n",
              "      <th>weekly_hours_viewed</th>\n",
              "      <th>runtime</th>\n",
              "      <th>weekly_views</th>\n",
              "      <th>cumulative_weeks_in_top_10</th>\n",
              "      <th>id</th>\n",
              "      <th>genres</th>\n",
              "      <th>keywords</th>\n",
              "    </tr>\n",
              "  </thead>\n",
              "  <tbody>\n",
              "    <tr>\n",
              "      <th>0</th>\n",
              "      <td>2025-05-11</td>\n",
              "      <td>Films (English)</td>\n",
              "      <td>Nonnas</td>\n",
              "      <td>29000000</td>\n",
              "      <td>1.9000</td>\n",
              "      <td>15300000</td>\n",
              "      <td>1</td>\n",
              "      <td>1151039</td>\n",
              "      <td>['Comedy']</td>\n",
              "      <td>['restaurant', 'revitalization', 'based on tru...</td>\n",
              "    </tr>\n",
              "    <tr>\n",
              "      <th>1</th>\n",
              "      <td>2025-05-11</td>\n",
              "      <td>Films (English)</td>\n",
              "      <td>Inside Man: Most Wanted</td>\n",
              "      <td>21800000</td>\n",
              "      <td>1.7667</td>\n",
              "      <td>12300000</td>\n",
              "      <td>1</td>\n",
              "      <td>619278</td>\n",
              "      <td>['Action', 'Crime', 'Thriller']</td>\n",
              "      <td>['neo-nazism', 'hostage-taking', 'bank robbery...</td>\n",
              "    </tr>\n",
              "    <tr>\n",
              "      <th>2</th>\n",
              "      <td>2025-05-11</td>\n",
              "      <td>Films (English)</td>\n",
              "      <td>A Deadly American Marriage</td>\n",
              "      <td>16900000</td>\n",
              "      <td>1.7167</td>\n",
              "      <td>9800000</td>\n",
              "      <td>1</td>\n",
              "      <td>1466938</td>\n",
              "      <td>['Documentary', 'Crime']</td>\n",
              "      <td>['true crime']</td>\n",
              "    </tr>\n",
              "    <tr>\n",
              "      <th>3</th>\n",
              "      <td>2025-05-11</td>\n",
              "      <td>Films (English)</td>\n",
              "      <td>Havoc</td>\n",
              "      <td>16300000</td>\n",
              "      <td>1.7833</td>\n",
              "      <td>9100000</td>\n",
              "      <td>3</td>\n",
              "      <td>668489</td>\n",
              "      <td>['Action', 'Crime', 'Thriller']</td>\n",
              "      <td>['winter', 'detective', 'rescue mission', 'sho...</td>\n",
              "    </tr>\n",
              "    <tr>\n",
              "      <th>4</th>\n",
              "      <td>2025-05-11</td>\n",
              "      <td>Films (English)</td>\n",
              "      <td>Twilight</td>\n",
              "      <td>8700000</td>\n",
              "      <td>2.0333</td>\n",
              "      <td>4300000</td>\n",
              "      <td>4</td>\n",
              "      <td>8966</td>\n",
              "      <td>['Fantasy', 'Drama', 'Romance']</td>\n",
              "      <td>['high school', 'soulmates', 'based on novel o...</td>\n",
              "    </tr>\n",
              "    <tr>\n",
              "      <th>...</th>\n",
              "      <td>...</td>\n",
              "      <td>...</td>\n",
              "      <td>...</td>\n",
              "      <td>...</td>\n",
              "      <td>...</td>\n",
              "      <td>...</td>\n",
              "      <td>...</td>\n",
              "      <td>...</td>\n",
              "      <td>...</td>\n",
              "      <td>...</td>\n",
              "    </tr>\n",
              "    <tr>\n",
              "      <th>7721</th>\n",
              "      <td>2021-07-04</td>\n",
              "      <td>TV (Non-English)</td>\n",
              "      <td>Elite</td>\n",
              "      <td>10530000</td>\n",
              "      <td>0.0000</td>\n",
              "      <td>0</td>\n",
              "      <td>1</td>\n",
              "      <td>76669</td>\n",
              "      <td>['Crime', 'Mystery', 'Drama']</td>\n",
              "      <td>['love triangle', 'jealousy', 'infidelity', 's...</td>\n",
              "    </tr>\n",
              "    <tr>\n",
              "      <th>7722</th>\n",
              "      <td>2021-07-04</td>\n",
              "      <td>TV (Non-English)</td>\n",
              "      <td>Elite</td>\n",
              "      <td>10200000</td>\n",
              "      <td>0.0000</td>\n",
              "      <td>0</td>\n",
              "      <td>1</td>\n",
              "      <td>76669</td>\n",
              "      <td>['Crime', 'Mystery', 'Drama']</td>\n",
              "      <td>['love triangle', 'jealousy', 'infidelity', 's...</td>\n",
              "    </tr>\n",
              "    <tr>\n",
              "      <th>7723</th>\n",
              "      <td>2021-07-04</td>\n",
              "      <td>TV (Non-English)</td>\n",
              "      <td>Elite</td>\n",
              "      <td>10140000</td>\n",
              "      <td>0.0000</td>\n",
              "      <td>0</td>\n",
              "      <td>1</td>\n",
              "      <td>76669</td>\n",
              "      <td>['Crime', 'Mystery', 'Drama']</td>\n",
              "      <td>['love triangle', 'jealousy', 'infidelity', 's...</td>\n",
              "    </tr>\n",
              "    <tr>\n",
              "      <th>7724</th>\n",
              "      <td>2021-07-04</td>\n",
              "      <td>TV (Non-English)</td>\n",
              "      <td>Katla</td>\n",
              "      <td>9190000</td>\n",
              "      <td>0.0000</td>\n",
              "      <td>0</td>\n",
              "      <td>1</td>\n",
              "      <td>104157</td>\n",
              "      <td>['Drama', 'Mystery', 'Sci-Fi &amp; Fantasy']</td>\n",
              "      <td>['small town', 'volcano', 'outbreak', 'volcani...</td>\n",
              "    </tr>\n",
              "    <tr>\n",
              "      <th>7725</th>\n",
              "      <td>2021-07-04</td>\n",
              "      <td>TV (Non-English)</td>\n",
              "      <td>Record of Ragnarok</td>\n",
              "      <td>9140000</td>\n",
              "      <td>0.0000</td>\n",
              "      <td>0</td>\n",
              "      <td>1</td>\n",
              "      <td>114868</td>\n",
              "      <td>['Action &amp; Adventure', 'Animation', 'Sci-Fi &amp; ...</td>\n",
              "      <td>['fight', 'mythology', 'god', 'survival', 'tou...</td>\n",
              "    </tr>\n",
              "  </tbody>\n",
              "</table>\n",
              "<p>7726 rows × 10 columns</p>\n",
              "</div>\n",
              "    <div class=\"colab-df-buttons\">\n",
              "\n",
              "  <div class=\"colab-df-container\">\n",
              "    <button class=\"colab-df-convert\" onclick=\"convertToInteractive('df-b61998d1-7e9d-4b33-af68-e853b901f4bb')\"\n",
              "            title=\"Convert this dataframe to an interactive table.\"\n",
              "            style=\"display:none;\">\n",
              "\n",
              "  <svg xmlns=\"http://www.w3.org/2000/svg\" height=\"24px\" viewBox=\"0 -960 960 960\">\n",
              "    <path d=\"M120-120v-720h720v720H120Zm60-500h600v-160H180v160Zm220 220h160v-160H400v160Zm0 220h160v-160H400v160ZM180-400h160v-160H180v160Zm440 0h160v-160H620v160ZM180-180h160v-160H180v160Zm440 0h160v-160H620v160Z\"/>\n",
              "  </svg>\n",
              "    </button>\n",
              "\n",
              "  <style>\n",
              "    .colab-df-container {\n",
              "      display:flex;\n",
              "      gap: 12px;\n",
              "    }\n",
              "\n",
              "    .colab-df-convert {\n",
              "      background-color: #E8F0FE;\n",
              "      border: none;\n",
              "      border-radius: 50%;\n",
              "      cursor: pointer;\n",
              "      display: none;\n",
              "      fill: #1967D2;\n",
              "      height: 32px;\n",
              "      padding: 0 0 0 0;\n",
              "      width: 32px;\n",
              "    }\n",
              "\n",
              "    .colab-df-convert:hover {\n",
              "      background-color: #E2EBFA;\n",
              "      box-shadow: 0px 1px 2px rgba(60, 64, 67, 0.3), 0px 1px 3px 1px rgba(60, 64, 67, 0.15);\n",
              "      fill: #174EA6;\n",
              "    }\n",
              "\n",
              "    .colab-df-buttons div {\n",
              "      margin-bottom: 4px;\n",
              "    }\n",
              "\n",
              "    [theme=dark] .colab-df-convert {\n",
              "      background-color: #3B4455;\n",
              "      fill: #D2E3FC;\n",
              "    }\n",
              "\n",
              "    [theme=dark] .colab-df-convert:hover {\n",
              "      background-color: #434B5C;\n",
              "      box-shadow: 0px 1px 3px 1px rgba(0, 0, 0, 0.15);\n",
              "      filter: drop-shadow(0px 1px 2px rgba(0, 0, 0, 0.3));\n",
              "      fill: #FFFFFF;\n",
              "    }\n",
              "  </style>\n",
              "\n",
              "    <script>\n",
              "      const buttonEl =\n",
              "        document.querySelector('#df-b61998d1-7e9d-4b33-af68-e853b901f4bb button.colab-df-convert');\n",
              "      buttonEl.style.display =\n",
              "        google.colab.kernel.accessAllowed ? 'block' : 'none';\n",
              "\n",
              "      async function convertToInteractive(key) {\n",
              "        const element = document.querySelector('#df-b61998d1-7e9d-4b33-af68-e853b901f4bb');\n",
              "        const dataTable =\n",
              "          await google.colab.kernel.invokeFunction('convertToInteractive',\n",
              "                                                    [key], {});\n",
              "        if (!dataTable) return;\n",
              "\n",
              "        const docLinkHtml = 'Like what you see? Visit the ' +\n",
              "          '<a target=\"_blank\" href=https://colab.research.google.com/notebooks/data_table.ipynb>data table notebook</a>'\n",
              "          + ' to learn more about interactive tables.';\n",
              "        element.innerHTML = '';\n",
              "        dataTable['output_type'] = 'display_data';\n",
              "        await google.colab.output.renderOutput(dataTable, element);\n",
              "        const docLink = document.createElement('div');\n",
              "        docLink.innerHTML = docLinkHtml;\n",
              "        element.appendChild(docLink);\n",
              "      }\n",
              "    </script>\n",
              "  </div>\n",
              "\n",
              "\n",
              "    <div id=\"df-b489c8ef-122f-4298-a2d9-31c44ce46c94\">\n",
              "      <button class=\"colab-df-quickchart\" onclick=\"quickchart('df-b489c8ef-122f-4298-a2d9-31c44ce46c94')\"\n",
              "                title=\"Suggest charts\"\n",
              "                style=\"display:none;\">\n",
              "\n",
              "<svg xmlns=\"http://www.w3.org/2000/svg\" height=\"24px\"viewBox=\"0 0 24 24\"\n",
              "     width=\"24px\">\n",
              "    <g>\n",
              "        <path d=\"M19 3H5c-1.1 0-2 .9-2 2v14c0 1.1.9 2 2 2h14c1.1 0 2-.9 2-2V5c0-1.1-.9-2-2-2zM9 17H7v-7h2v7zm4 0h-2V7h2v10zm4 0h-2v-4h2v4z\"/>\n",
              "    </g>\n",
              "</svg>\n",
              "      </button>\n",
              "\n",
              "<style>\n",
              "  .colab-df-quickchart {\n",
              "      --bg-color: #E8F0FE;\n",
              "      --fill-color: #1967D2;\n",
              "      --hover-bg-color: #E2EBFA;\n",
              "      --hover-fill-color: #174EA6;\n",
              "      --disabled-fill-color: #AAA;\n",
              "      --disabled-bg-color: #DDD;\n",
              "  }\n",
              "\n",
              "  [theme=dark] .colab-df-quickchart {\n",
              "      --bg-color: #3B4455;\n",
              "      --fill-color: #D2E3FC;\n",
              "      --hover-bg-color: #434B5C;\n",
              "      --hover-fill-color: #FFFFFF;\n",
              "      --disabled-bg-color: #3B4455;\n",
              "      --disabled-fill-color: #666;\n",
              "  }\n",
              "\n",
              "  .colab-df-quickchart {\n",
              "    background-color: var(--bg-color);\n",
              "    border: none;\n",
              "    border-radius: 50%;\n",
              "    cursor: pointer;\n",
              "    display: none;\n",
              "    fill: var(--fill-color);\n",
              "    height: 32px;\n",
              "    padding: 0;\n",
              "    width: 32px;\n",
              "  }\n",
              "\n",
              "  .colab-df-quickchart:hover {\n",
              "    background-color: var(--hover-bg-color);\n",
              "    box-shadow: 0 1px 2px rgba(60, 64, 67, 0.3), 0 1px 3px 1px rgba(60, 64, 67, 0.15);\n",
              "    fill: var(--button-hover-fill-color);\n",
              "  }\n",
              "\n",
              "  .colab-df-quickchart-complete:disabled,\n",
              "  .colab-df-quickchart-complete:disabled:hover {\n",
              "    background-color: var(--disabled-bg-color);\n",
              "    fill: var(--disabled-fill-color);\n",
              "    box-shadow: none;\n",
              "  }\n",
              "\n",
              "  .colab-df-spinner {\n",
              "    border: 2px solid var(--fill-color);\n",
              "    border-color: transparent;\n",
              "    border-bottom-color: var(--fill-color);\n",
              "    animation:\n",
              "      spin 1s steps(1) infinite;\n",
              "  }\n",
              "\n",
              "  @keyframes spin {\n",
              "    0% {\n",
              "      border-color: transparent;\n",
              "      border-bottom-color: var(--fill-color);\n",
              "      border-left-color: var(--fill-color);\n",
              "    }\n",
              "    20% {\n",
              "      border-color: transparent;\n",
              "      border-left-color: var(--fill-color);\n",
              "      border-top-color: var(--fill-color);\n",
              "    }\n",
              "    30% {\n",
              "      border-color: transparent;\n",
              "      border-left-color: var(--fill-color);\n",
              "      border-top-color: var(--fill-color);\n",
              "      border-right-color: var(--fill-color);\n",
              "    }\n",
              "    40% {\n",
              "      border-color: transparent;\n",
              "      border-right-color: var(--fill-color);\n",
              "      border-top-color: var(--fill-color);\n",
              "    }\n",
              "    60% {\n",
              "      border-color: transparent;\n",
              "      border-right-color: var(--fill-color);\n",
              "    }\n",
              "    80% {\n",
              "      border-color: transparent;\n",
              "      border-right-color: var(--fill-color);\n",
              "      border-bottom-color: var(--fill-color);\n",
              "    }\n",
              "    90% {\n",
              "      border-color: transparent;\n",
              "      border-bottom-color: var(--fill-color);\n",
              "    }\n",
              "  }\n",
              "</style>\n",
              "\n",
              "      <script>\n",
              "        async function quickchart(key) {\n",
              "          const quickchartButtonEl =\n",
              "            document.querySelector('#' + key + ' button');\n",
              "          quickchartButtonEl.disabled = true;  // To prevent multiple clicks.\n",
              "          quickchartButtonEl.classList.add('colab-df-spinner');\n",
              "          try {\n",
              "            const charts = await google.colab.kernel.invokeFunction(\n",
              "                'suggestCharts', [key], {});\n",
              "          } catch (error) {\n",
              "            console.error('Error during call to suggestCharts:', error);\n",
              "          }\n",
              "          quickchartButtonEl.classList.remove('colab-df-spinner');\n",
              "          quickchartButtonEl.classList.add('colab-df-quickchart-complete');\n",
              "        }\n",
              "        (() => {\n",
              "          let quickchartButtonEl =\n",
              "            document.querySelector('#df-b489c8ef-122f-4298-a2d9-31c44ce46c94 button');\n",
              "          quickchartButtonEl.style.display =\n",
              "            google.colab.kernel.accessAllowed ? 'block' : 'none';\n",
              "        })();\n",
              "      </script>\n",
              "    </div>\n",
              "\n",
              "  <div id=\"id_8f7c5e51-75a2-4d2c-9876-807135b8cfba\">\n",
              "    <style>\n",
              "      .colab-df-generate {\n",
              "        background-color: #E8F0FE;\n",
              "        border: none;\n",
              "        border-radius: 50%;\n",
              "        cursor: pointer;\n",
              "        display: none;\n",
              "        fill: #1967D2;\n",
              "        height: 32px;\n",
              "        padding: 0 0 0 0;\n",
              "        width: 32px;\n",
              "      }\n",
              "\n",
              "      .colab-df-generate:hover {\n",
              "        background-color: #E2EBFA;\n",
              "        box-shadow: 0px 1px 2px rgba(60, 64, 67, 0.3), 0px 1px 3px 1px rgba(60, 64, 67, 0.15);\n",
              "        fill: #174EA6;\n",
              "      }\n",
              "\n",
              "      [theme=dark] .colab-df-generate {\n",
              "        background-color: #3B4455;\n",
              "        fill: #D2E3FC;\n",
              "      }\n",
              "\n",
              "      [theme=dark] .colab-df-generate:hover {\n",
              "        background-color: #434B5C;\n",
              "        box-shadow: 0px 1px 3px 1px rgba(0, 0, 0, 0.15);\n",
              "        filter: drop-shadow(0px 1px 2px rgba(0, 0, 0, 0.3));\n",
              "        fill: #FFFFFF;\n",
              "      }\n",
              "    </style>\n",
              "    <button class=\"colab-df-generate\" onclick=\"generateWithVariable('df')\"\n",
              "            title=\"Generate code using this dataframe.\"\n",
              "            style=\"display:none;\">\n",
              "\n",
              "  <svg xmlns=\"http://www.w3.org/2000/svg\" height=\"24px\"viewBox=\"0 0 24 24\"\n",
              "       width=\"24px\">\n",
              "    <path d=\"M7,19H8.4L18.45,9,17,7.55,7,17.6ZM5,21V16.75L18.45,3.32a2,2,0,0,1,2.83,0l1.4,1.43a1.91,1.91,0,0,1,.58,1.4,1.91,1.91,0,0,1-.58,1.4L9.25,21ZM18.45,9,17,7.55Zm-12,3A5.31,5.31,0,0,0,4.9,8.1,5.31,5.31,0,0,0,1,6.5,5.31,5.31,0,0,0,4.9,4.9,5.31,5.31,0,0,0,6.5,1,5.31,5.31,0,0,0,8.1,4.9,5.31,5.31,0,0,0,12,6.5,5.46,5.46,0,0,0,6.5,12Z\"/>\n",
              "  </svg>\n",
              "    </button>\n",
              "    <script>\n",
              "      (() => {\n",
              "      const buttonEl =\n",
              "        document.querySelector('#id_8f7c5e51-75a2-4d2c-9876-807135b8cfba button.colab-df-generate');\n",
              "      buttonEl.style.display =\n",
              "        google.colab.kernel.accessAllowed ? 'block' : 'none';\n",
              "\n",
              "      buttonEl.onclick = () => {\n",
              "        google.colab.notebook.generateWithVariable('df');\n",
              "      }\n",
              "      })();\n",
              "    </script>\n",
              "  </div>\n",
              "\n",
              "    </div>\n",
              "  </div>\n"
            ],
            "application/vnd.google.colaboratory.intrinsic+json": {
              "type": "dataframe",
              "variable_name": "df",
              "summary": "{\n  \"name\": \"df\",\n  \"rows\": 7726,\n  \"fields\": [\n    {\n      \"column\": \"week\",\n      \"properties\": {\n        \"dtype\": \"object\",\n        \"num_unique_values\": 202,\n        \"samples\": [\n          \"2023-07-16\",\n          \"2025-01-26\",\n          \"2024-10-13\"\n        ],\n        \"semantic_type\": \"\",\n        \"description\": \"\"\n      }\n    },\n    {\n      \"column\": \"category\",\n      \"properties\": {\n        \"dtype\": \"category\",\n        \"num_unique_values\": 4,\n        \"samples\": [\n          \"Films (Non-English)\",\n          \"TV (Non-English)\",\n          \"Films (English)\"\n        ],\n        \"semantic_type\": \"\",\n        \"description\": \"\"\n      }\n    },\n    {\n      \"column\": \"show_title\",\n      \"properties\": {\n        \"dtype\": \"category\",\n        \"num_unique_values\": 2397,\n        \"samples\": [\n          \"Breaking the Silence: The Maria Soledad Case\",\n          \"Despicable Me\",\n          \"Rana Naidu\"\n        ],\n        \"semantic_type\": \"\",\n        \"description\": \"\"\n      }\n    },\n    {\n      \"column\": \"weekly_hours_viewed\",\n      \"properties\": {\n        \"dtype\": \"number\",\n        \"std\": 25920926,\n        \"min\": 700000,\n        \"max\": 571760000,\n        \"num_unique_values\": 2831,\n        \"samples\": [\n          9650000,\n          5780000,\n          51230000\n        ],\n        \"semantic_type\": \"\",\n        \"description\": \"\"\n      }\n    },\n    {\n      \"column\": \"runtime\",\n      \"properties\": {\n        \"dtype\": \"number\",\n        \"std\": 2.87351159484039,\n        \"min\": 0.0,\n        \"max\": 47.5833,\n        \"num_unique_values\": 469,\n        \"samples\": [\n          1.6,\n          1.6167,\n          6.0167\n        ],\n        \"semantic_type\": \"\",\n        \"description\": \"\"\n      }\n    },\n    {\n      \"column\": \"weekly_views\",\n      \"properties\": {\n        \"dtype\": \"number\",\n        \"std\": 4490104,\n        \"min\": 0,\n        \"max\": 68000000,\n        \"num_unique_values\": 265,\n        \"samples\": [\n          15500000,\n          11300000,\n          17000000\n        ],\n        \"semantic_type\": \"\",\n        \"description\": \"\"\n      }\n    },\n    {\n      \"column\": \"cumulative_weeks_in_top_10\",\n      \"properties\": {\n        \"dtype\": \"number\",\n        \"std\": 3,\n        \"min\": 1,\n        \"max\": 30,\n        \"num_unique_values\": 30,\n        \"samples\": [\n          23,\n          13,\n          27\n        ],\n        \"semantic_type\": \"\",\n        \"description\": \"\"\n      }\n    },\n    {\n      \"column\": \"id\",\n      \"properties\": {\n        \"dtype\": \"number\",\n        \"std\": 393981,\n        \"min\": 55,\n        \"max\": 1481983,\n        \"num_unique_values\": 2402,\n        \"samples\": [\n          783675,\n          38310,\n          216811\n        ],\n        \"semantic_type\": \"\",\n        \"description\": \"\"\n      }\n    },\n    {\n      \"column\": \"genres\",\n      \"properties\": {\n        \"dtype\": \"category\",\n        \"num_unique_values\": 707,\n        \"samples\": [\n          \"['Thriller', 'Action', 'Mystery']\",\n          \"['Comedy', 'Thriller', 'Drama']\",\n          \"['Animation', 'Drama', 'Mystery']\"\n        ],\n        \"semantic_type\": \"\",\n        \"description\": \"\"\n      }\n    },\n    {\n      \"column\": \"keywords\",\n      \"properties\": {\n        \"dtype\": \"category\",\n        \"num_unique_values\": 1919,\n        \"samples\": [\n          \"['countryside', 'romance', 'slice of life', 'loneliness', 'family relationships', 'healing', 'emancipation', 'real life', 'struggling life', 'slow burn romance', 'melodrama', 'understated']\",\n          \"['playful']\",\n          \"['bride', 'rural india', 'adventure']\"\n        ],\n        \"semantic_type\": \"\",\n        \"description\": \"\"\n      }\n    }\n  ]\n}"
            }
          },
          "metadata": {},
          "execution_count": 65
        }
      ]
    },
    {
      "cell_type": "code",
      "source": [],
      "metadata": {
        "id": "OwCRVXu9lOhM"
      },
      "execution_count": null,
      "outputs": []
    }
  ]
}