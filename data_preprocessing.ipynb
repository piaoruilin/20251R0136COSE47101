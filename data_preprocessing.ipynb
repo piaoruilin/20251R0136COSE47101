{
  "nbformat": 4,
  "nbformat_minor": 0,
  "metadata": {
    "colab": {
      "provenance": [],
      "authorship_tag": "ABX9TyOI4FZft7uA0vTVJP/+bjKP",
      "include_colab_link": true
    },
    "kernelspec": {
      "name": "python3",
      "display_name": "Python 3"
    },
    "language_info": {
      "name": "python"
    }
  },
  "cells": [
    {
      "cell_type": "markdown",
      "metadata": {
        "id": "view-in-github",
        "colab_type": "text"
      },
      "source": [
        "<a href=\"https://colab.research.google.com/github/piaoruilin/yunbardillo/blob/main/data_preprocessing.ipynb\" target=\"_parent\"><img src=\"https://colab.research.google.com/assets/colab-badge.svg\" alt=\"Open In Colab\"/></a>"
      ]
    },
    {
      "cell_type": "code",
      "source": [
        "!pip install python-dotenv"
      ],
      "metadata": {
        "colab": {
          "base_uri": "https://localhost:8080/"
        },
        "id": "GpSS_eoBeUB5",
        "outputId": "53dc7996-7b97-4bc4-a3dc-84d341521408"
      },
      "execution_count": 1,
      "outputs": [
        {
          "output_type": "stream",
          "name": "stdout",
          "text": [
            "Collecting python-dotenv\n",
            "  Downloading python_dotenv-1.1.0-py3-none-any.whl.metadata (24 kB)\n",
            "Downloading python_dotenv-1.1.0-py3-none-any.whl (20 kB)\n",
            "Installing collected packages: python-dotenv\n",
            "Successfully installed python-dotenv-1.1.0\n"
          ]
        }
      ]
    },
    {
      "cell_type": "markdown",
      "source": [
        "# 1. 데이터에서 원하는 열만 추출"
      ],
      "metadata": {
        "id": "Y4MApWVGdtkG"
      }
    },
    {
      "cell_type": "code",
      "execution_count": null,
      "metadata": {
        "colab": {
          "base_uri": "https://localhost:8080/"
        },
        "id": "2sTXU4WqiY6w",
        "outputId": "7fb79a11-2a33-4ce8-fa82-7cd607aba426"
      },
      "outputs": [
        {
          "output_type": "stream",
          "name": "stderr",
          "text": [
            "/usr/local/lib/python3.11/dist-packages/openpyxl/styles/stylesheet.py:237: UserWarning: Workbook contains no default style, apply openpyxl's default\n",
            "  warn(\"Workbook contains no default style, apply openpyxl's default\")\n"
          ]
        },
        {
          "output_type": "stream",
          "name": "stdout",
          "text": [
            "파일 '/content/2025-05-20_global_alltime.xlsx'에서 다음 열들을 성공적으로 추출했습니다:\n",
            "['week', 'category', 'show_title', 'weekly_hours_viewed', 'runtime', 'weekly_views', 'cumulative_weeks_in_top_10']\n",
            "\n",
            "추출된 DataFrame (df) 정보:\n",
            "<class 'pandas.core.frame.DataFrame'>\n",
            "RangeIndex: 8080 entries, 0 to 8079\n",
            "Data columns (total 7 columns):\n",
            " #   Column                      Non-Null Count  Dtype  \n",
            "---  ------                      --------------  -----  \n",
            " 0   week                        8080 non-null   object \n",
            " 1   category                    8080 non-null   object \n",
            " 2   show_title                  8080 non-null   object \n",
            " 3   weekly_hours_viewed         8080 non-null   int64  \n",
            " 4   runtime                     4000 non-null   float64\n",
            " 5   weekly_views                4000 non-null   float64\n",
            " 6   cumulative_weeks_in_top_10  8080 non-null   int64  \n",
            "dtypes: float64(2), int64(2), object(3)\n",
            "memory usage: 442.0+ KB\n",
            "\n",
            "DataFrame (df)의 처음 5행:\n",
            "         week         category                  show_title  \\\n",
            "0  2025-05-11  Films (English)                      Nonnas   \n",
            "1  2025-05-11  Films (English)     Inside Man: Most Wanted   \n",
            "2  2025-05-11  Films (English)  A Deadly American Marriage   \n",
            "3  2025-05-11  Films (English)                       Havoc   \n",
            "4  2025-05-11  Films (English)                    Twilight   \n",
            "\n",
            "   weekly_hours_viewed  runtime  weekly_views  cumulative_weeks_in_top_10  \n",
            "0             29000000   1.9000    15300000.0                           1  \n",
            "1             21800000   1.7667    12300000.0                           1  \n",
            "2             16900000   1.7167     9800000.0                           1  \n",
            "3             16300000   1.7833     9100000.0                           3  \n",
            "4              8700000   2.0333     4300000.0                           4  \n"
          ]
        }
      ],
      "source": [
        "import pandas as pd\n",
        "\n",
        "file_path = '/content/2025-05-20_global_alltime.xlsx' # tudum top-10 엑셀 파일 불러오기\n",
        "\n",
        "columns_to_extract = [\n",
        "    'week',\n",
        "    'category',\n",
        "    'show_title',\n",
        "    'weekly_hours_viewed',\n",
        "    'runtime',\n",
        "    'weekly_views',\n",
        "    'cumulative_weeks_in_top_10'\n",
        "]\n",
        "\n",
        "try:\n",
        "    df = pd.read_excel(file_path, usecols=columns_to_extract)\n",
        "\n",
        "    print(f\"파일 '{file_path}'에서 다음 열들을 성공적으로 추출했습니다:\")\n",
        "    print(columns_to_extract)\n",
        "\n",
        "    print(\"\\n추출된 DataFrame (df) 정보:\")\n",
        "    df.info()\n",
        "\n",
        "    print(\"\\nDataFrame (df)의 처음 5행:\")\n",
        "    print(df.head())\n",
        "\n",
        "except FileNotFoundError:\n",
        "    print(f\"오류: 파일 '{file_path}'을(를) 찾을 수 없습니다.\")\n",
        "    print(\"파일 경로가 올바른지, 파일 이름에 오타가 없는지 확인해주세요.\")\n",
        "    print(\"Google Drive를 사용하는 경우, Drive가 올바르게 마운트되었는지 확인해주세요.\")\n",
        "    print(\"Colab 왼쪽에 있는 '파일' 탭에서 파일 위치를 직접 확인할 수 있습니다.\")\n",
        "except ValueError as e:\n",
        "\n",
        "    print(f\"\\n오류 발생: {e}\")\n",
        "    print(\"엑셀 파일에 요청한 열들이 모두 존재하는지, 열 이름이 정확한지 확인해주세요.\")\n",
        "    print(f\"요청한 열: {columns_to_extract}\")\n",
        "\n",
        "except Exception as e:\n",
        "    print(f\"\\n엑셀 파일을 읽는 중 예상치 못한 오류가 발생했습니다: {e}\")"
      ]
    },
    {
      "cell_type": "markdown",
      "source": [
        "# 2. API를 통해 영화/프로그램 이름과 TMDB ID를 매칭"
      ],
      "metadata": {
        "id": "TN8aXB0Hd8qp"
      }
    },
    {
      "cell_type": "code",
      "source": [
        "import requests\n",
        "from tqdm import tqdm\n",
        "import os\n",
        "from dotenv import load_dotenv\n",
        "\n",
        "# .env 파일에서 api키 받아오기 (tmdb api 키 필요)\n",
        "load_dotenv()\n",
        "API_KEY = os.getenv('API_KEY')\n",
        "\n",
        "print(f\"API Key loaded: {API_KEY[:5]}...\" if API_KEY else \"No API key found\")\n",
        "\n",
        "df['id'] = pd.NA\n",
        "\n",
        "headers = {\n",
        "    \"accept\": \"application/json\",\n",
        "    \"Authorization\": f\"Bearer {API_KEY}\"\n",
        "}\n",
        "\n",
        "for index, row in tqdm(df.iterrows(), total=df.shape[0], desc=\"Fetching TMDB IDs\"):\n",
        "    title_from_df = str(row.show_title)\n",
        "    category = row.category\n",
        "    url = None\n",
        "    api_title_key = None\n",
        "\n",
        "    encoded_title = requests.utils.quote(title_from_df)\n",
        "\n",
        "    if category == \"Films (English)\" or category == \"Films (Non-English)\":\n",
        "        url = f\"https://api.themoviedb.org/3/search/movie?query={encoded_title}&include_adult=true&language=en-US&page=1\"\n",
        "        api_title_key = 'title'\n",
        "    elif category == \"TV (English)\" or category == \"TV (Non-English)\":\n",
        "        url = f\"https://api.themoviedb.org/3/search/tv?query={encoded_title}&include_adult=true&language=en-US&page=1\"\n",
        "        api_title_key = 'name'\n",
        "    else:\n",
        "        tqdm.write(f\"카테고리 오류. DF Title: '{title_from_df}', Category: {row.category}\")\n",
        "        continue\n",
        "\n",
        "    try:\n",
        "        response = requests.get(url, headers=headers, timeout=10)\n",
        "        response.raise_for_status()\n",
        "\n",
        "        response_data = response.json()\n",
        "        match_found_in_results = False\n",
        "\n",
        "        if response_data.get('results'):\n",
        "            for result_item in response_data['results']:\n",
        "                if api_title_key in result_item and 'id' in result_item:\n",
        "                    api_title = str(result_item[api_title_key])\n",
        "                    api_id = result_item['id']\n",
        "\n",
        "                    if title_from_df.lower() == api_title.lower():\n",
        "                        df.loc[index, 'id'] = api_id\n",
        "                        match_found_in_results = True\n",
        "                        break\n",
        "                else:\n",
        "                    tqdm.write(f\"  Malformed result for '{title_from_df}': Lacks '{api_title_key}' or 'id'. Item: {result_item}\")\n",
        "\n",
        "\n",
        "            if not match_found_in_results and response_data['results']:\n",
        "                first_api_title_candidate = str(response_data['results'][0].get(api_title_key, \"N/A\"))\n",
        "                tqdm.write(f\"  Title mismatch for '{title_from_df}'. Searched API, but no exact match. First API candidate: '{first_api_title_candidate}' (ID not added).\")\n",
        "            elif not response_data['results']:\n",
        "                 tqdm.write(f\"  No items in 'results' list from API for '{title_from_df}'\")\n",
        "\n",
        "\n",
        "        else:\n",
        "            tqdm.write(f\"  No 'results' key or empty results in API response for '{title_from_df}'\")\n",
        "\n",
        "        # time.sleep(0.1) # 100ms delay\n",
        "\n",
        "    except requests.exceptions.HTTPError as e:\n",
        "        tqdm.write(f\"  HTTP error for '{title_from_df}': {e.response.status_code} {e.response.reason}. URL: {url}\")\n",
        "    except requests.exceptions.RequestException as e:\n",
        "        tqdm.write(f\"  API request failed for '{title_from_df}': {e}. URL: {url}\")\n",
        "    except ValueError as e:\n",
        "        tqdm.write(f\"  Failed to decode JSON for '{title_from_df}': {e}. URL: {url}\")\n",
        "    except Exception as e:\n",
        "        tqdm.write(f\"  An unexpected error occurred for '{title_from_df}': {e}. URL: {url}\")\n",
        "\n",
        "\n",
        "print(\"\\nFinal DataFrame with 'id' column:\")\n",
        "print(df)\n",
        "print(\"\\nID column data type:\")\n",
        "print(df['id'].dtype)\n",
        "\n",
        "print(\"\\nValue counts for 'id' column (including NAs):\")\n",
        "print(df['id'].value_counts(dropna=False))"
      ],
      "metadata": {
        "colab": {
          "base_uri": "https://localhost:8080/"
        },
        "id": "1P_x7ptXk0Bi",
        "outputId": "6f4b3863-2e42-47d6-e133-e817b367a2dc"
      },
      "execution_count": null,
      "outputs": [
        {
          "output_type": "stream",
          "name": "stderr",
          "text": [
            "Fetching TMDB IDs:   0%|          | 20/8080 [00:03<20:21,  6.60it/s]"
          ]
        },
        {
          "output_type": "stream",
          "name": "stdout",
          "text": [
            "  Title mismatch for 'Jewel Thief - The Heist Begins'. Searched API, but no exact match. First API candidate: 'Jewel Thief: The Heist Begins' (ID not added).\n"
          ]
        },
        {
          "output_type": "stream",
          "name": "stderr",
          "text": [
            "Fetching TMDB IDs:   1%|          | 54/8080 [00:08<18:16,  7.32it/s]"
          ]
        },
        {
          "output_type": "stream",
          "name": "stdout",
          "text": [
            "  Title mismatch for 'Jewel Thief - The Heist Begins'. Searched API, but no exact match. First API candidate: 'Jewel Thief: The Heist Begins' (ID not added).\n"
          ]
        },
        {
          "output_type": "stream",
          "name": "stderr",
          "text": [
            "Fetching TMDB IDs:   1%|          | 94/8080 [00:14<19:12,  6.93it/s]"
          ]
        },
        {
          "output_type": "stream",
          "name": "stdout",
          "text": [
            "  Title mismatch for 'Jewel Thief - The Heist Begins'. Searched API, but no exact match. First API candidate: 'Jewel Thief: The Heist Begins' (ID not added).\n"
          ]
        },
        {
          "output_type": "stream",
          "name": "stderr",
          "text": [
            "Fetching TMDB IDs:   1%|          | 98/8080 [00:14<19:28,  6.83it/s]"
          ]
        },
        {
          "output_type": "stream",
          "name": "stdout",
          "text": [
            "  Title mismatch for 'Court: State vs A Nobody'. Searched API, but no exact match. First API candidate: 'Court: State vs. A Nobody' (ID not added).\n"
          ]
        },
        {
          "output_type": "stream",
          "name": "stderr",
          "text": [
            "Fetching TMDB IDs:   1%|          | 100/8080 [00:15<21:30,  6.18it/s]"
          ]
        },
        {
          "output_type": "stream",
          "name": "stdout",
          "text": [
            "  Title mismatch for 'Sin instrucciones'. Searched API, but no exact match. First API candidate: 'Babies Don't Come with Instructions' (ID not added).\n"
          ]
        },
        {
          "output_type": "stream",
          "name": "stderr",
          "text": [
            "Fetching TMDB IDs:   1%|▏         | 107/8080 [00:16<21:06,  6.30it/s]"
          ]
        },
        {
          "output_type": "stream",
          "name": "stdout",
          "text": [
            "  Title mismatch for 'Special Ops: Lioness'. Searched API, but no exact match. First API candidate: 'Lioness' (ID not added).\n"
          ]
        },
        {
          "output_type": "stream",
          "name": "stderr",
          "text": [
            "Fetching TMDB IDs:   2%|▏         | 137/8080 [00:20<18:49,  7.03it/s]"
          ]
        },
        {
          "output_type": "stream",
          "name": "stdout",
          "text": [
            "  Title mismatch for 'Court: State vs A Nobody'. Searched API, but no exact match. First API candidate: 'Court: State vs. A Nobody' (ID not added).\n"
          ]
        },
        {
          "output_type": "stream",
          "name": "stderr",
          "text": [
            "Fetching TMDB IDs:   2%|▏         | 147/8080 [00:22<21:49,  6.06it/s]"
          ]
        },
        {
          "output_type": "stream",
          "name": "stdout",
          "text": [
            "  Title mismatch for 'Special Ops: Lioness'. Searched API, but no exact match. First API candidate: 'Lioness' (ID not added).\n"
          ]
        },
        {
          "output_type": "stream",
          "name": "stderr",
          "text": [
            "Fetching TMDB IDs:   2%|▏         | 159/8080 [00:24<22:35,  5.84it/s]"
          ]
        },
        {
          "output_type": "stream",
          "name": "stdout",
          "text": [
            "  Title mismatch for 'Kian’s Bizarre B&B'. Searched API, but no exact match. First API candidate: 'Kian's Bizarre B&B' (ID not added).\n"
          ]
        },
        {
          "output_type": "stream",
          "name": "stderr",
          "text": [
            "Fetching TMDB IDs:   2%|▏         | 176/8080 [00:26<21:00,  6.27it/s]"
          ]
        },
        {
          "output_type": "stream",
          "name": "stdout",
          "text": [
            "  Title mismatch for 'Court: State vs A Nobody'. Searched API, but no exact match. First API candidate: 'Court: State vs. A Nobody' (ID not added).\n"
          ]
        },
        {
          "output_type": "stream",
          "name": "stderr",
          "text": [
            "Fetching TMDB IDs:   2%|▏         | 197/8080 [00:29<19:08,  6.87it/s]"
          ]
        },
        {
          "output_type": "stream",
          "name": "stdout",
          "text": [
            "  Title mismatch for 'Kian’s Bizarre B&B'. Searched API, but no exact match. First API candidate: 'Kian's Bizarre B&B' (ID not added).\n"
          ]
        },
        {
          "output_type": "stream",
          "name": "stderr",
          "text": [
            "Fetching TMDB IDs:   3%|▎         | 258/8080 [00:37<14:18,  9.11it/s]"
          ]
        },
        {
          "output_type": "stream",
          "name": "stdout",
          "text": [
            "  Title mismatch for 'Nosso Sonho'. Searched API, but no exact match. First API candidate: 'Our Dream' (ID not added).\n"
          ]
        },
        {
          "output_type": "stream",
          "name": "stderr",
          "text": [
            "Fetching TMDB IDs:   3%|▎         | 273/8080 [00:39<11:29, 11.31it/s]"
          ]
        },
        {
          "output_type": "stream",
          "name": "stdout",
          "text": [
            "  No 'results' key or empty results in API response for 'Chelsea Handler: The Feeling'\n"
          ]
        },
        {
          "output_type": "stream",
          "name": "stderr",
          "text": [
            "Fetching TMDB IDs:   4%|▍         | 312/8080 [00:42<10:05, 12.83it/s]"
          ]
        },
        {
          "output_type": "stream",
          "name": "stdout",
          "text": [
            "  No 'results' key or empty results in API response for 'Bert Kreischer: Lucky'\n"
          ]
        },
        {
          "output_type": "stream",
          "name": "stderr",
          "text": [
            "Fetching TMDB IDs:   5%|▍         | 389/8080 [00:49<11:36, 11.04it/s]"
          ]
        },
        {
          "output_type": "stream",
          "name": "stdout",
          "text": [
            "  No 'results' key or empty results in API response for 'Andrew Schulz: LIFE'\n"
          ]
        },
        {
          "output_type": "stream",
          "name": "stderr",
          "text": [
            "Fetching TMDB IDs:   5%|▌         | 428/8080 [00:53<11:52, 10.74it/s]"
          ]
        },
        {
          "output_type": "stream",
          "name": "stdout",
          "text": [
            "  No 'results' key or empty results in API response for 'The 31st Annual Screen Actors Guild Awards'\n"
          ]
        },
        {
          "output_type": "stream",
          "name": "stderr",
          "text": [
            "Fetching TMDB IDs:   6%|▌         | 490/8080 [00:59<16:11,  7.81it/s]"
          ]
        },
        {
          "output_type": "stream",
          "name": "stdout",
          "text": [
            "  Title mismatch for 'Mission: Impossible - Dead Reckoning'. Searched API, but no exact match. First API candidate: 'Mission: Impossible - Dead Reckoning Part One' (ID not added).\n"
          ]
        },
        {
          "output_type": "stream",
          "name": "stderr",
          "text": [
            "Fetching TMDB IDs:   7%|▋         | 528/8080 [01:05<22:14,  5.66it/s]"
          ]
        },
        {
          "output_type": "stream",
          "name": "stdout",
          "text": [
            "  No 'results' key or empty results in API response for 'Spider-Man: No Way Home (Extended Version)'\n"
          ]
        },
        {
          "output_type": "stream",
          "name": "stderr",
          "text": [
            "Fetching TMDB IDs:   7%|▋         | 534/8080 [01:06<21:19,  5.90it/s]"
          ]
        },
        {
          "output_type": "stream",
          "name": "stdout",
          "text": [
            "  No 'results' key or empty results in API response for 'Pushpa 2: The Rule (Reloaded Version)'\n"
          ]
        },
        {
          "output_type": "stream",
          "name": "stderr",
          "text": [
            "Fetching TMDB IDs:   7%|▋         | 573/8080 [01:13<21:07,  5.92it/s]"
          ]
        },
        {
          "output_type": "stream",
          "name": "stdout",
          "text": [
            "  No 'results' key or empty results in API response for 'Pushpa 2: The Rule (Reloaded Version)'\n"
          ]
        },
        {
          "output_type": "stream",
          "name": "stderr",
          "text": [
            "Fetching TMDB IDs:   7%|▋         | 577/8080 [01:13<21:54,  5.71it/s]"
          ]
        },
        {
          "output_type": "stream",
          "name": "stdout",
          "text": [
            "  No 'results' key or empty results in API response for 'Tout le bleu du ciel'\n",
            "  Title mismatch for 'Chantal im Märchenland'. Searched API, but no exact match. First API candidate: 'Chantal in Fairyland' (ID not added).\n"
          ]
        },
        {
          "output_type": "stream",
          "name": "stderr",
          "text": [
            "Fetching TMDB IDs:   7%|▋         | 591/8080 [01:16<21:02,  5.93it/s]"
          ]
        },
        {
          "output_type": "stream",
          "name": "stdout",
          "text": [
            "  Title mismatch for 'Royal Rumble'. Searched API, but no exact match. First API candidate: 'WWE Royal Rumble' (ID not added).\n"
          ]
        },
        {
          "output_type": "stream",
          "name": "stderr",
          "text": [
            "Fetching TMDB IDs:   7%|▋         | 597/8080 [01:17<21:02,  5.93it/s]"
          ]
        },
        {
          "output_type": "stream",
          "name": "stdout",
          "text": [
            "  Title mismatch for 'Single’s Inferno'. Searched API, but no exact match. First API candidate: 'Single's Inferno' (ID not added).\n"
          ]
        },
        {
          "output_type": "stream",
          "name": "stderr",
          "text": [
            "Fetching TMDB IDs:   8%|▊         | 607/8080 [01:18<20:59,  5.93it/s]"
          ]
        },
        {
          "output_type": "stream",
          "name": "stdout",
          "text": [
            "  Title mismatch for 'To All the Boys I’ve Loved Before'. Searched API, but no exact match. First API candidate: 'To All the Boys I've Loved Before' (ID not added).\n"
          ]
        },
        {
          "output_type": "stream",
          "name": "stderr",
          "text": [
            "Fetching TMDB IDs:   8%|▊         | 615/8080 [01:20<22:09,  5.62it/s]"
          ]
        },
        {
          "output_type": "stream",
          "name": "stdout",
          "text": [
            "  Title mismatch for 'Kingdom: Return of The Great General'. Searched API, but no exact match. First API candidate: 'Kingdom 4: Return of the Great General' (ID not added).\n"
          ]
        },
        {
          "output_type": "stream",
          "name": "stderr",
          "text": [
            "Fetching TMDB IDs:   8%|▊         | 636/8080 [01:23<18:19,  6.77it/s]"
          ]
        },
        {
          "output_type": "stream",
          "name": "stdout",
          "text": [
            "  Title mismatch for 'Single’s Inferno'. Searched API, but no exact match. First API candidate: 'Single's Inferno' (ID not added).\n"
          ]
        },
        {
          "output_type": "stream",
          "name": "stderr",
          "text": [
            "Fetching TMDB IDs:   8%|▊         | 656/8080 [01:26<20:00,  6.18it/s]"
          ]
        },
        {
          "output_type": "stream",
          "name": "stdout",
          "text": [
            "  Title mismatch for 'Kingdom: Return of The Great General'. Searched API, but no exact match. First API candidate: 'Kingdom 4: Return of the Great General' (ID not added).\n"
          ]
        },
        {
          "output_type": "stream",
          "name": "stderr",
          "text": [
            "Fetching TMDB IDs:   8%|▊         | 677/8080 [01:29<17:02,  7.24it/s]"
          ]
        },
        {
          "output_type": "stream",
          "name": "stdout",
          "text": [
            "  Title mismatch for 'Single’s Inferno'. Searched API, but no exact match. First API candidate: 'Single's Inferno' (ID not added).\n"
          ]
        },
        {
          "output_type": "stream",
          "name": "stderr",
          "text": [
            "Fetching TMDB IDs:   9%|▉         | 708/8080 [01:34<21:07,  5.82it/s]"
          ]
        },
        {
          "output_type": "stream",
          "name": "stdout",
          "text": [
            "  No 'results' key or empty results in API response for 'Gabriel Iglesias: Legend of Fluffy'\n"
          ]
        },
        {
          "output_type": "stream",
          "name": "stderr",
          "text": [
            "Fetching TMDB IDs:   9%|▉         | 725/8080 [01:37<20:59,  5.84it/s]"
          ]
        },
        {
          "output_type": "stream",
          "name": "stdout",
          "text": [
            "  Title mismatch for 'Dr. Seuss' The Grinch'. Searched API, but no exact match. First API candidate: 'Dr. Seuss' The Grinch Musical' (ID not added).\n"
          ]
        },
        {
          "output_type": "stream",
          "name": "stderr",
          "text": [
            "Fetching TMDB IDs:   9%|▉         | 727/8080 [01:37<23:03,  5.31it/s]"
          ]
        },
        {
          "output_type": "stream",
          "name": "stdout",
          "text": [
            "  Title mismatch for 'Horizon: An American Saga: Chapter 1'. Searched API, but no exact match. First API candidate: 'Horizon: An American Saga - Chapter 1' (ID not added).\n"
          ]
        },
        {
          "output_type": "stream",
          "name": "stderr",
          "text": [
            "Fetching TMDB IDs:   9%|▉         | 735/8080 [01:39<19:59,  6.12it/s]"
          ]
        },
        {
          "output_type": "stream",
          "name": "stdout",
          "text": [
            "  Title mismatch for 'Kang Mak from Pee Mak'. Searched API, but no exact match. First API candidate: 'Kang Mak (From Pee Mak)' (ID not added).\n"
          ]
        },
        {
          "output_type": "stream",
          "name": "stderr",
          "text": [
            "Fetching TMDB IDs:   9%|▉         | 746/8080 [01:41<23:10,  5.28it/s]"
          ]
        },
        {
          "output_type": "stream",
          "name": "stdout",
          "text": [
            "  No 'results' key or empty results in API response for 'Your Friend, Nate Bargatze'\n"
          ]
        },
        {
          "output_type": "stream",
          "name": "stderr",
          "text": [
            "Fetching TMDB IDs:   9%|▉         | 749/8080 [01:41<21:32,  5.67it/s]"
          ]
        },
        {
          "output_type": "stream",
          "name": "stdout",
          "text": [
            "  No 'results' key or empty results in API response for 'Torching 2024: A Roast of the Year'\n"
          ]
        },
        {
          "output_type": "stream",
          "name": "stderr",
          "text": [
            "Fetching TMDB IDs:   9%|▉         | 765/8080 [01:44<19:41,  6.19it/s]"
          ]
        },
        {
          "output_type": "stream",
          "name": "stdout",
          "text": [
            "  Title mismatch for 'Dr. Seuss' The Grinch'. Searched API, but no exact match. First API candidate: 'Dr. Seuss' The Grinch Musical' (ID not added).\n"
          ]
        },
        {
          "output_type": "stream",
          "name": "stderr",
          "text": [
            "Fetching TMDB IDs:  10%|▉         | 770/8080 [01:45<23:04,  5.28it/s]"
          ]
        },
        {
          "output_type": "stream",
          "name": "stdout",
          "text": [
            "  No 'results' key or empty results in API response for 'Beast (English)'\n"
          ]
        },
        {
          "output_type": "stream",
          "name": "stderr",
          "text": [
            "Fetching TMDB IDs:  10%|▉         | 782/8080 [01:47<21:53,  5.56it/s]"
          ]
        },
        {
          "output_type": "stream",
          "name": "stdout",
          "text": [
            "  No 'results' key or empty results in API response for 'Christmas Gameday: Ravens vs. Texans'\n",
            "  No 'results' key or empty results in API response for 'Christmas Gameday: Chiefs vs. Steelers'\n"
          ]
        },
        {
          "output_type": "stream",
          "name": "stderr",
          "text": [
            "Fetching TMDB IDs:  10%|▉         | 785/8080 [01:47<18:54,  6.43it/s]"
          ]
        },
        {
          "output_type": "stream",
          "name": "stdout",
          "text": [
            "  No 'results' key or empty results in API response for 'Your Friend, Nate Bargatze'\n"
          ]
        },
        {
          "output_type": "stream",
          "name": "stderr",
          "text": [
            "Fetching TMDB IDs:  10%|▉         | 787/8080 [01:47<19:38,  6.19it/s]"
          ]
        },
        {
          "output_type": "stream",
          "name": "stdout",
          "text": [
            "  No 'results' key or empty results in API response for 'Fireplace for Your Home: Crackling Birchwood Fireplace'\n"
          ]
        },
        {
          "output_type": "stream",
          "name": "stderr",
          "text": [
            "Fetching TMDB IDs:  10%|▉         | 790/8080 [01:48<19:00,  6.39it/s]"
          ]
        },
        {
          "output_type": "stream",
          "name": "stdout",
          "text": [
            "  No 'results' key or empty results in API response for 'Fireplace for Your Home: Classic Crackling Fireplace'\n"
          ]
        },
        {
          "output_type": "stream",
          "name": "stderr",
          "text": [
            "Fetching TMDB IDs:  10%|▉         | 804/8080 [01:50<17:26,  6.95it/s]"
          ]
        },
        {
          "output_type": "stream",
          "name": "stdout",
          "text": [
            "  Title mismatch for 'Dr. Seuss' The Grinch'. Searched API, but no exact match. First API candidate: 'Dr. Seuss' The Grinch Musical' (ID not added).\n"
          ]
        },
        {
          "output_type": "stream",
          "name": "stderr",
          "text": [
            "Fetching TMDB IDs:  10%|█         | 808/8080 [01:51<20:28,  5.92it/s]"
          ]
        },
        {
          "output_type": "stream",
          "name": "stdout",
          "text": [
            "  Title mismatch for 'The Protege'. Searched API, but no exact match. First API candidate: 'The Protégé' (ID not added).\n"
          ]
        },
        {
          "output_type": "stream",
          "name": "stderr",
          "text": [
            "Fetching TMDB IDs:  10%|█         | 810/8080 [01:51<21:33,  5.62it/s]"
          ]
        },
        {
          "output_type": "stream",
          "name": "stdout",
          "text": [
            "  Title mismatch for 'Cold Blood Legacy'. Searched API, but no exact match. First API candidate: 'Cold Blood' (ID not added).\n"
          ]
        },
        {
          "output_type": "stream",
          "name": "stderr",
          "text": [
            "Fetching TMDB IDs:  10%|█         | 826/8080 [01:53<19:23,  6.24it/s]"
          ]
        },
        {
          "output_type": "stream",
          "name": "stdout",
          "text": [
            "  No 'results' key or empty results in API response for 'Jamie Foxx: What Had Happened Was...'\n"
          ]
        },
        {
          "output_type": "stream",
          "name": "stderr",
          "text": [
            "Fetching TMDB IDs:  10%|█         | 829/8080 [01:54<20:57,  5.77it/s]"
          ]
        },
        {
          "output_type": "stream",
          "name": "stdout",
          "text": [
            "  No 'results' key or empty results in API response for 'Ronny Chieng: Love to Hate It'\n"
          ]
        },
        {
          "output_type": "stream",
          "name": "stderr",
          "text": [
            "Fetching TMDB IDs:  10%|█         | 844/8080 [01:56<18:17,  6.59it/s]"
          ]
        },
        {
          "output_type": "stream",
          "name": "stdout",
          "text": [
            "  Title mismatch for 'Mary Mother of Jesus'. Searched API, but no exact match. First API candidate: 'Mary, Mother of Jesus' (ID not added).\n",
            "  Title mismatch for 'Dr. Seuss' The Grinch'. Searched API, but no exact match. First API candidate: 'Dr. Seuss' The Grinch Musical' (ID not added).\n"
          ]
        },
        {
          "output_type": "stream",
          "name": "stderr",
          "text": [
            "Fetching TMDB IDs:  11%|█         | 863/8080 [01:59<19:50,  6.06it/s]"
          ]
        },
        {
          "output_type": "stream",
          "name": "stdout",
          "text": [
            "  No 'results' key or empty results in API response for 'Jamie Foxx: What Had Happened Was...'\n"
          ]
        },
        {
          "output_type": "stream",
          "name": "stderr",
          "text": [
            "Fetching TMDB IDs:  11%|█         | 868/8080 [02:00<18:47,  6.40it/s]"
          ]
        },
        {
          "output_type": "stream",
          "name": "stdout",
          "text": [
            "  No 'results' key or empty results in API response for 'A Nonsense Christmas with Sabrina Carpenter'\n"
          ]
        },
        {
          "output_type": "stream",
          "name": "stderr",
          "text": [
            "Fetching TMDB IDs:  11%|█         | 881/8080 [02:02<17:43,  6.77it/s]"
          ]
        },
        {
          "output_type": "stream",
          "name": "stdout",
          "text": [
            "  Title mismatch for 'Nevertheless : The Shapes of Love'. Searched API, but no exact match. First API candidate: 'Nevertheless: The Shapes of Love' (ID not added).\n"
          ]
        },
        {
          "output_type": "stream",
          "name": "stderr",
          "text": [
            "Fetching TMDB IDs:  11%|█         | 884/8080 [02:02<17:13,  6.96it/s]"
          ]
        },
        {
          "output_type": "stream",
          "name": "stdout",
          "text": [
            "  Title mismatch for 'Dr. Seuss' The Grinch'. Searched API, but no exact match. First API candidate: 'Dr. Seuss' The Grinch Musical' (ID not added).\n",
            "  Title mismatch for 'Mary Mother of Jesus'. Searched API, but no exact match. First API candidate: 'Mary, Mother of Jesus' (ID not added).\n"
          ]
        },
        {
          "output_type": "stream",
          "name": "stderr",
          "text": [
            "Fetching TMDB IDs:  11%|█         | 886/8080 [02:03<16:44,  7.16it/s]"
          ]
        },
        {
          "output_type": "stream",
          "name": "stdout",
          "text": [
            "  Title mismatch for 'Twas the Text Before Christmas'. Searched API, but no exact match. First API candidate: ''Twas the Text Before Christmas' (ID not added).\n"
          ]
        },
        {
          "output_type": "stream",
          "name": "stderr",
          "text": [
            "Fetching TMDB IDs:  11%|█         | 908/8080 [02:05<11:51, 10.08it/s]"
          ]
        },
        {
          "output_type": "stream",
          "name": "stdout",
          "text": [
            "  No 'results' key or empty results in API response for 'A Nonsense Christmas with Sabrina Carpenter'\n"
          ]
        },
        {
          "output_type": "stream",
          "name": "stderr",
          "text": [
            "Fetching TMDB IDs:  12%|█▏        | 932/8080 [02:08<13:09,  9.05it/s]"
          ]
        },
        {
          "output_type": "stream",
          "name": "stdout",
          "text": [
            "  Title mismatch for 'Buy Now: The Shopping Conspiracy'. Searched API, but no exact match. First API candidate: 'Buy Now! The Shopping Conspiracy' (ID not added).\n"
          ]
        },
        {
          "output_type": "stream",
          "name": "stderr",
          "text": [
            "Fetching TMDB IDs:  12%|█▏        | 937/8080 [02:09<14:49,  8.03it/s]"
          ]
        },
        {
          "output_type": "stream",
          "name": "stdout",
          "text": [
            "  Title mismatch for 'Devara'. Searched API, but no exact match. First API candidate: 'Devara: Part 1' (ID not added).\n"
          ]
        },
        {
          "output_type": "stream",
          "name": "stderr",
          "text": [
            "Fetching TMDB IDs:  12%|█▏        | 949/8080 [02:10<10:16, 11.57it/s]"
          ]
        },
        {
          "output_type": "stream",
          "name": "stdout",
          "text": [
            "  No 'results' key or empty results in API response for 'Anthony Jeselnik: Bones and All'\n"
          ]
        },
        {
          "output_type": "stream",
          "name": "stderr",
          "text": [
            "Fetching TMDB IDs:  12%|█▏        | 968/8080 [02:11<10:40, 11.11it/s]"
          ]
        },
        {
          "output_type": "stream",
          "name": "stdout",
          "text": [
            "  Title mismatch for 'Buy Now: The Shopping Conspiracy'. Searched API, but no exact match. First API candidate: 'Buy Now! The Shopping Conspiracy' (ID not added).\n"
          ]
        },
        {
          "output_type": "stream",
          "name": "stderr",
          "text": [
            "Fetching TMDB IDs:  12%|█▏        | 974/8080 [02:12<09:52, 12.00it/s]"
          ]
        },
        {
          "output_type": "stream",
          "name": "stdout",
          "text": [
            "  Title mismatch for 'Devara'. Searched API, but no exact match. First API candidate: 'Devara: Part 1' (ID not added).\n"
          ]
        },
        {
          "output_type": "stream",
          "name": "stderr",
          "text": [
            "Fetching TMDB IDs:  12%|█▏        | 989/8080 [02:13<13:06,  9.01it/s]"
          ]
        },
        {
          "output_type": "stream",
          "name": "stdout",
          "text": [
            "  Title mismatch for 'Jake Paul vs. Mike Tyson'. Searched API, but no exact match. First API candidate: 'Countdown: Paul vs. Tyson' (ID not added).\n"
          ]
        },
        {
          "output_type": "stream",
          "name": "stderr",
          "text": [
            "Fetching TMDB IDs:  13%|█▎        | 1017/8080 [02:16<11:04, 10.63it/s]"
          ]
        },
        {
          "output_type": "stream",
          "name": "stdout",
          "text": [
            "  Title mismatch for 'Devara'. Searched API, but no exact match. First API candidate: 'Devara: Part 1' (ID not added).\n"
          ]
        },
        {
          "output_type": "stream",
          "name": "stderr",
          "text": [
            "Fetching TMDB IDs:  13%|█▎        | 1024/8080 [02:17<09:28, 12.42it/s]"
          ]
        },
        {
          "output_type": "stream",
          "name": "stdout",
          "text": [
            "  Title mismatch for 'Jake Paul vs. Mike Tyson'. Searched API, but no exact match. First API candidate: 'Countdown: Paul vs. Tyson' (ID not added).\n"
          ]
        },
        {
          "output_type": "stream",
          "name": "stderr",
          "text": [
            "Fetching TMDB IDs:  13%|█▎        | 1057/8080 [02:19<08:32, 13.71it/s]"
          ]
        },
        {
          "output_type": "stream",
          "name": "stdout",
          "text": [
            "  Title mismatch for 'Devara'. Searched API, but no exact match. First API candidate: 'Devara: Part 1' (ID not added).\n"
          ]
        },
        {
          "output_type": "stream",
          "name": "stderr",
          "text": [
            "Fetching TMDB IDs:  13%|█▎        | 1074/8080 [02:21<08:44, 13.36it/s]"
          ]
        },
        {
          "output_type": "stream",
          "name": "stdout",
          "text": [
            "  Title mismatch for 'Don’t Come Home'. Searched API, but no exact match. First API candidate: 'Don't Come Home' (ID not added).\n"
          ]
        },
        {
          "output_type": "stream",
          "name": "stderr",
          "text": [
            "Fetching TMDB IDs:  14%|█▍        | 1112/8080 [02:25<10:22, 11.20it/s]"
          ]
        },
        {
          "output_type": "stream",
          "name": "stdout",
          "text": [
            "  Title mismatch for 'My Wife My Abuser: Captured On Camera'. Searched API, but no exact match. First API candidate: 'My Wife, My Abuser: Captured on Camera' (ID not added).\n",
            "  Title mismatch for 'Don’t Come Home'. Searched API, but no exact match. First API candidate: 'Don't Come Home' (ID not added).\n"
          ]
        },
        {
          "output_type": "stream",
          "name": "stderr",
          "text": [
            "Fetching TMDB IDs:  14%|█▍        | 1169/8080 [02:30<14:41,  7.84it/s]"
          ]
        },
        {
          "output_type": "stream",
          "name": "stdout",
          "text": [
            "  Title mismatch for 'Jurassic World: Dominion'. Searched API, but no exact match. First API candidate: 'Jurassic World Dominion' (ID not added).\n"
          ]
        },
        {
          "output_type": "stream",
          "name": "stderr",
          "text": [
            "Fetching TMDB IDs:  15%|█▌        | 1218/8080 [02:38<20:10,  5.67it/s]"
          ]
        },
        {
          "output_type": "stream",
          "name": "stdout",
          "text": [
            "  Title mismatch for 'GOAT - The Greatest of All Time'. Searched API, but no exact match. First API candidate: 'G.O.A.T ~Greatest Of All Time~' (ID not added).\n"
          ]
        },
        {
          "output_type": "stream",
          "name": "stderr",
          "text": [
            "Fetching TMDB IDs:  15%|█▌        | 1227/8080 [02:40<19:16,  5.93it/s]"
          ]
        },
        {
          "output_type": "stream",
          "name": "stdout",
          "text": [
            "  No 'results' key or empty results in API response for 'Ali Wong: Single Lady'\n"
          ]
        },
        {
          "output_type": "stream",
          "name": "stderr",
          "text": [
            "Fetching TMDB IDs:  16%|█▌        | 1255/8080 [02:44<18:08,  6.27it/s]"
          ]
        },
        {
          "output_type": "stream",
          "name": "stdout",
          "text": [
            "  Title mismatch for 'GOAT - The Greatest of All Time'. Searched API, but no exact match. First API candidate: 'G.O.A.T ~Greatest Of All Time~' (ID not added).\n"
          ]
        },
        {
          "output_type": "stream",
          "name": "stderr",
          "text": [
            "Fetching TMDB IDs:  16%|█▌        | 1310/8080 [02:53<17:39,  6.39it/s]"
          ]
        },
        {
          "output_type": "stream",
          "name": "stdout",
          "text": [
            "  No 'results' key or empty results in API response for 'Ellen DeGeneres: For Your Approval'\n"
          ]
        },
        {
          "output_type": "stream",
          "name": "stderr",
          "text": [
            "Fetching TMDB IDs:  16%|█▋        | 1325/8080 [02:56<19:29,  5.78it/s]"
          ]
        },
        {
          "output_type": "stream",
          "name": "stdout",
          "text": [
            "  No 'results' key or empty results in API response for 'Into the Fire: The Lost Daughter'\n"
          ]
        },
        {
          "output_type": "stream",
          "name": "stderr",
          "text": [
            "Fetching TMDB IDs:  17%|█▋        | 1364/8080 [03:01<14:58,  7.47it/s]"
          ]
        },
        {
          "output_type": "stream",
          "name": "stdout",
          "text": [
            "  No 'results' key or empty results in API response for 'Into the Fire: The Lost Daughter'\n"
          ]
        },
        {
          "output_type": "stream",
          "name": "stderr",
          "text": [
            "Fetching TMDB IDs:  17%|█▋        | 1381/8080 [03:04<16:09,  6.91it/s]"
          ]
        },
        {
          "output_type": "stream",
          "name": "stdout",
          "text": [
            "  Title mismatch for 'Mr. Bachchan'. Searched API, but no exact match. First API candidate: 'Mr Bachchan' (ID not added).\n"
          ]
        },
        {
          "output_type": "stream",
          "name": "stderr",
          "text": [
            "Fetching TMDB IDs:  17%|█▋        | 1412/8080 [03:07<13:52,  8.01it/s]"
          ]
        },
        {
          "output_type": "stream",
          "name": "stdout",
          "text": [
            "  Title mismatch for 'Sheriff: Narko Integriti'. Searched API, but no exact match. First API candidate: 'Sheriff' (ID not added).\n"
          ]
        },
        {
          "output_type": "stream",
          "name": "stderr",
          "text": [
            "Fetching TMDB IDs:  18%|█▊        | 1417/8080 [03:08<13:29,  8.23it/s]"
          ]
        },
        {
          "output_type": "stream",
          "name": "stdout",
          "text": [
            "  Title mismatch for 'Kalki 2898 AD (Hindi)'. Searched API, but no exact match. First API candidate: 'Kalki 2898-AD' (ID not added).\n",
            "  Title mismatch for '#LadyRancho'. Searched API, but no exact match. First API candidate: 'Lady Rancho' (ID not added).\n"
          ]
        },
        {
          "output_type": "stream",
          "name": "stderr",
          "text": [
            "Fetching TMDB IDs:  18%|█▊        | 1452/8080 [03:11<09:54, 11.15it/s]"
          ]
        },
        {
          "output_type": "stream",
          "name": "stdout",
          "text": [
            "  Title mismatch for 'Kalki 2898 AD (Hindi)'. Searched API, but no exact match. First API candidate: 'Kalki 2898-AD' (ID not added).\n"
          ]
        },
        {
          "output_type": "stream",
          "name": "stderr",
          "text": [
            "Fetching TMDB IDs:  18%|█▊        | 1458/8080 [03:11<09:17, 11.87it/s]"
          ]
        },
        {
          "output_type": "stream",
          "name": "stdout",
          "text": [
            "  Title mismatch for 'Sheriff: Narko Integriti'. Searched API, but no exact match. First API candidate: 'Sheriff' (ID not added).\n"
          ]
        },
        {
          "output_type": "stream",
          "name": "stderr",
          "text": [
            "Fetching TMDB IDs:  18%|█▊        | 1465/8080 [03:12<09:20, 11.81it/s]"
          ]
        },
        {
          "output_type": "stream",
          "name": "stdout",
          "text": [
            "  No 'results' key or empty results in API response for 'Adam Sandler: Love You'\n"
          ]
        },
        {
          "output_type": "stream",
          "name": "stderr",
          "text": [
            "Fetching TMDB IDs:  18%|█▊        | 1493/8080 [03:14<09:36, 11.42it/s]"
          ]
        },
        {
          "output_type": "stream",
          "name": "stdout",
          "text": [
            "  Title mismatch for 'Kalki 2898 AD (Hindi)'. Searched API, but no exact match. First API candidate: 'Kalki 2898-AD' (ID not added).\n"
          ]
        },
        {
          "output_type": "stream",
          "name": "stderr",
          "text": [
            "Fetching TMDB IDs:  19%|█▊        | 1499/8080 [03:15<10:47, 10.16it/s]"
          ]
        },
        {
          "output_type": "stream",
          "name": "stdout",
          "text": [
            "  Title mismatch for 'Indian 2'. Searched API, but no exact match. First API candidate: 'Indian 2: Zero Tolerance' (ID not added).\n",
            "  Title mismatch for 'Pretty Guardian Sailor Moon Cosmos The Movie'. Searched API, but no exact match. First API candidate: 'Pretty Guardian Sailor Moon Cosmos the Movie Part 1' (ID not added).\n"
          ]
        },
        {
          "output_type": "stream",
          "name": "stderr",
          "text": [
            "Fetching TMDB IDs:  19%|█▊        | 1513/8080 [03:16<07:55, 13.82it/s]"
          ]
        },
        {
          "output_type": "stream",
          "name": "stdout",
          "text": [
            "  No 'results' key or empty results in API response for 'Matt Rife: Lucid - A Crowd Work Special'\n"
          ]
        },
        {
          "output_type": "stream",
          "name": "stderr",
          "text": [
            "Fetching TMDB IDs:  19%|█▉        | 1537/8080 [03:18<09:20, 11.67it/s]"
          ]
        },
        {
          "output_type": "stream",
          "name": "stdout",
          "text": [
            "  Title mismatch for 'Indian 2'. Searched API, but no exact match. First API candidate: 'Indian 2: Zero Tolerance' (ID not added).\n"
          ]
        },
        {
          "output_type": "stream",
          "name": "stderr",
          "text": [
            "Fetching TMDB IDs:  19%|█▉        | 1541/8080 [03:19<09:58, 10.92it/s]"
          ]
        },
        {
          "output_type": "stream",
          "name": "stdout",
          "text": [
            "  Title mismatch for 'Dancing Village : The Curse Begins'. Searched API, but no exact match. First API candidate: 'Dancing Village: The Curse Begins' (ID not added).\n"
          ]
        },
        {
          "output_type": "stream",
          "name": "stderr",
          "text": [
            "Fetching TMDB IDs:  19%|█▉        | 1546/8080 [03:19<08:48, 12.37it/s]"
          ]
        },
        {
          "output_type": "stream",
          "name": "stdout",
          "text": [
            "  No 'results' key or empty results in API response for 'Matt Rife: Lucid - A Crowd Work Special'\n"
          ]
        },
        {
          "output_type": "stream",
          "name": "stderr",
          "text": [
            "Fetching TMDB IDs:  20%|█▉        | 1579/8080 [03:22<08:11, 13.22it/s]"
          ]
        },
        {
          "output_type": "stream",
          "name": "stdout",
          "text": [
            "  Title mismatch for 'Indian 2'. Searched API, but no exact match. First API candidate: 'Indian 2: Zero Tolerance' (ID not added).\n"
          ]
        },
        {
          "output_type": "stream",
          "name": "stderr",
          "text": [
            "Fetching TMDB IDs:  20%|█▉        | 1581/8080 [03:22<09:09, 11.83it/s]"
          ]
        },
        {
          "output_type": "stream",
          "name": "stdout",
          "text": [
            "  Title mismatch for 'Savi'. Searched API, but no exact match. First API candidate: 'Saving Bikini Bottom: The Sandy Cheeks Movie' (ID not added).\n"
          ]
        },
        {
          "output_type": "stream",
          "name": "stderr",
          "text": [
            "Fetching TMDB IDs:  20%|█▉        | 1586/8080 [03:22<08:39, 12.49it/s]"
          ]
        },
        {
          "output_type": "stream",
          "name": "stdout",
          "text": [
            "  No 'results' key or empty results in API response for 'Joe Rogan: Burn the Boats'\n"
          ]
        },
        {
          "output_type": "stream",
          "name": "stderr",
          "text": [
            "Fetching TMDB IDs:  20%|█▉        | 1613/8080 [03:25<09:36, 11.22it/s]"
          ]
        },
        {
          "output_type": "stream",
          "name": "stdout",
          "text": [
            "  Title mismatch for 'Savi'. Searched API, but no exact match. First API candidate: 'Saving Bikini Bottom: The Sandy Cheeks Movie' (ID not added).\n"
          ]
        },
        {
          "output_type": "stream",
          "name": "stderr",
          "text": [
            "Fetching TMDB IDs:  20%|██        | 1628/8080 [03:26<09:34, 11.24it/s]"
          ]
        },
        {
          "output_type": "stream",
          "name": "stdout",
          "text": [
            "  No 'results' key or empty results in API response for 'Joe Rogan: Burn the Boats'\n"
          ]
        },
        {
          "output_type": "stream",
          "name": "stderr",
          "text": [
            "Fetching TMDB IDs:  21%|██        | 1659/8080 [03:29<07:28, 14.31it/s]"
          ]
        },
        {
          "output_type": "stream",
          "name": "stdout",
          "text": [
            "  Title mismatch for 'Savi'. Searched API, but no exact match. First API candidate: 'Saving Bikini Bottom: The Sandy Cheeks Movie' (ID not added).\n"
          ]
        },
        {
          "output_type": "stream",
          "name": "stderr",
          "text": [
            "Fetching TMDB IDs:  22%|██▏       | 1747/8080 [03:37<10:33,  9.99it/s]"
          ]
        },
        {
          "output_type": "stream",
          "name": "stdout",
          "text": [
            "  No 'results' key or empty results in API response for 'Hannah Berner: We Ride at Dawn'\n"
          ]
        },
        {
          "output_type": "stream",
          "name": "stderr",
          "text": [
            "Fetching TMDB IDs:  22%|██▏       | 1758/8080 [03:38<10:30, 10.03it/s]"
          ]
        },
        {
          "output_type": "stream",
          "name": "stdout",
          "text": [
            "  Title mismatch for '【OSHI NO KO】'. Searched API, but no exact match. First API candidate: 'Oshi No Ko' (ID not added).\n"
          ]
        },
        {
          "output_type": "stream",
          "name": "stderr",
          "text": [
            "Fetching TMDB IDs:  22%|██▏       | 1767/8080 [03:39<10:12, 10.31it/s]"
          ]
        },
        {
          "output_type": "stream",
          "name": "stdout",
          "text": [
            "  Title mismatch for 'Miraculous World: Shanghai, The Legend of LadyDragon'. Searched API, but no exact match. First API candidate: 'Miraculous World: Shanghai - The Legend of Ladydragon' (ID not added).\n"
          ]
        },
        {
          "output_type": "stream",
          "name": "stderr",
          "text": [
            "Fetching TMDB IDs:  22%|██▏       | 1800/8080 [03:42<08:58, 11.67it/s]"
          ]
        },
        {
          "output_type": "stream",
          "name": "stdout",
          "text": [
            "  Title mismatch for 'The Turkish Passion'. Searched API, but no exact match. First API candidate: 'La Pasión Turca' (ID not added).\n"
          ]
        },
        {
          "output_type": "stream",
          "name": "stderr",
          "text": [
            "Fetching TMDB IDs:  23%|██▎       | 1846/8080 [03:46<08:44, 11.89it/s]"
          ]
        },
        {
          "output_type": "stream",
          "name": "stdout",
          "text": [
            "  Title mismatch for 'Mission: Impossible - Dead Reckoning'. Searched API, but no exact match. First API candidate: 'Mission: Impossible - Dead Reckoning Part One' (ID not added).\n"
          ]
        },
        {
          "output_type": "stream",
          "name": "stderr",
          "text": [
            "Fetching TMDB IDs:  23%|██▎       | 1855/8080 [03:47<09:41, 10.71it/s]"
          ]
        },
        {
          "output_type": "stream",
          "name": "stdout",
          "text": [
            "  Title mismatch for 'Cuando acecha la maldad'. Searched API, but no exact match. First API candidate: 'When Evil Lurks' (ID not added).\n"
          ]
        },
        {
          "output_type": "stream",
          "name": "stderr",
          "text": [
            "Fetching TMDB IDs:  23%|██▎       | 1883/8080 [03:49<09:10, 11.25it/s]"
          ]
        },
        {
          "output_type": "stream",
          "name": "stdout",
          "text": [
            "  Title mismatch for 'Mission: Impossible - Dead Reckoning'. Searched API, but no exact match. First API candidate: 'Mission: Impossible - Dead Reckoning Part One' (ID not added).\n"
          ]
        },
        {
          "output_type": "stream",
          "name": "stderr",
          "text": [
            "Fetching TMDB IDs:  24%|██▎       | 1899/8080 [03:51<10:05, 10.20it/s]"
          ]
        },
        {
          "output_type": "stream",
          "name": "stdout",
          "text": [
            "  Title mismatch for 'Cuando acecha la maldad'. Searched API, but no exact match. First API candidate: 'When Evil Lurks' (ID not added).\n"
          ]
        },
        {
          "output_type": "stream",
          "name": "stderr",
          "text": [
            "Fetching TMDB IDs:  24%|██▍       | 1952/8080 [03:55<06:16, 16.26it/s]"
          ]
        },
        {
          "output_type": "stream",
          "name": "stdout",
          "text": [
            "  No 'results' key or empty results in API response for 'Jo Koy: Live from Brooklyn'\n"
          ]
        },
        {
          "output_type": "stream",
          "name": "stderr",
          "text": [
            "Fetching TMDB IDs:  24%|██▍       | 1959/8080 [03:56<08:38, 11.81it/s]"
          ]
        },
        {
          "output_type": "stream",
          "name": "stdout",
          "text": [
            "  Title mismatch for 'Hell's Paradise: Jigokuraku'. Searched API, but no exact match. First API candidate: 'Hell's Paradise' (ID not added).\n"
          ]
        },
        {
          "output_type": "stream",
          "name": "stderr",
          "text": [
            "Fetching TMDB IDs:  25%|██▍       | 1981/8080 [03:58<09:12, 11.05it/s]"
          ]
        },
        {
          "output_type": "stream",
          "name": "stdout",
          "text": [
            "  Title mismatch for 'Laapataa Ladies'. Searched API, but no exact match. First API candidate: 'Lost Ladies' (ID not added).\n"
          ]
        },
        {
          "output_type": "stream",
          "name": "stderr",
          "text": [
            "Fetching TMDB IDs:  25%|██▍       | 1996/8080 [03:59<07:38, 13.27it/s]"
          ]
        },
        {
          "output_type": "stream",
          "name": "stdout",
          "text": [
            "  No 'results' key or empty results in API response for 'Franco Escamilla: Ladies' man'\n"
          ]
        },
        {
          "output_type": "stream",
          "name": "stderr",
          "text": [
            "Fetching TMDB IDs:  25%|██▍       | 2016/8080 [04:01<10:20,  9.77it/s]"
          ]
        },
        {
          "output_type": "stream",
          "name": "stdout",
          "text": [
            "  Title mismatch for 'Laapataa Ladies'. Searched API, but no exact match. First API candidate: 'Lost Ladies' (ID not added).\n"
          ]
        },
        {
          "output_type": "stream",
          "name": "stderr",
          "text": [
            "Fetching TMDB IDs:  25%|██▌       | 2020/8080 [04:01<11:48,  8.56it/s]"
          ]
        },
        {
          "output_type": "stream",
          "name": "stdout",
          "text": [
            "  Title mismatch for '4 Kings 2'. Searched API, but no exact match. First API candidate: '4 Kings II' (ID not added).\n"
          ]
        },
        {
          "output_type": "stream",
          "name": "stderr",
          "text": [
            "Fetching TMDB IDs:  25%|██▌       | 2035/8080 [04:03<12:36,  7.99it/s]"
          ]
        },
        {
          "output_type": "stream",
          "name": "stdout",
          "text": [
            "  No 'results' key or empty results in API response for 'Franco Escamilla: Ladies' man'\n"
          ]
        },
        {
          "output_type": "stream",
          "name": "stderr",
          "text": [
            "Fetching TMDB IDs:  25%|██▌       | 2038/8080 [04:03<12:40,  7.94it/s]"
          ]
        },
        {
          "output_type": "stream",
          "name": "stdout",
          "text": [
            "  Title mismatch for 'Heeramandi: The Diamond Bazaar'. Searched API, but no exact match. First API candidate: 'Heeramandi' (ID not added).\n"
          ]
        },
        {
          "output_type": "stream",
          "name": "stderr",
          "text": [
            "Fetching TMDB IDs:  25%|██▌       | 2056/8080 [04:05<11:50,  8.48it/s]"
          ]
        },
        {
          "output_type": "stream",
          "name": "stdout",
          "text": [
            "  Title mismatch for 'Laapataa Ladies'. Searched API, but no exact match. First API candidate: 'Lost Ladies' (ID not added).\n"
          ]
        },
        {
          "output_type": "stream",
          "name": "stderr",
          "text": [
            "Fetching TMDB IDs:  26%|██▌       | 2066/8080 [04:07<11:04,  9.05it/s]"
          ]
        },
        {
          "output_type": "stream",
          "name": "stdout",
          "text": [
            "  No 'results' key or empty results in API response for 'Kevin Hart: The Kennedy Center Mark Twain Prize for American Humor'\n"
          ]
        },
        {
          "output_type": "stream",
          "name": "stderr",
          "text": [
            "Fetching TMDB IDs:  26%|██▌       | 2067/8080 [04:07<11:32,  8.69it/s]"
          ]
        },
        {
          "output_type": "stream",
          "name": "stdout",
          "text": [
            "  No 'results' key or empty results in API response for 'The Roast of Tom Brady'\n"
          ]
        },
        {
          "output_type": "stream",
          "name": "stderr",
          "text": [
            "Fetching TMDB IDs:  26%|██▌       | 2076/8080 [04:08<11:12,  8.93it/s]"
          ]
        },
        {
          "output_type": "stream",
          "name": "stdout",
          "text": [
            "  Title mismatch for 'Heeramandi: The Diamond Bazaar'. Searched API, but no exact match. First API candidate: 'Heeramandi' (ID not added).\n"
          ]
        },
        {
          "output_type": "stream",
          "name": "stderr",
          "text": [
            "Fetching TMDB IDs:  26%|██▌       | 2081/8080 [04:08<11:45,  8.51it/s]"
          ]
        },
        {
          "output_type": "stream",
          "name": "stdout",
          "text": [
            "  Title mismatch for 'Dr.STONE'. Searched API, but no exact match. First API candidate: 'Dr. STONE' (ID not added).\n"
          ]
        },
        {
          "output_type": "stream",
          "name": "stderr",
          "text": [
            "Fetching TMDB IDs:  26%|██▌       | 2095/8080 [04:10<10:45,  9.27it/s]"
          ]
        },
        {
          "output_type": "stream",
          "name": "stdout",
          "text": [
            "  Title mismatch for 'Laapataa Ladies'. Searched API, but no exact match. First API candidate: 'Lost Ladies' (ID not added).\n"
          ]
        },
        {
          "output_type": "stream",
          "name": "stderr",
          "text": [
            "Fetching TMDB IDs:  26%|██▌       | 2103/8080 [04:11<10:41,  9.32it/s]"
          ]
        },
        {
          "output_type": "stream",
          "name": "stdout",
          "text": [
            "  No 'results' key or empty results in API response for 'The Roast of Tom Brady'\n"
          ]
        },
        {
          "output_type": "stream",
          "name": "stderr",
          "text": [
            "Fetching TMDB IDs:  26%|██▌       | 2104/8080 [04:11<11:24,  8.72it/s]"
          ]
        },
        {
          "output_type": "stream",
          "name": "stdout",
          "text": [
            "  No 'results' key or empty results in API response for 'Katt Williams: Woke Foke'\n"
          ]
        },
        {
          "output_type": "stream",
          "name": "stderr",
          "text": [
            "Fetching TMDB IDs:  26%|██▌       | 2114/8080 [04:12<09:51, 10.09it/s]"
          ]
        },
        {
          "output_type": "stream",
          "name": "stdout",
          "text": [
            "  Title mismatch for 'Heeramandi: The Diamond Bazaar'. Searched API, but no exact match. First API candidate: 'Heeramandi' (ID not added).\n"
          ]
        },
        {
          "output_type": "stream",
          "name": "stderr",
          "text": [
            "Fetching TMDB IDs:  26%|██▋       | 2124/8080 [04:13<12:18,  8.06it/s]"
          ]
        },
        {
          "output_type": "stream",
          "name": "stdout",
          "text": [
            "  Title mismatch for 'Rebel Moon — Part Two: The Scargiver'. Searched API, but no exact match. First API candidate: 'Rebel Moon - Part Two: The Scargiver' (ID not added).\n"
          ]
        },
        {
          "output_type": "stream",
          "name": "stderr",
          "text": [
            "Fetching TMDB IDs:  26%|██▋       | 2134/8080 [04:14<09:57,  9.96it/s]"
          ]
        },
        {
          "output_type": "stream",
          "name": "stdout",
          "text": [
            "  Title mismatch for 'Laapataa Ladies'. Searched API, but no exact match. First API candidate: 'Lost Ladies' (ID not added).\n"
          ]
        },
        {
          "output_type": "stream",
          "name": "stderr",
          "text": [
            "Fetching TMDB IDs:  26%|██▋       | 2137/8080 [04:15<11:16,  8.78it/s]"
          ]
        },
        {
          "output_type": "stream",
          "name": "stdout",
          "text": [
            "  Title mismatch for 'Jujutsu Kaisen 0: The Movie'. Searched API, but no exact match. First API candidate: 'Jujutsu Kaisen 0' (ID not added).\n"
          ]
        },
        {
          "output_type": "stream",
          "name": "stderr",
          "text": [
            "Fetching TMDB IDs:  27%|██▋       | 2142/8080 [04:15<10:25,  9.49it/s]"
          ]
        },
        {
          "output_type": "stream",
          "name": "stdout",
          "text": [
            "  Title mismatch for 'Tillu Square'. Searched API, but no exact match. First API candidate: '(Tillu)²' (ID not added).\n"
          ]
        },
        {
          "output_type": "stream",
          "name": "stderr",
          "text": [
            "Fetching TMDB IDs:  27%|██▋       | 2145/8080 [04:16<10:37,  9.31it/s]"
          ]
        },
        {
          "output_type": "stream",
          "name": "stdout",
          "text": [
            "  No 'results' key or empty results in API response for 'Katt Williams: Woke Foke'\n",
            "  No 'results' key or empty results in API response for 'The Roast of Tom Brady'\n"
          ]
        },
        {
          "output_type": "stream",
          "name": "stderr",
          "text": [
            "Fetching TMDB IDs:  27%|██▋       | 2152/8080 [04:16<10:00,  9.87it/s]"
          ]
        },
        {
          "output_type": "stream",
          "name": "stdout",
          "text": [
            "  Title mismatch for 'Heeramandi: The Diamond Bazaar'. Searched API, but no exact match. First API candidate: 'Heeramandi' (ID not added).\n"
          ]
        },
        {
          "output_type": "stream",
          "name": "stderr",
          "text": [
            "Fetching TMDB IDs:  27%|██▋       | 2162/8080 [04:18<11:05,  8.89it/s]"
          ]
        },
        {
          "output_type": "stream",
          "name": "stdout",
          "text": [
            "  Title mismatch for 'Rebel Moon — Part Two: The Scargiver'. Searched API, but no exact match. First API candidate: 'Rebel Moon - Part Two: The Scargiver' (ID not added).\n"
          ]
        },
        {
          "output_type": "stream",
          "name": "stderr",
          "text": [
            "Fetching TMDB IDs:  27%|██▋       | 2165/8080 [04:18<11:23,  8.65it/s]"
          ]
        },
        {
          "output_type": "stream",
          "name": "stdout",
          "text": [
            "  Title mismatch for 'Rebel Moon — Part One: A Child of Fire'. Searched API, but no exact match. First API candidate: 'Rebel Moon - Part One: A Child of Fire' (ID not added).\n"
          ]
        },
        {
          "output_type": "stream",
          "name": "stderr",
          "text": [
            "Fetching TMDB IDs:  27%|██▋       | 2176/8080 [04:19<10:05,  9.76it/s]"
          ]
        },
        {
          "output_type": "stream",
          "name": "stdout",
          "text": [
            "  Title mismatch for 'Laapataa Ladies'. Searched API, but no exact match. First API candidate: 'Lost Ladies' (ID not added).\n"
          ]
        },
        {
          "output_type": "stream",
          "name": "stderr",
          "text": [
            "Fetching TMDB IDs:  27%|██▋       | 2203/8080 [04:22<10:42,  9.14it/s]"
          ]
        },
        {
          "output_type": "stream",
          "name": "stdout",
          "text": [
            "  Title mismatch for 'Rebel Moon — Part Two: The Scargiver'. Searched API, but no exact match. First API candidate: 'Rebel Moon - Part Two: The Scargiver' (ID not added).\n"
          ]
        },
        {
          "output_type": "stream",
          "name": "stderr",
          "text": [
            "Fetching TMDB IDs:  27%|██▋       | 2206/8080 [04:22<11:00,  8.89it/s]"
          ]
        },
        {
          "output_type": "stream",
          "name": "stdout",
          "text": [
            "  Title mismatch for 'Rebel Moon — Part One: A Child of Fire'. Searched API, but no exact match. First API candidate: 'Rebel Moon - Part One: A Child of Fire' (ID not added).\n"
          ]
        },
        {
          "output_type": "stream",
          "name": "stderr",
          "text": [
            "Fetching TMDB IDs:  28%|██▊       | 2229/8080 [04:25<10:44,  9.07it/s]"
          ]
        },
        {
          "output_type": "stream",
          "name": "stdout",
          "text": [
            "  No 'results' key or empty results in API response for 'Jimmy Carr: Natural Born Killer'\n"
          ]
        },
        {
          "output_type": "stream",
          "name": "stderr",
          "text": [
            "Fetching TMDB IDs:  28%|██▊       | 2302/8080 [04:33<10:59,  8.76it/s]"
          ]
        },
        {
          "output_type": "stream",
          "name": "stdout",
          "text": [
            "  No 'results' key or empty results in API response for 'A Dangerous Practice'\n"
          ]
        },
        {
          "output_type": "stream",
          "name": "stderr",
          "text": [
            "Fetching TMDB IDs:  29%|██▉       | 2329/8080 [04:36<12:37,  7.59it/s]"
          ]
        },
        {
          "output_type": "stream",
          "name": "stdout",
          "text": [
            "  Title mismatch for 'Peter Rabbit 2'. Searched API, but no exact match. First API candidate: 'Peter Rabbit 2: The Runaway' (ID not added).\n"
          ]
        },
        {
          "output_type": "stream",
          "name": "stderr",
          "text": [
            "Fetching TMDB IDs:  29%|██▉       | 2337/8080 [04:37<10:58,  8.72it/s]"
          ]
        },
        {
          "output_type": "stream",
          "name": "stdout",
          "text": [
            "  Title mismatch for 'Cat & Dog'. Searched API, but no exact match. First API candidate: 'Dog and Cat' (ID not added).\n"
          ]
        },
        {
          "output_type": "stream",
          "name": "stderr",
          "text": [
            "Fetching TMDB IDs:  29%|██▉       | 2340/8080 [04:37<11:38,  8.22it/s]"
          ]
        },
        {
          "output_type": "stream",
          "name": "stdout",
          "text": [
            "  Title mismatch for 'El paseo 7'. Searched API, but no exact match. First API candidate: 'The Trip 7' (ID not added).\n"
          ]
        },
        {
          "output_type": "stream",
          "name": "stderr",
          "text": [
            "Fetching TMDB IDs:  29%|██▉       | 2350/8080 [04:38<12:03,  7.92it/s]"
          ]
        },
        {
          "output_type": "stream",
          "name": "stdout",
          "text": [
            "  No 'results' key or empty results in API response for 'Dave Attell: Hot Cross Buns'\n"
          ]
        },
        {
          "output_type": "stream",
          "name": "stderr",
          "text": [
            "Fetching TMDB IDs:  29%|██▉       | 2365/8080 [04:40<11:01,  8.64it/s]"
          ]
        },
        {
          "output_type": "stream",
          "name": "stdout",
          "text": [
            "  Title mismatch for 'Ford v. Ferrari'. Searched API, but no exact match. First API candidate: 'Ford v Ferrari' (ID not added).\n"
          ]
        },
        {
          "output_type": "stream",
          "name": "stderr",
          "text": [
            "Fetching TMDB IDs:  29%|██▉       | 2372/8080 [04:41<11:08,  8.54it/s]"
          ]
        },
        {
          "output_type": "stream",
          "name": "stdout",
          "text": [
            "  Title mismatch for 'Cat & Dog'. Searched API, but no exact match. First API candidate: 'Dog and Cat' (ID not added).\n"
          ]
        },
        {
          "output_type": "stream",
          "name": "stderr",
          "text": [
            "Fetching TMDB IDs:  30%|██▉       | 2389/8080 [04:43<11:29,  8.26it/s]"
          ]
        },
        {
          "output_type": "stream",
          "name": "stdout",
          "text": [
            "  Title mismatch for 'The Program: Cons, Cults and Kidnapping'. Searched API, but no exact match. First API candidate: 'The Program: Cons, Cults, and Kidnapping' (ID not added).\n"
          ]
        },
        {
          "output_type": "stream",
          "name": "stderr",
          "text": [
            "Fetching TMDB IDs:  30%|██▉       | 2409/8080 [04:45<11:29,  8.23it/s]"
          ]
        },
        {
          "output_type": "stream",
          "name": "stdout",
          "text": [
            "  Title mismatch for 'Ford v. Ferrari'. Searched API, but no exact match. First API candidate: 'Ford v Ferrari' (ID not added).\n"
          ]
        },
        {
          "output_type": "stream",
          "name": "stderr",
          "text": [
            "Fetching TMDB IDs:  30%|██▉       | 2413/8080 [04:45<10:13,  9.24it/s]"
          ]
        },
        {
          "output_type": "stream",
          "name": "stdout",
          "text": [
            "  Title mismatch for 'Cat & Dog'. Searched API, but no exact match. First API candidate: 'Dog and Cat' (ID not added).\n"
          ]
        },
        {
          "output_type": "stream",
          "name": "stderr",
          "text": [
            "Fetching TMDB IDs:  30%|██▉       | 2417/8080 [04:46<11:10,  8.44it/s]"
          ]
        },
        {
          "output_type": "stream",
          "name": "stdout",
          "text": [
            "  No 'results' key or empty results in API response for 'Merry Christmas (Hindi)'\n"
          ]
        },
        {
          "output_type": "stream",
          "name": "stderr",
          "text": [
            "Fetching TMDB IDs:  30%|██▉       | 2423/8080 [04:47<09:51,  9.57it/s]"
          ]
        },
        {
          "output_type": "stream",
          "name": "stdout",
          "text": [
            "  Title mismatch for 'The Program: Cons, Cults and Kidnapping'. Searched API, but no exact match. First API candidate: 'The Program: Cons, Cults, and Kidnapping' (ID not added).\n"
          ]
        },
        {
          "output_type": "stream",
          "name": "stderr",
          "text": [
            "Fetching TMDB IDs:  30%|███       | 2430/8080 [04:47<11:31,  8.18it/s]"
          ]
        },
        {
          "output_type": "stream",
          "name": "stdout",
          "text": [
            "  No 'results' key or empty results in API response for 'Steve Treviño: Simple Man'\n"
          ]
        },
        {
          "output_type": "stream",
          "name": "stderr",
          "text": [
            "Fetching TMDB IDs:  30%|███       | 2450/8080 [04:50<10:30,  8.92it/s]"
          ]
        },
        {
          "output_type": "stream",
          "name": "stdout",
          "text": [
            "  Title mismatch for 'Dr. Seuss' The Grinch'. Searched API, but no exact match. First API candidate: 'Dr. Seuss' The Grinch Musical' (ID not added).\n"
          ]
        },
        {
          "output_type": "stream",
          "name": "stderr",
          "text": [
            "Fetching TMDB IDs:  30%|███       | 2460/8080 [04:51<12:26,  7.53it/s]"
          ]
        },
        {
          "output_type": "stream",
          "name": "stdout",
          "text": [
            "  No 'results' key or empty results in API response for 'Merry Christmas (Hindi)'\n"
          ]
        },
        {
          "output_type": "stream",
          "name": "stderr",
          "text": [
            "Fetching TMDB IDs:  30%|███       | 2464/8080 [04:51<09:45,  9.59it/s]"
          ]
        },
        {
          "output_type": "stream",
          "name": "stdout",
          "text": [
            "  Title mismatch for 'The Program: Cons, Cults and Kidnapping'. Searched API, but no exact match. First API candidate: 'The Program: Cons, Cults, and Kidnapping' (ID not added).\n"
          ]
        },
        {
          "output_type": "stream",
          "name": "stderr",
          "text": [
            "Fetching TMDB IDs:  31%|███       | 2495/8080 [04:54<10:07,  9.20it/s]"
          ]
        },
        {
          "output_type": "stream",
          "name": "stdout",
          "text": [
            "  Title mismatch for 'Through My Window 2: Across the Sea'. Searched API, but no exact match. First API candidate: 'Through My Window: Across the Sea' (ID not added).\n"
          ]
        },
        {
          "output_type": "stream",
          "name": "stderr",
          "text": [
            "Fetching TMDB IDs:  31%|███       | 2496/8080 [04:55<10:55,  8.51it/s]"
          ]
        },
        {
          "output_type": "stream",
          "name": "stdout",
          "text": [
            "  Title mismatch for 'There Is a What-If'. Searched API, but no exact match. First API candidate: 'What?' (ID not added).\n"
          ]
        },
        {
          "output_type": "stream",
          "name": "stderr",
          "text": [
            "Fetching TMDB IDs:  31%|███       | 2500/8080 [04:55<11:08,  8.35it/s]"
          ]
        },
        {
          "output_type": "stream",
          "name": "stdout",
          "text": [
            "  Title mismatch for 'Como si fuera la primera vez'. Searched API, but no exact match. First API candidate: 'As If It Were the First Time' (ID not added).\n"
          ]
        },
        {
          "output_type": "stream",
          "name": "stderr",
          "text": [
            "Fetching TMDB IDs:  31%|███▏      | 2539/8080 [04:59<10:11,  9.06it/s]"
          ]
        },
        {
          "output_type": "stream",
          "name": "stdout",
          "text": [
            "  Title mismatch for 'Through My Window 2: Across the Sea'. Searched API, but no exact match. First API candidate: 'Through My Window: Across the Sea' (ID not added).\n"
          ]
        },
        {
          "output_type": "stream",
          "name": "stderr",
          "text": [
            "Fetching TMDB IDs:  32%|███▏      | 2549/8080 [05:01<10:14,  9.00it/s]"
          ]
        },
        {
          "output_type": "stream",
          "name": "stdout",
          "text": [
            "  No 'results' key or empty results in API response for 'Mike Epps: Ready to Sell Out'\n"
          ]
        },
        {
          "output_type": "stream",
          "name": "stderr",
          "text": [
            "Fetching TMDB IDs:  32%|███▏      | 2579/8080 [05:04<13:25,  6.83it/s]"
          ]
        },
        {
          "output_type": "stream",
          "name": "stdout",
          "text": [
            "  No 'results' key or empty results in API response for 'Guntur Kaaram (Hindi)'\n"
          ]
        },
        {
          "output_type": "stream",
          "name": "stderr",
          "text": [
            "Fetching TMDB IDs:  32%|███▏      | 2587/8080 [05:05<12:22,  7.39it/s]"
          ]
        },
        {
          "output_type": "stream",
          "name": "stdout",
          "text": [
            "  No 'results' key or empty results in API response for 'Taylor Tomlinson: Have It All'\n"
          ]
        },
        {
          "output_type": "stream",
          "name": "stderr",
          "text": [
            "Fetching TMDB IDs:  32%|███▏      | 2591/8080 [05:06<10:40,  8.57it/s]"
          ]
        },
        {
          "output_type": "stream",
          "name": "stdout",
          "text": [
            "  Title mismatch for 'House, M.D.'. Searched API, but no exact match. First API candidate: 'House' (ID not added).\n"
          ]
        },
        {
          "output_type": "stream",
          "name": "stderr",
          "text": [
            "Fetching TMDB IDs:  32%|███▏      | 2618/8080 [05:08<10:08,  8.98it/s]"
          ]
        },
        {
          "output_type": "stream",
          "name": "stdout",
          "text": [
            "  No 'results' key or empty results in API response for 'Twenty-Something, Divorced and Fabulous'\n"
          ]
        },
        {
          "output_type": "stream",
          "name": "stderr",
          "text": [
            "Fetching TMDB IDs:  32%|███▏      | 2623/8080 [05:09<07:53, 11.53it/s]"
          ]
        },
        {
          "output_type": "stream",
          "name": "stdout",
          "text": [
            "  No 'results' key or empty results in API response for 'Guntur Kaaram (Hindi)'\n"
          ]
        },
        {
          "output_type": "stream",
          "name": "stderr",
          "text": [
            "Fetching TMDB IDs:  33%|███▎      | 2627/8080 [05:09<07:59, 11.37it/s]"
          ]
        },
        {
          "output_type": "stream",
          "name": "stdout",
          "text": [
            "  Title mismatch for 'House, M.D.'. Searched API, but no exact match. First API candidate: 'House' (ID not added).\n"
          ]
        },
        {
          "output_type": "stream",
          "name": "stderr",
          "text": [
            "Fetching TMDB IDs:  33%|███▎      | 2657/8080 [05:12<08:41, 10.40it/s]"
          ]
        },
        {
          "output_type": "stream",
          "name": "stdout",
          "text": [
            "  No 'results' key or empty results in API response for 'Twenty-Something, Divorced and Fabulous'\n"
          ]
        },
        {
          "output_type": "stream",
          "name": "stderr",
          "text": [
            "Fetching TMDB IDs:  33%|███▎      | 2697/8080 [05:16<09:03,  9.90it/s]"
          ]
        },
        {
          "output_type": "stream",
          "name": "stdout",
          "text": [
            "  Title mismatch for 'Salaar'. Searched API, but no exact match. First API candidate: 'Salaar: Part 2 - Shouryaanga Parvam' (ID not added).\n"
          ]
        },
        {
          "output_type": "stream",
          "name": "stderr",
          "text": [
            "Fetching TMDB IDs:  33%|███▎      | 2704/8080 [05:16<06:53, 13.00it/s]"
          ]
        },
        {
          "output_type": "stream",
          "name": "stdout",
          "text": [
            "  No 'results' key or empty results in API response for 'Pirate Dad'\n"
          ]
        },
        {
          "output_type": "stream",
          "name": "stderr",
          "text": [
            "Fetching TMDB IDs:  34%|███▍      | 2733/8080 [05:18<06:47, 13.11it/s]"
          ]
        },
        {
          "output_type": "stream",
          "name": "stdout",
          "text": [
            "  Title mismatch for 'Salaar'. Searched API, but no exact match. First API candidate: 'Salaar: Part 2 - Shouryaanga Parvam' (ID not added).\n"
          ]
        },
        {
          "output_type": "stream",
          "name": "stderr",
          "text": [
            "Fetching TMDB IDs:  34%|███▍      | 2739/8080 [05:19<08:15, 10.79it/s]"
          ]
        },
        {
          "output_type": "stream",
          "name": "stdout",
          "text": [
            "  Title mismatch for 'Kingdom 3: The Flame of Destiny'. Searched API, but no exact match. First API candidate: 'Kingdom III: The Flame of Destiny' (ID not added).\n"
          ]
        },
        {
          "output_type": "stream",
          "name": "stderr",
          "text": [
            "Fetching TMDB IDs:  34%|███▍      | 2766/8080 [05:21<08:07, 10.91it/s]"
          ]
        },
        {
          "output_type": "stream",
          "name": "stdout",
          "text": [
            "  Title mismatch for 'Tyler Perry's The Single Moms Club'. Searched API, but no exact match. First API candidate: 'The Single Moms Club' (ID not added).\n"
          ]
        },
        {
          "output_type": "stream",
          "name": "stderr",
          "text": [
            "Fetching TMDB IDs:  34%|███▍      | 2768/8080 [05:22<08:09, 10.84it/s]"
          ]
        },
        {
          "output_type": "stream",
          "name": "stdout",
          "text": [
            "  Title mismatch for 'Rebel Moon — Part One: A Child of Fire'. Searched API, but no exact match. First API candidate: 'Rebel Moon - Part One: A Child of Fire' (ID not added).\n"
          ]
        },
        {
          "output_type": "stream",
          "name": "stderr",
          "text": [
            "Fetching TMDB IDs:  34%|███▍      | 2774/8080 [05:22<07:58, 11.09it/s]"
          ]
        },
        {
          "output_type": "stream",
          "name": "stdout",
          "text": [
            "  Title mismatch for 'Kingdom 3: The Flame of Destiny'. Searched API, but no exact match. First API candidate: 'Kingdom III: The Flame of Destiny' (ID not added).\n",
            "  No 'results' key or empty results in API response for 'Hi Papa (Hindi)'\n"
          ]
        },
        {
          "output_type": "stream",
          "name": "stderr",
          "text": [
            "Fetching TMDB IDs:  34%|███▍      | 2787/8080 [05:24<08:33, 10.30it/s]"
          ]
        },
        {
          "output_type": "stream",
          "name": "stdout",
          "text": [
            "  No 'results' key or empty results in API response for 'Dave Chappelle: The Dreamer'\n",
            "  No 'results' key or empty results in API response for 'Pete Davidson: Turbo Fonzarelli'\n"
          ]
        },
        {
          "output_type": "stream",
          "name": "stderr",
          "text": [
            "Fetching TMDB IDs:  35%|███▍      | 2798/8080 [05:25<07:56, 11.07it/s]"
          ]
        },
        {
          "output_type": "stream",
          "name": "stdout",
          "text": [
            "  Title mismatch for 'Single’s Inferno'. Searched API, but no exact match. First API candidate: 'Single's Inferno' (ID not added).\n"
          ]
        },
        {
          "output_type": "stream",
          "name": "stderr",
          "text": [
            "Fetching TMDB IDs:  35%|███▍      | 2802/8080 [05:25<07:17, 12.07it/s]"
          ]
        },
        {
          "output_type": "stream",
          "name": "stdout",
          "text": [
            "  Title mismatch for 'Rebel Moon — Part One: A Child of Fire'. Searched API, but no exact match. First API candidate: 'Rebel Moon - Part One: A Child of Fire' (ID not added).\n"
          ]
        },
        {
          "output_type": "stream",
          "name": "stderr",
          "text": [
            "Fetching TMDB IDs:  35%|███▍      | 2814/8080 [05:26<08:26, 10.40it/s]"
          ]
        },
        {
          "output_type": "stream",
          "name": "stdout",
          "text": [
            "  Title mismatch for 'Annapoorni'. Searched API, but no exact match. First API candidate: 'Gentlewoman' (ID not added).\n"
          ]
        },
        {
          "output_type": "stream",
          "name": "stderr",
          "text": [
            "Fetching TMDB IDs:  35%|███▍      | 2818/8080 [05:27<09:34,  9.16it/s]"
          ]
        },
        {
          "output_type": "stream",
          "name": "stdout",
          "text": [
            "  Title mismatch for 'Curry & Cyanide - The Jolly Joseph Case'. Searched API, but no exact match. First API candidate: 'Curry & Cyanide: The Jolly Joseph Case' (ID not added).\n"
          ]
        },
        {
          "output_type": "stream",
          "name": "stderr",
          "text": [
            "Fetching TMDB IDs:  35%|███▍      | 2824/8080 [05:27<07:46, 11.26it/s]"
          ]
        },
        {
          "output_type": "stream",
          "name": "stdout",
          "text": [
            "  No 'results' key or empty results in API response for 'Dave Chappelle: The Dreamer'\n"
          ]
        },
        {
          "output_type": "stream",
          "name": "stderr",
          "text": [
            "Fetching TMDB IDs:  35%|███▌      | 2828/8080 [05:28<09:35,  9.13it/s]"
          ]
        },
        {
          "output_type": "stream",
          "name": "stdout",
          "text": [
            "  No 'results' key or empty results in API response for 'Ricky Gervais: Armageddon'\n"
          ]
        },
        {
          "output_type": "stream",
          "name": "stderr",
          "text": [
            "Fetching TMDB IDs:  35%|███▌      | 2839/8080 [05:29<07:39, 11.40it/s]"
          ]
        },
        {
          "output_type": "stream",
          "name": "stdout",
          "text": [
            "  Title mismatch for 'Single’s Inferno'. Searched API, but no exact match. First API candidate: 'Single's Inferno' (ID not added).\n"
          ]
        },
        {
          "output_type": "stream",
          "name": "stderr",
          "text": [
            "Fetching TMDB IDs:  35%|███▌      | 2843/8080 [05:29<07:59, 10.93it/s]"
          ]
        },
        {
          "output_type": "stream",
          "name": "stdout",
          "text": [
            "  Title mismatch for 'Rebel Moon — Part One: A Child of Fire'. Searched API, but no exact match. First API candidate: 'Rebel Moon - Part One: A Child of Fire' (ID not added).\n"
          ]
        },
        {
          "output_type": "stream",
          "name": "stderr",
          "text": [
            "Fetching TMDB IDs:  35%|███▌      | 2853/8080 [05:30<07:41, 11.33it/s]"
          ]
        },
        {
          "output_type": "stream",
          "name": "stdout",
          "text": [
            "  Title mismatch for 'Curry & Cyanide - The Jolly Joseph Case'. Searched API, but no exact match. First API candidate: 'Curry & Cyanide: The Jolly Joseph Case' (ID not added).\n"
          ]
        },
        {
          "output_type": "stream",
          "name": "stderr",
          "text": [
            "Fetching TMDB IDs:  35%|███▌      | 2862/8080 [05:31<10:47,  8.06it/s]"
          ]
        },
        {
          "output_type": "stream",
          "name": "stdout",
          "text": [
            "  No 'results' key or empty results in API response for 'Ricky Gervais: Armageddon'\n"
          ]
        },
        {
          "output_type": "stream",
          "name": "stderr",
          "text": [
            "Fetching TMDB IDs:  35%|███▌      | 2866/8080 [05:31<10:42,  8.12it/s]"
          ]
        },
        {
          "output_type": "stream",
          "name": "stdout",
          "text": [
            "  No 'results' key or empty results in API response for 'Dave Chappelle: The Dreamer'\n",
            "  No 'results' key or empty results in API response for 'Fireplace for Your Home: Crackling Birchwood Fireplace'\n"
          ]
        },
        {
          "output_type": "stream",
          "name": "stderr",
          "text": [
            "Fetching TMDB IDs:  36%|███▌      | 2869/8080 [05:32<11:07,  7.81it/s]"
          ]
        },
        {
          "output_type": "stream",
          "name": "stdout",
          "text": [
            "  No 'results' key or empty results in API response for 'Trevor Noah: Where Was I'\n"
          ]
        },
        {
          "output_type": "stream",
          "name": "stderr",
          "text": [
            "Fetching TMDB IDs:  36%|███▌      | 2878/8080 [05:33<10:38,  8.15it/s]"
          ]
        },
        {
          "output_type": "stream",
          "name": "stdout",
          "text": [
            "  Title mismatch for 'Single’s Inferno'. Searched API, but no exact match. First API candidate: 'Single's Inferno' (ID not added).\n"
          ]
        },
        {
          "output_type": "stream",
          "name": "stderr",
          "text": [
            "Fetching TMDB IDs:  36%|███▌      | 2882/8080 [05:33<10:27,  8.29it/s]"
          ]
        },
        {
          "output_type": "stream",
          "name": "stdout",
          "text": [
            "  Title mismatch for 'Rebel Moon — Part One: A Child of Fire'. Searched API, but no exact match. First API candidate: 'Rebel Moon - Part One: A Child of Fire' (ID not added).\n"
          ]
        },
        {
          "output_type": "stream",
          "name": "stderr",
          "text": [
            "Fetching TMDB IDs:  36%|███▌      | 2889/8080 [05:34<09:58,  8.67it/s]"
          ]
        },
        {
          "output_type": "stream",
          "name": "stdout",
          "text": [
            "  Title mismatch for 'Dr. Seuss' The Grinch'. Searched API, but no exact match. First API candidate: 'Dr. Seuss' The Grinch Musical' (ID not added).\n"
          ]
        },
        {
          "output_type": "stream",
          "name": "stderr",
          "text": [
            "Fetching TMDB IDs:  36%|███▌      | 2895/8080 [05:35<10:34,  8.17it/s]"
          ]
        },
        {
          "output_type": "stream",
          "name": "stdout",
          "text": [
            "  Title mismatch for 'Curry & Cyanide - The Jolly Joseph Case'. Searched API, but no exact match. First API candidate: 'Curry & Cyanide: The Jolly Joseph Case' (ID not added).\n"
          ]
        },
        {
          "output_type": "stream",
          "name": "stderr",
          "text": [
            "Fetching TMDB IDs:  36%|███▌      | 2904/8080 [05:36<09:52,  8.74it/s]"
          ]
        },
        {
          "output_type": "stream",
          "name": "stdout",
          "text": [
            "  No 'results' key or empty results in API response for 'Trevor Noah: Where Was I'\n"
          ]
        },
        {
          "output_type": "stream",
          "name": "stderr",
          "text": [
            "Fetching TMDB IDs:  36%|███▌      | 2909/8080 [05:37<08:43,  9.87it/s]"
          ]
        },
        {
          "output_type": "stream",
          "name": "stdout",
          "text": [
            "  No 'results' key or empty results in API response for 'Fireplace for Your Home: Crackling Birchwood Fireplace'\n"
          ]
        },
        {
          "output_type": "stream",
          "name": "stderr",
          "text": [
            "Fetching TMDB IDs:  36%|███▌      | 2914/8080 [05:37<08:21, 10.31it/s]"
          ]
        },
        {
          "output_type": "stream",
          "name": "stdout",
          "text": [
            "  Title mismatch for 'Single’s Inferno'. Searched API, but no exact match. First API candidate: 'Single's Inferno' (ID not added).\n"
          ]
        },
        {
          "output_type": "stream",
          "name": "stderr",
          "text": [
            "Fetching TMDB IDs:  36%|███▌      | 2921/8080 [05:38<09:56,  8.65it/s]"
          ]
        },
        {
          "output_type": "stream",
          "name": "stdout",
          "text": [
            "  No 'results' key or empty results in API response for 'Love is Blind Brazil: After the Altar'\n"
          ]
        },
        {
          "output_type": "stream",
          "name": "stderr",
          "text": [
            "Fetching TMDB IDs:  36%|███▋      | 2930/8080 [05:39<09:20,  9.18it/s]"
          ]
        },
        {
          "output_type": "stream",
          "name": "stdout",
          "text": [
            "  Title mismatch for 'Dr. Seuss' The Grinch'. Searched API, but no exact match. First API candidate: 'Dr. Seuss' The Grinch Musical' (ID not added).\n"
          ]
        },
        {
          "output_type": "stream",
          "name": "stderr",
          "text": [
            "Fetching TMDB IDs:  36%|███▋      | 2937/8080 [05:40<11:03,  7.75it/s]"
          ]
        },
        {
          "output_type": "stream",
          "name": "stdout",
          "text": [
            "  Title mismatch for 'NAGA'. Searched API, but no exact match. First API candidate: 'Nagasaki 1945 ~ The Angelus Bells' (ID not added).\n"
          ]
        },
        {
          "output_type": "stream",
          "name": "stderr",
          "text": [
            "Fetching TMDB IDs:  37%|███▋      | 2956/8080 [05:42<08:14, 10.36it/s]"
          ]
        },
        {
          "output_type": "stream",
          "name": "stdout",
          "text": [
            "  Title mismatch for 'Single’s Inferno'. Searched API, but no exact match. First API candidate: 'Single's Inferno' (ID not added).\n"
          ]
        },
        {
          "output_type": "stream",
          "name": "stderr",
          "text": [
            "Fetching TMDB IDs:  37%|███▋      | 2973/8080 [05:44<09:47,  8.69it/s]"
          ]
        },
        {
          "output_type": "stream",
          "name": "stdout",
          "text": [
            "  Title mismatch for 'Mission Raniganj: The Great Bharat Rescue'. Searched API, but no exact match. First API candidate: 'Mission Raniganj' (ID not added).\n"
          ]
        },
        {
          "output_type": "stream",
          "name": "stderr",
          "text": [
            "Fetching TMDB IDs:  37%|███▋      | 3009/8080 [05:48<08:59,  9.41it/s]"
          ]
        },
        {
          "output_type": "stream",
          "name": "stdout",
          "text": [
            "  Title mismatch for 'Dr. Seuss' The Grinch'. Searched API, but no exact match. First API candidate: 'Dr. Seuss' The Grinch Musical' (ID not added).\n"
          ]
        },
        {
          "output_type": "stream",
          "name": "stderr",
          "text": [
            "Fetching TMDB IDs:  37%|███▋      | 3014/8080 [05:48<10:28,  8.06it/s]"
          ]
        },
        {
          "output_type": "stream",
          "name": "stdout",
          "text": [
            "  No 'results' key or empty results in API response for 'Leo (Hindi)'\n"
          ]
        },
        {
          "output_type": "stream",
          "name": "stderr",
          "text": [
            "Fetching TMDB IDs:  37%|███▋      | 3016/8080 [05:48<11:00,  7.67it/s]"
          ]
        },
        {
          "output_type": "stream",
          "name": "stdout",
          "text": [
            "  Title mismatch for 'Mission Raniganj: The Great Bharat Rescue'. Searched API, but no exact match. First API candidate: 'Mission Raniganj' (ID not added).\n"
          ]
        },
        {
          "output_type": "stream",
          "name": "stderr",
          "text": [
            "Fetching TMDB IDs:  38%|███▊      | 3049/8080 [05:52<09:27,  8.86it/s]"
          ]
        },
        {
          "output_type": "stream",
          "name": "stdout",
          "text": [
            "  Title mismatch for 'Dr. Seuss' The Grinch'. Searched API, but no exact match. First API candidate: 'Dr. Seuss' The Grinch Musical' (ID not added).\n"
          ]
        },
        {
          "output_type": "stream",
          "name": "stderr",
          "text": [
            "Fetching TMDB IDs:  38%|███▊      | 3059/8080 [05:53<10:01,  8.34it/s]"
          ]
        },
        {
          "output_type": "stream",
          "name": "stdout",
          "text": [
            "  Title mismatch for 'Jawan: Extended Cut'. Searched API, but no exact match. First API candidate: 'Jawan' (ID not added).\n"
          ]
        },
        {
          "output_type": "stream",
          "name": "stderr",
          "text": [
            "Fetching TMDB IDs:  38%|███▊      | 3065/8080 [05:54<09:19,  8.97it/s]"
          ]
        },
        {
          "output_type": "stream",
          "name": "stdout",
          "text": [
            "  No 'results' key or empty results in API response for 'Matt Rife: Natural Selection'\n"
          ]
        },
        {
          "output_type": "stream",
          "name": "stderr",
          "text": [
            "Fetching TMDB IDs:  38%|███▊      | 3072/8080 [05:54<08:43,  9.57it/s]"
          ]
        },
        {
          "output_type": "stream",
          "name": "stdout",
          "text": [
            "  No 'results' key or empty results in API response for 'Mike Birbiglia: The Old Man and The Pool'\n"
          ]
        },
        {
          "output_type": "stream",
          "name": "stderr",
          "text": [
            "Fetching TMDB IDs:  38%|███▊      | 3086/8080 [05:56<09:21,  8.89it/s]"
          ]
        },
        {
          "output_type": "stream",
          "name": "stdout",
          "text": [
            "  Title mismatch for 'F9: The Fast Saga'. Searched API, but no exact match. First API candidate: 'F9' (ID not added).\n"
          ]
        },
        {
          "output_type": "stream",
          "name": "stderr",
          "text": [
            "Fetching TMDB IDs:  38%|███▊      | 3096/8080 [05:57<09:27,  8.78it/s]"
          ]
        },
        {
          "output_type": "stream",
          "name": "stdout",
          "text": [
            "  Title mismatch for 'Jawan: Extended Cut'. Searched API, but no exact match. First API candidate: 'Jawan' (ID not added).\n"
          ]
        },
        {
          "output_type": "stream",
          "name": "stderr",
          "text": [
            "Fetching TMDB IDs:  38%|███▊      | 3102/8080 [05:58<10:46,  7.70it/s]"
          ]
        },
        {
          "output_type": "stream",
          "name": "stdout",
          "text": [
            "  No 'results' key or empty results in API response for 'Matt Rife: Natural Selection'\n"
          ]
        },
        {
          "output_type": "stream",
          "name": "stderr",
          "text": [
            "Fetching TMDB IDs:  39%|███▊      | 3124/8080 [06:00<09:29,  8.70it/s]"
          ]
        },
        {
          "output_type": "stream",
          "name": "stdout",
          "text": [
            "  Title mismatch for 'F9: The Fast Saga'. Searched API, but no exact match. First API candidate: 'F9' (ID not added).\n"
          ]
        },
        {
          "output_type": "stream",
          "name": "stderr",
          "text": [
            "Fetching TMDB IDs:  39%|███▉      | 3134/8080 [06:02<08:43,  9.45it/s]"
          ]
        },
        {
          "output_type": "stream",
          "name": "stdout",
          "text": [
            "  Title mismatch for 'Jawan: Extended Cut'. Searched API, but no exact match. First API candidate: 'Jawan' (ID not added).\n"
          ]
        },
        {
          "output_type": "stream",
          "name": "stderr",
          "text": [
            "Fetching TMDB IDs:  39%|███▉      | 3176/8080 [06:06<07:37, 10.71it/s]"
          ]
        },
        {
          "output_type": "stream",
          "name": "stdout",
          "text": [
            "  Title mismatch for 'Jawan: Extended Cut'. Searched API, but no exact match. First API candidate: 'Jawan' (ID not added).\n"
          ]
        },
        {
          "output_type": "stream",
          "name": "stderr",
          "text": [
            "Fetching TMDB IDs:  40%|████      | 3240/8080 [06:13<09:17,  8.68it/s]"
          ]
        },
        {
          "output_type": "stream",
          "name": "stdout",
          "text": [
            "  No 'results' key or empty results in API response for 'Learning and fun with Jose Comelon'\n"
          ]
        },
        {
          "output_type": "stream",
          "name": "stderr",
          "text": [
            "Fetching TMDB IDs:  41%|████      | 3312/8080 [06:21<08:15,  9.63it/s]"
          ]
        },
        {
          "output_type": "stream",
          "name": "stdout",
          "text": [
            "  Title mismatch for 'The Great British Baking Show'. Searched API, but no exact match. First API candidate: 'The Great British Baking Show Holidays' (ID not added).\n"
          ]
        },
        {
          "output_type": "stream",
          "name": "stderr",
          "text": [
            "Fetching TMDB IDs:  41%|████▏     | 3352/8080 [06:25<08:14,  9.55it/s]"
          ]
        },
        {
          "output_type": "stream",
          "name": "stdout",
          "text": [
            "  Title mismatch for 'The Great British Baking Show'. Searched API, but no exact match. First API candidate: 'The Great British Baking Show Holidays' (ID not added).\n"
          ]
        },
        {
          "output_type": "stream",
          "name": "stderr",
          "text": [
            "Fetching TMDB IDs:  42%|████▏     | 3419/8080 [06:33<13:50,  5.61it/s]"
          ]
        },
        {
          "output_type": "stream",
          "name": "stdout",
          "text": [
            "  No 'results' key or empty results in API response for 'Bhola Shankar (Hindi)'\n"
          ]
        },
        {
          "output_type": "stream",
          "name": "stderr",
          "text": [
            "Fetching TMDB IDs:  42%|████▏     | 3426/8080 [06:34<11:21,  6.83it/s]"
          ]
        },
        {
          "output_type": "stream",
          "name": "stdout",
          "text": [
            "  Title mismatch for 'Inside the World’s Toughest Prisons'. Searched API, but no exact match. First API candidate: 'Inside the World's Toughest Prisons' (ID not added).\n"
          ]
        },
        {
          "output_type": "stream",
          "name": "stderr",
          "text": [
            "Fetching TMDB IDs:  42%|████▏     | 3429/8080 [06:34<10:25,  7.43it/s]"
          ]
        },
        {
          "output_type": "stream",
          "name": "stdout",
          "text": [
            "  No 'results' key or empty results in API response for 'Kountry Wayne: A Woman's Prayer'\n"
          ]
        },
        {
          "output_type": "stream",
          "name": "stderr",
          "text": [
            "Fetching TMDB IDs:  43%|████▎     | 3445/8080 [06:36<08:47,  8.78it/s]"
          ]
        },
        {
          "output_type": "stream",
          "name": "stdout",
          "text": [
            "  Title mismatch for 'Dr. Seuss' The Grinch'. Searched API, but no exact match. First API candidate: 'Dr. Seuss' The Grinch Musical' (ID not added).\n"
          ]
        },
        {
          "output_type": "stream",
          "name": "stderr",
          "text": [
            "Fetching TMDB IDs:  43%|████▎     | 3470/8080 [06:39<08:52,  8.66it/s]"
          ]
        },
        {
          "output_type": "stream",
          "name": "stdout",
          "text": [
            "  Title mismatch for 'Inside the World’s Toughest Prisons'. Searched API, but no exact match. First API candidate: 'Inside the World's Toughest Prisons' (ID not added).\n"
          ]
        },
        {
          "output_type": "stream",
          "name": "stderr",
          "text": [
            "Fetching TMDB IDs:  43%|████▎     | 3485/8080 [06:40<05:44, 13.34it/s]"
          ]
        },
        {
          "output_type": "stream",
          "name": "stdout",
          "text": [
            "  Title mismatch for 'Dr. Seuss' The Grinch'. Searched API, but no exact match. First API candidate: 'Dr. Seuss' The Grinch Musical' (ID not added).\n"
          ]
        },
        {
          "output_type": "stream",
          "name": "stderr",
          "text": [
            "Fetching TMDB IDs:  43%|████▎     | 3507/8080 [06:42<07:42,  9.89it/s]"
          ]
        },
        {
          "output_type": "stream",
          "name": "stdout",
          "text": [
            "  No 'results' key or empty results in API response for 'Shane Gillis: Beautiful Dogs'\n"
          ]
        },
        {
          "output_type": "stream",
          "name": "stderr",
          "text": [
            "Fetching TMDB IDs:  44%|████▎     | 3528/8080 [06:44<06:43, 11.29it/s]"
          ]
        },
        {
          "output_type": "stream",
          "name": "stdout",
          "text": [
            "  Title mismatch for 'Big George Foreman: The Miraculous Story of the Once and Future Heavyweight Champion of the World'. Searched API, but no exact match. First API candidate: 'Big George Foreman' (ID not added).\n"
          ]
        },
        {
          "output_type": "stream",
          "name": "stderr",
          "text": [
            "Fetching TMDB IDs:  44%|████▍     | 3540/8080 [06:45<06:54, 10.95it/s]"
          ]
        },
        {
          "output_type": "stream",
          "name": "stdout",
          "text": [
            "  No 'results' key or empty results in API response for 'Bro (Hindi)'\n"
          ]
        },
        {
          "output_type": "stream",
          "name": "stderr",
          "text": [
            "Fetching TMDB IDs:  45%|████▌     | 3661/8080 [06:56<06:48, 10.82it/s]"
          ]
        },
        {
          "output_type": "stream",
          "name": "stdout",
          "text": [
            "  Title mismatch for 'The Raid: Redemption'. Searched API, but no exact match. First API candidate: 'The Raid' (ID not added).\n"
          ]
        },
        {
          "output_type": "stream",
          "name": "stderr",
          "text": [
            "Fetching TMDB IDs:  46%|████▋     | 3738/8080 [07:03<10:41,  6.77it/s]"
          ]
        },
        {
          "output_type": "stream",
          "name": "stdout",
          "text": [
            "  No 'results' key or empty results in API response for 'Kingdom2: Far and Away'\n"
          ]
        },
        {
          "output_type": "stream",
          "name": "stderr",
          "text": [
            "Fetching TMDB IDs:  46%|████▋     | 3740/8080 [07:03<10:30,  6.89it/s]"
          ]
        },
        {
          "output_type": "stream",
          "name": "stdout",
          "text": [
            "  No 'results' key or empty results in API response for 'Maamannan (Tamil)'\n"
          ]
        },
        {
          "output_type": "stream",
          "name": "stderr",
          "text": [
            "Fetching TMDB IDs:  46%|████▋     | 3747/8080 [07:04<09:39,  7.48it/s]"
          ]
        },
        {
          "output_type": "stream",
          "name": "stdout",
          "text": [
            "  Title mismatch for 'Barbie Life in the Dreamhouse'. Searched API, but no exact match. First API candidate: 'Barbie: Life in the Dreamhouse' (ID not added).\n"
          ]
        },
        {
          "output_type": "stream",
          "name": "stderr",
          "text": [
            "Fetching TMDB IDs:  46%|████▋     | 3751/8080 [07:04<08:12,  8.79it/s]"
          ]
        },
        {
          "output_type": "stream",
          "name": "stdout",
          "text": [
            "  No 'results' key or empty results in API response for 'Mark Normand: Soup to Nuts'\n"
          ]
        },
        {
          "output_type": "stream",
          "name": "stderr",
          "text": [
            "Fetching TMDB IDs:  47%|████▋     | 3778/8080 [07:08<09:47,  7.32it/s]"
          ]
        },
        {
          "output_type": "stream",
          "name": "stdout",
          "text": [
            "  No 'results' key or empty results in API response for 'Kingdom2: Far and Away'\n"
          ]
        },
        {
          "output_type": "stream",
          "name": "stderr",
          "text": [
            "Fetching TMDB IDs:  47%|████▋     | 3782/8080 [07:08<08:04,  8.87it/s]"
          ]
        },
        {
          "output_type": "stream",
          "name": "stdout",
          "text": [
            "  Title mismatch for 'Bear Man'. Searched API, but no exact match. First API candidate: 'The Bear Man' (ID not added).\n"
          ]
        },
        {
          "output_type": "stream",
          "name": "stderr",
          "text": [
            "Fetching TMDB IDs:  47%|████▋     | 3818/8080 [07:12<07:33,  9.40it/s]"
          ]
        },
        {
          "output_type": "stream",
          "name": "stdout",
          "text": [
            "  Title mismatch for 'Through My Window 2: Across the Sea'. Searched API, but no exact match. First API candidate: 'Through My Window: Across the Sea' (ID not added).\n"
          ]
        },
        {
          "output_type": "stream",
          "name": "stderr",
          "text": [
            "Fetching TMDB IDs:  48%|████▊     | 3855/8080 [07:16<07:44,  9.10it/s]"
          ]
        },
        {
          "output_type": "stream",
          "name": "stdout",
          "text": [
            "  Title mismatch for 'Through My Window 2: Across the Sea'. Searched API, but no exact match. First API candidate: 'Through My Window: Across the Sea' (ID not added).\n"
          ]
        },
        {
          "output_type": "stream",
          "name": "stderr",
          "text": [
            "Fetching TMDB IDs:  48%|████▊     | 3866/8080 [07:17<06:53, 10.20it/s]"
          ]
        },
        {
          "output_type": "stream",
          "name": "stdout",
          "text": [
            "  No 'results' key or empty results in API response for 'Tom Segura: Sledgehammer'\n"
          ]
        },
        {
          "output_type": "stream",
          "name": "stderr",
          "text": [
            "Fetching TMDB IDs:  48%|████▊     | 3893/8080 [07:20<07:16,  9.60it/s]"
          ]
        },
        {
          "output_type": "stream",
          "name": "stdout",
          "text": [
            "  Title mismatch for 'Through My Window 2: Across the Sea'. Searched API, but no exact match. First API candidate: 'Through My Window: Across the Sea' (ID not added).\n"
          ]
        },
        {
          "output_type": "stream",
          "name": "stderr",
          "text": [
            "Fetching TMDB IDs:  49%|████▊     | 3933/8080 [07:24<07:14,  9.54it/s]"
          ]
        },
        {
          "output_type": "stream",
          "name": "stdout",
          "text": [
            "  Title mismatch for 'Through My Window 2: Across the Sea'. Searched API, but no exact match. First API candidate: 'Through My Window: Across the Sea' (ID not added).\n"
          ]
        },
        {
          "output_type": "stream",
          "name": "stderr",
          "text": [
            "Fetching TMDB IDs:  49%|████▉     | 3947/8080 [07:26<07:50,  8.78it/s]"
          ]
        },
        {
          "output_type": "stream",
          "name": "stdout",
          "text": [
            "  No 'results' key or empty results in API response for '85 South: Ghetto Legends'\n"
          ]
        },
        {
          "output_type": "stream",
          "name": "stderr",
          "text": [
            "Fetching TMDB IDs:  49%|████▉     | 3991/8080 [07:30<07:11,  9.47it/s]"
          ]
        },
        {
          "output_type": "stream",
          "name": "stdout",
          "text": [
            "  No 'results' key or empty results in API response for 'Amy Schumer: Emergency Contact'\n"
          ]
        },
        {
          "output_type": "stream",
          "name": "stderr",
          "text": [
            "Fetching TMDB IDs:  50%|████▉     | 4038/8080 [07:36<07:46,  8.66it/s]"
          ]
        },
        {
          "output_type": "stream",
          "name": "stdout",
          "text": [
            "  Title mismatch for 'Agency'. Searched API, but no exact match. First API candidate: 'River's Edge Investigative Agency Okawabata' (ID not added).\n"
          ]
        },
        {
          "output_type": "stream",
          "name": "stderr",
          "text": [
            "Fetching TMDB IDs:  50%|█████     | 4052/8080 [07:37<06:11, 10.86it/s]"
          ]
        },
        {
          "output_type": "stream",
          "name": "stdout",
          "text": [
            "  Title mismatch for 'F9: The Fast Saga'. Searched API, but no exact match. First API candidate: 'F9' (ID not added).\n"
          ]
        },
        {
          "output_type": "stream",
          "name": "stderr",
          "text": [
            "Fetching TMDB IDs:  50%|█████     | 4080/8080 [07:40<05:57, 11.18it/s]"
          ]
        },
        {
          "output_type": "stream",
          "name": "stdout",
          "text": [
            "  Title mismatch for 'Pablo Escobar, el patrón del mal'. Searched API, but no exact match. First API candidate: 'Pablo Escobar: The Drug Lord' (ID not added).\n",
            "  Title mismatch for 'Agency'. Searched API, but no exact match. First API candidate: 'River's Edge Investigative Agency Okawabata' (ID not added).\n"
          ]
        },
        {
          "output_type": "stream",
          "name": "stderr",
          "text": [
            "Fetching TMDB IDs:  51%|█████     | 4099/8080 [07:41<05:58, 11.11it/s]"
          ]
        },
        {
          "output_type": "stream",
          "name": "stdout",
          "text": [
            "  Title mismatch for 'Astérix & Obélix: The Middle Kingdom'. Searched API, but no exact match. First API candidate: 'Asterix & Obelix: The Middle Kingdom' (ID not added).\n"
          ]
        },
        {
          "output_type": "stream",
          "name": "stderr",
          "text": [
            "Fetching TMDB IDs:  51%|█████     | 4104/8080 [07:42<04:48, 13.80it/s]"
          ]
        },
        {
          "output_type": "stream",
          "name": "stdout",
          "text": [
            "  Title mismatch for 'Kathal - A Jackfruit Mystery'. Searched API, but no exact match. First API candidate: 'Kathal' (ID not added).\n"
          ]
        },
        {
          "output_type": "stream",
          "name": "stderr",
          "text": [
            "Fetching TMDB IDs:  51%|█████     | 4118/8080 [07:43<04:54, 13.47it/s]"
          ]
        },
        {
          "output_type": "stream",
          "name": "stdout",
          "text": [
            "  Title mismatch for 'Pablo Escobar, el patrón del mal'. Searched API, but no exact match. First API candidate: 'Pablo Escobar: The Drug Lord' (ID not added).\n"
          ]
        },
        {
          "output_type": "stream",
          "name": "stderr",
          "text": [
            "Fetching TMDB IDs:  51%|█████     | 4128/8080 [07:44<05:33, 11.86it/s]"
          ]
        },
        {
          "output_type": "stream",
          "name": "stdout",
          "text": [
            "  Title mismatch for 'Harry Potter and the Sorcerer's Stone'. Searched API, but no exact match. First API candidate: 'Harry Potter and the Philosopher's Stone' (ID not added).\n"
          ]
        },
        {
          "output_type": "stream",
          "name": "stderr",
          "text": [
            "Fetching TMDB IDs:  51%|█████     | 4135/8080 [07:44<06:45,  9.74it/s]"
          ]
        },
        {
          "output_type": "stream",
          "name": "stdout",
          "text": [
            "  Title mismatch for 'Astérix & Obélix: The Middle Kingdom'. Searched API, but no exact match. First API candidate: 'Asterix & Obelix: The Middle Kingdom' (ID not added).\n"
          ]
        },
        {
          "output_type": "stream",
          "name": "stderr",
          "text": [
            "Fetching TMDB IDs:  51%|█████     | 4138/8080 [07:45<07:18,  8.99it/s]"
          ]
        },
        {
          "output_type": "stream",
          "name": "stdout",
          "text": [
            "  Title mismatch for 'Kathal - A Jackfruit Mystery'. Searched API, but no exact match. First API candidate: 'Kathal' (ID not added).\n"
          ]
        },
        {
          "output_type": "stream",
          "name": "stderr",
          "text": [
            "Fetching TMDB IDs:  51%|█████     | 4140/8080 [07:45<08:07,  8.08it/s]"
          ]
        },
        {
          "output_type": "stream",
          "name": "stdout",
          "text": [
            "  No 'results' key or empty results in API response for 'Kingdom2: Far and Away'\n"
          ]
        },
        {
          "output_type": "stream",
          "name": "stderr",
          "text": [
            "Fetching TMDB IDs:  51%|█████▏    | 4160/8080 [07:46<04:13, 15.45it/s]"
          ]
        },
        {
          "output_type": "stream",
          "name": "stdout",
          "text": [
            "  Title mismatch for 'Pablo Escobar, el patrón del mal'. Searched API, but no exact match. First API candidate: 'Pablo Escobar: The Drug Lord' (ID not added).\n"
          ]
        },
        {
          "output_type": "stream",
          "name": "stderr",
          "text": [
            "Fetching TMDB IDs:  52%|█████▏    | 4179/8080 [07:48<07:52,  8.25it/s]"
          ]
        },
        {
          "output_type": "stream",
          "name": "stdout",
          "text": [
            "  Title mismatch for 'You & Me & Me'. Searched API, but no exact match. First API candidate: 'Ask Me What You Want' (ID not added).\n"
          ]
        },
        {
          "output_type": "stream",
          "name": "stderr",
          "text": [
            "Fetching TMDB IDs:  52%|█████▏    | 4200/8080 [07:50<04:28, 14.44it/s]"
          ]
        },
        {
          "output_type": "stream",
          "name": "stdout",
          "text": [
            "  Title mismatch for 'Pablo Escobar, el patrón del mal'. Searched API, but no exact match. First API candidate: 'Pablo Escobar: The Drug Lord' (ID not added).\n"
          ]
        },
        {
          "output_type": "stream",
          "name": "stderr",
          "text": [
            "Fetching TMDB IDs:  53%|█████▎    | 4249/8080 [07:54<07:48,  8.17it/s]"
          ]
        },
        {
          "output_type": "stream",
          "name": "stdout",
          "text": [
            "  Title mismatch for 'Dr. Seuss' The Lorax'. Searched API, but no exact match. First API candidate: 'The Lorax' (ID not added).\n"
          ]
        },
        {
          "output_type": "stream",
          "name": "stderr",
          "text": [
            "Fetching TMDB IDs:  53%|█████▎    | 4291/8080 [07:57<05:06, 12.37it/s]"
          ]
        },
        {
          "output_type": "stream",
          "name": "stdout",
          "text": [
            "  Title mismatch for 'F9: The Fast Saga'. Searched API, but no exact match. First API candidate: 'F9' (ID not added).\n",
            "  Title mismatch for 'Dr. Seuss' The Lorax'. Searched API, but no exact match. First API candidate: 'The Lorax' (ID not added).\n"
          ]
        },
        {
          "output_type": "stream",
          "name": "stderr",
          "text": [
            "Fetching TMDB IDs:  53%|█████▎    | 4319/8080 [07:59<04:42, 13.32it/s]"
          ]
        },
        {
          "output_type": "stream",
          "name": "stdout",
          "text": [
            "  Title mismatch for 'Pablo Escobar, el patrón del mal'. Searched API, but no exact match. First API candidate: 'Pablo Escobar: The Drug Lord' (ID not added).\n"
          ]
        },
        {
          "output_type": "stream",
          "name": "stderr",
          "text": [
            "Fetching TMDB IDs:  54%|█████▎    | 4330/8080 [08:00<06:12, 10.07it/s]"
          ]
        },
        {
          "output_type": "stream",
          "name": "stdout",
          "text": [
            "  Title mismatch for 'Dr. Seuss' The Lorax'. Searched API, but no exact match. First API candidate: 'The Lorax' (ID not added).\n"
          ]
        },
        {
          "output_type": "stream",
          "name": "stderr",
          "text": [
            "Fetching TMDB IDs:  54%|█████▎    | 4341/8080 [08:02<07:56,  7.85it/s]"
          ]
        },
        {
          "output_type": "stream",
          "name": "stdout",
          "text": [
            "  Title mismatch for '비상선언'. Searched API, but no exact match. First API candidate: 'Emergency Declaration' (ID not added).\n"
          ]
        },
        {
          "output_type": "stream",
          "name": "stderr",
          "text": [
            "Fetching TMDB IDs:  54%|█████▍    | 4359/8080 [08:04<07:59,  7.76it/s]"
          ]
        },
        {
          "output_type": "stream",
          "name": "stdout",
          "text": [
            "  Title mismatch for 'Pablo Escobar, el patrón del mal'. Searched API, but no exact match. First API candidate: 'Pablo Escobar: The Drug Lord' (ID not added).\n"
          ]
        },
        {
          "output_type": "stream",
          "name": "stderr",
          "text": [
            "Fetching TMDB IDs:  54%|█████▍    | 4374/8080 [08:06<07:01,  8.80it/s]"
          ]
        },
        {
          "output_type": "stream",
          "name": "stdout",
          "text": [
            "  Title mismatch for '비상선언'. Searched API, but no exact match. First API candidate: 'Emergency Declaration' (ID not added).\n"
          ]
        },
        {
          "output_type": "stream",
          "name": "stderr",
          "text": [
            "Fetching TMDB IDs:  54%|█████▍    | 4401/8080 [08:09<06:54,  8.88it/s]"
          ]
        },
        {
          "output_type": "stream",
          "name": "stdout",
          "text": [
            "  Title mismatch for 'Pablo Escobar, el patrón del mal'. Searched API, but no exact match. First API candidate: 'Pablo Escobar: The Drug Lord' (ID not added).\n"
          ]
        },
        {
          "output_type": "stream",
          "name": "stderr",
          "text": [
            "Fetching TMDB IDs:  55%|█████▍    | 4414/8080 [08:10<06:01, 10.14it/s]"
          ]
        },
        {
          "output_type": "stream",
          "name": "stdout",
          "text": [
            "  Title mismatch for '비상선언'. Searched API, but no exact match. First API candidate: 'Emergency Declaration' (ID not added).\n"
          ]
        },
        {
          "output_type": "stream",
          "name": "stderr",
          "text": [
            "Fetching TMDB IDs:  55%|█████▌    | 4459/8080 [08:15<06:34,  9.18it/s]"
          ]
        },
        {
          "output_type": "stream",
          "name": "stdout",
          "text": [
            "  No 'results' key or empty results in API response for 'Sir (Hindi)'\n"
          ]
        },
        {
          "output_type": "stream",
          "name": "stderr",
          "text": [
            "Fetching TMDB IDs:  56%|█████▌    | 4498/8080 [08:19<07:13,  8.26it/s]"
          ]
        },
        {
          "output_type": "stream",
          "name": "stdout",
          "text": [
            "  No 'results' key or empty results in API response for 'RRR (Hindi)'\n"
          ]
        },
        {
          "output_type": "stream",
          "name": "stderr",
          "text": [
            "Fetching TMDB IDs:  56%|█████▋    | 4550/8080 [08:25<06:04,  9.70it/s]"
          ]
        },
        {
          "output_type": "stream",
          "name": "stdout",
          "text": [
            "  No 'results' key or empty results in API response for 'Chris Rock: Selective Outrage'\n"
          ]
        },
        {
          "output_type": "stream",
          "name": "stderr",
          "text": [
            "Fetching TMDB IDs:  57%|█████▋    | 4571/8080 [08:27<06:15,  9.34it/s]"
          ]
        },
        {
          "output_type": "stream",
          "name": "stdout",
          "text": [
            "  Title mismatch for 'The Hangover: Part III'. Searched API, but no exact match. First API candidate: 'The Hangover Part III' (ID not added).\n"
          ]
        },
        {
          "output_type": "stream",
          "name": "stderr",
          "text": [
            "Fetching TMDB IDs:  58%|█████▊    | 4658/8080 [08:36<05:26, 10.48it/s]"
          ]
        },
        {
          "output_type": "stream",
          "name": "stdout",
          "text": [
            "  No 'results' key or empty results in API response for 'Thunivu (Hindi)'\n"
          ]
        },
        {
          "output_type": "stream",
          "name": "stderr",
          "text": [
            "Fetching TMDB IDs:  58%|█████▊    | 4696/8080 [08:39<05:26, 10.35it/s]"
          ]
        },
        {
          "output_type": "stream",
          "name": "stdout",
          "text": [
            "  No 'results' key or empty results in API response for 'Thunivu (Hindi)'\n"
          ]
        },
        {
          "output_type": "stream",
          "name": "stderr",
          "text": [
            "Fetching TMDB IDs:  58%|█████▊    | 4698/8080 [08:39<05:42,  9.88it/s]"
          ]
        },
        {
          "output_type": "stream",
          "name": "stdout",
          "text": [
            "  No 'results' key or empty results in API response for 'I Like It But It Scares Me'\n"
          ]
        },
        {
          "output_type": "stream",
          "name": "stderr",
          "text": [
            "Fetching TMDB IDs:  58%|█████▊    | 4723/8080 [08:41<04:19, 12.93it/s]"
          ]
        },
        {
          "output_type": "stream",
          "name": "stdout",
          "text": [
            "  No 'results' key or empty results in API response for 'Til Money Do Us Part'\n"
          ]
        },
        {
          "output_type": "stream",
          "name": "stderr",
          "text": [
            "Fetching TMDB IDs:  59%|█████▊    | 4737/8080 [08:43<04:39, 11.96it/s]"
          ]
        },
        {
          "output_type": "stream",
          "name": "stdout",
          "text": [
            "  No 'results' key or empty results in API response for 'I Like It But It Scares Me'\n"
          ]
        },
        {
          "output_type": "stream",
          "name": "stderr",
          "text": [
            "Fetching TMDB IDs:  60%|█████▉    | 4816/8080 [08:49<04:07, 13.20it/s]"
          ]
        },
        {
          "output_type": "stream",
          "name": "stdout",
          "text": [
            "  No 'results' key or empty results in API response for 'RRR (Hindi)'\n"
          ]
        },
        {
          "output_type": "stream",
          "name": "stderr",
          "text": [
            "Fetching TMDB IDs:  60%|██████    | 4863/8080 [08:53<04:22, 12.25it/s]"
          ]
        },
        {
          "output_type": "stream",
          "name": "stdout",
          "text": [
            "  No 'results' key or empty results in API response for 'RRR (Hindi)'\n"
          ]
        },
        {
          "output_type": "stream",
          "name": "stderr",
          "text": [
            "Fetching TMDB IDs:  60%|██████    | 4877/8080 [08:53<03:01, 17.63it/s]"
          ]
        },
        {
          "output_type": "stream",
          "name": "stdout",
          "text": [
            "  Title mismatch for 'Single’s Inferno'. Searched API, but no exact match. First API candidate: 'Single's Inferno' (ID not added).\n"
          ]
        },
        {
          "output_type": "stream",
          "name": "stderr",
          "text": [
            "Fetching TMDB IDs:  61%|██████    | 4923/8080 [08:57<02:51, 18.39it/s]"
          ]
        },
        {
          "output_type": "stream",
          "name": "stdout",
          "text": [
            "  Title mismatch for 'Single’s Inferno'. Searched API, but no exact match. First API candidate: 'Single's Inferno' (ID not added).\n"
          ]
        },
        {
          "output_type": "stream",
          "name": "stderr",
          "text": [
            "Fetching TMDB IDs:  61%|██████    | 4926/8080 [08:57<04:10, 12.59it/s]"
          ]
        },
        {
          "output_type": "stream",
          "name": "stdout",
          "text": [
            "  Title mismatch for 'Guillermo del Toro’s Pinocchio'. Searched API, but no exact match. First API candidate: 'Guillermo del Toro's Pinocchio' (ID not added).\n"
          ]
        },
        {
          "output_type": "stream",
          "name": "stderr",
          "text": [
            "Fetching TMDB IDs:  61%|██████    | 4943/8080 [08:59<04:08, 12.63it/s]"
          ]
        },
        {
          "output_type": "stream",
          "name": "stdout",
          "text": [
            "  Title mismatch for 'Tara VS. Bilal'. Searched API, but no exact match. First API candidate: 'Tara vs Bilal' (ID not added).\n"
          ]
        },
        {
          "output_type": "stream",
          "name": "stderr",
          "text": [
            "Fetching TMDB IDs:  61%|██████▏   | 4958/8080 [09:00<03:36, 14.42it/s]"
          ]
        },
        {
          "output_type": "stream",
          "name": "stdout",
          "text": [
            "  Title mismatch for 'Single’s Inferno'. Searched API, but no exact match. First API candidate: 'Single's Inferno' (ID not added).\n"
          ]
        },
        {
          "output_type": "stream",
          "name": "stderr",
          "text": [
            "Fetching TMDB IDs:  61%|██████▏   | 4960/8080 [09:00<03:59, 13.04it/s]"
          ]
        },
        {
          "output_type": "stream",
          "name": "stdout",
          "text": [
            "  No 'results' key or empty results in API response for 'Til Money Do Us Part'\n"
          ]
        },
        {
          "output_type": "stream",
          "name": "stderr",
          "text": [
            "Fetching TMDB IDs:  61%|██████▏   | 4964/8080 [09:00<04:33, 11.38it/s]"
          ]
        },
        {
          "output_type": "stream",
          "name": "stdout",
          "text": [
            "  Title mismatch for 'Guillermo del Toro’s Pinocchio'. Searched API, but no exact match. First API candidate: 'Guillermo del Toro's Pinocchio' (ID not added).\n"
          ]
        },
        {
          "output_type": "stream",
          "name": "stderr",
          "text": [
            "Fetching TMDB IDs:  62%|██████▏   | 4977/8080 [09:02<06:22,  8.11it/s]"
          ]
        },
        {
          "output_type": "stream",
          "name": "stdout",
          "text": [
            "  Title mismatch for 'Codename: Tiranga'. Searched API, but no exact match. First API candidate: 'Code Name: Tiranga' (ID not added).\n"
          ]
        },
        {
          "output_type": "stream",
          "name": "stderr",
          "text": [
            "Fetching TMDB IDs:  62%|██████▏   | 4982/8080 [09:03<05:51,  8.82it/s]"
          ]
        },
        {
          "output_type": "stream",
          "name": "stdout",
          "text": [
            "  Title mismatch for 'HELL DOGS - IN THE HOUSE OF BAMBOO -'. Searched API, but no exact match. First API candidate: 'Hell Dogs' (ID not added).\n"
          ]
        },
        {
          "output_type": "stream",
          "name": "stderr",
          "text": [
            "Fetching TMDB IDs:  62%|██████▏   | 4997/8080 [09:04<06:20,  8.11it/s]"
          ]
        },
        {
          "output_type": "stream",
          "name": "stdout",
          "text": [
            "  No 'results' key or empty results in API response for 'Til Money Do Us Part'\n"
          ]
        },
        {
          "output_type": "stream",
          "name": "stderr",
          "text": [
            "Fetching TMDB IDs:  62%|██████▏   | 5001/8080 [09:05<05:40,  9.04it/s]"
          ]
        },
        {
          "output_type": "stream",
          "name": "stdout",
          "text": [
            "  Title mismatch for 'Single’s Inferno'. Searched API, but no exact match. First API candidate: 'Single's Inferno' (ID not added).\n",
            "  Title mismatch for 'Guillermo del Toro’s Pinocchio'. Searched API, but no exact match. First API candidate: 'Guillermo del Toro's Pinocchio' (ID not added).\n"
          ]
        },
        {
          "output_type": "stream",
          "name": "stderr",
          "text": [
            "Fetching TMDB IDs:  62%|██████▏   | 5019/8080 [09:07<06:44,  7.57it/s]"
          ]
        },
        {
          "output_type": "stream",
          "name": "stdout",
          "text": [
            "  Title mismatch for 'Codename: Tiranga'. Searched API, but no exact match. First API candidate: 'Code Name: Tiranga' (ID not added).\n",
            "  No 'results' key or empty results in API response for 'Kantara (Hindi)'\n"
          ]
        },
        {
          "output_type": "stream",
          "name": "stderr",
          "text": [
            "Fetching TMDB IDs:  62%|██████▏   | 5031/8080 [09:08<05:15,  9.65it/s]"
          ]
        },
        {
          "output_type": "stream",
          "name": "stdout",
          "text": [
            "  Title mismatch for 'Don't Pick Up the Phone'. Searched API, but no exact match. First API candidate: 'Pervert: Hunting the Strip Search Caller' (ID not added).\n"
          ]
        },
        {
          "output_type": "stream",
          "name": "stderr",
          "text": [
            "Fetching TMDB IDs:  62%|██████▏   | 5036/8080 [09:09<05:07,  9.90it/s]"
          ]
        },
        {
          "output_type": "stream",
          "name": "stdout",
          "text": [
            "  No 'results' key or empty results in API response for 'Til Money Do Us Part'\n"
          ]
        },
        {
          "output_type": "stream",
          "name": "stderr",
          "text": [
            "Fetching TMDB IDs:  62%|██████▏   | 5044/8080 [09:09<05:09,  9.81it/s]"
          ]
        },
        {
          "output_type": "stream",
          "name": "stdout",
          "text": [
            "  Title mismatch for 'Guillermo del Toro’s Pinocchio'. Searched API, but no exact match. First API candidate: 'Guillermo del Toro's Pinocchio' (ID not added).\n"
          ]
        },
        {
          "output_type": "stream",
          "name": "stderr",
          "text": [
            "Fetching TMDB IDs:  63%|██████▎   | 5062/8080 [09:12<05:52,  8.56it/s]"
          ]
        },
        {
          "output_type": "stream",
          "name": "stdout",
          "text": [
            "  No 'results' key or empty results in API response for 'Kantara (Hindi)'\n"
          ]
        },
        {
          "output_type": "stream",
          "name": "stderr",
          "text": [
            "Fetching TMDB IDs:  63%|██████▎   | 5069/8080 [09:12<05:56,  8.44it/s]"
          ]
        },
        {
          "output_type": "stream",
          "name": "stdout",
          "text": [
            "  Title mismatch for 'Snack VS. Chef'. Searched API, but no exact match. First API candidate: 'Snack vs Chef' (ID not added).\n"
          ]
        },
        {
          "output_type": "stream",
          "name": "stderr",
          "text": [
            "Fetching TMDB IDs:  63%|██████▎   | 5073/8080 [09:13<05:15,  9.53it/s]"
          ]
        },
        {
          "output_type": "stream",
          "name": "stdout",
          "text": [
            "  No 'results' key or empty results in API response for 'Til Money Do Us Part'\n"
          ]
        },
        {
          "output_type": "stream",
          "name": "stderr",
          "text": [
            "Fetching TMDB IDs:  63%|██████▎   | 5102/8080 [09:16<05:13,  9.49it/s]"
          ]
        },
        {
          "output_type": "stream",
          "name": "stdout",
          "text": [
            "  Title mismatch for 'Love Destiny The Movie'. Searched API, but no exact match. First API candidate: 'Love Destiny: The Movie' (ID not added).\n"
          ]
        },
        {
          "output_type": "stream",
          "name": "stderr",
          "text": [
            "Fetching TMDB IDs:  63%|██████▎   | 5114/8080 [09:17<04:35, 10.76it/s]"
          ]
        },
        {
          "output_type": "stream",
          "name": "stdout",
          "text": [
            "  No 'results' key or empty results in API response for 'Til Money Do Us Part'\n"
          ]
        },
        {
          "output_type": "stream",
          "name": "stderr",
          "text": [
            "Fetching TMDB IDs:  64%|██████▎   | 5136/8080 [09:19<06:12,  7.90it/s]"
          ]
        },
        {
          "output_type": "stream",
          "name": "stdout",
          "text": [
            "  No 'results' key or empty results in API response for 'GodFather (Hindi)'\n",
            "  No 'results' key or empty results in API response for 'Deception - Round D Corner'\n"
          ]
        },
        {
          "output_type": "stream",
          "name": "stderr",
          "text": [
            "Fetching TMDB IDs:  64%|██████▍   | 5153/8080 [09:21<04:31, 10.77it/s]"
          ]
        },
        {
          "output_type": "stream",
          "name": "stdout",
          "text": [
            "  No 'results' key or empty results in API response for 'Til Money Do Us Part'\n"
          ]
        },
        {
          "output_type": "stream",
          "name": "stderr",
          "text": [
            "Fetching TMDB IDs:  64%|██████▍   | 5192/8080 [09:25<04:32, 10.60it/s]"
          ]
        },
        {
          "output_type": "stream",
          "name": "stdout",
          "text": [
            "  No 'results' key or empty results in API response for 'Til Money Do Us Part'\n"
          ]
        },
        {
          "output_type": "stream",
          "name": "stderr",
          "text": [
            "Fetching TMDB IDs:  64%|██████▍   | 5198/8080 [09:26<04:41, 10.26it/s]"
          ]
        },
        {
          "output_type": "stream",
          "name": "stdout",
          "text": [
            "  Title mismatch for 'Pablo Escobar, el patrón del mal'. Searched API, but no exact match. First API candidate: 'Pablo Escobar: The Drug Lord' (ID not added).\n"
          ]
        },
        {
          "output_type": "stream",
          "name": "stderr",
          "text": [
            "Fetching TMDB IDs:  65%|██████▍   | 5232/8080 [09:29<04:58,  9.53it/s]"
          ]
        },
        {
          "output_type": "stream",
          "name": "stdout",
          "text": [
            "  No 'results' key or empty results in API response for 'Til Money Do Us Part'\n"
          ]
        },
        {
          "output_type": "stream",
          "name": "stderr",
          "text": [
            "Fetching TMDB IDs:  65%|██████▌   | 5268/8080 [09:33<05:42,  8.22it/s]"
          ]
        },
        {
          "output_type": "stream",
          "name": "stdout",
          "text": [
            "  Title mismatch for 'Half Bad: The Bastard Son & The Devil Himself'. Searched API, but no exact match. First API candidate: 'The Bastard Son & the Devil Himself' (ID not added).\n",
            "  Title mismatch for 'DAHMER'. Searched API, but no exact match. First API candidate: 'DAHMER - Monster: The Jeffrey Dahmer Story' (ID not added).\n"
          ]
        },
        {
          "output_type": "stream",
          "name": "stderr",
          "text": [
            "Fetching TMDB IDs:  65%|██████▌   | 5273/8080 [09:34<04:38, 10.08it/s]"
          ]
        },
        {
          "output_type": "stream",
          "name": "stdout",
          "text": [
            "  No 'results' key or empty results in API response for 'Til Money Do Us Part'\n"
          ]
        },
        {
          "output_type": "stream",
          "name": "stderr",
          "text": [
            "Fetching TMDB IDs:  66%|██████▌   | 5306/8080 [09:37<04:33, 10.13it/s]"
          ]
        },
        {
          "output_type": "stream",
          "name": "stdout",
          "text": [
            "  Title mismatch for 'DAHMER'. Searched API, but no exact match. First API candidate: 'DAHMER - Monster: The Jeffrey Dahmer Story' (ID not added).\n"
          ]
        },
        {
          "output_type": "stream",
          "name": "stderr",
          "text": [
            "Fetching TMDB IDs:  66%|██████▌   | 5308/8080 [09:37<04:50,  9.55it/s]"
          ]
        },
        {
          "output_type": "stream",
          "name": "stdout",
          "text": [
            "  Title mismatch for 'Half Bad: The Bastard Son & The Devil Himself'. Searched API, but no exact match. First API candidate: 'The Bastard Son & the Devil Himself' (ID not added).\n"
          ]
        },
        {
          "output_type": "stream",
          "name": "stderr",
          "text": [
            "Fetching TMDB IDs:  66%|██████▌   | 5312/8080 [09:38<04:36, 10.00it/s]"
          ]
        },
        {
          "output_type": "stream",
          "name": "stdout",
          "text": [
            "  No 'results' key or empty results in API response for 'Til Money Do Us Part'\n"
          ]
        },
        {
          "output_type": "stream",
          "name": "stderr",
          "text": [
            "Fetching TMDB IDs:  66%|██████▌   | 5344/8080 [09:41<04:39,  9.79it/s]"
          ]
        },
        {
          "output_type": "stream",
          "name": "stdout",
          "text": [
            "  Title mismatch for 'DAHMER'. Searched API, but no exact match. First API candidate: 'DAHMER - Monster: The Jeffrey Dahmer Story' (ID not added).\n"
          ]
        },
        {
          "output_type": "stream",
          "name": "stderr",
          "text": [
            "Fetching TMDB IDs:  66%|██████▌   | 5352/8080 [09:42<04:57,  9.18it/s]"
          ]
        },
        {
          "output_type": "stream",
          "name": "stdout",
          "text": [
            "  Title mismatch for 'Wild Croc Territory'. Searched API, but no exact match. First API candidate: 'Matt Wright's Wild Territory' (ID not added).\n",
            "  No 'results' key or empty results in API response for 'Til Money Do Us Part'\n"
          ]
        },
        {
          "output_type": "stream",
          "name": "stderr",
          "text": [
            "Fetching TMDB IDs:  67%|██████▋   | 5383/8080 [09:45<04:50,  9.27it/s]"
          ]
        },
        {
          "output_type": "stream",
          "name": "stdout",
          "text": [
            "  Title mismatch for 'DAHMER'. Searched API, but no exact match. First API candidate: 'DAHMER - Monster: The Jeffrey Dahmer Story' (ID not added).\n"
          ]
        },
        {
          "output_type": "stream",
          "name": "stderr",
          "text": [
            "Fetching TMDB IDs:  67%|██████▋   | 5419/8080 [09:49<06:13,  7.13it/s]"
          ]
        },
        {
          "output_type": "stream",
          "name": "stdout",
          "text": [
            "  No 'results' key or empty results in API response for 'Brazil 2002 - Behind the Scenes of Brazil's Fifth FIFA World Cup Victory'\n"
          ]
        },
        {
          "output_type": "stream",
          "name": "stderr",
          "text": [
            "Fetching TMDB IDs:  67%|██████▋   | 5422/8080 [09:50<05:16,  8.39it/s]"
          ]
        },
        {
          "output_type": "stream",
          "name": "stdout",
          "text": [
            "  Title mismatch for 'DAHMER'. Searched API, but no exact match. First API candidate: 'DAHMER - Monster: The Jeffrey Dahmer Story' (ID not added).\n"
          ]
        },
        {
          "output_type": "stream",
          "name": "stderr",
          "text": [
            "Fetching TMDB IDs:  68%|██████▊   | 5455/8080 [09:53<04:41,  9.32it/s]"
          ]
        },
        {
          "output_type": "stream",
          "name": "stdout",
          "text": [
            "  Title mismatch for 'Fullmetal Alchemist The Final Alchemy'. Searched API, but no exact match. First API candidate: 'Fullmetal Alchemist: The Final Alchemy' (ID not added).\n"
          ]
        },
        {
          "output_type": "stream",
          "name": "stderr",
          "text": [
            "Fetching TMDB IDs:  68%|██████▊   | 5462/8080 [09:54<04:25,  9.86it/s]"
          ]
        },
        {
          "output_type": "stream",
          "name": "stdout",
          "text": [
            "  No 'results' key or empty results in API response for 'RRR (Hindi)'\n",
            "  Title mismatch for 'DAHMER'. Searched API, but no exact match. First API candidate: 'DAHMER - Monster: The Jeffrey Dahmer Story' (ID not added).\n"
          ]
        },
        {
          "output_type": "stream",
          "name": "stderr",
          "text": [
            "Fetching TMDB IDs:  68%|██████▊   | 5470/8080 [09:55<04:13, 10.32it/s]"
          ]
        },
        {
          "output_type": "stream",
          "name": "stdout",
          "text": [
            "  Title mismatch for 'Inside the World’s Toughest Prisons'. Searched API, but no exact match. First API candidate: 'Inside the World's Toughest Prisons' (ID not added).\n"
          ]
        },
        {
          "output_type": "stream",
          "name": "stderr",
          "text": [
            "Fetching TMDB IDs:  68%|██████▊   | 5500/8080 [09:58<05:11,  8.28it/s]"
          ]
        },
        {
          "output_type": "stream",
          "name": "stdout",
          "text": [
            "  Title mismatch for 'Fullmetal Alchemist The Final Alchemy'. Searched API, but no exact match. First API candidate: 'Fullmetal Alchemist: The Final Alchemy' (ID not added).\n"
          ]
        },
        {
          "output_type": "stream",
          "name": "stderr",
          "text": [
            "Fetching TMDB IDs:  68%|██████▊   | 5502/8080 [09:58<04:36,  9.33it/s]"
          ]
        },
        {
          "output_type": "stream",
          "name": "stdout",
          "text": [
            "  Title mismatch for 'DAHMER'. Searched API, but no exact match. First API candidate: 'DAHMER - Monster: The Jeffrey Dahmer Story' (ID not added).\n"
          ]
        },
        {
          "output_type": "stream",
          "name": "stderr",
          "text": [
            "Fetching TMDB IDs:  70%|██████▉   | 5650/8080 [10:14<03:58, 10.17it/s]"
          ]
        },
        {
          "output_type": "stream",
          "name": "stdout",
          "text": [
            "  No 'results' key or empty results in API response for 'Untold: The Girlfriend Who Didn't Exist'\n"
          ]
        },
        {
          "output_type": "stream",
          "name": "stderr",
          "text": [
            "Fetching TMDB IDs:  70%|██████▉   | 5654/8080 [10:14<03:33, 11.37it/s]"
          ]
        },
        {
          "output_type": "stream",
          "name": "stdout",
          "text": [
            "  Title mismatch for 'Fullmetal Alchemist The Revenge of Scar'. Searched API, but no exact match. First API candidate: 'Fullmetal Alchemist: The Revenge of Scar' (ID not added).\n"
          ]
        },
        {
          "output_type": "stream",
          "name": "stderr",
          "text": [
            "Fetching TMDB IDs:  70%|███████   | 5685/8080 [10:16<02:17, 17.47it/s]"
          ]
        },
        {
          "output_type": "stream",
          "name": "stdout",
          "text": [
            "  No 'results' key or empty results in API response for 'Untold: The Girlfriend Who Didn't Exist'\n"
          ]
        },
        {
          "output_type": "stream",
          "name": "stderr",
          "text": [
            "Fetching TMDB IDs:  70%|███████   | 5695/8080 [10:17<03:17, 12.07it/s]"
          ]
        },
        {
          "output_type": "stream",
          "name": "stdout",
          "text": [
            "  Title mismatch for 'Fullmetal Alchemist The Revenge of Scar'. Searched API, but no exact match. First API candidate: 'Fullmetal Alchemist: The Revenge of Scar' (ID not added).\n"
          ]
        },
        {
          "output_type": "stream",
          "name": "stderr",
          "text": [
            "Fetching TMDB IDs:  71%|███████   | 5699/8080 [10:18<04:05,  9.71it/s]"
          ]
        },
        {
          "output_type": "stream",
          "name": "stdout",
          "text": [
            "  No 'results' key or empty results in API response for 'Shabaash Mithu (Hindi)'\n",
            "  No 'results' key or empty results in API response for 'RRR (Hindi)'\n"
          ]
        },
        {
          "output_type": "stream",
          "name": "stderr",
          "text": [
            "Fetching TMDB IDs:  71%|███████   | 5736/8080 [10:20<02:58, 13.13it/s]"
          ]
        },
        {
          "output_type": "stream",
          "name": "stdout",
          "text": [
            "  Title mismatch for 'Don’t Blame Karma!'. Searched API, but no exact match. First API candidate: 'Don't Blame Karma!' (ID not added).\n",
            "  No 'results' key or empty results in API response for 'Shabaash Mithu (Hindi)'\n"
          ]
        },
        {
          "output_type": "stream",
          "name": "stderr",
          "text": [
            "Fetching TMDB IDs:  71%|███████   | 5743/8080 [10:20<02:42, 14.40it/s]"
          ]
        },
        {
          "output_type": "stream",
          "name": "stdout",
          "text": [
            "  No 'results' key or empty results in API response for 'RRR (Hindi)'\n"
          ]
        },
        {
          "output_type": "stream",
          "name": "stderr",
          "text": [
            "Fetching TMDB IDs:  71%|███████▏  | 5774/8080 [10:22<02:44, 14.01it/s]"
          ]
        },
        {
          "output_type": "stream",
          "name": "stdout",
          "text": [
            "  Title mismatch for 'Don’t Blame Karma!'. Searched API, but no exact match. First API candidate: 'Don't Blame Karma!' (ID not added).\n"
          ]
        },
        {
          "output_type": "stream",
          "name": "stderr",
          "text": [
            "Fetching TMDB IDs:  72%|███████▏  | 5780/8080 [10:23<04:07,  9.30it/s]"
          ]
        },
        {
          "output_type": "stream",
          "name": "stdout",
          "text": [
            "  No 'results' key or empty results in API response for 'RRR (Hindi)'\n"
          ]
        },
        {
          "output_type": "stream",
          "name": "stderr",
          "text": [
            "Fetching TMDB IDs:  72%|███████▏  | 5818/8080 [10:26<04:19,  8.71it/s]"
          ]
        },
        {
          "output_type": "stream",
          "name": "stdout",
          "text": [
            "  No 'results' key or empty results in API response for 'RRR (Hindi)'\n"
          ]
        },
        {
          "output_type": "stream",
          "name": "stderr",
          "text": [
            "Fetching TMDB IDs:  72%|███████▏  | 5820/8080 [10:27<04:39,  8.07it/s]"
          ]
        },
        {
          "output_type": "stream",
          "name": "stdout",
          "text": [
            "  No 'results' key or empty results in API response for 'Foot Fairy (Hindi)'\n"
          ]
        },
        {
          "output_type": "stream",
          "name": "stderr",
          "text": [
            "Fetching TMDB IDs:  73%|███████▎  | 5859/8080 [10:30<03:59,  9.29it/s]"
          ]
        },
        {
          "output_type": "stream",
          "name": "stdout",
          "text": [
            "  Title mismatch for 'My Daughter’s Killer'. Searched API, but no exact match. First API candidate: 'My Daughter's Killer' (ID not added).\n",
            "  No 'results' key or empty results in API response for 'RRR (Hindi)'\n",
            "  Title mismatch for 'Vaashi (Malayalam)'. Searched API, but no exact match. First API candidate: 'Vaashi' (ID not added).\n"
          ]
        },
        {
          "output_type": "stream",
          "name": "stderr",
          "text": [
            "Fetching TMDB IDs:  73%|███████▎  | 5896/8080 [10:34<05:25,  6.72it/s]"
          ]
        },
        {
          "output_type": "stream",
          "name": "stdout",
          "text": [
            "  Title mismatch for 'My Daughter’s Killer'. Searched API, but no exact match. First API candidate: 'My Daughter's Killer' (ID not added).\n",
            "  Title mismatch for 'Ante Sundaraniki'. Searched API, but no exact match. First API candidate: 'Ante... Sundaraniki!' (ID not added).\n"
          ]
        },
        {
          "output_type": "stream",
          "name": "stderr",
          "text": [
            "Fetching TMDB IDs:  73%|███████▎  | 5898/8080 [10:34<05:05,  7.15it/s]"
          ]
        },
        {
          "output_type": "stream",
          "name": "stdout",
          "text": [
            "  Title mismatch for 'Mirreyes vs Godinez'. Searched API, but no exact match. First API candidate: 'Mirreyes vs Godínez - La Colección' (ID not added).\n",
            "  No 'results' key or empty results in API response for 'RRR (Hindi)'\n"
          ]
        },
        {
          "output_type": "stream",
          "name": "stderr",
          "text": [
            "Fetching TMDB IDs:  73%|███████▎  | 5900/8080 [10:34<04:34,  7.94it/s]"
          ]
        },
        {
          "output_type": "stream",
          "name": "stdout",
          "text": [
            "  No 'results' key or empty results in API response for 'Major (Hindi)'\n"
          ]
        },
        {
          "output_type": "stream",
          "name": "stderr",
          "text": [
            "Fetching TMDB IDs:  73%|███████▎  | 5933/8080 [10:38<04:43,  7.57it/s]"
          ]
        },
        {
          "output_type": "stream",
          "name": "stdout",
          "text": [
            "  No 'results' key or empty results in API response for 'Major (Hindi)'\n",
            "  Title mismatch for 'Tadeo Jones 2: El secreto del Rey Midas'. Searched API, but no exact match. First API candidate: 'Tad, the Lost Explorer, and the Secret of King Midas' (ID not added).\n"
          ]
        },
        {
          "output_type": "stream",
          "name": "stderr",
          "text": [
            "Fetching TMDB IDs:  73%|███████▎  | 5936/8080 [10:38<04:21,  8.20it/s]"
          ]
        },
        {
          "output_type": "stream",
          "name": "stdout",
          "text": [
            "  No 'results' key or empty results in API response for 'RRR (Hindi)'\n",
            "  No 'results' key or empty results in API response for 'Leon's Heart'\n"
          ]
        },
        {
          "output_type": "stream",
          "name": "stderr",
          "text": [
            "Fetching TMDB IDs:  74%|███████▎  | 5939/8080 [10:39<04:40,  7.64it/s]"
          ]
        },
        {
          "output_type": "stream",
          "name": "stdout",
          "text": [
            "  No 'results' key or empty results in API response for 'Major (Telugu)'\n"
          ]
        },
        {
          "output_type": "stream",
          "name": "stderr",
          "text": [
            "Fetching TMDB IDs:  74%|███████▍  | 5962/8080 [10:41<03:45,  9.38it/s]"
          ]
        },
        {
          "output_type": "stream",
          "name": "stdout",
          "text": [
            "  Title mismatch for 'Malverde, el santo patrón'. Searched API, but no exact match. First API candidate: 'Malverde: El Santo Patrón' (ID not added).\n"
          ]
        },
        {
          "output_type": "stream",
          "name": "stderr",
          "text": [
            "Fetching TMDB IDs:  74%|███████▍  | 5977/8080 [10:43<04:08,  8.47it/s]"
          ]
        },
        {
          "output_type": "stream",
          "name": "stdout",
          "text": [
            "  No 'results' key or empty results in API response for 'RRR (Hindi)'\n"
          ]
        },
        {
          "output_type": "stream",
          "name": "stderr",
          "text": [
            "Fetching TMDB IDs:  74%|███████▍  | 5979/8080 [10:43<04:00,  8.72it/s]"
          ]
        },
        {
          "output_type": "stream",
          "name": "stdout",
          "text": [
            "  No 'results' key or empty results in API response for 'Leon's Heart'\n",
            "  Title mismatch for 'Tadeo Jones 2: El secreto del Rey Midas'. Searched API, but no exact match. First API candidate: 'Tad, the Lost Explorer, and the Secret of King Midas' (ID not added).\n"
          ]
        },
        {
          "output_type": "stream",
          "name": "stderr",
          "text": [
            "Fetching TMDB IDs:  74%|███████▍  | 5998/8080 [10:45<03:34,  9.71it/s]"
          ]
        },
        {
          "output_type": "stream",
          "name": "stdout",
          "text": [
            "  Title mismatch for 'Malverde, el santo patrón'. Searched API, but no exact match. First API candidate: 'Malverde: El Santo Patrón' (ID not added).\n"
          ]
        },
        {
          "output_type": "stream",
          "name": "stderr",
          "text": [
            "Fetching TMDB IDs:  74%|███████▍  | 6002/8080 [10:46<03:42,  9.36it/s]"
          ]
        },
        {
          "output_type": "stream",
          "name": "stdout",
          "text": [
            "  Title mismatch for 'Queen'. Searched API, but no exact match. First API candidate: 'The Queen of Flow' (ID not added).\n"
          ]
        },
        {
          "output_type": "stream",
          "name": "stderr",
          "text": [
            "Fetching TMDB IDs:  74%|███████▍  | 6016/8080 [10:47<04:03,  8.48it/s]"
          ]
        },
        {
          "output_type": "stream",
          "name": "stdout",
          "text": [
            "  Title mismatch for 'Loca por el trabajo'. Searched API, but no exact match. First API candidate: 'Crazy About Work' (ID not added).\n",
            "  No 'results' key or empty results in API response for 'RRR (Hindi)'\n"
          ]
        },
        {
          "output_type": "stream",
          "name": "stderr",
          "text": [
            "Fetching TMDB IDs:  75%|███████▍  | 6035/8080 [10:49<03:14, 10.53it/s]"
          ]
        },
        {
          "output_type": "stream",
          "name": "stdout",
          "text": [
            "  Title mismatch for 'Malverde, el santo patrón'. Searched API, but no exact match. First API candidate: 'Malverde: El Santo Patrón' (ID not added).\n"
          ]
        },
        {
          "output_type": "stream",
          "name": "stderr",
          "text": [
            "Fetching TMDB IDs:  75%|███████▍  | 6056/8080 [10:51<03:25,  9.86it/s]"
          ]
        },
        {
          "output_type": "stream",
          "name": "stdout",
          "text": [
            "  Title mismatch for 'Loca por el trabajo'. Searched API, but no exact match. First API candidate: 'Crazy About Work' (ID not added).\n",
            "  No 'results' key or empty results in API response for 'RRR (Hindi)'\n"
          ]
        },
        {
          "output_type": "stream",
          "name": "stderr",
          "text": [
            "Fetching TMDB IDs:  75%|███████▌  | 6074/8080 [10:53<03:10, 10.51it/s]"
          ]
        },
        {
          "output_type": "stream",
          "name": "stdout",
          "text": [
            "  Title mismatch for 'Malverde, el santo patrón'. Searched API, but no exact match. First API candidate: 'Malverde: El Santo Patrón' (ID not added).\n"
          ]
        },
        {
          "output_type": "stream",
          "name": "stderr",
          "text": [
            "Fetching TMDB IDs:  75%|███████▌  | 6092/8080 [10:55<03:55,  8.46it/s]"
          ]
        },
        {
          "output_type": "stream",
          "name": "stdout",
          "text": [
            "  No 'results' key or empty results in API response for 'RRR (Hindi)'\n",
            "  Title mismatch for 'El paseo 6'. Searched API, but no exact match. First API candidate: 'The Trip 6' (ID not added).\n"
          ]
        },
        {
          "output_type": "stream",
          "name": "stderr",
          "text": [
            "Fetching TMDB IDs:  76%|███████▌  | 6117/8080 [10:58<03:16, 10.01it/s]"
          ]
        },
        {
          "output_type": "stream",
          "name": "stdout",
          "text": [
            "  Title mismatch for 'Malverde, el santo patrón'. Searched API, but no exact match. First API candidate: 'Malverde: El Santo Patrón' (ID not added).\n"
          ]
        },
        {
          "output_type": "stream",
          "name": "stderr",
          "text": [
            "Fetching TMDB IDs:  76%|███████▌  | 6132/8080 [10:59<03:41,  8.81it/s]"
          ]
        },
        {
          "output_type": "stream",
          "name": "stdout",
          "text": [
            "  No 'results' key or empty results in API response for 'RRR (Hindi)'\n"
          ]
        },
        {
          "output_type": "stream",
          "name": "stderr",
          "text": [
            "Fetching TMDB IDs:  76%|███████▋  | 6172/8080 [11:04<03:15,  9.75it/s]"
          ]
        },
        {
          "output_type": "stream",
          "name": "stdout",
          "text": [
            "  No 'results' key or empty results in API response for 'RRR (Hindi)'\n"
          ]
        },
        {
          "output_type": "stream",
          "name": "stderr",
          "text": [
            "Fetching TMDB IDs:  77%|███████▋  | 6216/8080 [11:08<02:53, 10.72it/s]"
          ]
        },
        {
          "output_type": "stream",
          "name": "stdout",
          "text": [
            "  No 'results' key or empty results in API response for 'RRR (Hindi)'\n"
          ]
        },
        {
          "output_type": "stream",
          "name": "stderr",
          "text": [
            "Fetching TMDB IDs:  77%|███████▋  | 6222/8080 [11:09<03:10,  9.76it/s]"
          ]
        },
        {
          "output_type": "stream",
          "name": "stdout",
          "text": [
            "  No 'results' key or empty results in API response for 'Raw (Hindi)'\n"
          ]
        },
        {
          "output_type": "stream",
          "name": "stderr",
          "text": [
            "Fetching TMDB IDs:  77%|███████▋  | 6256/8080 [11:12<03:17,  9.24it/s]"
          ]
        },
        {
          "output_type": "stream",
          "name": "stdout",
          "text": [
            "  No 'results' key or empty results in API response for 'Raw (Hindi)'\n"
          ]
        },
        {
          "output_type": "stream",
          "name": "stderr",
          "text": [
            "Fetching TMDB IDs:  77%|███████▋  | 6258/8080 [11:12<03:36,  8.43it/s]"
          ]
        },
        {
          "output_type": "stream",
          "name": "stdout",
          "text": [
            "  Title mismatch for 'Beast (Tamil)'. Searched API, but no exact match. First API candidate: 'Beast' (ID not added).\n"
          ]
        },
        {
          "output_type": "stream",
          "name": "stderr",
          "text": [
            "Fetching TMDB IDs:  78%|███████▊  | 6262/8080 [11:13<03:22,  8.97it/s]"
          ]
        },
        {
          "output_type": "stream",
          "name": "stdout",
          "text": [
            "  No 'results' key or empty results in API response for 'Radhe Shyam (Hindi)'\n"
          ]
        },
        {
          "output_type": "stream",
          "name": "stderr",
          "text": [
            "Fetching TMDB IDs:  78%|███████▊  | 6296/8080 [11:16<03:18,  8.99it/s]"
          ]
        },
        {
          "output_type": "stream",
          "name": "stdout",
          "text": [
            "  Title mismatch for 'Rumspringa - An Amish in Berlin'. Searched API, but no exact match. First API candidate: 'Rumspringa' (ID not added).\n"
          ]
        },
        {
          "output_type": "stream",
          "name": "stderr",
          "text": [
            "Fetching TMDB IDs:  78%|███████▊  | 6298/8080 [11:17<03:29,  8.49it/s]"
          ]
        },
        {
          "output_type": "stream",
          "name": "stdout",
          "text": [
            "  No 'results' key or empty results in API response for 'Radhe Shyam (Hindi)'\n",
            "  No 'results' key or empty results in API response for 'I Swear It Wasn't Me'\n"
          ]
        },
        {
          "output_type": "stream",
          "name": "stderr",
          "text": [
            "Fetching TMDB IDs:  78%|███████▊  | 6340/8080 [11:21<03:20,  8.67it/s]"
          ]
        },
        {
          "output_type": "stream",
          "name": "stdout",
          "text": [
            "  No 'results' key or empty results in API response for 'I Swear It Wasn't Me'\n"
          ]
        },
        {
          "output_type": "stream",
          "name": "stderr",
          "text": [
            "Fetching TMDB IDs:  79%|███████▉  | 6375/8080 [11:25<03:27,  8.20it/s]"
          ]
        },
        {
          "output_type": "stream",
          "name": "stdout",
          "text": [
            "  Title mismatch for 'One Piece Film Z'. Searched API, but no exact match. First API candidate: 'One Piece Film: Z' (ID not added).\n"
          ]
        },
        {
          "output_type": "stream",
          "name": "stderr",
          "text": [
            "Fetching TMDB IDs:  80%|████████  | 6498/8080 [11:38<02:36, 10.10it/s]"
          ]
        },
        {
          "output_type": "stream",
          "name": "stdout",
          "text": [
            "  Title mismatch for ''83'. Searched API, but no exact match. First API candidate: '83' (ID not added).\n"
          ]
        },
        {
          "output_type": "stream",
          "name": "stderr",
          "text": [
            "Fetching TMDB IDs:  81%|████████  | 6535/8080 [11:41<02:02, 12.63it/s]"
          ]
        },
        {
          "output_type": "stream",
          "name": "stdout",
          "text": [
            "  Title mismatch for ''83'. Searched API, but no exact match. First API candidate: '83' (ID not added).\n",
            "  Title mismatch for 'The Bombardment'. Searched API, but no exact match. First API candidate: 'Bombardment of Taku Forts, by the Allied Fleets' (ID not added).\n"
          ]
        },
        {
          "output_type": "stream",
          "name": "stderr",
          "text": [
            "Fetching TMDB IDs:  81%|████████▏ | 6573/8080 [11:43<01:48, 13.85it/s]"
          ]
        },
        {
          "output_type": "stream",
          "name": "stdout",
          "text": [
            "  Title mismatch for 'A Madea Homecoming'. Searched API, but no exact match. First API candidate: 'Tyler Perry's A Madea Homecoming' (ID not added).\n",
            "  Title mismatch for 'The Bombardment'. Searched API, but no exact match. First API candidate: 'Bombardment of Taku Forts, by the Allied Fleets' (ID not added).\n"
          ]
        },
        {
          "output_type": "stream",
          "name": "stderr",
          "text": [
            "Fetching TMDB IDs:  81%|████████▏ | 6577/8080 [11:44<02:15, 11.08it/s]"
          ]
        },
        {
          "output_type": "stream",
          "name": "stdout",
          "text": [
            "  Title mismatch for 'Chernobyl 1986'. Searched API, but no exact match. First API candidate: 'Chernobyl: Abyss' (ID not added).\n"
          ]
        },
        {
          "output_type": "stream",
          "name": "stderr",
          "text": [
            "Fetching TMDB IDs:  82%|████████▏ | 6599/8080 [11:45<01:53, 12.99it/s]"
          ]
        },
        {
          "output_type": "stream",
          "name": "stdout",
          "text": [
            "  Title mismatch for 'The Great Robbery of Brazil's Central Bank'. Searched API, but no exact match. First API candidate: 'Hei$t: The Great Robbery of Brazil's Central Bank' (ID not added).\n"
          ]
        },
        {
          "output_type": "stream",
          "name": "stderr",
          "text": [
            "Fetching TMDB IDs:  82%|████████▏ | 6606/8080 [11:46<01:48, 13.63it/s]"
          ]
        },
        {
          "output_type": "stream",
          "name": "stdout",
          "text": [
            "  Title mismatch for 'A Madea Homecoming'. Searched API, but no exact match. First API candidate: 'Tyler Perry's A Madea Homecoming' (ID not added).\n"
          ]
        },
        {
          "output_type": "stream",
          "name": "stderr",
          "text": [
            "Fetching TMDB IDs:  82%|████████▏ | 6613/8080 [11:47<01:46, 13.80it/s]"
          ]
        },
        {
          "output_type": "stream",
          "name": "stdout",
          "text": [
            "  Title mismatch for 'The Bombardment'. Searched API, but no exact match. First API candidate: 'Bombardment of Taku Forts, by the Allied Fleets' (ID not added).\n"
          ]
        },
        {
          "output_type": "stream",
          "name": "stderr",
          "text": [
            "Fetching TMDB IDs:  82%|████████▏ | 6617/8080 [11:47<01:52, 13.06it/s]"
          ]
        },
        {
          "output_type": "stream",
          "name": "stdout",
          "text": [
            "  Title mismatch for 'Chernobyl 1986'. Searched API, but no exact match. First API candidate: 'Chernobyl: Abyss' (ID not added).\n"
          ]
        },
        {
          "output_type": "stream",
          "name": "stderr",
          "text": [
            "Fetching TMDB IDs:  82%|████████▏ | 6644/8080 [11:48<01:18, 18.38it/s]"
          ]
        },
        {
          "output_type": "stream",
          "name": "stdout",
          "text": [
            "  Title mismatch for 'A Madea Homecoming'. Searched API, but no exact match. First API candidate: 'Tyler Perry's A Madea Homecoming' (ID not added).\n"
          ]
        },
        {
          "output_type": "stream",
          "name": "stderr",
          "text": [
            "Fetching TMDB IDs:  82%|████████▏ | 6655/8080 [11:49<01:33, 15.30it/s]"
          ]
        },
        {
          "output_type": "stream",
          "name": "stdout",
          "text": [
            "  Title mismatch for 'Chernobyl 1986'. Searched API, but no exact match. First API candidate: 'Chernobyl: Abyss' (ID not added).\n"
          ]
        },
        {
          "output_type": "stream",
          "name": "stderr",
          "text": [
            "Fetching TMDB IDs:  83%|████████▎ | 6681/8080 [11:51<01:36, 14.55it/s]"
          ]
        },
        {
          "output_type": "stream",
          "name": "stdout",
          "text": [
            "  Title mismatch for 'A Madea Homecoming'. Searched API, but no exact match. First API candidate: 'Tyler Perry's A Madea Homecoming' (ID not added).\n"
          ]
        },
        {
          "output_type": "stream",
          "name": "stderr",
          "text": [
            "Fetching TMDB IDs:  83%|████████▎ | 6699/8080 [11:53<02:19,  9.89it/s]"
          ]
        },
        {
          "output_type": "stream",
          "name": "stdout",
          "text": [
            "  Title mismatch for 'Todos queremos a alguien'. Searched API, but no exact match. First API candidate: 'Everybody Loves Somebody' (ID not added).\n"
          ]
        },
        {
          "output_type": "stream",
          "name": "stderr",
          "text": [
            "Fetching TMDB IDs:  83%|████████▎ | 6739/8080 [11:57<02:46,  8.07it/s]"
          ]
        },
        {
          "output_type": "stream",
          "name": "stdout",
          "text": [
            "  No 'results' key or empty results in API response for 'Parallel Roads'\n"
          ]
        },
        {
          "output_type": "stream",
          "name": "stderr",
          "text": [
            "Fetching TMDB IDs:  84%|████████▍ | 6783/8080 [12:00<01:53, 11.38it/s]"
          ]
        },
        {
          "output_type": "stream",
          "name": "stdout",
          "text": [
            "  Title mismatch for 'Luccas Neto in: The Magical Hotel 2'. Searched API, but no exact match. First API candidate: 'Luccas Neto in: Magic Hotel 2' (ID not added).\n"
          ]
        },
        {
          "output_type": "stream",
          "name": "stderr",
          "text": [
            "Fetching TMDB IDs:  84%|████████▍ | 6817/8080 [12:03<02:14,  9.40it/s]"
          ]
        },
        {
          "output_type": "stream",
          "name": "stdout",
          "text": [
            "  Title mismatch for 'أصحاب ...ولا أعزّ'. Searched API, but no exact match. First API candidate: 'Perfect Strangers' (ID not added).\n"
          ]
        },
        {
          "output_type": "stream",
          "name": "stderr",
          "text": [
            "Fetching TMDB IDs:  85%|████████▍ | 6854/8080 [12:06<02:08,  9.57it/s]"
          ]
        },
        {
          "output_type": "stream",
          "name": "stdout",
          "text": [
            "  Title mismatch for 'أصحاب ...ولا أعزّ'. Searched API, but no exact match. First API candidate: 'Perfect Strangers' (ID not added).\n"
          ]
        },
        {
          "output_type": "stream",
          "name": "stderr",
          "text": [
            "Fetching TMDB IDs:  85%|████████▌ | 6899/8080 [12:09<01:11, 16.50it/s]"
          ]
        },
        {
          "output_type": "stream",
          "name": "stdout",
          "text": [
            "  Title mismatch for 'أصحاب ...ولا أعزّ'. Searched API, but no exact match. First API candidate: 'Perfect Strangers' (ID not added).\n"
          ]
        },
        {
          "output_type": "stream",
          "name": "stderr",
          "text": [
            "Fetching TMDB IDs:  86%|████████▌ | 6956/8080 [12:14<01:12, 15.57it/s]"
          ]
        },
        {
          "output_type": "stream",
          "name": "stdout",
          "text": [
            "  Title mismatch for 'Single’s Inferno'. Searched API, but no exact match. First API candidate: 'Single's Inferno' (ID not added).\n"
          ]
        },
        {
          "output_type": "stream",
          "name": "stderr",
          "text": [
            "Fetching TMDB IDs:  87%|████████▋ | 6995/8080 [12:16<01:07, 16.06it/s]"
          ]
        },
        {
          "output_type": "stream",
          "name": "stdout",
          "text": [
            "  Title mismatch for 'Single’s Inferno'. Searched API, but no exact match. First API candidate: 'Single's Inferno' (ID not added).\n"
          ]
        },
        {
          "output_type": "stream",
          "name": "stderr",
          "text": [
            "Fetching TMDB IDs:  87%|████████▋ | 7040/8080 [12:20<01:04, 16.06it/s]"
          ]
        },
        {
          "output_type": "stream",
          "name": "stdout",
          "text": [
            "  Title mismatch for 'Single’s Inferno'. Searched API, but no exact match. First API candidate: 'Single's Inferno' (ID not added).\n"
          ]
        },
        {
          "output_type": "stream",
          "name": "stderr",
          "text": [
            "Fetching TMDB IDs:  88%|████████▊ | 7096/8080 [12:24<01:13, 13.45it/s]"
          ]
        },
        {
          "output_type": "stream",
          "name": "stdout",
          "text": [
            "  Title mismatch for 'Bordertown: Mural Murders'. Searched API, but no exact match. First API candidate: 'Bordertown: The Mural Murders' (ID not added).\n"
          ]
        },
        {
          "output_type": "stream",
          "name": "stderr",
          "text": [
            "Fetching TMDB IDs:  88%|████████▊ | 7139/8080 [12:27<01:18, 11.98it/s]"
          ]
        },
        {
          "output_type": "stream",
          "name": "stdout",
          "text": [
            "  Title mismatch for 'Bordertown: Mural Murders'. Searched API, but no exact match. First API candidate: 'Bordertown: The Mural Murders' (ID not added).\n"
          ]
        },
        {
          "output_type": "stream",
          "name": "stderr",
          "text": [
            "Fetching TMDB IDs:  89%|████████▉ | 7183/8080 [12:30<01:02, 14.41it/s]"
          ]
        },
        {
          "output_type": "stream",
          "name": "stdout",
          "text": [
            "  Title mismatch for 'Bordertown: Mural Murders'. Searched API, but no exact match. First API candidate: 'Bordertown: The Mural Murders' (ID not added).\n"
          ]
        },
        {
          "output_type": "stream",
          "name": "stderr",
          "text": [
            "Fetching TMDB IDs:  90%|█████████ | 7303/8080 [12:39<01:06, 11.61it/s]"
          ]
        },
        {
          "output_type": "stream",
          "name": "stdout",
          "text": [
            "  No 'results' key or empty results in API response for 'Doctor (Tamil)'\n"
          ]
        },
        {
          "output_type": "stream",
          "name": "stderr",
          "text": [
            "Fetching TMDB IDs:  91%|█████████ | 7344/8080 [12:42<00:52, 14.04it/s]"
          ]
        },
        {
          "output_type": "stream",
          "name": "stdout",
          "text": [
            "  No 'results' key or empty results in API response for 'Doctor (Tamil)'\n"
          ]
        },
        {
          "output_type": "stream",
          "name": "stderr",
          "text": [
            "Fetching TMDB IDs:  91%|█████████ | 7362/8080 [12:43<00:46, 15.36it/s]"
          ]
        },
        {
          "output_type": "stream",
          "name": "stdout",
          "text": [
            "  Title mismatch for 'Luis Miguel - The Series'. Searched API, but no exact match. First API candidate: 'Luis Miguel: The Series' (ID not added).\n"
          ]
        },
        {
          "output_type": "stream",
          "name": "stderr",
          "text": [
            "Fetching TMDB IDs:  92%|█████████▏| 7398/8080 [12:46<00:39, 17.15it/s]"
          ]
        },
        {
          "output_type": "stream",
          "name": "stdout",
          "text": [
            "  Title mismatch for 'Luis Miguel - The Series'. Searched API, but no exact match. First API candidate: 'Luis Miguel: The Series' (ID not added).\n"
          ]
        },
        {
          "output_type": "stream",
          "name": "stderr",
          "text": [
            "Fetching TMDB IDs:  92%|█████████▏| 7459/8080 [12:51<00:58, 10.68it/s]"
          ]
        },
        {
          "output_type": "stream",
          "name": "stdout",
          "text": [
            "  No 'results' key or empty results in API response for 'Anything for a Pop Star'\n",
            "  Title mismatch for 'Violet Evergarden the Movie'. Searched API, but no exact match. First API candidate: 'Violet Evergarden: The Movie' (ID not added).\n"
          ]
        },
        {
          "output_type": "stream",
          "name": "stderr",
          "text": [
            "Fetching TMDB IDs:  92%|█████████▏| 7466/8080 [12:52<00:49, 12.32it/s]"
          ]
        },
        {
          "output_type": "stream",
          "name": "stdout",
          "text": [
            "  No 'results' key or empty results in API response for 'Shameless (U.S.)'\n"
          ]
        },
        {
          "output_type": "stream",
          "name": "stderr",
          "text": [
            "Fetching TMDB IDs:  93%|█████████▎| 7509/8080 [12:55<00:49, 11.48it/s]"
          ]
        },
        {
          "output_type": "stream",
          "name": "stdout",
          "text": [
            "  No 'results' key or empty results in API response for 'Dave Chappelle: The Closer'\n"
          ]
        },
        {
          "output_type": "stream",
          "name": "stderr",
          "text": [
            "Fetching TMDB IDs:  93%|█████████▎| 7525/8080 [12:57<00:49, 11.28it/s]"
          ]
        },
        {
          "output_type": "stream",
          "name": "stdout",
          "text": [
            "  Title mismatch for 'Britney Vs Spears'. Searched API, but no exact match. First API candidate: 'Britney vs. Spears' (ID not added).\n"
          ]
        },
        {
          "output_type": "stream",
          "name": "stderr",
          "text": [
            "Fetching TMDB IDs:  93%|█████████▎| 7543/8080 [12:58<00:45, 11.81it/s]"
          ]
        },
        {
          "output_type": "stream",
          "name": "stdout",
          "text": [
            "  Title mismatch for 'Freaks – You're One of Us'. Searched API, but no exact match. First API candidate: 'Freaks - You're One of Us' (ID not added).\n"
          ]
        },
        {
          "output_type": "stream",
          "name": "stderr",
          "text": [
            "Fetching TMDB IDs:  94%|█████████▍| 7576/8080 [13:01<00:53,  9.49it/s]"
          ]
        },
        {
          "output_type": "stream",
          "name": "stdout",
          "text": [
            "  Title mismatch for 'Forgotten We'll Be'. Searched API, but no exact match. First API candidate: 'We'll Have Already Forgotten' (ID not added).\n"
          ]
        },
        {
          "output_type": "stream",
          "name": "stderr",
          "text": [
            "Fetching TMDB IDs:  94%|█████████▍| 7607/8080 [13:03<00:39, 12.05it/s]"
          ]
        },
        {
          "output_type": "stream",
          "name": "stdout",
          "text": [
            "  Title mismatch for 'Firedrake the Silver Dragon'. Searched API, but no exact match. First API candidate: 'Dragon Rider' (ID not added).\n"
          ]
        },
        {
          "output_type": "stream",
          "name": "stderr",
          "text": [
            "Fetching TMDB IDs:  94%|█████████▍| 7615/8080 [13:04<00:46, 10.08it/s]"
          ]
        },
        {
          "output_type": "stream",
          "name": "stdout",
          "text": [
            "  Title mismatch for 'O Candidato Honesto 2'. Searched API, but no exact match. First API candidate: 'The Honest Candidate 2' (ID not added).\n",
            "  Title mismatch for 'Ilhados'. Searched API, but no exact match. First API candidate: 'Stranded' (ID not added).\n"
          ]
        },
        {
          "output_type": "stream",
          "name": "stderr",
          "text": [
            "Fetching TMDB IDs:  95%|█████████▍| 7646/8080 [13:07<00:45,  9.48it/s]"
          ]
        },
        {
          "output_type": "stream",
          "name": "stdout",
          "text": [
            "  Title mismatch for 'SAS: Rise of the Black Swan'. Searched API, but no exact match. First API candidate: 'SAS: Red Notice' (ID not added).\n"
          ]
        },
        {
          "output_type": "stream",
          "name": "stderr",
          "text": [
            "Fetching TMDB IDs:  95%|█████████▌| 7683/8080 [13:10<00:31, 12.53it/s]"
          ]
        },
        {
          "output_type": "stream",
          "name": "stdout",
          "text": [
            "  Title mismatch for 'SAS: Rise of the Black Swan'. Searched API, but no exact match. First API candidate: 'SAS: Red Notice' (ID not added).\n"
          ]
        },
        {
          "output_type": "stream",
          "name": "stderr",
          "text": [
            "Fetching TMDB IDs:  95%|█████████▌| 7699/8080 [13:12<00:41,  9.12it/s]"
          ]
        },
        {
          "output_type": "stream",
          "name": "stdout",
          "text": [
            "  Title mismatch for 'Thimmarusu'. Searched API, but no exact match. First API candidate: 'Thimmarusu: Assignment Vali' (ID not added).\n"
          ]
        },
        {
          "output_type": "stream",
          "name": "stderr",
          "text": [
            "Fetching TMDB IDs:  96%|█████████▌| 7725/8080 [13:13<00:21, 16.31it/s]"
          ]
        },
        {
          "output_type": "stream",
          "name": "stdout",
          "text": [
            "  Title mismatch for 'SAS: Rise of the Black Swan'. Searched API, but no exact match. First API candidate: 'SAS: Red Notice' (ID not added).\n"
          ]
        },
        {
          "output_type": "stream",
          "name": "stderr",
          "text": [
            "Fetching TMDB IDs:  97%|█████████▋| 7869/8080 [13:24<00:14, 14.51it/s]"
          ]
        },
        {
          "output_type": "stream",
          "name": "stdout",
          "text": [
            "  Title mismatch for 'Top Secret UFO Projects: Declassified'. Searched API, but no exact match. First API candidate: 'Top Secret UFO Projects Declassified' (ID not added).\n"
          ]
        },
        {
          "output_type": "stream",
          "name": "stderr",
          "text": [
            "Fetching TMDB IDs:  98%|█████████▊| 7878/8080 [13:24<00:13, 14.67it/s]"
          ]
        },
        {
          "output_type": "stream",
          "name": "stdout",
          "text": [
            "  Title mismatch for 'Hunter X Hunter (2011)'. Searched API, but no exact match. First API candidate: 'Hunter x Hunter' (ID not added).\n"
          ]
        },
        {
          "output_type": "stream",
          "name": "stderr",
          "text": [
            "Fetching TMDB IDs:  98%|█████████▊| 7884/8080 [13:25<00:18, 10.81it/s]"
          ]
        },
        {
          "output_type": "stream",
          "name": "stdout",
          "text": [
            "  Title mismatch for 'Fear Street Part 1: 1994'. Searched API, but no exact match. First API candidate: 'Fear Street: 1994' (ID not added).\n"
          ]
        },
        {
          "output_type": "stream",
          "name": "stderr",
          "text": [
            "Fetching TMDB IDs:  98%|█████████▊| 7886/8080 [13:25<00:18, 10.39it/s]"
          ]
        },
        {
          "output_type": "stream",
          "name": "stdout",
          "text": [
            "  Title mismatch for 'Fear Street Part 3: 1666'. Searched API, but no exact match. First API candidate: 'Fear Street: 1666' (ID not added).\n"
          ]
        },
        {
          "output_type": "stream",
          "name": "stderr",
          "text": [
            "Fetching TMDB IDs:  98%|█████████▊| 7888/8080 [13:25<00:18, 10.16it/s]"
          ]
        },
        {
          "output_type": "stream",
          "name": "stdout",
          "text": [
            "  Title mismatch for 'Fear Street Part 2: 1978'. Searched API, but no exact match. First API candidate: 'Fear Street: 1978' (ID not added).\n",
            "  Title mismatch for 'The Twilight Saga: Breaking Dawn: Part 2'. Searched API, but no exact match. First API candidate: 'The Twilight Saga: Breaking Dawn - Part 2' (ID not added).\n"
          ]
        },
        {
          "output_type": "stream",
          "name": "stderr",
          "text": [
            "Fetching TMDB IDs:  98%|█████████▊| 7898/8080 [13:26<00:13, 13.51it/s]"
          ]
        },
        {
          "output_type": "stream",
          "name": "stdout",
          "text": [
            "  Title mismatch for 'Chernobyl 1986'. Searched API, but no exact match. First API candidate: 'Chernobyl: Abyss' (ID not added).\n"
          ]
        },
        {
          "output_type": "stream",
          "name": "stderr",
          "text": [
            "Fetching TMDB IDs:  98%|█████████▊| 7924/8080 [13:27<00:07, 20.59it/s]"
          ]
        },
        {
          "output_type": "stream",
          "name": "stdout",
          "text": [
            "  Title mismatch for 'Fear Street Part 3: 1666'. Searched API, but no exact match. First API candidate: 'Fear Street: 1666' (ID not added).\n",
            "  Title mismatch for 'Fear Street Part 1: 1994'. Searched API, but no exact match. First API candidate: 'Fear Street: 1994' (ID not added).\n"
          ]
        },
        {
          "output_type": "stream",
          "name": "stderr",
          "text": [
            "Fetching TMDB IDs:  98%|█████████▊| 7929/8080 [13:28<00:09, 15.36it/s]"
          ]
        },
        {
          "output_type": "stream",
          "name": "stdout",
          "text": [
            "  Title mismatch for 'The Twilight Saga: Breaking Dawn: Part 2'. Searched API, but no exact match. First API candidate: 'The Twilight Saga: Breaking Dawn - Part 2' (ID not added).\n",
            "  Title mismatch for 'Fear Street Part 2: 1978'. Searched API, but no exact match. First API candidate: 'Fear Street: 1978' (ID not added).\n"
          ]
        },
        {
          "output_type": "stream",
          "name": "stderr",
          "text": [
            "Fetching TMDB IDs:  98%|█████████▊| 7934/8080 [13:28<00:09, 15.25it/s]"
          ]
        },
        {
          "output_type": "stream",
          "name": "stdout",
          "text": [
            "  Title mismatch for 'The Twilight Saga: Breaking Dawn: Part 1'. Searched API, but no exact match. First API candidate: 'The Twilight Saga: Breaking Dawn - Part 1' (ID not added).\n",
            "  Title mismatch for 'Chernobyl 1986'. Searched API, but no exact match. First API candidate: 'Chernobyl: Abyss' (ID not added).\n"
          ]
        },
        {
          "output_type": "stream",
          "name": "stderr",
          "text": [
            "Fetching TMDB IDs:  98%|█████████▊| 7940/8080 [13:29<00:15,  9.25it/s]"
          ]
        },
        {
          "output_type": "stream",
          "name": "stdout",
          "text": [
            "  Title mismatch for 'Tô Ryca'. Searched API, but no exact match. First API candidate: 'Tô Ryca!' (ID not added).\n"
          ]
        },
        {
          "output_type": "stream",
          "name": "stderr",
          "text": [
            "Fetching TMDB IDs:  99%|█████████▊| 7961/8080 [13:30<00:11, 10.71it/s]"
          ]
        },
        {
          "output_type": "stream",
          "name": "stdout",
          "text": [
            "  Title mismatch for 'Fear Street Part 3: 1666'. Searched API, but no exact match. First API candidate: 'Fear Street: 1666' (ID not added).\n",
            "  Title mismatch for 'Fear Street Part 2: 1978'. Searched API, but no exact match. First API candidate: 'Fear Street: 1978' (ID not added).\n"
          ]
        },
        {
          "output_type": "stream",
          "name": "stderr",
          "text": [
            "Fetching TMDB IDs:  99%|█████████▊| 7963/8080 [13:31<00:14,  8.28it/s]"
          ]
        },
        {
          "output_type": "stream",
          "name": "stdout",
          "text": [
            "  Title mismatch for 'Fear Street Part 1: 1994'. Searched API, but no exact match. First API candidate: 'Fear Street: 1994' (ID not added).\n"
          ]
        },
        {
          "output_type": "stream",
          "name": "stderr",
          "text": [
            "Fetching TMDB IDs:  99%|█████████▉| 7979/8080 [13:33<00:17,  5.80it/s]"
          ]
        },
        {
          "output_type": "stream",
          "name": "stdout",
          "text": [
            "  Title mismatch for 'Tô Ryca'. Searched API, but no exact match. First API candidate: 'Tô Ryca!' (ID not added).\n"
          ]
        },
        {
          "output_type": "stream",
          "name": "stderr",
          "text": [
            "Fetching TMDB IDs:  99%|█████████▉| 8002/8080 [13:37<00:13,  5.96it/s]"
          ]
        },
        {
          "output_type": "stream",
          "name": "stdout",
          "text": [
            "  Title mismatch for 'Fear Street Part 1: 1994'. Searched API, but no exact match. First API candidate: 'Fear Street: 1994' (ID not added).\n",
            "  Title mismatch for 'Fear Street Part 2: 1978'. Searched API, but no exact match. First API candidate: 'Fear Street: 1978' (ID not added).\n"
          ]
        },
        {
          "output_type": "stream",
          "name": "stderr",
          "text": [
            "Fetching TMDB IDs:  99%|█████████▉| 8020/8080 [13:40<00:10,  5.75it/s]"
          ]
        },
        {
          "output_type": "stream",
          "name": "stdout",
          "text": [
            "  Title mismatch for 'O Candidato Honesto'. Searched API, but no exact match. First API candidate: 'The Honest Candidate' (ID not added).\n"
          ]
        },
        {
          "output_type": "stream",
          "name": "stderr",
          "text": [
            "Fetching TMDB IDs:  99%|█████████▉| 8026/8080 [13:41<00:08,  6.34it/s]"
          ]
        },
        {
          "output_type": "stream",
          "name": "stdout",
          "text": [
            "  Title mismatch for 'Pokémon Journeys: The Series'. Searched API, but no exact match. First API candidate: 'Pokémon' (ID not added).\n"
          ]
        },
        {
          "output_type": "stream",
          "name": "stderr",
          "text": [
            "Fetching TMDB IDs: 100%|█████████▉| 8043/8080 [13:44<00:05,  6.90it/s]"
          ]
        },
        {
          "output_type": "stream",
          "name": "stdout",
          "text": [
            "  Title mismatch for 'Fear Street Part 1: 1994'. Searched API, but no exact match. First API candidate: 'Fear Street: 1994' (ID not added).\n"
          ]
        },
        {
          "output_type": "stream",
          "name": "stderr",
          "text": [
            "Fetching TMDB IDs: 100%|█████████▉| 8059/8080 [13:47<00:03,  5.83it/s]"
          ]
        },
        {
          "output_type": "stream",
          "name": "stdout",
          "text": [
            "  Title mismatch for 'Rurouni Kenshin: Origins'. Searched API, but no exact match. First API candidate: 'Rurouni Kenshin Part I: Origins' (ID not added).\n"
          ]
        },
        {
          "output_type": "stream",
          "name": "stderr",
          "text": [
            "Fetching TMDB IDs: 100%|█████████▉| 8068/8080 [13:48<00:02,  5.90it/s]"
          ]
        },
        {
          "output_type": "stream",
          "name": "stdout",
          "text": [
            "  Title mismatch for 'Pokémon Journeys: The Series'. Searched API, but no exact match. First API candidate: 'Pokémon' (ID not added).\n"
          ]
        },
        {
          "output_type": "stream",
          "name": "stderr",
          "text": [
            "Fetching TMDB IDs: 100%|██████████| 8080/8080 [13:50<00:00,  9.73it/s]"
          ]
        },
        {
          "output_type": "stream",
          "name": "stdout",
          "text": [
            "\n",
            "Final DataFrame with 'id' column:\n",
            "            week          category                  show_title  \\\n",
            "0     2025-05-11   Films (English)                      Nonnas   \n",
            "1     2025-05-11   Films (English)     Inside Man: Most Wanted   \n",
            "2     2025-05-11   Films (English)  A Deadly American Marriage   \n",
            "3     2025-05-11   Films (English)                       Havoc   \n",
            "4     2025-05-11   Films (English)                    Twilight   \n",
            "...          ...               ...                         ...   \n",
            "8075  2021-07-04  TV (Non-English)                       Elite   \n",
            "8076  2021-07-04  TV (Non-English)                       Elite   \n",
            "8077  2021-07-04  TV (Non-English)                       Elite   \n",
            "8078  2021-07-04  TV (Non-English)                       Katla   \n",
            "8079  2021-07-04  TV (Non-English)          Record of Ragnarok   \n",
            "\n",
            "      weekly_hours_viewed  runtime  weekly_views  cumulative_weeks_in_top_10  \\\n",
            "0                29000000   1.9000    15300000.0                           1   \n",
            "1                21800000   1.7667    12300000.0                           1   \n",
            "2                16900000   1.7167     9800000.0                           1   \n",
            "3                16300000   1.7833     9100000.0                           3   \n",
            "4                 8700000   2.0333     4300000.0                           4   \n",
            "...                   ...      ...           ...                         ...   \n",
            "8075             10530000      NaN           NaN                           1   \n",
            "8076             10200000      NaN           NaN                           1   \n",
            "8077             10140000      NaN           NaN                           1   \n",
            "8078              9190000      NaN           NaN                           1   \n",
            "8079              9140000      NaN           NaN                           1   \n",
            "\n",
            "           id  \n",
            "0     1151039  \n",
            "1      619278  \n",
            "2     1466938  \n",
            "3      668489  \n",
            "4        8966  \n",
            "...       ...  \n",
            "8075    76669  \n",
            "8076    76669  \n",
            "8077    76669  \n",
            "8078   104157  \n",
            "8079   114868  \n",
            "\n",
            "[8080 rows x 8 columns]\n",
            "\n",
            "ID column data type:\n",
            "object\n",
            "\n",
            "Value counts for 'id' column (including NAs):\n",
            "id\n",
            "<NA>       437\n",
            "79696       51\n",
            "66732       50\n",
            "91239       49\n",
            "93405       39\n",
            "          ... \n",
            "1259024      1\n",
            "46375        1\n",
            "62137        1\n",
            "34813        1\n",
            "1466938      1\n",
            "Name: count, Length: 2392, dtype: int64\n"
          ]
        },
        {
          "output_type": "stream",
          "name": "stderr",
          "text": [
            "\n"
          ]
        }
      ]
    },
    {
      "cell_type": "code",
      "source": [
        "# id가 매칭되지 않은 작품 확인\n",
        "print(\"\\nValue counts for 'id' column (including NAs):\")\n",
        "print(df['id'].value_counts(dropna=False))\n",
        "df[df['id'].isna()].sort_values(by='cumulative_weeks_in_top_10', ascending=False)"
      ],
      "metadata": {
        "id": "YeqkCg2QvKxV"
      },
      "execution_count": null,
      "outputs": []
    },
    {
      "cell_type": "code",
      "source": [
        "# 매칭되지 않은 id 수동 설정\n",
        "df.loc[df['show_title'] == 'Dr. Seuss\\' The Grinch', 'id'] = 360920"
      ],
      "metadata": {
        "id": "JumthM13yzr2"
      },
      "execution_count": null,
      "outputs": []
    },
    {
      "cell_type": "code",
      "source": [
        "# csv 파일 저장\n",
        "df.to_csv('top-10_with_id.csv', index=False)"
      ],
      "metadata": {
        "id": "aRTEWAiR2NCp"
      },
      "execution_count": null,
      "outputs": []
    },
    {
      "cell_type": "code",
      "source": [
        "# csv 파일 불러오기\n",
        "csv_path = \"top-10_with_id.csv\"\n",
        "\n",
        "df = pd.read_csv(csv_path)\n",
        "df['weekly_views'] = df['weekly_views'].astype('Int64')\n",
        "df['id'] = df['id'].astype('Int64')\n",
        "\n",
        "df = df.dropna(subset=['id'])\n",
        "\n",
        "df"
      ],
      "metadata": {
        "colab": {
          "base_uri": "https://localhost:8080/",
          "height": 597
        },
        "id": "fKw5dq-opbCh",
        "outputId": "8fc10112-1ee2-4b1a-bbaf-03234bd0d0fd"
      },
      "execution_count": null,
      "outputs": [
        {
          "output_type": "execute_result",
          "data": {
            "text/plain": [
              "            week          category                  show_title  \\\n",
              "0     2025-05-11   Films (English)                      Nonnas   \n",
              "1     2025-05-11   Films (English)     Inside Man: Most Wanted   \n",
              "2     2025-05-11   Films (English)  A Deadly American Marriage   \n",
              "3     2025-05-11   Films (English)                       Havoc   \n",
              "4     2025-05-11   Films (English)                    Twilight   \n",
              "...          ...               ...                         ...   \n",
              "7677  2021-07-04  TV (Non-English)                       Elite   \n",
              "7678  2021-07-04  TV (Non-English)                       Elite   \n",
              "7679  2021-07-04  TV (Non-English)                       Elite   \n",
              "7680  2021-07-04  TV (Non-English)                       Katla   \n",
              "7681  2021-07-04  TV (Non-English)          Record of Ragnarok   \n",
              "\n",
              "      weekly_hours_viewed  runtime  weekly_views  cumulative_weeks_in_top_10  \\\n",
              "0                29000000   1.9000      15300000                           1   \n",
              "1                21800000   1.7667      12300000                           1   \n",
              "2                16900000   1.7167       9800000                           1   \n",
              "3                16300000   1.7833       9100000                           3   \n",
              "4                 8700000   2.0333       4300000                           4   \n",
              "...                   ...      ...           ...                         ...   \n",
              "7677             10530000      NaN          <NA>                           1   \n",
              "7678             10200000      NaN          <NA>                           1   \n",
              "7679             10140000      NaN          <NA>                           1   \n",
              "7680              9190000      NaN          <NA>                           1   \n",
              "7681              9140000      NaN          <NA>                           1   \n",
              "\n",
              "           id  \n",
              "0     1151039  \n",
              "1      619278  \n",
              "2     1466938  \n",
              "3      668489  \n",
              "4        8966  \n",
              "...       ...  \n",
              "7677    76669  \n",
              "7678    76669  \n",
              "7679    76669  \n",
              "7680   104157  \n",
              "7681   114868  \n",
              "\n",
              "[7682 rows x 8 columns]"
            ],
            "text/html": [
              "\n",
              "  <div id=\"df-e216e727-4fe8-4184-a95e-357ebee4b670\" class=\"colab-df-container\">\n",
              "    <div>\n",
              "<style scoped>\n",
              "    .dataframe tbody tr th:only-of-type {\n",
              "        vertical-align: middle;\n",
              "    }\n",
              "\n",
              "    .dataframe tbody tr th {\n",
              "        vertical-align: top;\n",
              "    }\n",
              "\n",
              "    .dataframe thead th {\n",
              "        text-align: right;\n",
              "    }\n",
              "</style>\n",
              "<table border=\"1\" class=\"dataframe\">\n",
              "  <thead>\n",
              "    <tr style=\"text-align: right;\">\n",
              "      <th></th>\n",
              "      <th>week</th>\n",
              "      <th>category</th>\n",
              "      <th>show_title</th>\n",
              "      <th>weekly_hours_viewed</th>\n",
              "      <th>runtime</th>\n",
              "      <th>weekly_views</th>\n",
              "      <th>cumulative_weeks_in_top_10</th>\n",
              "      <th>id</th>\n",
              "    </tr>\n",
              "  </thead>\n",
              "  <tbody>\n",
              "    <tr>\n",
              "      <th>0</th>\n",
              "      <td>2025-05-11</td>\n",
              "      <td>Films (English)</td>\n",
              "      <td>Nonnas</td>\n",
              "      <td>29000000</td>\n",
              "      <td>1.9000</td>\n",
              "      <td>15300000</td>\n",
              "      <td>1</td>\n",
              "      <td>1151039</td>\n",
              "    </tr>\n",
              "    <tr>\n",
              "      <th>1</th>\n",
              "      <td>2025-05-11</td>\n",
              "      <td>Films (English)</td>\n",
              "      <td>Inside Man: Most Wanted</td>\n",
              "      <td>21800000</td>\n",
              "      <td>1.7667</td>\n",
              "      <td>12300000</td>\n",
              "      <td>1</td>\n",
              "      <td>619278</td>\n",
              "    </tr>\n",
              "    <tr>\n",
              "      <th>2</th>\n",
              "      <td>2025-05-11</td>\n",
              "      <td>Films (English)</td>\n",
              "      <td>A Deadly American Marriage</td>\n",
              "      <td>16900000</td>\n",
              "      <td>1.7167</td>\n",
              "      <td>9800000</td>\n",
              "      <td>1</td>\n",
              "      <td>1466938</td>\n",
              "    </tr>\n",
              "    <tr>\n",
              "      <th>3</th>\n",
              "      <td>2025-05-11</td>\n",
              "      <td>Films (English)</td>\n",
              "      <td>Havoc</td>\n",
              "      <td>16300000</td>\n",
              "      <td>1.7833</td>\n",
              "      <td>9100000</td>\n",
              "      <td>3</td>\n",
              "      <td>668489</td>\n",
              "    </tr>\n",
              "    <tr>\n",
              "      <th>4</th>\n",
              "      <td>2025-05-11</td>\n",
              "      <td>Films (English)</td>\n",
              "      <td>Twilight</td>\n",
              "      <td>8700000</td>\n",
              "      <td>2.0333</td>\n",
              "      <td>4300000</td>\n",
              "      <td>4</td>\n",
              "      <td>8966</td>\n",
              "    </tr>\n",
              "    <tr>\n",
              "      <th>...</th>\n",
              "      <td>...</td>\n",
              "      <td>...</td>\n",
              "      <td>...</td>\n",
              "      <td>...</td>\n",
              "      <td>...</td>\n",
              "      <td>...</td>\n",
              "      <td>...</td>\n",
              "      <td>...</td>\n",
              "    </tr>\n",
              "    <tr>\n",
              "      <th>7677</th>\n",
              "      <td>2021-07-04</td>\n",
              "      <td>TV (Non-English)</td>\n",
              "      <td>Elite</td>\n",
              "      <td>10530000</td>\n",
              "      <td>NaN</td>\n",
              "      <td>&lt;NA&gt;</td>\n",
              "      <td>1</td>\n",
              "      <td>76669</td>\n",
              "    </tr>\n",
              "    <tr>\n",
              "      <th>7678</th>\n",
              "      <td>2021-07-04</td>\n",
              "      <td>TV (Non-English)</td>\n",
              "      <td>Elite</td>\n",
              "      <td>10200000</td>\n",
              "      <td>NaN</td>\n",
              "      <td>&lt;NA&gt;</td>\n",
              "      <td>1</td>\n",
              "      <td>76669</td>\n",
              "    </tr>\n",
              "    <tr>\n",
              "      <th>7679</th>\n",
              "      <td>2021-07-04</td>\n",
              "      <td>TV (Non-English)</td>\n",
              "      <td>Elite</td>\n",
              "      <td>10140000</td>\n",
              "      <td>NaN</td>\n",
              "      <td>&lt;NA&gt;</td>\n",
              "      <td>1</td>\n",
              "      <td>76669</td>\n",
              "    </tr>\n",
              "    <tr>\n",
              "      <th>7680</th>\n",
              "      <td>2021-07-04</td>\n",
              "      <td>TV (Non-English)</td>\n",
              "      <td>Katla</td>\n",
              "      <td>9190000</td>\n",
              "      <td>NaN</td>\n",
              "      <td>&lt;NA&gt;</td>\n",
              "      <td>1</td>\n",
              "      <td>104157</td>\n",
              "    </tr>\n",
              "    <tr>\n",
              "      <th>7681</th>\n",
              "      <td>2021-07-04</td>\n",
              "      <td>TV (Non-English)</td>\n",
              "      <td>Record of Ragnarok</td>\n",
              "      <td>9140000</td>\n",
              "      <td>NaN</td>\n",
              "      <td>&lt;NA&gt;</td>\n",
              "      <td>1</td>\n",
              "      <td>114868</td>\n",
              "    </tr>\n",
              "  </tbody>\n",
              "</table>\n",
              "<p>7682 rows × 8 columns</p>\n",
              "</div>\n",
              "    <div class=\"colab-df-buttons\">\n",
              "\n",
              "  <div class=\"colab-df-container\">\n",
              "    <button class=\"colab-df-convert\" onclick=\"convertToInteractive('df-e216e727-4fe8-4184-a95e-357ebee4b670')\"\n",
              "            title=\"Convert this dataframe to an interactive table.\"\n",
              "            style=\"display:none;\">\n",
              "\n",
              "  <svg xmlns=\"http://www.w3.org/2000/svg\" height=\"24px\" viewBox=\"0 -960 960 960\">\n",
              "    <path d=\"M120-120v-720h720v720H120Zm60-500h600v-160H180v160Zm220 220h160v-160H400v160Zm0 220h160v-160H400v160ZM180-400h160v-160H180v160Zm440 0h160v-160H620v160ZM180-180h160v-160H180v160Zm440 0h160v-160H620v160Z\"/>\n",
              "  </svg>\n",
              "    </button>\n",
              "\n",
              "  <style>\n",
              "    .colab-df-container {\n",
              "      display:flex;\n",
              "      gap: 12px;\n",
              "    }\n",
              "\n",
              "    .colab-df-convert {\n",
              "      background-color: #E8F0FE;\n",
              "      border: none;\n",
              "      border-radius: 50%;\n",
              "      cursor: pointer;\n",
              "      display: none;\n",
              "      fill: #1967D2;\n",
              "      height: 32px;\n",
              "      padding: 0 0 0 0;\n",
              "      width: 32px;\n",
              "    }\n",
              "\n",
              "    .colab-df-convert:hover {\n",
              "      background-color: #E2EBFA;\n",
              "      box-shadow: 0px 1px 2px rgba(60, 64, 67, 0.3), 0px 1px 3px 1px rgba(60, 64, 67, 0.15);\n",
              "      fill: #174EA6;\n",
              "    }\n",
              "\n",
              "    .colab-df-buttons div {\n",
              "      margin-bottom: 4px;\n",
              "    }\n",
              "\n",
              "    [theme=dark] .colab-df-convert {\n",
              "      background-color: #3B4455;\n",
              "      fill: #D2E3FC;\n",
              "    }\n",
              "\n",
              "    [theme=dark] .colab-df-convert:hover {\n",
              "      background-color: #434B5C;\n",
              "      box-shadow: 0px 1px 3px 1px rgba(0, 0, 0, 0.15);\n",
              "      filter: drop-shadow(0px 1px 2px rgba(0, 0, 0, 0.3));\n",
              "      fill: #FFFFFF;\n",
              "    }\n",
              "  </style>\n",
              "\n",
              "    <script>\n",
              "      const buttonEl =\n",
              "        document.querySelector('#df-e216e727-4fe8-4184-a95e-357ebee4b670 button.colab-df-convert');\n",
              "      buttonEl.style.display =\n",
              "        google.colab.kernel.accessAllowed ? 'block' : 'none';\n",
              "\n",
              "      async function convertToInteractive(key) {\n",
              "        const element = document.querySelector('#df-e216e727-4fe8-4184-a95e-357ebee4b670');\n",
              "        const dataTable =\n",
              "          await google.colab.kernel.invokeFunction('convertToInteractive',\n",
              "                                                    [key], {});\n",
              "        if (!dataTable) return;\n",
              "\n",
              "        const docLinkHtml = 'Like what you see? Visit the ' +\n",
              "          '<a target=\"_blank\" href=https://colab.research.google.com/notebooks/data_table.ipynb>data table notebook</a>'\n",
              "          + ' to learn more about interactive tables.';\n",
              "        element.innerHTML = '';\n",
              "        dataTable['output_type'] = 'display_data';\n",
              "        await google.colab.output.renderOutput(dataTable, element);\n",
              "        const docLink = document.createElement('div');\n",
              "        docLink.innerHTML = docLinkHtml;\n",
              "        element.appendChild(docLink);\n",
              "      }\n",
              "    </script>\n",
              "  </div>\n",
              "\n",
              "\n",
              "    <div id=\"df-d26d847a-fdc9-42e5-9d42-fd073af6c121\">\n",
              "      <button class=\"colab-df-quickchart\" onclick=\"quickchart('df-d26d847a-fdc9-42e5-9d42-fd073af6c121')\"\n",
              "                title=\"Suggest charts\"\n",
              "                style=\"display:none;\">\n",
              "\n",
              "<svg xmlns=\"http://www.w3.org/2000/svg\" height=\"24px\"viewBox=\"0 0 24 24\"\n",
              "     width=\"24px\">\n",
              "    <g>\n",
              "        <path d=\"M19 3H5c-1.1 0-2 .9-2 2v14c0 1.1.9 2 2 2h14c1.1 0 2-.9 2-2V5c0-1.1-.9-2-2-2zM9 17H7v-7h2v7zm4 0h-2V7h2v10zm4 0h-2v-4h2v4z\"/>\n",
              "    </g>\n",
              "</svg>\n",
              "      </button>\n",
              "\n",
              "<style>\n",
              "  .colab-df-quickchart {\n",
              "      --bg-color: #E8F0FE;\n",
              "      --fill-color: #1967D2;\n",
              "      --hover-bg-color: #E2EBFA;\n",
              "      --hover-fill-color: #174EA6;\n",
              "      --disabled-fill-color: #AAA;\n",
              "      --disabled-bg-color: #DDD;\n",
              "  }\n",
              "\n",
              "  [theme=dark] .colab-df-quickchart {\n",
              "      --bg-color: #3B4455;\n",
              "      --fill-color: #D2E3FC;\n",
              "      --hover-bg-color: #434B5C;\n",
              "      --hover-fill-color: #FFFFFF;\n",
              "      --disabled-bg-color: #3B4455;\n",
              "      --disabled-fill-color: #666;\n",
              "  }\n",
              "\n",
              "  .colab-df-quickchart {\n",
              "    background-color: var(--bg-color);\n",
              "    border: none;\n",
              "    border-radius: 50%;\n",
              "    cursor: pointer;\n",
              "    display: none;\n",
              "    fill: var(--fill-color);\n",
              "    height: 32px;\n",
              "    padding: 0;\n",
              "    width: 32px;\n",
              "  }\n",
              "\n",
              "  .colab-df-quickchart:hover {\n",
              "    background-color: var(--hover-bg-color);\n",
              "    box-shadow: 0 1px 2px rgba(60, 64, 67, 0.3), 0 1px 3px 1px rgba(60, 64, 67, 0.15);\n",
              "    fill: var(--button-hover-fill-color);\n",
              "  }\n",
              "\n",
              "  .colab-df-quickchart-complete:disabled,\n",
              "  .colab-df-quickchart-complete:disabled:hover {\n",
              "    background-color: var(--disabled-bg-color);\n",
              "    fill: var(--disabled-fill-color);\n",
              "    box-shadow: none;\n",
              "  }\n",
              "\n",
              "  .colab-df-spinner {\n",
              "    border: 2px solid var(--fill-color);\n",
              "    border-color: transparent;\n",
              "    border-bottom-color: var(--fill-color);\n",
              "    animation:\n",
              "      spin 1s steps(1) infinite;\n",
              "  }\n",
              "\n",
              "  @keyframes spin {\n",
              "    0% {\n",
              "      border-color: transparent;\n",
              "      border-bottom-color: var(--fill-color);\n",
              "      border-left-color: var(--fill-color);\n",
              "    }\n",
              "    20% {\n",
              "      border-color: transparent;\n",
              "      border-left-color: var(--fill-color);\n",
              "      border-top-color: var(--fill-color);\n",
              "    }\n",
              "    30% {\n",
              "      border-color: transparent;\n",
              "      border-left-color: var(--fill-color);\n",
              "      border-top-color: var(--fill-color);\n",
              "      border-right-color: var(--fill-color);\n",
              "    }\n",
              "    40% {\n",
              "      border-color: transparent;\n",
              "      border-right-color: var(--fill-color);\n",
              "      border-top-color: var(--fill-color);\n",
              "    }\n",
              "    60% {\n",
              "      border-color: transparent;\n",
              "      border-right-color: var(--fill-color);\n",
              "    }\n",
              "    80% {\n",
              "      border-color: transparent;\n",
              "      border-right-color: var(--fill-color);\n",
              "      border-bottom-color: var(--fill-color);\n",
              "    }\n",
              "    90% {\n",
              "      border-color: transparent;\n",
              "      border-bottom-color: var(--fill-color);\n",
              "    }\n",
              "  }\n",
              "</style>\n",
              "\n",
              "      <script>\n",
              "        async function quickchart(key) {\n",
              "          const quickchartButtonEl =\n",
              "            document.querySelector('#' + key + ' button');\n",
              "          quickchartButtonEl.disabled = true;  // To prevent multiple clicks.\n",
              "          quickchartButtonEl.classList.add('colab-df-spinner');\n",
              "          try {\n",
              "            const charts = await google.colab.kernel.invokeFunction(\n",
              "                'suggestCharts', [key], {});\n",
              "          } catch (error) {\n",
              "            console.error('Error during call to suggestCharts:', error);\n",
              "          }\n",
              "          quickchartButtonEl.classList.remove('colab-df-spinner');\n",
              "          quickchartButtonEl.classList.add('colab-df-quickchart-complete');\n",
              "        }\n",
              "        (() => {\n",
              "          let quickchartButtonEl =\n",
              "            document.querySelector('#df-d26d847a-fdc9-42e5-9d42-fd073af6c121 button');\n",
              "          quickchartButtonEl.style.display =\n",
              "            google.colab.kernel.accessAllowed ? 'block' : 'none';\n",
              "        })();\n",
              "      </script>\n",
              "    </div>\n",
              "\n",
              "  <div id=\"id_b434b46e-6917-47fd-855e-04522d07c2b2\">\n",
              "    <style>\n",
              "      .colab-df-generate {\n",
              "        background-color: #E8F0FE;\n",
              "        border: none;\n",
              "        border-radius: 50%;\n",
              "        cursor: pointer;\n",
              "        display: none;\n",
              "        fill: #1967D2;\n",
              "        height: 32px;\n",
              "        padding: 0 0 0 0;\n",
              "        width: 32px;\n",
              "      }\n",
              "\n",
              "      .colab-df-generate:hover {\n",
              "        background-color: #E2EBFA;\n",
              "        box-shadow: 0px 1px 2px rgba(60, 64, 67, 0.3), 0px 1px 3px 1px rgba(60, 64, 67, 0.15);\n",
              "        fill: #174EA6;\n",
              "      }\n",
              "\n",
              "      [theme=dark] .colab-df-generate {\n",
              "        background-color: #3B4455;\n",
              "        fill: #D2E3FC;\n",
              "      }\n",
              "\n",
              "      [theme=dark] .colab-df-generate:hover {\n",
              "        background-color: #434B5C;\n",
              "        box-shadow: 0px 1px 3px 1px rgba(0, 0, 0, 0.15);\n",
              "        filter: drop-shadow(0px 1px 2px rgba(0, 0, 0, 0.3));\n",
              "        fill: #FFFFFF;\n",
              "      }\n",
              "    </style>\n",
              "    <button class=\"colab-df-generate\" onclick=\"generateWithVariable('df')\"\n",
              "            title=\"Generate code using this dataframe.\"\n",
              "            style=\"display:none;\">\n",
              "\n",
              "  <svg xmlns=\"http://www.w3.org/2000/svg\" height=\"24px\"viewBox=\"0 0 24 24\"\n",
              "       width=\"24px\">\n",
              "    <path d=\"M7,19H8.4L18.45,9,17,7.55,7,17.6ZM5,21V16.75L18.45,3.32a2,2,0,0,1,2.83,0l1.4,1.43a1.91,1.91,0,0,1,.58,1.4,1.91,1.91,0,0,1-.58,1.4L9.25,21ZM18.45,9,17,7.55Zm-12,3A5.31,5.31,0,0,0,4.9,8.1,5.31,5.31,0,0,0,1,6.5,5.31,5.31,0,0,0,4.9,4.9,5.31,5.31,0,0,0,6.5,1,5.31,5.31,0,0,0,8.1,4.9,5.31,5.31,0,0,0,12,6.5,5.46,5.46,0,0,0,6.5,12Z\"/>\n",
              "  </svg>\n",
              "    </button>\n",
              "    <script>\n",
              "      (() => {\n",
              "      const buttonEl =\n",
              "        document.querySelector('#id_b434b46e-6917-47fd-855e-04522d07c2b2 button.colab-df-generate');\n",
              "      buttonEl.style.display =\n",
              "        google.colab.kernel.accessAllowed ? 'block' : 'none';\n",
              "\n",
              "      buttonEl.onclick = () => {\n",
              "        google.colab.notebook.generateWithVariable('df');\n",
              "      }\n",
              "      })();\n",
              "    </script>\n",
              "  </div>\n",
              "\n",
              "    </div>\n",
              "  </div>\n"
            ],
            "application/vnd.google.colaboratory.intrinsic+json": {
              "type": "dataframe",
              "variable_name": "df",
              "summary": "{\n  \"name\": \"df\",\n  \"rows\": 7682,\n  \"fields\": [\n    {\n      \"column\": \"week\",\n      \"properties\": {\n        \"dtype\": \"object\",\n        \"num_unique_values\": 202,\n        \"samples\": [\n          \"2023-07-16\",\n          \"2025-01-26\",\n          \"2024-10-13\"\n        ],\n        \"semantic_type\": \"\",\n        \"description\": \"\"\n      }\n    },\n    {\n      \"column\": \"category\",\n      \"properties\": {\n        \"dtype\": \"category\",\n        \"num_unique_values\": 4,\n        \"samples\": [\n          \"Films (Non-English)\",\n          \"TV (Non-English)\",\n          \"Films (English)\"\n        ],\n        \"semantic_type\": \"\",\n        \"description\": \"\"\n      }\n    },\n    {\n      \"column\": \"show_title\",\n      \"properties\": {\n        \"dtype\": \"category\",\n        \"num_unique_values\": 2393,\n        \"samples\": [\n          \"Unhinged\",\n          \"Love Never Lies: Poland\",\n          \"Vaathi\"\n        ],\n        \"semantic_type\": \"\",\n        \"description\": \"\"\n      }\n    },\n    {\n      \"column\": \"weekly_hours_viewed\",\n      \"properties\": {\n        \"dtype\": \"number\",\n        \"std\": 25562583,\n        \"min\": 700000,\n        \"max\": 571760000,\n        \"num_unique_values\": 2814,\n        \"samples\": [\n          13200000,\n          4790000,\n          15550000\n        ],\n        \"semantic_type\": \"\",\n        \"description\": \"\"\n      }\n    },\n    {\n      \"column\": \"runtime\",\n      \"properties\": {\n        \"dtype\": \"number\",\n        \"std\": 3.1430714844710543,\n        \"min\": 0.0,\n        \"max\": 47.5833,\n        \"num_unique_values\": 469,\n        \"samples\": [\n          1.6,\n          5.35,\n          6.0167\n        ],\n        \"semantic_type\": \"\",\n        \"description\": \"\"\n      }\n    },\n    {\n      \"column\": \"weekly_views\",\n      \"properties\": {\n        \"dtype\": \"Int64\",\n        \"num_unique_values\": 263,\n        \"samples\": [\n          11300000,\n          5600000,\n          28600000\n        ],\n        \"semantic_type\": \"\",\n        \"description\": \"\"\n      }\n    },\n    {\n      \"column\": \"cumulative_weeks_in_top_10\",\n      \"properties\": {\n        \"dtype\": \"number\",\n        \"std\": 3,\n        \"min\": 1,\n        \"max\": 30,\n        \"num_unique_values\": 30,\n        \"samples\": [\n          23,\n          13,\n          27\n        ],\n        \"semantic_type\": \"\",\n        \"description\": \"\"\n      }\n    },\n    {\n      \"column\": \"id\",\n      \"properties\": {\n        \"dtype\": \"Int64\",\n        \"num_unique_values\": 2397,\n        \"samples\": [\n          625568,\n          217309,\n          1074536\n        ],\n        \"semantic_type\": \"\",\n        \"description\": \"\"\n      }\n    }\n  ]\n}"
            }
          },
          "metadata": {},
          "execution_count": 26
        }
      ]
    },
    {
      "cell_type": "markdown",
      "source": [
        "# 3. 작품 id를 이용해 tmdb에서 장르와 키워드 불러오기"
      ],
      "metadata": {
        "id": "Ml0SgCHzhaRS"
      }
    },
    {
      "cell_type": "markdown",
      "source": [
        "## 3.1. 장르 불러오기"
      ],
      "metadata": {
        "id": "pWMmVP2NhjrB"
      }
    },
    {
      "cell_type": "code",
      "source": [
        "import pandas as pd\n",
        "import requests\n",
        "from tqdm import tqdm\n",
        "import time\n",
        "from dotenv import load_dotenv\n",
        "\n",
        "# .env 파일에서 api키 받아오기\n",
        "load_dotenv()\n",
        "API_KEY = os.getenv('API_KEY')\n",
        "\n",
        "print(f\"API Key loaded: {API_KEY[:5]}...\" if API_KEY else \"No API key found\")\n",
        "\n",
        "\n",
        "if 'df' not in locals() or not isinstance(df, pd.DataFrame):\n",
        "    print(\"!!! 'df' DataFrame이 정의되지 않았습니다. 스크립트 상단에서 로드해주세요. !!!\")\n",
        "    exit()\n",
        "\n",
        "\n",
        "if 'genres' not in df.columns:\n",
        "    print(\"Initializing 'genres' column.\")\n",
        "    df['genres'] = pd.Series([None for _ in range(len(df))], index=df.index, dtype=object)\n",
        "    for i in df.index:\n",
        "        df.at[i, 'genres'] = []\n",
        "else:\n",
        "    print(\"Re-initializing existing 'genres' column.\")\n",
        "\n",
        "    for i in df.index:\n",
        "        df.at[i, 'genres'] = []\n",
        "\n",
        "\n",
        "print(\"\\n--- DEBUGGING INFORMATION (AFTER 'genres' INIT with .at) ---\")\n",
        "if 'genres' in df.columns:\n",
        "    print(f\"df['genres'].dtype: {df['genres'].dtype}\")\n",
        "    print(f\"First 3 values of df['genres']:\\n{df['genres'].head(3).tolist()}\")\n",
        "    try:\n",
        "        if len(df) > 0:\n",
        "            temp_list = [\"Test Assignment\"]\n",
        "            df.at[df.index[0], 'genres'] = temp_list\n",
        "            print(f\"Test assignment to df.at[df.index[0], 'genres'] successful. Value: {df.at[df.index[0], 'genres']}\")\n",
        "            df.at[df.index[0], 'genres'] = []\n",
        "            print(f\"Test reset to df.at[df.index[0], 'genres'] with [] successful. Value: {df.at[df.index[0], 'genres']}\")\n",
        "        else:\n",
        "            print(\"DataFrame is empty, skipping test assignment.\")\n",
        "    except Exception as e:\n",
        "        print(f\"!!! ERROR during test assignment to df.at['genres']: {e}\")\n",
        "else:\n",
        "    print(\"'genres' column not found after initialization attempt.\")\n",
        "print(\"-----------------------------------------------------\")\n",
        "\n",
        "\n",
        "headers = {\n",
        "    \"accept\": \"application/json\",\n",
        "    \"Authorization\": f\"Bearer {API_KEY}\"\n",
        "}\n",
        "\n",
        "print(\"\\nStarting API calls...\\n\")\n",
        "\n",
        "for index, row in tqdm(df.iterrows(), total=df.shape[0], desc=\"Fetching TMDB Genres\"):\n",
        "    tmdb_id_from_df = None\n",
        "    try:\n",
        "        tmdb_id_from_df = int(row['id'])\n",
        "    except (ValueError, TypeError, KeyError) as e:\n",
        "        tqdm.write(f\"Skipping row {index} (Original ID: {row.get('id', 'N/A')}): Invalid or missing TMDB ID. Error: {e}\")\n",
        "        try:\n",
        "            df.at[index, 'genres'] = [\"Error: Invalid TMDB ID in source\"]\n",
        "        except Exception as assign_e:\n",
        "            print(f\"!!!!! CRITICAL ERROR during assignment in (ValueError/TypeError/KeyError) except block for index {index}: {assign_e}\")\n",
        "        continue\n",
        "\n",
        "    category = row.get('category')\n",
        "    url = None\n",
        "\n",
        "    if category == \"Films (English)\" or category == \"Films (Non-English)\":\n",
        "        url = f\"https://api.themoviedb.org/3/movie/{tmdb_id_from_df}?language=en-US\"\n",
        "    elif category == \"TV (English)\" or category == \"TV (Non-English)\":\n",
        "        url = f\"https://api.themoviedb.org/3/tv/{tmdb_id_from_df}?language=en-US\"\n",
        "    else:\n",
        "        tqdm.write(f\"카테고리 오류. TMDB ID: {tmdb_id_from_df}, Category: {category}\")\n",
        "        try:\n",
        "            df.at[index, 'genres'] = [f\"Error: Invalid Category '{category}'\"]\n",
        "        except Exception as assign_e:\n",
        "            print(f\"!!!!! CRITICAL ERROR during assignment in category 'else' block for index {index}: {assign_e}\")\n",
        "        continue\n",
        "\n",
        "    if url:\n",
        "        response_text_snippet = \"Response not captured yet\"\n",
        "        try:\n",
        "            response = requests.get(url, headers=headers)\n",
        "            response_text_snippet = response.text[:200] if response and hasattr(response, 'text') else \"Response has no text or is None\"\n",
        "            response.raise_for_status()\n",
        "            data = response.json()\n",
        "\n",
        "            genres_data_list = data.get('genres', [])\n",
        "\n",
        "            if genres_data_list:\n",
        "                genre_names = [genre_info['name'] for genre_info in genres_data_list if 'name' in genre_info]\n",
        "                df.at[index, 'genres'] = genre_names\n",
        "            else:\n",
        "                df.at[index, 'genres'] = []\n",
        "\n",
        "            # time.sleep(0.05)\n",
        "\n",
        "        except requests.exceptions.HTTPError as e:\n",
        "            error_msg_list = []\n",
        "            if e.response.status_code == 404:\n",
        "                tqdm.write(f\"API 요청 실패 (404 Not Found). TMDB ID: {tmdb_id_from_df}. URL: {url}\")\n",
        "                error_msg_list = [\"Error: Item Not Found (404)\"]\n",
        "            else:\n",
        "                tqdm.write(f\"API 요청 실패. TMDB ID: {tmdb_id_from_df}. Status: {e.response.status_code}. URL: {url}. Error: {e}\")\n",
        "                error_msg_list = [f\"Error: API HTTP {e.response.status_code}\"]\n",
        "            try:\n",
        "                df.at[index, 'genres'] = error_msg_list\n",
        "            except Exception as assign_e:\n",
        "                print(f\"!!!!! CRITICAL ERROR during assignment in HTTPError except block for index {index}: {assign_e}\")\n",
        "\n",
        "        except requests.exceptions.RequestException as e:\n",
        "            tqdm.write(f\"API 연결 오류. TMDB ID: {tmdb_id_from_df}. URL: {url}. Error: {e}\")\n",
        "            try:\n",
        "                df.at[index, 'genres'] = [\"Error: API Connection Failed\"]\n",
        "            except Exception as assign_e:\n",
        "                print(f\"!!!!! CRITICAL ERROR during assignment in RequestException except block for index {index}: {assign_e}\")\n",
        "\n",
        "        except ValueError as e:\n",
        "            tqdm.write(f\"JSON 파싱 실패. TMDB ID: {tmdb_id_from_df}. URL: {url}. Error: {e}. Response text: {response_text_snippet}\")\n",
        "            try:\n",
        "                df.at[index, 'genres'] = [\"Error: JSON Parse Failed\"]\n",
        "            except Exception as assign_e:\n",
        "                print(f\"!!!!! CRITICAL ERROR during assignment in ValueError except block for index {index}: {assign_e}\")\n",
        "                print(f\"Attempted to assign: {['Error: JSON Parse Failed']}\")\n",
        "\n",
        "\n",
        "        except Exception as e:\n",
        "            tqdm.write(f\"처리 중 알 수 없는 오류 발생. TMDB ID: {tmdb_id_from_df}. URL: {url}. Error: {e}\")\n",
        "            try:\n",
        "                df.at[index, 'genres'] = [\"Error: Unknown Processing Error\"]\n",
        "            except Exception as assign_e:\n",
        "                print(f\"!!!!! CRITICAL ERROR during assignment in Generic Exception except block for index {index}: {assign_e}\")\n",
        "\n",
        "\n",
        "print(\"\\n--- FINAL DataFrame ---\")\n",
        "print(df[['id', 'category', 'genres']].head(10))\n",
        "print(\"\\n--- FINAL df.info() ---\")\n",
        "df.info()"
      ],
      "metadata": {
        "colab": {
          "base_uri": "https://localhost:8080/"
        },
        "id": "_W7Cttydp9v_",
        "outputId": "8c82c2d7-81db-4a28-e9aa-7b0987d04e31"
      },
      "execution_count": null,
      "outputs": [
        {
          "output_type": "stream",
          "name": "stdout",
          "text": [
            "Re-initializing existing 'genres' column.\n",
            "\n",
            "--- DEBUGGING INFORMATION (AFTER 'genres' INIT with .at) ---\n",
            "df['genres'].dtype: object\n",
            "First 3 values of df['genres']:\n",
            "[[], [], []]\n",
            "Test assignment to df.at[df.index[0], 'genres'] successful. Value: ['Test Assignment']\n",
            "Test reset to df.at[df.index[0], 'genres'] with [] successful. Value: []\n",
            "-----------------------------------------------------\n",
            "\n",
            "Starting API calls...\n",
            "\n"
          ]
        },
        {
          "output_type": "stream",
          "name": "stderr",
          "text": [
            "Fetching TMDB Genres: 100%|██████████| 7682/7682 [10:33<00:00, 12.14it/s]"
          ]
        },
        {
          "output_type": "stream",
          "name": "stdout",
          "text": [
            "\n",
            "--- FINAL DataFrame ---\n",
            "        id         category                     genres\n",
            "0  1151039  Films (English)                   [Comedy]\n",
            "1   619278  Films (English)  [Action, Crime, Thriller]\n",
            "2  1466938  Films (English)       [Documentary, Crime]\n",
            "3   668489  Films (English)  [Action, Crime, Thriller]\n",
            "4     8966  Films (English)  [Fantasy, Drama, Romance]\n",
            "5   682507  Films (English)  [Drama, Mystery, Romance]\n",
            "6   110538  Films (English)          [Comedy, Romance]\n",
            "7    62320  Films (English)              [Documentary]\n",
            "8  1462776  Films (English)              [Documentary]\n",
            "9   917496  Films (English)  [Horror, Comedy, Fantasy]\n",
            "\n",
            "--- FINAL df.info() ---\n",
            "<class 'pandas.core.frame.DataFrame'>\n",
            "RangeIndex: 7682 entries, 0 to 7681\n",
            "Data columns (total 9 columns):\n",
            " #   Column                      Non-Null Count  Dtype  \n",
            "---  ------                      --------------  -----  \n",
            " 0   week                        7682 non-null   object \n",
            " 1   category                    7682 non-null   object \n",
            " 2   show_title                  7682 non-null   object \n",
            " 3   weekly_hours_viewed         7682 non-null   int64  \n",
            " 4   runtime                     3786 non-null   float64\n",
            " 5   weekly_views                3786 non-null   Int64  \n",
            " 6   cumulative_weeks_in_top_10  7682 non-null   int64  \n",
            " 7   id                          7682 non-null   Int64  \n",
            " 8   genres                      7682 non-null   object \n",
            "dtypes: Int64(2), float64(1), int64(2), object(4)\n",
            "memory usage: 555.3+ KB\n"
          ]
        },
        {
          "output_type": "stream",
          "name": "stderr",
          "text": [
            "\n"
          ]
        }
      ]
    },
    {
      "cell_type": "markdown",
      "source": [
        "# 3.2. 키워드 불러오기"
      ],
      "metadata": {
        "id": "6-seJDPoht2_"
      }
    },
    {
      "cell_type": "code",
      "source": [
        "import pandas as pd\n",
        "import requests\n",
        "from tqdm import tqdm\n",
        "import time\n",
        "from dotenv import load_dotenv\n",
        "\n",
        "# .env 파일에서 api키 받아오기\n",
        "load_dotenv()\n",
        "API_KEY = os.getenv('API_KEY')\n",
        "\n",
        "print(f\"API Key loaded: {API_KEY[:5]}...\" if API_KEY else \"No API key found\")\n",
        "\n",
        "\n",
        "if 'df' not in locals() or not isinstance(df, pd.DataFrame):\n",
        "    print(\"!!! 'df' DataFrame이 정의되지 않았습니다. 스크립트 상단에서 로드해주세요. !!!\")\n",
        "    exit()\n",
        "\n",
        "if 'keywords' not in df.columns:\n",
        "    print(\"Initializing 'keywords' column.\")\n",
        "    df['keywords'] = pd.Series([None for _ in range(len(df))], index=df.index, dtype=object)\n",
        "    for i in df.index:\n",
        "        df.at[i, 'keywords'] = []\n",
        "else:\n",
        "    print(\"Re-initializing existing 'keywords' column.\")\n",
        "    for i in df.index:\n",
        "        df.at[i, 'keywords'] = []\n",
        "\n",
        "\n",
        "print(\"\\n--- DEBUGGING INFORMATION (AFTER 'keywords' INIT with .at) ---\")\n",
        "if 'keywords' in df.columns:\n",
        "    print(f\"df['keywords'].dtype: {df['keywords'].dtype}\")\n",
        "    print(f\"First 3 values of df['keywords']:\\n{df['keywords'].head(3).tolist()}\")\n",
        "    try:\n",
        "        if len(df) > 0:\n",
        "            temp_list = [\"Test Assignment\"]\n",
        "            df.at[df.index[0], 'keywords'] = temp_list\n",
        "            print(f\"Test assignment to df.at[df.index[0], 'keywords'] successful. Value: {df.at[df.index[0], 'keywords']}\")\n",
        "            df.at[df.index[0], 'keywords'] = []\n",
        "            print(f\"Test reset to df.at[df.index[0], 'keywords'] with [] successful. Value: {df.at[df.index[0], 'keywords']}\")\n",
        "        else:\n",
        "            print(\"DataFrame is empty, skipping test assignment.\")\n",
        "    except Exception as e:\n",
        "        print(f\"!!! ERROR during test assignment to df.at['keywords']: {e}\")\n",
        "else:\n",
        "    print(\"'keywords' column not found after initialization attempt.\")\n",
        "print(\"-----------------------------------------------------\")\n",
        "\n",
        "\n",
        "headers = {\n",
        "    \"accept\": \"application/json\",\n",
        "    \"Authorization\": f\"Bearer {API_KEY}\"\n",
        "}\n",
        "\n",
        "print(\"\\nStarting API calls...\\n\")\n",
        "\n",
        "for index, row in tqdm(df.iterrows(), total=df.shape[0], desc=\"Fetching TMDB Keywords\"):\n",
        "    tmdb_id_from_df = None\n",
        "    try:\n",
        "        tmdb_id_from_df = int(row['id'])\n",
        "    except (ValueError, TypeError, KeyError) as e:\n",
        "        tqdm.write(f\"Skipping row {index} (Original ID: {row.get('id', 'N/A')}): Invalid or missing TMDB ID. Error: {e}\")\n",
        "        try:\n",
        "            df.at[index, 'keywords'] = [\"Error: Invalid TMDB ID in source\"]\n",
        "        except Exception as assign_e:\n",
        "            print(f\"!!!!! CRITICAL ERROR during assignment in (ValueError/TypeError/KeyError) except block for index {index}: {assign_e}\")\n",
        "        continue\n",
        "\n",
        "    category = row.get('category')\n",
        "    url = None\n",
        "\n",
        "    if category == \"Films (English)\" or category == \"Films (Non-English)\":\n",
        "        url = f\"https://api.themoviedb.org/3/movie/{tmdb_id_from_df}/keywords\"\n",
        "    elif category == \"TV (English)\" or category == \"TV (Non-English)\":\n",
        "        url = f\"https://api.themoviedb.org/3/tv/{tmdb_id_from_df}/keywords\"\n",
        "    else:\n",
        "        tqdm.write(f\"카테고리 오류. TMDB ID: {tmdb_id_from_df}, Category: {category}\")\n",
        "        try:\n",
        "            df.at[index, 'keywords'] = [f\"Error: Invalid Category '{category}'\"]\n",
        "        except Exception as assign_e:\n",
        "            print(f\"!!!!! CRITICAL ERROR during assignment in category 'else' block for index {index}: {assign_e}\")\n",
        "        continue\n",
        "\n",
        "    if url:\n",
        "        response_text_snippet = \"Response not captured yet\"\n",
        "        try:\n",
        "            response = requests.get(url, headers=headers)\n",
        "            response_text_snippet = response.text[:200] if response and hasattr(response, 'text') else \"Response has no text or is None\"\n",
        "            response.raise_for_status()\n",
        "            data = response.json()\n",
        "\n",
        "            keywords_data_list = []\n",
        "            if category == \"Films (English)\" or category == \"Films (Non-English)\":\n",
        "                keywords_data_list = data.get('keywords', [])\n",
        "            elif category == \"TV (English)\" or category == \"TV (Non-English)\":\n",
        "                keywords_data_list = data.get('results', [])\n",
        "\n",
        "            if keywords_data_list:\n",
        "                keyword_names = [kw_info['name'] for kw_info in keywords_data_list if 'name' in kw_info]\n",
        "                df.at[index, 'keywords'] = keyword_names\n",
        "            else:\n",
        "                df.at[index, 'keywords'] = []\n",
        "\n",
        "            # time.sleep(0.05)\n",
        "\n",
        "        except requests.exceptions.HTTPError as e:\n",
        "            error_msg_list = []\n",
        "            if e.response.status_code == 404:\n",
        "                tqdm.write(f\"API 요청 실패 (404 Not Found). TMDB ID: {tmdb_id_from_df}. URL: {url}\")\n",
        "                error_msg_list = [\"Error: Item Not Found (404)\"]\n",
        "            else:\n",
        "                tqdm.write(f\"API 요청 실패. TMDB ID: {tmdb_id_from_df}. Status: {e.response.status_code}. URL: {url}. Error: {e}\")\n",
        "                error_msg_list = [f\"Error: API HTTP {e.response.status_code}\"]\n",
        "            try:\n",
        "                df.at[index, 'keywords'] = error_msg_list\n",
        "            except Exception as assign_e:\n",
        "                print(f\"!!!!! CRITICAL ERROR during assignment in HTTPError except block for index {index}: {assign_e}\")\n",
        "\n",
        "        except requests.exceptions.RequestException as e:\n",
        "            tqdm.write(f\"API 연결 오류. TMDB ID: {tmdb_id_from_df}. URL: {url}. Error: {e}\")\n",
        "            try:\n",
        "                df.at[index, 'keywords'] = [\"Error: API Connection Failed\"]\n",
        "            except Exception as assign_e:\n",
        "                print(f\"!!!!! CRITICAL ERROR during assignment in RequestException except block for index {index}: {assign_e}\")\n",
        "\n",
        "        except ValueError as e:\n",
        "            tqdm.write(f\"JSON 파싱 실패. TMDB ID: {tmdb_id_from_df}. URL: {url}. Error: {e}. Response text: {response_text_snippet}\")\n",
        "            try:\n",
        "                df.at[index, 'keywords'] = [\"Error: JSON Parse Failed\"]\n",
        "            except Exception as assign_e:\n",
        "                print(f\"!!!!! CRITICAL ERROR during assignment in ValueError except block for index {index}: {assign_e}\")\n",
        "                print(f\"Attempted to assign: {['Error: JSON Parse Failed']}\")\n",
        "\n",
        "\n",
        "        except Exception as e:\n",
        "            tqdm.write(f\"처리 중 알 수 없는 오류 발생. TMDB ID: {tmdb_id_from_df}. URL: {url}. Error: {e}\")\n",
        "            try:\n",
        "                df.at[index, 'keywords'] = [\"Error: Unknown Processing Error\"]\n",
        "            except Exception as assign_e:\n",
        "                print(f\"!!!!! CRITICAL ERROR during assignment in Generic Exception except block for index {index}: {assign_e}\")\n",
        "\n",
        "\n",
        "print(\"\\n--- FINAL DataFrame ---\")\n",
        "print(df[['id', 'category', 'keywords']].head(10))\n",
        "print(\"\\n--- FINAL df.info() ---\")\n",
        "df.info()"
      ],
      "metadata": {
        "colab": {
          "base_uri": "https://localhost:8080/"
        },
        "id": "JvrYhbgFwvJX",
        "outputId": "74253ce4-3db7-416f-9e3d-217ceaaa28af"
      },
      "execution_count": null,
      "outputs": [
        {
          "output_type": "stream",
          "name": "stdout",
          "text": [
            "Initializing 'keywords' column.\n",
            "\n",
            "--- DEBUGGING INFORMATION (AFTER 'keywords' INIT with .at) ---\n",
            "df['keywords'].dtype: object\n",
            "First 3 values of df['keywords']:\n",
            "[[], [], []]\n",
            "Test assignment to df.at[df.index[0], 'keywords'] successful. Value: ['Test Assignment']\n",
            "Test reset to df.at[df.index[0], 'keywords'] with [] successful. Value: []\n",
            "-----------------------------------------------------\n",
            "\n",
            "Starting API calls...\n",
            "\n"
          ]
        },
        {
          "output_type": "stream",
          "name": "stderr",
          "text": [
            "Fetching TMDB Keywords: 100%|██████████| 7682/7682 [10:41<00:00, 11.98it/s]"
          ]
        },
        {
          "output_type": "stream",
          "name": "stdout",
          "text": [
            "\n",
            "--- FINAL DataFrame ---\n",
            "        id         category                                           keywords\n",
            "0  1151039  Films (English)  [restaurant, revitalization, based on true sto...\n",
            "1   619278  Films (English)  [neo-nazism, hostage-taking, bank robbery, hos...\n",
            "2  1466938  Films (English)                                       [true crime]\n",
            "3   668489  Films (English)  [winter, detective, rescue mission, shootout, ...\n",
            "4     8966  Films (English)  [high school, soulmates, based on novel or boo...\n",
            "5   682507  Films (English)  [based on novel or book, artist, bullying, alc...\n",
            "6   110538  Films (English)                                                 []\n",
            "7    62320  Films (English)  [climate change, earth, global warming, water ...\n",
            "8  1462776  Films (English)  [britain, bombing, united kingdom, london blit...\n",
            "9   917496  Films (English)  [afterlife, haunted house, sequel, paranormal,...\n",
            "\n",
            "--- FINAL df.info() ---\n",
            "<class 'pandas.core.frame.DataFrame'>\n",
            "RangeIndex: 7682 entries, 0 to 7681\n",
            "Data columns (total 10 columns):\n",
            " #   Column                      Non-Null Count  Dtype  \n",
            "---  ------                      --------------  -----  \n",
            " 0   week                        7682 non-null   object \n",
            " 1   category                    7682 non-null   object \n",
            " 2   show_title                  7682 non-null   object \n",
            " 3   weekly_hours_viewed         7682 non-null   int64  \n",
            " 4   runtime                     3786 non-null   float64\n",
            " 5   weekly_views                3786 non-null   Int64  \n",
            " 6   cumulative_weeks_in_top_10  7682 non-null   int64  \n",
            " 7   id                          7682 non-null   Int64  \n",
            " 8   genres                      7682 non-null   object \n",
            " 9   keywords                    7682 non-null   object \n",
            "dtypes: Int64(2), float64(1), int64(2), object(5)\n",
            "memory usage: 615.3+ KB\n"
          ]
        },
        {
          "output_type": "stream",
          "name": "stderr",
          "text": [
            "\n"
          ]
        }
      ]
    },
    {
      "cell_type": "code",
      "source": [
        "# csv 파일 저장하기\n",
        "df.to_csv('top-10_with_genres_keywords.csv', index=False)"
      ],
      "metadata": {
        "id": "3oGmm6AG5Mat"
      },
      "execution_count": null,
      "outputs": []
    },
    {
      "cell_type": "code",
      "source": [
        "# 저장한 csv 파일 확인\n",
        "df = pd.read_csv('top-10_with_genres_keywords.csv')\n",
        "df"
      ],
      "metadata": {
        "colab": {
          "base_uri": "https://localhost:8080/",
          "height": 982
        },
        "id": "qjZ8BvzWABBP",
        "outputId": "3c5bfae2-e1c4-4522-cb84-1a3db269cd22"
      },
      "execution_count": null,
      "outputs": [
        {
          "output_type": "execute_result",
          "data": {
            "text/plain": [
              "            week          category                  show_title  \\\n",
              "0     2025-05-11   Films (English)                      Nonnas   \n",
              "1     2025-05-11   Films (English)     Inside Man: Most Wanted   \n",
              "2     2025-05-11   Films (English)  A Deadly American Marriage   \n",
              "3     2025-05-11   Films (English)                       Havoc   \n",
              "4     2025-05-11   Films (English)                    Twilight   \n",
              "...          ...               ...                         ...   \n",
              "7677  2021-07-04  TV (Non-English)                       Elite   \n",
              "7678  2021-07-04  TV (Non-English)                       Elite   \n",
              "7679  2021-07-04  TV (Non-English)                       Elite   \n",
              "7680  2021-07-04  TV (Non-English)                       Katla   \n",
              "7681  2021-07-04  TV (Non-English)          Record of Ragnarok   \n",
              "\n",
              "      weekly_hours_viewed  runtime  weekly_views  cumulative_weeks_in_top_10  \\\n",
              "0                29000000   1.9000      15300000                           1   \n",
              "1                21800000   1.7667      12300000                           1   \n",
              "2                16900000   1.7167       9800000                           1   \n",
              "3                16300000   1.7833       9100000                           3   \n",
              "4                 8700000   2.0333       4300000                           4   \n",
              "...                   ...      ...           ...                         ...   \n",
              "7677             10530000   0.0000             0                           1   \n",
              "7678             10200000   0.0000             0                           1   \n",
              "7679             10140000   0.0000             0                           1   \n",
              "7680              9190000   0.0000             0                           1   \n",
              "7681              9140000   0.0000             0                           1   \n",
              "\n",
              "           id                                             genres  \\\n",
              "0     1151039                                         ['Comedy']   \n",
              "1      619278                    ['Action', 'Crime', 'Thriller']   \n",
              "2     1466938                           ['Documentary', 'Crime']   \n",
              "3      668489                    ['Action', 'Crime', 'Thriller']   \n",
              "4        8966                    ['Fantasy', 'Drama', 'Romance']   \n",
              "...       ...                                                ...   \n",
              "7677    76669                      ['Crime', 'Mystery', 'Drama']   \n",
              "7678    76669                      ['Crime', 'Mystery', 'Drama']   \n",
              "7679    76669                      ['Crime', 'Mystery', 'Drama']   \n",
              "7680   104157           ['Drama', 'Mystery', 'Sci-Fi & Fantasy']   \n",
              "7681   114868  ['Action & Adventure', 'Animation', 'Sci-Fi & ...   \n",
              "\n",
              "                                               keywords  \n",
              "0     ['restaurant', 'revitalization', 'based on tru...  \n",
              "1     ['neo-nazism', 'hostage-taking', 'bank robbery...  \n",
              "2                                        ['true crime']  \n",
              "3     ['winter', 'detective', 'rescue mission', 'sho...  \n",
              "4     ['high school', 'soulmates', 'based on novel o...  \n",
              "...                                                 ...  \n",
              "7677  ['love triangle', 'jealousy', 'infidelity', 's...  \n",
              "7678  ['love triangle', 'jealousy', 'infidelity', 's...  \n",
              "7679  ['love triangle', 'jealousy', 'infidelity', 's...  \n",
              "7680  ['small town', 'volcano', 'outbreak', 'volcani...  \n",
              "7681  ['fight', 'mythology', 'god', 'survival', 'tou...  \n",
              "\n",
              "[7682 rows x 10 columns]"
            ],
            "text/html": [
              "\n",
              "  <div id=\"df-7977745f-d473-40dd-a2eb-172d871dad8c\" class=\"colab-df-container\">\n",
              "    <div>\n",
              "<style scoped>\n",
              "    .dataframe tbody tr th:only-of-type {\n",
              "        vertical-align: middle;\n",
              "    }\n",
              "\n",
              "    .dataframe tbody tr th {\n",
              "        vertical-align: top;\n",
              "    }\n",
              "\n",
              "    .dataframe thead th {\n",
              "        text-align: right;\n",
              "    }\n",
              "</style>\n",
              "<table border=\"1\" class=\"dataframe\">\n",
              "  <thead>\n",
              "    <tr style=\"text-align: right;\">\n",
              "      <th></th>\n",
              "      <th>week</th>\n",
              "      <th>category</th>\n",
              "      <th>show_title</th>\n",
              "      <th>weekly_hours_viewed</th>\n",
              "      <th>runtime</th>\n",
              "      <th>weekly_views</th>\n",
              "      <th>cumulative_weeks_in_top_10</th>\n",
              "      <th>id</th>\n",
              "      <th>genres</th>\n",
              "      <th>keywords</th>\n",
              "    </tr>\n",
              "  </thead>\n",
              "  <tbody>\n",
              "    <tr>\n",
              "      <th>0</th>\n",
              "      <td>2025-05-11</td>\n",
              "      <td>Films (English)</td>\n",
              "      <td>Nonnas</td>\n",
              "      <td>29000000</td>\n",
              "      <td>1.9000</td>\n",
              "      <td>15300000</td>\n",
              "      <td>1</td>\n",
              "      <td>1151039</td>\n",
              "      <td>['Comedy']</td>\n",
              "      <td>['restaurant', 'revitalization', 'based on tru...</td>\n",
              "    </tr>\n",
              "    <tr>\n",
              "      <th>1</th>\n",
              "      <td>2025-05-11</td>\n",
              "      <td>Films (English)</td>\n",
              "      <td>Inside Man: Most Wanted</td>\n",
              "      <td>21800000</td>\n",
              "      <td>1.7667</td>\n",
              "      <td>12300000</td>\n",
              "      <td>1</td>\n",
              "      <td>619278</td>\n",
              "      <td>['Action', 'Crime', 'Thriller']</td>\n",
              "      <td>['neo-nazism', 'hostage-taking', 'bank robbery...</td>\n",
              "    </tr>\n",
              "    <tr>\n",
              "      <th>2</th>\n",
              "      <td>2025-05-11</td>\n",
              "      <td>Films (English)</td>\n",
              "      <td>A Deadly American Marriage</td>\n",
              "      <td>16900000</td>\n",
              "      <td>1.7167</td>\n",
              "      <td>9800000</td>\n",
              "      <td>1</td>\n",
              "      <td>1466938</td>\n",
              "      <td>['Documentary', 'Crime']</td>\n",
              "      <td>['true crime']</td>\n",
              "    </tr>\n",
              "    <tr>\n",
              "      <th>3</th>\n",
              "      <td>2025-05-11</td>\n",
              "      <td>Films (English)</td>\n",
              "      <td>Havoc</td>\n",
              "      <td>16300000</td>\n",
              "      <td>1.7833</td>\n",
              "      <td>9100000</td>\n",
              "      <td>3</td>\n",
              "      <td>668489</td>\n",
              "      <td>['Action', 'Crime', 'Thriller']</td>\n",
              "      <td>['winter', 'detective', 'rescue mission', 'sho...</td>\n",
              "    </tr>\n",
              "    <tr>\n",
              "      <th>4</th>\n",
              "      <td>2025-05-11</td>\n",
              "      <td>Films (English)</td>\n",
              "      <td>Twilight</td>\n",
              "      <td>8700000</td>\n",
              "      <td>2.0333</td>\n",
              "      <td>4300000</td>\n",
              "      <td>4</td>\n",
              "      <td>8966</td>\n",
              "      <td>['Fantasy', 'Drama', 'Romance']</td>\n",
              "      <td>['high school', 'soulmates', 'based on novel o...</td>\n",
              "    </tr>\n",
              "    <tr>\n",
              "      <th>...</th>\n",
              "      <td>...</td>\n",
              "      <td>...</td>\n",
              "      <td>...</td>\n",
              "      <td>...</td>\n",
              "      <td>...</td>\n",
              "      <td>...</td>\n",
              "      <td>...</td>\n",
              "      <td>...</td>\n",
              "      <td>...</td>\n",
              "      <td>...</td>\n",
              "    </tr>\n",
              "    <tr>\n",
              "      <th>7677</th>\n",
              "      <td>2021-07-04</td>\n",
              "      <td>TV (Non-English)</td>\n",
              "      <td>Elite</td>\n",
              "      <td>10530000</td>\n",
              "      <td>0.0000</td>\n",
              "      <td>0</td>\n",
              "      <td>1</td>\n",
              "      <td>76669</td>\n",
              "      <td>['Crime', 'Mystery', 'Drama']</td>\n",
              "      <td>['love triangle', 'jealousy', 'infidelity', 's...</td>\n",
              "    </tr>\n",
              "    <tr>\n",
              "      <th>7678</th>\n",
              "      <td>2021-07-04</td>\n",
              "      <td>TV (Non-English)</td>\n",
              "      <td>Elite</td>\n",
              "      <td>10200000</td>\n",
              "      <td>0.0000</td>\n",
              "      <td>0</td>\n",
              "      <td>1</td>\n",
              "      <td>76669</td>\n",
              "      <td>['Crime', 'Mystery', 'Drama']</td>\n",
              "      <td>['love triangle', 'jealousy', 'infidelity', 's...</td>\n",
              "    </tr>\n",
              "    <tr>\n",
              "      <th>7679</th>\n",
              "      <td>2021-07-04</td>\n",
              "      <td>TV (Non-English)</td>\n",
              "      <td>Elite</td>\n",
              "      <td>10140000</td>\n",
              "      <td>0.0000</td>\n",
              "      <td>0</td>\n",
              "      <td>1</td>\n",
              "      <td>76669</td>\n",
              "      <td>['Crime', 'Mystery', 'Drama']</td>\n",
              "      <td>['love triangle', 'jealousy', 'infidelity', 's...</td>\n",
              "    </tr>\n",
              "    <tr>\n",
              "      <th>7680</th>\n",
              "      <td>2021-07-04</td>\n",
              "      <td>TV (Non-English)</td>\n",
              "      <td>Katla</td>\n",
              "      <td>9190000</td>\n",
              "      <td>0.0000</td>\n",
              "      <td>0</td>\n",
              "      <td>1</td>\n",
              "      <td>104157</td>\n",
              "      <td>['Drama', 'Mystery', 'Sci-Fi &amp; Fantasy']</td>\n",
              "      <td>['small town', 'volcano', 'outbreak', 'volcani...</td>\n",
              "    </tr>\n",
              "    <tr>\n",
              "      <th>7681</th>\n",
              "      <td>2021-07-04</td>\n",
              "      <td>TV (Non-English)</td>\n",
              "      <td>Record of Ragnarok</td>\n",
              "      <td>9140000</td>\n",
              "      <td>0.0000</td>\n",
              "      <td>0</td>\n",
              "      <td>1</td>\n",
              "      <td>114868</td>\n",
              "      <td>['Action &amp; Adventure', 'Animation', 'Sci-Fi &amp; ...</td>\n",
              "      <td>['fight', 'mythology', 'god', 'survival', 'tou...</td>\n",
              "    </tr>\n",
              "  </tbody>\n",
              "</table>\n",
              "<p>7682 rows × 10 columns</p>\n",
              "</div>\n",
              "    <div class=\"colab-df-buttons\">\n",
              "\n",
              "  <div class=\"colab-df-container\">\n",
              "    <button class=\"colab-df-convert\" onclick=\"convertToInteractive('df-7977745f-d473-40dd-a2eb-172d871dad8c')\"\n",
              "            title=\"Convert this dataframe to an interactive table.\"\n",
              "            style=\"display:none;\">\n",
              "\n",
              "  <svg xmlns=\"http://www.w3.org/2000/svg\" height=\"24px\" viewBox=\"0 -960 960 960\">\n",
              "    <path d=\"M120-120v-720h720v720H120Zm60-500h600v-160H180v160Zm220 220h160v-160H400v160Zm0 220h160v-160H400v160ZM180-400h160v-160H180v160Zm440 0h160v-160H620v160ZM180-180h160v-160H180v160Zm440 0h160v-160H620v160Z\"/>\n",
              "  </svg>\n",
              "    </button>\n",
              "\n",
              "  <style>\n",
              "    .colab-df-container {\n",
              "      display:flex;\n",
              "      gap: 12px;\n",
              "    }\n",
              "\n",
              "    .colab-df-convert {\n",
              "      background-color: #E8F0FE;\n",
              "      border: none;\n",
              "      border-radius: 50%;\n",
              "      cursor: pointer;\n",
              "      display: none;\n",
              "      fill: #1967D2;\n",
              "      height: 32px;\n",
              "      padding: 0 0 0 0;\n",
              "      width: 32px;\n",
              "    }\n",
              "\n",
              "    .colab-df-convert:hover {\n",
              "      background-color: #E2EBFA;\n",
              "      box-shadow: 0px 1px 2px rgba(60, 64, 67, 0.3), 0px 1px 3px 1px rgba(60, 64, 67, 0.15);\n",
              "      fill: #174EA6;\n",
              "    }\n",
              "\n",
              "    .colab-df-buttons div {\n",
              "      margin-bottom: 4px;\n",
              "    }\n",
              "\n",
              "    [theme=dark] .colab-df-convert {\n",
              "      background-color: #3B4455;\n",
              "      fill: #D2E3FC;\n",
              "    }\n",
              "\n",
              "    [theme=dark] .colab-df-convert:hover {\n",
              "      background-color: #434B5C;\n",
              "      box-shadow: 0px 1px 3px 1px rgba(0, 0, 0, 0.15);\n",
              "      filter: drop-shadow(0px 1px 2px rgba(0, 0, 0, 0.3));\n",
              "      fill: #FFFFFF;\n",
              "    }\n",
              "  </style>\n",
              "\n",
              "    <script>\n",
              "      const buttonEl =\n",
              "        document.querySelector('#df-7977745f-d473-40dd-a2eb-172d871dad8c button.colab-df-convert');\n",
              "      buttonEl.style.display =\n",
              "        google.colab.kernel.accessAllowed ? 'block' : 'none';\n",
              "\n",
              "      async function convertToInteractive(key) {\n",
              "        const element = document.querySelector('#df-7977745f-d473-40dd-a2eb-172d871dad8c');\n",
              "        const dataTable =\n",
              "          await google.colab.kernel.invokeFunction('convertToInteractive',\n",
              "                                                    [key], {});\n",
              "        if (!dataTable) return;\n",
              "\n",
              "        const docLinkHtml = 'Like what you see? Visit the ' +\n",
              "          '<a target=\"_blank\" href=https://colab.research.google.com/notebooks/data_table.ipynb>data table notebook</a>'\n",
              "          + ' to learn more about interactive tables.';\n",
              "        element.innerHTML = '';\n",
              "        dataTable['output_type'] = 'display_data';\n",
              "        await google.colab.output.renderOutput(dataTable, element);\n",
              "        const docLink = document.createElement('div');\n",
              "        docLink.innerHTML = docLinkHtml;\n",
              "        element.appendChild(docLink);\n",
              "      }\n",
              "    </script>\n",
              "  </div>\n",
              "\n",
              "\n",
              "    <div id=\"df-c6e934df-b871-4bc2-84a8-4924d3cf8d67\">\n",
              "      <button class=\"colab-df-quickchart\" onclick=\"quickchart('df-c6e934df-b871-4bc2-84a8-4924d3cf8d67')\"\n",
              "                title=\"Suggest charts\"\n",
              "                style=\"display:none;\">\n",
              "\n",
              "<svg xmlns=\"http://www.w3.org/2000/svg\" height=\"24px\"viewBox=\"0 0 24 24\"\n",
              "     width=\"24px\">\n",
              "    <g>\n",
              "        <path d=\"M19 3H5c-1.1 0-2 .9-2 2v14c0 1.1.9 2 2 2h14c1.1 0 2-.9 2-2V5c0-1.1-.9-2-2-2zM9 17H7v-7h2v7zm4 0h-2V7h2v10zm4 0h-2v-4h2v4z\"/>\n",
              "    </g>\n",
              "</svg>\n",
              "      </button>\n",
              "\n",
              "<style>\n",
              "  .colab-df-quickchart {\n",
              "      --bg-color: #E8F0FE;\n",
              "      --fill-color: #1967D2;\n",
              "      --hover-bg-color: #E2EBFA;\n",
              "      --hover-fill-color: #174EA6;\n",
              "      --disabled-fill-color: #AAA;\n",
              "      --disabled-bg-color: #DDD;\n",
              "  }\n",
              "\n",
              "  [theme=dark] .colab-df-quickchart {\n",
              "      --bg-color: #3B4455;\n",
              "      --fill-color: #D2E3FC;\n",
              "      --hover-bg-color: #434B5C;\n",
              "      --hover-fill-color: #FFFFFF;\n",
              "      --disabled-bg-color: #3B4455;\n",
              "      --disabled-fill-color: #666;\n",
              "  }\n",
              "\n",
              "  .colab-df-quickchart {\n",
              "    background-color: var(--bg-color);\n",
              "    border: none;\n",
              "    border-radius: 50%;\n",
              "    cursor: pointer;\n",
              "    display: none;\n",
              "    fill: var(--fill-color);\n",
              "    height: 32px;\n",
              "    padding: 0;\n",
              "    width: 32px;\n",
              "  }\n",
              "\n",
              "  .colab-df-quickchart:hover {\n",
              "    background-color: var(--hover-bg-color);\n",
              "    box-shadow: 0 1px 2px rgba(60, 64, 67, 0.3), 0 1px 3px 1px rgba(60, 64, 67, 0.15);\n",
              "    fill: var(--button-hover-fill-color);\n",
              "  }\n",
              "\n",
              "  .colab-df-quickchart-complete:disabled,\n",
              "  .colab-df-quickchart-complete:disabled:hover {\n",
              "    background-color: var(--disabled-bg-color);\n",
              "    fill: var(--disabled-fill-color);\n",
              "    box-shadow: none;\n",
              "  }\n",
              "\n",
              "  .colab-df-spinner {\n",
              "    border: 2px solid var(--fill-color);\n",
              "    border-color: transparent;\n",
              "    border-bottom-color: var(--fill-color);\n",
              "    animation:\n",
              "      spin 1s steps(1) infinite;\n",
              "  }\n",
              "\n",
              "  @keyframes spin {\n",
              "    0% {\n",
              "      border-color: transparent;\n",
              "      border-bottom-color: var(--fill-color);\n",
              "      border-left-color: var(--fill-color);\n",
              "    }\n",
              "    20% {\n",
              "      border-color: transparent;\n",
              "      border-left-color: var(--fill-color);\n",
              "      border-top-color: var(--fill-color);\n",
              "    }\n",
              "    30% {\n",
              "      border-color: transparent;\n",
              "      border-left-color: var(--fill-color);\n",
              "      border-top-color: var(--fill-color);\n",
              "      border-right-color: var(--fill-color);\n",
              "    }\n",
              "    40% {\n",
              "      border-color: transparent;\n",
              "      border-right-color: var(--fill-color);\n",
              "      border-top-color: var(--fill-color);\n",
              "    }\n",
              "    60% {\n",
              "      border-color: transparent;\n",
              "      border-right-color: var(--fill-color);\n",
              "    }\n",
              "    80% {\n",
              "      border-color: transparent;\n",
              "      border-right-color: var(--fill-color);\n",
              "      border-bottom-color: var(--fill-color);\n",
              "    }\n",
              "    90% {\n",
              "      border-color: transparent;\n",
              "      border-bottom-color: var(--fill-color);\n",
              "    }\n",
              "  }\n",
              "</style>\n",
              "\n",
              "      <script>\n",
              "        async function quickchart(key) {\n",
              "          const quickchartButtonEl =\n",
              "            document.querySelector('#' + key + ' button');\n",
              "          quickchartButtonEl.disabled = true;  // To prevent multiple clicks.\n",
              "          quickchartButtonEl.classList.add('colab-df-spinner');\n",
              "          try {\n",
              "            const charts = await google.colab.kernel.invokeFunction(\n",
              "                'suggestCharts', [key], {});\n",
              "          } catch (error) {\n",
              "            console.error('Error during call to suggestCharts:', error);\n",
              "          }\n",
              "          quickchartButtonEl.classList.remove('colab-df-spinner');\n",
              "          quickchartButtonEl.classList.add('colab-df-quickchart-complete');\n",
              "        }\n",
              "        (() => {\n",
              "          let quickchartButtonEl =\n",
              "            document.querySelector('#df-c6e934df-b871-4bc2-84a8-4924d3cf8d67 button');\n",
              "          quickchartButtonEl.style.display =\n",
              "            google.colab.kernel.accessAllowed ? 'block' : 'none';\n",
              "        })();\n",
              "      </script>\n",
              "    </div>\n",
              "\n",
              "  <div id=\"id_d564f739-d299-45dc-9c94-0910bb8272be\">\n",
              "    <style>\n",
              "      .colab-df-generate {\n",
              "        background-color: #E8F0FE;\n",
              "        border: none;\n",
              "        border-radius: 50%;\n",
              "        cursor: pointer;\n",
              "        display: none;\n",
              "        fill: #1967D2;\n",
              "        height: 32px;\n",
              "        padding: 0 0 0 0;\n",
              "        width: 32px;\n",
              "      }\n",
              "\n",
              "      .colab-df-generate:hover {\n",
              "        background-color: #E2EBFA;\n",
              "        box-shadow: 0px 1px 2px rgba(60, 64, 67, 0.3), 0px 1px 3px 1px rgba(60, 64, 67, 0.15);\n",
              "        fill: #174EA6;\n",
              "      }\n",
              "\n",
              "      [theme=dark] .colab-df-generate {\n",
              "        background-color: #3B4455;\n",
              "        fill: #D2E3FC;\n",
              "      }\n",
              "\n",
              "      [theme=dark] .colab-df-generate:hover {\n",
              "        background-color: #434B5C;\n",
              "        box-shadow: 0px 1px 3px 1px rgba(0, 0, 0, 0.15);\n",
              "        filter: drop-shadow(0px 1px 2px rgba(0, 0, 0, 0.3));\n",
              "        fill: #FFFFFF;\n",
              "      }\n",
              "    </style>\n",
              "    <button class=\"colab-df-generate\" onclick=\"generateWithVariable('df')\"\n",
              "            title=\"Generate code using this dataframe.\"\n",
              "            style=\"display:none;\">\n",
              "\n",
              "  <svg xmlns=\"http://www.w3.org/2000/svg\" height=\"24px\"viewBox=\"0 0 24 24\"\n",
              "       width=\"24px\">\n",
              "    <path d=\"M7,19H8.4L18.45,9,17,7.55,7,17.6ZM5,21V16.75L18.45,3.32a2,2,0,0,1,2.83,0l1.4,1.43a1.91,1.91,0,0,1,.58,1.4,1.91,1.91,0,0,1-.58,1.4L9.25,21ZM18.45,9,17,7.55Zm-12,3A5.31,5.31,0,0,0,4.9,8.1,5.31,5.31,0,0,0,1,6.5,5.31,5.31,0,0,0,4.9,4.9,5.31,5.31,0,0,0,6.5,1,5.31,5.31,0,0,0,8.1,4.9,5.31,5.31,0,0,0,12,6.5,5.46,5.46,0,0,0,6.5,12Z\"/>\n",
              "  </svg>\n",
              "    </button>\n",
              "    <script>\n",
              "      (() => {\n",
              "      const buttonEl =\n",
              "        document.querySelector('#id_d564f739-d299-45dc-9c94-0910bb8272be button.colab-df-generate');\n",
              "      buttonEl.style.display =\n",
              "        google.colab.kernel.accessAllowed ? 'block' : 'none';\n",
              "\n",
              "      buttonEl.onclick = () => {\n",
              "        google.colab.notebook.generateWithVariable('df');\n",
              "      }\n",
              "      })();\n",
              "    </script>\n",
              "  </div>\n",
              "\n",
              "    </div>\n",
              "  </div>\n"
            ],
            "application/vnd.google.colaboratory.intrinsic+json": {
              "type": "dataframe",
              "variable_name": "df",
              "summary": "{\n  \"name\": \"df\",\n  \"rows\": 7682,\n  \"fields\": [\n    {\n      \"column\": \"week\",\n      \"properties\": {\n        \"dtype\": \"object\",\n        \"num_unique_values\": 202,\n        \"samples\": [\n          \"2023-07-16\",\n          \"2025-01-26\",\n          \"2024-10-13\"\n        ],\n        \"semantic_type\": \"\",\n        \"description\": \"\"\n      }\n    },\n    {\n      \"column\": \"category\",\n      \"properties\": {\n        \"dtype\": \"category\",\n        \"num_unique_values\": 4,\n        \"samples\": [\n          \"Films (Non-English)\",\n          \"TV (Non-English)\",\n          \"Films (English)\"\n        ],\n        \"semantic_type\": \"\",\n        \"description\": \"\"\n      }\n    },\n    {\n      \"column\": \"show_title\",\n      \"properties\": {\n        \"dtype\": \"category\",\n        \"num_unique_values\": 2393,\n        \"samples\": [\n          \"Unhinged\",\n          \"Love Never Lies: Poland\",\n          \"Vaathi\"\n        ],\n        \"semantic_type\": \"\",\n        \"description\": \"\"\n      }\n    },\n    {\n      \"column\": \"weekly_hours_viewed\",\n      \"properties\": {\n        \"dtype\": \"number\",\n        \"std\": 25562583,\n        \"min\": 700000,\n        \"max\": 571760000,\n        \"num_unique_values\": 2814,\n        \"samples\": [\n          13200000,\n          4790000,\n          15550000\n        ],\n        \"semantic_type\": \"\",\n        \"description\": \"\"\n      }\n    },\n    {\n      \"column\": \"runtime\",\n      \"properties\": {\n        \"dtype\": \"number\",\n        \"std\": 2.8800991059369703,\n        \"min\": 0.0,\n        \"max\": 47.5833,\n        \"num_unique_values\": 469,\n        \"samples\": [\n          1.6,\n          5.35,\n          6.0167\n        ],\n        \"semantic_type\": \"\",\n        \"description\": \"\"\n      }\n    },\n    {\n      \"column\": \"weekly_views\",\n      \"properties\": {\n        \"dtype\": \"number\",\n        \"std\": 4474419,\n        \"min\": 0,\n        \"max\": 68000000,\n        \"num_unique_values\": 264,\n        \"samples\": [\n          3300000,\n          33100000,\n          4000000\n        ],\n        \"semantic_type\": \"\",\n        \"description\": \"\"\n      }\n    },\n    {\n      \"column\": \"cumulative_weeks_in_top_10\",\n      \"properties\": {\n        \"dtype\": \"number\",\n        \"std\": 3,\n        \"min\": 1,\n        \"max\": 30,\n        \"num_unique_values\": 30,\n        \"samples\": [\n          23,\n          13,\n          27\n        ],\n        \"semantic_type\": \"\",\n        \"description\": \"\"\n      }\n    },\n    {\n      \"column\": \"id\",\n      \"properties\": {\n        \"dtype\": \"number\",\n        \"std\": 394387,\n        \"min\": 55,\n        \"max\": 1481983,\n        \"num_unique_values\": 2397,\n        \"samples\": [\n          625568,\n          217309,\n          1074536\n        ],\n        \"semantic_type\": \"\",\n        \"description\": \"\"\n      }\n    },\n    {\n      \"column\": \"genres\",\n      \"properties\": {\n        \"dtype\": \"category\",\n        \"num_unique_values\": 704,\n        \"samples\": [\n          \"['Animation', 'Comedy', 'Drama']\",\n          \"['Horror', 'Science Fiction', 'Thriller']\",\n          \"['Crime', 'Thriller']\"\n        ],\n        \"semantic_type\": \"\",\n        \"description\": \"\"\n      }\n    },\n    {\n      \"column\": \"keywords\",\n      \"properties\": {\n        \"dtype\": \"category\",\n        \"num_unique_values\": 1922,\n        \"samples\": [\n          \"['crocodile', 'musical', \\\"based on children's book\\\", 'outsider', 'live action and animation', 'talking animal']\",\n          \"['vikings (norsemen)', 'historical fiction', 'king', 'historical drama', 'costume drama', 'saxons', '9th century']\",\n          \"['romantic dramedy']\"\n        ],\n        \"semantic_type\": \"\",\n        \"description\": \"\"\n      }\n    }\n  ]\n}"
            }
          },
          "metadata": {},
          "execution_count": 49
        }
      ]
    }
  ]
}